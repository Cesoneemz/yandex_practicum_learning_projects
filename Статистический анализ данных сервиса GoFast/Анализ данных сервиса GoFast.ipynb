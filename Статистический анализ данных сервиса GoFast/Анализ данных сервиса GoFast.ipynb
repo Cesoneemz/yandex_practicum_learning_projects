{
 "cells": [
  {
   "cell_type": "markdown",
   "id": "469c0fc5",
   "metadata": {},
   "source": [
    "# Анализ данных и проверка гипотез сервиса GoFast\n",
    "\n",
    "Мне были переданы данные некоторых пользователей сервиса GoFast. В данном проекте я анализирую эти данные и проверяю различные гипотезы, которые могут помочь сервису нарастить свою прибыль.\n",
    "\n",
    "**Столбцы датасета users:**\n",
    "- `user_id` — уникальный идентификатор пользователя\n",
    "- `name` - имя пользователя\n",
    "- `age` - возраст\n",
    "- `city` - город\n",
    "- `subscription_type` - тип подписки (free, ultra)\n",
    "\n",
    "**Столбцы датасета rides:**\n",
    "- `user_id` - уникальный идентификатор пользователя\n",
    "- `distance` - расстояние, которое пользователь проехал в текущей сессии (в метрах)\n",
    "- `duration` - продолжительность сессии (в минутах) — время с того момента, как пользователь нажал кнопку «Начать поездку» до момента, как он нажал кнопку «Завершить поездку»\n",
    "- `date` - дата совершения поездки\n",
    "\n",
    "**Столбцы датасета subscriptions:**\n",
    "- `subscription_type` - тип подписки\n",
    "- `minute_price` - стоимость одной минуты поездки по данной подписке\n",
    "- `start_ride_price` - стоимость начала поездки\n",
    "- `subscription_fee` - стоимость ежемесячного платежа"
   ]
  },
  {
   "cell_type": "code",
   "execution_count": 31,
   "id": "72576667",
   "metadata": {},
   "outputs": [],
   "source": [
    "import pandas as pd\n",
    "import numpy as np\n",
    "import matplotlib.pyplot as plt\n",
    "from scipy import stats as st\n",
    "import seaborn as sns"
   ]
  },
  {
   "cell_type": "markdown",
   "id": "c42cbe00",
   "metadata": {},
   "source": [
    "#### Шаг 1. Загрузка данных"
   ]
  },
  {
   "cell_type": "code",
   "execution_count": 32,
   "id": "eff9f206",
   "metadata": {},
   "outputs": [],
   "source": [
    "users = pd.read_csv('/datasets/users_go.csv')\n",
    "rides = pd.read_csv('/datasets/rides_go.csv')\n",
    "subscriptions = pd.read_csv('/datasets/subscriptions_go.csv')"
   ]
  },
  {
   "cell_type": "markdown",
   "id": "e95ebca7",
   "metadata": {},
   "source": [
    "#### Шаг 2. Предобработка данных"
   ]
  },
  {
   "cell_type": "code",
   "execution_count": 33,
   "id": "41acf7a9",
   "metadata": {},
   "outputs": [
    {
     "name": "stdout",
     "output_type": "stream",
     "text": [
      "<class 'pandas.core.frame.DataFrame'>\n",
      "RangeIndex: 18068 entries, 0 to 18067\n",
      "Data columns (total 4 columns):\n",
      " #   Column    Non-Null Count  Dtype  \n",
      "---  ------    --------------  -----  \n",
      " 0   user_id   18068 non-null  int64  \n",
      " 1   distance  18068 non-null  float64\n",
      " 2   duration  18068 non-null  float64\n",
      " 3   date      18068 non-null  object \n",
      "dtypes: float64(2), int64(1), object(1)\n",
      "memory usage: 564.8+ KB\n"
     ]
    }
   ],
   "source": [
    "rides.info()"
   ]
  },
  {
   "cell_type": "code",
   "execution_count": 34,
   "id": "3b248986",
   "metadata": {},
   "outputs": [
    {
     "data": {
      "text/plain": [
       "0       2021-01-01\n",
       "1       2021-01-18\n",
       "2       2021-04-20\n",
       "3       2021-08-11\n",
       "4       2021-08-28\n",
       "           ...    \n",
       "18063   2021-11-04\n",
       "18064   2021-11-16\n",
       "18065   2021-11-18\n",
       "18066   2021-11-27\n",
       "18067   2021-12-29\n",
       "Name: date, Length: 18068, dtype: datetime64[ns]"
      ]
     },
     "execution_count": 34,
     "metadata": {},
     "output_type": "execute_result"
    }
   ],
   "source": [
    "rides['date'] = pd.to_datetime(rides['date'], format='%Y-%m-%d')\n",
    "rides['date']"
   ]
  },
  {
   "cell_type": "code",
   "execution_count": 35,
   "id": "13dfd6ff",
   "metadata": {},
   "outputs": [
    {
     "data": {
      "text/plain": [
       "0         1\n",
       "1         1\n",
       "2         4\n",
       "3         8\n",
       "4         8\n",
       "         ..\n",
       "18063    11\n",
       "18064    11\n",
       "18065    11\n",
       "18066    11\n",
       "18067    12\n",
       "Name: month_number, Length: 18068, dtype: int64"
      ]
     },
     "execution_count": 35,
     "metadata": {},
     "output_type": "execute_result"
    }
   ],
   "source": [
    "rides['month_number'] = rides['date'].dt.month\n",
    "rides['month_number']"
   ]
  },
  {
   "cell_type": "markdown",
   "id": "06bbd1cc",
   "metadata": {},
   "source": [
    "##### Обработка пропусков и дубликатов в таблице users"
   ]
  },
  {
   "cell_type": "code",
   "execution_count": 36,
   "id": "cf8fc9e4",
   "metadata": {},
   "outputs": [
    {
     "name": "stdout",
     "output_type": "stream",
     "text": [
      "<class 'pandas.core.frame.DataFrame'>\n",
      "RangeIndex: 1565 entries, 0 to 1564\n",
      "Data columns (total 5 columns):\n",
      " #   Column             Non-Null Count  Dtype \n",
      "---  ------             --------------  ----- \n",
      " 0   user_id            1565 non-null   int64 \n",
      " 1   name               1565 non-null   object\n",
      " 2   age                1565 non-null   int64 \n",
      " 3   city               1565 non-null   object\n",
      " 4   subscription_type  1565 non-null   object\n",
      "dtypes: int64(2), object(3)\n",
      "memory usage: 61.3+ KB\n"
     ]
    }
   ],
   "source": [
    "users.info()"
   ]
  },
  {
   "cell_type": "code",
   "execution_count": 37,
   "id": "433c8d4a",
   "metadata": {},
   "outputs": [
    {
     "data": {
      "text/html": [
       "<div>\n",
       "<style scoped>\n",
       "    .dataframe tbody tr th:only-of-type {\n",
       "        vertical-align: middle;\n",
       "    }\n",
       "\n",
       "    .dataframe tbody tr th {\n",
       "        vertical-align: top;\n",
       "    }\n",
       "\n",
       "    .dataframe thead th {\n",
       "        text-align: right;\n",
       "    }\n",
       "</style>\n",
       "<table border=\"1\" class=\"dataframe\">\n",
       "  <thead>\n",
       "    <tr style=\"text-align: right;\">\n",
       "      <th></th>\n",
       "      <th>user_id</th>\n",
       "      <th>name</th>\n",
       "      <th>age</th>\n",
       "      <th>city</th>\n",
       "      <th>subscription_type</th>\n",
       "    </tr>\n",
       "  </thead>\n",
       "  <tbody>\n",
       "    <tr>\n",
       "      <th>0</th>\n",
       "      <td>1</td>\n",
       "      <td>Кира</td>\n",
       "      <td>22</td>\n",
       "      <td>Тюмень</td>\n",
       "      <td>ultra</td>\n",
       "    </tr>\n",
       "    <tr>\n",
       "      <th>1</th>\n",
       "      <td>2</td>\n",
       "      <td>Станислав</td>\n",
       "      <td>31</td>\n",
       "      <td>Омск</td>\n",
       "      <td>ultra</td>\n",
       "    </tr>\n",
       "    <tr>\n",
       "      <th>2</th>\n",
       "      <td>3</td>\n",
       "      <td>Алексей</td>\n",
       "      <td>20</td>\n",
       "      <td>Москва</td>\n",
       "      <td>ultra</td>\n",
       "    </tr>\n",
       "    <tr>\n",
       "      <th>3</th>\n",
       "      <td>4</td>\n",
       "      <td>Константин</td>\n",
       "      <td>26</td>\n",
       "      <td>Ростов-на-Дону</td>\n",
       "      <td>ultra</td>\n",
       "    </tr>\n",
       "    <tr>\n",
       "      <th>4</th>\n",
       "      <td>5</td>\n",
       "      <td>Адель</td>\n",
       "      <td>28</td>\n",
       "      <td>Омск</td>\n",
       "      <td>ultra</td>\n",
       "    </tr>\n",
       "    <tr>\n",
       "      <th>5</th>\n",
       "      <td>6</td>\n",
       "      <td>Регина</td>\n",
       "      <td>25</td>\n",
       "      <td>Краснодар</td>\n",
       "      <td>ultra</td>\n",
       "    </tr>\n",
       "    <tr>\n",
       "      <th>6</th>\n",
       "      <td>7</td>\n",
       "      <td>Игорь</td>\n",
       "      <td>23</td>\n",
       "      <td>Омск</td>\n",
       "      <td>ultra</td>\n",
       "    </tr>\n",
       "    <tr>\n",
       "      <th>7</th>\n",
       "      <td>8</td>\n",
       "      <td>Юрий</td>\n",
       "      <td>23</td>\n",
       "      <td>Краснодар</td>\n",
       "      <td>ultra</td>\n",
       "    </tr>\n",
       "    <tr>\n",
       "      <th>8</th>\n",
       "      <td>9</td>\n",
       "      <td>Ян</td>\n",
       "      <td>21</td>\n",
       "      <td>Пятигорск</td>\n",
       "      <td>ultra</td>\n",
       "    </tr>\n",
       "    <tr>\n",
       "      <th>9</th>\n",
       "      <td>10</td>\n",
       "      <td>Валерий</td>\n",
       "      <td>18</td>\n",
       "      <td>Екатеринбург</td>\n",
       "      <td>ultra</td>\n",
       "    </tr>\n",
       "  </tbody>\n",
       "</table>\n",
       "</div>"
      ],
      "text/plain": [
       "   user_id        name  age            city subscription_type\n",
       "0        1        Кира   22          Тюмень             ultra\n",
       "1        2   Станислав   31            Омск             ultra\n",
       "2        3     Алексей   20          Москва             ultra\n",
       "3        4  Константин   26  Ростов-на-Дону             ultra\n",
       "4        5       Адель   28            Омск             ultra\n",
       "5        6      Регина   25       Краснодар             ultra\n",
       "6        7       Игорь   23            Омск             ultra\n",
       "7        8        Юрий   23       Краснодар             ultra\n",
       "8        9          Ян   21       Пятигорск             ultra\n",
       "9       10     Валерий   18    Екатеринбург             ultra"
      ]
     },
     "execution_count": 37,
     "metadata": {},
     "output_type": "execute_result"
    }
   ],
   "source": [
    "users.head(10)"
   ]
  },
  {
   "cell_type": "markdown",
   "id": "b90621a3",
   "metadata": {},
   "source": [
    "**По данным видно, что значения могут повторяться, так как одного и того же человека могут звать Алексеем и он может жить в Москве, имея подписку ultra. Проверим нулевых значений судя по методу users.info() в таблице нет, однако на всякий случай проверю. Также, проверю дубликаты в столбце user_id, так как идентификационный номер должен быть уникальным.**"
   ]
  },
  {
   "cell_type": "code",
   "execution_count": 38,
   "id": "43463f48",
   "metadata": {},
   "outputs": [
    {
     "data": {
      "text/plain": [
       "user_id              0\n",
       "name                 0\n",
       "age                  0\n",
       "city                 0\n",
       "subscription_type    0\n",
       "dtype: int64"
      ]
     },
     "execution_count": 38,
     "metadata": {},
     "output_type": "execute_result"
    }
   ],
   "source": [
    "users.isna().sum()"
   ]
  },
  {
   "cell_type": "code",
   "execution_count": 39,
   "id": "6a8d21d9",
   "metadata": {},
   "outputs": [
    {
     "data": {
      "text/plain": [
       "31"
      ]
     },
     "execution_count": 39,
     "metadata": {},
     "output_type": "execute_result"
    }
   ],
   "source": [
    "users.duplicated().sum()"
   ]
  },
  {
   "cell_type": "markdown",
   "id": "9be47718",
   "metadata": {},
   "source": [
    "**Видно, что явные дубликаты присутсвуют. Перед тем, как их удалять, замерим процент потерь данных, чтобы уложиться в 5%.**"
   ]
  },
  {
   "cell_type": "code",
   "execution_count": 40,
   "id": "1f4eb9ee",
   "metadata": {
    "scrolled": true
   },
   "outputs": [
    {
     "data": {
      "text/plain": [
       "'2.0%'"
      ]
     },
     "execution_count": 40,
     "metadata": {},
     "output_type": "execute_result"
    }
   ],
   "source": [
    "records = users.shape[0]\n",
    "users.drop_duplicates(inplace=True)\n",
    "loss_percentage = '{:.1%}'.format((records - users.shape[0]) / records)\n",
    "loss_percentage"
   ]
  },
  {
   "cell_type": "markdown",
   "id": "cc3368ac",
   "metadata": {},
   "source": [
    "**Теряем 2% данных, дубликаты можно убрать без существенной потери.**"
   ]
  },
  {
   "cell_type": "code",
   "execution_count": 41,
   "id": "ae3b6009",
   "metadata": {},
   "outputs": [
    {
     "data": {
      "text/plain": [
       "0"
      ]
     },
     "execution_count": 41,
     "metadata": {},
     "output_type": "execute_result"
    }
   ],
   "source": [
    "users.duplicated().sum()"
   ]
  },
  {
   "cell_type": "markdown",
   "id": "70c807dc",
   "metadata": {},
   "source": [
    "##### Обработка пропусков и дубликатов в таблице rides"
   ]
  },
  {
   "cell_type": "code",
   "execution_count": 42,
   "id": "06d263ff",
   "metadata": {},
   "outputs": [
    {
     "name": "stdout",
     "output_type": "stream",
     "text": [
      "<class 'pandas.core.frame.DataFrame'>\n",
      "RangeIndex: 18068 entries, 0 to 18067\n",
      "Data columns (total 5 columns):\n",
      " #   Column        Non-Null Count  Dtype         \n",
      "---  ------        --------------  -----         \n",
      " 0   user_id       18068 non-null  int64         \n",
      " 1   distance      18068 non-null  float64       \n",
      " 2   duration      18068 non-null  float64       \n",
      " 3   date          18068 non-null  datetime64[ns]\n",
      " 4   month_number  18068 non-null  int64         \n",
      "dtypes: datetime64[ns](1), float64(2), int64(2)\n",
      "memory usage: 705.9 KB\n"
     ]
    }
   ],
   "source": [
    "rides.info()"
   ]
  },
  {
   "cell_type": "code",
   "execution_count": 43,
   "id": "79b45396",
   "metadata": {},
   "outputs": [
    {
     "data": {
      "text/plain": [
       "user_id         0\n",
       "distance        0\n",
       "duration        0\n",
       "date            0\n",
       "month_number    0\n",
       "dtype: int64"
      ]
     },
     "execution_count": 43,
     "metadata": {},
     "output_type": "execute_result"
    }
   ],
   "source": [
    "rides.isna().sum()"
   ]
  },
  {
   "cell_type": "code",
   "execution_count": 44,
   "id": "225c18cb",
   "metadata": {},
   "outputs": [
    {
     "data": {
      "text/plain": [
       "0"
      ]
     },
     "execution_count": 44,
     "metadata": {},
     "output_type": "execute_result"
    }
   ],
   "source": [
    "rides.duplicated().sum()"
   ]
  },
  {
   "cell_type": "markdown",
   "id": "080d7509",
   "metadata": {},
   "source": [
    "**Дубликатов и пропусков в таблице rides нет.**"
   ]
  },
  {
   "cell_type": "markdown",
   "id": "4fa11083",
   "metadata": {},
   "source": [
    "##### Обработка дубликатов и пропусков в таблице subscriptions"
   ]
  },
  {
   "cell_type": "code",
   "execution_count": 45,
   "id": "94a5e0ed",
   "metadata": {},
   "outputs": [
    {
     "name": "stdout",
     "output_type": "stream",
     "text": [
      "<class 'pandas.core.frame.DataFrame'>\n",
      "RangeIndex: 2 entries, 0 to 1\n",
      "Data columns (total 4 columns):\n",
      " #   Column             Non-Null Count  Dtype \n",
      "---  ------             --------------  ----- \n",
      " 0   subscription_type  2 non-null      object\n",
      " 1   minute_price       2 non-null      int64 \n",
      " 2   start_ride_price   2 non-null      int64 \n",
      " 3   subscription_fee   2 non-null      int64 \n",
      "dtypes: int64(3), object(1)\n",
      "memory usage: 192.0+ bytes\n"
     ]
    }
   ],
   "source": [
    "subscriptions.info()"
   ]
  },
  {
   "cell_type": "code",
   "execution_count": 46,
   "id": "5802835b",
   "metadata": {},
   "outputs": [
    {
     "data": {
      "text/plain": [
       "subscription_type    0\n",
       "minute_price         0\n",
       "start_ride_price     0\n",
       "subscription_fee     0\n",
       "dtype: int64"
      ]
     },
     "execution_count": 46,
     "metadata": {},
     "output_type": "execute_result"
    }
   ],
   "source": [
    "subscriptions.isna().sum()"
   ]
  },
  {
   "cell_type": "code",
   "execution_count": 47,
   "id": "e1f5c950",
   "metadata": {},
   "outputs": [
    {
     "data": {
      "text/plain": [
       "0"
      ]
     },
     "execution_count": 47,
     "metadata": {},
     "output_type": "execute_result"
    }
   ],
   "source": [
    "subscriptions.duplicated().sum()"
   ]
  },
  {
   "cell_type": "markdown",
   "id": "f2c1886d",
   "metadata": {},
   "source": [
    "**Дубликатов и пропусков в таблице subscriptions нет**"
   ]
  },
  {
   "cell_type": "markdown",
   "id": "212593c7",
   "metadata": {},
   "source": [
    "#### Шаг 3. Исследовательский анализ данных"
   ]
  },
  {
   "cell_type": "markdown",
   "id": "c9913ffe",
   "metadata": {},
   "source": [
    "##### Частота встречаемости городов"
   ]
  },
  {
   "cell_type": "code",
   "execution_count": 48,
   "id": "bb01cf5f",
   "metadata": {},
   "outputs": [
    {
     "data": {
      "image/png": "[encoded data removed]",
      "text/plain": [
       "<Figure size 432x288 with 1 Axes>"
      ]
     },
     "metadata": {
      "needs_background": "light"
     },
     "output_type": "display_data"
    }
   ],
   "source": [
    "ax = users['city'].value_counts().sort_values(ascending=True) \\\n",
    "    .plot(kind='barh', y='city', title='Частота встречаемости городов');\n",
    "ax.set_xlabel('Частота встречаемости')\n",
    "ax.set_ylabel('Названия городов');"
   ]
  },
  {
   "cell_type": "code",
   "execution_count": 49,
   "id": "27200539",
   "metadata": {},
   "outputs": [
    {
     "data": {
      "text/plain": [
       "count          1534\n",
       "unique            8\n",
       "top       Пятигорск\n",
       "freq            219\n",
       "Name: city, dtype: object"
      ]
     },
     "execution_count": 49,
     "metadata": {},
     "output_type": "execute_result"
    }
   ],
   "source": [
    "users['city'].describe()"
   ]
  },
  {
   "cell_type": "markdown",
   "id": "ba37f03a",
   "metadata": {},
   "source": [
    "**В подписке чаще всего встречается Города Пятигорск и Екатеринбург. Возможно, это связано с тем, что Пятигорск по площади гораздо меньше Москвы и, соответственно, по меньшему городу на самокате перемещаться удобнее.**"
   ]
  },
  {
   "cell_type": "markdown",
   "id": "feb82968",
   "metadata": {},
   "source": [
    "##### Соотношение пользователей с подпиской и без подписки"
   ]
  },
  {
   "cell_type": "code",
   "execution_count": 71,
   "id": "6bd64aa4",
   "metadata": {},
   "outputs": [
    {
     "data": {
      "text/plain": [
       "Text(0.5, 1.0, 'Соотношение пользователей по подписке')"
      ]
     },
     "execution_count": 71,
     "metadata": {},
     "output_type": "execute_result"
    },
    {
     "data": {
      "image/png": "[encoded data removed]",
      "text/plain": [
       "<Figure size 720x576 with 1 Axes>"
      ]
     },
     "metadata": {},
     "output_type": "display_data"
    }
   ],
   "source": [
    "ax = users['subscription_type'].value_counts().plot(kind='pie', autopct='%.1f%%', figsize=(10, 8))\n",
    "ax.set_title('Соотношение пользователей по подписке')"
   ]
  },
  {
   "cell_type": "markdown",
   "id": "cf9ef80d",
   "metadata": {},
   "source": [
    "**Больше всего пользователей без подписки (54.4%). Возможно, это обусловлено тем, что пользователи не так часто пользуются сервисом и для них нет смысла покупать дополнительную подписку. Либо же, пользователи могут быть просто не осведомлены о наличии дополнительной подписки.**"
   ]
  },
  {
   "cell_type": "markdown",
   "id": "f229435a",
   "metadata": {},
   "source": [
    "##### Возраст пользователей"
   ]
  },
  {
   "cell_type": "code",
   "execution_count": 51,
   "id": "71675780",
   "metadata": {},
   "outputs": [
    {
     "data": {
      "image/png": "[encoded data removed]",
      "text/plain": [
       "<Figure size 720x576 with 1 Axes>"
      ]
     },
     "metadata": {
      "needs_background": "light"
     },
     "output_type": "display_data"
    }
   ],
   "source": [
    "ax = users['age'].hist(figsize=(10, 8), bins=30)\n",
    "ax.set_title('Распределение возраста пользователей')\n",
    "ax.set_xlabel('Возраст пользователя')\n",
    "ax.set_ylabel('Частота');"
   ]
  },
  {
   "cell_type": "markdown",
   "id": "8ddf67bd",
   "metadata": {},
   "source": [
    "**Возраст пользователей в среднем распределился от 15 до 35 лет. Самый часто встречаемый возраст - 25 лет. Именно эта категория пользователей чаще всего пользуется сервисом.**"
   ]
  },
  {
   "cell_type": "markdown",
   "id": "b63306ff",
   "metadata": {},
   "source": [
    "##### Расстояние, которое пользователь преодолел за одну поездку"
   ]
  },
  {
   "cell_type": "code",
   "execution_count": 52,
   "id": "a706aefe",
   "metadata": {},
   "outputs": [
    {
     "data": {
      "image/png": "[encoded data removed]",
      "text/plain": [
       "<Figure size 720x576 with 1 Axes>"
      ]
     },
     "metadata": {
      "needs_background": "light"
     },
     "output_type": "display_data"
    }
   ],
   "source": [
    "ax = rides['distance'].hist(bins=100, figsize=(10, 8))\n",
    "ax.set_title('Распределение дистанций поездки')\n",
    "ax.set_xlabel('Дистанция (м)')\n",
    "ax.set_ylabel('Частота');"
   ]
  },
  {
   "cell_type": "markdown",
   "id": "2d12cb73",
   "metadata": {},
   "source": [
    "**В среднем, пользователи сервиса проезжают около 3-4км (3000-4000м) за сеанс.**"
   ]
  },
  {
   "cell_type": "markdown",
   "id": "39d9c147",
   "metadata": {},
   "source": [
    "##### Продолжительность поездок"
   ]
  },
  {
   "cell_type": "code",
   "execution_count": 53,
   "id": "bec7151a",
   "metadata": {},
   "outputs": [
    {
     "data": {
      "image/png": "[encoded data removed]",
      "text/plain": [
       "<Figure size 720x576 with 1 Axes>"
      ]
     },
     "metadata": {
      "needs_background": "light"
     },
     "output_type": "display_data"
    }
   ],
   "source": [
    "ax = rides['duration'].hist(bins=50, figsize=(10, 8))\n",
    "ax.set_title('Распределение времени поездки')\n",
    "ax.set_xlabel('Время поездки (мин.)')\n",
    "ax.set_ylabel('Частота');"
   ]
  },
  {
   "cell_type": "markdown",
   "id": "45570a21",
   "metadata": {},
   "source": [
    "**В среднем одна поездка длится 15-25 минут.**"
   ]
  },
  {
   "cell_type": "markdown",
   "id": "4ef51331",
   "metadata": {},
   "source": [
    "#### Шаг 4. Объединение данных"
   ]
  },
  {
   "cell_type": "markdown",
   "id": "ffa56c32",
   "metadata": {},
   "source": [
    "##### Объединение датафреймов"
   ]
  },
  {
   "cell_type": "code",
   "execution_count": 54,
   "id": "6bf288b5",
   "metadata": {
    "scrolled": false
   },
   "outputs": [
    {
     "data": {
      "text/html": [
       "<div>\n",
       "<style scoped>\n",
       "    .dataframe tbody tr th:only-of-type {\n",
       "        vertical-align: middle;\n",
       "    }\n",
       "\n",
       "    .dataframe tbody tr th {\n",
       "        vertical-align: top;\n",
       "    }\n",
       "\n",
       "    .dataframe thead th {\n",
       "        text-align: right;\n",
       "    }\n",
       "</style>\n",
       "<table border=\"1\" class=\"dataframe\">\n",
       "  <thead>\n",
       "    <tr style=\"text-align: right;\">\n",
       "      <th></th>\n",
       "      <th>user_id</th>\n",
       "      <th>name</th>\n",
       "      <th>age</th>\n",
       "      <th>city</th>\n",
       "      <th>subscription_type</th>\n",
       "      <th>distance</th>\n",
       "      <th>duration</th>\n",
       "      <th>date</th>\n",
       "      <th>month_number</th>\n",
       "      <th>minute_price</th>\n",
       "      <th>start_ride_price</th>\n",
       "      <th>subscription_fee</th>\n",
       "    </tr>\n",
       "  </thead>\n",
       "  <tbody>\n",
       "    <tr>\n",
       "      <th>0</th>\n",
       "      <td>1</td>\n",
       "      <td>Кира</td>\n",
       "      <td>22</td>\n",
       "      <td>Тюмень</td>\n",
       "      <td>ultra</td>\n",
       "      <td>4409.919140</td>\n",
       "      <td>25.599769</td>\n",
       "      <td>2021-01-01</td>\n",
       "      <td>1</td>\n",
       "      <td>6</td>\n",
       "      <td>0</td>\n",
       "      <td>199</td>\n",
       "    </tr>\n",
       "    <tr>\n",
       "      <th>1</th>\n",
       "      <td>1</td>\n",
       "      <td>Кира</td>\n",
       "      <td>22</td>\n",
       "      <td>Тюмень</td>\n",
       "      <td>ultra</td>\n",
       "      <td>2617.592153</td>\n",
       "      <td>15.816871</td>\n",
       "      <td>2021-01-18</td>\n",
       "      <td>1</td>\n",
       "      <td>6</td>\n",
       "      <td>0</td>\n",
       "      <td>199</td>\n",
       "    </tr>\n",
       "    <tr>\n",
       "      <th>2</th>\n",
       "      <td>1</td>\n",
       "      <td>Кира</td>\n",
       "      <td>22</td>\n",
       "      <td>Тюмень</td>\n",
       "      <td>ultra</td>\n",
       "      <td>754.159807</td>\n",
       "      <td>6.232113</td>\n",
       "      <td>2021-04-20</td>\n",
       "      <td>4</td>\n",
       "      <td>6</td>\n",
       "      <td>0</td>\n",
       "      <td>199</td>\n",
       "    </tr>\n",
       "    <tr>\n",
       "      <th>3</th>\n",
       "      <td>1</td>\n",
       "      <td>Кира</td>\n",
       "      <td>22</td>\n",
       "      <td>Тюмень</td>\n",
       "      <td>ultra</td>\n",
       "      <td>2694.783254</td>\n",
       "      <td>18.511000</td>\n",
       "      <td>2021-08-11</td>\n",
       "      <td>8</td>\n",
       "      <td>6</td>\n",
       "      <td>0</td>\n",
       "      <td>199</td>\n",
       "    </tr>\n",
       "    <tr>\n",
       "      <th>4</th>\n",
       "      <td>1</td>\n",
       "      <td>Кира</td>\n",
       "      <td>22</td>\n",
       "      <td>Тюмень</td>\n",
       "      <td>ultra</td>\n",
       "      <td>4028.687306</td>\n",
       "      <td>26.265803</td>\n",
       "      <td>2021-08-28</td>\n",
       "      <td>8</td>\n",
       "      <td>6</td>\n",
       "      <td>0</td>\n",
       "      <td>199</td>\n",
       "    </tr>\n",
       "    <tr>\n",
       "      <th>...</th>\n",
       "      <td>...</td>\n",
       "      <td>...</td>\n",
       "      <td>...</td>\n",
       "      <td>...</td>\n",
       "      <td>...</td>\n",
       "      <td>...</td>\n",
       "      <td>...</td>\n",
       "      <td>...</td>\n",
       "      <td>...</td>\n",
       "      <td>...</td>\n",
       "      <td>...</td>\n",
       "      <td>...</td>\n",
       "    </tr>\n",
       "    <tr>\n",
       "      <th>18063</th>\n",
       "      <td>1534</td>\n",
       "      <td>Альберт</td>\n",
       "      <td>25</td>\n",
       "      <td>Краснодар</td>\n",
       "      <td>free</td>\n",
       "      <td>3781.098080</td>\n",
       "      <td>19.822962</td>\n",
       "      <td>2021-11-04</td>\n",
       "      <td>11</td>\n",
       "      <td>8</td>\n",
       "      <td>50</td>\n",
       "      <td>0</td>\n",
       "    </tr>\n",
       "    <tr>\n",
       "      <th>18064</th>\n",
       "      <td>1534</td>\n",
       "      <td>Альберт</td>\n",
       "      <td>25</td>\n",
       "      <td>Краснодар</td>\n",
       "      <td>free</td>\n",
       "      <td>2840.423057</td>\n",
       "      <td>21.409799</td>\n",
       "      <td>2021-11-16</td>\n",
       "      <td>11</td>\n",
       "      <td>8</td>\n",
       "      <td>50</td>\n",
       "      <td>0</td>\n",
       "    </tr>\n",
       "    <tr>\n",
       "      <th>18065</th>\n",
       "      <td>1534</td>\n",
       "      <td>Альберт</td>\n",
       "      <td>25</td>\n",
       "      <td>Краснодар</td>\n",
       "      <td>free</td>\n",
       "      <td>3826.185507</td>\n",
       "      <td>18.435051</td>\n",
       "      <td>2021-11-18</td>\n",
       "      <td>11</td>\n",
       "      <td>8</td>\n",
       "      <td>50</td>\n",
       "      <td>0</td>\n",
       "    </tr>\n",
       "    <tr>\n",
       "      <th>18066</th>\n",
       "      <td>1534</td>\n",
       "      <td>Альберт</td>\n",
       "      <td>25</td>\n",
       "      <td>Краснодар</td>\n",
       "      <td>free</td>\n",
       "      <td>2902.308661</td>\n",
       "      <td>16.674362</td>\n",
       "      <td>2021-11-27</td>\n",
       "      <td>11</td>\n",
       "      <td>8</td>\n",
       "      <td>50</td>\n",
       "      <td>0</td>\n",
       "    </tr>\n",
       "    <tr>\n",
       "      <th>18067</th>\n",
       "      <td>1534</td>\n",
       "      <td>Альберт</td>\n",
       "      <td>25</td>\n",
       "      <td>Краснодар</td>\n",
       "      <td>free</td>\n",
       "      <td>2371.711192</td>\n",
       "      <td>15.893917</td>\n",
       "      <td>2021-12-29</td>\n",
       "      <td>12</td>\n",
       "      <td>8</td>\n",
       "      <td>50</td>\n",
       "      <td>0</td>\n",
       "    </tr>\n",
       "  </tbody>\n",
       "</table>\n",
       "<p>18068 rows × 12 columns</p>\n",
       "</div>"
      ],
      "text/plain": [
       "       user_id     name  age       city subscription_type     distance  \\\n",
       "0            1     Кира   22     Тюмень             ultra  4409.919140   \n",
       "1            1     Кира   22     Тюмень             ultra  2617.592153   \n",
       "2            1     Кира   22     Тюмень             ultra   754.159807   \n",
       "3            1     Кира   22     Тюмень             ultra  2694.783254   \n",
       "4            1     Кира   22     Тюмень             ultra  4028.687306   \n",
       "...        ...      ...  ...        ...               ...          ...   \n",
       "18063     1534  Альберт   25  Краснодар              free  3781.098080   \n",
       "18064     1534  Альберт   25  Краснодар              free  2840.423057   \n",
       "18065     1534  Альберт   25  Краснодар              free  3826.185507   \n",
       "18066     1534  Альберт   25  Краснодар              free  2902.308661   \n",
       "18067     1534  Альберт   25  Краснодар              free  2371.711192   \n",
       "\n",
       "        duration       date  month_number  minute_price  start_ride_price  \\\n",
       "0      25.599769 2021-01-01             1             6                 0   \n",
       "1      15.816871 2021-01-18             1             6                 0   \n",
       "2       6.232113 2021-04-20             4             6                 0   \n",
       "3      18.511000 2021-08-11             8             6                 0   \n",
       "4      26.265803 2021-08-28             8             6                 0   \n",
       "...          ...        ...           ...           ...               ...   \n",
       "18063  19.822962 2021-11-04            11             8                50   \n",
       "18064  21.409799 2021-11-16            11             8                50   \n",
       "18065  18.435051 2021-11-18            11             8                50   \n",
       "18066  16.674362 2021-11-27            11             8                50   \n",
       "18067  15.893917 2021-12-29            12             8                50   \n",
       "\n",
       "       subscription_fee  \n",
       "0                   199  \n",
       "1                   199  \n",
       "2                   199  \n",
       "3                   199  \n",
       "4                   199  \n",
       "...                 ...  \n",
       "18063                 0  \n",
       "18064                 0  \n",
       "18065                 0  \n",
       "18066                 0  \n",
       "18067                 0  \n",
       "\n",
       "[18068 rows x 12 columns]"
      ]
     },
     "execution_count": 54,
     "metadata": {},
     "output_type": "execute_result"
    }
   ],
   "source": [
    "full_data = users.merge(rides, on='user_id')\n",
    "full_data = full_data.merge(subscriptions, on='subscription_type')\n",
    "full_data"
   ]
  },
  {
   "cell_type": "code",
   "execution_count": 55,
   "id": "3e7df3f6",
   "metadata": {},
   "outputs": [
    {
     "name": "stdout",
     "output_type": "stream",
     "text": [
      "Все данные успешно объединены\n"
     ]
    }
   ],
   "source": [
    "# Отнимаем от суммы 2, так как две колонки объединяются и дублируют друг друга в итоговом подсчёте\n",
    "all_columns_len = (users.shape[1] + rides.shape[1] + subscriptions.shape[1]) - 2\n",
    "if all_columns_len == full_data.shape[1]:\n",
    "    print('Все данные успешно объединены')\n",
    "else:\n",
    "    print('Не все данные успешно объединены')"
   ]
  },
  {
   "cell_type": "markdown",
   "id": "6a00c393",
   "metadata": {},
   "source": [
    "##### Обработка пользователей без подписки"
   ]
  },
  {
   "cell_type": "code",
   "execution_count": 56,
   "id": "bb941021",
   "metadata": {},
   "outputs": [],
   "source": [
    "data_without_subscription = full_data.query('subscription_type == \"free\"')"
   ]
  },
  {
   "cell_type": "code",
   "execution_count": 57,
   "id": "52e556b9",
   "metadata": {},
   "outputs": [
    {
     "data": {
      "image/png": "[encoded data removed]",
      "text/plain": [
       "<Figure size 720x576 with 1 Axes>"
      ]
     },
     "metadata": {
      "needs_background": "light"
     },
     "output_type": "display_data"
    }
   ],
   "source": [
    "ax = data_without_subscription.plot(y='duration', \n",
    "                                    kind='hist', \n",
    "                                    bins=50, \n",
    "                                    figsize=(10, 8), \n",
    "                                    title='Время бесплатного тарифа')\n",
    "ax.set_xlabel('Время поездки (мин.)')\n",
    "ax.set_ylabel('Количество поездок')\n",
    "plt.show()"
   ]
  },
  {
   "cell_type": "code",
   "execution_count": 58,
   "id": "8aea44a7",
   "metadata": {},
   "outputs": [
    {
     "data": {
      "image/png": "[encoded data removed]",
      "text/plain": [
       "<Figure size 720x576 with 1 Axes>"
      ]
     },
     "metadata": {
      "needs_background": "light"
     },
     "output_type": "display_data"
    }
   ],
   "source": [
    "ax = data_without_subscription.plot(y='distance', \n",
    "                                    kind='hist', \n",
    "                                    bins=50, \n",
    "                                    figsize=(10, 8), \n",
    "                                    title='Расстояние бесплатного тарифа')\n",
    "ax.set_xlabel('Расстояние поездки (м)')\n",
    "ax.set_ylabel('Количество поездок')\n",
    "plt.show()"
   ]
  },
  {
   "cell_type": "markdown",
   "id": "ff788c46",
   "metadata": {},
   "source": [
    "**Для бесплатного тарифа характеры поездки от 10 до 25 минут, на расстояние от 2.5 до 4км.**"
   ]
  },
  {
   "cell_type": "markdown",
   "id": "54bb74d5",
   "metadata": {},
   "source": [
    "##### Обработка пользователей с подпиской"
   ]
  },
  {
   "cell_type": "code",
   "execution_count": 59,
   "id": "f1b93e49",
   "metadata": {},
   "outputs": [],
   "source": [
    "data_with_subscription = full_data.query('subscription_type == \"ultra\"')"
   ]
  },
  {
   "cell_type": "code",
   "execution_count": 60,
   "id": "a6746ab5",
   "metadata": {},
   "outputs": [
    {
     "data": {
      "image/png": "[encoded data removed]",
      "text/plain": [
       "<Figure size 720x576 with 1 Axes>"
      ]
     },
     "metadata": {
      "needs_background": "light"
     },
     "output_type": "display_data"
    }
   ],
   "source": [
    "ax = data_with_subscription.plot(y='duration', \n",
    "                                 kind='hist', \n",
    "                                 bins=50, \n",
    "                                 figsize=(10, 8), \n",
    "                                 title='Время платного тарифа')\n",
    "ax.set_xlabel('Время поездки (мин.)')\n",
    "ax.set_ylabel('Количество поездок')\n",
    "plt.show()"
   ]
  },
  {
   "cell_type": "code",
   "execution_count": 61,
   "id": "779efd39",
   "metadata": {},
   "outputs": [
    {
     "data": {
      "image/png": "[encoded data removed]",
      "text/plain": [
       "<Figure size 720x576 with 1 Axes>"
      ]
     },
     "metadata": {
      "needs_background": "light"
     },
     "output_type": "display_data"
    }
   ],
   "source": [
    "ax = data_with_subscription.plot(y='distance', \n",
    "                                 kind='hist', \n",
    "                                 bins=50, \n",
    "                                 figsize=(10, 8), \n",
    "                                 title='Расстояние платного тарифа')\n",
    "ax.set_xlabel('Расстояние поездки (м)')\n",
    "ax.set_ylabel('Количество поездок')\n",
    "plt.show()"
   ]
  },
  {
   "cell_type": "markdown",
   "id": "dc874b18",
   "metadata": {},
   "source": [
    "**Для пользователей с подпиской харакерты поездки от 10 до 20 минут, с расстоянием от 3 до 3.5км.**"
   ]
  },
  {
   "cell_type": "markdown",
   "id": "9bf93976",
   "metadata": {},
   "source": [
    "**Общий вывод:**\n",
    "\n",
    "Был создан новый датафрейм full_data, который содержит все данные из трех датафреймов\n",
    "Создали отдельные два датафрейма data_without_subscription и data_with_subscription дляразделения пользователей по категориям без подписки/с подпиской\n",
    "\n",
    "Выяснено, что пользователи без подписки в среднем тратят на дорогу от 10 до 25 минут и проезжают расстояние от 2.5 до 4 км.\n",
    "Выяснено, что пользователи с подпиской в среднем тратят на дорогу от 10 до 20 минут и проезжают расстояние от 3 до 3.5 км."
   ]
  },
  {
   "cell_type": "markdown",
   "id": "402d620f",
   "metadata": {},
   "source": [
    "#### Шаг 5. Подсчёт выручки"
   ]
  },
  {
   "cell_type": "code",
   "execution_count": 62,
   "id": "53049e0a",
   "metadata": {},
   "outputs": [
    {
     "data": {
      "text/html": [
       "<div>\n",
       "<style scoped>\n",
       "    .dataframe tbody tr th:only-of-type {\n",
       "        vertical-align: middle;\n",
       "    }\n",
       "\n",
       "    .dataframe tbody tr th {\n",
       "        vertical-align: top;\n",
       "    }\n",
       "\n",
       "    .dataframe thead th {\n",
       "        text-align: right;\n",
       "    }\n",
       "</style>\n",
       "<table border=\"1\" class=\"dataframe\">\n",
       "  <thead>\n",
       "    <tr style=\"text-align: right;\">\n",
       "      <th></th>\n",
       "      <th></th>\n",
       "      <th>distance</th>\n",
       "      <th>duration</th>\n",
       "      <th>name</th>\n",
       "      <th>subscription_type</th>\n",
       "    </tr>\n",
       "    <tr>\n",
       "      <th>month_number</th>\n",
       "      <th>user_id</th>\n",
       "      <th></th>\n",
       "      <th></th>\n",
       "      <th></th>\n",
       "      <th></th>\n",
       "    </tr>\n",
       "  </thead>\n",
       "  <tbody>\n",
       "    <tr>\n",
       "      <th rowspan=\"20\" valign=\"top\">1</th>\n",
       "      <th>1</th>\n",
       "      <td>7027.511294</td>\n",
       "      <td>41.416640</td>\n",
       "      <td>2</td>\n",
       "      <td>ultra</td>\n",
       "    </tr>\n",
       "    <tr>\n",
       "      <th>3</th>\n",
       "      <td>3061.777147</td>\n",
       "      <td>12.654443</td>\n",
       "      <td>1</td>\n",
       "      <td>ultra</td>\n",
       "    </tr>\n",
       "    <tr>\n",
       "      <th>5</th>\n",
       "      <td>3914.646990</td>\n",
       "      <td>12.395153</td>\n",
       "      <td>1</td>\n",
       "      <td>ultra</td>\n",
       "    </tr>\n",
       "    <tr>\n",
       "      <th>7</th>\n",
       "      <td>6478.080979</td>\n",
       "      <td>27.653450</td>\n",
       "      <td>2</td>\n",
       "      <td>ultra</td>\n",
       "    </tr>\n",
       "    <tr>\n",
       "      <th>12</th>\n",
       "      <td>3577.151148</td>\n",
       "      <td>32.462907</td>\n",
       "      <td>1</td>\n",
       "      <td>ultra</td>\n",
       "    </tr>\n",
       "    <tr>\n",
       "      <th>13</th>\n",
       "      <td>6687.987446</td>\n",
       "      <td>41.848947</td>\n",
       "      <td>2</td>\n",
       "      <td>ultra</td>\n",
       "    </tr>\n",
       "    <tr>\n",
       "      <th>14</th>\n",
       "      <td>7699.643820</td>\n",
       "      <td>33.700853</td>\n",
       "      <td>2</td>\n",
       "      <td>ultra</td>\n",
       "    </tr>\n",
       "    <tr>\n",
       "      <th>15</th>\n",
       "      <td>4187.621459</td>\n",
       "      <td>38.125729</td>\n",
       "      <td>1</td>\n",
       "      <td>ultra</td>\n",
       "    </tr>\n",
       "    <tr>\n",
       "      <th>20</th>\n",
       "      <td>3516.719208</td>\n",
       "      <td>28.231012</td>\n",
       "      <td>1</td>\n",
       "      <td>ultra</td>\n",
       "    </tr>\n",
       "    <tr>\n",
       "      <th>22</th>\n",
       "      <td>3058.692225</td>\n",
       "      <td>12.328329</td>\n",
       "      <td>1</td>\n",
       "      <td>ultra</td>\n",
       "    </tr>\n",
       "    <tr>\n",
       "      <th>25</th>\n",
       "      <td>3440.353053</td>\n",
       "      <td>16.321059</td>\n",
       "      <td>1</td>\n",
       "      <td>ultra</td>\n",
       "    </tr>\n",
       "    <tr>\n",
       "      <th>26</th>\n",
       "      <td>6545.964099</td>\n",
       "      <td>26.263965</td>\n",
       "      <td>2</td>\n",
       "      <td>ultra</td>\n",
       "    </tr>\n",
       "    <tr>\n",
       "      <th>30</th>\n",
       "      <td>7774.720501</td>\n",
       "      <td>24.472432</td>\n",
       "      <td>2</td>\n",
       "      <td>ultra</td>\n",
       "    </tr>\n",
       "    <tr>\n",
       "      <th>32</th>\n",
       "      <td>3734.993902</td>\n",
       "      <td>24.674970</td>\n",
       "      <td>1</td>\n",
       "      <td>ultra</td>\n",
       "    </tr>\n",
       "    <tr>\n",
       "      <th>35</th>\n",
       "      <td>9707.810053</td>\n",
       "      <td>56.087585</td>\n",
       "      <td>3</td>\n",
       "      <td>ultra</td>\n",
       "    </tr>\n",
       "    <tr>\n",
       "      <th>42</th>\n",
       "      <td>4329.769187</td>\n",
       "      <td>22.983550</td>\n",
       "      <td>1</td>\n",
       "      <td>ultra</td>\n",
       "    </tr>\n",
       "    <tr>\n",
       "      <th>43</th>\n",
       "      <td>6322.206034</td>\n",
       "      <td>46.786070</td>\n",
       "      <td>2</td>\n",
       "      <td>ultra</td>\n",
       "    </tr>\n",
       "    <tr>\n",
       "      <th>44</th>\n",
       "      <td>2944.410629</td>\n",
       "      <td>18.484695</td>\n",
       "      <td>2</td>\n",
       "      <td>ultra</td>\n",
       "    </tr>\n",
       "    <tr>\n",
       "      <th>45</th>\n",
       "      <td>3702.424319</td>\n",
       "      <td>26.405653</td>\n",
       "      <td>2</td>\n",
       "      <td>ultra</td>\n",
       "    </tr>\n",
       "    <tr>\n",
       "      <th>46</th>\n",
       "      <td>3242.092435</td>\n",
       "      <td>19.707777</td>\n",
       "      <td>1</td>\n",
       "      <td>ultra</td>\n",
       "    </tr>\n",
       "  </tbody>\n",
       "</table>\n",
       "</div>"
      ],
      "text/plain": [
       "                         distance   duration  name subscription_type\n",
       "month_number user_id                                                \n",
       "1            1        7027.511294  41.416640     2             ultra\n",
       "             3        3061.777147  12.654443     1             ultra\n",
       "             5        3914.646990  12.395153     1             ultra\n",
       "             7        6478.080979  27.653450     2             ultra\n",
       "             12       3577.151148  32.462907     1             ultra\n",
       "             13       6687.987446  41.848947     2             ultra\n",
       "             14       7699.643820  33.700853     2             ultra\n",
       "             15       4187.621459  38.125729     1             ultra\n",
       "             20       3516.719208  28.231012     1             ultra\n",
       "             22       3058.692225  12.328329     1             ultra\n",
       "             25       3440.353053  16.321059     1             ultra\n",
       "             26       6545.964099  26.263965     2             ultra\n",
       "             30       7774.720501  24.472432     2             ultra\n",
       "             32       3734.993902  24.674970     1             ultra\n",
       "             35       9707.810053  56.087585     3             ultra\n",
       "             42       4329.769187  22.983550     1             ultra\n",
       "             43       6322.206034  46.786070     2             ultra\n",
       "             44       2944.410629  18.484695     2             ultra\n",
       "             45       3702.424319  26.405653     2             ultra\n",
       "             46       3242.092435  19.707777     1             ultra"
      ]
     },
     "execution_count": 62,
     "metadata": {},
     "output_type": "execute_result"
    }
   ],
   "source": [
    "total_data = full_data.pivot_table(index=['month_number', 'user_id'],\n",
    "                                  values=['distance', 'duration', 'name', 'subscription_type'],\n",
    "                                  aggfunc={\n",
    "                                      'distance': 'sum',\n",
    "                                      'duration': 'sum',\n",
    "                                      'name': 'count',\n",
    "                                      'subscription_type': min\n",
    "                                  })\n",
    "total_data.head(20)"
   ]
  },
  {
   "cell_type": "code",
   "execution_count": 63,
   "id": "17489ea0",
   "metadata": {},
   "outputs": [],
   "source": [
    "total_data['duration'] = np.ceil(total_data['duration'])"
   ]
  },
  {
   "cell_type": "code",
   "execution_count": 64,
   "id": "d652217d",
   "metadata": {},
   "outputs": [],
   "source": [
    "def get_revenue(row):\n",
    "    if row['subscription_type'] == 'free':\n",
    "        return 8 * row['duration'] + 50\n",
    "    elif row['subscription_type'] == 'ultra':\n",
    "        return 6 * row['duration'] + 199\n",
    "    else:\n",
    "        return 'ошибка'"
   ]
  },
  {
   "cell_type": "code",
   "execution_count": 65,
   "id": "cdf26b6d",
   "metadata": {},
   "outputs": [],
   "source": [
    "total_data['revenue_per_month'] = total_data.apply(get_revenue, axis=1)"
   ]
  },
  {
   "cell_type": "code",
   "execution_count": 66,
   "id": "29e10603",
   "metadata": {},
   "outputs": [
    {
     "data": {
      "text/plain": [
       "month_number  user_id\n",
       "1             1          451.0\n",
       "              3          277.0\n",
       "              5          277.0\n",
       "              7          367.0\n",
       "              12         397.0\n",
       "              13         451.0\n",
       "              14         403.0\n",
       "              15         433.0\n",
       "              20         373.0\n",
       "              22         277.0\n",
       "              25         301.0\n",
       "              26         361.0\n",
       "              30         349.0\n",
       "              32         349.0\n",
       "              35         541.0\n",
       "              42         337.0\n",
       "              43         481.0\n",
       "              44         313.0\n",
       "              45         361.0\n",
       "              46         319.0\n",
       "Name: revenue_per_month, dtype: float64"
      ]
     },
     "execution_count": 66,
     "metadata": {},
     "output_type": "execute_result"
    }
   ],
   "source": [
    "total_data['revenue_per_month'].head(20)"
   ]
  },
  {
   "cell_type": "markdown",
   "id": "72a97d26",
   "metadata": {},
   "source": [
    "**Общий вывод:**\n",
    "\n",
    "Была создана сводная таблица total_data, в которой агрегированны данные о поездках на основе датафрейма full_data с объединёнными данными\n",
    "\n",
    "Был проведен анализ данных пользователей, в результате которого было вычислено суммарное расстояние, количество поездок и общее время, проведенное каждым пользователем за каждый месяц. Кроме того, в таблицу был добавлен столбец, отражающий помесячную выручку, полученную от каждого пользователя."
   ]
  },
  {
   "cell_type": "markdown",
   "id": "29918603",
   "metadata": {},
   "source": [
    "#### Шаг 6. Проверка гипотез"
   ]
  },
  {
   "cell_type": "markdown",
   "id": "3b704559",
   "metadata": {},
   "source": [
    "##### Важно понять, тратят ли пользователи с подпиской больше времени на поездки? Если да, то пользователи с подпиской могут быть «выгоднее» для компании. Проверьте гипотезу. Используйте исходные данные о продолжительности каждой сессии — отдельно для подписчиков и тех, у кого нет подписки."
   ]
  },
  {
   "cell_type": "markdown",
   "id": "87f436f4",
   "metadata": {},
   "source": [
    "Проверим гипотезу **Пользователи с подпиской тратят больше времени на поездки, чем пользователи без подписки.**\n",
    "\n",
    "H0: Время пользователей с подпиской **ultra** равно времени пользователей с подпиской **free**\n",
    "\n",
    "H1: Время пользователей с подпиской **ultra** больше времени пользователей с подпиской **free**"
   ]
  },
  {
   "cell_type": "code",
   "execution_count": 67,
   "id": "23ea867b",
   "metadata": {},
   "outputs": [
    {
     "name": "stdout",
     "output_type": "stream",
     "text": [
      "1.2804098316645618e-34\n",
      "Отвергаем нулевую гипотезу\n"
     ]
    }
   ],
   "source": [
    "with_subs_duration = data_with_subscription['duration']\n",
    "without_subs_duration = data_without_subscription['duration']\n",
    "\n",
    "results = st.ttest_ind(with_subs_duration, without_subs_duration, alternative='greater')\n",
    "alpha = .05\n",
    "\n",
    "print(results.pvalue)\n",
    "\n",
    "if results.pvalue < alpha:\n",
    "    print('Отвергаем нулевую гипотезу')\n",
    "else:\n",
    "    print('Не удалось отвергнуть нулевую гипотезу')"
   ]
  },
  {
   "cell_type": "code",
   "execution_count": 68,
   "id": "d06d91b6",
   "metadata": {},
   "outputs": [
    {
     "data": {
      "image/png": "[encoded data removed]",
      "text/plain": [
       "<Figure size 432x288 with 1 Axes>"
      ]
     },
     "metadata": {
      "needs_background": "light"
     },
     "output_type": "display_data"
    }
   ],
   "source": [
    "ax = sns.barplot(\n",
    "    x='month_number',\n",
    "    y='duration',\n",
    "    hue='subscription_type',\n",
    "    data=full_data,\n",
    "    palette=['red', 'blue'],\n",
    ")\n",
    "ax.set_title('Распределение времени поездки по подписке')\n",
    "ax.set_xlabel('Номер месяца')\n",
    "ax.set_ylabel('Время поездки (мин.)');"
   ]
  },
  {
   "cell_type": "markdown",
   "id": "71eb339b",
   "metadata": {},
   "source": [
    "**Я проверил и опроверг гипотезу о том, что время поездок равно для людей без подписки и с подпиской \"ultra\". Гипотезу H1, о том, что время поездки подписчиков \"ultra\" больше времени людей без подписки, опровергнуть не удалось.**"
   ]
  },
  {
   "cell_type": "markdown",
   "id": "7dab634e",
   "metadata": {},
   "source": [
    "##### Расстояние одной поездки в 3130 метров — оптимальное с точки зрения износа самоката. Можно ли сказать, что расстояние, которое проезжают пользователи с подпиской за одну поездку, не превышает 3130 метров? Проверьте гипотезу и сделайте выводы."
   ]
  },
  {
   "cell_type": "markdown",
   "id": "4dffa7e1",
   "metadata": {},
   "source": [
    "Проверим гипотезу **Расстояние каждой поездки пользователей с подпиской не превышает 3130 метров**\n",
    "\n",
    "H0: Расстояние пользователей с подпиской равно 3130 метрам\n",
    "\n",
    "H1: Расстояние пользователей с подпиской меньше 3130 метров"
   ]
  },
  {
   "cell_type": "code",
   "execution_count": 69,
   "id": "439806a5",
   "metadata": {},
   "outputs": [
    {
     "name": "stdout",
     "output_type": "stream",
     "text": [
      "0.08046311521502146\n",
      "Не удалось отвергнуть нулевую гипотезу\n"
     ]
    }
   ],
   "source": [
    "with_subs_distance = data_with_subscription['distance']\n",
    "interested_value = 3130\n",
    "alpha = .05\n",
    "\n",
    "results = st.ttest_1samp(\n",
    "    with_subs_distance,\n",
    "    interested_value,\n",
    "    alternative='less'\n",
    ")\n",
    "\n",
    "print(results.pvalue)\n",
    "if results.pvalue < alpha:\n",
    "    print('Отвергаем нулевую гипотезу')\n",
    "else:\n",
    "    print('Не удалось отвергнуть нулевую гипотезу')"
   ]
  },
  {
   "cell_type": "markdown",
   "id": "a41be181",
   "metadata": {},
   "source": [
    "**Гипотеза была проверена, в итоге мы не можем сказать, что пользователи с подпиской проезжают не более 3130 метров.**"
   ]
  },
  {
   "cell_type": "markdown",
   "id": "e5d7b87b",
   "metadata": {},
   "source": [
    "##### Проверьте гипотезу о том, будет ли помесячная выручка от пользователей с подпиской по месяцам выше, чем выручка от пользователей без подписки. Сделайте вывод."
   ]
  },
  {
   "cell_type": "markdown",
   "id": "7901bbfc",
   "metadata": {},
   "source": [
    "Проверим гипотезу **Выручка от пользователей с подпиской выше, чем выручка от пользователей без подписки**\n",
    "\n",
    "H0: Выручка от пользователей с подпиской равна выручке от пользователей без подписки\n",
    "\n",
    "H1: Выручка от пользователей с подпиской больше выручки от пользователей без подписки"
   ]
  },
  {
   "cell_type": "code",
   "execution_count": 70,
   "id": "f4048106",
   "metadata": {},
   "outputs": [
    {
     "name": "stdout",
     "output_type": "stream",
     "text": [
      "1.577594269237221e-195\n",
      "Отвергаем нулевую гипотезу\n"
     ]
    }
   ],
   "source": [
    "with_subs_rev_per_month = total_data[total_data['subscription_type'] == 'ultra']['revenue_per_month']\n",
    "without_subs_rev_per_month = total_data[total_data['subscription_type'] == 'free']['revenue_per_month']\n",
    "alpha = .05\n",
    "\n",
    "results = st.ttest_ind(\n",
    "    with_subs_rev_per_month,\n",
    "    without_subs_rev_per_month,\n",
    "    alternative='greater'\n",
    ")\n",
    "print(results.pvalue)\n",
    "if results.pvalue < alpha:\n",
    "    print('Отвергаем нулевую гипотезу')\n",
    "else:\n",
    "    print('Не удалось отвергнуть нулевую гипотезу')"
   ]
  },
  {
   "cell_type": "markdown",
   "id": "e130ca90",
   "metadata": {},
   "source": [
    "**Нулевая гипотеза была опровергнута, так что мы можем сделать вывод, что выручка от пользователей с подпиской больше выручки, чем от пользователей без подписки.**"
   ]
  },
  {
   "cell_type": "markdown",
   "id": "4094d868",
   "metadata": {},
   "source": [
    "##### Представьте такую ситуацию: техническая команда сервиса обновила сервера, с которыми взаимодействует мобильное приложение. Она надеется, что из-за этого количество обращений в техподдержку значимо снизилось. Некоторый файл содержит для каждого пользователя данные о количестве обращений до обновления и после него. Какой тест вам понадобился бы для проверки этой гипотезы?"
   ]
  },
  {
   "cell_type": "markdown",
   "id": "6b476e7a",
   "metadata": {},
   "source": [
    "Я буду использовать гипотезу среднего для парных выборок.\n",
    "Они будут сформулированы по типу:\n",
    "\n",
    "H0: μ1=μ2\n",
    "\n",
    "H1: μ1!=μ2\n",
    "\n",
    "Где μ - это количество обращений в техподдержку.\n",
    "Метод бы я использовал **scipy.stats.ttest_rel()**"
   ]
  },
  {
   "cell_type": "markdown",
   "id": "969350d6",
   "metadata": {},
   "source": [
    "#### Общий вывод"
   ]
  },
  {
   "cell_type": "markdown",
   "id": "c689203e",
   "metadata": {},
   "source": [
    "1. Первоначальная обработка данных\n",
    "    * Тип столбца date был приведен к типу pandas.datetime.\n",
    "    * Был добавлен столбец month_number, который содержит в себе номер месяца\n",
    "    * В таблице users был устранен 31 пропуск, что составило 2% потери данных\n",
    "2. Исследовательский анализ данных\n",
    "    * В подписке чаще всего встречается Города Пятигорск и Екатеринбург. Возможно, это связано с тем, что Пятигорск по площади гораздо меньше Москвы и, соответственно, по меньшему городу на самокате перемещаться удобнее.\n",
    "    * Больше всего пользователей без подписки (54.4%). Возможно, это обусловлено тем, что пользователи не так часто пользуются сервисом и для них нет смысла покупать дополнительную подписку. Либо же, пользователи могут быть просто не осведомлены о наличии дополнительной подписки.\n",
    "    * Возраст пользователей в среднем распределился от 15 до 35 лет. Самый часто встречаемый возраст - 25 лет. Именно эта категория пользователей чаще всего пользуется сервисом.\n",
    "    * В среднем, пользователи сервиса проезжают около 3-4км (3000-4000м) за сеанс.\n",
    "    * В среднем одна поездка длится 15-25 минут.\n",
    "3. Объединение данных\n",
    "    * Был создан новый датафрейм full_data, который содержит все данные из трех датафреймов. Создали отдельные два датафрейма data_without_subscription и data_with_subscription дляразделения пользователей по категориям без подписки/с подпиской. Выяснено, что пользователи без подписки в среднем тратят на дорогу от 10 до 25 минут и проезжают расстояние от 2.5 до 4 км. Выяснено, что пользователи с подпиской в среднем тратят на дорогу от 10 до 20 минут и проезжают расстояние от 3 до 3.5 км.\n",
    "4. Подсчет выручки\n",
    "    * Была создана сводная таблица total_data, в которой агрегированны данные о поездках на основе датафрейма full_data с объединёнными данными. Был проведен анализ данных пользователей, в результате которого было вычислено суммарное расстояние, количество поездок и общее время, проведенное каждым пользователем за каждый месяц. Кроме того, в таблицу был добавлен столбец, отражающий помесячную выручку, полученную от каждого пользователя.\n",
    "5. Проверка гипотез\n",
    "    1. Я проверил и опроверг гипотезу о том, что время поездок равно для людей без подписки и с подпиской \"ultra\". Гипотезу H1, о том, что время поездки подписчиков \"ultra\" больше времени людей без подписки, опровергнуть не удалось.\n",
    "    2. Гипотеза была проверена, в итоге мы не можем сказать, что пользователи с подпиской проезжают не более 3130 метров.\n",
    "    3. Нулевая гипотеза была опровергнута, так что мы можем сделать вывод, что выручка от пользователей с подпиской больше выручки, чем от пользователей без подписки."
   ]
  },
  {
   "cell_type": "code",
   "execution_count": null,
   "id": "7d609009",
   "metadata": {},
   "outputs": [],
   "source": []
  }
 ],
 "metadata": {
  "ExecuteTimeLog": [
   {
    "duration": 454,
    "start_time": "2023-06-24T08:49:52.129Z"
   },
   {
    "duration": 230,
    "start_time": "2023-06-24T08:49:53.586Z"
   },
   {
    "duration": 13,
    "start_time": "2023-06-24T08:50:37.489Z"
   },
   {
    "duration": 13,
    "start_time": "2023-06-24T08:50:40.552Z"
   },
   {
    "duration": 13,
    "start_time": "2023-06-24T08:50:49.497Z"
   },
   {
    "duration": 13,
    "start_time": "2023-06-24T08:51:03.425Z"
   },
   {
    "duration": 12,
    "start_time": "2023-06-24T08:54:12.478Z"
   },
   {
    "duration": 1403,
    "start_time": "2023-06-24T08:55:34.276Z"
   },
   {
    "duration": 1853,
    "start_time": "2023-06-24T08:55:43.797Z"
   },
   {
    "duration": 12,
    "start_time": "2023-06-24T08:56:00.414Z"
   },
   {
    "duration": 39,
    "start_time": "2023-06-24T08:57:11.416Z"
   },
   {
    "duration": 6,
    "start_time": "2023-06-24T08:57:52.433Z"
   },
   {
    "duration": 10,
    "start_time": "2023-06-24T08:57:59.204Z"
   },
   {
    "duration": 12,
    "start_time": "2023-06-24T08:59:11.797Z"
   },
   {
    "duration": 9,
    "start_time": "2023-06-24T08:59:27.594Z"
   },
   {
    "duration": 9,
    "start_time": "2023-06-24T08:59:35.928Z"
   },
   {
    "duration": 7,
    "start_time": "2023-06-24T08:59:40.327Z"
   },
   {
    "duration": 15,
    "start_time": "2023-06-24T08:59:58.279Z"
   },
   {
    "duration": 7,
    "start_time": "2023-06-24T09:02:40.208Z"
   },
   {
    "duration": 5,
    "start_time": "2023-06-24T09:03:55.004Z"
   },
   {
    "duration": 8,
    "start_time": "2023-06-24T09:04:00.895Z"
   },
   {
    "duration": 5,
    "start_time": "2023-06-24T09:04:06.701Z"
   },
   {
    "duration": 14,
    "start_time": "2023-06-24T09:04:41.165Z"
   },
   {
    "duration": 1429,
    "start_time": "2023-06-24T09:05:19.872Z"
   },
   {
    "duration": 14,
    "start_time": "2023-06-24T09:05:26.181Z"
   },
   {
    "duration": 16,
    "start_time": "2023-06-24T09:11:55.959Z"
   },
   {
    "duration": 3,
    "start_time": "2023-06-24T09:12:19.443Z"
   },
   {
    "duration": 81,
    "start_time": "2023-06-24T09:12:19.448Z"
   },
   {
    "duration": 17,
    "start_time": "2023-06-24T09:12:19.531Z"
   },
   {
    "duration": 13,
    "start_time": "2023-06-24T09:12:19.550Z"
   },
   {
    "duration": 17,
    "start_time": "2023-06-24T09:12:19.565Z"
   },
   {
    "duration": 11,
    "start_time": "2023-06-24T09:12:19.583Z"
   },
   {
    "duration": 12,
    "start_time": "2023-06-24T09:12:19.596Z"
   },
   {
    "duration": 44,
    "start_time": "2023-06-24T09:12:19.610Z"
   },
   {
    "duration": 8,
    "start_time": "2023-06-24T09:12:19.656Z"
   },
   {
    "duration": 13,
    "start_time": "2023-06-24T09:12:19.666Z"
   },
   {
    "duration": 44,
    "start_time": "2023-06-24T09:12:19.682Z"
   },
   {
    "duration": 10,
    "start_time": "2023-06-24T09:12:25.187Z"
   },
   {
    "duration": 3,
    "start_time": "2023-06-24T09:12:30.348Z"
   },
   {
    "duration": 143,
    "start_time": "2023-06-24T09:12:30.353Z"
   },
   {
    "duration": 14,
    "start_time": "2023-06-24T09:12:30.499Z"
   },
   {
    "duration": 33,
    "start_time": "2023-06-24T09:12:30.515Z"
   },
   {
    "duration": 23,
    "start_time": "2023-06-24T09:12:30.551Z"
   },
   {
    "duration": 42,
    "start_time": "2023-06-24T09:12:30.576Z"
   },
   {
    "duration": 42,
    "start_time": "2023-06-24T09:12:30.620Z"
   },
   {
    "duration": 37,
    "start_time": "2023-06-24T09:12:30.664Z"
   },
   {
    "duration": 51,
    "start_time": "2023-06-24T09:12:30.704Z"
   },
   {
    "duration": 31,
    "start_time": "2023-06-24T09:12:30.757Z"
   },
   {
    "duration": 35,
    "start_time": "2023-06-24T09:12:30.790Z"
   },
   {
    "duration": 8,
    "start_time": "2023-06-24T09:13:07.309Z"
   },
   {
    "duration": 3,
    "start_time": "2023-06-24T09:13:14.403Z"
   },
   {
    "duration": 89,
    "start_time": "2023-06-24T09:13:14.408Z"
   },
   {
    "duration": 17,
    "start_time": "2023-06-24T09:13:14.498Z"
   },
   {
    "duration": 20,
    "start_time": "2023-06-24T09:13:14.518Z"
   },
   {
    "duration": 19,
    "start_time": "2023-06-24T09:13:14.541Z"
   },
   {
    "duration": 15,
    "start_time": "2023-06-24T09:13:14.562Z"
   },
   {
    "duration": 76,
    "start_time": "2023-06-24T09:13:14.579Z"
   },
   {
    "duration": 65,
    "start_time": "2023-06-24T09:13:14.657Z"
   },
   {
    "duration": 59,
    "start_time": "2023-06-24T09:13:14.724Z"
   },
   {
    "duration": 60,
    "start_time": "2023-06-24T09:13:14.785Z"
   },
   {
    "duration": 43,
    "start_time": "2023-06-24T09:13:14.847Z"
   },
   {
    "duration": 59,
    "start_time": "2023-06-24T09:13:14.892Z"
   },
   {
    "duration": 16,
    "start_time": "2023-06-24T09:14:04.365Z"
   },
   {
    "duration": 8,
    "start_time": "2023-06-24T09:14:16.970Z"
   },
   {
    "duration": 11,
    "start_time": "2023-06-24T09:14:26.924Z"
   },
   {
    "duration": 15,
    "start_time": "2023-06-24T09:15:48.204Z"
   },
   {
    "duration": 7,
    "start_time": "2023-06-24T09:16:00.320Z"
   },
   {
    "duration": 6,
    "start_time": "2023-06-24T09:16:11.421Z"
   },
   {
    "duration": 910,
    "start_time": "2023-06-24T09:18:57.151Z"
   },
   {
    "duration": 16,
    "start_time": "2023-06-24T09:19:06.333Z"
   },
   {
    "duration": 12,
    "start_time": "2023-06-24T09:19:30.831Z"
   },
   {
    "duration": 165,
    "start_time": "2023-06-24T09:21:07.171Z"
   },
   {
    "duration": 141,
    "start_time": "2023-06-24T09:21:14.703Z"
   },
   {
    "duration": 141,
    "start_time": "2023-06-25T18:37:22.304Z"
   },
   {
    "duration": 103,
    "start_time": "2023-06-25T18:37:30.886Z"
   },
   {
    "duration": 140,
    "start_time": "2023-06-25T18:37:34.790Z"
   },
   {
    "duration": 10,
    "start_time": "2023-06-25T18:37:49.190Z"
   },
   {
    "duration": 218,
    "start_time": "2023-06-25T18:37:56.474Z"
   },
   {
    "duration": 143,
    "start_time": "2023-06-25T18:38:01.171Z"
   },
   {
    "duration": 467,
    "start_time": "2023-06-25T18:41:27.931Z"
   },
   {
    "duration": 122,
    "start_time": "2023-06-25T18:41:48.255Z"
   },
   {
    "duration": 72,
    "start_time": "2023-06-25T18:41:52.411Z"
   },
   {
    "duration": 106,
    "start_time": "2023-06-25T18:42:01.030Z"
   },
   {
    "duration": 96,
    "start_time": "2023-06-25T18:43:30.556Z"
   },
   {
    "duration": 19470,
    "start_time": "2023-06-25T18:46:22.464Z"
   },
   {
    "duration": 20265,
    "start_time": "2023-06-25T18:46:59.634Z"
   },
   {
    "duration": 90,
    "start_time": "2023-06-25T18:47:23.685Z"
   },
   {
    "duration": 191,
    "start_time": "2023-06-25T18:47:32.841Z"
   },
   {
    "duration": 212,
    "start_time": "2023-06-25T18:47:40.914Z"
   },
   {
    "duration": 197,
    "start_time": "2023-06-25T18:47:46.939Z"
   },
   {
    "duration": 1449,
    "start_time": "2023-06-25T18:50:26.088Z"
   },
   {
    "duration": 222,
    "start_time": "2023-06-25T18:50:47.268Z"
   },
   {
    "duration": 667,
    "start_time": "2023-06-25T18:50:49.605Z"
   },
   {
    "duration": 222,
    "start_time": "2023-06-25T18:50:53.967Z"
   },
   {
    "duration": 301,
    "start_time": "2023-06-25T18:51:01.665Z"
   },
   {
    "duration": 142,
    "start_time": "2023-06-25T18:51:43.349Z"
   },
   {
    "duration": 139,
    "start_time": "2023-06-25T18:51:48.630Z"
   },
   {
    "duration": 242,
    "start_time": "2023-06-25T19:09:44.752Z"
   },
   {
    "duration": 223,
    "start_time": "2023-06-25T19:09:47.477Z"
   },
   {
    "duration": 18,
    "start_time": "2023-06-25T19:12:41.598Z"
   },
   {
    "duration": 37,
    "start_time": "2023-06-25T19:15:50.590Z"
   },
   {
    "duration": 13,
    "start_time": "2023-06-25T19:17:55.466Z"
   },
   {
    "duration": 6,
    "start_time": "2023-06-25T19:18:13.452Z"
   },
   {
    "duration": 210,
    "start_time": "2023-06-25T19:20:22.421Z"
   },
   {
    "duration": 211,
    "start_time": "2023-06-25T19:20:49.106Z"
   },
   {
    "duration": 236,
    "start_time": "2023-06-25T19:20:56.951Z"
   },
   {
    "duration": 214,
    "start_time": "2023-06-25T19:21:10.880Z"
   },
   {
    "duration": 228,
    "start_time": "2023-06-25T19:21:19.969Z"
   },
   {
    "duration": 212,
    "start_time": "2023-06-25T19:21:44.874Z"
   },
   {
    "duration": 221,
    "start_time": "2023-06-25T19:21:53.753Z"
   },
   {
    "duration": 215,
    "start_time": "2023-06-25T19:22:05.421Z"
   },
   {
    "duration": 207,
    "start_time": "2023-06-25T19:22:10.496Z"
   },
   {
    "duration": 504,
    "start_time": "2023-06-25T19:23:25.895Z"
   },
   {
    "duration": 706,
    "start_time": "2023-06-25T19:24:21.215Z"
   },
   {
    "duration": 280,
    "start_time": "2023-06-25T19:24:56.020Z"
   },
   {
    "duration": 1508,
    "start_time": "2023-06-25T19:25:55.411Z"
   },
   {
    "duration": 291,
    "start_time": "2023-06-25T19:26:01.866Z"
   },
   {
    "duration": 7,
    "start_time": "2023-06-25T19:28:30.043Z"
   },
   {
    "duration": 270,
    "start_time": "2023-06-25T19:28:39.137Z"
   },
   {
    "duration": 269,
    "start_time": "2023-06-25T19:28:43.041Z"
   },
   {
    "duration": 261,
    "start_time": "2023-06-25T19:29:06.567Z"
   },
   {
    "duration": 23,
    "start_time": "2023-06-25T19:35:02.198Z"
   },
   {
    "duration": 956,
    "start_time": "2023-06-25T19:35:32.549Z"
   },
   {
    "duration": 999,
    "start_time": "2023-06-25T19:35:37.930Z"
   },
   {
    "duration": 9,
    "start_time": "2023-06-25T19:35:49.963Z"
   },
   {
    "duration": 5,
    "start_time": "2023-06-25T19:37:38.673Z"
   },
   {
    "duration": 4,
    "start_time": "2023-06-25T19:40:40.804Z"
   },
   {
    "duration": 2138,
    "start_time": "2023-06-25T19:41:03.344Z"
   },
   {
    "duration": 99,
    "start_time": "2023-06-25T19:41:28.437Z"
   },
   {
    "duration": 3,
    "start_time": "2023-06-25T19:41:34.745Z"
   },
   {
    "duration": 1104,
    "start_time": "2023-06-25T19:41:36.061Z"
   },
   {
    "duration": 152,
    "start_time": "2023-06-25T19:41:54.673Z"
   },
   {
    "duration": 8,
    "start_time": "2023-06-25T19:42:10.062Z"
   },
   {
    "duration": 943,
    "start_time": "2023-06-25T19:42:15.351Z"
   },
   {
    "duration": 1147,
    "start_time": "2023-06-25T19:49:40.420Z"
   },
   {
    "duration": 41,
    "start_time": "2023-06-25T19:51:23.877Z"
   },
   {
    "duration": 7,
    "start_time": "2023-06-25T19:51:30.495Z"
   },
   {
    "duration": 13,
    "start_time": "2023-06-25T19:52:07.996Z"
   },
   {
    "duration": 7,
    "start_time": "2023-06-25T19:52:12.909Z"
   },
   {
    "duration": 12,
    "start_time": "2023-06-25T19:53:19.624Z"
   },
   {
    "duration": 6,
    "start_time": "2023-06-25T19:53:44.798Z"
   },
   {
    "duration": 60,
    "start_time": "2023-06-25T19:54:11.255Z"
   },
   {
    "duration": 732,
    "start_time": "2023-06-25T19:56:16.751Z"
   },
   {
    "duration": 956,
    "start_time": "2023-06-25T19:56:24.794Z"
   },
   {
    "duration": 920,
    "start_time": "2023-06-25T19:57:04.108Z"
   },
   {
    "duration": 902,
    "start_time": "2023-06-25T19:57:09.267Z"
   },
   {
    "duration": 875,
    "start_time": "2023-06-25T19:57:19.002Z"
   },
   {
    "duration": 127,
    "start_time": "2023-06-25T20:02:05.772Z"
   },
   {
    "duration": 11,
    "start_time": "2023-06-25T20:04:07.841Z"
   },
   {
    "duration": 6,
    "start_time": "2023-06-25T20:04:16.588Z"
   },
   {
    "duration": 86,
    "start_time": "2023-06-25T20:07:04.235Z"
   },
   {
    "duration": 1428,
    "start_time": "2023-06-25T20:09:09.318Z"
   },
   {
    "duration": 4,
    "start_time": "2023-06-25T20:09:17.446Z"
   },
   {
    "duration": 87,
    "start_time": "2023-06-25T20:09:17.453Z"
   },
   {
    "duration": 15,
    "start_time": "2023-06-25T20:09:17.542Z"
   },
   {
    "duration": 15,
    "start_time": "2023-06-25T20:09:17.559Z"
   },
   {
    "duration": 9,
    "start_time": "2023-06-25T20:09:17.577Z"
   },
   {
    "duration": 13,
    "start_time": "2023-06-25T20:09:17.588Z"
   },
   {
    "duration": 32,
    "start_time": "2023-06-25T20:09:17.603Z"
   },
   {
    "duration": 16,
    "start_time": "2023-06-25T20:09:17.637Z"
   },
   {
    "duration": 8,
    "start_time": "2023-06-25T20:09:17.654Z"
   },
   {
    "duration": 20,
    "start_time": "2023-06-25T20:09:17.664Z"
   },
   {
    "duration": 12,
    "start_time": "2023-06-25T20:09:17.686Z"
   },
   {
    "duration": 33,
    "start_time": "2023-06-25T20:09:17.700Z"
   },
   {
    "duration": 18,
    "start_time": "2023-06-25T20:09:17.735Z"
   },
   {
    "duration": 8,
    "start_time": "2023-06-25T20:09:17.757Z"
   },
   {
    "duration": 14,
    "start_time": "2023-06-25T20:09:17.766Z"
   },
   {
    "duration": 11,
    "start_time": "2023-06-25T20:09:17.781Z"
   },
   {
    "duration": 28,
    "start_time": "2023-06-25T20:09:17.793Z"
   },
   {
    "duration": 132,
    "start_time": "2023-06-25T20:09:17.823Z"
   },
   {
    "duration": 103,
    "start_time": "2023-06-25T20:09:17.957Z"
   },
   {
    "duration": 204,
    "start_time": "2023-06-25T20:09:18.062Z"
   },
   {
    "duration": 349,
    "start_time": "2023-06-25T20:09:18.268Z"
   },
   {
    "duration": 212,
    "start_time": "2023-06-25T20:09:18.619Z"
   },
   {
    "duration": 44,
    "start_time": "2023-06-25T20:09:18.833Z"
   },
   {
    "duration": 9,
    "start_time": "2023-06-25T20:09:18.879Z"
   },
   {
    "duration": 263,
    "start_time": "2023-06-25T20:09:18.890Z"
   },
   {
    "duration": 282,
    "start_time": "2023-06-25T20:09:19.155Z"
   },
   {
    "duration": 13,
    "start_time": "2023-06-25T20:09:19.439Z"
   },
   {
    "duration": 271,
    "start_time": "2023-06-25T20:09:19.454Z"
   },
   {
    "duration": 250,
    "start_time": "2023-06-25T20:09:19.727Z"
   },
   {
    "duration": 902,
    "start_time": "2023-06-25T20:09:19.979Z"
   },
   {
    "duration": 3,
    "start_time": "2023-06-25T20:09:20.883Z"
   },
   {
    "duration": 24,
    "start_time": "2023-06-25T20:09:20.888Z"
   },
   {
    "duration": 471,
    "start_time": "2023-06-25T20:09:20.914Z"
   },
   {
    "duration": 7,
    "start_time": "2023-06-25T20:09:21.387Z"
   },
   {
    "duration": 9,
    "start_time": "2023-06-25T20:09:21.396Z"
   },
   {
    "duration": 868,
    "start_time": "2023-06-25T20:09:21.407Z"
   },
   {
    "duration": 5,
    "start_time": "2023-06-25T20:09:22.276Z"
   },
   {
    "duration": 15,
    "start_time": "2023-06-25T20:09:22.283Z"
   },
   {
    "duration": 7,
    "start_time": "2023-06-25T20:23:14.634Z"
   },
   {
    "duration": 7,
    "start_time": "2023-06-25T20:23:51.301Z"
   },
   {
    "duration": 3,
    "start_time": "2023-06-25T20:29:46.389Z"
   },
   {
    "duration": 71,
    "start_time": "2023-06-25T20:29:46.395Z"
   },
   {
    "duration": 14,
    "start_time": "2023-06-25T20:29:46.468Z"
   },
   {
    "duration": 13,
    "start_time": "2023-06-25T20:29:46.484Z"
   },
   {
    "duration": 19,
    "start_time": "2023-06-25T20:29:46.500Z"
   },
   {
    "duration": 13,
    "start_time": "2023-06-25T20:29:46.522Z"
   },
   {
    "duration": 22,
    "start_time": "2023-06-25T20:29:46.537Z"
   },
   {
    "duration": 12,
    "start_time": "2023-06-25T20:29:46.560Z"
   },
   {
    "duration": 10,
    "start_time": "2023-06-25T20:29:46.573Z"
   },
   {
    "duration": 10,
    "start_time": "2023-06-25T20:29:46.585Z"
   },
   {
    "duration": 7,
    "start_time": "2023-06-25T20:29:46.596Z"
   },
   {
    "duration": 11,
    "start_time": "2023-06-25T20:29:46.604Z"
   },
   {
    "duration": 8,
    "start_time": "2023-06-25T20:29:46.616Z"
   },
   {
    "duration": 9,
    "start_time": "2023-06-25T20:29:46.654Z"
   },
   {
    "duration": 11,
    "start_time": "2023-06-25T20:29:46.665Z"
   },
   {
    "duration": 10,
    "start_time": "2023-06-25T20:29:46.677Z"
   },
   {
    "duration": 9,
    "start_time": "2023-06-25T20:29:46.689Z"
   },
   {
    "duration": 156,
    "start_time": "2023-06-25T20:29:46.700Z"
   },
   {
    "duration": 9,
    "start_time": "2023-06-25T20:29:46.857Z"
   },
   {
    "duration": 117,
    "start_time": "2023-06-25T20:29:46.868Z"
   },
   {
    "duration": 183,
    "start_time": "2023-06-25T20:29:46.987Z"
   },
   {
    "duration": 288,
    "start_time": "2023-06-25T20:29:47.172Z"
   },
   {
    "duration": 214,
    "start_time": "2023-06-25T20:29:47.462Z"
   },
   {
    "duration": 33,
    "start_time": "2023-06-25T20:29:47.677Z"
   },
   {
    "duration": 8,
    "start_time": "2023-06-25T20:29:47.711Z"
   },
   {
    "duration": 257,
    "start_time": "2023-06-25T20:29:47.721Z"
   },
   {
    "duration": 252,
    "start_time": "2023-06-25T20:29:47.980Z"
   },
   {
    "duration": 7,
    "start_time": "2023-06-25T20:29:48.234Z"
   },
   {
    "duration": 294,
    "start_time": "2023-06-25T20:29:48.251Z"
   },
   {
    "duration": 242,
    "start_time": "2023-06-25T20:29:48.549Z"
   },
   {
    "duration": 814,
    "start_time": "2023-06-25T20:29:48.793Z"
   },
   {
    "duration": 4,
    "start_time": "2023-06-25T20:29:49.609Z"
   },
   {
    "duration": 12,
    "start_time": "2023-06-25T20:29:49.615Z"
   },
   {
    "duration": 130,
    "start_time": "2023-06-25T20:29:49.629Z"
   },
   {
    "duration": 6,
    "start_time": "2023-06-25T20:29:49.761Z"
   },
   {
    "duration": 11,
    "start_time": "2023-06-25T20:29:49.769Z"
   },
   {
    "duration": 860,
    "start_time": "2023-06-25T20:29:49.781Z"
   },
   {
    "duration": 11,
    "start_time": "2023-06-25T20:29:50.643Z"
   },
   {
    "duration": 40,
    "start_time": "2023-06-25T20:29:50.656Z"
   },
   {
    "duration": 1397,
    "start_time": "2023-06-25T20:46:19.025Z"
   },
   {
    "duration": 347,
    "start_time": "2023-06-25T20:46:20.424Z"
   },
   {
    "duration": 20,
    "start_time": "2023-06-25T20:46:20.774Z"
   },
   {
    "duration": 22,
    "start_time": "2023-06-25T20:46:20.797Z"
   },
   {
    "duration": 8,
    "start_time": "2023-06-25T20:46:20.821Z"
   },
   {
    "duration": 12,
    "start_time": "2023-06-25T20:46:20.831Z"
   },
   {
    "duration": 25,
    "start_time": "2023-06-25T20:46:20.854Z"
   },
   {
    "duration": 8,
    "start_time": "2023-06-25T20:46:20.881Z"
   },
   {
    "duration": 16,
    "start_time": "2023-06-25T20:46:20.890Z"
   },
   {
    "duration": 22,
    "start_time": "2023-06-25T20:46:20.910Z"
   },
   {
    "duration": 9,
    "start_time": "2023-06-25T20:46:20.934Z"
   },
   {
    "duration": 26,
    "start_time": "2023-06-25T20:46:20.945Z"
   },
   {
    "duration": 13,
    "start_time": "2023-06-25T20:46:20.975Z"
   },
   {
    "duration": 21,
    "start_time": "2023-06-25T20:46:20.990Z"
   },
   {
    "duration": 14,
    "start_time": "2023-06-25T20:46:21.014Z"
   },
   {
    "duration": 12,
    "start_time": "2023-06-25T20:46:21.030Z"
   },
   {
    "duration": 14,
    "start_time": "2023-06-25T20:46:21.043Z"
   },
   {
    "duration": 148,
    "start_time": "2023-06-25T20:46:21.059Z"
   },
   {
    "duration": 10,
    "start_time": "2023-06-25T20:46:21.209Z"
   },
   {
    "duration": 111,
    "start_time": "2023-06-25T20:46:21.220Z"
   },
   {
    "duration": 177,
    "start_time": "2023-06-25T20:46:21.332Z"
   },
   {
    "duration": 283,
    "start_time": "2023-06-25T20:46:21.511Z"
   },
   {
    "duration": 206,
    "start_time": "2023-06-25T20:46:21.795Z"
   },
   {
    "duration": 32,
    "start_time": "2023-06-25T20:46:22.003Z"
   },
   {
    "duration": 32,
    "start_time": "2023-06-25T20:46:22.038Z"
   },
   {
    "duration": 253,
    "start_time": "2023-06-25T20:46:22.072Z"
   },
   {
    "duration": 372,
    "start_time": "2023-06-25T20:46:22.327Z"
   },
   {
    "duration": 8,
    "start_time": "2023-06-25T20:46:22.704Z"
   },
   {
    "duration": 301,
    "start_time": "2023-06-25T20:46:22.714Z"
   },
   {
    "duration": 262,
    "start_time": "2023-06-25T20:46:23.016Z"
   },
   {
    "duration": 895,
    "start_time": "2023-06-25T20:46:23.280Z"
   },
   {
    "duration": 4,
    "start_time": "2023-06-25T20:46:24.178Z"
   },
   {
    "duration": 22,
    "start_time": "2023-06-25T20:46:24.184Z"
   },
   {
    "duration": 174,
    "start_time": "2023-06-25T20:46:24.207Z"
   },
   {
    "duration": 8,
    "start_time": "2023-06-25T20:46:24.383Z"
   },
   {
    "duration": 23,
    "start_time": "2023-06-25T20:46:24.393Z"
   },
   {
    "duration": 905,
    "start_time": "2023-06-25T20:46:24.418Z"
   },
   {
    "duration": 5,
    "start_time": "2023-06-25T20:46:25.325Z"
   },
   {
    "duration": 24,
    "start_time": "2023-06-25T20:46:25.332Z"
   },
   {
    "duration": 1605,
    "start_time": "2023-06-26T13:42:10.852Z"
   },
   {
    "duration": 225,
    "start_time": "2023-06-26T13:42:12.460Z"
   },
   {
    "duration": 17,
    "start_time": "2023-06-26T13:42:12.687Z"
   },
   {
    "duration": 87,
    "start_time": "2023-06-26T13:42:12.706Z"
   },
   {
    "duration": 121,
    "start_time": "2023-06-26T13:42:12.796Z"
   },
   {
    "duration": 89,
    "start_time": "2023-06-26T13:42:12.919Z"
   },
   {
    "duration": 116,
    "start_time": "2023-06-26T13:42:13.010Z"
   },
   {
    "duration": 71,
    "start_time": "2023-06-26T13:42:13.129Z"
   },
   {
    "duration": 81,
    "start_time": "2023-06-26T13:42:13.202Z"
   },
   {
    "duration": 105,
    "start_time": "2023-06-26T13:42:13.286Z"
   },
   {
    "duration": 50,
    "start_time": "2023-06-26T13:42:13.393Z"
   },
   {
    "duration": 98,
    "start_time": "2023-06-26T13:42:13.445Z"
   },
   {
    "duration": 80,
    "start_time": "2023-06-26T13:42:13.545Z"
   },
   {
    "duration": 87,
    "start_time": "2023-06-26T13:42:13.629Z"
   },
   {
    "duration": 40,
    "start_time": "2023-06-26T13:42:13.719Z"
   },
   {
    "duration": 52,
    "start_time": "2023-06-26T13:42:13.761Z"
   },
   {
    "duration": 70,
    "start_time": "2023-06-26T13:42:13.815Z"
   },
   {
    "duration": 214,
    "start_time": "2023-06-26T13:42:13.887Z"
   },
   {
    "duration": 10,
    "start_time": "2023-06-26T13:42:14.103Z"
   },
   {
    "duration": 167,
    "start_time": "2023-06-26T13:42:14.115Z"
   },
   {
    "duration": 208,
    "start_time": "2023-06-26T13:42:14.284Z"
   },
   {
    "duration": 334,
    "start_time": "2023-06-26T13:42:14.495Z"
   },
   {
    "duration": 256,
    "start_time": "2023-06-26T13:42:14.831Z"
   },
   {
    "duration": 38,
    "start_time": "2023-06-26T13:42:15.089Z"
   },
   {
    "duration": 133,
    "start_time": "2023-06-26T13:42:15.129Z"
   },
   {
    "duration": 450,
    "start_time": "2023-06-26T13:42:15.264Z"
   },
   {
    "duration": 422,
    "start_time": "2023-06-26T13:42:15.715Z"
   },
   {
    "duration": 20,
    "start_time": "2023-06-26T13:42:16.140Z"
   },
   {
    "duration": 542,
    "start_time": "2023-06-26T13:42:16.162Z"
   },
   {
    "duration": 294,
    "start_time": "2023-06-26T13:42:16.706Z"
   },
   {
    "duration": 990,
    "start_time": "2023-06-26T13:42:17.003Z"
   },
   {
    "duration": 5,
    "start_time": "2023-06-26T13:42:17.995Z"
   },
   {
    "duration": 210,
    "start_time": "2023-06-26T13:42:18.002Z"
   },
   {
    "duration": 205,
    "start_time": "2023-06-26T13:42:18.214Z"
   },
   {
    "duration": 36,
    "start_time": "2023-06-26T13:42:18.421Z"
   },
   {
    "duration": 96,
    "start_time": "2023-06-26T13:42:18.459Z"
   },
   {
    "duration": 1291,
    "start_time": "2023-06-26T13:42:18.557Z"
   },
   {
    "duration": 9,
    "start_time": "2023-06-26T13:42:19.852Z"
   },
   {
    "duration": 131,
    "start_time": "2023-06-26T13:42:19.865Z"
   },
   {
    "duration": 6,
    "start_time": "2023-06-26T13:51:29.830Z"
   },
   {
    "duration": 24,
    "start_time": "2023-06-26T13:51:43.053Z"
   },
   {
    "duration": 61,
    "start_time": "2023-06-26T14:03:36.097Z"
   },
   {
    "duration": 1688,
    "start_time": "2023-06-26T14:03:40.195Z"
   },
   {
    "duration": 212,
    "start_time": "2023-06-26T14:03:41.886Z"
   },
   {
    "duration": 16,
    "start_time": "2023-06-26T14:03:42.100Z"
   },
   {
    "duration": 156,
    "start_time": "2023-06-26T14:03:42.117Z"
   },
   {
    "duration": 30,
    "start_time": "2023-06-26T14:03:42.276Z"
   },
   {
    "duration": 13,
    "start_time": "2023-06-26T14:03:42.308Z"
   },
   {
    "duration": 67,
    "start_time": "2023-06-26T14:03:42.323Z"
   },
   {
    "duration": 28,
    "start_time": "2023-06-26T14:03:42.392Z"
   },
   {
    "duration": 37,
    "start_time": "2023-06-26T14:03:42.422Z"
   },
   {
    "duration": 16,
    "start_time": "2023-06-26T14:03:42.461Z"
   },
   {
    "duration": 9,
    "start_time": "2023-06-26T14:03:42.479Z"
   },
   {
    "duration": 30,
    "start_time": "2023-06-26T14:03:42.489Z"
   },
   {
    "duration": 17,
    "start_time": "2023-06-26T14:03:42.521Z"
   },
   {
    "duration": 55,
    "start_time": "2023-06-26T14:03:42.541Z"
   },
   {
    "duration": 20,
    "start_time": "2023-06-26T14:03:42.598Z"
   },
   {
    "duration": 18,
    "start_time": "2023-06-26T14:03:42.620Z"
   },
   {
    "duration": 33,
    "start_time": "2023-06-26T14:03:42.640Z"
   },
   {
    "duration": 202,
    "start_time": "2023-06-26T14:03:42.675Z"
   },
   {
    "duration": 10,
    "start_time": "2023-06-26T14:03:42.879Z"
   },
   {
    "duration": 135,
    "start_time": "2023-06-26T14:03:42.891Z"
   },
   {
    "duration": 208,
    "start_time": "2023-06-26T14:03:43.027Z"
   },
   {
    "duration": 302,
    "start_time": "2023-06-26T14:03:43.237Z"
   },
   {
    "duration": 246,
    "start_time": "2023-06-26T14:03:43.541Z"
   },
   {
    "duration": 51,
    "start_time": "2023-06-26T14:03:43.789Z"
   },
   {
    "duration": 11,
    "start_time": "2023-06-26T14:03:43.841Z"
   },
   {
    "duration": 287,
    "start_time": "2023-06-26T14:03:43.853Z"
   },
   {
    "duration": 384,
    "start_time": "2023-06-26T14:03:44.143Z"
   },
   {
    "duration": 8,
    "start_time": "2023-06-26T14:03:44.528Z"
   },
   {
    "duration": 288,
    "start_time": "2023-06-26T14:03:44.538Z"
   },
   {
    "duration": 269,
    "start_time": "2023-06-26T14:03:44.828Z"
   },
   {
    "duration": 916,
    "start_time": "2023-06-26T14:03:45.099Z"
   },
   {
    "duration": 4,
    "start_time": "2023-06-26T14:03:46.019Z"
   },
   {
    "duration": 83,
    "start_time": "2023-06-26T14:03:46.028Z"
   },
   {
    "duration": 187,
    "start_time": "2023-06-26T14:03:46.114Z"
   },
   {
    "duration": 11,
    "start_time": "2023-06-26T14:03:46.302Z"
   },
   {
    "duration": 45,
    "start_time": "2023-06-26T14:03:46.315Z"
   },
   {
    "duration": 910,
    "start_time": "2023-06-26T14:03:46.363Z"
   },
   {
    "duration": 7,
    "start_time": "2023-06-26T14:03:47.275Z"
   },
   {
    "duration": 67,
    "start_time": "2023-06-26T14:03:47.285Z"
   },
   {
    "duration": 157,
    "start_time": "2023-06-26T14:04:02.893Z"
   },
   {
    "duration": 45,
    "start_time": "2023-06-26T14:11:40.753Z"
   },
   {
    "duration": 41,
    "start_time": "2023-06-26T14:12:55.093Z"
   },
   {
    "duration": 44,
    "start_time": "2023-06-26T14:13:16.462Z"
   },
   {
    "duration": 3,
    "start_time": "2023-06-26T14:14:45.588Z"
   },
   {
    "duration": 92,
    "start_time": "2023-06-26T14:14:45.593Z"
   },
   {
    "duration": 13,
    "start_time": "2023-06-26T14:14:45.686Z"
   },
   {
    "duration": 51,
    "start_time": "2023-06-26T14:14:45.701Z"
   },
   {
    "duration": 32,
    "start_time": "2023-06-26T14:14:45.755Z"
   },
   {
    "duration": 79,
    "start_time": "2023-06-26T14:14:45.789Z"
   },
   {
    "duration": 65,
    "start_time": "2023-06-26T14:14:45.870Z"
   },
   {
    "duration": 59,
    "start_time": "2023-06-26T14:14:45.937Z"
   },
   {
    "duration": 44,
    "start_time": "2023-06-26T14:14:45.998Z"
   },
   {
    "duration": 54,
    "start_time": "2023-06-26T14:14:46.044Z"
   },
   {
    "duration": 40,
    "start_time": "2023-06-26T14:14:46.100Z"
   },
   {
    "duration": 43,
    "start_time": "2023-06-26T14:14:46.143Z"
   },
   {
    "duration": 37,
    "start_time": "2023-06-26T14:14:46.188Z"
   },
   {
    "duration": 50,
    "start_time": "2023-06-26T14:14:46.228Z"
   },
   {
    "duration": 26,
    "start_time": "2023-06-26T14:14:46.280Z"
   },
   {
    "duration": 18,
    "start_time": "2023-06-26T14:14:46.308Z"
   },
   {
    "duration": 18,
    "start_time": "2023-06-26T14:14:46.327Z"
   },
   {
    "duration": 159,
    "start_time": "2023-06-26T14:14:46.347Z"
   },
   {
    "duration": 8,
    "start_time": "2023-06-26T14:14:46.508Z"
   },
   {
    "duration": 119,
    "start_time": "2023-06-26T14:14:46.517Z"
   },
   {
    "duration": 193,
    "start_time": "2023-06-26T14:14:46.638Z"
   },
   {
    "duration": 401,
    "start_time": "2023-06-26T14:14:46.832Z"
   },
   {
    "duration": 223,
    "start_time": "2023-06-26T14:14:47.235Z"
   },
   {
    "duration": 35,
    "start_time": "2023-06-26T14:14:47.460Z"
   },
   {
    "duration": 50,
    "start_time": "2023-06-26T14:14:47.497Z"
   },
   {
    "duration": 7,
    "start_time": "2023-06-26T14:14:47.549Z"
   },
   {
    "duration": 280,
    "start_time": "2023-06-26T14:14:47.558Z"
   },
   {
    "duration": 484,
    "start_time": "2023-06-26T14:14:47.841Z"
   },
   {
    "duration": 7,
    "start_time": "2023-06-26T14:14:48.327Z"
   },
   {
    "duration": 578,
    "start_time": "2023-06-26T14:14:48.336Z"
   },
   {
    "duration": 518,
    "start_time": "2023-06-26T14:14:48.916Z"
   },
   {
    "duration": 1219,
    "start_time": "2023-06-26T14:14:49.436Z"
   },
   {
    "duration": 4,
    "start_time": "2023-06-26T14:14:50.657Z"
   },
   {
    "duration": 23,
    "start_time": "2023-06-26T14:14:50.663Z"
   },
   {
    "duration": 243,
    "start_time": "2023-06-26T14:14:50.688Z"
   },
   {
    "duration": 7,
    "start_time": "2023-06-26T14:14:50.932Z"
   },
   {
    "duration": 52,
    "start_time": "2023-06-26T14:14:50.940Z"
   },
   {
    "duration": 1226,
    "start_time": "2023-06-26T14:14:50.994Z"
   },
   {
    "duration": 6,
    "start_time": "2023-06-26T14:14:52.222Z"
   },
   {
    "duration": 85,
    "start_time": "2023-06-26T14:14:52.229Z"
   },
   {
    "duration": 42,
    "start_time": "2023-06-26T14:15:06.092Z"
   },
   {
    "duration": 3,
    "start_time": "2023-06-26T14:16:45.677Z"
   },
   {
    "duration": 82,
    "start_time": "2023-06-26T14:16:45.683Z"
   },
   {
    "duration": 13,
    "start_time": "2023-06-26T14:16:45.767Z"
   },
   {
    "duration": 23,
    "start_time": "2023-06-26T14:16:45.782Z"
   },
   {
    "duration": 22,
    "start_time": "2023-06-26T14:16:45.807Z"
   },
   {
    "duration": 12,
    "start_time": "2023-06-26T14:16:45.831Z"
   },
   {
    "duration": 42,
    "start_time": "2023-06-26T14:16:45.845Z"
   },
   {
    "duration": 26,
    "start_time": "2023-06-26T14:16:45.889Z"
   },
   {
    "duration": 17,
    "start_time": "2023-06-26T14:16:45.917Z"
   },
   {
    "duration": 20,
    "start_time": "2023-06-26T14:16:45.937Z"
   },
   {
    "duration": 34,
    "start_time": "2023-06-26T14:16:45.960Z"
   },
   {
    "duration": 41,
    "start_time": "2023-06-26T14:16:45.996Z"
   },
   {
    "duration": 33,
    "start_time": "2023-06-26T14:16:46.039Z"
   },
   {
    "duration": 24,
    "start_time": "2023-06-26T14:16:46.076Z"
   },
   {
    "duration": 24,
    "start_time": "2023-06-26T14:16:46.102Z"
   },
   {
    "duration": 22,
    "start_time": "2023-06-26T14:16:46.128Z"
   },
   {
    "duration": 23,
    "start_time": "2023-06-26T14:16:46.153Z"
   },
   {
    "duration": 170,
    "start_time": "2023-06-26T14:16:46.178Z"
   },
   {
    "duration": 8,
    "start_time": "2023-06-26T14:16:46.350Z"
   },
   {
    "duration": 110,
    "start_time": "2023-06-26T14:16:46.360Z"
   },
   {
    "duration": 195,
    "start_time": "2023-06-26T14:16:46.472Z"
   },
   {
    "duration": 289,
    "start_time": "2023-06-26T14:16:46.669Z"
   },
   {
    "duration": 223,
    "start_time": "2023-06-26T14:16:46.959Z"
   },
   {
    "duration": 40,
    "start_time": "2023-06-26T14:16:47.184Z"
   },
   {
    "duration": 42,
    "start_time": "2023-06-26T14:16:47.226Z"
   },
   {
    "duration": 9,
    "start_time": "2023-06-26T14:16:47.269Z"
   },
   {
    "duration": 290,
    "start_time": "2023-06-26T14:16:47.280Z"
   },
   {
    "duration": 263,
    "start_time": "2023-06-26T14:16:47.572Z"
   },
   {
    "duration": 6,
    "start_time": "2023-06-26T14:16:47.837Z"
   },
   {
    "duration": 417,
    "start_time": "2023-06-26T14:16:47.845Z"
   },
   {
    "duration": 252,
    "start_time": "2023-06-26T14:16:48.264Z"
   },
   {
    "duration": 855,
    "start_time": "2023-06-26T14:16:48.518Z"
   },
   {
    "duration": 5,
    "start_time": "2023-06-26T14:16:49.376Z"
   },
   {
    "duration": 35,
    "start_time": "2023-06-26T14:16:49.383Z"
   },
   {
    "duration": 160,
    "start_time": "2023-06-26T14:16:49.420Z"
   },
   {
    "duration": 7,
    "start_time": "2023-06-26T14:16:49.582Z"
   },
   {
    "duration": 23,
    "start_time": "2023-06-26T14:16:49.591Z"
   },
   {
    "duration": 1134,
    "start_time": "2023-06-26T14:16:49.616Z"
   },
   {
    "duration": 57,
    "start_time": "2023-06-26T14:16:50.752Z"
   },
   {
    "duration": 13,
    "start_time": "2023-06-26T14:16:50.811Z"
   },
   {
    "duration": 10,
    "start_time": "2023-06-26T14:18:23.787Z"
   },
   {
    "duration": 17,
    "start_time": "2023-06-26T14:20:33.647Z"
   },
   {
    "duration": 16,
    "start_time": "2023-06-26T14:20:42.715Z"
   },
   {
    "duration": 3,
    "start_time": "2023-06-26T14:20:45.080Z"
   },
   {
    "duration": 190,
    "start_time": "2023-06-26T14:20:45.086Z"
   },
   {
    "duration": 13,
    "start_time": "2023-06-26T14:20:45.278Z"
   },
   {
    "duration": 20,
    "start_time": "2023-06-26T14:20:45.293Z"
   },
   {
    "duration": 39,
    "start_time": "2023-06-26T14:20:45.319Z"
   },
   {
    "duration": 30,
    "start_time": "2023-06-26T14:20:45.359Z"
   },
   {
    "duration": 67,
    "start_time": "2023-06-26T14:20:45.391Z"
   },
   {
    "duration": 40,
    "start_time": "2023-06-26T14:20:45.460Z"
   },
   {
    "duration": 48,
    "start_time": "2023-06-26T14:20:45.502Z"
   },
   {
    "duration": 23,
    "start_time": "2023-06-26T14:20:45.551Z"
   },
   {
    "duration": 58,
    "start_time": "2023-06-26T14:20:45.576Z"
   },
   {
    "duration": 52,
    "start_time": "2023-06-26T14:20:45.636Z"
   },
   {
    "duration": 32,
    "start_time": "2023-06-26T14:20:45.690Z"
   },
   {
    "duration": 36,
    "start_time": "2023-06-26T14:20:45.726Z"
   },
   {
    "duration": 24,
    "start_time": "2023-06-26T14:20:45.764Z"
   },
   {
    "duration": 78,
    "start_time": "2023-06-26T14:20:45.790Z"
   },
   {
    "duration": 43,
    "start_time": "2023-06-26T14:20:45.870Z"
   },
   {
    "duration": 213,
    "start_time": "2023-06-26T14:20:45.915Z"
   },
   {
    "duration": 9,
    "start_time": "2023-06-26T14:20:46.131Z"
   },
   {
    "duration": 121,
    "start_time": "2023-06-26T14:20:46.142Z"
   },
   {
    "duration": 222,
    "start_time": "2023-06-26T14:20:46.265Z"
   },
   {
    "duration": 304,
    "start_time": "2023-06-26T14:20:46.489Z"
   },
   {
    "duration": 243,
    "start_time": "2023-06-26T14:20:46.794Z"
   },
   {
    "duration": 33,
    "start_time": "2023-06-26T14:20:47.039Z"
   },
   {
    "duration": 64,
    "start_time": "2023-06-26T14:20:47.074Z"
   },
   {
    "duration": 88,
    "start_time": "2023-06-26T14:20:47.139Z"
   },
   {
    "duration": 499,
    "start_time": "2023-06-26T14:20:47.228Z"
   },
   {
    "duration": 284,
    "start_time": "2023-06-26T14:20:47.729Z"
   },
   {
    "duration": 9,
    "start_time": "2023-06-26T14:20:48.015Z"
   },
   {
    "duration": 544,
    "start_time": "2023-06-26T14:20:48.026Z"
   },
   {
    "duration": 285,
    "start_time": "2023-06-26T14:20:48.571Z"
   },
   {
    "duration": 1378,
    "start_time": "2023-06-26T14:20:48.858Z"
   },
   {
    "duration": 4,
    "start_time": "2023-06-26T14:20:50.238Z"
   },
   {
    "duration": 66,
    "start_time": "2023-06-26T14:20:50.244Z"
   },
   {
    "duration": 319,
    "start_time": "2023-06-26T14:20:50.313Z"
   },
   {
    "duration": 7,
    "start_time": "2023-06-26T14:20:50.634Z"
   },
   {
    "duration": 69,
    "start_time": "2023-06-26T14:20:50.643Z"
   },
   {
    "duration": 1566,
    "start_time": "2023-06-26T14:20:50.714Z"
   },
   {
    "duration": 5,
    "start_time": "2023-06-26T14:20:52.282Z"
   },
   {
    "duration": 48,
    "start_time": "2023-06-26T14:20:52.289Z"
   },
   {
    "duration": 27,
    "start_time": "2023-06-26T14:21:22.183Z"
   },
   {
    "duration": 26,
    "start_time": "2023-06-26T14:21:32.379Z"
   },
   {
    "duration": 71,
    "start_time": "2023-06-26T14:22:21.526Z"
   },
   {
    "duration": 5,
    "start_time": "2023-06-26T14:22:25.079Z"
   },
   {
    "duration": 4,
    "start_time": "2023-06-26T14:22:29.287Z"
   },
   {
    "duration": 141,
    "start_time": "2023-06-26T14:22:29.292Z"
   },
   {
    "duration": 15,
    "start_time": "2023-06-26T14:22:29.436Z"
   },
   {
    "duration": 40,
    "start_time": "2023-06-26T14:22:29.453Z"
   },
   {
    "duration": 30,
    "start_time": "2023-06-26T14:22:29.495Z"
   },
   {
    "duration": 22,
    "start_time": "2023-06-26T14:22:29.527Z"
   },
   {
    "duration": 26,
    "start_time": "2023-06-26T14:22:29.551Z"
   },
   {
    "duration": 50,
    "start_time": "2023-06-26T14:22:29.580Z"
   },
   {
    "duration": 20,
    "start_time": "2023-06-26T14:22:29.633Z"
   },
   {
    "duration": 29,
    "start_time": "2023-06-26T14:22:29.655Z"
   },
   {
    "duration": 19,
    "start_time": "2023-06-26T14:22:29.686Z"
   },
   {
    "duration": 38,
    "start_time": "2023-06-26T14:22:29.707Z"
   },
   {
    "duration": 29,
    "start_time": "2023-06-26T14:22:29.747Z"
   },
   {
    "duration": 28,
    "start_time": "2023-06-26T14:22:29.778Z"
   },
   {
    "duration": 28,
    "start_time": "2023-06-26T14:22:29.808Z"
   },
   {
    "duration": 28,
    "start_time": "2023-06-26T14:22:29.838Z"
   },
   {
    "duration": 37,
    "start_time": "2023-06-26T14:22:29.868Z"
   },
   {
    "duration": 185,
    "start_time": "2023-06-26T14:22:29.907Z"
   },
   {
    "duration": 17,
    "start_time": "2023-06-26T14:22:30.094Z"
   },
   {
    "duration": 131,
    "start_time": "2023-06-26T14:22:30.113Z"
   },
   {
    "duration": 309,
    "start_time": "2023-06-26T14:22:30.245Z"
   },
   {
    "duration": 295,
    "start_time": "2023-06-26T14:22:30.556Z"
   },
   {
    "duration": 230,
    "start_time": "2023-06-26T14:22:30.854Z"
   },
   {
    "duration": 46,
    "start_time": "2023-06-26T14:22:31.087Z"
   },
   {
    "duration": 13,
    "start_time": "2023-06-26T14:22:31.134Z"
   },
   {
    "duration": 73,
    "start_time": "2023-06-26T14:22:31.149Z"
   },
   {
    "duration": 361,
    "start_time": "2023-06-26T14:22:31.225Z"
   },
   {
    "duration": 262,
    "start_time": "2023-06-26T14:22:31.587Z"
   },
   {
    "duration": 7,
    "start_time": "2023-06-26T14:22:31.851Z"
   },
   {
    "duration": 323,
    "start_time": "2023-06-26T14:22:31.860Z"
   },
   {
    "duration": 261,
    "start_time": "2023-06-26T14:22:32.185Z"
   },
   {
    "duration": 892,
    "start_time": "2023-06-26T14:22:32.448Z"
   },
   {
    "duration": 4,
    "start_time": "2023-06-26T14:22:33.341Z"
   },
   {
    "duration": 11,
    "start_time": "2023-06-26T14:22:33.347Z"
   },
   {
    "duration": 258,
    "start_time": "2023-06-26T14:22:33.360Z"
   },
   {
    "duration": 7,
    "start_time": "2023-06-26T14:22:33.620Z"
   },
   {
    "duration": 19,
    "start_time": "2023-06-26T14:22:33.629Z"
   },
   {
    "duration": 895,
    "start_time": "2023-06-26T14:22:33.650Z"
   },
   {
    "duration": 6,
    "start_time": "2023-06-26T14:22:34.547Z"
   },
   {
    "duration": 51,
    "start_time": "2023-06-26T14:22:34.554Z"
   },
   {
    "duration": 33,
    "start_time": "2023-06-26T14:22:45.747Z"
   },
   {
    "duration": 4,
    "start_time": "2023-06-26T14:22:48.166Z"
   },
   {
    "duration": 89,
    "start_time": "2023-06-26T14:22:48.171Z"
   },
   {
    "duration": 14,
    "start_time": "2023-06-26T14:22:48.262Z"
   },
   {
    "duration": 19,
    "start_time": "2023-06-26T14:22:48.279Z"
   },
   {
    "duration": 12,
    "start_time": "2023-06-26T14:22:48.300Z"
   },
   {
    "duration": 12,
    "start_time": "2023-06-26T14:22:48.313Z"
   },
   {
    "duration": 15,
    "start_time": "2023-06-26T14:22:48.327Z"
   },
   {
    "duration": 22,
    "start_time": "2023-06-26T14:22:48.344Z"
   },
   {
    "duration": 9,
    "start_time": "2023-06-26T14:22:48.368Z"
   },
   {
    "duration": 14,
    "start_time": "2023-06-26T14:22:48.379Z"
   },
   {
    "duration": 14,
    "start_time": "2023-06-26T14:22:48.395Z"
   },
   {
    "duration": 12,
    "start_time": "2023-06-26T14:22:48.411Z"
   },
   {
    "duration": 7,
    "start_time": "2023-06-26T14:22:48.424Z"
   },
   {
    "duration": 9,
    "start_time": "2023-06-26T14:22:48.432Z"
   },
   {
    "duration": 12,
    "start_time": "2023-06-26T14:22:48.442Z"
   },
   {
    "duration": 10,
    "start_time": "2023-06-26T14:22:48.456Z"
   },
   {
    "duration": 45,
    "start_time": "2023-06-26T14:22:48.468Z"
   },
   {
    "duration": 169,
    "start_time": "2023-06-26T14:22:48.515Z"
   },
   {
    "duration": 7,
    "start_time": "2023-06-26T14:22:48.686Z"
   },
   {
    "duration": 106,
    "start_time": "2023-06-26T14:22:48.695Z"
   },
   {
    "duration": 194,
    "start_time": "2023-06-26T14:22:48.809Z"
   },
   {
    "duration": 292,
    "start_time": "2023-06-26T14:22:49.009Z"
   },
   {
    "duration": 257,
    "start_time": "2023-06-26T14:22:49.303Z"
   },
   {
    "duration": 44,
    "start_time": "2023-06-26T14:22:49.566Z"
   },
   {
    "duration": 4,
    "start_time": "2023-06-26T14:22:49.612Z"
   },
   {
    "duration": 20,
    "start_time": "2023-06-26T14:22:49.617Z"
   },
   {
    "duration": 277,
    "start_time": "2023-06-26T14:22:49.640Z"
   },
   {
    "duration": 713,
    "start_time": "2023-06-26T14:22:49.919Z"
   },
   {
    "duration": 8,
    "start_time": "2023-06-26T14:22:50.634Z"
   },
   {
    "duration": 592,
    "start_time": "2023-06-26T14:22:50.643Z"
   },
   {
    "duration": 572,
    "start_time": "2023-06-26T14:22:51.237Z"
   },
   {
    "duration": 1035,
    "start_time": "2023-06-26T14:22:51.811Z"
   },
   {
    "duration": 4,
    "start_time": "2023-06-26T14:22:52.848Z"
   },
   {
    "duration": 25,
    "start_time": "2023-06-26T14:22:52.854Z"
   },
   {
    "duration": 131,
    "start_time": "2023-06-26T14:22:52.881Z"
   },
   {
    "duration": 8,
    "start_time": "2023-06-26T14:22:53.014Z"
   },
   {
    "duration": 24,
    "start_time": "2023-06-26T14:22:53.023Z"
   },
   {
    "duration": 895,
    "start_time": "2023-06-26T14:22:53.049Z"
   },
   {
    "duration": 7,
    "start_time": "2023-06-26T14:22:53.946Z"
   },
   {
    "duration": 40,
    "start_time": "2023-06-26T14:22:53.955Z"
   },
   {
    "duration": 5,
    "start_time": "2023-06-26T14:23:25.184Z"
   },
   {
    "duration": 5,
    "start_time": "2023-06-26T14:23:52.696Z"
   },
   {
    "duration": 4,
    "start_time": "2023-06-26T14:24:38.584Z"
   },
   {
    "duration": 6,
    "start_time": "2023-06-26T14:24:44.616Z"
   },
   {
    "duration": 6,
    "start_time": "2023-06-26T14:26:47.442Z"
   },
   {
    "duration": 13,
    "start_time": "2023-06-26T14:27:19.574Z"
   },
   {
    "duration": 6,
    "start_time": "2023-06-26T14:27:23.484Z"
   },
   {
    "duration": 5,
    "start_time": "2023-06-26T14:27:44.673Z"
   },
   {
    "duration": 19,
    "start_time": "2023-06-26T14:29:05.141Z"
   },
   {
    "duration": 21,
    "start_time": "2023-06-26T14:29:36.033Z"
   },
   {
    "duration": 5,
    "start_time": "2023-06-26T14:30:14.168Z"
   },
   {
    "duration": 3,
    "start_time": "2023-06-26T14:30:19.341Z"
   },
   {
    "duration": 105,
    "start_time": "2023-06-26T14:30:19.346Z"
   },
   {
    "duration": 15,
    "start_time": "2023-06-26T14:30:19.454Z"
   },
   {
    "duration": 34,
    "start_time": "2023-06-26T14:30:19.471Z"
   },
   {
    "duration": 17,
    "start_time": "2023-06-26T14:30:19.508Z"
   },
   {
    "duration": 22,
    "start_time": "2023-06-26T14:30:19.527Z"
   },
   {
    "duration": 60,
    "start_time": "2023-06-26T14:30:19.551Z"
   },
   {
    "duration": 44,
    "start_time": "2023-06-26T14:30:19.613Z"
   },
   {
    "duration": 118,
    "start_time": "2023-06-26T14:30:19.659Z"
   },
   {
    "duration": 59,
    "start_time": "2023-06-26T14:30:19.779Z"
   },
   {
    "duration": 23,
    "start_time": "2023-06-26T14:30:19.840Z"
   },
   {
    "duration": 39,
    "start_time": "2023-06-26T14:30:19.865Z"
   },
   {
    "duration": 17,
    "start_time": "2023-06-26T14:30:19.906Z"
   },
   {
    "duration": 14,
    "start_time": "2023-06-26T14:30:19.925Z"
   },
   {
    "duration": 16,
    "start_time": "2023-06-26T14:30:19.941Z"
   },
   {
    "duration": 15,
    "start_time": "2023-06-26T14:30:19.959Z"
   },
   {
    "duration": 20,
    "start_time": "2023-06-26T14:30:19.975Z"
   },
   {
    "duration": 158,
    "start_time": "2023-06-26T14:30:19.998Z"
   },
   {
    "duration": 8,
    "start_time": "2023-06-26T14:30:20.159Z"
   },
   {
    "duration": 132,
    "start_time": "2023-06-26T14:30:20.169Z"
   },
   {
    "duration": 192,
    "start_time": "2023-06-26T14:30:20.303Z"
   },
   {
    "duration": 403,
    "start_time": "2023-06-26T14:30:20.497Z"
   },
   {
    "duration": 222,
    "start_time": "2023-06-26T14:30:20.909Z"
   },
   {
    "duration": 38,
    "start_time": "2023-06-26T14:30:21.133Z"
   },
   {
    "duration": 4,
    "start_time": "2023-06-26T14:30:21.173Z"
   },
   {
    "duration": 4,
    "start_time": "2023-06-26T14:30:27.212Z"
   },
   {
    "duration": 5,
    "start_time": "2023-06-26T14:31:16.814Z"
   },
   {
    "duration": 11,
    "start_time": "2023-06-26T14:33:57.588Z"
   },
   {
    "duration": 125,
    "start_time": "2023-06-26T14:34:13.697Z"
   },
   {
    "duration": 13,
    "start_time": "2023-06-26T14:34:16.927Z"
   },
   {
    "duration": 4,
    "start_time": "2023-06-26T14:34:30.000Z"
   },
   {
    "duration": 11,
    "start_time": "2023-06-26T14:34:43.297Z"
   },
   {
    "duration": 11,
    "start_time": "2023-06-26T14:34:56.906Z"
   },
   {
    "duration": 13,
    "start_time": "2023-06-26T14:35:23.442Z"
   },
   {
    "duration": 5,
    "start_time": "2023-06-26T14:35:29.211Z"
   },
   {
    "duration": 5,
    "start_time": "2023-06-26T14:36:02.752Z"
   },
   {
    "duration": 3,
    "start_time": "2023-06-26T14:51:35.443Z"
   },
   {
    "duration": 117,
    "start_time": "2023-06-26T14:51:35.449Z"
   },
   {
    "duration": 21,
    "start_time": "2023-06-26T14:51:35.569Z"
   },
   {
    "duration": 17,
    "start_time": "2023-06-26T14:51:35.594Z"
   },
   {
    "duration": 49,
    "start_time": "2023-06-26T14:51:35.614Z"
   },
   {
    "duration": 63,
    "start_time": "2023-06-26T14:51:35.666Z"
   },
   {
    "duration": 78,
    "start_time": "2023-06-26T14:51:35.732Z"
   },
   {
    "duration": 87,
    "start_time": "2023-06-26T14:51:35.813Z"
   },
   {
    "duration": 71,
    "start_time": "2023-06-26T14:51:35.902Z"
   },
   {
    "duration": 92,
    "start_time": "2023-06-26T14:51:35.977Z"
   },
   {
    "duration": 19,
    "start_time": "2023-06-26T14:51:36.071Z"
   },
   {
    "duration": 42,
    "start_time": "2023-06-26T14:51:36.091Z"
   },
   {
    "duration": 29,
    "start_time": "2023-06-26T14:51:36.135Z"
   },
   {
    "duration": 36,
    "start_time": "2023-06-26T14:51:36.166Z"
   },
   {
    "duration": 36,
    "start_time": "2023-06-26T14:51:36.203Z"
   },
   {
    "duration": 34,
    "start_time": "2023-06-26T14:51:36.241Z"
   },
   {
    "duration": 14,
    "start_time": "2023-06-26T14:51:36.277Z"
   },
   {
    "duration": 164,
    "start_time": "2023-06-26T14:51:36.293Z"
   },
   {
    "duration": 8,
    "start_time": "2023-06-26T14:51:36.460Z"
   },
   {
    "duration": 114,
    "start_time": "2023-06-26T14:51:36.470Z"
   },
   {
    "duration": 203,
    "start_time": "2023-06-26T14:51:36.586Z"
   },
   {
    "duration": 312,
    "start_time": "2023-06-26T14:51:36.791Z"
   },
   {
    "duration": 240,
    "start_time": "2023-06-26T14:51:37.104Z"
   },
   {
    "duration": 35,
    "start_time": "2023-06-26T14:51:37.346Z"
   },
   {
    "duration": 4,
    "start_time": "2023-06-26T14:51:37.383Z"
   },
   {
    "duration": 51,
    "start_time": "2023-06-26T14:51:37.389Z"
   },
   {
    "duration": 286,
    "start_time": "2023-06-26T14:51:37.442Z"
   },
   {
    "duration": 294,
    "start_time": "2023-06-26T14:51:37.732Z"
   },
   {
    "duration": 8,
    "start_time": "2023-06-26T14:51:38.028Z"
   },
   {
    "duration": 452,
    "start_time": "2023-06-26T14:51:38.038Z"
   },
   {
    "duration": 421,
    "start_time": "2023-06-26T14:51:38.492Z"
   },
   {
    "duration": 1035,
    "start_time": "2023-06-26T14:51:38.915Z"
   },
   {
    "duration": 6,
    "start_time": "2023-06-26T14:51:39.954Z"
   },
   {
    "duration": 192,
    "start_time": "2023-06-26T14:51:39.962Z"
   },
   {
    "duration": 224,
    "start_time": "2023-06-26T14:51:40.157Z"
   },
   {
    "duration": 10,
    "start_time": "2023-06-26T14:51:40.383Z"
   },
   {
    "duration": 62,
    "start_time": "2023-06-26T14:51:40.394Z"
   },
   {
    "duration": 933,
    "start_time": "2023-06-26T14:51:40.458Z"
   },
   {
    "duration": 15,
    "start_time": "2023-06-26T14:51:41.394Z"
   },
   {
    "duration": 11,
    "start_time": "2023-06-26T14:51:41.413Z"
   },
   {
    "duration": 53,
    "start_time": "2023-06-27T07:22:43.813Z"
   },
   {
    "duration": 1569,
    "start_time": "2023-06-27T07:22:49.070Z"
   },
   {
    "duration": 302,
    "start_time": "2023-06-27T07:22:50.641Z"
   },
   {
    "duration": 17,
    "start_time": "2023-06-27T07:22:50.945Z"
   },
   {
    "duration": 17,
    "start_time": "2023-06-27T07:22:50.964Z"
   },
   {
    "duration": 11,
    "start_time": "2023-06-27T07:22:50.984Z"
   },
   {
    "duration": 33,
    "start_time": "2023-06-27T07:22:50.997Z"
   },
   {
    "duration": 32,
    "start_time": "2023-06-27T07:22:51.032Z"
   },
   {
    "duration": 25,
    "start_time": "2023-06-27T07:22:51.065Z"
   },
   {
    "duration": 26,
    "start_time": "2023-06-27T07:22:51.093Z"
   },
   {
    "duration": 23,
    "start_time": "2023-06-27T07:22:51.123Z"
   },
   {
    "duration": 17,
    "start_time": "2023-06-27T07:22:51.149Z"
   },
   {
    "duration": 51,
    "start_time": "2023-06-27T07:22:51.169Z"
   },
   {
    "duration": 8,
    "start_time": "2023-06-27T07:22:51.222Z"
   },
   {
    "duration": 26,
    "start_time": "2023-06-27T07:22:51.233Z"
   },
   {
    "duration": 33,
    "start_time": "2023-06-27T07:22:51.261Z"
   },
   {
    "duration": 36,
    "start_time": "2023-06-27T07:22:51.296Z"
   },
   {
    "duration": 21,
    "start_time": "2023-06-27T07:22:51.333Z"
   },
   {
    "duration": 183,
    "start_time": "2023-06-27T07:22:51.355Z"
   },
   {
    "duration": 9,
    "start_time": "2023-06-27T07:22:51.540Z"
   },
   {
    "duration": 107,
    "start_time": "2023-06-27T07:22:51.551Z"
   },
   {
    "duration": 266,
    "start_time": "2023-06-27T07:22:51.660Z"
   },
   {
    "duration": 0,
    "start_time": "2023-06-27T07:22:51.928Z"
   },
   {
    "duration": 0,
    "start_time": "2023-06-27T07:22:51.929Z"
   },
   {
    "duration": 0,
    "start_time": "2023-06-27T07:22:51.930Z"
   },
   {
    "duration": 0,
    "start_time": "2023-06-27T07:22:51.931Z"
   },
   {
    "duration": 0,
    "start_time": "2023-06-27T07:22:51.932Z"
   },
   {
    "duration": 0,
    "start_time": "2023-06-27T07:22:51.933Z"
   },
   {
    "duration": 0,
    "start_time": "2023-06-27T07:22:51.935Z"
   },
   {
    "duration": 0,
    "start_time": "2023-06-27T07:22:51.935Z"
   },
   {
    "duration": 0,
    "start_time": "2023-06-27T07:22:51.937Z"
   },
   {
    "duration": 0,
    "start_time": "2023-06-27T07:22:51.938Z"
   },
   {
    "duration": 0,
    "start_time": "2023-06-27T07:22:51.939Z"
   },
   {
    "duration": 0,
    "start_time": "2023-06-27T07:22:51.940Z"
   },
   {
    "duration": 0,
    "start_time": "2023-06-27T07:22:51.941Z"
   },
   {
    "duration": 0,
    "start_time": "2023-06-27T07:22:51.942Z"
   },
   {
    "duration": 0,
    "start_time": "2023-06-27T07:22:51.943Z"
   },
   {
    "duration": 0,
    "start_time": "2023-06-27T07:22:51.944Z"
   },
   {
    "duration": 0,
    "start_time": "2023-06-27T07:22:51.945Z"
   },
   {
    "duration": 0,
    "start_time": "2023-06-27T07:22:51.967Z"
   },
   {
    "duration": 0,
    "start_time": "2023-06-27T07:22:51.969Z"
   },
   {
    "duration": 191,
    "start_time": "2023-06-27T07:23:44.300Z"
   },
   {
    "duration": 253,
    "start_time": "2023-06-27T07:25:42.038Z"
   },
   {
    "duration": 307,
    "start_time": "2023-06-27T07:25:44.293Z"
   },
   {
    "duration": 373,
    "start_time": "2023-06-27T07:26:10.161Z"
   },
   {
    "duration": 454,
    "start_time": "2023-06-27T07:26:36.256Z"
   },
   {
    "duration": 391,
    "start_time": "2023-06-27T07:26:38.245Z"
   },
   {
    "duration": 384,
    "start_time": "2023-06-27T07:27:35.428Z"
   },
   {
    "duration": 313,
    "start_time": "2023-06-27T07:27:39.204Z"
   },
   {
    "duration": 4,
    "start_time": "2023-06-27T07:28:26.858Z"
   },
   {
    "duration": 94,
    "start_time": "2023-06-27T07:28:26.865Z"
   },
   {
    "duration": 19,
    "start_time": "2023-06-27T07:28:26.962Z"
   },
   {
    "duration": 14,
    "start_time": "2023-06-27T07:28:26.983Z"
   },
   {
    "duration": 24,
    "start_time": "2023-06-27T07:28:27.000Z"
   },
   {
    "duration": 21,
    "start_time": "2023-06-27T07:28:27.027Z"
   },
   {
    "duration": 26,
    "start_time": "2023-06-27T07:28:27.066Z"
   },
   {
    "duration": 24,
    "start_time": "2023-06-27T07:28:27.094Z"
   },
   {
    "duration": 7,
    "start_time": "2023-06-27T07:28:27.121Z"
   },
   {
    "duration": 8,
    "start_time": "2023-06-27T07:28:27.130Z"
   },
   {
    "duration": 31,
    "start_time": "2023-06-27T07:28:27.140Z"
   },
   {
    "duration": 18,
    "start_time": "2023-06-27T07:28:27.173Z"
   },
   {
    "duration": 9,
    "start_time": "2023-06-27T07:28:27.194Z"
   },
   {
    "duration": 12,
    "start_time": "2023-06-27T07:28:27.210Z"
   },
   {
    "duration": 50,
    "start_time": "2023-06-27T07:28:27.225Z"
   },
   {
    "duration": 15,
    "start_time": "2023-06-27T07:28:27.277Z"
   },
   {
    "duration": 8,
    "start_time": "2023-06-27T07:28:27.296Z"
   },
   {
    "duration": 267,
    "start_time": "2023-06-27T07:28:27.307Z"
   },
   {
    "duration": 8,
    "start_time": "2023-06-27T07:28:27.576Z"
   },
   {
    "duration": 132,
    "start_time": "2023-06-27T07:28:27.586Z"
   },
   {
    "duration": 293,
    "start_time": "2023-06-27T07:28:27.720Z"
   },
   {
    "duration": 392,
    "start_time": "2023-06-27T07:28:28.016Z"
   },
   {
    "duration": 453,
    "start_time": "2023-06-27T07:28:28.411Z"
   },
   {
    "duration": 46,
    "start_time": "2023-06-27T07:28:28.867Z"
   },
   {
    "duration": 6,
    "start_time": "2023-06-27T07:28:28.915Z"
   },
   {
    "duration": 30,
    "start_time": "2023-06-27T07:28:28.923Z"
   },
   {
    "duration": 367,
    "start_time": "2023-06-27T07:28:28.966Z"
   },
   {
    "duration": 316,
    "start_time": "2023-06-27T07:28:29.335Z"
   },
   {
    "duration": 17,
    "start_time": "2023-06-27T07:28:29.654Z"
   },
   {
    "duration": 306,
    "start_time": "2023-06-27T07:28:29.673Z"
   },
   {
    "duration": 301,
    "start_time": "2023-06-27T07:28:29.981Z"
   },
   {
    "duration": 1105,
    "start_time": "2023-06-27T07:28:30.284Z"
   },
   {
    "duration": 4,
    "start_time": "2023-06-27T07:28:31.392Z"
   },
   {
    "duration": 63,
    "start_time": "2023-06-27T07:28:31.398Z"
   },
   {
    "duration": 200,
    "start_time": "2023-06-27T07:28:31.464Z"
   },
   {
    "duration": 8,
    "start_time": "2023-06-27T07:28:31.666Z"
   },
   {
    "duration": 71,
    "start_time": "2023-06-27T07:28:31.676Z"
   },
   {
    "duration": 1093,
    "start_time": "2023-06-27T07:28:31.750Z"
   },
   {
    "duration": 7,
    "start_time": "2023-06-27T07:28:32.845Z"
   },
   {
    "duration": 30,
    "start_time": "2023-06-27T07:28:32.854Z"
   },
   {
    "duration": 292,
    "start_time": "2023-06-27T07:30:35.531Z"
   }
  ],
  "kernelspec": {
   "display_name": "Python 3 (ipykernel)",
   "language": "python",
   "name": "python3"
  },
  "language_info": {
   "codemirror_mode": {
    "name": "ipython",
    "version": 3
   },
   "file_extension": ".py",
   "mimetype": "text/x-python",
   "name": "python",
   "nbconvert_exporter": "python",
   "pygments_lexer": "ipython3",
   "version": "3.9.5"
  },
  "toc": {
   "base_numbering": 1,
   "nav_menu": {},
   "number_sections": true,
   "sideBar": true,
   "skip_h1_title": true,
   "title_cell": "Table of Contents",
   "title_sidebar": "Contents",
   "toc_cell": false,
   "toc_position": {
    "height": "calc(100% - 180px)",
    "left": "10px",
    "top": "150px",
    "width": "165px"
   },
   "toc_section_display": true,
   "toc_window_display": true
  }
 },
 "nbformat": 4,
 "nbformat_minor": 5
}
