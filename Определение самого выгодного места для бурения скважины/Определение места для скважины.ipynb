{
 "cells": [
  {
   "cell_type": "markdown",
   "metadata": {},
   "source": [
    "# Выбор локации для скважины"
   ]
  },
  {
   "cell_type": "markdown",
   "metadata": {},
   "source": [
    "Допустим, вы работаете в добывающей компании «ГлавРосГосНефть». Нужно решить, где бурить новую скважину.\n",
    "\n",
    "Вам предоставлены пробы нефти в трёх регионах: в каждом 10 000 месторождений, где измерили качество нефти и объём её запасов. Постройте модель машинного обучения, которая поможет определить регион, где добыча принесёт наибольшую прибыль. Проанализируйте возможную прибыль и риски техникой *Bootstrap.*\n",
    "\n",
    "Шаги для выбора локации:\n",
    "\n",
    "- В избранном регионе ищут месторождения, для каждого определяют значения признаков;\n",
    "- Строят модель и оценивают объём запасов;\n",
    "- Выбирают месторождения с самым высокими оценками значений. Количество месторождений зависит от бюджета компании и стоимости разработки одной скважины;\n",
    "- Прибыль равна суммарной прибыли отобранных месторождений."
   ]
  },
  {
   "cell_type": "markdown",
   "metadata": {},
   "source": [
    "## Загрузка и подготовка данных"
   ]
  },
  {
   "cell_type": "code",
   "execution_count": 167,
   "metadata": {},
   "outputs": [],
   "source": [
    "import warnings\n",
    "warnings.filterwarnings('ignore')\n",
    "\n",
    "import pandas as pd\n",
    "import matplotlib.pyplot as plt\n",
    "import numpy as np\n",
    "\n",
    "from sklearn.model_selection import train_test_split\n",
    "from sklearn.linear_model import LinearRegression \n",
    "from sklearn.metrics import mean_squared_error"
   ]
  },
  {
   "cell_type": "code",
   "execution_count": 168,
   "metadata": {},
   "outputs": [],
   "source": [
    "data_0 = pd.read_csv('/datasets/geo_data_0.csv')\n",
    "data_1 = pd.read_csv('/datasets/geo_data_1.csv')\n",
    "data_2 = pd.read_csv('/datasets/geo_data_2.csv')"
   ]
  },
  {
   "cell_type": "markdown",
   "metadata": {},
   "source": [
    "Объединим датасеты в список для удобства итерирования."
   ]
  },
  {
   "cell_type": "code",
   "execution_count": 169,
   "metadata": {},
   "outputs": [],
   "source": [
    "data = [data_0, data_1, data_2]"
   ]
  },
  {
   "cell_type": "markdown",
   "metadata": {},
   "source": [
    "### Размер датасета"
   ]
  },
  {
   "cell_type": "code",
   "execution_count": 170,
   "metadata": {},
   "outputs": [
    {
     "name": "stdout",
     "output_type": "stream",
     "text": [
      "Размер датасета № 0 (100000, 5)\n",
      "Размер датасета № 1 (100000, 5)\n",
      "Размер датасета № 2 (100000, 5)\n"
     ]
    }
   ],
   "source": [
    "for i in range(len(data)):\n",
    "    print(\"Размер датасета №\", i, data[i].shape)"
   ]
  },
  {
   "cell_type": "markdown",
   "metadata": {},
   "source": [
    "Каждый датасет имеет одинаковую размерность (100000, 5)."
   ]
  },
  {
   "cell_type": "markdown",
   "metadata": {},
   "source": [
    "### Краткое описание датасетов"
   ]
  },
  {
   "cell_type": "code",
   "execution_count": 171,
   "metadata": {},
   "outputs": [
    {
     "name": "stdout",
     "output_type": "stream",
     "text": [
      "<class 'pandas.core.frame.DataFrame'>\n",
      "RangeIndex: 100000 entries, 0 to 99999\n",
      "Data columns (total 5 columns):\n",
      " #   Column   Non-Null Count   Dtype  \n",
      "---  ------   --------------   -----  \n",
      " 0   id       100000 non-null  object \n",
      " 1   f0       100000 non-null  float64\n",
      " 2   f1       100000 non-null  float64\n",
      " 3   f2       100000 non-null  float64\n",
      " 4   product  100000 non-null  float64\n",
      "dtypes: float64(4), object(1)\n",
      "memory usage: 3.8+ MB\n",
      "Информация о датасете № 0 None\n",
      "<class 'pandas.core.frame.DataFrame'>\n",
      "RangeIndex: 100000 entries, 0 to 99999\n",
      "Data columns (total 5 columns):\n",
      " #   Column   Non-Null Count   Dtype  \n",
      "---  ------   --------------   -----  \n",
      " 0   id       100000 non-null  object \n",
      " 1   f0       100000 non-null  float64\n",
      " 2   f1       100000 non-null  float64\n",
      " 3   f2       100000 non-null  float64\n",
      " 4   product  100000 non-null  float64\n",
      "dtypes: float64(4), object(1)\n",
      "memory usage: 3.8+ MB\n",
      "Информация о датасете № 1 None\n",
      "<class 'pandas.core.frame.DataFrame'>\n",
      "RangeIndex: 100000 entries, 0 to 99999\n",
      "Data columns (total 5 columns):\n",
      " #   Column   Non-Null Count   Dtype  \n",
      "---  ------   --------------   -----  \n",
      " 0   id       100000 non-null  object \n",
      " 1   f0       100000 non-null  float64\n",
      " 2   f1       100000 non-null  float64\n",
      " 3   f2       100000 non-null  float64\n",
      " 4   product  100000 non-null  float64\n",
      "dtypes: float64(4), object(1)\n",
      "memory usage: 3.8+ MB\n",
      "Информация о датасете № 2 None\n"
     ]
    }
   ],
   "source": [
    "for i in range(len(data)):\n",
    "    print(\"Информация о датасете №\", i, data[i].info())"
   ]
  },
  {
   "cell_type": "markdown",
   "metadata": {},
   "source": [
    "Столбец `id` выполняет идентификационную функцию и для исследования не важен. Уберем его из датасета."
   ]
  },
  {
   "cell_type": "code",
   "execution_count": 172,
   "metadata": {},
   "outputs": [],
   "source": [
    "for i in range(len(data)):\n",
    "    data[i] = data[i].drop('id', axis=1)"
   ]
  },
  {
   "cell_type": "markdown",
   "metadata": {},
   "source": [
    "### Поиск дубликатов"
   ]
  },
  {
   "cell_type": "code",
   "execution_count": 173,
   "metadata": {},
   "outputs": [
    {
     "name": "stdout",
     "output_type": "stream",
     "text": [
      "Дубликатов в датасете № 0 = 0\n",
      "Дубликатов в датасете № 1 = 0\n",
      "Дубликатов в датасете № 2 = 0\n"
     ]
    }
   ],
   "source": [
    "for i in range(len(data)):\n",
    "    print(\"Дубликатов в датасете №\", i, '=', data[i].duplicated().sum())"
   ]
  },
  {
   "cell_type": "markdown",
   "metadata": {},
   "source": [
    "Во всём датасете не было найдено дубликатов."
   ]
  },
  {
   "cell_type": "markdown",
   "metadata": {},
   "source": [
    "### Поиск пропущенных значений"
   ]
  },
  {
   "cell_type": "code",
   "execution_count": 174,
   "metadata": {},
   "outputs": [
    {
     "name": "stdout",
     "output_type": "stream",
     "text": [
      "Пропусков в датасете № 0\n",
      "f0         0\n",
      "f1         0\n",
      "f2         0\n",
      "product    0\n",
      "dtype: int64\n",
      "Пропусков в датасете № 1\n",
      "f0         0\n",
      "f1         0\n",
      "f2         0\n",
      "product    0\n",
      "dtype: int64\n",
      "Пропусков в датасете № 2\n",
      "f0         0\n",
      "f1         0\n",
      "f2         0\n",
      "product    0\n",
      "dtype: int64\n"
     ]
    }
   ],
   "source": [
    "for i in range(len(data)):\n",
    "    print(\"Пропусков в датасете №\", i)\n",
    "    print(data[i].isna().sum())"
   ]
  },
  {
   "cell_type": "markdown",
   "metadata": {},
   "source": [
    "Пропущенных значений в датасете нет."
   ]
  },
  {
   "cell_type": "markdown",
   "metadata": {},
   "source": [
    "**Промежуточный вывод:**\n",
    "- Был удалён столбец `id`, так как он выполнял идентификационную функцию и не имел отношения к исследованию\n",
    "- Данные первоначально очень хорошо подготовлены, замечаний к данным нет\n",
    "- Все признаки в датасете являются численными, категориальных признаков нет"
   ]
  },
  {
   "cell_type": "markdown",
   "metadata": {},
   "source": [
    "## Обучение и проверка модели"
   ]
  },
  {
   "cell_type": "code",
   "execution_count": 175,
   "metadata": {},
   "outputs": [
    {
     "name": "stdout",
     "output_type": "stream",
     "text": [
      "\n",
      "Регион 1 Датасет № 0 :\n",
      "Средний запас предсказанного сырья = 92.69 тыс. баррелей\n",
      "RMSE модели = 37.44\n",
      "\n",
      "Регион 2 Датасет № 1 :\n",
      "Средний запас предсказанного сырья = 68.91 тыс. баррелей\n",
      "RMSE модели = 0.89\n",
      "\n",
      "Регион 3 Датасет № 2 :\n",
      "Средний запас предсказанного сырья = 95.06 тыс. баррелей\n",
      "RMSE модели = 40.26\n"
     ]
    }
   ],
   "source": [
    "predictions_valid = []\n",
    "\n",
    "true_target = []\n",
    "targets_valid = []\n",
    "\n",
    "predictions_mean = []\n",
    "\n",
    "def get_predicted_data(df):\n",
    "    features = df.drop(['product'], axis=1)\n",
    "    target = df['product']\n",
    "    \n",
    "    features_train, features_valid, target_train, target_valid = \\\n",
    "        train_test_split(features, target, test_size=12345, random_state=12345)\n",
    "    \n",
    "    model = LinearRegression()\n",
    "    model.fit(features_train, target_train)\n",
    "    \n",
    "    predictions = model.predict(features_valid)\n",
    "    \n",
    "    predictions_valid.append(predictions)\n",
    "    true_target.append(target_train.reset_index(drop=True))\n",
    "    targets_valid.append(target_valid.reset_index(drop=True))\n",
    "    \n",
    "    predictions_mean.append(round(predictions.mean(), 0))\n",
    "    \n",
    "    print('Средний запас предсказанного сырья = {0:.2f} тыс. баррелей'.format(predictions.mean()))\n",
    "    print('RMSE модели = {0:.2f}'.format(mean_squared_error(predictions, target_valid)**0.5))\n",
    "    \n",
    "for i in range(len(data)):\n",
    "    print(\"\\nРегион\", i+1, \"Датасет №\", i, \":\")\n",
    "    get_predicted_data(data[i])"
   ]
  },
  {
   "cell_type": "code",
   "execution_count": 176,
   "metadata": {},
   "outputs": [
    {
     "name": "stdout",
     "output_type": "stream",
     "text": [
      "[93.0, 69.0, 95.0]\n"
     ]
    }
   ],
   "source": [
    "print(predictions_mean)"
   ]
  },
  {
   "cell_type": "code",
   "execution_count": 177,
   "metadata": {},
   "outputs": [
    {
     "data": {
      "image/png": "[encoded data removed]",
      "text/plain": [
       "<Figure size 432x288 with 1 Axes>"
      ]
     },
     "metadata": {},
     "output_type": "display_data"
    }
   ],
   "source": [
    "def format_predictions(pct, values):\n",
    "    absolute = int(pct / 100 * np.sum(values))\n",
    "    return \"{:.0f}%\\n({:d} тыс. баррелей)\".format(pct, absolute)\n",
    "\n",
    "labels = ['Регион 1', 'Регион 2', 'Регион 3']\n",
    "_, ax = plt.subplots()\n",
    "ax.pie(predictions_mean, labels=labels, autopct=lambda pct: format_predictions(pct, predictions_mean), radius=1.5)\n",
    "ax.set_title('Средние запасы нефти по регионам')\n",
    "plt.show();"
   ]
  },
  {
   "cell_type": "markdown",
   "metadata": {},
   "source": [
    "**Промежуточный вывод:**\n",
    "- Данные были разбиты на выборки в соотношении 75:25\n",
    "- Созданы и обучены модели `LinearRegression`\n",
    "- Сделаны предсказания по объему сырья в скважинах\n",
    "- Рассчитаны средние значения запасов предсказанного сырья и `RMSE` моделей:\n",
    "    - `Регион 1:` 92 тыс баррелей, RMSE = 37.44. Такое большое значение говорит о наличии большого разброса данных в валидационных выборках.\n",
    "    - `Регион 2`: 68 тыс бареллей, RMSE = 0.89\n",
    "    - `Регион 3`: 94 тыс бареллей, RMSE = 40.26. Такое большое значение говорит о наличии большого разброса данных в валидационных выборках."
   ]
  },
  {
   "cell_type": "markdown",
   "metadata": {},
   "source": [
    "## Подготовка к расчёту прибыли"
   ]
  },
  {
   "cell_type": "markdown",
   "metadata": {},
   "source": [
    "Введём константные переменные из условия задачи"
   ]
  },
  {
   "cell_type": "code",
   "execution_count": 178,
   "metadata": {},
   "outputs": [],
   "source": [
    "NUMBER_OF_POINTS = 500\n",
    "BEST_POINTS = 200\n",
    "\n",
    "BUDGET = 10*(10**9)\n",
    "\n",
    "BARREL_PRICE = 450000"
   ]
  },
  {
   "cell_type": "markdown",
   "metadata": {},
   "source": [
    "Далее расчитаем достаточный объем сырья для того, чтобы разработка новой скважины была безубыточной."
   ]
  },
  {
   "cell_type": "code",
   "execution_count": 179,
   "metadata": {},
   "outputs": [
    {
     "name": "stdout",
     "output_type": "stream",
     "text": [
      "Средняя лучшая прибыль на точку = 50000000.0 тыс.руб.\n",
      "Средний лучший объем нефти на точку = 111.11111111111111 тыс. баррелей\n",
      "Средний лучший объем нефти на регион = 22222222.222222224 тыс. баррелей\n"
     ]
    }
   ],
   "source": [
    "print('Средняя лучшая прибыль на точку =', BUDGET / BEST_POINTS, 'тыс.руб.')\n",
    "\n",
    "print('Средний лучший объем нефти на точку =', (BUDGET / BEST_POINTS) / BARREL_PRICE, 'тыс. баррелей')\n",
    "\n",
    "print('Средний лучший объем нефти на регион =', BUDGET / BARRELL_PRICE, 'тыс. баррелей')"
   ]
  },
  {
   "cell_type": "markdown",
   "metadata": {},
   "source": [
    "Сравним полученные данные с предсказанными запасами по каждому региону."
   ]
  },
  {
   "cell_type": "code",
   "execution_count": 180,
   "metadata": {},
   "outputs": [
    {
     "name": "stdout",
     "output_type": "stream",
     "text": [
      "Фактический средний запас для региона 1 = 93.0\n",
      "Фактический средний запас для региона 2 = 69.0\n",
      "Фактический средний запас для региона 3 = 95.0\n"
     ]
    }
   ],
   "source": [
    "for i in range(len(predictions_mean)):\n",
    "    print('Фактический средний запас для региона', i+1, '=', predictions_mean[i])"
   ]
  },
  {
   "cell_type": "code",
   "execution_count": 181,
   "metadata": {},
   "outputs": [
    {
     "data": {
      "image/png": "[encoded data removed]",
      "text/plain": [
       "<Figure size 864x648 with 1 Axes>"
      ]
     },
     "metadata": {
      "needs_background": "light"
     },
     "output_type": "display_data"
    }
   ],
   "source": [
    "plt.figure(figsize=(12, 9))\n",
    "plt.hist(predictions_valid[0], bins=200)\n",
    "\n",
    "plt.ylabel('Количество скважин')\n",
    "plt.xlabel('Объём нефти на скважину (тыс. баррелей)')\n",
    "plt.title('Гистограмма распределения нефти на скважину')\n",
    "\n",
    "plt.show();"
   ]
  },
  {
   "cell_type": "code",
   "execution_count": 182,
   "metadata": {},
   "outputs": [
    {
     "data": {
      "image/png": "[encoded data removed]",
      "text/plain": [
       "<Figure size 864x648 with 1 Axes>"
      ]
     },
     "metadata": {
      "needs_background": "light"
     },
     "output_type": "display_data"
    }
   ],
   "source": [
    "plt.figure(figsize=(12, 9))\n",
    "plt.hist(predictions_valid[1], bins=200)\n",
    "\n",
    "plt.ylabel('Количество скважин')\n",
    "plt.xlabel('Объём нефти на скважину (тыс. баррелей)')\n",
    "plt.title('Гистограмма распределения нефти на скважину')\n",
    "\n",
    "plt.show();"
   ]
  },
  {
   "cell_type": "code",
   "execution_count": 183,
   "metadata": {
    "scrolled": true
   },
   "outputs": [
    {
     "data": {
      "image/png": "[encoded data removed]",
      "text/plain": [
       "<Figure size 864x648 with 1 Axes>"
      ]
     },
     "metadata": {
      "needs_background": "light"
     },
     "output_type": "display_data"
    }
   ],
   "source": [
    "plt.figure(figsize=(12, 9))\n",
    "plt.hist(predictions_valid[2], bins=200)\n",
    "\n",
    "plt.ylabel('Количество скважин')\n",
    "plt.xlabel('Объём нефти на скважину (тыс. баррелей)')\n",
    "plt.title('Гистограмма распределения нефти на скважину')\n",
    "\n",
    "plt.show();"
   ]
  },
  {
   "cell_type": "markdown",
   "metadata": {},
   "source": [
    "**Промежуточный вывод:**\n",
    "\n",
    "Для каждого региона был проведён анализ средних объёмов нефти:\n",
    "- Для региона 1 = 93.0\n",
    "- Для региона 2 = 69.0\n",
    "- Для региона 3 = 95.0\n",
    "\n",
    "Исходя из полученных данных, я делаю вывод, что высокая вероятность окупить затраты присутствует в первом и третьем регионах, так как исходя из гистограмм, у нас имеется высокий разброс значений вокруг **93.0** и **95.0**, что говорит о том, что существует достаточно большое количество скважин, где запасы нефти больше необходимого среднего (**111 тыс. баррелей**)."
   ]
  },
  {
   "cell_type": "markdown",
   "metadata": {},
   "source": [
    "## Расчёт прибыли и рисков "
   ]
  },
  {
   "cell_type": "code",
   "execution_count": 184,
   "metadata": {},
   "outputs": [],
   "source": [
    "def oil_profit_calc(target, probabilities, count):\n",
    "    probs_sorted = probabilities.sort_values(ascending=False)\n",
    "    selected = target[probs_sorted.index][:count]\n",
    "    return BARREL_PRICE * selected.sum() - BUDGET"
   ]
  },
  {
   "cell_type": "code",
   "execution_count": 185,
   "metadata": {},
   "outputs": [],
   "source": [
    "state = np.random.RandomState(12345)\n",
    "def bootstrap(target, probs):\n",
    "    values = []\n",
    "    lost = 0\n",
    "    for i in range(1000):\n",
    "        target_sample = target.sample(replace=True, random_state=state, n=NUMBER_OF_POINTS)\n",
    "        probs_sample = probs[target_sample.index]\n",
    "        target_sample = target_sample.reset_index(drop=True)\n",
    "        probs_sample = pd.Series(probs_sample)\n",
    "        probs_sample = probs_sample.reset_index(drop=True)\n",
    "        profit = oil_profit_calc(target_sample, probs_sample, BEST_POINTS)\n",
    "        if profit < 0:\n",
    "            lost += 1\n",
    "        values.append(profit)\n",
    "        \n",
    "    values = pd.Series(values)\n",
    "    lower = values.quantile(0.025)\n",
    "    upper = values.quantile(0.975)\n",
    "    avg = values.mean()\n",
    "    risk = lost / 1000\n",
    "    return avg, risk, lower, upper"
   ]
  },
  {
   "cell_type": "code",
   "execution_count": 186,
   "metadata": {},
   "outputs": [
    {
     "name": "stdout",
     "output_type": "stream",
     "text": [
      "Данные по региону 1\n",
      "Средняя прибыль по региону = 367763235.26 тыс.руб.\n",
      "95% доверительный интервал от -129456901.66 до 928586081.65 тыс.руб.\n",
      "Процент риска 7.70%\n",
      "\n",
      "Данные по региону 2\n",
      "Средняя прибыль по региону = 471349125.93 тыс.руб.\n",
      "95% доверительный интервал от 68908990.27 до 879693145.36 тыс.руб.\n",
      "Процент риска 1.00%\n",
      "\n",
      "Данные по региону 3\n",
      "Средняя прибыль по региону = 418454836.31 тыс.руб.\n",
      "95% доверительный интервал от -72259747.37 до 949843619.29 тыс.руб.\n",
      "Процент риска 5.10%\n",
      "\n"
     ]
    }
   ],
   "source": [
    "for i in range(len(data)):\n",
    "    predictions = predictions_valid[i]\n",
    "    target = targets_valid[i]\n",
    "    avg, risk, lower, upper = bootstrap(target, predictions)\n",
    "    \n",
    "    print('Данные по региону', i+1)\n",
    "    print('Средняя прибыль по региону = {:.2f} тыс.руб.'.format(avg))\n",
    "    print('95% доверительный интервал от {:.2f} до {:.2f} тыс.руб.'.format(lower, upper))\n",
    "    print('Процент риска {:.2%}'.format(risk))\n",
    "    print()"
   ]
  },
  {
   "cell_type": "markdown",
   "metadata": {},
   "source": [
    "**Промежуточный вывод:**\n",
    "Исходя из расчётов по регионам, только второй регион имеет самый малый процент риска (**1.00%**). Второй регион имеет среднюю прибыль **471349125.93 тыс.руб.** Поэтому мы можем отсеить первый и третий регион, как потенциально менее прибыльное. К тому же, доверительный интервал второго региона не имеет отрицательных значений, что говорит о том, что даже при не очень удачном выборе скважин, разработка этих самых скважин окупится."
   ]
  },
  {
   "cell_type": "markdown",
   "metadata": {},
   "source": [
    "## Итоговый вывод"
   ]
  },
  {
   "cell_type": "markdown",
   "metadata": {},
   "source": [
    "**Предобработка данных:**\n",
    "- Был удалён столбец `id`, так как он выполнял идентификационную функцию и не имел отношения к исследованию\n",
    "- Данные первоначально очень хорошо подготовлены, замечаний к данным нет\n",
    "- Все признаки в датасете являются численными, категориальных признаков нет\n",
    "\n",
    "**Обучение и проверка модели:**\n",
    "- Данные были разбиты на выборки в соотношении 75:25\n",
    "- Созданы и обучены модели `LinearRegression`\n",
    "- Сделаны предсказания по объему сырья в скважинах\n",
    "- Рассчитаны средние значения запасов предсказанного сырья и `RMSE` моделей:\n",
    "    - `Регион 1:` 92 тыс баррелей, RMSE = 37.44. Такое большое значение говорит о наличии большого разброса данных в валидационных выборках.\n",
    "    - `Регион 2`: 68 тыс бареллей, RMSE = 0.89\n",
    "    - `Регион 3`: 94 тыс бареллей, RMSE = 40.26. Такое большое значение говорит о наличии большого разброса данных в валидационных выборках.\n",
    "\n",
    "**Подготовка к расчёту прибыли:**\n",
    "Для каждого региона был проведён анализ средних объёмов нефти:\n",
    "- Для региона 1 = 93.0\n",
    "- Для региона 2 = 69.0\n",
    "- Для региона 3 = 95.0\n",
    "\n",
    "Исходя из полученных данных, я делаю вывод, что высокая вероятность окупить затраты присутствует в первом и третьем регионах, так как исходя из гистограмм, у нас имеется высокий разброс значений вокруг **93.0** и **95.0**, что говорит о том, что существует достаточно большое количество скважин, где запасы нефти больше необходимого среднего (**111 тыс. баррелей**).\n",
    "\n",
    "**Расчёт прибыли и рисков:**\n",
    "Исходя из расчётов по регионам, только второй регион имеет самый малый процент риска (**1.00%**). Второй регион имеет среднюю прибыль **471349125.93 тыс.руб.** Поэтому мы можем отсеить первый и третий регион, как потенциально менее прибыльное. К тому же, доверительный интервал второго региона не имеет отрицательных значений, что говорит о том, что даже при не очень удачном выборе скважин, разработка этих самых скважин окупится."
   ]
  },
  {
   "cell_type": "markdown",
   "metadata": {},
   "source": [
    "## Чек-лист готовности проекта"
   ]
  },
  {
   "cell_type": "markdown",
   "metadata": {},
   "source": [
    "Поставьте 'x' в выполненных пунктах. Далее нажмите Shift+Enter."
   ]
  },
  {
   "cell_type": "markdown",
   "metadata": {},
   "source": [
    "- [x]  Jupyter Notebook открыт\n",
    "- [x]  Весь код выполняется без ошибок\n",
    "- [x]  Ячейки с кодом расположены в порядке исполнения\n",
    "- [x]  Выполнен шаг 1: данные подготовлены\n",
    "- [x]  Выполнен шаг 2: модели обучены и проверены\n",
    "    - [x]  Данные корректно разбиты на обучающую и валидационную выборки\n",
    "    - [x]  Модели обучены, предсказания сделаны\n",
    "    - [x]  Предсказания и правильные ответы на валидационной выборке сохранены\n",
    "    - [x]  На экране напечатаны результаты\n",
    "    - [x]  Сделаны выводы\n",
    "- [x]  Выполнен шаг 3: проведена подготовка к расчёту прибыли\n",
    "    - [x]  Для всех ключевых значений созданы константы Python\n",
    "    - [x]  Посчитано минимальное среднее количество продукта в месторождениях региона, достаточное для разработки\n",
    "    - [x]  По предыдущему пункту сделаны выводы\n",
    "    - [x]  Написана функция расчёта прибыли\n",
    "- [x]  Выполнен шаг 4: посчитаны риски и прибыль\n",
    "    - [x]  Проведена процедура *Bootstrap*\n",
    "    - [x]  Все параметры бутстрепа соответствуют условию\n",
    "    - [x]  Найдены все нужные величины\n",
    "    - [x]  Предложен регион для разработки месторождения\n",
    "    - [x]  Выбор региона обоснован"
   ]
  },
  {
   "cell_type": "code",
   "execution_count": null,
   "metadata": {},
   "outputs": [],
   "source": []
  }
 ],
 "metadata": {
  "ExecuteTimeLog": [
   {
    "duration": 1138,
    "start_time": "2023-08-15T16:18:03.220Z"
   },
   {
    "duration": 1907,
    "start_time": "2023-08-15T16:19:01.547Z"
   },
   {
    "duration": 17,
    "start_time": "2023-08-15T16:19:51.730Z"
   },
   {
    "duration": 18,
    "start_time": "2023-08-15T16:20:32.840Z"
   },
   {
    "duration": 195,
    "start_time": "2023-08-15T16:21:08.749Z"
   },
   {
    "duration": 17,
    "start_time": "2023-08-15T16:22:10.118Z"
   },
   {
    "duration": 9,
    "start_time": "2023-08-15T16:25:10.324Z"
   },
   {
    "duration": 3,
    "start_time": "2023-08-15T16:28:37.006Z"
   },
   {
    "duration": 96,
    "start_time": "2023-08-15T16:30:55.639Z"
   },
   {
    "duration": 1716,
    "start_time": "2023-08-15T16:31:11.975Z"
   },
   {
    "duration": 1986,
    "start_time": "2023-08-15T16:31:28.793Z"
   },
   {
    "duration": 3,
    "start_time": "2023-08-15T16:31:32.054Z"
   },
   {
    "duration": 4,
    "start_time": "2023-08-15T16:31:33.350Z"
   },
   {
    "duration": 4,
    "start_time": "2023-08-15T16:31:37.415Z"
   },
   {
    "duration": 36,
    "start_time": "2023-08-15T16:33:31.016Z"
   },
   {
    "duration": 11,
    "start_time": "2023-08-15T16:34:33.103Z"
   },
   {
    "duration": 10,
    "start_time": "2023-08-15T16:34:34.095Z"
   },
   {
    "duration": 79,
    "start_time": "2023-08-15T16:35:01.780Z"
   },
   {
    "duration": 71,
    "start_time": "2023-08-15T16:35:14.966Z"
   },
   {
    "duration": 11,
    "start_time": "2023-08-15T16:35:35.880Z"
   },
   {
    "duration": 144,
    "start_time": "2023-08-15T16:35:59.163Z"
   },
   {
    "duration": 10,
    "start_time": "2023-08-15T16:36:02.236Z"
   },
   {
    "duration": 10,
    "start_time": "2023-08-15T16:36:06.636Z"
   },
   {
    "duration": 5,
    "start_time": "2023-08-15T16:43:56.751Z"
   },
   {
    "duration": 102,
    "start_time": "2023-08-15T16:44:35.558Z"
   },
   {
    "duration": 3,
    "start_time": "2023-08-15T16:44:46.138Z"
   },
   {
    "duration": 5,
    "start_time": "2023-08-15T16:44:46.502Z"
   },
   {
    "duration": 382,
    "start_time": "2023-08-15T16:44:47.078Z"
   },
   {
    "duration": 406,
    "start_time": "2023-08-15T16:45:01.054Z"
   },
   {
    "duration": 469,
    "start_time": "2023-08-15T16:45:42.399Z"
   },
   {
    "duration": 4,
    "start_time": "2023-08-15T16:47:30.878Z"
   },
   {
    "duration": 137,
    "start_time": "2023-08-15T16:50:54.314Z"
   },
   {
    "duration": 108,
    "start_time": "2023-08-15T16:51:35.220Z"
   },
   {
    "duration": 102,
    "start_time": "2023-08-15T16:51:42.570Z"
   },
   {
    "duration": 113,
    "start_time": "2023-08-15T16:51:54.579Z"
   },
   {
    "duration": 113,
    "start_time": "2023-08-15T16:51:58.099Z"
   },
   {
    "duration": 103,
    "start_time": "2023-08-15T16:52:08.998Z"
   },
   {
    "duration": 106,
    "start_time": "2023-08-15T16:52:15.510Z"
   },
   {
    "duration": 109,
    "start_time": "2023-08-15T16:52:37.706Z"
   },
   {
    "duration": 192,
    "start_time": "2023-08-15T16:54:09.574Z"
   },
   {
    "duration": 125,
    "start_time": "2023-08-15T16:54:12.998Z"
   },
   {
    "duration": 106,
    "start_time": "2023-08-15T16:56:03.469Z"
   },
   {
    "duration": 4,
    "start_time": "2023-08-15T16:58:14.070Z"
   },
   {
    "duration": 3,
    "start_time": "2023-08-15T16:59:30.692Z"
   },
   {
    "duration": 6,
    "start_time": "2023-08-15T16:59:33.779Z"
   },
   {
    "duration": 382,
    "start_time": "2023-08-15T16:59:35.284Z"
   },
   {
    "duration": 3,
    "start_time": "2023-08-15T16:59:38.340Z"
   },
   {
    "duration": 90,
    "start_time": "2023-08-15T16:59:40.789Z"
   },
   {
    "duration": 101,
    "start_time": "2023-08-15T17:00:04.217Z"
   },
   {
    "duration": 204,
    "start_time": "2023-08-15T17:01:56.303Z"
   },
   {
    "duration": 183,
    "start_time": "2023-08-15T17:02:08.155Z"
   },
   {
    "duration": 123,
    "start_time": "2023-08-15T17:02:14.027Z"
   },
   {
    "duration": 90,
    "start_time": "2023-08-15T17:02:17.627Z"
   },
   {
    "duration": 91,
    "start_time": "2023-08-15T17:02:22.124Z"
   },
   {
    "duration": 97,
    "start_time": "2023-08-15T17:02:27.101Z"
   },
   {
    "duration": 126,
    "start_time": "2023-08-15T17:02:34.607Z"
   },
   {
    "duration": 88,
    "start_time": "2023-08-15T17:02:42.159Z"
   },
   {
    "duration": 8,
    "start_time": "2023-08-16T15:05:15.081Z"
   },
   {
    "duration": 3,
    "start_time": "2023-08-16T15:09:08.554Z"
   },
   {
    "duration": 43,
    "start_time": "2023-08-16T15:09:10.617Z"
   },
   {
    "duration": 5,
    "start_time": "2023-08-16T15:09:51.632Z"
   },
   {
    "duration": 115,
    "start_time": "2023-08-16T15:11:04.057Z"
   },
   {
    "duration": 5,
    "start_time": "2023-08-16T15:17:37.985Z"
   },
   {
    "duration": 1498,
    "start_time": "2023-08-16T15:17:47.303Z"
   },
   {
    "duration": 707,
    "start_time": "2023-08-16T15:17:48.802Z"
   },
   {
    "duration": 3,
    "start_time": "2023-08-16T15:17:49.510Z"
   },
   {
    "duration": 22,
    "start_time": "2023-08-16T15:17:49.514Z"
   },
   {
    "duration": 39,
    "start_time": "2023-08-16T15:17:49.538Z"
   },
   {
    "duration": 10,
    "start_time": "2023-08-16T15:17:49.578Z"
   },
   {
    "duration": 75,
    "start_time": "2023-08-16T15:17:49.590Z"
   },
   {
    "duration": 8,
    "start_time": "2023-08-16T15:17:49.666Z"
   },
   {
    "duration": 2,
    "start_time": "2023-08-16T15:17:49.676Z"
   },
   {
    "duration": 8,
    "start_time": "2023-08-16T15:17:49.679Z"
   },
   {
    "duration": 414,
    "start_time": "2023-08-16T15:17:49.699Z"
   },
   {
    "duration": 4,
    "start_time": "2023-08-16T15:17:50.114Z"
   },
   {
    "duration": 192,
    "start_time": "2023-08-16T15:17:50.200Z"
   },
   {
    "duration": 7,
    "start_time": "2023-08-16T15:17:50.394Z"
   },
   {
    "duration": 14,
    "start_time": "2023-08-16T15:17:50.403Z"
   },
   {
    "duration": 339,
    "start_time": "2023-08-16T15:17:50.418Z"
   },
   {
    "duration": 307,
    "start_time": "2023-08-16T15:17:58.706Z"
   },
   {
    "duration": 405,
    "start_time": "2023-08-16T15:18:55.388Z"
   },
   {
    "duration": 345,
    "start_time": "2023-08-16T15:19:10.782Z"
   },
   {
    "duration": 5,
    "start_time": "2023-08-16T15:19:24.527Z"
   },
   {
    "duration": 330,
    "start_time": "2023-08-16T15:19:41.880Z"
   },
   {
    "duration": 467,
    "start_time": "2023-08-16T15:19:46.754Z"
   },
   {
    "duration": 334,
    "start_time": "2023-08-16T15:19:49.331Z"
   },
   {
    "duration": 5,
    "start_time": "2023-08-16T15:21:36.161Z"
   },
   {
    "duration": 3,
    "start_time": "2023-08-16T15:28:27.307Z"
   },
   {
    "duration": 4,
    "start_time": "2023-08-16T15:32:53.650Z"
   },
   {
    "duration": 3,
    "start_time": "2023-08-16T15:32:55.778Z"
   },
   {
    "duration": 5,
    "start_time": "2023-08-16T15:32:56.114Z"
   },
   {
    "duration": 4,
    "start_time": "2023-08-16T15:33:41.305Z"
   },
   {
    "duration": 72,
    "start_time": "2023-08-16T15:36:23.456Z"
   },
   {
    "duration": 16,
    "start_time": "2023-08-16T15:36:53.331Z"
   },
   {
    "duration": 702,
    "start_time": "2023-08-16T15:38:06.863Z"
   },
   {
    "duration": 2122,
    "start_time": "2023-08-16T15:38:13.678Z"
   },
   {
    "duration": 1947,
    "start_time": "2023-08-16T15:38:26.769Z"
   },
   {
    "duration": 4,
    "start_time": "2023-08-16T15:38:52.213Z"
   },
   {
    "duration": 1978,
    "start_time": "2023-08-16T15:38:53.060Z"
   },
   {
    "duration": 5,
    "start_time": "2023-08-16T15:40:19.537Z"
   },
   {
    "duration": 13,
    "start_time": "2023-08-16T15:40:20.016Z"
   },
   {
    "duration": 5,
    "start_time": "2023-08-16T15:40:28.418Z"
   },
   {
    "duration": 1642,
    "start_time": "2023-08-16T15:40:28.930Z"
   },
   {
    "duration": 1654,
    "start_time": "2023-08-16T15:40:52.117Z"
   },
   {
    "duration": 5,
    "start_time": "2023-08-16T15:41:43.565Z"
   },
   {
    "duration": 2916,
    "start_time": "2023-08-16T15:41:46.445Z"
   },
   {
    "duration": 5,
    "start_time": "2023-08-16T15:41:53.968Z"
   },
   {
    "duration": 1700,
    "start_time": "2023-08-16T15:41:56.008Z"
   },
   {
    "duration": 5,
    "start_time": "2023-08-16T15:45:03.447Z"
   },
   {
    "duration": 1662,
    "start_time": "2023-08-16T15:45:04.072Z"
   },
   {
    "duration": 5,
    "start_time": "2023-08-16T15:45:11.193Z"
   },
   {
    "duration": 1820,
    "start_time": "2023-08-16T15:45:11.642Z"
   },
   {
    "duration": 5,
    "start_time": "2023-08-16T15:45:48.223Z"
   },
   {
    "duration": 13,
    "start_time": "2023-08-16T15:45:49.039Z"
   },
   {
    "duration": 5,
    "start_time": "2023-08-16T15:46:05.345Z"
   },
   {
    "duration": 2136,
    "start_time": "2023-08-16T15:46:05.925Z"
   },
   {
    "duration": 5,
    "start_time": "2023-08-16T15:46:17.059Z"
   },
   {
    "duration": 277,
    "start_time": "2023-08-16T15:46:36.630Z"
   },
   {
    "duration": 5,
    "start_time": "2023-08-16T15:46:42.784Z"
   },
   {
    "duration": 355,
    "start_time": "2023-08-16T15:46:42.791Z"
   },
   {
    "duration": 4,
    "start_time": "2023-08-16T15:46:43.147Z"
   },
   {
    "duration": 20,
    "start_time": "2023-08-16T15:46:43.152Z"
   },
   {
    "duration": 47,
    "start_time": "2023-08-16T15:46:43.175Z"
   },
   {
    "duration": 8,
    "start_time": "2023-08-16T15:46:43.224Z"
   },
   {
    "duration": 80,
    "start_time": "2023-08-16T15:46:43.234Z"
   },
   {
    "duration": 10,
    "start_time": "2023-08-16T15:46:43.315Z"
   },
   {
    "duration": 377,
    "start_time": "2023-08-16T15:46:43.326Z"
   },
   {
    "duration": 405,
    "start_time": "2023-08-16T15:46:43.705Z"
   },
   {
    "duration": 3,
    "start_time": "2023-08-16T15:46:44.112Z"
   },
   {
    "duration": 202,
    "start_time": "2023-08-16T15:46:44.200Z"
   },
   {
    "duration": 0,
    "start_time": "2023-08-16T15:46:44.404Z"
   },
   {
    "duration": 0,
    "start_time": "2023-08-16T15:46:44.405Z"
   },
   {
    "duration": 0,
    "start_time": "2023-08-16T15:46:44.406Z"
   },
   {
    "duration": 0,
    "start_time": "2023-08-16T15:46:44.407Z"
   },
   {
    "duration": 0,
    "start_time": "2023-08-16T15:46:44.407Z"
   },
   {
    "duration": 0,
    "start_time": "2023-08-16T15:46:44.409Z"
   },
   {
    "duration": 0,
    "start_time": "2023-08-16T15:46:44.409Z"
   },
   {
    "duration": 0,
    "start_time": "2023-08-16T15:46:44.410Z"
   },
   {
    "duration": 0,
    "start_time": "2023-08-16T15:46:44.411Z"
   },
   {
    "duration": 3,
    "start_time": "2023-08-16T15:47:02.183Z"
   },
   {
    "duration": 388,
    "start_time": "2023-08-16T15:47:02.187Z"
   },
   {
    "duration": 3,
    "start_time": "2023-08-16T15:47:02.576Z"
   },
   {
    "duration": 49,
    "start_time": "2023-08-16T15:47:02.580Z"
   },
   {
    "duration": 45,
    "start_time": "2023-08-16T15:47:02.631Z"
   },
   {
    "duration": 6,
    "start_time": "2023-08-16T15:47:02.678Z"
   },
   {
    "duration": 84,
    "start_time": "2023-08-16T15:47:02.686Z"
   },
   {
    "duration": 9,
    "start_time": "2023-08-16T15:47:02.771Z"
   },
   {
    "duration": 318,
    "start_time": "2023-08-16T15:47:02.782Z"
   },
   {
    "duration": 95,
    "start_time": "2023-08-16T15:47:03.105Z"
   },
   {
    "duration": 77,
    "start_time": "2023-08-16T15:47:03.201Z"
   },
   {
    "duration": 2,
    "start_time": "2023-08-16T15:47:03.280Z"
   },
   {
    "duration": 18,
    "start_time": "2023-08-16T15:47:03.284Z"
   },
   {
    "duration": 37,
    "start_time": "2023-08-16T15:47:03.304Z"
   },
   {
    "duration": 364,
    "start_time": "2023-08-16T15:47:03.343Z"
   },
   {
    "duration": 418,
    "start_time": "2023-08-16T15:47:03.709Z"
   },
   {
    "duration": 335,
    "start_time": "2023-08-16T15:47:04.129Z"
   },
   {
    "duration": 2,
    "start_time": "2023-08-16T15:47:04.465Z"
   },
   {
    "duration": 19,
    "start_time": "2023-08-16T15:47:04.469Z"
   },
   {
    "duration": 1733,
    "start_time": "2023-08-16T15:47:04.490Z"
   },
   {
    "duration": 5,
    "start_time": "2023-08-16T15:48:03.748Z"
   },
   {
    "duration": 22,
    "start_time": "2023-08-16T15:48:04.290Z"
   },
   {
    "duration": 4,
    "start_time": "2023-08-16T15:48:58.458Z"
   },
   {
    "duration": 2116,
    "start_time": "2023-08-16T15:48:59.354Z"
   },
   {
    "duration": 3,
    "start_time": "2023-08-16T15:51:40.433Z"
   },
   {
    "duration": 5,
    "start_time": "2023-08-16T15:51:41.617Z"
   },
   {
    "duration": 3514,
    "start_time": "2023-08-16T15:51:42.161Z"
   },
   {
    "duration": 2,
    "start_time": "2023-08-16T15:52:08.389Z"
   },
   {
    "duration": 4,
    "start_time": "2023-08-16T15:52:09.396Z"
   },
   {
    "duration": 3,
    "start_time": "2023-08-16T15:52:15.029Z"
   },
   {
    "duration": 6,
    "start_time": "2023-08-16T15:52:15.383Z"
   },
   {
    "duration": 2181,
    "start_time": "2023-08-16T15:52:15.750Z"
   },
   {
    "duration": 3,
    "start_time": "2023-08-16T15:52:40.969Z"
   },
   {
    "duration": 5,
    "start_time": "2023-08-16T15:52:43.081Z"
   },
   {
    "duration": 4,
    "start_time": "2023-08-16T15:52:43.546Z"
   },
   {
    "duration": 351,
    "start_time": "2023-08-16T15:52:43.866Z"
   },
   {
    "duration": 365,
    "start_time": "2023-08-16T15:52:44.219Z"
   },
   {
    "duration": 460,
    "start_time": "2023-08-16T15:52:44.601Z"
   },
   {
    "duration": 3,
    "start_time": "2023-08-16T15:52:45.785Z"
   },
   {
    "duration": 8,
    "start_time": "2023-08-16T15:52:46.209Z"
   },
   {
    "duration": 2137,
    "start_time": "2023-08-16T15:52:46.666Z"
   },
   {
    "duration": 2,
    "start_time": "2023-08-16T15:53:12.622Z"
   },
   {
    "duration": 4,
    "start_time": "2023-08-16T15:53:13.165Z"
   },
   {
    "duration": 5,
    "start_time": "2023-08-16T15:53:13.696Z"
   },
   {
    "duration": 321,
    "start_time": "2023-08-16T15:53:13.950Z"
   },
   {
    "duration": 329,
    "start_time": "2023-08-16T15:53:14.274Z"
   },
   {
    "duration": 342,
    "start_time": "2023-08-16T15:53:14.605Z"
   },
   {
    "duration": 3,
    "start_time": "2023-08-16T15:53:15.534Z"
   },
   {
    "duration": 5,
    "start_time": "2023-08-16T15:53:15.869Z"
   },
   {
    "duration": 2374,
    "start_time": "2023-08-16T15:53:16.270Z"
   },
   {
    "duration": 2,
    "start_time": "2023-08-16T15:53:23.999Z"
   },
   {
    "duration": 3,
    "start_time": "2023-08-16T15:53:41.442Z"
   },
   {
    "duration": 5,
    "start_time": "2023-08-16T15:53:41.650Z"
   },
   {
    "duration": 2169,
    "start_time": "2023-08-16T15:53:41.922Z"
   },
   {
    "duration": 3,
    "start_time": "2023-08-16T15:53:56.301Z"
   },
   {
    "duration": 314,
    "start_time": "2023-08-16T15:53:56.306Z"
   },
   {
    "duration": 2,
    "start_time": "2023-08-16T15:53:56.622Z"
   },
   {
    "duration": 6,
    "start_time": "2023-08-16T15:53:56.626Z"
   },
   {
    "duration": 31,
    "start_time": "2023-08-16T15:53:56.634Z"
   },
   {
    "duration": 6,
    "start_time": "2023-08-16T15:53:56.666Z"
   },
   {
    "duration": 150,
    "start_time": "2023-08-16T15:53:56.673Z"
   },
   {
    "duration": 8,
    "start_time": "2023-08-16T15:53:56.824Z"
   },
   {
    "duration": 272,
    "start_time": "2023-08-16T15:53:56.833Z"
   },
   {
    "duration": 94,
    "start_time": "2023-08-16T15:53:57.106Z"
   },
   {
    "duration": 177,
    "start_time": "2023-08-16T15:53:57.201Z"
   },
   {
    "duration": 2,
    "start_time": "2023-08-16T15:53:57.379Z"
   },
   {
    "duration": 8,
    "start_time": "2023-08-16T15:53:57.382Z"
   },
   {
    "duration": 9,
    "start_time": "2023-08-16T15:53:57.392Z"
   },
   {
    "duration": 326,
    "start_time": "2023-08-16T15:53:57.402Z"
   },
   {
    "duration": 325,
    "start_time": "2023-08-16T15:53:57.730Z"
   },
   {
    "duration": 336,
    "start_time": "2023-08-16T15:53:58.057Z"
   },
   {
    "duration": 2,
    "start_time": "2023-08-16T15:53:58.399Z"
   },
   {
    "duration": 22,
    "start_time": "2023-08-16T15:53:58.402Z"
   },
   {
    "duration": 2061,
    "start_time": "2023-08-16T15:53:58.425Z"
   },
   {
    "duration": 5,
    "start_time": "2023-08-16T15:56:51.420Z"
   },
   {
    "duration": 2102,
    "start_time": "2023-08-16T15:56:51.724Z"
   },
   {
    "duration": 3,
    "start_time": "2023-08-16T15:57:22.497Z"
   },
   {
    "duration": 2100,
    "start_time": "2023-08-16T15:57:27.777Z"
   },
   {
    "duration": 5,
    "start_time": "2023-08-16T15:58:21.673Z"
   },
   {
    "duration": 1982,
    "start_time": "2023-08-16T15:58:22.426Z"
   },
   {
    "duration": 3,
    "start_time": "2023-08-16T15:59:41.700Z"
   },
   {
    "duration": 2003,
    "start_time": "2023-08-16T15:59:47.573Z"
   },
   {
    "duration": 6,
    "start_time": "2023-08-16T16:00:15.322Z"
   },
   {
    "duration": 6,
    "start_time": "2023-08-16T16:00:16.586Z"
   },
   {
    "duration": 408,
    "start_time": "2023-08-16T16:00:17.171Z"
   },
   {
    "duration": 331,
    "start_time": "2023-08-16T16:00:17.580Z"
   },
   {
    "duration": 342,
    "start_time": "2023-08-16T16:00:17.913Z"
   },
   {
    "duration": 3,
    "start_time": "2023-08-16T16:00:19.001Z"
   },
   {
    "duration": 4,
    "start_time": "2023-08-16T16:00:19.033Z"
   },
   {
    "duration": 1973,
    "start_time": "2023-08-16T16:00:19.716Z"
   },
   {
    "duration": 5,
    "start_time": "2023-08-16T16:00:25.898Z"
   },
   {
    "duration": 2144,
    "start_time": "2023-08-16T16:00:26.422Z"
   },
   {
    "duration": 2393,
    "start_time": "2023-08-16T16:01:11.858Z"
   },
   {
    "duration": 3,
    "start_time": "2023-08-16T16:06:27.183Z"
   },
   {
    "duration": 344,
    "start_time": "2023-08-16T16:06:27.187Z"
   },
   {
    "duration": 3,
    "start_time": "2023-08-16T16:06:27.533Z"
   },
   {
    "duration": 28,
    "start_time": "2023-08-16T16:06:27.537Z"
   },
   {
    "duration": 41,
    "start_time": "2023-08-16T16:06:27.567Z"
   },
   {
    "duration": 8,
    "start_time": "2023-08-16T16:06:27.610Z"
   },
   {
    "duration": 71,
    "start_time": "2023-08-16T16:06:27.620Z"
   },
   {
    "duration": 9,
    "start_time": "2023-08-16T16:06:27.698Z"
   },
   {
    "duration": 294,
    "start_time": "2023-08-16T16:06:27.708Z"
   },
   {
    "duration": 3,
    "start_time": "2023-08-16T16:06:28.004Z"
   },
   {
    "duration": 268,
    "start_time": "2023-08-16T16:06:28.009Z"
   },
   {
    "duration": 2,
    "start_time": "2023-08-16T16:06:28.278Z"
   },
   {
    "duration": 25,
    "start_time": "2023-08-16T16:06:28.282Z"
   },
   {
    "duration": 14,
    "start_time": "2023-08-16T16:06:28.309Z"
   },
   {
    "duration": 428,
    "start_time": "2023-08-16T16:06:28.324Z"
   },
   {
    "duration": 350,
    "start_time": "2023-08-16T16:06:28.753Z"
   },
   {
    "duration": 344,
    "start_time": "2023-08-16T16:06:29.105Z"
   },
   {
    "duration": 3,
    "start_time": "2023-08-16T16:06:29.451Z"
   },
   {
    "duration": 6,
    "start_time": "2023-08-16T16:06:29.456Z"
   },
   {
    "duration": 2163,
    "start_time": "2023-08-16T16:06:29.463Z"
   }
  ],
  "kernelspec": {
   "display_name": "Python 3 (ipykernel)",
   "language": "python",
   "name": "python3"
  },
  "language_info": {
   "codemirror_mode": {
    "name": "ipython",
    "version": 3
   },
   "file_extension": ".py",
   "mimetype": "text/x-python",
   "name": "python",
   "nbconvert_exporter": "python",
   "pygments_lexer": "ipython3",
   "version": "3.9.5"
  },
  "toc": {
   "base_numbering": 1,
   "nav_menu": {},
   "number_sections": true,
   "sideBar": true,
   "skip_h1_title": true,
   "title_cell": "Table of Contents",
   "title_sidebar": "Contents",
   "toc_cell": false,
   "toc_position": {},
   "toc_section_display": true,
   "toc_window_display": false
  }
 },
 "nbformat": 4,
 "nbformat_minor": 2
}
