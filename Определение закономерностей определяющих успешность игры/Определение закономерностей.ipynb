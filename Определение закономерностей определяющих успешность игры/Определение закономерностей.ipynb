{
 "cells": [
  {
   "cell_type": "markdown",
   "metadata": {},
   "source": [
    "# Анализ данных и проверка гипотез магазина \"Стримчик\"\n",
    "\n",
    "В данном проекте от меня требовалось выявить определяющие успешность игры закономерности. Это позволит сделать ставку на потенциально популярный продукт и спланировать рекламные кампании.\n",
    "\n",
    "**Столбцы датасета games:**\n",
    "- `Name` — название игры\n",
    "- `Platform` — платформа\n",
    "- `Year_of_Release` — год выпуска\n",
    "- `Genre` — жанр игры\n",
    "- `NA_sales` — продажи в Северной Америке (миллионы проданных копий)\n",
    "- `EU_sales` — продажи в Европе (миллионы проданных копий)\n",
    "- `JP_sales` — продажи в Японии (миллионы проданных копий)\n",
    "- `Other_sales` — продажи в других странах (миллионы проданных копий)\n",
    "- `Critic_Score` — оценка критиков (максимум 100)\n",
    "- `User_Score` — оценка пользователей (максимум 10)\n",
    "- `Rating` — рейтинг от организации ESRB (англ. Entertainment Software Rating Board). Эта ассоциация определяет рейтинг компьютерных игр и присваивает им подходящую возрастную категорию."
   ]
  },
  {
   "cell_type": "markdown",
   "metadata": {},
   "source": [
    "### Импорт необходимых модулей и загрузка датасета"
   ]
  },
  {
   "cell_type": "code",
   "execution_count": 1,
   "metadata": {},
   "outputs": [],
   "source": [
    "import warnings\n",
    "import pandas as pd\n",
    "import numpy as np\n",
    "import matplotlib.pyplot as plt\n",
    "import seaborn as sns\n",
    "from scipy import stats as st"
   ]
  },
  {
   "cell_type": "code",
   "execution_count": 2,
   "metadata": {},
   "outputs": [],
   "source": [
    "warnings.filterwarnings(\"ignore\")"
   ]
  },
  {
   "cell_type": "code",
   "execution_count": 3,
   "metadata": {},
   "outputs": [],
   "source": [
    "df = pd.read_csv('/datasets/games.csv')"
   ]
  },
  {
   "cell_type": "code",
   "execution_count": 4,
   "metadata": {},
   "outputs": [
    {
     "name": "stdout",
     "output_type": "stream",
     "text": [
      "<class 'pandas.core.frame.DataFrame'>\n",
      "RangeIndex: 16715 entries, 0 to 16714\n",
      "Data columns (total 11 columns):\n",
      " #   Column           Non-Null Count  Dtype  \n",
      "---  ------           --------------  -----  \n",
      " 0   Name             16713 non-null  object \n",
      " 1   Platform         16715 non-null  object \n",
      " 2   Year_of_Release  16446 non-null  float64\n",
      " 3   Genre            16713 non-null  object \n",
      " 4   NA_sales         16715 non-null  float64\n",
      " 5   EU_sales         16715 non-null  float64\n",
      " 6   JP_sales         16715 non-null  float64\n",
      " 7   Other_sales      16715 non-null  float64\n",
      " 8   Critic_Score     8137 non-null   float64\n",
      " 9   User_Score       10014 non-null  object \n",
      " 10  Rating           9949 non-null   object \n",
      "dtypes: float64(6), object(5)\n",
      "memory usage: 1.4+ MB\n"
     ]
    }
   ],
   "source": [
    "records_count = df.shape[0]\n",
    "df.info()"
   ]
  },
  {
   "cell_type": "code",
   "execution_count": 5,
   "metadata": {},
   "outputs": [
    {
     "data": {
      "text/html": [
       "<div>\n",
       "<style scoped>\n",
       "    .dataframe tbody tr th:only-of-type {\n",
       "        vertical-align: middle;\n",
       "    }\n",
       "\n",
       "    .dataframe tbody tr th {\n",
       "        vertical-align: top;\n",
       "    }\n",
       "\n",
       "    .dataframe thead th {\n",
       "        text-align: right;\n",
       "    }\n",
       "</style>\n",
       "<table border=\"1\" class=\"dataframe\">\n",
       "  <thead>\n",
       "    <tr style=\"text-align: right;\">\n",
       "      <th></th>\n",
       "      <th>Name</th>\n",
       "      <th>Platform</th>\n",
       "      <th>Year_of_Release</th>\n",
       "      <th>Genre</th>\n",
       "      <th>NA_sales</th>\n",
       "      <th>EU_sales</th>\n",
       "      <th>JP_sales</th>\n",
       "      <th>Other_sales</th>\n",
       "      <th>Critic_Score</th>\n",
       "      <th>User_Score</th>\n",
       "      <th>Rating</th>\n",
       "    </tr>\n",
       "  </thead>\n",
       "  <tbody>\n",
       "    <tr>\n",
       "      <th>16695</th>\n",
       "      <td>Planet Monsters</td>\n",
       "      <td>GBA</td>\n",
       "      <td>2001.0</td>\n",
       "      <td>Action</td>\n",
       "      <td>0.01</td>\n",
       "      <td>0.00</td>\n",
       "      <td>0.00</td>\n",
       "      <td>0.0</td>\n",
       "      <td>67.0</td>\n",
       "      <td>tbd</td>\n",
       "      <td>E</td>\n",
       "    </tr>\n",
       "    <tr>\n",
       "      <th>16696</th>\n",
       "      <td>Breach</td>\n",
       "      <td>PC</td>\n",
       "      <td>2011.0</td>\n",
       "      <td>Shooter</td>\n",
       "      <td>0.01</td>\n",
       "      <td>0.00</td>\n",
       "      <td>0.00</td>\n",
       "      <td>0.0</td>\n",
       "      <td>61.0</td>\n",
       "      <td>5.8</td>\n",
       "      <td>T</td>\n",
       "    </tr>\n",
       "    <tr>\n",
       "      <th>16697</th>\n",
       "      <td>Bust-A-Move 3000</td>\n",
       "      <td>GC</td>\n",
       "      <td>2003.0</td>\n",
       "      <td>Puzzle</td>\n",
       "      <td>0.01</td>\n",
       "      <td>0.00</td>\n",
       "      <td>0.00</td>\n",
       "      <td>0.0</td>\n",
       "      <td>53.0</td>\n",
       "      <td>tbd</td>\n",
       "      <td>E</td>\n",
       "    </tr>\n",
       "    <tr>\n",
       "      <th>16698</th>\n",
       "      <td>Mega Brain Boost</td>\n",
       "      <td>DS</td>\n",
       "      <td>2008.0</td>\n",
       "      <td>Puzzle</td>\n",
       "      <td>0.01</td>\n",
       "      <td>0.00</td>\n",
       "      <td>0.00</td>\n",
       "      <td>0.0</td>\n",
       "      <td>48.0</td>\n",
       "      <td>tbd</td>\n",
       "      <td>E</td>\n",
       "    </tr>\n",
       "    <tr>\n",
       "      <th>16699</th>\n",
       "      <td>The Longest 5 Minutes</td>\n",
       "      <td>PSV</td>\n",
       "      <td>2016.0</td>\n",
       "      <td>Action</td>\n",
       "      <td>0.00</td>\n",
       "      <td>0.00</td>\n",
       "      <td>0.01</td>\n",
       "      <td>0.0</td>\n",
       "      <td>NaN</td>\n",
       "      <td>NaN</td>\n",
       "      <td>NaN</td>\n",
       "    </tr>\n",
       "    <tr>\n",
       "      <th>16700</th>\n",
       "      <td>Mezase!! Tsuri Master DS</td>\n",
       "      <td>DS</td>\n",
       "      <td>2009.0</td>\n",
       "      <td>Sports</td>\n",
       "      <td>0.00</td>\n",
       "      <td>0.00</td>\n",
       "      <td>0.01</td>\n",
       "      <td>0.0</td>\n",
       "      <td>NaN</td>\n",
       "      <td>NaN</td>\n",
       "      <td>NaN</td>\n",
       "    </tr>\n",
       "    <tr>\n",
       "      <th>16701</th>\n",
       "      <td>Eiyuu Densetsu: Sora no Kiseki Material Collec...</td>\n",
       "      <td>PSP</td>\n",
       "      <td>2007.0</td>\n",
       "      <td>Role-Playing</td>\n",
       "      <td>0.00</td>\n",
       "      <td>0.00</td>\n",
       "      <td>0.01</td>\n",
       "      <td>0.0</td>\n",
       "      <td>NaN</td>\n",
       "      <td>NaN</td>\n",
       "      <td>NaN</td>\n",
       "    </tr>\n",
       "    <tr>\n",
       "      <th>16702</th>\n",
       "      <td>STORM: Frontline Nation</td>\n",
       "      <td>PC</td>\n",
       "      <td>2011.0</td>\n",
       "      <td>Strategy</td>\n",
       "      <td>0.00</td>\n",
       "      <td>0.01</td>\n",
       "      <td>0.00</td>\n",
       "      <td>0.0</td>\n",
       "      <td>60.0</td>\n",
       "      <td>7.2</td>\n",
       "      <td>E10+</td>\n",
       "    </tr>\n",
       "    <tr>\n",
       "      <th>16703</th>\n",
       "      <td>Strawberry Nauts</td>\n",
       "      <td>PSV</td>\n",
       "      <td>2016.0</td>\n",
       "      <td>Adventure</td>\n",
       "      <td>0.00</td>\n",
       "      <td>0.00</td>\n",
       "      <td>0.01</td>\n",
       "      <td>0.0</td>\n",
       "      <td>NaN</td>\n",
       "      <td>NaN</td>\n",
       "      <td>NaN</td>\n",
       "    </tr>\n",
       "    <tr>\n",
       "      <th>16704</th>\n",
       "      <td>Plushees</td>\n",
       "      <td>DS</td>\n",
       "      <td>2008.0</td>\n",
       "      <td>Simulation</td>\n",
       "      <td>0.01</td>\n",
       "      <td>0.00</td>\n",
       "      <td>0.00</td>\n",
       "      <td>0.0</td>\n",
       "      <td>NaN</td>\n",
       "      <td>tbd</td>\n",
       "      <td>E</td>\n",
       "    </tr>\n",
       "    <tr>\n",
       "      <th>16705</th>\n",
       "      <td>15 Days</td>\n",
       "      <td>PC</td>\n",
       "      <td>2009.0</td>\n",
       "      <td>Adventure</td>\n",
       "      <td>0.00</td>\n",
       "      <td>0.01</td>\n",
       "      <td>0.00</td>\n",
       "      <td>0.0</td>\n",
       "      <td>63.0</td>\n",
       "      <td>5.8</td>\n",
       "      <td>NaN</td>\n",
       "    </tr>\n",
       "    <tr>\n",
       "      <th>16706</th>\n",
       "      <td>Men in Black II: Alien Escape</td>\n",
       "      <td>GC</td>\n",
       "      <td>2003.0</td>\n",
       "      <td>Shooter</td>\n",
       "      <td>0.01</td>\n",
       "      <td>0.00</td>\n",
       "      <td>0.00</td>\n",
       "      <td>0.0</td>\n",
       "      <td>NaN</td>\n",
       "      <td>tbd</td>\n",
       "      <td>T</td>\n",
       "    </tr>\n",
       "    <tr>\n",
       "      <th>16707</th>\n",
       "      <td>Aiyoku no Eustia</td>\n",
       "      <td>PSV</td>\n",
       "      <td>2014.0</td>\n",
       "      <td>Misc</td>\n",
       "      <td>0.00</td>\n",
       "      <td>0.00</td>\n",
       "      <td>0.01</td>\n",
       "      <td>0.0</td>\n",
       "      <td>NaN</td>\n",
       "      <td>NaN</td>\n",
       "      <td>NaN</td>\n",
       "    </tr>\n",
       "    <tr>\n",
       "      <th>16708</th>\n",
       "      <td>Woody Woodpecker in Crazy Castle 5</td>\n",
       "      <td>GBA</td>\n",
       "      <td>2002.0</td>\n",
       "      <td>Platform</td>\n",
       "      <td>0.01</td>\n",
       "      <td>0.00</td>\n",
       "      <td>0.00</td>\n",
       "      <td>0.0</td>\n",
       "      <td>NaN</td>\n",
       "      <td>NaN</td>\n",
       "      <td>NaN</td>\n",
       "    </tr>\n",
       "    <tr>\n",
       "      <th>16709</th>\n",
       "      <td>SCORE International Baja 1000: The Official Game</td>\n",
       "      <td>PS2</td>\n",
       "      <td>2008.0</td>\n",
       "      <td>Racing</td>\n",
       "      <td>0.00</td>\n",
       "      <td>0.00</td>\n",
       "      <td>0.00</td>\n",
       "      <td>0.0</td>\n",
       "      <td>NaN</td>\n",
       "      <td>NaN</td>\n",
       "      <td>NaN</td>\n",
       "    </tr>\n",
       "    <tr>\n",
       "      <th>16710</th>\n",
       "      <td>Samurai Warriors: Sanada Maru</td>\n",
       "      <td>PS3</td>\n",
       "      <td>2016.0</td>\n",
       "      <td>Action</td>\n",
       "      <td>0.00</td>\n",
       "      <td>0.00</td>\n",
       "      <td>0.01</td>\n",
       "      <td>0.0</td>\n",
       "      <td>NaN</td>\n",
       "      <td>NaN</td>\n",
       "      <td>NaN</td>\n",
       "    </tr>\n",
       "    <tr>\n",
       "      <th>16711</th>\n",
       "      <td>LMA Manager 2007</td>\n",
       "      <td>X360</td>\n",
       "      <td>2006.0</td>\n",
       "      <td>Sports</td>\n",
       "      <td>0.00</td>\n",
       "      <td>0.01</td>\n",
       "      <td>0.00</td>\n",
       "      <td>0.0</td>\n",
       "      <td>NaN</td>\n",
       "      <td>NaN</td>\n",
       "      <td>NaN</td>\n",
       "    </tr>\n",
       "    <tr>\n",
       "      <th>16712</th>\n",
       "      <td>Haitaka no Psychedelica</td>\n",
       "      <td>PSV</td>\n",
       "      <td>2016.0</td>\n",
       "      <td>Adventure</td>\n",
       "      <td>0.00</td>\n",
       "      <td>0.00</td>\n",
       "      <td>0.01</td>\n",
       "      <td>0.0</td>\n",
       "      <td>NaN</td>\n",
       "      <td>NaN</td>\n",
       "      <td>NaN</td>\n",
       "    </tr>\n",
       "    <tr>\n",
       "      <th>16713</th>\n",
       "      <td>Spirits &amp; Spells</td>\n",
       "      <td>GBA</td>\n",
       "      <td>2003.0</td>\n",
       "      <td>Platform</td>\n",
       "      <td>0.01</td>\n",
       "      <td>0.00</td>\n",
       "      <td>0.00</td>\n",
       "      <td>0.0</td>\n",
       "      <td>NaN</td>\n",
       "      <td>NaN</td>\n",
       "      <td>NaN</td>\n",
       "    </tr>\n",
       "    <tr>\n",
       "      <th>16714</th>\n",
       "      <td>Winning Post 8 2016</td>\n",
       "      <td>PSV</td>\n",
       "      <td>2016.0</td>\n",
       "      <td>Simulation</td>\n",
       "      <td>0.00</td>\n",
       "      <td>0.00</td>\n",
       "      <td>0.01</td>\n",
       "      <td>0.0</td>\n",
       "      <td>NaN</td>\n",
       "      <td>NaN</td>\n",
       "      <td>NaN</td>\n",
       "    </tr>\n",
       "  </tbody>\n",
       "</table>\n",
       "</div>"
      ],
      "text/plain": [
       "                                                    Name Platform  \\\n",
       "16695                                    Planet Monsters      GBA   \n",
       "16696                                             Breach       PC   \n",
       "16697                                   Bust-A-Move 3000       GC   \n",
       "16698                                   Mega Brain Boost       DS   \n",
       "16699                              The Longest 5 Minutes      PSV   \n",
       "16700                           Mezase!! Tsuri Master DS       DS   \n",
       "16701  Eiyuu Densetsu: Sora no Kiseki Material Collec...      PSP   \n",
       "16702                            STORM: Frontline Nation       PC   \n",
       "16703                                   Strawberry Nauts      PSV   \n",
       "16704                                           Plushees       DS   \n",
       "16705                                            15 Days       PC   \n",
       "16706                      Men in Black II: Alien Escape       GC   \n",
       "16707                                   Aiyoku no Eustia      PSV   \n",
       "16708                 Woody Woodpecker in Crazy Castle 5      GBA   \n",
       "16709   SCORE International Baja 1000: The Official Game      PS2   \n",
       "16710                      Samurai Warriors: Sanada Maru      PS3   \n",
       "16711                                   LMA Manager 2007     X360   \n",
       "16712                            Haitaka no Psychedelica      PSV   \n",
       "16713                                   Spirits & Spells      GBA   \n",
       "16714                                Winning Post 8 2016      PSV   \n",
       "\n",
       "       Year_of_Release         Genre  NA_sales  EU_sales  JP_sales  \\\n",
       "16695           2001.0        Action      0.01      0.00      0.00   \n",
       "16696           2011.0       Shooter      0.01      0.00      0.00   \n",
       "16697           2003.0        Puzzle      0.01      0.00      0.00   \n",
       "16698           2008.0        Puzzle      0.01      0.00      0.00   \n",
       "16699           2016.0        Action      0.00      0.00      0.01   \n",
       "16700           2009.0        Sports      0.00      0.00      0.01   \n",
       "16701           2007.0  Role-Playing      0.00      0.00      0.01   \n",
       "16702           2011.0      Strategy      0.00      0.01      0.00   \n",
       "16703           2016.0     Adventure      0.00      0.00      0.01   \n",
       "16704           2008.0    Simulation      0.01      0.00      0.00   \n",
       "16705           2009.0     Adventure      0.00      0.01      0.00   \n",
       "16706           2003.0       Shooter      0.01      0.00      0.00   \n",
       "16707           2014.0          Misc      0.00      0.00      0.01   \n",
       "16708           2002.0      Platform      0.01      0.00      0.00   \n",
       "16709           2008.0        Racing      0.00      0.00      0.00   \n",
       "16710           2016.0        Action      0.00      0.00      0.01   \n",
       "16711           2006.0        Sports      0.00      0.01      0.00   \n",
       "16712           2016.0     Adventure      0.00      0.00      0.01   \n",
       "16713           2003.0      Platform      0.01      0.00      0.00   \n",
       "16714           2016.0    Simulation      0.00      0.00      0.01   \n",
       "\n",
       "       Other_sales  Critic_Score User_Score Rating  \n",
       "16695          0.0          67.0        tbd      E  \n",
       "16696          0.0          61.0        5.8      T  \n",
       "16697          0.0          53.0        tbd      E  \n",
       "16698          0.0          48.0        tbd      E  \n",
       "16699          0.0           NaN        NaN    NaN  \n",
       "16700          0.0           NaN        NaN    NaN  \n",
       "16701          0.0           NaN        NaN    NaN  \n",
       "16702          0.0          60.0        7.2   E10+  \n",
       "16703          0.0           NaN        NaN    NaN  \n",
       "16704          0.0           NaN        tbd      E  \n",
       "16705          0.0          63.0        5.8    NaN  \n",
       "16706          0.0           NaN        tbd      T  \n",
       "16707          0.0           NaN        NaN    NaN  \n",
       "16708          0.0           NaN        NaN    NaN  \n",
       "16709          0.0           NaN        NaN    NaN  \n",
       "16710          0.0           NaN        NaN    NaN  \n",
       "16711          0.0           NaN        NaN    NaN  \n",
       "16712          0.0           NaN        NaN    NaN  \n",
       "16713          0.0           NaN        NaN    NaN  \n",
       "16714          0.0           NaN        NaN    NaN  "
      ]
     },
     "execution_count": 5,
     "metadata": {},
     "output_type": "execute_result"
    }
   ],
   "source": [
    "df.tail(20)"
   ]
  },
  {
   "cell_type": "markdown",
   "metadata": {},
   "source": [
    "### Первоначальная обработка данных"
   ]
  },
  {
   "cell_type": "markdown",
   "metadata": {},
   "source": [
    "#### Приведем названия столбцов в нижний регистр"
   ]
  },
  {
   "cell_type": "code",
   "execution_count": 6,
   "metadata": {},
   "outputs": [
    {
     "data": {
      "text/plain": [
       "Index(['name', 'platform', 'year_of_release', 'genre', 'na_sales', 'eu_sales',\n",
       "       'jp_sales', 'other_sales', 'critic_score', 'user_score', 'rating'],\n",
       "      dtype='object')"
      ]
     },
     "execution_count": 6,
     "metadata": {},
     "output_type": "execute_result"
    }
   ],
   "source": [
    "df.columns = df.columns.str.lower()\n",
    "df.columns"
   ]
  },
  {
   "cell_type": "markdown",
   "metadata": {},
   "source": [
    "#### Обработка пропусков и приведение типов данных"
   ]
  },
  {
   "cell_type": "markdown",
   "metadata": {},
   "source": [
    "- `name` — название игры\n",
    "- `platform` — платформа\n",
    "- `year_of_release` — год выпуска\n",
    "- `genre` — жанр игры\n",
    "- `na_sales` — продажи в Северной Америке (миллионы проданных копий)\n",
    "- `eu_sales` — продажи в Европе (миллионы проданных копий)\n",
    "- `jp_sales` — продажи в Японии (миллионы проданных копий)\n",
    "- `other_sales` — продажи в других странах (миллионы проданных копий)\n",
    "- `critic_score` — оценка критиков (максимум 100)\n",
    "- `user_score` — оценка пользователей (максимум 10)\n",
    "- `rating` — рейтинг от организации ESRB (англ. Entertainment Software Rating Board). Эта ассоциация определяет рейтинг компьютерных игр и присваивает им подходящую возрастную категорию."
   ]
  },
  {
   "cell_type": "code",
   "execution_count": 7,
   "metadata": {},
   "outputs": [
    {
     "data": {
      "text/plain": [
       "name                  2\n",
       "platform              0\n",
       "year_of_release     269\n",
       "genre                 2\n",
       "na_sales              0\n",
       "eu_sales              0\n",
       "jp_sales              0\n",
       "other_sales           0\n",
       "critic_score       8578\n",
       "user_score         6701\n",
       "rating             6766\n",
       "dtype: int64"
      ]
     },
     "execution_count": 7,
     "metadata": {},
     "output_type": "execute_result"
    }
   ],
   "source": [
    "df.isna().sum()"
   ]
  },
  {
   "cell_type": "markdown",
   "metadata": {},
   "source": [
    "Видим довольно большое количество пропусков в столбцах `year_of_release`, `critic_score`, `user_score`, `raiting`. Пропуски могли возникнуть из-за технических ошибок или в том случае, если опрос касательно оценок конкретной игры никогда не вёлся. Также, мы видим пропуски в столбцах `name` и `genre`. Можем исключить эти значения из выборки, так как заполнить их медианным или средним значением не получится, ибо в данных столбцах хранятся строки и при этом потеря данных при удалении составит 0.02%."
   ]
  },
  {
   "cell_type": "code",
   "execution_count": 8,
   "metadata": {},
   "outputs": [
    {
     "name": "stdout",
     "output_type": "stream",
     "text": [
      "<class 'pandas.core.frame.DataFrame'>\n",
      "Int64Index: 16713 entries, 0 to 16714\n",
      "Data columns (total 11 columns):\n",
      " #   Column           Non-Null Count  Dtype  \n",
      "---  ------           --------------  -----  \n",
      " 0   name             16713 non-null  object \n",
      " 1   platform         16713 non-null  object \n",
      " 2   year_of_release  16444 non-null  float64\n",
      " 3   genre            16713 non-null  object \n",
      " 4   na_sales         16713 non-null  float64\n",
      " 5   eu_sales         16713 non-null  float64\n",
      " 6   jp_sales         16713 non-null  float64\n",
      " 7   other_sales      16713 non-null  float64\n",
      " 8   critic_score     8137 non-null   float64\n",
      " 9   user_score       10014 non-null  object \n",
      " 10  rating           9949 non-null   object \n",
      "dtypes: float64(6), object(5)\n",
      "memory usage: 1.5+ MB\n"
     ]
    }
   ],
   "source": [
    "df = df.dropna(subset=['name', 'genre'])\n",
    "df.info()"
   ]
  },
  {
   "cell_type": "markdown",
   "metadata": {},
   "source": [
    "Пропуски столбца `year_of_release` также можно исключить, так как медианным или средним значением данный столбец заполнить не получится, только ручной поиск и корректирование данных. При исключении пропусков мы потеряем 1.6% данных."
   ]
  },
  {
   "cell_type": "code",
   "execution_count": 9,
   "metadata": {},
   "outputs": [],
   "source": [
    "df = df.dropna(subset=['year_of_release'])"
   ]
  },
  {
   "cell_type": "code",
   "execution_count": 10,
   "metadata": {},
   "outputs": [
    {
     "data": {
      "text/plain": [
       "'1.62%'"
      ]
     },
     "execution_count": 10,
     "metadata": {},
     "output_type": "execute_result"
    }
   ],
   "source": [
    "loss_percentage = '{:.2%}'.format((records_count - df.shape[0]) / records_count)\n",
    "loss_percentage"
   ]
  },
  {
   "cell_type": "markdown",
   "metadata": {},
   "source": [
    "Итого, при обработке пропусков мы потеряли 1.62% данных, что укладывается в лимит 5%."
   ]
  },
  {
   "cell_type": "markdown",
   "metadata": {},
   "source": [
    "В таблице в столбце `user_score` встречается значение **tbd**, что означает **to be determined** (будет определено). Данное значение говорит о том, что пользовательский рейтинг мог быть собран неккоректно, либо же игра вышла совсем недавно и пользовательский рейтинг ещё не сформировался. Данное значение стоит заменить на **NaN**."
   ]
  },
  {
   "cell_type": "code",
   "execution_count": 11,
   "metadata": {},
   "outputs": [
    {
     "data": {
      "text/plain": [
       "name                  0\n",
       "platform              0\n",
       "year_of_release       0\n",
       "genre                 0\n",
       "na_sales              0\n",
       "eu_sales              0\n",
       "jp_sales              0\n",
       "other_sales           0\n",
       "critic_score       8461\n",
       "user_score         8981\n",
       "rating             6676\n",
       "dtype: int64"
      ]
     },
     "execution_count": 11,
     "metadata": {},
     "output_type": "execute_result"
    }
   ],
   "source": [
    "df['user_score'] = df['user_score'].replace('tbd', np.NaN)\n",
    "df.isna().sum()"
   ]
  },
  {
   "cell_type": "markdown",
   "metadata": {},
   "source": [
    "Типы данных нужно изменить в столбцах `year_of_release` и `user_score`.\n",
    "- `year_of_release` - Тип данных нужно поменять на int\n",
    "- `user_score` - Тип данных нужно поменять на float"
   ]
  },
  {
   "cell_type": "code",
   "execution_count": 12,
   "metadata": {},
   "outputs": [],
   "source": [
    "df['year_of_release'] = df['year_of_release'].astype('int')\n",
    "df['user_score'] = df['user_score'].astype('float')"
   ]
  },
  {
   "cell_type": "markdown",
   "metadata": {},
   "source": [
    "Добавим дополнительный столбец `total_sales`, который будет содержать суммарные продажи по всем регионам."
   ]
  },
  {
   "cell_type": "code",
   "execution_count": 13,
   "metadata": {},
   "outputs": [
    {
     "data": {
      "text/html": [
       "<div>\n",
       "<style scoped>\n",
       "    .dataframe tbody tr th:only-of-type {\n",
       "        vertical-align: middle;\n",
       "    }\n",
       "\n",
       "    .dataframe tbody tr th {\n",
       "        vertical-align: top;\n",
       "    }\n",
       "\n",
       "    .dataframe thead th {\n",
       "        text-align: right;\n",
       "    }\n",
       "</style>\n",
       "<table border=\"1\" class=\"dataframe\">\n",
       "  <thead>\n",
       "    <tr style=\"text-align: right;\">\n",
       "      <th></th>\n",
       "      <th>name</th>\n",
       "      <th>platform</th>\n",
       "      <th>year_of_release</th>\n",
       "      <th>genre</th>\n",
       "      <th>na_sales</th>\n",
       "      <th>eu_sales</th>\n",
       "      <th>jp_sales</th>\n",
       "      <th>other_sales</th>\n",
       "      <th>critic_score</th>\n",
       "      <th>user_score</th>\n",
       "      <th>rating</th>\n",
       "      <th>total_sales</th>\n",
       "    </tr>\n",
       "  </thead>\n",
       "  <tbody>\n",
       "    <tr>\n",
       "      <th>0</th>\n",
       "      <td>Wii Sports</td>\n",
       "      <td>Wii</td>\n",
       "      <td>2006</td>\n",
       "      <td>Sports</td>\n",
       "      <td>41.36</td>\n",
       "      <td>28.96</td>\n",
       "      <td>3.77</td>\n",
       "      <td>8.45</td>\n",
       "      <td>76.0</td>\n",
       "      <td>8.0</td>\n",
       "      <td>E</td>\n",
       "      <td>82.54</td>\n",
       "    </tr>\n",
       "    <tr>\n",
       "      <th>1</th>\n",
       "      <td>Super Mario Bros.</td>\n",
       "      <td>NES</td>\n",
       "      <td>1985</td>\n",
       "      <td>Platform</td>\n",
       "      <td>29.08</td>\n",
       "      <td>3.58</td>\n",
       "      <td>6.81</td>\n",
       "      <td>0.77</td>\n",
       "      <td>NaN</td>\n",
       "      <td>NaN</td>\n",
       "      <td>NaN</td>\n",
       "      <td>40.24</td>\n",
       "    </tr>\n",
       "    <tr>\n",
       "      <th>2</th>\n",
       "      <td>Mario Kart Wii</td>\n",
       "      <td>Wii</td>\n",
       "      <td>2008</td>\n",
       "      <td>Racing</td>\n",
       "      <td>15.68</td>\n",
       "      <td>12.76</td>\n",
       "      <td>3.79</td>\n",
       "      <td>3.29</td>\n",
       "      <td>82.0</td>\n",
       "      <td>8.3</td>\n",
       "      <td>E</td>\n",
       "      <td>35.52</td>\n",
       "    </tr>\n",
       "    <tr>\n",
       "      <th>3</th>\n",
       "      <td>Wii Sports Resort</td>\n",
       "      <td>Wii</td>\n",
       "      <td>2009</td>\n",
       "      <td>Sports</td>\n",
       "      <td>15.61</td>\n",
       "      <td>10.93</td>\n",
       "      <td>3.28</td>\n",
       "      <td>2.95</td>\n",
       "      <td>80.0</td>\n",
       "      <td>8.0</td>\n",
       "      <td>E</td>\n",
       "      <td>32.77</td>\n",
       "    </tr>\n",
       "    <tr>\n",
       "      <th>4</th>\n",
       "      <td>Pokemon Red/Pokemon Blue</td>\n",
       "      <td>GB</td>\n",
       "      <td>1996</td>\n",
       "      <td>Role-Playing</td>\n",
       "      <td>11.27</td>\n",
       "      <td>8.89</td>\n",
       "      <td>10.22</td>\n",
       "      <td>1.00</td>\n",
       "      <td>NaN</td>\n",
       "      <td>NaN</td>\n",
       "      <td>NaN</td>\n",
       "      <td>31.38</td>\n",
       "    </tr>\n",
       "    <tr>\n",
       "      <th>...</th>\n",
       "      <td>...</td>\n",
       "      <td>...</td>\n",
       "      <td>...</td>\n",
       "      <td>...</td>\n",
       "      <td>...</td>\n",
       "      <td>...</td>\n",
       "      <td>...</td>\n",
       "      <td>...</td>\n",
       "      <td>...</td>\n",
       "      <td>...</td>\n",
       "      <td>...</td>\n",
       "      <td>...</td>\n",
       "    </tr>\n",
       "    <tr>\n",
       "      <th>16710</th>\n",
       "      <td>Samurai Warriors: Sanada Maru</td>\n",
       "      <td>PS3</td>\n",
       "      <td>2016</td>\n",
       "      <td>Action</td>\n",
       "      <td>0.00</td>\n",
       "      <td>0.00</td>\n",
       "      <td>0.01</td>\n",
       "      <td>0.00</td>\n",
       "      <td>NaN</td>\n",
       "      <td>NaN</td>\n",
       "      <td>NaN</td>\n",
       "      <td>0.01</td>\n",
       "    </tr>\n",
       "    <tr>\n",
       "      <th>16711</th>\n",
       "      <td>LMA Manager 2007</td>\n",
       "      <td>X360</td>\n",
       "      <td>2006</td>\n",
       "      <td>Sports</td>\n",
       "      <td>0.00</td>\n",
       "      <td>0.01</td>\n",
       "      <td>0.00</td>\n",
       "      <td>0.00</td>\n",
       "      <td>NaN</td>\n",
       "      <td>NaN</td>\n",
       "      <td>NaN</td>\n",
       "      <td>0.01</td>\n",
       "    </tr>\n",
       "    <tr>\n",
       "      <th>16712</th>\n",
       "      <td>Haitaka no Psychedelica</td>\n",
       "      <td>PSV</td>\n",
       "      <td>2016</td>\n",
       "      <td>Adventure</td>\n",
       "      <td>0.00</td>\n",
       "      <td>0.00</td>\n",
       "      <td>0.01</td>\n",
       "      <td>0.00</td>\n",
       "      <td>NaN</td>\n",
       "      <td>NaN</td>\n",
       "      <td>NaN</td>\n",
       "      <td>0.01</td>\n",
       "    </tr>\n",
       "    <tr>\n",
       "      <th>16713</th>\n",
       "      <td>Spirits &amp; Spells</td>\n",
       "      <td>GBA</td>\n",
       "      <td>2003</td>\n",
       "      <td>Platform</td>\n",
       "      <td>0.01</td>\n",
       "      <td>0.00</td>\n",
       "      <td>0.00</td>\n",
       "      <td>0.00</td>\n",
       "      <td>NaN</td>\n",
       "      <td>NaN</td>\n",
       "      <td>NaN</td>\n",
       "      <td>0.01</td>\n",
       "    </tr>\n",
       "    <tr>\n",
       "      <th>16714</th>\n",
       "      <td>Winning Post 8 2016</td>\n",
       "      <td>PSV</td>\n",
       "      <td>2016</td>\n",
       "      <td>Simulation</td>\n",
       "      <td>0.00</td>\n",
       "      <td>0.00</td>\n",
       "      <td>0.01</td>\n",
       "      <td>0.00</td>\n",
       "      <td>NaN</td>\n",
       "      <td>NaN</td>\n",
       "      <td>NaN</td>\n",
       "      <td>0.01</td>\n",
       "    </tr>\n",
       "  </tbody>\n",
       "</table>\n",
       "<p>16444 rows × 12 columns</p>\n",
       "</div>"
      ],
      "text/plain": [
       "                                name platform  year_of_release         genre  \\\n",
       "0                         Wii Sports      Wii             2006        Sports   \n",
       "1                  Super Mario Bros.      NES             1985      Platform   \n",
       "2                     Mario Kart Wii      Wii             2008        Racing   \n",
       "3                  Wii Sports Resort      Wii             2009        Sports   \n",
       "4           Pokemon Red/Pokemon Blue       GB             1996  Role-Playing   \n",
       "...                              ...      ...              ...           ...   \n",
       "16710  Samurai Warriors: Sanada Maru      PS3             2016        Action   \n",
       "16711               LMA Manager 2007     X360             2006        Sports   \n",
       "16712        Haitaka no Psychedelica      PSV             2016     Adventure   \n",
       "16713               Spirits & Spells      GBA             2003      Platform   \n",
       "16714            Winning Post 8 2016      PSV             2016    Simulation   \n",
       "\n",
       "       na_sales  eu_sales  jp_sales  other_sales  critic_score  user_score  \\\n",
       "0         41.36     28.96      3.77         8.45          76.0         8.0   \n",
       "1         29.08      3.58      6.81         0.77           NaN         NaN   \n",
       "2         15.68     12.76      3.79         3.29          82.0         8.3   \n",
       "3         15.61     10.93      3.28         2.95          80.0         8.0   \n",
       "4         11.27      8.89     10.22         1.00           NaN         NaN   \n",
       "...         ...       ...       ...          ...           ...         ...   \n",
       "16710      0.00      0.00      0.01         0.00           NaN         NaN   \n",
       "16711      0.00      0.01      0.00         0.00           NaN         NaN   \n",
       "16712      0.00      0.00      0.01         0.00           NaN         NaN   \n",
       "16713      0.01      0.00      0.00         0.00           NaN         NaN   \n",
       "16714      0.00      0.00      0.01         0.00           NaN         NaN   \n",
       "\n",
       "      rating  total_sales  \n",
       "0          E        82.54  \n",
       "1        NaN        40.24  \n",
       "2          E        35.52  \n",
       "3          E        32.77  \n",
       "4        NaN        31.38  \n",
       "...      ...          ...  \n",
       "16710    NaN         0.01  \n",
       "16711    NaN         0.01  \n",
       "16712    NaN         0.01  \n",
       "16713    NaN         0.01  \n",
       "16714    NaN         0.01  \n",
       "\n",
       "[16444 rows x 12 columns]"
      ]
     },
     "execution_count": 13,
     "metadata": {},
     "output_type": "execute_result"
    }
   ],
   "source": [
    "df['total_sales'] = df['na_sales'] + df['eu_sales'] + df['jp_sales'] + df['other_sales']\n",
    "df"
   ]
  },
  {
   "cell_type": "code",
   "execution_count": 14,
   "metadata": {},
   "outputs": [
    {
     "name": "stdout",
     "output_type": "stream",
     "text": [
      "<class 'pandas.core.frame.DataFrame'>\n",
      "Int64Index: 16444 entries, 0 to 16714\n",
      "Data columns (total 12 columns):\n",
      " #   Column           Non-Null Count  Dtype  \n",
      "---  ------           --------------  -----  \n",
      " 0   name             16444 non-null  object \n",
      " 1   platform         16444 non-null  object \n",
      " 2   year_of_release  16444 non-null  int64  \n",
      " 3   genre            16444 non-null  object \n",
      " 4   na_sales         16444 non-null  float64\n",
      " 5   eu_sales         16444 non-null  float64\n",
      " 6   jp_sales         16444 non-null  float64\n",
      " 7   other_sales      16444 non-null  float64\n",
      " 8   critic_score     7983 non-null   float64\n",
      " 9   user_score       7463 non-null   float64\n",
      " 10  rating           9768 non-null   object \n",
      " 11  total_sales      16444 non-null  float64\n",
      "dtypes: float64(7), int64(1), object(4)\n",
      "memory usage: 1.6+ MB\n"
     ]
    }
   ],
   "source": [
    "df.info()"
   ]
  },
  {
   "cell_type": "code",
   "execution_count": 15,
   "metadata": {},
   "outputs": [
    {
     "data": {
      "text/plain": [
       "0"
      ]
     },
     "execution_count": 15,
     "metadata": {},
     "output_type": "execute_result"
    }
   ],
   "source": [
    "df.duplicated().sum()"
   ]
  },
  {
   "cell_type": "code",
   "execution_count": 16,
   "metadata": {
    "scrolled": true
   },
   "outputs": [
    {
     "data": {
      "text/html": [
       "<div>\n",
       "<style scoped>\n",
       "    .dataframe tbody tr th:only-of-type {\n",
       "        vertical-align: middle;\n",
       "    }\n",
       "\n",
       "    .dataframe tbody tr th {\n",
       "        vertical-align: top;\n",
       "    }\n",
       "\n",
       "    .dataframe thead th {\n",
       "        text-align: right;\n",
       "    }\n",
       "</style>\n",
       "<table border=\"1\" class=\"dataframe\">\n",
       "  <thead>\n",
       "    <tr style=\"text-align: right;\">\n",
       "      <th></th>\n",
       "      <th>name</th>\n",
       "      <th>platform</th>\n",
       "      <th>year_of_release</th>\n",
       "      <th>genre</th>\n",
       "      <th>na_sales</th>\n",
       "      <th>eu_sales</th>\n",
       "      <th>jp_sales</th>\n",
       "      <th>other_sales</th>\n",
       "      <th>critic_score</th>\n",
       "      <th>user_score</th>\n",
       "      <th>rating</th>\n",
       "      <th>total_sales</th>\n",
       "    </tr>\n",
       "  </thead>\n",
       "  <tbody>\n",
       "    <tr>\n",
       "      <th>604</th>\n",
       "      <td>Madden NFL 13</td>\n",
       "      <td>PS3</td>\n",
       "      <td>2012</td>\n",
       "      <td>Sports</td>\n",
       "      <td>2.11</td>\n",
       "      <td>0.22</td>\n",
       "      <td>0.0</td>\n",
       "      <td>0.23</td>\n",
       "      <td>83.0</td>\n",
       "      <td>5.5</td>\n",
       "      <td>E</td>\n",
       "      <td>2.56</td>\n",
       "    </tr>\n",
       "    <tr>\n",
       "      <th>16230</th>\n",
       "      <td>Madden NFL 13</td>\n",
       "      <td>PS3</td>\n",
       "      <td>2012</td>\n",
       "      <td>Sports</td>\n",
       "      <td>0.00</td>\n",
       "      <td>0.01</td>\n",
       "      <td>0.0</td>\n",
       "      <td>0.00</td>\n",
       "      <td>83.0</td>\n",
       "      <td>5.5</td>\n",
       "      <td>E</td>\n",
       "      <td>0.01</td>\n",
       "    </tr>\n",
       "  </tbody>\n",
       "</table>\n",
       "</div>"
      ],
      "text/plain": [
       "                name platform  year_of_release   genre  na_sales  eu_sales  \\\n",
       "604    Madden NFL 13      PS3             2012  Sports      2.11      0.22   \n",
       "16230  Madden NFL 13      PS3             2012  Sports      0.00      0.01   \n",
       "\n",
       "       jp_sales  other_sales  critic_score  user_score rating  total_sales  \n",
       "604         0.0         0.23          83.0         5.5      E         2.56  \n",
       "16230       0.0         0.00          83.0         5.5      E         0.01  "
      ]
     },
     "execution_count": 16,
     "metadata": {},
     "output_type": "execute_result"
    }
   ],
   "source": [
    "df[df[['name', 'platform','year_of_release']].duplicated(keep=False)]"
   ]
  },
  {
   "cell_type": "markdown",
   "metadata": {},
   "source": [
    "Был найден один неявный дубликат. Можно было бы объединить данные, но по всей видимости, вторая запись является просто ошибкой. Тогда мы можкем удалить все неявные дубликаты, оставив только первую запись в качестве единственно верной."
   ]
  },
  {
   "cell_type": "code",
   "execution_count": 17,
   "metadata": {},
   "outputs": [
    {
     "data": {
      "text/html": [
       "<div>\n",
       "<style scoped>\n",
       "    .dataframe tbody tr th:only-of-type {\n",
       "        vertical-align: middle;\n",
       "    }\n",
       "\n",
       "    .dataframe tbody tr th {\n",
       "        vertical-align: top;\n",
       "    }\n",
       "\n",
       "    .dataframe thead th {\n",
       "        text-align: right;\n",
       "    }\n",
       "</style>\n",
       "<table border=\"1\" class=\"dataframe\">\n",
       "  <thead>\n",
       "    <tr style=\"text-align: right;\">\n",
       "      <th></th>\n",
       "      <th>name</th>\n",
       "      <th>platform</th>\n",
       "      <th>year_of_release</th>\n",
       "      <th>genre</th>\n",
       "      <th>na_sales</th>\n",
       "      <th>eu_sales</th>\n",
       "      <th>jp_sales</th>\n",
       "      <th>other_sales</th>\n",
       "      <th>critic_score</th>\n",
       "      <th>user_score</th>\n",
       "      <th>rating</th>\n",
       "      <th>total_sales</th>\n",
       "    </tr>\n",
       "  </thead>\n",
       "  <tbody>\n",
       "  </tbody>\n",
       "</table>\n",
       "</div>"
      ],
      "text/plain": [
       "Empty DataFrame\n",
       "Columns: [name, platform, year_of_release, genre, na_sales, eu_sales, jp_sales, other_sales, critic_score, user_score, rating, total_sales]\n",
       "Index: []"
      ]
     },
     "execution_count": 17,
     "metadata": {},
     "output_type": "execute_result"
    }
   ],
   "source": [
    "df.drop_duplicates(subset=['name', 'platform', 'year_of_release'], keep='first', inplace=True)\n",
    "df[df[['name', 'platform','year_of_release']].duplicated(keep=False)]"
   ]
  },
  {
   "cell_type": "markdown",
   "metadata": {},
   "source": [
    "Теперь неявных дубликатов нет."
   ]
  },
  {
   "cell_type": "code",
   "execution_count": 18,
   "metadata": {},
   "outputs": [],
   "source": [
    "df['rating'] = df['rating'].fillna('pass')"
   ]
  },
  {
   "cell_type": "markdown",
   "metadata": {},
   "source": [
    "**Вывод по первоначальной обработке данных:**\n",
    "\n",
    "- Все названия колонок были приведены к нижнему регистру\n",
    "- Было удалено 273 пропуска, что составило 1.62% данных\n",
    "- Тип столбца `year_of_release` был изменет на **int**\n",
    "- Тип столбца `user_score` был изменен на **float**\n",
    "- Была добавлена новая колонка `total_sales`, которая содержит в себе сумму всех продаж по всем регионам\n",
    "- Пропуски в столбцах `critic_score` и `user_score`на данном этапе восполнить не представляется возможным, так как игра могла выйти недавно и не ещё не набрала достаточное количество отзывов; имела место быть техническая ошибка, которая не позволила корректно загрузить данные; заполнить медианным или средним значением также не представляется возможным, так как на этапе предобработки неизвестна зависимость между данными столбцами.\n",
    "- Был удалён 1 неявный дубликат\n",
    "- Все пропуски в столбце `rating` были временно заменены на **pass**"
   ]
  },
  {
   "cell_type": "markdown",
   "metadata": {},
   "source": [
    "### Исследовательский анализ данных"
   ]
  },
  {
   "cell_type": "markdown",
   "metadata": {},
   "source": [
    "- Посмотрите, сколько игр выпускалось в разные годы. Важны ли данные за все периоды?\n",
    "- Посмотрите, как менялись продажи по платформам. Выберите платформы с наибольшими суммарными продажами и постройте распределение по годам. За какой характерный срок появляются новые и исчезают старые платформы?\n",
    "- Возьмите данные за соответствующий актуальный период. Актуальный период определите самостоятельно в результате исследования предыдущих вопросов. Основной фактор — эти данные помогут построить прогноз на 2017 год.\n",
    "- Не учитывайте в работе данные за предыдущие годы.\n",
    "- Какие платформы лидируют по продажам, растут или падают? Выберите несколько потенциально прибыльных платформ.\n",
    "- Постройте график «ящик с усами» по глобальным продажам игр в разбивке по платформам. Опишите результат.\n",
    "- Посмотрите, как влияют на продажи внутри одной популярной платформы отзывы пользователей и критиков. Постройте диаграмму рассеяния и посчитайте корреляцию между отзывами и продажами. Сформулируйте выводы.\n",
    "- Соотнесите выводы с продажами игр на других платформах.\n",
    "- Посмотрите на общее распределение игр по жанрам. Что можно сказать о самых прибыльных жанрах? Выделяются ли жанры с высокими и низкими продажами?"
   ]
  },
  {
   "cell_type": "markdown",
   "metadata": {},
   "source": [
    "#### Анализ выпуска игр по разным годам"
   ]
  },
  {
   "cell_type": "code",
   "execution_count": 19,
   "metadata": {},
   "outputs": [
    {
     "data": {
      "image/png": "[encoded data removed]",
      "text/plain": [
       "<Figure size 1080x360 with 1 Axes>"
      ]
     },
     "metadata": {
      "needs_background": "light"
     },
     "output_type": "display_data"
    }
   ],
   "source": [
    "ax = df.groupby('year_of_release')['year_of_release'].count().plot(y='name', kind='bar', figsize=(15, 5))\n",
    "ax.set_title('Количество выпущенных игр в разные годы')\n",
    "ax.set_xlabel('Год')\n",
    "ax.set_ylabel('Количество игр');"
   ]
  },
  {
   "cell_type": "markdown",
   "metadata": {},
   "source": [
    "На графике видно, что до 1995 года игр выпускалось очень мало. Скорее всего, это связано с малыми мощностями тогдашних систем, плюс сама индустрия видеоигр ещё только зарождалась и не была настолько популярной. Начиная с 2002 года, произошёл резкий скачок в количестве выпускаемых игр, после чего пик держался на промежутке c 2007 по 2011 год. Дальше - спад. На мой взгляд, данные до 1995 года не важны в рамках моего исследования."
   ]
  },
  {
   "cell_type": "markdown",
   "metadata": {},
   "source": [
    "#### Анализ продаж по платформам"
   ]
  },
  {
   "cell_type": "code",
   "execution_count": 20,
   "metadata": {},
   "outputs": [
    {
     "data": {
      "image/png": "[encoded data removed]",
      "text/plain": [
       "<Figure size 1080x720 with 1 Axes>"
      ]
     },
     "metadata": {
      "needs_background": "light"
     },
     "output_type": "display_data"
    }
   ],
   "source": [
    "ax = df.groupby('platform')['total_sales'].sum().sort_values().plot(y='total_sales', kind='barh', figsize=(15, 10))\n",
    "ax.set_title('Анализ продаж по платформам')\n",
    "ax.set_xlabel('Продажи (млн. руб.)')\n",
    "ax.set_ylabel('Платформа');"
   ]
  },
  {
   "cell_type": "markdown",
   "metadata": {},
   "source": [
    "Из графика видно, что самымой продаваемой платформой является **PS2**. Для исследования распределения продаж по кодам я возьму первые 10 самых популярных консолей."
   ]
  },
  {
   "cell_type": "code",
   "execution_count": 21,
   "metadata": {},
   "outputs": [
    {
     "data": {
      "text/plain": [
       "0     PS2\n",
       "1    X360\n",
       "2     PS3\n",
       "3     Wii\n",
       "4      DS\n",
       "5      PS\n",
       "6     PS4\n",
       "7     GBA\n",
       "8     PSP\n",
       "9     3DS\n",
       "Name: platform, dtype: object"
      ]
     },
     "execution_count": 21,
     "metadata": {},
     "output_type": "execute_result"
    }
   ],
   "source": [
    "top_10_platform_pivot = df.pivot_table(index='platform', values='total_sales', aggfunc='sum') \\\n",
    ".sort_values(by='total_sales', ascending=False).reset_index().iloc[0:10]\n",
    "top_10_platform = top_10_platform_pivot['platform']\n",
    "top_10_platform"
   ]
  },
  {
   "cell_type": "code",
   "execution_count": 22,
   "metadata": {
    "scrolled": false
   },
   "outputs": [
    {
     "data": {
      "image/png": "[encoded data removed]",
      "text/plain": [
       "<Figure size 1080x576 with 1 Axes>"
      ]
     },
     "metadata": {
      "needs_background": "light"
     },
     "output_type": "display_data"
    },
    {
     "data": {
      "image/png": "[encoded data removed]",
      "text/plain": [
       "<Figure size 1080x576 with 1 Axes>"
      ]
     },
     "metadata": {
      "needs_background": "light"
     },
     "output_type": "display_data"
    },
    {
     "data": {
      "image/png": "[encoded data removed]",
      "text/plain": [
       "<Figure size 1080x576 with 1 Axes>"
      ]
     },
     "metadata": {
      "needs_background": "light"
     },
     "output_type": "display_data"
    },
    {
     "data": {
      "image/png": "[encoded data removed]",
      "text/plain": [
       "<Figure size 1080x576 with 1 Axes>"
      ]
     },
     "metadata": {
      "needs_background": "light"
     },
     "output_type": "display_data"
    },
    {
     "data": {
      "image/png": "[encoded data removed]",
      "text/plain": [
       "<Figure size 1080x576 with 1 Axes>"
      ]
     },
     "metadata": {
      "needs_background": "light"
     },
     "output_type": "display_data"
    },
    {
     "data": {
      "image/png": "[encoded data removed]",
      "text/plain": [
       "<Figure size 1080x576 with 1 Axes>"
      ]
     },
     "metadata": {
      "needs_background": "light"
     },
     "output_type": "display_data"
    },
    {
     "data": {
      "image/png": "[encoded data removed]",
      "text/plain": [
       "<Figure size 1080x576 with 1 Axes>"
      ]
     },
     "metadata": {
      "needs_background": "light"
     },
     "output_type": "display_data"
    },
    {
     "data": {
      "image/png": "[encoded data removed]",
      "text/plain": [
       "<Figure size 1080x576 with 1 Axes>"
      ]
     },
     "metadata": {
      "needs_background": "light"
     },
     "output_type": "display_data"
    },
    {
     "data": {
      "image/png": "[encoded data removed]",
      "text/plain": [
       "<Figure size 1080x576 with 1 Axes>"
      ]
     },
     "metadata": {
      "needs_background": "light"
     },
     "output_type": "display_data"
    },
    {
     "data": {
      "image/png": "[encoded data removed]",
      "text/plain": [
       "<Figure size 1080x576 with 1 Axes>"
      ]
     },
     "metadata": {
      "needs_background": "light"
     },
     "output_type": "display_data"
    }
   ],
   "source": [
    "for platform in top_10_platform:\n",
    "    ax = df[df['platform'] == platform].pivot_table(index='year_of_release', values='total_sales', aggfunc='sum') \\\n",
    "    .plot(kind='bar', figsize=(15, 8))\n",
    "    ax.set_title(f'Платформа {platform}')\n",
    "    ax.set_xlabel('Годы продаж')\n",
    "    ax.set_ylabel('Количество продаж')"
   ]
  },
  {
   "cell_type": "markdown",
   "metadata": {},
   "source": [
    "В среднем платформа живёт 10 лет. Это можно объяснить тем, что технологии развиваются каждый день и железо имеет свойство устаревать."
   ]
  },
  {
   "cell_type": "markdown",
   "metadata": {},
   "source": [
    "#### Определение актуального периода и лидеров продаж"
   ]
  },
  {
   "cell_type": "markdown",
   "metadata": {},
   "source": [
    "На мой взгляд, логично взять все данные, начиная с 2005 года, так как именно на этот год приходится резкое повышение продаж видеоигр. Ограничим выборку 2005-2016 годами."
   ]
  },
  {
   "cell_type": "code",
   "execution_count": 23,
   "metadata": {},
   "outputs": [],
   "source": [
    "actual_data = df.query('year_of_release >= 2013')"
   ]
  },
  {
   "cell_type": "code",
   "execution_count": 24,
   "metadata": {},
   "outputs": [
    {
     "data": {
      "image/png": "[encoded data removed]",
      "text/plain": [
       "<Figure size 1080x576 with 1 Axes>"
      ]
     },
     "metadata": {
      "needs_background": "light"
     },
     "output_type": "display_data"
    }
   ],
   "source": [
    "ax = actual_data.query('platform in @top_10_platform') \\\n",
    ".pivot_table(index='year_of_release', values='total_sales', columns='platform', aggfunc='sum') \\\n",
    ".plot(figsize=(15, 8))\n",
    "ax.set_title('Платформы по продажам')\n",
    "ax.set_xlabel('Год')\n",
    "ax.set_ylabel('Продажи');"
   ]
  },
  {
   "cell_type": "markdown",
   "metadata": {},
   "source": [
    "Исходя из графика, мы видим, что с течением времени продажи на все платформы снижаются. Более-менее стабильной платформой является **3DS**, которая показывает небольшие, но стабильные продажи. При этом, данная платформа вышла сравнительно недавно и на 2016 год имеет достаточно высокую популярность. Также, прибыльной платформой может являться **PS4**, так как она вышла сравнительно недавно и имеет самые высокие продажи на данный отрезок времени, хоть и с тенденцией к небольшому снижению."
   ]
  },
  {
   "cell_type": "code",
   "execution_count": 25,
   "metadata": {},
   "outputs": [
    {
     "data": {
      "image/png": "[encoded data removed]",
      "text/plain": [
       "<Figure size 1080x576 with 1 Axes>"
      ]
     },
     "metadata": {
      "needs_background": "light"
     },
     "output_type": "display_data"
    }
   ],
   "source": [
    "ax = actual_data.query('platform == \"PS4\" or platform == \"XOne\" or platform == \"PC\"') \\\n",
    ".pivot_table(index='year_of_release', values='total_sales', columns='platform', aggfunc='sum') \\\n",
    ".plot(figsize=(15, 8))\n",
    "ax.set_title('Продажи на консолях последнего поколения и PC')\n",
    "ax.set_xlabel('Год')\n",
    "ax.set_ylabel('Продажи');"
   ]
  },
  {
   "cell_type": "markdown",
   "metadata": {},
   "source": [
    "Также, отдельно я захотел проанализировать продажи на консолях последнего поколения (на 2016 год) **PS4**, **XOne** и на **PC**, так как именно на этих платформах в основном будут играть пользователи. На графике видно, что продажи на консоли **XOne** ниже, чем на **PS4**, однако данная консоль всё равно популярна и имеет отличные показатели продаж на 2015 год. **PC** хоть и показывает относительно низкие продажи, все же является стабильным источником дохода, который имеет достаточно плавные взлеты и падения, что в лучшую сторону скажется на прибыли в долгосрочной перспективе, так как **PC** может менять свою конфигурацию на более мощную, но при этом ПО и цифровые магазины для него остаются прежними, что избавляет разработчиков и издателей в будущем выпускать версии для новых спецификаций железа."
   ]
  },
  {
   "cell_type": "markdown",
   "metadata": {},
   "source": [
    "**Итого самыми потенциально прибыльными платформами являются *PC*, *PS4*, *XOne* и *3DS*.**"
   ]
  },
  {
   "cell_type": "markdown",
   "metadata": {},
   "source": [
    "#### Глобальные продажи игр в разбивке по платформам"
   ]
  },
  {
   "cell_type": "code",
   "execution_count": 26,
   "metadata": {},
   "outputs": [
    {
     "data": {
      "image/png": "[encoded data removed]",
      "text/plain": [
       "<Figure size 1080x576 with 1 Axes>"
      ]
     },
     "metadata": {
      "needs_background": "light"
     },
     "output_type": "display_data"
    }
   ],
   "source": [
    "ax = actual_data.pivot_table(index='name', values='total_sales', columns='platform', aggfunc='sum') \\\n",
    "    .plot(kind='box', ylim=(0, 1.9), figsize=(15, 8))\n",
    "ax.set_title('Продажи по платформам')\n",
    "ax.set_xlabel('Платформа')\n",
    "ax.set_ylabel('Продажи');"
   ]
  },
  {
   "cell_type": "markdown",
   "metadata": {},
   "source": [
    "Из графика \"ящик с усами\" можно увидеть, что предыдущий вывод относительно платформы **XOne** был верным, так как медианные значения платформ **PS4** и **XOne** совпадают, что означает то, что на данной платформе игры также хорошо продаются."
   ]
  },
  {
   "cell_type": "markdown",
   "metadata": {},
   "source": [
    "#### Влияние отзывов пользователей и отзывов критиков на продажи внутри одной популярной платформы"
   ]
  },
  {
   "cell_type": "code",
   "execution_count": 27,
   "metadata": {},
   "outputs": [],
   "source": [
    "ps4 = actual_data.query('platform == \"PS4\"')"
   ]
  },
  {
   "cell_type": "code",
   "execution_count": 28,
   "metadata": {},
   "outputs": [
    {
     "data": {
      "image/png": "[encoded data removed]",
      "text/plain": [
       "<Figure size 864x864 with 12 Axes>"
      ]
     },
     "metadata": {
      "needs_background": "light"
     },
     "output_type": "display_data"
    }
   ],
   "source": [
    "ax = sns.pairplot(ps4[['critic_score', 'user_score', 'total_sales']], height=4)\n",
    "ax.fig.suptitle('Корреляции между оценками критиков, оценками пользователей и суммарными продажами');"
   ]
  },
  {
   "cell_type": "markdown",
   "metadata": {},
   "source": [
    "Из графиков рассения в целом видно закономерную картину: **чем выше отзывы критиков и игроков, тем лучше игра продаётся.** Однако, есть аномалии, так как некоторые игры имеют сравнительно низкую оценку, но при этом хорошо продаются."
   ]
  },
  {
   "cell_type": "code",
   "execution_count": 29,
   "metadata": {},
   "outputs": [
    {
     "data": {
      "text/html": [
       "<div>\n",
       "<style scoped>\n",
       "    .dataframe tbody tr th:only-of-type {\n",
       "        vertical-align: middle;\n",
       "    }\n",
       "\n",
       "    .dataframe tbody tr th {\n",
       "        vertical-align: top;\n",
       "    }\n",
       "\n",
       "    .dataframe thead th {\n",
       "        text-align: right;\n",
       "    }\n",
       "</style>\n",
       "<table border=\"1\" class=\"dataframe\">\n",
       "  <thead>\n",
       "    <tr style=\"text-align: right;\">\n",
       "      <th></th>\n",
       "      <th>critic_score</th>\n",
       "      <th>user_score</th>\n",
       "      <th>total_sales</th>\n",
       "    </tr>\n",
       "  </thead>\n",
       "  <tbody>\n",
       "    <tr>\n",
       "      <th>critic_score</th>\n",
       "      <td>1.000000</td>\n",
       "      <td>0.557654</td>\n",
       "      <td>0.406568</td>\n",
       "    </tr>\n",
       "    <tr>\n",
       "      <th>user_score</th>\n",
       "      <td>0.557654</td>\n",
       "      <td>1.000000</td>\n",
       "      <td>-0.031957</td>\n",
       "    </tr>\n",
       "    <tr>\n",
       "      <th>total_sales</th>\n",
       "      <td>0.406568</td>\n",
       "      <td>-0.031957</td>\n",
       "      <td>1.000000</td>\n",
       "    </tr>\n",
       "  </tbody>\n",
       "</table>\n",
       "</div>"
      ],
      "text/plain": [
       "              critic_score  user_score  total_sales\n",
       "critic_score      1.000000    0.557654     0.406568\n",
       "user_score        0.557654    1.000000    -0.031957\n",
       "total_sales       0.406568   -0.031957     1.000000"
      ]
     },
     "execution_count": 29,
     "metadata": {},
     "output_type": "execute_result"
    }
   ],
   "source": [
    "ps4[['critic_score', 'user_score', 'total_sales']].corr()"
   ]
  },
  {
   "cell_type": "markdown",
   "metadata": {},
   "source": [
    "Из матрицы корреляций видно, что корреляция столбцов **critic_score** и **total_sales** достаточно высока. Именно эту зависимость можно увидеть на графиках выше. Однако, корреляция **user_score** и **total_sales** очень мала, из чего можно сделать вывод, что продажи в большей степени зависят от **отзывов критиков**, а не от **отзывов игроков**."
   ]
  },
  {
   "cell_type": "code",
   "execution_count": 30,
   "metadata": {},
   "outputs": [
    {
     "data": {
      "text/html": [
       "<div>\n",
       "<style scoped>\n",
       "    .dataframe tbody tr th:only-of-type {\n",
       "        vertical-align: middle;\n",
       "    }\n",
       "\n",
       "    .dataframe tbody tr th {\n",
       "        vertical-align: top;\n",
       "    }\n",
       "\n",
       "    .dataframe thead th {\n",
       "        text-align: right;\n",
       "    }\n",
       "</style>\n",
       "<table border=\"1\" class=\"dataframe\">\n",
       "  <thead>\n",
       "    <tr style=\"text-align: right;\">\n",
       "      <th></th>\n",
       "      <th>critic_score</th>\n",
       "      <th>user_score</th>\n",
       "      <th>total_sales</th>\n",
       "    </tr>\n",
       "  </thead>\n",
       "  <tbody>\n",
       "    <tr>\n",
       "      <th>critic_score</th>\n",
       "      <td>1.000000</td>\n",
       "      <td>0.472462</td>\n",
       "      <td>0.416998</td>\n",
       "    </tr>\n",
       "    <tr>\n",
       "      <th>user_score</th>\n",
       "      <td>0.472462</td>\n",
       "      <td>1.000000</td>\n",
       "      <td>-0.068925</td>\n",
       "    </tr>\n",
       "    <tr>\n",
       "      <th>total_sales</th>\n",
       "      <td>0.416998</td>\n",
       "      <td>-0.068925</td>\n",
       "      <td>1.000000</td>\n",
       "    </tr>\n",
       "  </tbody>\n",
       "</table>\n",
       "</div>"
      ],
      "text/plain": [
       "              critic_score  user_score  total_sales\n",
       "critic_score      1.000000    0.472462     0.416998\n",
       "user_score        0.472462    1.000000    -0.068925\n",
       "total_sales       0.416998   -0.068925     1.000000"
      ]
     },
     "execution_count": 30,
     "metadata": {},
     "output_type": "execute_result"
    }
   ],
   "source": [
    "actual_data[actual_data['platform'] == \"XOne\"][['critic_score', 'user_score', 'total_sales']].corr()"
   ]
  },
  {
   "cell_type": "code",
   "execution_count": 31,
   "metadata": {},
   "outputs": [
    {
     "data": {
      "text/html": [
       "<div>\n",
       "<style scoped>\n",
       "    .dataframe tbody tr th:only-of-type {\n",
       "        vertical-align: middle;\n",
       "    }\n",
       "\n",
       "    .dataframe tbody tr th {\n",
       "        vertical-align: top;\n",
       "    }\n",
       "\n",
       "    .dataframe thead th {\n",
       "        text-align: right;\n",
       "    }\n",
       "</style>\n",
       "<table border=\"1\" class=\"dataframe\">\n",
       "  <thead>\n",
       "    <tr style=\"text-align: right;\">\n",
       "      <th></th>\n",
       "      <th>critic_score</th>\n",
       "      <th>user_score</th>\n",
       "      <th>total_sales</th>\n",
       "    </tr>\n",
       "  </thead>\n",
       "  <tbody>\n",
       "    <tr>\n",
       "      <th>critic_score</th>\n",
       "      <td>1.000000</td>\n",
       "      <td>0.429562</td>\n",
       "      <td>0.196030</td>\n",
       "    </tr>\n",
       "    <tr>\n",
       "      <th>user_score</th>\n",
       "      <td>0.429562</td>\n",
       "      <td>1.000000</td>\n",
       "      <td>-0.093842</td>\n",
       "    </tr>\n",
       "    <tr>\n",
       "      <th>total_sales</th>\n",
       "      <td>0.196030</td>\n",
       "      <td>-0.093842</td>\n",
       "      <td>1.000000</td>\n",
       "    </tr>\n",
       "  </tbody>\n",
       "</table>\n",
       "</div>"
      ],
      "text/plain": [
       "              critic_score  user_score  total_sales\n",
       "critic_score      1.000000    0.429562     0.196030\n",
       "user_score        0.429562    1.000000    -0.093842\n",
       "total_sales       0.196030   -0.093842     1.000000"
      ]
     },
     "execution_count": 31,
     "metadata": {},
     "output_type": "execute_result"
    }
   ],
   "source": [
    "actual_data[actual_data['platform'] == \"PC\"][['critic_score', 'user_score', 'total_sales']].corr()"
   ]
  },
  {
   "cell_type": "code",
   "execution_count": 32,
   "metadata": {},
   "outputs": [
    {
     "data": {
      "text/html": [
       "<div>\n",
       "<style scoped>\n",
       "    .dataframe tbody tr th:only-of-type {\n",
       "        vertical-align: middle;\n",
       "    }\n",
       "\n",
       "    .dataframe tbody tr th {\n",
       "        vertical-align: top;\n",
       "    }\n",
       "\n",
       "    .dataframe thead th {\n",
       "        text-align: right;\n",
       "    }\n",
       "</style>\n",
       "<table border=\"1\" class=\"dataframe\">\n",
       "  <thead>\n",
       "    <tr style=\"text-align: right;\">\n",
       "      <th></th>\n",
       "      <th>critic_score</th>\n",
       "      <th>user_score</th>\n",
       "      <th>total_sales</th>\n",
       "    </tr>\n",
       "  </thead>\n",
       "  <tbody>\n",
       "    <tr>\n",
       "      <th>critic_score</th>\n",
       "      <td>1.000000</td>\n",
       "      <td>0.769536</td>\n",
       "      <td>0.357057</td>\n",
       "    </tr>\n",
       "    <tr>\n",
       "      <th>user_score</th>\n",
       "      <td>0.769536</td>\n",
       "      <td>1.000000</td>\n",
       "      <td>0.241504</td>\n",
       "    </tr>\n",
       "    <tr>\n",
       "      <th>total_sales</th>\n",
       "      <td>0.357057</td>\n",
       "      <td>0.241504</td>\n",
       "      <td>1.000000</td>\n",
       "    </tr>\n",
       "  </tbody>\n",
       "</table>\n",
       "</div>"
      ],
      "text/plain": [
       "              critic_score  user_score  total_sales\n",
       "critic_score      1.000000    0.769536     0.357057\n",
       "user_score        0.769536    1.000000     0.241504\n",
       "total_sales       0.357057    0.241504     1.000000"
      ]
     },
     "execution_count": 32,
     "metadata": {},
     "output_type": "execute_result"
    }
   ],
   "source": [
    "actual_data[actual_data['platform'] == \"3DS\"][['critic_score', 'user_score', 'total_sales']].corr()"
   ]
  },
  {
   "cell_type": "markdown",
   "metadata": {},
   "source": [
    "На каждой из выбранной популярных платформ, исходя из матрицы корреляций, можно сделать вывод, что итоговые суммарные продажи в большей степени зависят от **оценок критиков**, а не от **оценок пользователей**."
   ]
  },
  {
   "cell_type": "markdown",
   "metadata": {},
   "source": [
    "#### Распределение игр по жанрам"
   ]
  },
  {
   "cell_type": "code",
   "execution_count": 33,
   "metadata": {},
   "outputs": [
    {
     "data": {
      "image/png": "[encoded data removed]",
      "text/plain": [
       "<Figure size 1080x576 with 1 Axes>"
      ]
     },
     "metadata": {
      "needs_background": "light"
     },
     "output_type": "display_data"
    }
   ],
   "source": [
    "#ax = actual_data.pivot_table(index='genre', values='total_sales', aggfunc='sum') \\\n",
    "#    .sort_values(by='total_sales', ascending=False) \\\n",
    "#    .plot(kind='pie', y='total_sales', figsize=(15, 8))\n",
    "\n",
    "ax = actual_data[['genre', 'total_sales']].boxplot(by='genre', column='total_sales', figsize=(15, 8))\n",
    "ax.set_ylim(0, 2)\n",
    "ax.set_title('Распределение уровня продаж по жанрам');"
   ]
  },
  {
   "cell_type": "code",
   "execution_count": 34,
   "metadata": {},
   "outputs": [
    {
     "data": {
      "text/html": [
       "<div>\n",
       "<style scoped>\n",
       "    .dataframe tbody tr th:only-of-type {\n",
       "        vertical-align: middle;\n",
       "    }\n",
       "\n",
       "    .dataframe tbody tr th {\n",
       "        vertical-align: top;\n",
       "    }\n",
       "\n",
       "    .dataframe thead th {\n",
       "        text-align: right;\n",
       "    }\n",
       "</style>\n",
       "<table border=\"1\" class=\"dataframe\">\n",
       "  <thead>\n",
       "    <tr style=\"text-align: right;\">\n",
       "      <th></th>\n",
       "      <th>total_sales</th>\n",
       "    </tr>\n",
       "    <tr>\n",
       "      <th>genre</th>\n",
       "      <th></th>\n",
       "    </tr>\n",
       "  </thead>\n",
       "  <tbody>\n",
       "    <tr>\n",
       "      <th>Shooter</th>\n",
       "      <td>0.450</td>\n",
       "    </tr>\n",
       "    <tr>\n",
       "      <th>Sports</th>\n",
       "      <td>0.240</td>\n",
       "    </tr>\n",
       "    <tr>\n",
       "      <th>Platform</th>\n",
       "      <td>0.225</td>\n",
       "    </tr>\n",
       "    <tr>\n",
       "      <th>Role-Playing</th>\n",
       "      <td>0.125</td>\n",
       "    </tr>\n",
       "    <tr>\n",
       "      <th>Fighting</th>\n",
       "      <td>0.125</td>\n",
       "    </tr>\n",
       "    <tr>\n",
       "      <th>Racing</th>\n",
       "      <td>0.120</td>\n",
       "    </tr>\n",
       "    <tr>\n",
       "      <th>Action</th>\n",
       "      <td>0.110</td>\n",
       "    </tr>\n",
       "    <tr>\n",
       "      <th>Simulation</th>\n",
       "      <td>0.100</td>\n",
       "    </tr>\n",
       "    <tr>\n",
       "      <th>Misc</th>\n",
       "      <td>0.100</td>\n",
       "    </tr>\n",
       "    <tr>\n",
       "      <th>Strategy</th>\n",
       "      <td>0.080</td>\n",
       "    </tr>\n",
       "    <tr>\n",
       "      <th>Puzzle</th>\n",
       "      <td>0.060</td>\n",
       "    </tr>\n",
       "    <tr>\n",
       "      <th>Adventure</th>\n",
       "      <td>0.030</td>\n",
       "    </tr>\n",
       "  </tbody>\n",
       "</table>\n",
       "</div>"
      ],
      "text/plain": [
       "              total_sales\n",
       "genre                    \n",
       "Shooter             0.450\n",
       "Sports              0.240\n",
       "Platform            0.225\n",
       "Role-Playing        0.125\n",
       "Fighting            0.125\n",
       "Racing              0.120\n",
       "Action              0.110\n",
       "Simulation          0.100\n",
       "Misc                0.100\n",
       "Strategy            0.080\n",
       "Puzzle              0.060\n",
       "Adventure           0.030"
      ]
     },
     "execution_count": 34,
     "metadata": {},
     "output_type": "execute_result"
    }
   ],
   "source": [
    "actual_data.pivot_table(index='genre', values='total_sales', aggfunc='median') \\\n",
    "                        .sort_values(by='total_sales', ascending=False)"
   ]
  },
  {
   "cell_type": "markdown",
   "metadata": {},
   "source": [
    "Самым прибыльным является жанр **Shooter**. Возможно, это связано с тем, что его выпускается больше всего. Самыми непопулярными жанрами стали **Adventure**, **Puzzle** и **Strategy**. Скорее всего это связано с их общей *нишевостью*, и многие игроки не хотят тратить время на то, чтобы, например, разбираться в сложных механиках стратегий. **Adventure** и **Puzzle** сейчас больше привлекательны для казуального сегмента игроков, и в основном превалируют на мобильных устройствах."
   ]
  },
  {
   "cell_type": "markdown",
   "metadata": {},
   "source": [
    "**Итоговый вывод по исследовательскому анализу данных:**\n",
    "- До 1995 года игр выпускалось очень мало. Скорее всего, это связано с малыми мощностями тогдашних систем, плюс сама индустрия видеоигр ещё только зарождалась и не была настолько популярной. Начиная с 2002 года, произошёл резкий скачок в количестве выпускаемых игр, после чего пик держался на промежутке c 2007 по 2011 год. Дальше - спад. На мой взгляд, данные до 1995 года не важны в рамках моего исследования.\n",
    "- В среднем платформа живёт 10 лет. Это можно объяснить тем, что технологии развиваются каждый день и железо имеет свойство устаревать.\n",
    "- На мой взгляд, логично взять все данные, начиная с 2005 года, так как именно на этот год приходится резкое повышение продаж видеоигр. Ограничим выборку 2005-2016 годами. Далее мы будем использоваться датасет `actual_data`\n",
    "- С течением времени продажи на все платформы снижаются. Более-менее стабильной платформой является **3DS**, которая показывает небольшие, но стабильные продажи. При этом, данная платформа вышла сравнительно недавно и на 2016 год имеет достаточно высокую популярность. Также, прибыльной платформой может являться **PS4**, так как она вышла сравнительно недавно и имеет самые высокие продажи на данный отрезок времени, хоть и с тенденцией к небольшому снижению.\n",
    "- Продажи на консоли **XOne** ниже, чем на **PS4**, однако данная консоль всё равно популярна и имеет отличные показатели продаж на 2015 год. **PC** хоть и показывает относительно низкие продажи, все же является стабильным источником дохода, который имеет достаточно плавные взлеты и падения, что в лучшую сторону скажется на прибыли в долгосрочной перспективе, так как **PC** может менять свою конфигурацию на более мощную, но при этом ПО и цифровые магазины для него остаются прежними, что избавляет разработчиков и издателей в будущем выпускать версии для новых спецификаций железа.\n",
    "- Корреляция **user_score** и **total_sales** очень мала, из чего можно сделать вывод, что продажи в большей степени зависят от **отзывов критиков**, а не от **отзывов игроков**.\n",
    "- Самым прибыльным является жанр **Shooter**. Возможно, это связано с тем, что его выпускается больше всего. Самыми непопулярными жанрами стали **Adventure**, **Puzzle** и **Strategy**. Скорее всего это связано с их общей *нишевостью*, и многие игроки не хотят тратить время на то, чтобы, например, разбираться в сложных механиках стратегий. **Adventure** и **Puzzle** сейчас больше привлекательны для казуального сегмента игроков, и в основном превалируют на мобильных устройствах."
   ]
  },
  {
   "cell_type": "markdown",
   "metadata": {},
   "source": [
    "### Портреты пользователей каждого региона"
   ]
  },
  {
   "cell_type": "markdown",
   "metadata": {},
   "source": [
    "**Определите для пользователя каждого региона (NA, EU, JP):**\n",
    "\n",
    "- Самые популярные платформы (топ-5). Опишите различия в долях продаж.\n",
    "- Самые популярные жанры (топ-5). Поясните разницу.\n",
    "- Влияет ли рейтинг ESRB на продажи в отдельном регионе?"
   ]
  },
  {
   "cell_type": "code",
   "execution_count": 35,
   "metadata": {},
   "outputs": [],
   "source": [
    "regions_list = ['na_sales', 'eu_sales', 'jp_sales']"
   ]
  },
  {
   "cell_type": "code",
   "execution_count": 36,
   "metadata": {},
   "outputs": [],
   "source": [
    "def draw_plot_by_country(groupby='name', region='na_sales', ax=0):\n",
    "    sales_pivot = actual_data.groupby(groupby).agg({region: 'sum'}).sort_values(by=region, ascending=False)[:5]\n",
    "    color_dict = {'na_sales': 'blue', 'eu_sales': 'green', 'jp_sales': 'red'}\n",
    "    titles_dict = {'na_sales': 'North America Sales', 'eu_sales': 'Europe Sales', 'jp_sales': 'Japan Sales'}\n",
    "    plot = sales_pivot.plot(kind='bar', ax=axes[ax], color=color_dict[region], rot=20, title=titles_dict[region])\n",
    "    plot.set_xlabel('Платформа')"
   ]
  },
  {
   "cell_type": "code",
   "execution_count": 37,
   "metadata": {},
   "outputs": [
    {
     "data": {
      "image/png": "[encoded data removed]",
      "text/plain": [
       "<Figure size 1080x576 with 3 Axes>"
      ]
     },
     "metadata": {
      "needs_background": "light"
     },
     "output_type": "display_data"
    }
   ],
   "source": [
    "_, axes = plt.subplots(1, 3, figsize=(15, 8))\n",
    "for i, region in enumerate(regions_list):\n",
    "    draw_plot_by_country('platform', region, i)"
   ]
  },
  {
   "cell_type": "markdown",
   "metadata": {},
   "source": [
    "**Самые популярные платформы в Америке (в порядке убывания):**\n",
    "- PS4\n",
    "- XOne\n",
    "- X360\n",
    "- PS3\n",
    "- 3DS\n",
    "\n",
    "**Самые популярные платформы в Европе (в порядке убывания):**\n",
    "- PS4\n",
    "- PS3\n",
    "- XOne\n",
    "- X360\n",
    "- 3DS\n",
    "\n",
    "**Самые популярные платформы в Японии (в порядке убывания):**\n",
    "- 3DS\n",
    "- PS3\n",
    "- PSV\n",
    "- PS4\n",
    "- WiiU"
   ]
  },
  {
   "cell_type": "code",
   "execution_count": 38,
   "metadata": {},
   "outputs": [
    {
     "data": {
      "image/png": "[encoded data removed]",
      "text/plain": [
       "<Figure size 1080x576 with 3 Axes>"
      ]
     },
     "metadata": {
      "needs_background": "light"
     },
     "output_type": "display_data"
    }
   ],
   "source": [
    "_, axes = plt.subplots(1, 3, figsize=(15, 8))\n",
    "for i, region in enumerate(regions_list):\n",
    "    draw_plot_by_country('genre', region, i)"
   ]
  },
  {
   "cell_type": "markdown",
   "metadata": {},
   "source": [
    "Жанры **Action** и **Sports** преобладают в Америке и в Европе. Скорее всего это связано с тем, что жители этих регионов предпочитают более активный досуг и просто обожают различные виды спорта. В Японии же преобладает жанр **Role-Playing**. Это можно объяснить тем, что менталитет японцев достаточно спокойный и размеренный, поэтому они предпочитают более спокойные игры, где больше нужно использовать тактическое мышление и логику."
   ]
  },
  {
   "cell_type": "code",
   "execution_count": 39,
   "metadata": {},
   "outputs": [],
   "source": [
    "ESRB_dict = {\n",
    "    'E': 'Для всех',\n",
    "    'EC': 'Для детей старше 3 лет',\n",
    "    'E10+': 'Для детей от 10 лет и старше',\n",
    "    'T': 'Подросткам',\n",
    "    'M': 'Для взрослых',\n",
    "    'AO': 'Только для взрослых',\n",
    "    'RP': 'Рейтинг ожидается',\n",
    "    'pass': 'unknown'\n",
    "}"
   ]
  },
  {
   "cell_type": "code",
   "execution_count": 40,
   "metadata": {},
   "outputs": [
    {
     "data": {
      "text/plain": [
       "pass    977\n",
       "M       369\n",
       "T       333\n",
       "E       302\n",
       "E10+    252\n",
       "Name: rating, dtype: int64"
      ]
     },
     "execution_count": 40,
     "metadata": {},
     "output_type": "execute_result"
    }
   ],
   "source": [
    "actual_data['esrb_describe'] = actual_data[actual_data['rating'].notna()]['rating'].map(ESRB_dict)\n",
    "actual_data['rating'].value_counts()"
   ]
  },
  {
   "cell_type": "code",
   "execution_count": 41,
   "metadata": {
    "scrolled": true
   },
   "outputs": [
    {
     "data": {
      "image/png": "[encoded data removed]",
      "text/plain": [
       "<Figure size 1080x576 with 3 Axes>"
      ]
     },
     "metadata": {
      "needs_background": "light"
     },
     "output_type": "display_data"
    }
   ],
   "source": [
    "_, axes = plt.subplots(1, 3, figsize=(15, 8))\n",
    "for i, region in enumerate(regions_list):\n",
    "    draw_plot_by_country('esrb_describe', region, i)"
   ]
  },
  {
   "cell_type": "markdown",
   "metadata": {},
   "source": [
    "Для Америки и Европы картина одинаковая - больше всего популярны игры с рейтингом **M (для взрослых).** В Японии же самым популярным является рейтинг \"unknown\". Скорее всего, это связано с тем, что не все японские игры подлежат сертификации через ESRB."
   ]
  },
  {
   "cell_type": "markdown",
   "metadata": {},
   "source": [
    "**Общий вывод по портретам игроков из разных регионов:**\n",
    "1. Америка\n",
    "    1. Самые популярные платформы\n",
    "       - PS4\n",
    "       - XOne\n",
    "       - X360\n",
    "       - PS3\n",
    "       - 3DS\n",
    "    2. Самые популярные жанры\n",
    "       - Action\n",
    "       - Shooter\n",
    "       - Sports\n",
    "       - Shooter\n",
    "       - Role-Playing\n",
    "    3. Лучший рейтинг: **M (для взрослых)**\n",
    "2. Европа\n",
    "    1. Самые популярные платформы\n",
    "        - PS4\n",
    "        - PS3\n",
    "        - XOne\n",
    "        - X360\n",
    "        - 3DS\n",
    "    2. Самые популярные жанры\n",
    "        - Action\n",
    "        - Role-Playing\n",
    "        - Sports\n",
    "        - Shooter\n",
    "        - Racing\n",
    "    3. Лучший рейтинг: **M (для взрослых)**\n",
    "3. Япония\n",
    "    1. Самые популярные платформы\n",
    "        - 3DS\n",
    "        - PS3\n",
    "        - PSV\n",
    "        - PS4\n",
    "        - WiiU\n",
    "    2. Самые популярные жанры\n",
    "        - Role-Playing\n",
    "        - Action\n",
    "        - Fighting\n",
    "        - Shooter\n",
    "    3. Лучший рейтинг: неизвестно (большинство игр не требует сертификации ESRB)"
   ]
  },
  {
   "cell_type": "markdown",
   "metadata": {},
   "source": [
    "### Проверка гипотез"
   ]
  },
  {
   "cell_type": "markdown",
   "metadata": {},
   "source": [
    "**Гипотезы:**\n",
    "- Средние пользовательские рейтинги платформ Xbox One и PC одинаковые;\n",
    "- Средние пользовательские рейтинги жанров Action (англ. «действие», экшен-игры) и Sports (англ. «спортивные соревнования») разные.\n",
    "\n",
    "Пороговое значение alpha определим как 0.05"
   ]
  },
  {
   "cell_type": "markdown",
   "metadata": {},
   "source": [
    "#### Гипотеза №1"
   ]
  },
  {
   "cell_type": "markdown",
   "metadata": {},
   "source": [
    "Гипотеза: **Средние пользовательские рейтинги платформ Xbox One и PC одинаковые.**\n",
    "- **H0:** Средние пользовательские рейтинги платформ Xbox One и PC одинаковые.\n",
    "- **H1:** Средние пользовательские рейтинги платформ Xbox One и PC не одинаковые.\n",
    "\n",
    "Для формирования гипотез был использован t-критерий Стьюдента."
   ]
  },
  {
   "cell_type": "code",
   "execution_count": 42,
   "metadata": {},
   "outputs": [
    {
     "name": "stdout",
     "output_type": "stream",
     "text": [
      "0.14012658403611647\n",
      "Не получилось отвергнуть нулевую гипотезу\n"
     ]
    }
   ],
   "source": [
    "sample_xone = actual_data[actual_data['platform'] == 'XOne']['user_score'].dropna()\n",
    "sample_pc = actual_data[actual_data['platform'] == 'PC']['user_score'].dropna()\n",
    "\n",
    "alpha = .05\n",
    "\n",
    "results = st.ttest_ind(\n",
    "    sample_xone,\n",
    "    sample_pc,\n",
    "    equal_var=True\n",
    ")\n",
    "\n",
    "print(results.pvalue)\n",
    "if results.pvalue < alpha:\n",
    "    print('Отвергаем нулевую гипотезу')\n",
    "else:\n",
    "    print('Не получилось отвергнуть нулевую гипотезу')"
   ]
  },
  {
   "cell_type": "markdown",
   "metadata": {},
   "source": [
    "В результате мы не отвергаем нулевую гипотезу."
   ]
  },
  {
   "cell_type": "markdown",
   "metadata": {},
   "source": [
    "#### Гипотеза №2"
   ]
  },
  {
   "cell_type": "markdown",
   "metadata": {},
   "source": [
    "Гипотеза: **Средние пользовательские рейтинги жанров Action (англ. «действие», экшен-игры) и Sports (англ. «спортивные соревнования») разные.**\n",
    "\n",
    "- **H0**: Средние пользовательские рейтинги жанров Action и Sports одинаковые.\n",
    "- **H1**: Средние пользовательские рейтинги жанров Action и Sports разные.\n",
    "\n",
    "Для формирования гипотез был использован t-критерий Стьюдента."
   ]
  },
  {
   "cell_type": "code",
   "execution_count": 43,
   "metadata": {},
   "outputs": [
    {
     "name": "stdout",
     "output_type": "stream",
     "text": [
      "1.4460039700704315e-20\n",
      "Отвергаем нулевую гипотезу\n"
     ]
    }
   ],
   "source": [
    "sample_action = actual_data[actual_data['genre'] == 'Action']['user_score'].dropna()\n",
    "sample_sports = actual_data[actual_data['genre'] == 'Sports']['user_score'].dropna()\n",
    "\n",
    "alpha = .05\n",
    "\n",
    "results = st.ttest_ind(\n",
    "    sample_action,\n",
    "    sample_sports,\n",
    "    equal_var=False\n",
    ")\n",
    "\n",
    "print(results.pvalue)\n",
    "if results.pvalue < alpha:\n",
    "    print('Отвергаем нулевую гипотезу')\n",
    "else:\n",
    "    print('Не получилось отвергнуть нулевую гипотезу')"
   ]
  },
  {
   "cell_type": "markdown",
   "metadata": {},
   "source": [
    "В результате мы отвергли нулевую гипотезу."
   ]
  },
  {
   "cell_type": "markdown",
   "metadata": {},
   "source": [
    "### Общий вывод"
   ]
  },
  {
   "cell_type": "markdown",
   "metadata": {},
   "source": [
    "1. Импорт необходимых модулей и загрузка датасета\n",
    "    - Были импортированы необходимые модули (pandas, matplotlib, numpy, seasborn, scipy)\n",
    "    - Был импортирован датасет *games.csv*\n",
    "2. Первоначальная обработка данных\n",
    "    - Все названия колонок были приведены к нижнему регистру\n",
    "    - Было удалено 273 пропуска, что составило 1.62% данных\n",
    "    - Тип столбца `year_of_release` был изменет на **int**\n",
    "    - Тип столбца `user_score` был изменен на **float**\n",
    "    - Была добавлена новая колонка `total_sales`, которая содержит в себе сумму всех продаж по всем регионам\n",
    "    - Пропуски в столбцах `critic_score` и `user_score`на данном этапе восполнить не представляется возможным, так как игра могла выйти недавно и не ещё не набрала достаточное количество отзывов; имела место быть техническая ошибка, которая не позволила корректно загрузить данные; заполнить медианным или средним значением также не представляется возможным, так как на этапе предобработки неизвестна зависимость между данными столбцами.\n",
    "    - Был удалён 1 неявный дубликат\n",
    "    - Все пропуски в столбце `rating` были временно заменены на **pass**\n",
    "3. Исследовательский анализ данных\n",
    "    - До 1995 года игр выпускалось очень мало. Скорее всего, это связано с малыми мощностями тогдашних систем, плюс сама индустрия видеоигр ещё только зарождалась и не была настолько популярной. Начиная с 2002 года, произошёл резкий скачок в количестве выпускаемых игр, после чего пик держался на промежутке c 2007 по 2011 год. Дальше - спад. На мой взгляд, данные до 1995 года не важны в рамках моего исследования.\n",
    "    - В среднем платформа живёт 10 лет. Это можно объяснить тем, что технологии развиваются каждый день и железо имеет свойство устаревать.\n",
    "    - На мой взгляд, логично взять все данные, начиная с 2005 года, так как именно на этот год приходится резкое повышение продаж видеоигр. Ограничим выборку 2005-2016 годами. Далее мы будем использоваться датасет `actual_data`\n",
    "    - С течением времени продажи на все платформы снижаются. Более-менее стабильной платформой является **3DS**, которая показывает небольшие, но стабильные продажи. При этом, данная платформа вышла сравнительно недавно и на 2016 год имеет достаточно высокую популярность. Также, прибыльной платформой может являться **PS4**, так как она вышла сравнительно недавно и имеет самые высокие продажи на данный отрезок времени, хоть и с тенденцией к небольшому снижению.\n",
    "    - Продажи на консоли **XOne** ниже, чем на **PS4**, однако данная консоль всё равно популярна и имеет отличные показатели продаж на 2015 год. **PC** хоть и показывает относительно низкие продажи, все же является стабильным источником дохода, который имеет достаточно плавные взлеты и падения, что в лучшую сторону скажется на прибыли в долгосрочной перспективе, так как **PC** может менять свою конфигурацию на более мощную, но при этом ПО и цифровые магазины для него остаются прежними, что избавляет разработчиков и издателей в будущем выпускать версии для новых спецификаций железа.\n",
    "    - Корреляция **user_score** и **total_sales** очень мала, из чего можно сделать вывод, что продажи в большей степени зависят от **отзывов критиков**, а не от **отзывов игроков**.\n",
    "    - Самым прибыльным является жанр **Shooter**. Возможно, это связано с тем, что его выпускается больше всего. Самыми непопулярными жанрами стали **Adventure**, **Puzzle** и **Strategy**. Скорее всего это связано с их общей *нишевостью*, и многие игроки не хотят тратить время на то, чтобы, например, разбираться в сложных механиках стратегий. **Adventure** и **Puzzle** сейчас больше привлекательны для казуального сегмента игроков, и в основном превалируют на мобильных устройствах.\n",
    "4. Портреты игроков из разных регионов\n",
    "    1. Америка\n",
    "        1. Самые популярные платформы\n",
    "           - PS4\n",
    "           - XOne\n",
    "           - X360\n",
    "           - PS3\n",
    "           - 3DS\n",
    "        2. Самые популярные жанры\n",
    "           - Action\n",
    "           - Shooter\n",
    "           - Sports\n",
    "           - Shooter\n",
    "           - Role-Playing\n",
    "        3. Лучший рейтинг: **M (для взрослых)**\n",
    "    2. Европа\n",
    "        1. Самые популярные платформы\n",
    "            - PS4\n",
    "            - PS3\n",
    "            - XOne\n",
    "            - X360\n",
    "            - 3DS\n",
    "        2. Самые популярные жанры\n",
    "            - Action\n",
    "            - Role-Playing\n",
    "            - Sports\n",
    "            - Shooter\n",
    "            - Racing\n",
    "        3. Лучший рейтинг: **M (для взрослых)**\n",
    "    3. Япония\n",
    "        1. Самые популярные платформы\n",
    "            - 3DS\n",
    "            - PS3\n",
    "            - PSV\n",
    "            - PS4\n",
    "            - WiiU\n",
    "        2. Самые популярные жанры\n",
    "            - Role-Playing\n",
    "            - Action\n",
    "            - Fighting\n",
    "            - Shooter\n",
    "        3. Лучший рейтинг: неизвестно (большинство игр не требует сертификации ESRB)\n",
    "5. Проверка гипотез\n",
    "    - Гипотеза **Средние пользовательские рейтинги платформ Xbox One и PC одинаковые** - не была отвергнута\n",
    "    - Гипотеза **Средние пользовательские рейтинги жанров Action (англ. «действие», экшен-игры) и Sports (англ. «спортивные соревнования»)** разные - отвергнута"
   ]
  }
 ],
 "metadata": {
  "ExecuteTimeLog": [
   {
    "duration": 1220,
    "start_time": "2023-06-28T09:12:07.412Z"
   },
   {
    "duration": 181,
    "start_time": "2023-06-28T09:12:29.080Z"
   },
   {
    "duration": 15,
    "start_time": "2023-06-28T09:12:41.107Z"
   },
   {
    "duration": 22,
    "start_time": "2023-06-28T09:12:52.951Z"
   },
   {
    "duration": 18,
    "start_time": "2023-06-28T09:13:20.312Z"
   },
   {
    "duration": 538,
    "start_time": "2023-06-28T09:15:06.258Z"
   },
   {
    "duration": 4,
    "start_time": "2023-06-28T09:15:13.874Z"
   },
   {
    "duration": 13,
    "start_time": "2023-06-28T09:17:06.411Z"
   },
   {
    "duration": 7,
    "start_time": "2023-06-28T09:21:43.491Z"
   },
   {
    "duration": 8,
    "start_time": "2023-06-28T09:21:47.719Z"
   },
   {
    "duration": 10,
    "start_time": "2023-06-28T09:28:23.106Z"
   },
   {
    "duration": 17,
    "start_time": "2023-06-28T09:30:27.516Z"
   },
   {
    "duration": 13,
    "start_time": "2023-06-28T09:33:17.612Z"
   },
   {
    "duration": 3,
    "start_time": "2023-06-28T09:33:20.867Z"
   },
   {
    "duration": 53,
    "start_time": "2023-06-28T09:33:20.871Z"
   },
   {
    "duration": 14,
    "start_time": "2023-06-28T09:33:20.925Z"
   },
   {
    "duration": 23,
    "start_time": "2023-06-28T09:33:20.941Z"
   },
   {
    "duration": 9,
    "start_time": "2023-06-28T09:33:20.966Z"
   },
   {
    "duration": 13,
    "start_time": "2023-06-28T09:33:20.977Z"
   },
   {
    "duration": 27,
    "start_time": "2023-06-28T09:33:20.992Z"
   },
   {
    "duration": 7,
    "start_time": "2023-06-28T09:33:21.021Z"
   },
   {
    "duration": 6,
    "start_time": "2023-06-28T09:34:36.900Z"
   },
   {
    "duration": 4,
    "start_time": "2023-06-28T09:34:39.230Z"
   },
   {
    "duration": 5,
    "start_time": "2023-06-28T09:35:15.530Z"
   },
   {
    "duration": 3,
    "start_time": "2023-06-28T09:38:23.093Z"
   },
   {
    "duration": 4,
    "start_time": "2023-06-28T09:39:08.877Z"
   },
   {
    "duration": 7,
    "start_time": "2023-06-28T09:40:51.338Z"
   },
   {
    "duration": 23,
    "start_time": "2023-06-28T09:42:14.905Z"
   },
   {
    "duration": 14,
    "start_time": "2023-06-28T09:42:46.199Z"
   },
   {
    "duration": 11,
    "start_time": "2023-06-28T09:43:02.589Z"
   },
   {
    "duration": 22,
    "start_time": "2023-06-28T09:43:25.498Z"
   },
   {
    "duration": 1017,
    "start_time": "2023-06-28T09:54:09.110Z"
   },
   {
    "duration": 50,
    "start_time": "2023-06-28T09:54:10.129Z"
   },
   {
    "duration": 15,
    "start_time": "2023-06-28T09:54:10.180Z"
   },
   {
    "duration": 21,
    "start_time": "2023-06-28T09:54:10.197Z"
   },
   {
    "duration": 4,
    "start_time": "2023-06-28T09:54:10.220Z"
   },
   {
    "duration": 13,
    "start_time": "2023-06-28T09:54:10.225Z"
   },
   {
    "duration": 39,
    "start_time": "2023-06-28T09:54:10.239Z"
   },
   {
    "duration": 6,
    "start_time": "2023-06-28T09:54:10.280Z"
   },
   {
    "duration": 25,
    "start_time": "2023-06-28T09:54:10.288Z"
   },
   {
    "duration": 15,
    "start_time": "2023-06-28T09:54:10.314Z"
   },
   {
    "duration": 8,
    "start_time": "2023-06-28T09:54:10.331Z"
   },
   {
    "duration": 20,
    "start_time": "2023-06-28T09:54:10.340Z"
   },
   {
    "duration": 13,
    "start_time": "2023-06-28T09:54:10.362Z"
   },
   {
    "duration": 129,
    "start_time": "2023-06-28T09:54:10.378Z"
   },
   {
    "duration": 1163,
    "start_time": "2023-06-28T09:57:24.452Z"
   },
   {
    "duration": 63,
    "start_time": "2023-06-28T09:57:25.616Z"
   },
   {
    "duration": 17,
    "start_time": "2023-06-28T09:57:25.680Z"
   },
   {
    "duration": 36,
    "start_time": "2023-06-28T09:57:25.698Z"
   },
   {
    "duration": 4,
    "start_time": "2023-06-28T09:57:25.736Z"
   },
   {
    "duration": 10,
    "start_time": "2023-06-28T09:57:25.742Z"
   },
   {
    "duration": 29,
    "start_time": "2023-06-28T09:57:25.754Z"
   },
   {
    "duration": 8,
    "start_time": "2023-06-28T09:57:25.785Z"
   },
   {
    "duration": 5,
    "start_time": "2023-06-28T09:57:25.794Z"
   },
   {
    "duration": 19,
    "start_time": "2023-06-28T09:57:25.801Z"
   },
   {
    "duration": 7,
    "start_time": "2023-06-28T09:57:25.822Z"
   },
   {
    "duration": 44,
    "start_time": "2023-06-28T09:57:25.831Z"
   },
   {
    "duration": 16,
    "start_time": "2023-06-28T09:57:25.877Z"
   },
   {
    "duration": 326,
    "start_time": "2023-06-28T09:57:25.895Z"
   },
   {
    "duration": 322,
    "start_time": "2023-06-28T09:57:53.566Z"
   },
   {
    "duration": 111,
    "start_time": "2023-06-28T10:07:09.479Z"
   },
   {
    "duration": 286,
    "start_time": "2023-06-28T10:07:38.482Z"
   },
   {
    "duration": 302,
    "start_time": "2023-06-28T10:07:41.439Z"
   },
   {
    "duration": 118,
    "start_time": "2023-06-28T10:17:07.887Z"
   },
   {
    "duration": 21,
    "start_time": "2023-06-28T10:17:33.346Z"
   },
   {
    "duration": 22,
    "start_time": "2023-06-28T10:17:42.788Z"
   },
   {
    "duration": 13,
    "start_time": "2023-06-28T10:18:11.587Z"
   },
   {
    "duration": 1797,
    "start_time": "2023-06-28T10:18:23.458Z"
   },
   {
    "duration": 31,
    "start_time": "2023-06-28T10:18:44.078Z"
   },
   {
    "duration": 41,
    "start_time": "2023-06-28T10:20:29.361Z"
   },
   {
    "duration": 9,
    "start_time": "2023-06-28T10:21:20.164Z"
   },
   {
    "duration": 14,
    "start_time": "2023-06-28T10:22:10.166Z"
   },
   {
    "duration": 10,
    "start_time": "2023-06-28T10:22:30.103Z"
   },
   {
    "duration": 13,
    "start_time": "2023-06-28T10:24:30.986Z"
   },
   {
    "duration": 14,
    "start_time": "2023-06-28T10:24:41.337Z"
   },
   {
    "duration": 20,
    "start_time": "2023-06-28T10:24:53.976Z"
   },
   {
    "duration": 1921,
    "start_time": "2023-06-28T10:25:42.230Z"
   },
   {
    "duration": 15,
    "start_time": "2023-06-28T10:27:09.832Z"
   },
   {
    "duration": 14,
    "start_time": "2023-06-28T10:27:18.685Z"
   },
   {
    "duration": 16,
    "start_time": "2023-06-28T10:27:24.274Z"
   },
   {
    "duration": 1822,
    "start_time": "2023-06-28T10:27:45.150Z"
   },
   {
    "duration": 16,
    "start_time": "2023-06-28T10:28:00.683Z"
   },
   {
    "duration": 16,
    "start_time": "2023-06-28T10:28:20.818Z"
   },
   {
    "duration": 16,
    "start_time": "2023-06-28T10:28:30.038Z"
   },
   {
    "duration": 12,
    "start_time": "2023-06-28T10:30:27.337Z"
   },
   {
    "duration": 10,
    "start_time": "2023-06-28T10:30:49.482Z"
   },
   {
    "duration": 12,
    "start_time": "2023-06-28T10:30:54.429Z"
   },
   {
    "duration": 1961,
    "start_time": "2023-06-28T10:31:09.397Z"
   },
   {
    "duration": 12,
    "start_time": "2023-06-28T10:31:25.882Z"
   },
   {
    "duration": 7,
    "start_time": "2023-06-28T10:45:03.006Z"
   },
   {
    "duration": 18,
    "start_time": "2023-06-29T03:15:20.525Z"
   },
   {
    "duration": 3,
    "start_time": "2023-06-29T03:15:23.339Z"
   },
   {
    "duration": 49,
    "start_time": "2023-06-29T03:15:23.344Z"
   },
   {
    "duration": 12,
    "start_time": "2023-06-29T03:15:23.395Z"
   },
   {
    "duration": 18,
    "start_time": "2023-06-29T03:15:23.409Z"
   },
   {
    "duration": 5,
    "start_time": "2023-06-29T03:15:23.429Z"
   },
   {
    "duration": 11,
    "start_time": "2023-06-29T03:15:23.436Z"
   },
   {
    "duration": 30,
    "start_time": "2023-06-29T03:15:23.448Z"
   },
   {
    "duration": 6,
    "start_time": "2023-06-29T03:15:23.480Z"
   },
   {
    "duration": 4,
    "start_time": "2023-06-29T03:15:23.487Z"
   },
   {
    "duration": 11,
    "start_time": "2023-06-29T03:15:23.492Z"
   },
   {
    "duration": 6,
    "start_time": "2023-06-29T03:15:23.504Z"
   },
   {
    "duration": 20,
    "start_time": "2023-06-29T03:15:23.511Z"
   },
   {
    "duration": 42,
    "start_time": "2023-06-29T03:15:23.533Z"
   },
   {
    "duration": 284,
    "start_time": "2023-06-29T03:15:23.576Z"
   },
   {
    "duration": 286,
    "start_time": "2023-06-29T03:15:23.862Z"
   },
   {
    "duration": 18,
    "start_time": "2023-06-29T03:15:24.150Z"
   },
   {
    "duration": 1858,
    "start_time": "2023-06-29T03:15:24.170Z"
   },
   {
    "duration": 6,
    "start_time": "2023-06-29T03:15:26.030Z"
   },
   {
    "duration": 17,
    "start_time": "2023-06-29T03:15:26.037Z"
   },
   {
    "duration": 270,
    "start_time": "2023-06-29T03:15:35.234Z"
   },
   {
    "duration": 229,
    "start_time": "2023-06-29T03:15:44.902Z"
   },
   {
    "duration": 295,
    "start_time": "2023-06-29T03:22:57.621Z"
   },
   {
    "duration": 305,
    "start_time": "2023-06-29T03:23:43.282Z"
   },
   {
    "duration": 520,
    "start_time": "2023-06-29T03:25:28.434Z"
   },
   {
    "duration": 616,
    "start_time": "2023-06-29T03:25:59.784Z"
   },
   {
    "duration": 522,
    "start_time": "2023-06-29T03:26:04.915Z"
   },
   {
    "duration": 369,
    "start_time": "2023-06-29T03:26:16.029Z"
   },
   {
    "duration": 21,
    "start_time": "2023-06-29T03:27:24.609Z"
   },
   {
    "duration": 21,
    "start_time": "2023-06-29T03:27:27.583Z"
   },
   {
    "duration": 273,
    "start_time": "2023-06-29T03:27:36.942Z"
   },
   {
    "duration": 308,
    "start_time": "2023-06-29T03:27:56.067Z"
   },
   {
    "duration": 11,
    "start_time": "2023-06-29T03:29:03.152Z"
   },
   {
    "duration": 17,
    "start_time": "2023-06-29T03:29:15.790Z"
   },
   {
    "duration": 12,
    "start_time": "2023-06-29T03:29:32.580Z"
   },
   {
    "duration": 3,
    "start_time": "2023-06-29T03:29:37.149Z"
   },
   {
    "duration": 63,
    "start_time": "2023-06-29T03:29:37.154Z"
   },
   {
    "duration": 14,
    "start_time": "2023-06-29T03:29:37.219Z"
   },
   {
    "duration": 20,
    "start_time": "2023-06-29T03:29:37.235Z"
   },
   {
    "duration": 12,
    "start_time": "2023-06-29T03:29:37.258Z"
   },
   {
    "duration": 12,
    "start_time": "2023-06-29T03:29:37.272Z"
   },
   {
    "duration": 36,
    "start_time": "2023-06-29T03:29:37.286Z"
   },
   {
    "duration": 7,
    "start_time": "2023-06-29T03:29:37.324Z"
   },
   {
    "duration": 5,
    "start_time": "2023-06-29T03:29:37.332Z"
   },
   {
    "duration": 23,
    "start_time": "2023-06-29T03:29:37.339Z"
   },
   {
    "duration": 9,
    "start_time": "2023-06-29T03:29:37.363Z"
   },
   {
    "duration": 26,
    "start_time": "2023-06-29T03:29:37.373Z"
   },
   {
    "duration": 22,
    "start_time": "2023-06-29T03:29:37.401Z"
   },
   {
    "duration": 414,
    "start_time": "2023-06-29T03:29:37.425Z"
   },
   {
    "duration": 307,
    "start_time": "2023-06-29T03:29:37.841Z"
   },
   {
    "duration": 19,
    "start_time": "2023-06-29T03:29:38.150Z"
   },
   {
    "duration": 1814,
    "start_time": "2023-06-29T03:29:38.171Z"
   },
   {
    "duration": 6,
    "start_time": "2023-06-29T03:29:39.986Z"
   },
   {
    "duration": 312,
    "start_time": "2023-06-29T03:29:39.994Z"
   },
   {
    "duration": 27,
    "start_time": "2023-06-29T03:30:21.863Z"
   },
   {
    "duration": 230,
    "start_time": "2023-06-29T03:30:42.047Z"
   },
   {
    "duration": 329,
    "start_time": "2023-06-29T03:32:23.342Z"
   },
   {
    "duration": 188,
    "start_time": "2023-06-29T03:35:14.670Z"
   },
   {
    "duration": 191,
    "start_time": "2023-06-29T03:38:32.712Z"
   },
   {
    "duration": 270,
    "start_time": "2023-06-29T03:43:54.623Z"
   },
   {
    "duration": 303,
    "start_time": "2023-06-29T03:44:37.709Z"
   },
   {
    "duration": 258,
    "start_time": "2023-06-29T03:44:40.932Z"
   },
   {
    "duration": 242,
    "start_time": "2023-06-29T03:44:44.301Z"
   },
   {
    "duration": 384,
    "start_time": "2023-06-29T03:44:51.620Z"
   },
   {
    "duration": 312,
    "start_time": "2023-06-29T03:48:04.718Z"
   },
   {
    "duration": 348,
    "start_time": "2023-06-29T03:48:07.968Z"
   },
   {
    "duration": 6,
    "start_time": "2023-06-29T03:50:09.973Z"
   },
   {
    "duration": 120,
    "start_time": "2023-06-29T03:50:43.410Z"
   },
   {
    "duration": 125,
    "start_time": "2023-06-29T03:50:58.275Z"
   },
   {
    "duration": 9,
    "start_time": "2023-06-29T03:52:14.045Z"
   },
   {
    "duration": 92,
    "start_time": "2023-06-29T03:52:23.605Z"
   },
   {
    "duration": 1399,
    "start_time": "2023-06-29T03:52:27.521Z"
   },
   {
    "duration": 1332,
    "start_time": "2023-06-29T03:52:44.173Z"
   },
   {
    "duration": 1456,
    "start_time": "2023-06-29T03:52:47.458Z"
   },
   {
    "duration": 1432,
    "start_time": "2023-06-29T03:53:58.190Z"
   },
   {
    "duration": 1733,
    "start_time": "2023-06-29T03:54:03.750Z"
   },
   {
    "duration": 1553,
    "start_time": "2023-06-29T03:54:09.272Z"
   },
   {
    "duration": 10,
    "start_time": "2023-06-29T03:57:08.670Z"
   },
   {
    "duration": 11,
    "start_time": "2023-06-29T04:05:06.400Z"
   },
   {
    "duration": 11,
    "start_time": "2023-06-29T04:05:16.278Z"
   },
   {
    "duration": 11,
    "start_time": "2023-06-29T04:05:27.227Z"
   },
   {
    "duration": 281,
    "start_time": "2023-06-29T04:08:52.091Z"
   },
   {
    "duration": 291,
    "start_time": "2023-06-29T04:09:16.197Z"
   },
   {
    "duration": 292,
    "start_time": "2023-06-29T04:09:19.129Z"
   },
   {
    "duration": 108,
    "start_time": "2023-06-29T04:09:52.642Z"
   },
   {
    "duration": 151,
    "start_time": "2023-06-29T04:10:02.263Z"
   },
   {
    "duration": 119,
    "start_time": "2023-06-29T04:10:07.100Z"
   },
   {
    "duration": 13,
    "start_time": "2023-06-29T04:10:18.165Z"
   },
   {
    "duration": 5,
    "start_time": "2023-06-29T04:28:02.633Z"
   },
   {
    "duration": 294,
    "start_time": "2023-06-29T04:28:35.769Z"
   },
   {
    "duration": 248,
    "start_time": "2023-06-29T04:29:54.143Z"
   },
   {
    "duration": 249,
    "start_time": "2023-06-29T04:30:00.844Z"
   },
   {
    "duration": 3,
    "start_time": "2023-06-29T04:30:03.101Z"
   },
   {
    "duration": 382,
    "start_time": "2023-06-29T04:30:04.286Z"
   },
   {
    "duration": 381,
    "start_time": "2023-06-29T04:30:12.050Z"
   },
   {
    "duration": 514,
    "start_time": "2023-06-29T04:30:21.354Z"
   },
   {
    "duration": 344,
    "start_time": "2023-06-29T04:33:53.464Z"
   },
   {
    "duration": 3,
    "start_time": "2023-06-29T04:37:52.512Z"
   },
   {
    "duration": 1792,
    "start_time": "2023-06-29T04:42:04.440Z"
   },
   {
    "duration": 438,
    "start_time": "2023-06-29T04:42:19.384Z"
   },
   {
    "duration": 3,
    "start_time": "2023-06-29T04:43:59.153Z"
   },
   {
    "duration": 9,
    "start_time": "2023-06-29T04:44:01.043Z"
   },
   {
    "duration": 3,
    "start_time": "2023-06-29T04:44:34.481Z"
   },
   {
    "duration": 3,
    "start_time": "2023-06-29T04:44:43.532Z"
   },
   {
    "duration": 9,
    "start_time": "2023-06-29T04:44:47.499Z"
   },
   {
    "duration": 41,
    "start_time": "2023-06-29T04:45:01.411Z"
   },
   {
    "duration": 339,
    "start_time": "2023-06-29T04:45:11.938Z"
   },
   {
    "duration": 3,
    "start_time": "2023-06-29T04:47:02.905Z"
   },
   {
    "duration": 7,
    "start_time": "2023-06-29T04:47:03.505Z"
   },
   {
    "duration": 378,
    "start_time": "2023-06-29T04:47:03.877Z"
   },
   {
    "duration": 1821,
    "start_time": "2023-06-29T04:47:19.901Z"
   },
   {
    "duration": 5,
    "start_time": "2023-06-29T04:47:23.811Z"
   },
   {
    "duration": 3,
    "start_time": "2023-06-29T04:47:46.028Z"
   },
   {
    "duration": 8,
    "start_time": "2023-06-29T04:47:46.557Z"
   },
   {
    "duration": 354,
    "start_time": "2023-06-29T04:47:46.759Z"
   },
   {
    "duration": 6,
    "start_time": "2023-06-29T04:58:54.656Z"
   },
   {
    "duration": 13,
    "start_time": "2023-06-29T05:00:40.688Z"
   },
   {
    "duration": 24,
    "start_time": "2023-06-29T05:00:45.620Z"
   },
   {
    "duration": 14,
    "start_time": "2023-06-29T05:01:17.149Z"
   },
   {
    "duration": 9,
    "start_time": "2023-06-29T05:01:21.374Z"
   },
   {
    "duration": 9,
    "start_time": "2023-06-29T05:02:02.996Z"
   },
   {
    "duration": 14,
    "start_time": "2023-06-29T05:02:12.486Z"
   },
   {
    "duration": 11,
    "start_time": "2023-06-29T05:02:17.918Z"
   },
   {
    "duration": 9,
    "start_time": "2023-06-29T05:02:27.613Z"
   },
   {
    "duration": 9,
    "start_time": "2023-06-29T05:02:37.379Z"
   },
   {
    "duration": 11,
    "start_time": "2023-06-29T05:03:42.114Z"
   },
   {
    "duration": 10,
    "start_time": "2023-06-29T05:07:15.640Z"
   },
   {
    "duration": 1558,
    "start_time": "2023-06-29T05:19:18.485Z"
   },
   {
    "duration": 1435,
    "start_time": "2023-06-29T05:19:22.063Z"
   },
   {
    "duration": 3,
    "start_time": "2023-06-29T05:19:28.230Z"
   },
   {
    "duration": 8,
    "start_time": "2023-06-29T05:19:28.235Z"
   },
   {
    "duration": 53,
    "start_time": "2023-06-29T05:19:28.245Z"
   },
   {
    "duration": 15,
    "start_time": "2023-06-29T05:19:28.300Z"
   },
   {
    "duration": 20,
    "start_time": "2023-06-29T05:19:28.317Z"
   },
   {
    "duration": 29,
    "start_time": "2023-06-29T05:19:28.340Z"
   },
   {
    "duration": 9,
    "start_time": "2023-06-29T05:19:28.370Z"
   },
   {
    "duration": 17,
    "start_time": "2023-06-29T05:19:28.381Z"
   },
   {
    "duration": 148,
    "start_time": "2023-06-29T05:19:28.399Z"
   },
   {
    "duration": 4,
    "start_time": "2023-06-29T05:19:28.550Z"
   },
   {
    "duration": 10,
    "start_time": "2023-06-29T05:19:28.568Z"
   },
   {
    "duration": 5,
    "start_time": "2023-06-29T05:19:28.580Z"
   },
   {
    "duration": 23,
    "start_time": "2023-06-29T05:19:28.586Z"
   },
   {
    "duration": 12,
    "start_time": "2023-06-29T05:19:28.610Z"
   },
   {
    "duration": 302,
    "start_time": "2023-06-29T05:19:28.624Z"
   },
   {
    "duration": 277,
    "start_time": "2023-06-29T05:19:28.928Z"
   },
   {
    "duration": 13,
    "start_time": "2023-06-29T05:19:29.207Z"
   },
   {
    "duration": 1826,
    "start_time": "2023-06-29T05:19:29.222Z"
   },
   {
    "duration": 7,
    "start_time": "2023-06-29T05:19:31.051Z"
   },
   {
    "duration": 258,
    "start_time": "2023-06-29T05:19:31.060Z"
   },
   {
    "duration": 210,
    "start_time": "2023-06-29T05:19:31.319Z"
   },
   {
    "duration": 513,
    "start_time": "2023-06-29T05:19:31.531Z"
   },
   {
    "duration": 5,
    "start_time": "2023-06-29T05:19:32.046Z"
   },
   {
    "duration": 1491,
    "start_time": "2023-06-29T05:19:32.052Z"
   },
   {
    "duration": 10,
    "start_time": "2023-06-29T05:19:33.544Z"
   },
   {
    "duration": 19,
    "start_time": "2023-06-29T05:19:33.555Z"
   },
   {
    "duration": 10,
    "start_time": "2023-06-29T05:19:33.575Z"
   },
   {
    "duration": 10,
    "start_time": "2023-06-29T05:19:33.588Z"
   },
   {
    "duration": 320,
    "start_time": "2023-06-29T05:19:33.599Z"
   },
   {
    "duration": 14,
    "start_time": "2023-06-29T05:19:33.921Z"
   },
   {
    "duration": 3,
    "start_time": "2023-06-29T05:19:33.936Z"
   },
   {
    "duration": 5,
    "start_time": "2023-06-29T05:19:33.940Z"
   },
   {
    "duration": 384,
    "start_time": "2023-06-29T05:19:33.946Z"
   },
   {
    "duration": 506,
    "start_time": "2023-06-29T05:19:34.332Z"
   },
   {
    "duration": 4,
    "start_time": "2023-06-29T05:19:34.840Z"
   },
   {
    "duration": 8,
    "start_time": "2023-06-29T05:19:34.846Z"
   },
   {
    "duration": 346,
    "start_time": "2023-06-29T05:19:34.869Z"
   },
   {
    "duration": 10,
    "start_time": "2023-06-29T05:19:35.217Z"
   },
   {
    "duration": 9,
    "start_time": "2023-06-29T05:19:35.229Z"
   },
   {
    "duration": 1121,
    "start_time": "2023-06-29T05:21:17.794Z"
   },
   {
    "duration": 3,
    "start_time": "2023-06-29T05:21:18.916Z"
   },
   {
    "duration": 104,
    "start_time": "2023-06-29T05:21:18.920Z"
   },
   {
    "duration": 13,
    "start_time": "2023-06-29T05:21:19.026Z"
   },
   {
    "duration": 34,
    "start_time": "2023-06-29T05:21:19.041Z"
   },
   {
    "duration": 5,
    "start_time": "2023-06-29T05:21:19.077Z"
   },
   {
    "duration": 17,
    "start_time": "2023-06-29T05:21:19.083Z"
   },
   {
    "duration": 23,
    "start_time": "2023-06-29T05:21:19.101Z"
   },
   {
    "duration": 6,
    "start_time": "2023-06-29T05:21:19.132Z"
   },
   {
    "duration": 12,
    "start_time": "2023-06-29T05:21:19.140Z"
   },
   {
    "duration": 20,
    "start_time": "2023-06-29T05:21:19.154Z"
   },
   {
    "duration": 5,
    "start_time": "2023-06-29T05:21:19.176Z"
   },
   {
    "duration": 24,
    "start_time": "2023-06-29T05:21:19.182Z"
   },
   {
    "duration": 11,
    "start_time": "2023-06-29T05:21:19.208Z"
   },
   {
    "duration": 302,
    "start_time": "2023-06-29T05:21:19.221Z"
   },
   {
    "duration": 283,
    "start_time": "2023-06-29T05:21:19.525Z"
   },
   {
    "duration": 13,
    "start_time": "2023-06-29T05:21:19.810Z"
   },
   {
    "duration": 1893,
    "start_time": "2023-06-29T05:21:19.831Z"
   },
   {
    "duration": 11,
    "start_time": "2023-06-29T05:21:21.726Z"
   },
   {
    "duration": 267,
    "start_time": "2023-06-29T05:21:21.738Z"
   },
   {
    "duration": 190,
    "start_time": "2023-06-29T05:21:22.006Z"
   },
   {
    "duration": 314,
    "start_time": "2023-06-29T05:21:22.197Z"
   },
   {
    "duration": 5,
    "start_time": "2023-06-29T05:21:22.513Z"
   },
   {
    "duration": 1563,
    "start_time": "2023-06-29T05:21:22.519Z"
   },
   {
    "duration": 10,
    "start_time": "2023-06-29T05:21:24.084Z"
   },
   {
    "duration": 16,
    "start_time": "2023-06-29T05:21:24.096Z"
   },
   {
    "duration": 26,
    "start_time": "2023-06-29T05:21:24.113Z"
   },
   {
    "duration": 11,
    "start_time": "2023-06-29T05:21:24.141Z"
   },
   {
    "duration": 300,
    "start_time": "2023-06-29T05:21:24.153Z"
   },
   {
    "duration": 14,
    "start_time": "2023-06-29T05:21:24.455Z"
   },
   {
    "duration": 2,
    "start_time": "2023-06-29T05:21:24.470Z"
   },
   {
    "duration": 7,
    "start_time": "2023-06-29T05:21:24.474Z"
   },
   {
    "duration": 393,
    "start_time": "2023-06-29T05:21:24.482Z"
   },
   {
    "duration": 350,
    "start_time": "2023-06-29T05:21:24.877Z"
   },
   {
    "duration": 3,
    "start_time": "2023-06-29T05:21:25.228Z"
   },
   {
    "duration": 26,
    "start_time": "2023-06-29T05:21:25.233Z"
   },
   {
    "duration": 343,
    "start_time": "2023-06-29T05:21:25.261Z"
   },
   {
    "duration": 8,
    "start_time": "2023-06-29T05:21:25.606Z"
   },
   {
    "duration": 20,
    "start_time": "2023-06-29T05:21:25.615Z"
   },
   {
    "duration": 9,
    "start_time": "2023-06-29T05:57:04.571Z"
   },
   {
    "duration": 15,
    "start_time": "2023-06-29T05:57:08.246Z"
   },
   {
    "duration": 3,
    "start_time": "2023-06-29T05:57:12.809Z"
   },
   {
    "duration": 3,
    "start_time": "2023-06-29T05:57:12.815Z"
   },
   {
    "duration": 57,
    "start_time": "2023-06-29T05:57:12.819Z"
   },
   {
    "duration": 14,
    "start_time": "2023-06-29T05:57:12.879Z"
   },
   {
    "duration": 19,
    "start_time": "2023-06-29T05:57:12.894Z"
   },
   {
    "duration": 5,
    "start_time": "2023-06-29T05:57:12.915Z"
   },
   {
    "duration": 9,
    "start_time": "2023-06-29T05:57:12.922Z"
   },
   {
    "duration": 43,
    "start_time": "2023-06-29T05:57:12.933Z"
   },
   {
    "duration": 6,
    "start_time": "2023-06-29T05:57:12.978Z"
   },
   {
    "duration": 5,
    "start_time": "2023-06-29T05:57:12.986Z"
   },
   {
    "duration": 16,
    "start_time": "2023-06-29T05:57:12.992Z"
   },
   {
    "duration": 5,
    "start_time": "2023-06-29T05:57:13.010Z"
   },
   {
    "duration": 21,
    "start_time": "2023-06-29T05:57:13.016Z"
   },
   {
    "duration": 34,
    "start_time": "2023-06-29T05:57:13.039Z"
   },
   {
    "duration": 15,
    "start_time": "2023-06-29T05:57:13.075Z"
   },
   {
    "duration": 298,
    "start_time": "2023-06-29T05:57:13.092Z"
   },
   {
    "duration": 267,
    "start_time": "2023-06-29T05:57:13.392Z"
   },
   {
    "duration": 16,
    "start_time": "2023-06-29T05:57:13.661Z"
   },
   {
    "duration": 1945,
    "start_time": "2023-06-29T05:57:13.679Z"
   },
   {
    "duration": 6,
    "start_time": "2023-06-29T05:57:15.625Z"
   },
   {
    "duration": 264,
    "start_time": "2023-06-29T05:57:15.633Z"
   },
   {
    "duration": 203,
    "start_time": "2023-06-29T05:57:15.899Z"
   },
   {
    "duration": 320,
    "start_time": "2023-06-29T05:57:16.104Z"
   },
   {
    "duration": 6,
    "start_time": "2023-06-29T05:57:16.426Z"
   },
   {
    "duration": 1481,
    "start_time": "2023-06-29T05:57:16.433Z"
   },
   {
    "duration": 10,
    "start_time": "2023-06-29T05:57:17.915Z"
   },
   {
    "duration": 12,
    "start_time": "2023-06-29T05:57:17.927Z"
   },
   {
    "duration": 30,
    "start_time": "2023-06-29T05:57:17.942Z"
   },
   {
    "duration": 10,
    "start_time": "2023-06-29T05:57:17.974Z"
   },
   {
    "duration": 306,
    "start_time": "2023-06-29T05:57:17.985Z"
   },
   {
    "duration": 14,
    "start_time": "2023-06-29T05:57:18.292Z"
   },
   {
    "duration": 2,
    "start_time": "2023-06-29T05:57:18.307Z"
   },
   {
    "duration": 9,
    "start_time": "2023-06-29T05:57:18.311Z"
   },
   {
    "duration": 540,
    "start_time": "2023-06-29T05:57:18.321Z"
   },
   {
    "duration": 347,
    "start_time": "2023-06-29T05:57:18.867Z"
   },
   {
    "duration": 3,
    "start_time": "2023-06-29T05:57:19.215Z"
   },
   {
    "duration": 12,
    "start_time": "2023-06-29T05:57:19.219Z"
   },
   {
    "duration": 360,
    "start_time": "2023-06-29T05:57:19.233Z"
   },
   {
    "duration": 10,
    "start_time": "2023-06-29T05:57:19.594Z"
   },
   {
    "duration": 10,
    "start_time": "2023-06-29T05:57:19.605Z"
   },
   {
    "duration": 18,
    "start_time": "2023-06-29T05:57:42.442Z"
   },
   {
    "duration": 2,
    "start_time": "2023-06-29T06:01:18.296Z"
   },
   {
    "duration": 5,
    "start_time": "2023-06-29T06:01:18.300Z"
   },
   {
    "duration": 50,
    "start_time": "2023-06-29T06:01:18.306Z"
   },
   {
    "duration": 13,
    "start_time": "2023-06-29T06:01:18.358Z"
   },
   {
    "duration": 17,
    "start_time": "2023-06-29T06:01:18.373Z"
   },
   {
    "duration": 16,
    "start_time": "2023-06-29T06:01:18.391Z"
   },
   {
    "duration": 19,
    "start_time": "2023-06-29T06:01:18.408Z"
   },
   {
    "duration": 17,
    "start_time": "2023-06-29T06:01:18.429Z"
   },
   {
    "duration": 5,
    "start_time": "2023-06-29T06:01:18.448Z"
   },
   {
    "duration": 14,
    "start_time": "2023-06-29T06:01:18.454Z"
   },
   {
    "duration": 22,
    "start_time": "2023-06-29T06:01:18.469Z"
   },
   {
    "duration": 11,
    "start_time": "2023-06-29T06:01:18.493Z"
   },
   {
    "duration": 21,
    "start_time": "2023-06-29T06:01:18.505Z"
   },
   {
    "duration": 12,
    "start_time": "2023-06-29T06:01:18.528Z"
   },
   {
    "duration": 17,
    "start_time": "2023-06-29T06:01:18.542Z"
   },
   {
    "duration": 25,
    "start_time": "2023-06-29T06:01:18.560Z"
   },
   {
    "duration": 283,
    "start_time": "2023-06-29T06:01:18.586Z"
   },
   {
    "duration": 272,
    "start_time": "2023-06-29T06:01:18.871Z"
   },
   {
    "duration": 12,
    "start_time": "2023-06-29T06:01:19.145Z"
   },
   {
    "duration": 1903,
    "start_time": "2023-06-29T06:01:19.159Z"
   },
   {
    "duration": 8,
    "start_time": "2023-06-29T06:01:21.064Z"
   },
   {
    "duration": 239,
    "start_time": "2023-06-29T06:01:21.074Z"
   },
   {
    "duration": 195,
    "start_time": "2023-06-29T06:01:21.315Z"
   },
   {
    "duration": 309,
    "start_time": "2023-06-29T06:01:21.512Z"
   },
   {
    "duration": 6,
    "start_time": "2023-06-29T06:01:21.823Z"
   },
   {
    "duration": 1486,
    "start_time": "2023-06-29T06:01:21.830Z"
   },
   {
    "duration": 10,
    "start_time": "2023-06-29T06:01:23.318Z"
   },
   {
    "duration": 35,
    "start_time": "2023-06-29T06:01:23.329Z"
   },
   {
    "duration": 21,
    "start_time": "2023-06-29T06:01:23.366Z"
   },
   {
    "duration": 16,
    "start_time": "2023-06-29T06:01:23.389Z"
   },
   {
    "duration": 456,
    "start_time": "2023-06-29T06:01:23.407Z"
   },
   {
    "duration": 15,
    "start_time": "2023-06-29T06:01:23.865Z"
   },
   {
    "duration": 3,
    "start_time": "2023-06-29T06:01:23.882Z"
   },
   {
    "duration": 14,
    "start_time": "2023-06-29T06:01:23.887Z"
   },
   {
    "duration": 380,
    "start_time": "2023-06-29T06:01:23.903Z"
   },
   {
    "duration": 344,
    "start_time": "2023-06-29T06:01:24.284Z"
   },
   {
    "duration": 4,
    "start_time": "2023-06-29T06:01:24.630Z"
   },
   {
    "duration": 10,
    "start_time": "2023-06-29T06:01:24.635Z"
   },
   {
    "duration": 354,
    "start_time": "2023-06-29T06:01:24.647Z"
   },
   {
    "duration": 10,
    "start_time": "2023-06-29T06:01:25.003Z"
   },
   {
    "duration": 8,
    "start_time": "2023-06-29T06:01:25.017Z"
   },
   {
    "duration": 19,
    "start_time": "2023-06-29T06:02:15.882Z"
   },
   {
    "duration": 22,
    "start_time": "2023-06-29T06:02:17.262Z"
   },
   {
    "duration": 7,
    "start_time": "2023-06-29T06:04:21.595Z"
   },
   {
    "duration": 5,
    "start_time": "2023-06-29T06:04:26.143Z"
   },
   {
    "duration": 3,
    "start_time": "2023-06-29T06:05:18.076Z"
   },
   {
    "duration": 7,
    "start_time": "2023-06-29T06:05:18.083Z"
   },
   {
    "duration": 48,
    "start_time": "2023-06-29T06:05:18.092Z"
   },
   {
    "duration": 14,
    "start_time": "2023-06-29T06:05:18.142Z"
   },
   {
    "duration": 30,
    "start_time": "2023-06-29T06:05:18.158Z"
   },
   {
    "duration": 5,
    "start_time": "2023-06-29T06:05:18.190Z"
   },
   {
    "duration": 11,
    "start_time": "2023-06-29T06:05:18.196Z"
   },
   {
    "duration": 18,
    "start_time": "2023-06-29T06:05:18.209Z"
   },
   {
    "duration": 7,
    "start_time": "2023-06-29T06:05:18.229Z"
   },
   {
    "duration": 4,
    "start_time": "2023-06-29T06:05:18.237Z"
   },
   {
    "duration": 10,
    "start_time": "2023-06-29T06:05:18.268Z"
   },
   {
    "duration": 6,
    "start_time": "2023-06-29T06:05:18.279Z"
   },
   {
    "duration": 19,
    "start_time": "2023-06-29T06:05:18.287Z"
   },
   {
    "duration": 11,
    "start_time": "2023-06-29T06:05:18.308Z"
   },
   {
    "duration": 16,
    "start_time": "2023-06-29T06:05:18.322Z"
   },
   {
    "duration": 45,
    "start_time": "2023-06-29T06:05:18.339Z"
   },
   {
    "duration": 19,
    "start_time": "2023-06-29T06:05:18.385Z"
   },
   {
    "duration": 293,
    "start_time": "2023-06-29T06:05:18.405Z"
   },
   {
    "duration": 270,
    "start_time": "2023-06-29T06:05:18.699Z"
   },
   {
    "duration": 13,
    "start_time": "2023-06-29T06:05:18.971Z"
   },
   {
    "duration": 1960,
    "start_time": "2023-06-29T06:05:18.986Z"
   },
   {
    "duration": 6,
    "start_time": "2023-06-29T06:05:20.948Z"
   },
   {
    "duration": 246,
    "start_time": "2023-06-29T06:05:20.955Z"
   },
   {
    "duration": 212,
    "start_time": "2023-06-29T06:05:21.202Z"
   },
   {
    "duration": 247,
    "start_time": "2023-06-29T06:05:21.416Z"
   },
   {
    "duration": 6,
    "start_time": "2023-06-29T06:05:21.664Z"
   },
   {
    "duration": 1454,
    "start_time": "2023-06-29T06:05:21.672Z"
   },
   {
    "duration": 9,
    "start_time": "2023-06-29T06:05:23.127Z"
   },
   {
    "duration": 17,
    "start_time": "2023-06-29T06:05:23.138Z"
   },
   {
    "duration": 19,
    "start_time": "2023-06-29T06:05:23.157Z"
   },
   {
    "duration": 10,
    "start_time": "2023-06-29T06:05:23.177Z"
   },
   {
    "duration": 306,
    "start_time": "2023-06-29T06:05:23.188Z"
   },
   {
    "duration": 13,
    "start_time": "2023-06-29T06:05:23.495Z"
   },
   {
    "duration": 2,
    "start_time": "2023-06-29T06:05:23.509Z"
   },
   {
    "duration": 5,
    "start_time": "2023-06-29T06:05:23.513Z"
   },
   {
    "duration": 552,
    "start_time": "2023-06-29T06:05:23.519Z"
   },
   {
    "duration": 336,
    "start_time": "2023-06-29T06:05:24.073Z"
   },
   {
    "duration": 3,
    "start_time": "2023-06-29T06:05:24.410Z"
   },
   {
    "duration": 8,
    "start_time": "2023-06-29T06:05:24.414Z"
   },
   {
    "duration": 361,
    "start_time": "2023-06-29T06:05:24.424Z"
   },
   {
    "duration": 9,
    "start_time": "2023-06-29T06:05:24.787Z"
   },
   {
    "duration": 8,
    "start_time": "2023-06-29T06:05:24.799Z"
   },
   {
    "duration": 127,
    "start_time": "2023-06-29T06:08:58.228Z"
   },
   {
    "duration": 122,
    "start_time": "2023-06-29T06:09:04.265Z"
   },
   {
    "duration": 136,
    "start_time": "2023-06-29T06:09:08.286Z"
   },
   {
    "duration": 10,
    "start_time": "2023-06-29T06:10:37.931Z"
   },
   {
    "duration": 91,
    "start_time": "2023-06-29T06:10:57.254Z"
   },
   {
    "duration": 215,
    "start_time": "2023-06-29T06:11:22.250Z"
   },
   {
    "duration": 242,
    "start_time": "2023-06-29T06:11:33.135Z"
   },
   {
    "duration": 129,
    "start_time": "2023-06-29T06:11:48.466Z"
   },
   {
    "duration": 105,
    "start_time": "2023-06-29T06:12:26.103Z"
   },
   {
    "duration": 395,
    "start_time": "2023-06-29T06:12:44.486Z"
   },
   {
    "duration": 262,
    "start_time": "2023-06-29T06:12:52.335Z"
   },
   {
    "duration": 13,
    "start_time": "2023-06-29T06:14:03.643Z"
   },
   {
    "duration": 1731,
    "start_time": "2023-06-29T06:18:43.619Z"
   },
   {
    "duration": 7,
    "start_time": "2023-06-29T06:18:51.045Z"
   },
   {
    "duration": 2,
    "start_time": "2023-06-29T06:19:03.874Z"
   },
   {
    "duration": 8,
    "start_time": "2023-06-29T06:19:03.878Z"
   },
   {
    "duration": 54,
    "start_time": "2023-06-29T06:19:03.887Z"
   },
   {
    "duration": 16,
    "start_time": "2023-06-29T06:19:03.943Z"
   },
   {
    "duration": 24,
    "start_time": "2023-06-29T06:19:03.962Z"
   },
   {
    "duration": 5,
    "start_time": "2023-06-29T06:19:03.988Z"
   },
   {
    "duration": 12,
    "start_time": "2023-06-29T06:19:03.994Z"
   },
   {
    "duration": 17,
    "start_time": "2023-06-29T06:19:04.008Z"
   },
   {
    "duration": 6,
    "start_time": "2023-06-29T06:19:04.026Z"
   },
   {
    "duration": 4,
    "start_time": "2023-06-29T06:19:04.033Z"
   },
   {
    "duration": 38,
    "start_time": "2023-06-29T06:19:04.038Z"
   },
   {
    "duration": 5,
    "start_time": "2023-06-29T06:19:04.078Z"
   },
   {
    "duration": 23,
    "start_time": "2023-06-29T06:19:04.084Z"
   },
   {
    "duration": 13,
    "start_time": "2023-06-29T06:19:04.110Z"
   },
   {
    "duration": 13,
    "start_time": "2023-06-29T06:19:04.125Z"
   },
   {
    "duration": 44,
    "start_time": "2023-06-29T06:19:04.139Z"
   },
   {
    "duration": 18,
    "start_time": "2023-06-29T06:19:04.185Z"
   },
   {
    "duration": 4,
    "start_time": "2023-06-29T06:19:04.204Z"
   },
   {
    "duration": 312,
    "start_time": "2023-06-29T06:19:04.209Z"
   },
   {
    "duration": 266,
    "start_time": "2023-06-29T06:19:04.522Z"
   },
   {
    "duration": 12,
    "start_time": "2023-06-29T06:19:04.789Z"
   },
   {
    "duration": 1850,
    "start_time": "2023-06-29T06:19:04.802Z"
   },
   {
    "duration": 16,
    "start_time": "2023-06-29T06:19:06.654Z"
   },
   {
    "duration": 408,
    "start_time": "2023-06-29T06:19:06.672Z"
   },
   {
    "duration": 222,
    "start_time": "2023-06-29T06:19:07.082Z"
   },
   {
    "duration": 263,
    "start_time": "2023-06-29T06:19:07.306Z"
   },
   {
    "duration": 6,
    "start_time": "2023-06-29T06:19:07.571Z"
   },
   {
    "duration": 1584,
    "start_time": "2023-06-29T06:19:07.578Z"
   },
   {
    "duration": 9,
    "start_time": "2023-06-29T06:19:09.168Z"
   },
   {
    "duration": 10,
    "start_time": "2023-06-29T06:19:09.179Z"
   },
   {
    "duration": 10,
    "start_time": "2023-06-29T06:19:09.191Z"
   },
   {
    "duration": 12,
    "start_time": "2023-06-29T06:19:09.203Z"
   },
   {
    "duration": 427,
    "start_time": "2023-06-29T06:19:09.216Z"
   },
   {
    "duration": 23,
    "start_time": "2023-06-29T06:19:09.645Z"
   },
   {
    "duration": 3,
    "start_time": "2023-06-29T06:19:09.669Z"
   },
   {
    "duration": 6,
    "start_time": "2023-06-29T06:19:09.673Z"
   },
   {
    "duration": 335,
    "start_time": "2023-06-29T06:19:09.680Z"
   },
   {
    "duration": 324,
    "start_time": "2023-06-29T06:19:10.016Z"
   },
   {
    "duration": 3,
    "start_time": "2023-06-29T06:19:10.342Z"
   },
   {
    "duration": 7,
    "start_time": "2023-06-29T06:19:10.346Z"
   },
   {
    "duration": 354,
    "start_time": "2023-06-29T06:19:10.356Z"
   },
   {
    "duration": 8,
    "start_time": "2023-06-29T06:19:10.712Z"
   },
   {
    "duration": 9,
    "start_time": "2023-06-29T06:19:10.721Z"
   },
   {
    "duration": 5,
    "start_time": "2023-06-29T06:19:42.359Z"
   },
   {
    "duration": 360,
    "start_time": "2023-06-29T06:19:57.664Z"
   },
   {
    "duration": 4,
    "start_time": "2023-06-29T06:20:47.393Z"
   },
   {
    "duration": 350,
    "start_time": "2023-06-29T06:20:52.478Z"
   },
   {
    "duration": 1762,
    "start_time": "2023-06-29T06:21:19.095Z"
   },
   {
    "duration": 7,
    "start_time": "2023-06-29T06:21:22.467Z"
   },
   {
    "duration": 5,
    "start_time": "2023-06-29T06:21:41.925Z"
   },
   {
    "duration": 354,
    "start_time": "2023-06-29T06:21:49.400Z"
   },
   {
    "duration": 356,
    "start_time": "2023-06-29T06:22:44.146Z"
   },
   {
    "duration": 4,
    "start_time": "2023-06-29T06:22:48.997Z"
   },
   {
    "duration": 550,
    "start_time": "2023-06-29T06:22:51.995Z"
   },
   {
    "duration": 4,
    "start_time": "2023-06-29T06:23:11.042Z"
   },
   {
    "duration": 6,
    "start_time": "2023-06-29T06:23:12.378Z"
   },
   {
    "duration": 359,
    "start_time": "2023-06-29T06:23:12.788Z"
   },
   {
    "duration": 9,
    "start_time": "2023-06-29T06:23:32.359Z"
   },
   {
    "duration": 5,
    "start_time": "2023-06-29T06:23:57.489Z"
   },
   {
    "duration": 3,
    "start_time": "2023-06-29T06:24:04.648Z"
   },
   {
    "duration": 8,
    "start_time": "2023-06-29T06:24:05.107Z"
   },
   {
    "duration": 349,
    "start_time": "2023-06-29T06:24:06.184Z"
   },
   {
    "duration": 13,
    "start_time": "2023-06-29T06:24:45.546Z"
   },
   {
    "duration": 13,
    "start_time": "2023-06-29T06:24:48.802Z"
   },
   {
    "duration": 8,
    "start_time": "2023-06-29T06:25:03.409Z"
   },
   {
    "duration": 11,
    "start_time": "2023-06-29T06:25:07.885Z"
   },
   {
    "duration": 9,
    "start_time": "2023-06-29T06:25:16.510Z"
   },
   {
    "duration": 9,
    "start_time": "2023-06-29T06:25:35.655Z"
   },
   {
    "duration": 3,
    "start_time": "2023-06-29T06:25:45.170Z"
   },
   {
    "duration": 7,
    "start_time": "2023-06-29T06:25:45.175Z"
   },
   {
    "duration": 62,
    "start_time": "2023-06-29T06:25:45.184Z"
   },
   {
    "duration": 14,
    "start_time": "2023-06-29T06:25:45.248Z"
   },
   {
    "duration": 24,
    "start_time": "2023-06-29T06:25:45.263Z"
   },
   {
    "duration": 6,
    "start_time": "2023-06-29T06:25:45.288Z"
   },
   {
    "duration": 14,
    "start_time": "2023-06-29T06:25:45.295Z"
   },
   {
    "duration": 17,
    "start_time": "2023-06-29T06:25:45.310Z"
   },
   {
    "duration": 15,
    "start_time": "2023-06-29T06:25:45.329Z"
   },
   {
    "duration": 10,
    "start_time": "2023-06-29T06:25:45.345Z"
   },
   {
    "duration": 19,
    "start_time": "2023-06-29T06:25:45.356Z"
   },
   {
    "duration": 8,
    "start_time": "2023-06-29T06:25:45.377Z"
   },
   {
    "duration": 24,
    "start_time": "2023-06-29T06:25:45.387Z"
   },
   {
    "duration": 13,
    "start_time": "2023-06-29T06:25:45.412Z"
   },
   {
    "duration": 29,
    "start_time": "2023-06-29T06:25:45.426Z"
   },
   {
    "duration": 25,
    "start_time": "2023-06-29T06:25:45.457Z"
   },
   {
    "duration": 20,
    "start_time": "2023-06-29T06:25:45.483Z"
   },
   {
    "duration": 5,
    "start_time": "2023-06-29T06:25:45.504Z"
   },
   {
    "duration": 295,
    "start_time": "2023-06-29T06:25:45.511Z"
   },
   {
    "duration": 276,
    "start_time": "2023-06-29T06:25:45.808Z"
   },
   {
    "duration": 12,
    "start_time": "2023-06-29T06:25:46.085Z"
   },
   {
    "duration": 1956,
    "start_time": "2023-06-29T06:25:46.099Z"
   },
   {
    "duration": 13,
    "start_time": "2023-06-29T06:25:48.056Z"
   },
   {
    "duration": 231,
    "start_time": "2023-06-29T06:25:48.072Z"
   },
   {
    "duration": 197,
    "start_time": "2023-06-29T06:25:48.304Z"
   },
   {
    "duration": 241,
    "start_time": "2023-06-29T06:25:48.503Z"
   },
   {
    "duration": 5,
    "start_time": "2023-06-29T06:25:48.745Z"
   },
   {
    "duration": 1437,
    "start_time": "2023-06-29T06:25:48.752Z"
   },
   {
    "duration": 9,
    "start_time": "2023-06-29T06:25:50.191Z"
   },
   {
    "duration": 11,
    "start_time": "2023-06-29T06:25:50.201Z"
   },
   {
    "duration": 17,
    "start_time": "2023-06-29T06:25:50.213Z"
   },
   {
    "duration": 15,
    "start_time": "2023-06-29T06:25:50.232Z"
   },
   {
    "duration": 460,
    "start_time": "2023-06-29T06:25:50.267Z"
   },
   {
    "duration": 14,
    "start_time": "2023-06-29T06:25:50.729Z"
   },
   {
    "duration": 20,
    "start_time": "2023-06-29T06:25:50.745Z"
   },
   {
    "duration": 22,
    "start_time": "2023-06-29T06:25:50.766Z"
   },
   {
    "duration": 355,
    "start_time": "2023-06-29T06:25:50.790Z"
   },
   {
    "duration": 335,
    "start_time": "2023-06-29T06:25:51.147Z"
   },
   {
    "duration": 3,
    "start_time": "2023-06-29T06:25:51.484Z"
   },
   {
    "duration": 10,
    "start_time": "2023-06-29T06:25:51.489Z"
   },
   {
    "duration": 374,
    "start_time": "2023-06-29T06:25:51.501Z"
   },
   {
    "duration": 8,
    "start_time": "2023-06-29T06:25:51.877Z"
   },
   {
    "duration": 20,
    "start_time": "2023-06-29T06:25:51.886Z"
   },
   {
    "duration": 1082,
    "start_time": "2023-06-29T06:29:04.843Z"
   },
   {
    "duration": 3,
    "start_time": "2023-06-29T06:33:09.714Z"
   },
   {
    "duration": 4,
    "start_time": "2023-06-29T06:33:09.719Z"
   },
   {
    "duration": 55,
    "start_time": "2023-06-29T06:33:09.724Z"
   },
   {
    "duration": 14,
    "start_time": "2023-06-29T06:33:09.782Z"
   },
   {
    "duration": 28,
    "start_time": "2023-06-29T06:33:09.797Z"
   },
   {
    "duration": 17,
    "start_time": "2023-06-29T06:33:09.826Z"
   },
   {
    "duration": 28,
    "start_time": "2023-06-29T06:33:09.845Z"
   },
   {
    "duration": 44,
    "start_time": "2023-06-29T06:33:09.874Z"
   },
   {
    "duration": 6,
    "start_time": "2023-06-29T06:33:09.920Z"
   },
   {
    "duration": 15,
    "start_time": "2023-06-29T06:33:09.928Z"
   },
   {
    "duration": 40,
    "start_time": "2023-06-29T06:33:09.945Z"
   },
   {
    "duration": 6,
    "start_time": "2023-06-29T06:33:09.987Z"
   },
   {
    "duration": 42,
    "start_time": "2023-06-29T06:33:09.994Z"
   },
   {
    "duration": 14,
    "start_time": "2023-06-29T06:33:10.037Z"
   },
   {
    "duration": 22,
    "start_time": "2023-06-29T06:33:10.053Z"
   },
   {
    "duration": 21,
    "start_time": "2023-06-29T06:33:10.077Z"
   },
   {
    "duration": 20,
    "start_time": "2023-06-29T06:33:10.100Z"
   },
   {
    "duration": 4,
    "start_time": "2023-06-29T06:33:10.122Z"
   },
   {
    "duration": 339,
    "start_time": "2023-06-29T06:33:10.128Z"
   },
   {
    "duration": 271,
    "start_time": "2023-06-29T06:33:10.468Z"
   },
   {
    "duration": 12,
    "start_time": "2023-06-29T06:33:10.740Z"
   },
   {
    "duration": 1965,
    "start_time": "2023-06-29T06:33:10.754Z"
   },
   {
    "duration": 6,
    "start_time": "2023-06-29T06:33:12.721Z"
   },
   {
    "duration": 235,
    "start_time": "2023-06-29T06:33:12.728Z"
   },
   {
    "duration": 204,
    "start_time": "2023-06-29T06:33:12.965Z"
   },
   {
    "duration": 244,
    "start_time": "2023-06-29T06:33:13.170Z"
   },
   {
    "duration": 5,
    "start_time": "2023-06-29T06:33:13.416Z"
   },
   {
    "duration": 1669,
    "start_time": "2023-06-29T06:33:13.424Z"
   },
   {
    "duration": 10,
    "start_time": "2023-06-29T06:33:15.094Z"
   },
   {
    "duration": 30,
    "start_time": "2023-06-29T06:33:15.105Z"
   },
   {
    "duration": 19,
    "start_time": "2023-06-29T06:33:15.136Z"
   },
   {
    "duration": 22,
    "start_time": "2023-06-29T06:33:15.156Z"
   },
   {
    "duration": 281,
    "start_time": "2023-06-29T06:33:15.179Z"
   },
   {
    "duration": 13,
    "start_time": "2023-06-29T06:33:15.461Z"
   },
   {
    "duration": 5,
    "start_time": "2023-06-29T06:33:15.476Z"
   },
   {
    "duration": 12,
    "start_time": "2023-06-29T06:33:15.482Z"
   },
   {
    "duration": 340,
    "start_time": "2023-06-29T06:33:15.495Z"
   },
   {
    "duration": 331,
    "start_time": "2023-06-29T06:33:15.837Z"
   },
   {
    "duration": 3,
    "start_time": "2023-06-29T06:33:16.170Z"
   },
   {
    "duration": 11,
    "start_time": "2023-06-29T06:33:16.174Z"
   },
   {
    "duration": 367,
    "start_time": "2023-06-29T06:33:16.187Z"
   },
   {
    "duration": 15,
    "start_time": "2023-06-29T06:33:16.555Z"
   },
   {
    "duration": 15,
    "start_time": "2023-06-29T06:33:16.572Z"
   },
   {
    "duration": 9,
    "start_time": "2023-06-29T06:33:51.816Z"
   },
   {
    "duration": 3,
    "start_time": "2023-06-29T06:39:42.676Z"
   },
   {
    "duration": 3,
    "start_time": "2023-06-29T06:39:42.682Z"
   },
   {
    "duration": 49,
    "start_time": "2023-06-29T06:39:42.687Z"
   },
   {
    "duration": 15,
    "start_time": "2023-06-29T06:39:42.738Z"
   },
   {
    "duration": 27,
    "start_time": "2023-06-29T06:39:42.755Z"
   },
   {
    "duration": 7,
    "start_time": "2023-06-29T06:39:42.784Z"
   },
   {
    "duration": 10,
    "start_time": "2023-06-29T06:39:42.793Z"
   },
   {
    "duration": 16,
    "start_time": "2023-06-29T06:39:42.804Z"
   },
   {
    "duration": 6,
    "start_time": "2023-06-29T06:39:42.822Z"
   },
   {
    "duration": 7,
    "start_time": "2023-06-29T06:39:42.830Z"
   },
   {
    "duration": 38,
    "start_time": "2023-06-29T06:39:42.839Z"
   },
   {
    "duration": 7,
    "start_time": "2023-06-29T06:39:42.879Z"
   },
   {
    "duration": 34,
    "start_time": "2023-06-29T06:39:42.887Z"
   },
   {
    "duration": 13,
    "start_time": "2023-06-29T06:39:42.924Z"
   },
   {
    "duration": 31,
    "start_time": "2023-06-29T06:39:42.938Z"
   },
   {
    "duration": 17,
    "start_time": "2023-06-29T06:39:42.971Z"
   },
   {
    "duration": 18,
    "start_time": "2023-06-29T06:39:42.990Z"
   },
   {
    "duration": 4,
    "start_time": "2023-06-29T06:39:43.009Z"
   },
   {
    "duration": 297,
    "start_time": "2023-06-29T06:39:43.014Z"
   },
   {
    "duration": 267,
    "start_time": "2023-06-29T06:39:43.313Z"
   },
   {
    "duration": 12,
    "start_time": "2023-06-29T06:39:43.582Z"
   },
   {
    "duration": 1989,
    "start_time": "2023-06-29T06:39:43.596Z"
   },
   {
    "duration": 6,
    "start_time": "2023-06-29T06:39:45.587Z"
   },
   {
    "duration": 244,
    "start_time": "2023-06-29T06:39:45.595Z"
   },
   {
    "duration": 202,
    "start_time": "2023-06-29T06:39:45.841Z"
   },
   {
    "duration": 246,
    "start_time": "2023-06-29T06:39:46.045Z"
   },
   {
    "duration": 5,
    "start_time": "2023-06-29T06:39:46.292Z"
   },
   {
    "duration": 1609,
    "start_time": "2023-06-29T06:39:46.299Z"
   },
   {
    "duration": 10,
    "start_time": "2023-06-29T06:39:47.910Z"
   },
   {
    "duration": 10,
    "start_time": "2023-06-29T06:39:47.922Z"
   },
   {
    "duration": 10,
    "start_time": "2023-06-29T06:39:47.934Z"
   },
   {
    "duration": 11,
    "start_time": "2023-06-29T06:39:47.969Z"
   },
   {
    "duration": 285,
    "start_time": "2023-06-29T06:39:47.981Z"
   },
   {
    "duration": 13,
    "start_time": "2023-06-29T06:39:48.268Z"
   },
   {
    "duration": 4,
    "start_time": "2023-06-29T06:39:48.283Z"
   },
   {
    "duration": 5,
    "start_time": "2023-06-29T06:39:48.288Z"
   },
   {
    "duration": 349,
    "start_time": "2023-06-29T06:39:48.294Z"
   },
   {
    "duration": 326,
    "start_time": "2023-06-29T06:39:48.645Z"
   },
   {
    "duration": 2,
    "start_time": "2023-06-29T06:39:48.973Z"
   },
   {
    "duration": 10,
    "start_time": "2023-06-29T06:39:48.977Z"
   },
   {
    "duration": 374,
    "start_time": "2023-06-29T06:39:48.991Z"
   },
   {
    "duration": 9,
    "start_time": "2023-06-29T06:39:49.366Z"
   },
   {
    "duration": 8,
    "start_time": "2023-06-29T06:39:49.376Z"
   },
   {
    "duration": 1518,
    "start_time": "2023-06-29T12:03:03.697Z"
   },
   {
    "duration": 4,
    "start_time": "2023-06-29T12:03:05.217Z"
   },
   {
    "duration": 227,
    "start_time": "2023-06-29T12:03:05.223Z"
   },
   {
    "duration": 16,
    "start_time": "2023-06-29T12:03:05.452Z"
   },
   {
    "duration": 49,
    "start_time": "2023-06-29T12:03:05.473Z"
   },
   {
    "duration": 5,
    "start_time": "2023-06-29T12:03:05.525Z"
   },
   {
    "duration": 13,
    "start_time": "2023-06-29T12:03:05.531Z"
   },
   {
    "duration": 34,
    "start_time": "2023-06-29T12:03:05.546Z"
   },
   {
    "duration": 8,
    "start_time": "2023-06-29T12:03:05.582Z"
   },
   {
    "duration": 32,
    "start_time": "2023-06-29T12:03:05.592Z"
   },
   {
    "duration": 22,
    "start_time": "2023-06-29T12:03:05.627Z"
   },
   {
    "duration": 6,
    "start_time": "2023-06-29T12:03:05.651Z"
   },
   {
    "duration": 51,
    "start_time": "2023-06-29T12:03:05.658Z"
   },
   {
    "duration": 16,
    "start_time": "2023-06-29T12:03:05.713Z"
   },
   {
    "duration": 22,
    "start_time": "2023-06-29T12:03:05.731Z"
   },
   {
    "duration": 33,
    "start_time": "2023-06-29T12:03:05.755Z"
   },
   {
    "duration": 33,
    "start_time": "2023-06-29T12:03:05.799Z"
   },
   {
    "duration": 5,
    "start_time": "2023-06-29T12:03:05.834Z"
   },
   {
    "duration": 394,
    "start_time": "2023-06-29T12:03:05.840Z"
   },
   {
    "duration": 324,
    "start_time": "2023-06-29T12:03:06.236Z"
   },
   {
    "duration": 38,
    "start_time": "2023-06-29T12:03:06.562Z"
   },
   {
    "duration": 2322,
    "start_time": "2023-06-29T12:03:06.601Z"
   },
   {
    "duration": 7,
    "start_time": "2023-06-29T12:03:08.925Z"
   },
   {
    "duration": 338,
    "start_time": "2023-06-29T12:03:08.934Z"
   },
   {
    "duration": 234,
    "start_time": "2023-06-29T12:03:09.279Z"
   },
   {
    "duration": 297,
    "start_time": "2023-06-29T12:03:09.514Z"
   },
   {
    "duration": 5,
    "start_time": "2023-06-29T12:03:09.812Z"
   },
   {
    "duration": 1794,
    "start_time": "2023-06-29T12:03:09.819Z"
   },
   {
    "duration": 10,
    "start_time": "2023-06-29T12:03:11.615Z"
   },
   {
    "duration": 11,
    "start_time": "2023-06-29T12:03:11.626Z"
   },
   {
    "duration": 44,
    "start_time": "2023-06-29T12:03:11.639Z"
   },
   {
    "duration": 12,
    "start_time": "2023-06-29T12:03:11.685Z"
   },
   {
    "duration": 316,
    "start_time": "2023-06-29T12:03:11.701Z"
   },
   {
    "duration": 13,
    "start_time": "2023-06-29T12:03:12.019Z"
   },
   {
    "duration": 3,
    "start_time": "2023-06-29T12:03:12.034Z"
   },
   {
    "duration": 6,
    "start_time": "2023-06-29T12:03:12.039Z"
   },
   {
    "duration": 380,
    "start_time": "2023-06-29T12:03:12.046Z"
   },
   {
    "duration": 386,
    "start_time": "2023-06-29T12:03:12.428Z"
   },
   {
    "duration": 4,
    "start_time": "2023-06-29T12:03:12.815Z"
   },
   {
    "duration": 15,
    "start_time": "2023-06-29T12:03:12.821Z"
   },
   {
    "duration": 466,
    "start_time": "2023-06-29T12:03:12.840Z"
   },
   {
    "duration": 8,
    "start_time": "2023-06-29T12:03:13.308Z"
   },
   {
    "duration": 9,
    "start_time": "2023-06-29T12:03:13.317Z"
   }
  ],
  "kernelspec": {
   "display_name": "Python 3 (ipykernel)",
   "language": "python",
   "name": "python3"
  },
  "language_info": {
   "codemirror_mode": {
    "name": "ipython",
    "version": 3
   },
   "file_extension": ".py",
   "mimetype": "text/x-python",
   "name": "python",
   "nbconvert_exporter": "python",
   "pygments_lexer": "ipython3",
   "version": "3.9.5"
  },
  "toc": {
   "base_numbering": 1,
   "nav_menu": {},
   "number_sections": true,
   "sideBar": true,
   "skip_h1_title": true,
   "title_cell": "Table of Contents",
   "title_sidebar": "Contents",
   "toc_cell": false,
   "toc_position": {},
   "toc_section_display": true,
   "toc_window_display": false
  }
 },
 "nbformat": 4,
 "nbformat_minor": 2
}
