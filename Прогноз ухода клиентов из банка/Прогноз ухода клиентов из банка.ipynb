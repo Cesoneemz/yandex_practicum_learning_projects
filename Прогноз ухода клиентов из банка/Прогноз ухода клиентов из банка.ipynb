{
 "cells": [
  {
   "cell_type": "markdown",
   "metadata": {
    "toc": true
   },
   "source": [
    "<h1>Содержание<span class=\"tocSkip\"></span></h1>\n",
    "<div class=\"toc\"><ul class=\"toc-item\"><li><span><a href=\"#Подготовка-данных\" data-toc-modified-id=\"Подготовка-данных-1\"><span class=\"toc-item-num\">1&nbsp;&nbsp;</span>Подготовка данных</a></span><ul class=\"toc-item\"><li><span><a href=\"#Стилистические-изменения\" data-toc-modified-id=\"Стилистические-изменения-1.1\"><span class=\"toc-item-num\">1.1&nbsp;&nbsp;</span>Стилистические изменения</a></span></li><li><span><a href=\"#Проверим-на-дубликаты\" data-toc-modified-id=\"Проверим-на-дубликаты-1.2\"><span class=\"toc-item-num\">1.2&nbsp;&nbsp;</span>Проверим на дубликаты</a></span></li><li><span><a href=\"#Заполнение-пропусков\" data-toc-modified-id=\"Заполнение-пропусков-1.3\"><span class=\"toc-item-num\">1.3&nbsp;&nbsp;</span>Заполнение пропусков</a></span></li><li><span><a href=\"#Приведение-столбцов\" data-toc-modified-id=\"Приведение-столбцов-1.4\"><span class=\"toc-item-num\">1.4&nbsp;&nbsp;</span>Приведение столбцов</a></span></li></ul></li><li><span><a href=\"#Исследование-задачи\" data-toc-modified-id=\"Исследование-задачи-2\"><span class=\"toc-item-num\">2&nbsp;&nbsp;</span>Исследование задачи</a></span><ul class=\"toc-item\"><li><span><a href=\"#Формирование-выборок\" data-toc-modified-id=\"Формирование-выборок-2.1\"><span class=\"toc-item-num\">2.1&nbsp;&nbsp;</span>Формирование выборок</a></span></li><li><span><a href=\"#Масштабирование\" data-toc-modified-id=\"Масштабирование-2.2\"><span class=\"toc-item-num\">2.2&nbsp;&nbsp;</span>Масштабирование</a></span></li><li><span><a href=\"#Обучение-и-исследование-модели-без-учета-дисбаланса\" data-toc-modified-id=\"Обучение-и-исследование-модели-без-учета-дисбаланса-2.3\"><span class=\"toc-item-num\">2.3&nbsp;&nbsp;</span>Обучение и исследование модели без учета дисбаланса</a></span><ul class=\"toc-item\"><li><span><a href=\"#Дерево-решений\" data-toc-modified-id=\"Дерево-решений-2.3.1\"><span class=\"toc-item-num\">2.3.1&nbsp;&nbsp;</span>Дерево решений</a></span></li><li><span><a href=\"#Случайный-лес\" data-toc-modified-id=\"Случайный-лес-2.3.2\"><span class=\"toc-item-num\">2.3.2&nbsp;&nbsp;</span>Случайный лес</a></span></li><li><span><a href=\"#Логистическая-регрессия\" data-toc-modified-id=\"Логистическая-регрессия-2.3.3\"><span class=\"toc-item-num\">2.3.3&nbsp;&nbsp;</span>Логистическая регрессия</a></span></li></ul></li></ul></li><li><span><a href=\"#Борьба-с-дисбалансом\" data-toc-modified-id=\"Борьба-с-дисбалансом-3\"><span class=\"toc-item-num\">3&nbsp;&nbsp;</span>Борьба с дисбалансом</a></span><ul class=\"toc-item\"><li><span><a href=\"#Взвешивание-классов\" data-toc-modified-id=\"Взвешивание-классов-3.1\"><span class=\"toc-item-num\">3.1&nbsp;&nbsp;</span>Взвешивание классов</a></span><ul class=\"toc-item\"><li><span><a href=\"#Дерево-решений\" data-toc-modified-id=\"Дерево-решений-3.1.1\"><span class=\"toc-item-num\">3.1.1&nbsp;&nbsp;</span>Дерево решений</a></span></li><li><span><a href=\"#Случайный-лес\" data-toc-modified-id=\"Случайный-лес-3.1.2\"><span class=\"toc-item-num\">3.1.2&nbsp;&nbsp;</span>Случайный лес</a></span></li><li><span><a href=\"#Логистическая-регрессия\" data-toc-modified-id=\"Логистическая-регрессия-3.1.3\"><span class=\"toc-item-num\">3.1.3&nbsp;&nbsp;</span>Логистическая регрессия</a></span></li></ul></li><li><span><a href=\"#Уменьшение-выборки\" data-toc-modified-id=\"Уменьшение-выборки-3.2\"><span class=\"toc-item-num\">3.2&nbsp;&nbsp;</span>Уменьшение выборки</a></span><ul class=\"toc-item\"><li><span><a href=\"#Функция-downsample\" data-toc-modified-id=\"Функция-downsample-3.2.1\"><span class=\"toc-item-num\">3.2.1&nbsp;&nbsp;</span>Функция downsample</a></span></li><li><span><a href=\"#Дерево-решений\" data-toc-modified-id=\"Дерево-решений-3.2.2\"><span class=\"toc-item-num\">3.2.2&nbsp;&nbsp;</span>Дерево решений</a></span></li><li><span><a href=\"#Случайный-лес\" data-toc-modified-id=\"Случайный-лес-3.2.3\"><span class=\"toc-item-num\">3.2.3&nbsp;&nbsp;</span>Случайный лес</a></span></li><li><span><a href=\"#Логистическая-регрессия\" data-toc-modified-id=\"Логистическая-регрессия-3.2.4\"><span class=\"toc-item-num\">3.2.4&nbsp;&nbsp;</span>Логистическая регрессия</a></span></li></ul></li><li><span><a href=\"#Увеличение-выборки\" data-toc-modified-id=\"Увеличение-выборки-3.3\"><span class=\"toc-item-num\">3.3&nbsp;&nbsp;</span>Увеличение выборки</a></span><ul class=\"toc-item\"><li><span><a href=\"#Функция-upsample\" data-toc-modified-id=\"Функция-upsample-3.3.1\"><span class=\"toc-item-num\">3.3.1&nbsp;&nbsp;</span>Функция upsample</a></span></li><li><span><a href=\"#Дерево-решений\" data-toc-modified-id=\"Дерево-решений-3.3.2\"><span class=\"toc-item-num\">3.3.2&nbsp;&nbsp;</span>Дерево решений</a></span></li><li><span><a href=\"#Случайный-лес\" data-toc-modified-id=\"Случайный-лес-3.3.3\"><span class=\"toc-item-num\">3.3.3&nbsp;&nbsp;</span>Случайный лес</a></span></li><li><span><a href=\"#Логистическая-регрессия\" data-toc-modified-id=\"Логистическая-регрессия-3.3.4\"><span class=\"toc-item-num\">3.3.4&nbsp;&nbsp;</span>Логистическая регрессия</a></span></li></ul></li><li><span><a href=\"#Исследование-полученных-данных\" data-toc-modified-id=\"Исследование-полученных-данных-3.4\"><span class=\"toc-item-num\">3.4&nbsp;&nbsp;</span>Исследование полученных данных</a></span></li></ul></li><li><span><a href=\"#Тестирование-модели\" data-toc-modified-id=\"Тестирование-модели-4\"><span class=\"toc-item-num\">4&nbsp;&nbsp;</span>Тестирование модели</a></span></li><li><span><a href=\"#Итоговый-вывод\" data-toc-modified-id=\"Итоговый-вывод-5\"><span class=\"toc-item-num\">5&nbsp;&nbsp;</span>Итоговый вывод</a></span></li><li><span><a href=\"#Чек-лист-готовности-проекта\" data-toc-modified-id=\"Чек-лист-готовности-проекта-6\"><span class=\"toc-item-num\">6&nbsp;&nbsp;</span>Чек-лист готовности проекта</a></span></li></ul></div>"
   ]
  },
  {
   "cell_type": "markdown",
   "metadata": {},
   "source": [
    "# Отток клиентов"
   ]
  },
  {
   "cell_type": "markdown",
   "metadata": {},
   "source": [
    "Из «Бета-Банка» стали уходить клиенты. Каждый месяц. Немного, но заметно. Банковские маркетологи посчитали: сохранять текущих клиентов дешевле, чем привлекать новых.\n",
    "\n",
    "Нужно спрогнозировать, уйдёт клиент из банка в ближайшее время или нет. Вам предоставлены исторические данные о поведении клиентов и расторжении договоров с банком. \n",
    "\n",
    "Постройте модель с предельно большим значением *F1*-меры. Чтобы сдать проект успешно, нужно довести метрику до 0.59. Проверьте *F1*-меру на тестовой выборке самостоятельно.\n",
    "\n",
    "Дополнительно измеряйте *AUC-ROC*, сравнивайте её значение с *F1*-мерой.\n",
    "\n",
    "Источник данных: [https://www.kaggle.com/barelydedicated/bank-customer-churn-modeling](https://www.kaggle.com/barelydedicated/bank-customer-churn-modeling)"
   ]
  },
  {
   "cell_type": "markdown",
   "metadata": {},
   "source": [
    "## Подготовка данных"
   ]
  },
  {
   "cell_type": "code",
   "execution_count": 1,
   "metadata": {},
   "outputs": [],
   "source": [
    "import pandas as pd\n",
    "import re\n",
    "import matplotlib.pyplot as plt\n",
    "\n",
    "from sklearn.model_selection import train_test_split\n",
    "\n",
    "from sklearn.preprocessing import StandardScaler\n",
    "from sklearn.utils import shuffle\n",
    "\n",
    "from sklearn.tree import DecisionTreeClassifier\n",
    "from sklearn.ensemble import RandomForestClassifier\n",
    "from sklearn.linear_model import LogisticRegression\n",
    "from sklearn.dummy import DummyClassifier\n",
    "\n",
    "from sklearn.metrics import accuracy_score\n",
    "from sklearn.metrics import recall_score\n",
    "from sklearn.metrics import precision_score\n",
    "from sklearn.metrics import precision_recall_curve\n",
    "from sklearn.metrics import roc_curve\n",
    "from sklearn.metrics import roc_auc_score\n",
    "from sklearn.metrics import r2_score\n",
    "from sklearn.metrics import plot_confusion_matrix\n",
    "from sklearn.metrics import f1_score\n",
    "from sklearn.metrics import mean_squared_error\n",
    "from sklearn.metrics import mean_absolute_error\n",
    "from sklearn.metrics import classification_report\n",
    "\n",
    "import warnings\n",
    "warnings.filterwarnings(\"ignore\")"
   ]
  },
  {
   "cell_type": "code",
   "execution_count": 2,
   "metadata": {},
   "outputs": [],
   "source": [
    "data = pd.read_csv('/datasets/Churn.csv')"
   ]
  },
  {
   "cell_type": "code",
   "execution_count": 3,
   "metadata": {
    "scrolled": true
   },
   "outputs": [
    {
     "data": {
      "text/html": [
       "<div>\n",
       "<style scoped>\n",
       "    .dataframe tbody tr th:only-of-type {\n",
       "        vertical-align: middle;\n",
       "    }\n",
       "\n",
       "    .dataframe tbody tr th {\n",
       "        vertical-align: top;\n",
       "    }\n",
       "\n",
       "    .dataframe thead th {\n",
       "        text-align: right;\n",
       "    }\n",
       "</style>\n",
       "<table border=\"1\" class=\"dataframe\">\n",
       "  <thead>\n",
       "    <tr style=\"text-align: right;\">\n",
       "      <th></th>\n",
       "      <th>RowNumber</th>\n",
       "      <th>CustomerId</th>\n",
       "      <th>Surname</th>\n",
       "      <th>CreditScore</th>\n",
       "      <th>Geography</th>\n",
       "      <th>Gender</th>\n",
       "      <th>Age</th>\n",
       "      <th>Tenure</th>\n",
       "      <th>Balance</th>\n",
       "      <th>NumOfProducts</th>\n",
       "      <th>HasCrCard</th>\n",
       "      <th>IsActiveMember</th>\n",
       "      <th>EstimatedSalary</th>\n",
       "      <th>Exited</th>\n",
       "    </tr>\n",
       "  </thead>\n",
       "  <tbody>\n",
       "    <tr>\n",
       "      <th>0</th>\n",
       "      <td>1</td>\n",
       "      <td>15634602</td>\n",
       "      <td>Hargrave</td>\n",
       "      <td>619</td>\n",
       "      <td>France</td>\n",
       "      <td>Female</td>\n",
       "      <td>42</td>\n",
       "      <td>2.0</td>\n",
       "      <td>0.00</td>\n",
       "      <td>1</td>\n",
       "      <td>1</td>\n",
       "      <td>1</td>\n",
       "      <td>101348.88</td>\n",
       "      <td>1</td>\n",
       "    </tr>\n",
       "    <tr>\n",
       "      <th>1</th>\n",
       "      <td>2</td>\n",
       "      <td>15647311</td>\n",
       "      <td>Hill</td>\n",
       "      <td>608</td>\n",
       "      <td>Spain</td>\n",
       "      <td>Female</td>\n",
       "      <td>41</td>\n",
       "      <td>1.0</td>\n",
       "      <td>83807.86</td>\n",
       "      <td>1</td>\n",
       "      <td>0</td>\n",
       "      <td>1</td>\n",
       "      <td>112542.58</td>\n",
       "      <td>0</td>\n",
       "    </tr>\n",
       "    <tr>\n",
       "      <th>2</th>\n",
       "      <td>3</td>\n",
       "      <td>15619304</td>\n",
       "      <td>Onio</td>\n",
       "      <td>502</td>\n",
       "      <td>France</td>\n",
       "      <td>Female</td>\n",
       "      <td>42</td>\n",
       "      <td>8.0</td>\n",
       "      <td>159660.80</td>\n",
       "      <td>3</td>\n",
       "      <td>1</td>\n",
       "      <td>0</td>\n",
       "      <td>113931.57</td>\n",
       "      <td>1</td>\n",
       "    </tr>\n",
       "    <tr>\n",
       "      <th>3</th>\n",
       "      <td>4</td>\n",
       "      <td>15701354</td>\n",
       "      <td>Boni</td>\n",
       "      <td>699</td>\n",
       "      <td>France</td>\n",
       "      <td>Female</td>\n",
       "      <td>39</td>\n",
       "      <td>1.0</td>\n",
       "      <td>0.00</td>\n",
       "      <td>2</td>\n",
       "      <td>0</td>\n",
       "      <td>0</td>\n",
       "      <td>93826.63</td>\n",
       "      <td>0</td>\n",
       "    </tr>\n",
       "    <tr>\n",
       "      <th>4</th>\n",
       "      <td>5</td>\n",
       "      <td>15737888</td>\n",
       "      <td>Mitchell</td>\n",
       "      <td>850</td>\n",
       "      <td>Spain</td>\n",
       "      <td>Female</td>\n",
       "      <td>43</td>\n",
       "      <td>2.0</td>\n",
       "      <td>125510.82</td>\n",
       "      <td>1</td>\n",
       "      <td>1</td>\n",
       "      <td>1</td>\n",
       "      <td>79084.10</td>\n",
       "      <td>0</td>\n",
       "    </tr>\n",
       "  </tbody>\n",
       "</table>\n",
       "</div>"
      ],
      "text/plain": [
       "   RowNumber  CustomerId   Surname  CreditScore Geography  Gender  Age  \\\n",
       "0          1    15634602  Hargrave          619    France  Female   42   \n",
       "1          2    15647311      Hill          608     Spain  Female   41   \n",
       "2          3    15619304      Onio          502    France  Female   42   \n",
       "3          4    15701354      Boni          699    France  Female   39   \n",
       "4          5    15737888  Mitchell          850     Spain  Female   43   \n",
       "\n",
       "   Tenure    Balance  NumOfProducts  HasCrCard  IsActiveMember  \\\n",
       "0     2.0       0.00              1          1               1   \n",
       "1     1.0   83807.86              1          0               1   \n",
       "2     8.0  159660.80              3          1               0   \n",
       "3     1.0       0.00              2          0               0   \n",
       "4     2.0  125510.82              1          1               1   \n",
       "\n",
       "   EstimatedSalary  Exited  \n",
       "0        101348.88       1  \n",
       "1        112542.58       0  \n",
       "2        113931.57       1  \n",
       "3         93826.63       0  \n",
       "4         79084.10       0  "
      ]
     },
     "execution_count": 3,
     "metadata": {},
     "output_type": "execute_result"
    }
   ],
   "source": [
    "data.head()"
   ]
  },
  {
   "cell_type": "code",
   "execution_count": 4,
   "metadata": {
    "scrolled": true
   },
   "outputs": [
    {
     "name": "stdout",
     "output_type": "stream",
     "text": [
      "<class 'pandas.core.frame.DataFrame'>\n",
      "RangeIndex: 10000 entries, 0 to 9999\n",
      "Data columns (total 14 columns):\n",
      " #   Column           Non-Null Count  Dtype  \n",
      "---  ------           --------------  -----  \n",
      " 0   RowNumber        10000 non-null  int64  \n",
      " 1   CustomerId       10000 non-null  int64  \n",
      " 2   Surname          10000 non-null  object \n",
      " 3   CreditScore      10000 non-null  int64  \n",
      " 4   Geography        10000 non-null  object \n",
      " 5   Gender           10000 non-null  object \n",
      " 6   Age              10000 non-null  int64  \n",
      " 7   Tenure           9091 non-null   float64\n",
      " 8   Balance          10000 non-null  float64\n",
      " 9   NumOfProducts    10000 non-null  int64  \n",
      " 10  HasCrCard        10000 non-null  int64  \n",
      " 11  IsActiveMember   10000 non-null  int64  \n",
      " 12  EstimatedSalary  10000 non-null  float64\n",
      " 13  Exited           10000 non-null  int64  \n",
      "dtypes: float64(3), int64(8), object(3)\n",
      "memory usage: 1.1+ MB\n"
     ]
    }
   ],
   "source": [
    "data.info()"
   ]
  },
  {
   "cell_type": "markdown",
   "metadata": {},
   "source": [
    "**Признаки**\n",
    "* `RowNumber` — индекс строки в данных\n",
    "* `CustomerId` — уникальный идентификатор клиента\n",
    "* `Surname` — фамилия\n",
    "* `CreditScore` — кредитный рейтинг\n",
    "* `Geography` — страна проживания\n",
    "* `Gender` — пол\n",
    "* `Age` — возраст\n",
    "* `Tenure` — сколько лет человек является клиентом банка\n",
    "* `Balance` — баланс на счёте\n",
    "* `NumOfProducts` — количество продуктов банка, используемых клиентом\n",
    "* `HasCrCard` — наличие кредитной карты\n",
    "* `IsActiveMember` — активность клиента\n",
    "* `EstimatedSalary` — предполагаемая зарплата\n",
    "\n",
    "**Целевой признак**\n",
    "* `Exited` — факт ухода клиента"
   ]
  },
  {
   "cell_type": "markdown",
   "metadata": {},
   "source": [
    "### Стилистические изменения"
   ]
  },
  {
   "cell_type": "markdown",
   "metadata": {},
   "source": [
    "На мой взгляд, названия столбцов не соответствуют корректному неймингу данных в датасетах. Для удобства представления и дальнейшей работы с данными."
   ]
  },
  {
   "cell_type": "code",
   "execution_count": 5,
   "metadata": {},
   "outputs": [],
   "source": [
    "def camel_case_to_snake_case(string: str):\n",
    "    result = re.sub(r'(?<!^)(?=[A-Z])', '_', string).lower()\n",
    "    return result"
   ]
  },
  {
   "cell_type": "code",
   "execution_count": 6,
   "metadata": {
    "scrolled": true
   },
   "outputs": [
    {
     "data": {
      "text/plain": [
       "Index(['row_number', 'customer_id', 'surname', 'credit_score', 'geography',\n",
       "       'gender', 'age', 'tenure', 'balance', 'num_of_products', 'has_cr_card',\n",
       "       'is_active_member', 'estimated_salary', 'exited'],\n",
       "      dtype='object')"
      ]
     },
     "execution_count": 6,
     "metadata": {},
     "output_type": "execute_result"
    }
   ],
   "source": [
    "renamed_columns = {col: camel_case_to_snake_case(col) for col in data.columns}\n",
    "data = data.rename(columns=renamed_columns)\n",
    "data.columns"
   ]
  },
  {
   "cell_type": "markdown",
   "metadata": {},
   "source": [
    "### Проверим на дубликаты"
   ]
  },
  {
   "cell_type": "code",
   "execution_count": 7,
   "metadata": {},
   "outputs": [
    {
     "data": {
      "text/plain": [
       "0"
      ]
     },
     "execution_count": 7,
     "metadata": {},
     "output_type": "execute_result"
    }
   ],
   "source": [
    "data.duplicated().sum()"
   ]
  },
  {
   "cell_type": "markdown",
   "metadata": {},
   "source": [
    "Дубликатов не обнаружено"
   ]
  },
  {
   "cell_type": "markdown",
   "metadata": {},
   "source": [
    "### Заполнение пропусков"
   ]
  },
  {
   "cell_type": "code",
   "execution_count": 8,
   "metadata": {},
   "outputs": [
    {
     "data": {
      "text/plain": [
       "row_number            0\n",
       "customer_id           0\n",
       "surname               0\n",
       "credit_score          0\n",
       "geography             0\n",
       "gender                0\n",
       "age                   0\n",
       "tenure              909\n",
       "balance               0\n",
       "num_of_products       0\n",
       "has_cr_card           0\n",
       "is_active_member      0\n",
       "estimated_salary      0\n",
       "exited                0\n",
       "dtype: int64"
      ]
     },
     "execution_count": 8,
     "metadata": {},
     "output_type": "execute_result"
    }
   ],
   "source": [
    "data.isna().sum()"
   ]
  },
  {
   "cell_type": "markdown",
   "metadata": {},
   "source": [
    "В данных наблюдаются пропуски в столбце `Tenure`. Я считаю, что пропуски в данном столбце можно заполнить нулями, так как проупск означает то, что клиент не является клиентом банка, либо с начала пользования банком ещё не прошло года."
   ]
  },
  {
   "cell_type": "code",
   "execution_count": 9,
   "metadata": {},
   "outputs": [],
   "source": [
    "data['tenure'] = data['tenure'].fillna(data['tenure'].median())"
   ]
  },
  {
   "cell_type": "code",
   "execution_count": 10,
   "metadata": {},
   "outputs": [
    {
     "data": {
      "text/plain": [
       "row_number          0\n",
       "customer_id         0\n",
       "surname             0\n",
       "credit_score        0\n",
       "geography           0\n",
       "gender              0\n",
       "age                 0\n",
       "tenure              0\n",
       "balance             0\n",
       "num_of_products     0\n",
       "has_cr_card         0\n",
       "is_active_member    0\n",
       "estimated_salary    0\n",
       "exited              0\n",
       "dtype: int64"
      ]
     },
     "execution_count": 10,
     "metadata": {},
     "output_type": "execute_result"
    }
   ],
   "source": [
    "data.isna().sum()"
   ]
  },
  {
   "cell_type": "markdown",
   "metadata": {},
   "source": [
    "### Приведение столбцов"
   ]
  },
  {
   "cell_type": "markdown",
   "metadata": {},
   "source": [
    "Столбец `row_number` отражает количество строк во всем датафрейме и не несёт никакой логической нагрузки, кроме идентификации. Похожие функции выполняют столбцы `surname` и `customer_id`. Можно их удалить, без какой-либо потери в информации."
   ]
  },
  {
   "cell_type": "code",
   "execution_count": 11,
   "metadata": {},
   "outputs": [],
   "source": [
    "dropped = ['row_number', 'surname', 'customer_id']\n",
    "data = data.drop(dropped, axis=1)"
   ]
  },
  {
   "cell_type": "code",
   "execution_count": 12,
   "metadata": {},
   "outputs": [
    {
     "data": {
      "text/html": [
       "<div>\n",
       "<style scoped>\n",
       "    .dataframe tbody tr th:only-of-type {\n",
       "        vertical-align: middle;\n",
       "    }\n",
       "\n",
       "    .dataframe tbody tr th {\n",
       "        vertical-align: top;\n",
       "    }\n",
       "\n",
       "    .dataframe thead th {\n",
       "        text-align: right;\n",
       "    }\n",
       "</style>\n",
       "<table border=\"1\" class=\"dataframe\">\n",
       "  <thead>\n",
       "    <tr style=\"text-align: right;\">\n",
       "      <th></th>\n",
       "      <th>credit_score</th>\n",
       "      <th>geography</th>\n",
       "      <th>gender</th>\n",
       "      <th>age</th>\n",
       "      <th>tenure</th>\n",
       "      <th>balance</th>\n",
       "      <th>num_of_products</th>\n",
       "      <th>has_cr_card</th>\n",
       "      <th>is_active_member</th>\n",
       "      <th>estimated_salary</th>\n",
       "      <th>exited</th>\n",
       "    </tr>\n",
       "  </thead>\n",
       "  <tbody>\n",
       "    <tr>\n",
       "      <th>0</th>\n",
       "      <td>619</td>\n",
       "      <td>France</td>\n",
       "      <td>Female</td>\n",
       "      <td>42</td>\n",
       "      <td>2.0</td>\n",
       "      <td>0.00</td>\n",
       "      <td>1</td>\n",
       "      <td>1</td>\n",
       "      <td>1</td>\n",
       "      <td>101348.88</td>\n",
       "      <td>1</td>\n",
       "    </tr>\n",
       "    <tr>\n",
       "      <th>1</th>\n",
       "      <td>608</td>\n",
       "      <td>Spain</td>\n",
       "      <td>Female</td>\n",
       "      <td>41</td>\n",
       "      <td>1.0</td>\n",
       "      <td>83807.86</td>\n",
       "      <td>1</td>\n",
       "      <td>0</td>\n",
       "      <td>1</td>\n",
       "      <td>112542.58</td>\n",
       "      <td>0</td>\n",
       "    </tr>\n",
       "    <tr>\n",
       "      <th>2</th>\n",
       "      <td>502</td>\n",
       "      <td>France</td>\n",
       "      <td>Female</td>\n",
       "      <td>42</td>\n",
       "      <td>8.0</td>\n",
       "      <td>159660.80</td>\n",
       "      <td>3</td>\n",
       "      <td>1</td>\n",
       "      <td>0</td>\n",
       "      <td>113931.57</td>\n",
       "      <td>1</td>\n",
       "    </tr>\n",
       "    <tr>\n",
       "      <th>3</th>\n",
       "      <td>699</td>\n",
       "      <td>France</td>\n",
       "      <td>Female</td>\n",
       "      <td>39</td>\n",
       "      <td>1.0</td>\n",
       "      <td>0.00</td>\n",
       "      <td>2</td>\n",
       "      <td>0</td>\n",
       "      <td>0</td>\n",
       "      <td>93826.63</td>\n",
       "      <td>0</td>\n",
       "    </tr>\n",
       "    <tr>\n",
       "      <th>4</th>\n",
       "      <td>850</td>\n",
       "      <td>Spain</td>\n",
       "      <td>Female</td>\n",
       "      <td>43</td>\n",
       "      <td>2.0</td>\n",
       "      <td>125510.82</td>\n",
       "      <td>1</td>\n",
       "      <td>1</td>\n",
       "      <td>1</td>\n",
       "      <td>79084.10</td>\n",
       "      <td>0</td>\n",
       "    </tr>\n",
       "    <tr>\n",
       "      <th>...</th>\n",
       "      <td>...</td>\n",
       "      <td>...</td>\n",
       "      <td>...</td>\n",
       "      <td>...</td>\n",
       "      <td>...</td>\n",
       "      <td>...</td>\n",
       "      <td>...</td>\n",
       "      <td>...</td>\n",
       "      <td>...</td>\n",
       "      <td>...</td>\n",
       "      <td>...</td>\n",
       "    </tr>\n",
       "    <tr>\n",
       "      <th>9995</th>\n",
       "      <td>771</td>\n",
       "      <td>France</td>\n",
       "      <td>Male</td>\n",
       "      <td>39</td>\n",
       "      <td>5.0</td>\n",
       "      <td>0.00</td>\n",
       "      <td>2</td>\n",
       "      <td>1</td>\n",
       "      <td>0</td>\n",
       "      <td>96270.64</td>\n",
       "      <td>0</td>\n",
       "    </tr>\n",
       "    <tr>\n",
       "      <th>9996</th>\n",
       "      <td>516</td>\n",
       "      <td>France</td>\n",
       "      <td>Male</td>\n",
       "      <td>35</td>\n",
       "      <td>10.0</td>\n",
       "      <td>57369.61</td>\n",
       "      <td>1</td>\n",
       "      <td>1</td>\n",
       "      <td>1</td>\n",
       "      <td>101699.77</td>\n",
       "      <td>0</td>\n",
       "    </tr>\n",
       "    <tr>\n",
       "      <th>9997</th>\n",
       "      <td>709</td>\n",
       "      <td>France</td>\n",
       "      <td>Female</td>\n",
       "      <td>36</td>\n",
       "      <td>7.0</td>\n",
       "      <td>0.00</td>\n",
       "      <td>1</td>\n",
       "      <td>0</td>\n",
       "      <td>1</td>\n",
       "      <td>42085.58</td>\n",
       "      <td>1</td>\n",
       "    </tr>\n",
       "    <tr>\n",
       "      <th>9998</th>\n",
       "      <td>772</td>\n",
       "      <td>Germany</td>\n",
       "      <td>Male</td>\n",
       "      <td>42</td>\n",
       "      <td>3.0</td>\n",
       "      <td>75075.31</td>\n",
       "      <td>2</td>\n",
       "      <td>1</td>\n",
       "      <td>0</td>\n",
       "      <td>92888.52</td>\n",
       "      <td>1</td>\n",
       "    </tr>\n",
       "    <tr>\n",
       "      <th>9999</th>\n",
       "      <td>792</td>\n",
       "      <td>France</td>\n",
       "      <td>Female</td>\n",
       "      <td>28</td>\n",
       "      <td>5.0</td>\n",
       "      <td>130142.79</td>\n",
       "      <td>1</td>\n",
       "      <td>1</td>\n",
       "      <td>0</td>\n",
       "      <td>38190.78</td>\n",
       "      <td>0</td>\n",
       "    </tr>\n",
       "  </tbody>\n",
       "</table>\n",
       "<p>10000 rows × 11 columns</p>\n",
       "</div>"
      ],
      "text/plain": [
       "      credit_score geography  gender  age  tenure    balance  num_of_products  \\\n",
       "0              619    France  Female   42     2.0       0.00                1   \n",
       "1              608     Spain  Female   41     1.0   83807.86                1   \n",
       "2              502    France  Female   42     8.0  159660.80                3   \n",
       "3              699    France  Female   39     1.0       0.00                2   \n",
       "4              850     Spain  Female   43     2.0  125510.82                1   \n",
       "...            ...       ...     ...  ...     ...        ...              ...   \n",
       "9995           771    France    Male   39     5.0       0.00                2   \n",
       "9996           516    France    Male   35    10.0   57369.61                1   \n",
       "9997           709    France  Female   36     7.0       0.00                1   \n",
       "9998           772   Germany    Male   42     3.0   75075.31                2   \n",
       "9999           792    France  Female   28     5.0  130142.79                1   \n",
       "\n",
       "      has_cr_card  is_active_member  estimated_salary  exited  \n",
       "0               1                 1         101348.88       1  \n",
       "1               0                 1         112542.58       0  \n",
       "2               1                 0         113931.57       1  \n",
       "3               0                 0          93826.63       0  \n",
       "4               1                 1          79084.10       0  \n",
       "...           ...               ...               ...     ...  \n",
       "9995            1                 0          96270.64       0  \n",
       "9996            1                 1         101699.77       0  \n",
       "9997            0                 1          42085.58       1  \n",
       "9998            1                 0          92888.52       1  \n",
       "9999            1                 0          38190.78       0  \n",
       "\n",
       "[10000 rows x 11 columns]"
      ]
     },
     "execution_count": 12,
     "metadata": {},
     "output_type": "execute_result"
    }
   ],
   "source": [
    "data"
   ]
  },
  {
   "cell_type": "code",
   "execution_count": 13,
   "metadata": {},
   "outputs": [
    {
     "data": {
      "text/plain": [
       "array(['France', 'Spain', 'Germany'], dtype=object)"
      ]
     },
     "execution_count": 13,
     "metadata": {},
     "output_type": "execute_result"
    }
   ],
   "source": [
    "data['geography'].unique()"
   ]
  },
  {
   "cell_type": "code",
   "execution_count": 14,
   "metadata": {},
   "outputs": [
    {
     "data": {
      "text/plain": [
       "array(['Female', 'Male'], dtype=object)"
      ]
     },
     "execution_count": 14,
     "metadata": {},
     "output_type": "execute_result"
    }
   ],
   "source": [
    "data['gender'].unique()"
   ]
  },
  {
   "cell_type": "code",
   "execution_count": 15,
   "metadata": {},
   "outputs": [
    {
     "data": {
      "text/plain": [
       "(10000, 11)"
      ]
     },
     "execution_count": 15,
     "metadata": {},
     "output_type": "execute_result"
    }
   ],
   "source": [
    "data.shape"
   ]
  },
  {
   "cell_type": "markdown",
   "metadata": {},
   "source": [
    "Столбцы `geography` и `gender` нужно перевести методом **OHE**, избегая дамми-ловушек."
   ]
  },
  {
   "cell_type": "code",
   "execution_count": 16,
   "metadata": {
    "scrolled": false
   },
   "outputs": [
    {
     "data": {
      "text/html": [
       "<div>\n",
       "<style scoped>\n",
       "    .dataframe tbody tr th:only-of-type {\n",
       "        vertical-align: middle;\n",
       "    }\n",
       "\n",
       "    .dataframe tbody tr th {\n",
       "        vertical-align: top;\n",
       "    }\n",
       "\n",
       "    .dataframe thead th {\n",
       "        text-align: right;\n",
       "    }\n",
       "</style>\n",
       "<table border=\"1\" class=\"dataframe\">\n",
       "  <thead>\n",
       "    <tr style=\"text-align: right;\">\n",
       "      <th></th>\n",
       "      <th>credit_score</th>\n",
       "      <th>age</th>\n",
       "      <th>tenure</th>\n",
       "      <th>balance</th>\n",
       "      <th>num_of_products</th>\n",
       "      <th>has_cr_card</th>\n",
       "      <th>is_active_member</th>\n",
       "      <th>estimated_salary</th>\n",
       "      <th>exited</th>\n",
       "      <th>gender_Male</th>\n",
       "      <th>geography_Germany</th>\n",
       "      <th>geography_Spain</th>\n",
       "    </tr>\n",
       "  </thead>\n",
       "  <tbody>\n",
       "    <tr>\n",
       "      <th>0</th>\n",
       "      <td>619</td>\n",
       "      <td>42</td>\n",
       "      <td>2.0</td>\n",
       "      <td>0.00</td>\n",
       "      <td>1</td>\n",
       "      <td>1</td>\n",
       "      <td>1</td>\n",
       "      <td>101348.88</td>\n",
       "      <td>1</td>\n",
       "      <td>0</td>\n",
       "      <td>0</td>\n",
       "      <td>0</td>\n",
       "    </tr>\n",
       "    <tr>\n",
       "      <th>1</th>\n",
       "      <td>608</td>\n",
       "      <td>41</td>\n",
       "      <td>1.0</td>\n",
       "      <td>83807.86</td>\n",
       "      <td>1</td>\n",
       "      <td>0</td>\n",
       "      <td>1</td>\n",
       "      <td>112542.58</td>\n",
       "      <td>0</td>\n",
       "      <td>0</td>\n",
       "      <td>0</td>\n",
       "      <td>1</td>\n",
       "    </tr>\n",
       "    <tr>\n",
       "      <th>2</th>\n",
       "      <td>502</td>\n",
       "      <td>42</td>\n",
       "      <td>8.0</td>\n",
       "      <td>159660.80</td>\n",
       "      <td>3</td>\n",
       "      <td>1</td>\n",
       "      <td>0</td>\n",
       "      <td>113931.57</td>\n",
       "      <td>1</td>\n",
       "      <td>0</td>\n",
       "      <td>0</td>\n",
       "      <td>0</td>\n",
       "    </tr>\n",
       "    <tr>\n",
       "      <th>3</th>\n",
       "      <td>699</td>\n",
       "      <td>39</td>\n",
       "      <td>1.0</td>\n",
       "      <td>0.00</td>\n",
       "      <td>2</td>\n",
       "      <td>0</td>\n",
       "      <td>0</td>\n",
       "      <td>93826.63</td>\n",
       "      <td>0</td>\n",
       "      <td>0</td>\n",
       "      <td>0</td>\n",
       "      <td>0</td>\n",
       "    </tr>\n",
       "    <tr>\n",
       "      <th>4</th>\n",
       "      <td>850</td>\n",
       "      <td>43</td>\n",
       "      <td>2.0</td>\n",
       "      <td>125510.82</td>\n",
       "      <td>1</td>\n",
       "      <td>1</td>\n",
       "      <td>1</td>\n",
       "      <td>79084.10</td>\n",
       "      <td>0</td>\n",
       "      <td>0</td>\n",
       "      <td>0</td>\n",
       "      <td>1</td>\n",
       "    </tr>\n",
       "    <tr>\n",
       "      <th>...</th>\n",
       "      <td>...</td>\n",
       "      <td>...</td>\n",
       "      <td>...</td>\n",
       "      <td>...</td>\n",
       "      <td>...</td>\n",
       "      <td>...</td>\n",
       "      <td>...</td>\n",
       "      <td>...</td>\n",
       "      <td>...</td>\n",
       "      <td>...</td>\n",
       "      <td>...</td>\n",
       "      <td>...</td>\n",
       "    </tr>\n",
       "    <tr>\n",
       "      <th>9995</th>\n",
       "      <td>771</td>\n",
       "      <td>39</td>\n",
       "      <td>5.0</td>\n",
       "      <td>0.00</td>\n",
       "      <td>2</td>\n",
       "      <td>1</td>\n",
       "      <td>0</td>\n",
       "      <td>96270.64</td>\n",
       "      <td>0</td>\n",
       "      <td>1</td>\n",
       "      <td>0</td>\n",
       "      <td>0</td>\n",
       "    </tr>\n",
       "    <tr>\n",
       "      <th>9996</th>\n",
       "      <td>516</td>\n",
       "      <td>35</td>\n",
       "      <td>10.0</td>\n",
       "      <td>57369.61</td>\n",
       "      <td>1</td>\n",
       "      <td>1</td>\n",
       "      <td>1</td>\n",
       "      <td>101699.77</td>\n",
       "      <td>0</td>\n",
       "      <td>1</td>\n",
       "      <td>0</td>\n",
       "      <td>0</td>\n",
       "    </tr>\n",
       "    <tr>\n",
       "      <th>9997</th>\n",
       "      <td>709</td>\n",
       "      <td>36</td>\n",
       "      <td>7.0</td>\n",
       "      <td>0.00</td>\n",
       "      <td>1</td>\n",
       "      <td>0</td>\n",
       "      <td>1</td>\n",
       "      <td>42085.58</td>\n",
       "      <td>1</td>\n",
       "      <td>0</td>\n",
       "      <td>0</td>\n",
       "      <td>0</td>\n",
       "    </tr>\n",
       "    <tr>\n",
       "      <th>9998</th>\n",
       "      <td>772</td>\n",
       "      <td>42</td>\n",
       "      <td>3.0</td>\n",
       "      <td>75075.31</td>\n",
       "      <td>2</td>\n",
       "      <td>1</td>\n",
       "      <td>0</td>\n",
       "      <td>92888.52</td>\n",
       "      <td>1</td>\n",
       "      <td>1</td>\n",
       "      <td>1</td>\n",
       "      <td>0</td>\n",
       "    </tr>\n",
       "    <tr>\n",
       "      <th>9999</th>\n",
       "      <td>792</td>\n",
       "      <td>28</td>\n",
       "      <td>5.0</td>\n",
       "      <td>130142.79</td>\n",
       "      <td>1</td>\n",
       "      <td>1</td>\n",
       "      <td>0</td>\n",
       "      <td>38190.78</td>\n",
       "      <td>0</td>\n",
       "      <td>0</td>\n",
       "      <td>0</td>\n",
       "      <td>0</td>\n",
       "    </tr>\n",
       "  </tbody>\n",
       "</table>\n",
       "<p>10000 rows × 12 columns</p>\n",
       "</div>"
      ],
      "text/plain": [
       "      credit_score  age  tenure    balance  num_of_products  has_cr_card  \\\n",
       "0              619   42     2.0       0.00                1            1   \n",
       "1              608   41     1.0   83807.86                1            0   \n",
       "2              502   42     8.0  159660.80                3            1   \n",
       "3              699   39     1.0       0.00                2            0   \n",
       "4              850   43     2.0  125510.82                1            1   \n",
       "...            ...  ...     ...        ...              ...          ...   \n",
       "9995           771   39     5.0       0.00                2            1   \n",
       "9996           516   35    10.0   57369.61                1            1   \n",
       "9997           709   36     7.0       0.00                1            0   \n",
       "9998           772   42     3.0   75075.31                2            1   \n",
       "9999           792   28     5.0  130142.79                1            1   \n",
       "\n",
       "      is_active_member  estimated_salary  exited  gender_Male  \\\n",
       "0                    1         101348.88       1            0   \n",
       "1                    1         112542.58       0            0   \n",
       "2                    0         113931.57       1            0   \n",
       "3                    0          93826.63       0            0   \n",
       "4                    1          79084.10       0            0   \n",
       "...                ...               ...     ...          ...   \n",
       "9995                 0          96270.64       0            1   \n",
       "9996                 1         101699.77       0            1   \n",
       "9997                 1          42085.58       1            0   \n",
       "9998                 0          92888.52       1            1   \n",
       "9999                 0          38190.78       0            0   \n",
       "\n",
       "      geography_Germany  geography_Spain  \n",
       "0                     0                0  \n",
       "1                     0                1  \n",
       "2                     0                0  \n",
       "3                     0                0  \n",
       "4                     0                1  \n",
       "...                 ...              ...  \n",
       "9995                  0                0  \n",
       "9996                  0                0  \n",
       "9997                  0                0  \n",
       "9998                  1                0  \n",
       "9999                  0                0  \n",
       "\n",
       "[10000 rows x 12 columns]"
      ]
     },
     "execution_count": 16,
     "metadata": {},
     "output_type": "execute_result"
    }
   ],
   "source": [
    "data = pd.get_dummies(data, drop_first=True, columns=['gender', 'geography'])\n",
    "data"
   ]
  },
  {
   "cell_type": "code",
   "execution_count": 17,
   "metadata": {},
   "outputs": [
    {
     "data": {
      "text/plain": [
       "(10000, 12)"
      ]
     },
     "execution_count": 17,
     "metadata": {},
     "output_type": "execute_result"
    }
   ],
   "source": [
    "data.shape"
   ]
  },
  {
   "cell_type": "markdown",
   "metadata": {},
   "source": [
    "В исходный датафрейм добавилась одна колонка, что говорит о том, что мы смогли избежать дамми-ловушки."
   ]
  },
  {
   "cell_type": "markdown",
   "metadata": {},
   "source": [
    "**Промежуточный вывод:**\n",
    "- Названия столбцов датафрейма были приведены к **snake_case**\n",
    "- Было заполнено 909 пропусков в столбце `tenure`\n",
    "- Были удалены столбцы `row_number`, `surname` и `customer_id`, так как они выполняли идентификационную функцию\n",
    "- Столбцы `gender` и `geography` были переведены методом OHE, избегая дамми-ловушек"
   ]
  },
  {
   "cell_type": "markdown",
   "metadata": {},
   "source": [
    "## Исследование задачи"
   ]
  },
  {
   "cell_type": "markdown",
   "metadata": {},
   "source": [
    "### Формирование выборок"
   ]
  },
  {
   "cell_type": "code",
   "execution_count": 18,
   "metadata": {},
   "outputs": [],
   "source": [
    "target = data['exited']\n",
    "features = data.drop('exited', axis=1)"
   ]
  },
  {
   "cell_type": "code",
   "execution_count": 19,
   "metadata": {},
   "outputs": [],
   "source": [
    "features_train, features_test, target_train, target_test = train_test_split(\n",
    "    features, target, test_size=.2, random_state=12345)"
   ]
  },
  {
   "cell_type": "code",
   "execution_count": 20,
   "metadata": {},
   "outputs": [],
   "source": [
    "features_train, features_valid, target_train, target_valid = train_test_split(\n",
    "    features_train, target_train, test_size=.25, random_state=12345)"
   ]
  },
  {
   "cell_type": "code",
   "execution_count": 21,
   "metadata": {},
   "outputs": [
    {
     "data": {
      "text/plain": [
       "0.6"
      ]
     },
     "execution_count": 21,
     "metadata": {},
     "output_type": "execute_result"
    }
   ],
   "source": [
    "round(len(target_train) / len(data), 2)"
   ]
  },
  {
   "cell_type": "code",
   "execution_count": 22,
   "metadata": {},
   "outputs": [
    {
     "data": {
      "text/plain": [
       "0.2"
      ]
     },
     "execution_count": 22,
     "metadata": {},
     "output_type": "execute_result"
    }
   ],
   "source": [
    "round(len(target_test) / len(data), 2)"
   ]
  },
  {
   "cell_type": "code",
   "execution_count": 23,
   "metadata": {},
   "outputs": [
    {
     "data": {
      "text/plain": [
       "0.2"
      ]
     },
     "execution_count": 23,
     "metadata": {},
     "output_type": "execute_result"
    }
   ],
   "source": [
    "round(len(target_valid) / len(data), 2)"
   ]
  },
  {
   "cell_type": "markdown",
   "metadata": {},
   "source": [
    "Итого, мы сформировали 3 выборки:\n",
    "- **features_train, target_train**: обучающая выборка\n",
    "- **features_valid, target_valid**: валидационная выборка\n",
    "- **features_test, target_test**: тестовая выборка"
   ]
  },
  {
   "cell_type": "markdown",
   "metadata": {},
   "source": [
    "### Масштабирование"
   ]
  },
  {
   "cell_type": "markdown",
   "metadata": {},
   "source": [
    "Численные признаки необходимо масштабировать для минимизации влияния выбросов на исследование."
   ]
  },
  {
   "cell_type": "code",
   "execution_count": 24,
   "metadata": {},
   "outputs": [],
   "source": [
    "signs = ['credit_score', 'age', 'tenure', 'balance', 'num_of_products', 'estimated_salary']"
   ]
  },
  {
   "cell_type": "code",
   "execution_count": 25,
   "metadata": {},
   "outputs": [
    {
     "data": {
      "text/plain": [
       "StandardScaler()"
      ]
     },
     "execution_count": 25,
     "metadata": {},
     "output_type": "execute_result"
    }
   ],
   "source": [
    "scaler = StandardScaler()\n",
    "scaler.fit(features_train[signs])"
   ]
  },
  {
   "cell_type": "code",
   "execution_count": 26,
   "metadata": {
    "scrolled": true
   },
   "outputs": [
    {
     "data": {
      "text/html": [
       "<div>\n",
       "<style scoped>\n",
       "    .dataframe tbody tr th:only-of-type {\n",
       "        vertical-align: middle;\n",
       "    }\n",
       "\n",
       "    .dataframe tbody tr th {\n",
       "        vertical-align: top;\n",
       "    }\n",
       "\n",
       "    .dataframe thead th {\n",
       "        text-align: right;\n",
       "    }\n",
       "</style>\n",
       "<table border=\"1\" class=\"dataframe\">\n",
       "  <thead>\n",
       "    <tr style=\"text-align: right;\">\n",
       "      <th></th>\n",
       "      <th>credit_score</th>\n",
       "      <th>age</th>\n",
       "      <th>tenure</th>\n",
       "      <th>balance</th>\n",
       "      <th>num_of_products</th>\n",
       "      <th>has_cr_card</th>\n",
       "      <th>is_active_member</th>\n",
       "      <th>estimated_salary</th>\n",
       "      <th>gender_Male</th>\n",
       "      <th>geography_Germany</th>\n",
       "      <th>geography_Spain</th>\n",
       "    </tr>\n",
       "  </thead>\n",
       "  <tbody>\n",
       "    <tr>\n",
       "      <th>492</th>\n",
       "      <td>-0.134048</td>\n",
       "      <td>-0.078068</td>\n",
       "      <td>-0.369113</td>\n",
       "      <td>0.076163</td>\n",
       "      <td>0.816929</td>\n",
       "      <td>0</td>\n",
       "      <td>1</td>\n",
       "      <td>0.331571</td>\n",
       "      <td>0</td>\n",
       "      <td>0</td>\n",
       "      <td>0</td>\n",
       "    </tr>\n",
       "    <tr>\n",
       "      <th>6655</th>\n",
       "      <td>-1.010798</td>\n",
       "      <td>0.494555</td>\n",
       "      <td>-0.007415</td>\n",
       "      <td>0.136391</td>\n",
       "      <td>-0.896909</td>\n",
       "      <td>1</td>\n",
       "      <td>1</td>\n",
       "      <td>-0.727858</td>\n",
       "      <td>1</td>\n",
       "      <td>0</td>\n",
       "      <td>0</td>\n",
       "    </tr>\n",
       "    <tr>\n",
       "      <th>4287</th>\n",
       "      <td>0.639554</td>\n",
       "      <td>1.353490</td>\n",
       "      <td>-1.454209</td>\n",
       "      <td>0.358435</td>\n",
       "      <td>-0.896909</td>\n",
       "      <td>1</td>\n",
       "      <td>1</td>\n",
       "      <td>-0.477006</td>\n",
       "      <td>1</td>\n",
       "      <td>1</td>\n",
       "      <td>0</td>\n",
       "    </tr>\n",
       "    <tr>\n",
       "      <th>42</th>\n",
       "      <td>-0.990168</td>\n",
       "      <td>2.116987</td>\n",
       "      <td>-1.092511</td>\n",
       "      <td>0.651725</td>\n",
       "      <td>-0.896909</td>\n",
       "      <td>1</td>\n",
       "      <td>1</td>\n",
       "      <td>-0.100232</td>\n",
       "      <td>0</td>\n",
       "      <td>0</td>\n",
       "      <td>0</td>\n",
       "    </tr>\n",
       "    <tr>\n",
       "      <th>8178</th>\n",
       "      <td>0.567351</td>\n",
       "      <td>0.685430</td>\n",
       "      <td>0.715982</td>\n",
       "      <td>0.813110</td>\n",
       "      <td>0.816929</td>\n",
       "      <td>1</td>\n",
       "      <td>1</td>\n",
       "      <td>0.801922</td>\n",
       "      <td>0</td>\n",
       "      <td>0</td>\n",
       "      <td>0</td>\n",
       "    </tr>\n",
       "  </tbody>\n",
       "</table>\n",
       "</div>"
      ],
      "text/plain": [
       "      credit_score       age    tenure   balance  num_of_products  \\\n",
       "492      -0.134048 -0.078068 -0.369113  0.076163         0.816929   \n",
       "6655     -1.010798  0.494555 -0.007415  0.136391        -0.896909   \n",
       "4287      0.639554  1.353490 -1.454209  0.358435        -0.896909   \n",
       "42       -0.990168  2.116987 -1.092511  0.651725        -0.896909   \n",
       "8178      0.567351  0.685430  0.715982  0.813110         0.816929   \n",
       "\n",
       "      has_cr_card  is_active_member  estimated_salary  gender_Male  \\\n",
       "492             0                 1          0.331571            0   \n",
       "6655            1                 1         -0.727858            1   \n",
       "4287            1                 1         -0.477006            1   \n",
       "42              1                 1         -0.100232            0   \n",
       "8178            1                 1          0.801922            0   \n",
       "\n",
       "      geography_Germany  geography_Spain  \n",
       "492                   0                0  \n",
       "6655                  0                0  \n",
       "4287                  1                0  \n",
       "42                    0                0  \n",
       "8178                  0                0  "
      ]
     },
     "execution_count": 26,
     "metadata": {},
     "output_type": "execute_result"
    }
   ],
   "source": [
    "features_train[signs] = scaler.transform(features_train[signs])\n",
    "features_train.head()"
   ]
  },
  {
   "cell_type": "code",
   "execution_count": 27,
   "metadata": {
    "scrolled": true
   },
   "outputs": [
    {
     "data": {
      "text/html": [
       "<div>\n",
       "<style scoped>\n",
       "    .dataframe tbody tr th:only-of-type {\n",
       "        vertical-align: middle;\n",
       "    }\n",
       "\n",
       "    .dataframe tbody tr th {\n",
       "        vertical-align: top;\n",
       "    }\n",
       "\n",
       "    .dataframe thead th {\n",
       "        text-align: right;\n",
       "    }\n",
       "</style>\n",
       "<table border=\"1\" class=\"dataframe\">\n",
       "  <thead>\n",
       "    <tr style=\"text-align: right;\">\n",
       "      <th></th>\n",
       "      <th>credit_score</th>\n",
       "      <th>age</th>\n",
       "      <th>tenure</th>\n",
       "      <th>balance</th>\n",
       "      <th>num_of_products</th>\n",
       "      <th>has_cr_card</th>\n",
       "      <th>is_active_member</th>\n",
       "      <th>estimated_salary</th>\n",
       "      <th>gender_Male</th>\n",
       "      <th>geography_Germany</th>\n",
       "      <th>geography_Spain</th>\n",
       "    </tr>\n",
       "  </thead>\n",
       "  <tbody>\n",
       "    <tr>\n",
       "      <th>2358</th>\n",
       "      <td>0.175393</td>\n",
       "      <td>0.399118</td>\n",
       "      <td>-1.454209</td>\n",
       "      <td>1.385698</td>\n",
       "      <td>-0.896909</td>\n",
       "      <td>0</td>\n",
       "      <td>1</td>\n",
       "      <td>-1.466761</td>\n",
       "      <td>1</td>\n",
       "      <td>0</td>\n",
       "      <td>0</td>\n",
       "    </tr>\n",
       "    <tr>\n",
       "      <th>8463</th>\n",
       "      <td>-1.299609</td>\n",
       "      <td>0.971741</td>\n",
       "      <td>-1.092511</td>\n",
       "      <td>-1.232442</td>\n",
       "      <td>-0.896909</td>\n",
       "      <td>1</td>\n",
       "      <td>0</td>\n",
       "      <td>0.254415</td>\n",
       "      <td>1</td>\n",
       "      <td>0</td>\n",
       "      <td>1</td>\n",
       "    </tr>\n",
       "    <tr>\n",
       "      <th>163</th>\n",
       "      <td>0.711757</td>\n",
       "      <td>-0.268942</td>\n",
       "      <td>-1.092511</td>\n",
       "      <td>-1.232442</td>\n",
       "      <td>0.816929</td>\n",
       "      <td>1</td>\n",
       "      <td>1</td>\n",
       "      <td>0.122863</td>\n",
       "      <td>0</td>\n",
       "      <td>0</td>\n",
       "      <td>1</td>\n",
       "    </tr>\n",
       "    <tr>\n",
       "      <th>3074</th>\n",
       "      <td>-0.391916</td>\n",
       "      <td>0.494555</td>\n",
       "      <td>0.354284</td>\n",
       "      <td>0.672529</td>\n",
       "      <td>-0.896909</td>\n",
       "      <td>1</td>\n",
       "      <td>0</td>\n",
       "      <td>0.585847</td>\n",
       "      <td>0</td>\n",
       "      <td>1</td>\n",
       "      <td>0</td>\n",
       "    </tr>\n",
       "    <tr>\n",
       "      <th>5989</th>\n",
       "      <td>0.165078</td>\n",
       "      <td>1.353490</td>\n",
       "      <td>1.801078</td>\n",
       "      <td>0.536522</td>\n",
       "      <td>-0.896909</td>\n",
       "      <td>0</td>\n",
       "      <td>0</td>\n",
       "      <td>1.462457</td>\n",
       "      <td>0</td>\n",
       "      <td>0</td>\n",
       "      <td>0</td>\n",
       "    </tr>\n",
       "  </tbody>\n",
       "</table>\n",
       "</div>"
      ],
      "text/plain": [
       "      credit_score       age    tenure   balance  num_of_products  \\\n",
       "2358      0.175393  0.399118 -1.454209  1.385698        -0.896909   \n",
       "8463     -1.299609  0.971741 -1.092511 -1.232442        -0.896909   \n",
       "163       0.711757 -0.268942 -1.092511 -1.232442         0.816929   \n",
       "3074     -0.391916  0.494555  0.354284  0.672529        -0.896909   \n",
       "5989      0.165078  1.353490  1.801078  0.536522        -0.896909   \n",
       "\n",
       "      has_cr_card  is_active_member  estimated_salary  gender_Male  \\\n",
       "2358            0                 1         -1.466761            1   \n",
       "8463            1                 0          0.254415            1   \n",
       "163             1                 1          0.122863            0   \n",
       "3074            1                 0          0.585847            0   \n",
       "5989            0                 0          1.462457            0   \n",
       "\n",
       "      geography_Germany  geography_Spain  \n",
       "2358                  0                0  \n",
       "8463                  0                1  \n",
       "163                   0                1  \n",
       "3074                  1                0  \n",
       "5989                  0                0  "
      ]
     },
     "execution_count": 27,
     "metadata": {},
     "output_type": "execute_result"
    }
   ],
   "source": [
    "features_valid[signs] = scaler.transform(features_valid[signs])\n",
    "features_valid.head()"
   ]
  },
  {
   "cell_type": "code",
   "execution_count": 28,
   "metadata": {},
   "outputs": [
    {
     "data": {
      "text/html": [
       "<div>\n",
       "<style scoped>\n",
       "    .dataframe tbody tr th:only-of-type {\n",
       "        vertical-align: middle;\n",
       "    }\n",
       "\n",
       "    .dataframe tbody tr th {\n",
       "        vertical-align: top;\n",
       "    }\n",
       "\n",
       "    .dataframe thead th {\n",
       "        text-align: right;\n",
       "    }\n",
       "</style>\n",
       "<table border=\"1\" class=\"dataframe\">\n",
       "  <thead>\n",
       "    <tr style=\"text-align: right;\">\n",
       "      <th></th>\n",
       "      <th>credit_score</th>\n",
       "      <th>age</th>\n",
       "      <th>tenure</th>\n",
       "      <th>balance</th>\n",
       "      <th>num_of_products</th>\n",
       "      <th>has_cr_card</th>\n",
       "      <th>is_active_member</th>\n",
       "      <th>estimated_salary</th>\n",
       "      <th>gender_Male</th>\n",
       "      <th>geography_Germany</th>\n",
       "      <th>geography_Spain</th>\n",
       "    </tr>\n",
       "  </thead>\n",
       "  <tbody>\n",
       "    <tr>\n",
       "      <th>7867</th>\n",
       "      <td>-0.123733</td>\n",
       "      <td>0.685430</td>\n",
       "      <td>-0.730812</td>\n",
       "      <td>-1.232442</td>\n",
       "      <td>-0.896909</td>\n",
       "      <td>1</td>\n",
       "      <td>1</td>\n",
       "      <td>0.980212</td>\n",
       "      <td>0</td>\n",
       "      <td>0</td>\n",
       "      <td>1</td>\n",
       "    </tr>\n",
       "    <tr>\n",
       "      <th>1402</th>\n",
       "      <td>1.083087</td>\n",
       "      <td>-0.937002</td>\n",
       "      <td>1.077681</td>\n",
       "      <td>0.858518</td>\n",
       "      <td>-0.896909</td>\n",
       "      <td>1</td>\n",
       "      <td>0</td>\n",
       "      <td>-0.390486</td>\n",
       "      <td>1</td>\n",
       "      <td>0</td>\n",
       "      <td>0</td>\n",
       "    </tr>\n",
       "    <tr>\n",
       "      <th>8606</th>\n",
       "      <td>1.598822</td>\n",
       "      <td>0.303681</td>\n",
       "      <td>-0.007415</td>\n",
       "      <td>-1.232442</td>\n",
       "      <td>0.816929</td>\n",
       "      <td>1</td>\n",
       "      <td>1</td>\n",
       "      <td>-0.435169</td>\n",
       "      <td>1</td>\n",
       "      <td>0</td>\n",
       "      <td>1</td>\n",
       "    </tr>\n",
       "    <tr>\n",
       "      <th>8885</th>\n",
       "      <td>0.165078</td>\n",
       "      <td>0.589993</td>\n",
       "      <td>-0.369113</td>\n",
       "      <td>0.412100</td>\n",
       "      <td>0.816929</td>\n",
       "      <td>1</td>\n",
       "      <td>1</td>\n",
       "      <td>1.017079</td>\n",
       "      <td>1</td>\n",
       "      <td>0</td>\n",
       "      <td>1</td>\n",
       "    </tr>\n",
       "    <tr>\n",
       "      <th>6494</th>\n",
       "      <td>0.484834</td>\n",
       "      <td>-1.032439</td>\n",
       "      <td>0.715982</td>\n",
       "      <td>-1.232442</td>\n",
       "      <td>0.816929</td>\n",
       "      <td>1</td>\n",
       "      <td>1</td>\n",
       "      <td>-1.343558</td>\n",
       "      <td>1</td>\n",
       "      <td>0</td>\n",
       "      <td>0</td>\n",
       "    </tr>\n",
       "  </tbody>\n",
       "</table>\n",
       "</div>"
      ],
      "text/plain": [
       "      credit_score       age    tenure   balance  num_of_products  \\\n",
       "7867     -0.123733  0.685430 -0.730812 -1.232442        -0.896909   \n",
       "1402      1.083087 -0.937002  1.077681  0.858518        -0.896909   \n",
       "8606      1.598822  0.303681 -0.007415 -1.232442         0.816929   \n",
       "8885      0.165078  0.589993 -0.369113  0.412100         0.816929   \n",
       "6494      0.484834 -1.032439  0.715982 -1.232442         0.816929   \n",
       "\n",
       "      has_cr_card  is_active_member  estimated_salary  gender_Male  \\\n",
       "7867            1                 1          0.980212            0   \n",
       "1402            1                 0         -0.390486            1   \n",
       "8606            1                 1         -0.435169            1   \n",
       "8885            1                 1          1.017079            1   \n",
       "6494            1                 1         -1.343558            1   \n",
       "\n",
       "      geography_Germany  geography_Spain  \n",
       "7867                  0                1  \n",
       "1402                  0                0  \n",
       "8606                  0                1  \n",
       "8885                  0                1  \n",
       "6494                  0                0  "
      ]
     },
     "execution_count": 28,
     "metadata": {},
     "output_type": "execute_result"
    }
   ],
   "source": [
    "features_test[signs] = scaler.transform(features_test[signs])\n",
    "features_test.head()"
   ]
  },
  {
   "cell_type": "markdown",
   "metadata": {},
   "source": [
    "В результате мы получили масштабированные признаки для всех трёх выборок, тем самым уменьшили влияние выбросов на результаты."
   ]
  },
  {
   "cell_type": "markdown",
   "metadata": {},
   "source": [
    "### Обучение и исследование модели без учета дисбаланса"
   ]
  },
  {
   "cell_type": "markdown",
   "metadata": {},
   "source": [
    "#### Дерево решений"
   ]
  },
  {
   "cell_type": "code",
   "execution_count": 29,
   "metadata": {},
   "outputs": [
    {
     "name": "stdout",
     "output_type": "stream",
     "text": [
      "Лучшая глубина дерева: 7\n",
      "Лучший показатель качества: 0.5566037735849056\n"
     ]
    }
   ],
   "source": [
    "best_depth = 0\n",
    "best_score = 0\n",
    "best_model_dt = None\n",
    "for depth in range(1, 20):\n",
    "    model = DecisionTreeClassifier(max_depth=depth, random_state=12345)\n",
    "    model.fit(features_train, target_train)\n",
    "    prediction_valid = model.predict(features_valid)\n",
    "    score = f1_score(target_valid, prediction_valid)\n",
    "    if score > best_score:\n",
    "        best_score = score\n",
    "        best_depth = depth\n",
    "        best_model_dt = model\n",
    "print(f'Лучшая глубина дерева: {best_depth}\\nЛучший показатель качества: {best_score}')"
   ]
  },
  {
   "cell_type": "code",
   "execution_count": 30,
   "metadata": {},
   "outputs": [],
   "source": [
    "prediction_valid_dt_start = best_model_dt.predict(features_valid)"
   ]
  },
  {
   "cell_type": "code",
   "execution_count": 31,
   "metadata": {},
   "outputs": [
    {
     "name": "stdout",
     "output_type": "stream",
     "text": [
      "              precision    recall  f1-score   support\n",
      "\n",
      "           0       0.88      0.96      0.92      1609\n",
      "           1       0.72      0.45      0.56       391\n",
      "\n",
      "    accuracy                           0.86      2000\n",
      "   macro avg       0.80      0.71      0.74      2000\n",
      "weighted avg       0.85      0.86      0.85      2000\n",
      "\n"
     ]
    }
   ],
   "source": [
    "print(classification_report(target_valid, prediction_valid_dt_start))"
   ]
  },
  {
   "cell_type": "markdown",
   "metadata": {},
   "source": [
    "#### Случайный лес"
   ]
  },
  {
   "cell_type": "code",
   "execution_count": 32,
   "metadata": {},
   "outputs": [
    {
     "name": "stdout",
     "output_type": "stream",
     "text": [
      "Оптимальное количество оценок: 100\n",
      "Оптимальная глубина дерева: 9\n",
      "Качество модели: 0.54\n"
     ]
    }
   ],
   "source": [
    "best_est = 0\n",
    "best_depth = 0\n",
    "best_score = 0\n",
    "best_model_rf = None\n",
    "for est in range(10, 101, 10):\n",
    "    for depth in range(1, 10):\n",
    "        model = RandomForestClassifier(random_state=12345,\n",
    "                                              n_estimators=est, \n",
    "                                              max_depth=depth)\n",
    "        model.fit(features_train, target_train)\n",
    "        predictions_valid = model.predict(features_valid)\n",
    "        score = f1_score(target_valid, predictions_valid)\n",
    "        if score > best_score:\n",
    "            best_est = est\n",
    "            best_depth = depth\n",
    "            best_model_rf = model\n",
    "print('Оптимальное количество оценок:', best_est)\n",
    "print('Оптимальная глубина дерева:', best_depth)\n",
    "print('Качество модели:', score)"
   ]
  },
  {
   "cell_type": "code",
   "execution_count": 33,
   "metadata": {},
   "outputs": [],
   "source": [
    "prediction_valid_rf_start = best_model_rf.predict(features_valid)"
   ]
  },
  {
   "cell_type": "code",
   "execution_count": 34,
   "metadata": {},
   "outputs": [
    {
     "name": "stdout",
     "output_type": "stream",
     "text": [
      "              precision    recall  f1-score   support\n",
      "\n",
      "           0       0.87      0.97      0.92      1609\n",
      "           1       0.78      0.41      0.54       391\n",
      "\n",
      "    accuracy                           0.86      2000\n",
      "   macro avg       0.82      0.69      0.73      2000\n",
      "weighted avg       0.85      0.86      0.84      2000\n",
      "\n"
     ]
    }
   ],
   "source": [
    "print(classification_report(target_valid, prediction_valid_rf_start))"
   ]
  },
  {
   "cell_type": "markdown",
   "metadata": {},
   "source": [
    "#### Логистическая регрессия"
   ]
  },
  {
   "cell_type": "code",
   "execution_count": 35,
   "metadata": {},
   "outputs": [],
   "source": [
    "model = LogisticRegression(random_state=12345, solver='liblinear')\n",
    "model.fit(features_train, target_train)\n",
    "prediction_valid_log_start = model.predict(features_valid)"
   ]
  },
  {
   "cell_type": "code",
   "execution_count": 36,
   "metadata": {},
   "outputs": [
    {
     "name": "stdout",
     "output_type": "stream",
     "text": [
      "              precision    recall  f1-score   support\n",
      "\n",
      "           0       0.83      0.96      0.89      1609\n",
      "           1       0.57      0.20      0.30       391\n",
      "\n",
      "    accuracy                           0.81      2000\n",
      "   macro avg       0.70      0.58      0.60      2000\n",
      "weighted avg       0.78      0.81      0.78      2000\n",
      "\n"
     ]
    }
   ],
   "source": [
    "print(classification_report(target_valid, prediction_valid_log_start))"
   ]
  },
  {
   "cell_type": "code",
   "execution_count": 37,
   "metadata": {},
   "outputs": [
    {
     "name": "stdout",
     "output_type": "stream",
     "text": [
      "0    0.7963\n",
      "1    0.2037\n",
      "Name: exited, dtype: float64\n"
     ]
    },
    {
     "data": {
      "image/png": "[encoded data removed]",
      "text/plain": [
       "<Figure size 432x288 with 1 Axes>"
      ]
     },
     "metadata": {
      "needs_background": "light"
     },
     "output_type": "display_data"
    }
   ],
   "source": [
    "class_frequency = data['exited'].value_counts(normalize=1)\n",
    "print(class_frequency)\n",
    "class_frequency.plot(kind='bar');"
   ]
  },
  {
   "cell_type": "markdown",
   "metadata": {},
   "source": [
    "Из графика видно, что только **20%** данных отображают факт того, что клиент ушел. Таким образом, мы можем наблюдать достаточно сильный дисбаланс классов. Сравним данные с констатной моделью, где все значения будут **0**, так как данное значение занимает **80%** данных."
   ]
  },
  {
   "cell_type": "code",
   "execution_count": 38,
   "metadata": {},
   "outputs": [
    {
     "name": "stdout",
     "output_type": "stream",
     "text": [
      "0.7963\n"
     ]
    }
   ],
   "source": [
    "constant_model = pd.Series([0]*len(target))\n",
    "print(accuracy_score(target, constant_model))"
   ]
  },
  {
   "cell_type": "code",
   "execution_count": 39,
   "metadata": {},
   "outputs": [
    {
     "data": {
      "image/png": "[encoded data removed]",
      "text/plain": [
       "<Figure size 432x288 with 2 Axes>"
      ]
     },
     "metadata": {
      "needs_background": "light"
     },
     "output_type": "display_data"
    }
   ],
   "source": [
    "plot_confusion_matrix(estimator=best_model_dt, X=features_valid, y_true=target_valid, normalize='true', cmap='Blues');"
   ]
  },
  {
   "cell_type": "code",
   "execution_count": 40,
   "metadata": {},
   "outputs": [
    {
     "data": {
      "image/png": "[encoded data removed]",
      "text/plain": [
       "<Figure size 432x288 with 2 Axes>"
      ]
     },
     "metadata": {
      "needs_background": "light"
     },
     "output_type": "display_data"
    }
   ],
   "source": [
    "plot_confusion_matrix(estimator=best_model_rf, X=features_valid, y_true=target_valid, normalize='true', cmap='Blues');"
   ]
  },
  {
   "cell_type": "code",
   "execution_count": 41,
   "metadata": {},
   "outputs": [
    {
     "data": {
      "image/png": "[encoded data removed]",
      "text/plain": [
       "<Figure size 432x288 with 2 Axes>"
      ]
     },
     "metadata": {
      "needs_background": "light"
     },
     "output_type": "display_data"
    }
   ],
   "source": [
    "plot_confusion_matrix(estimator=model, X=features_valid, y_true=target_valid, normalize='true', cmap='Blues');"
   ]
  },
  {
   "cell_type": "markdown",
   "metadata": {},
   "source": [
    "Матрицы ошибок также свидетельствуют о том, что у нас наблюдается сильный дисбаланс классов. Например, `DecisionTreeClassifier` и `RandomForestClassifier` показывают, что в среднем модель правильно определяет факт того, что клиент не ушел примерно в **96%** случаях, в то время как предсказание того, что клиент на самом деле ушел, верен в среднем лишь в **45%** случаев."
   ]
  },
  {
   "cell_type": "markdown",
   "metadata": {},
   "source": [
    "**Промежуточный вывод**\n",
    "\n",
    "В данных наблюдается сильный дисбаланс классов: только **20%** данных отображают факт того, что клиент ушел. Наилучшие результаты без учёта дисбаланса, наилучшие метрики f1 демонстрирует `RandomForestClassifier`, в то время как у `DecisiomTreeClassifier` наблюдается самое высокое значние **accuracy**."
   ]
  },
  {
   "cell_type": "markdown",
   "metadata": {},
   "source": [
    "## Борьба с дисбалансом"
   ]
  },
  {
   "cell_type": "markdown",
   "metadata": {},
   "source": [
    "Для борьбы с дисбалансом есть три метода:\n",
    "- Взвешивание классов\n",
    "- Увеличение выборки\n",
    "- Уменьшение выборки\n",
    "\n",
    "Используем и исследуем каждый из них"
   ]
  },
  {
   "cell_type": "markdown",
   "metadata": {},
   "source": [
    "### Взвешивание классов"
   ]
  },
  {
   "cell_type": "markdown",
   "metadata": {},
   "source": [
    "#### Дерево решений"
   ]
  },
  {
   "cell_type": "code",
   "execution_count": 42,
   "metadata": {},
   "outputs": [
    {
     "name": "stdout",
     "output_type": "stream",
     "text": [
      "Лучшая глубина дерева: 6\n",
      "Лучший показатель качества: 0.5572441742654509\n"
     ]
    }
   ],
   "source": [
    "best_depth = 0\n",
    "best_score = 0\n",
    "best_model_dt_weight = None\n",
    "for depth in range(1, 20):\n",
    "    model = DecisionTreeClassifier(max_depth=depth, random_state=12345, class_weight='balanced')\n",
    "    model.fit(features_train, target_train)\n",
    "    prediction_valid = model.predict(features_valid)\n",
    "    score = f1_score(target_valid, prediction_valid)\n",
    "    if score > best_score:\n",
    "        best_score = score\n",
    "        best_depth = depth\n",
    "        best_model_dt_weight = model\n",
    "print(f'Лучшая глубина дерева: {best_depth}\\nЛучший показатель качества: {best_score}')"
   ]
  },
  {
   "cell_type": "code",
   "execution_count": 43,
   "metadata": {},
   "outputs": [],
   "source": [
    "prediction_valid_dt_weight = best_model_dt_weight.predict(features_valid)"
   ]
  },
  {
   "cell_type": "markdown",
   "metadata": {},
   "source": [
    "<div class=\"alert alert-block alert-info\">\n",
    "<b>Комментарий студента:</b> Убрал все возможные переобучения модели.\n",
    "</div>"
   ]
  },
  {
   "cell_type": "markdown",
   "metadata": {},
   "source": [
    "<div class=\"alert alert-block alert-success\">\n",
    "<b>Комментарий ревьюера v2:</b>\n",
    "\n",
    "<b>✅«Отлично»:</b> 👍"
   ]
  },
  {
   "cell_type": "code",
   "execution_count": 44,
   "metadata": {},
   "outputs": [
    {
     "name": "stdout",
     "output_type": "stream",
     "text": [
      "              precision    recall  f1-score   support\n",
      "\n",
      "           0       0.92      0.80      0.85      1609\n",
      "           1       0.46      0.70      0.56       391\n",
      "\n",
      "    accuracy                           0.78      2000\n",
      "   macro avg       0.69      0.75      0.71      2000\n",
      "weighted avg       0.83      0.78      0.80      2000\n",
      "\n"
     ]
    }
   ],
   "source": [
    "print(classification_report(target_valid, prediction_valid_dt_weight))"
   ]
  },
  {
   "cell_type": "markdown",
   "metadata": {},
   "source": [
    "#### Случайный лес"
   ]
  },
  {
   "cell_type": "code",
   "execution_count": 45,
   "metadata": {},
   "outputs": [
    {
     "name": "stdout",
     "output_type": "stream",
     "text": [
      "Оптимальное количество оценок: 100\n",
      "Оптимальная глубина дерева: 9\n",
      "Качество модели: 0.5978391356542617\n"
     ]
    }
   ],
   "source": [
    "best_est = 0\n",
    "best_depth = 0\n",
    "best_score = 0\n",
    "best_model_rf_weight = None\n",
    "for est in range(10, 101, 10):\n",
    "    for depth in range(1, 10):\n",
    "        model = RandomForestClassifier(random_state=12345,\n",
    "                                              n_estimators=est, \n",
    "                                              max_depth=depth,\n",
    "                                              class_weight='balanced')\n",
    "        model.fit(features_train, target_train)\n",
    "        predictions_valid = model.predict(features_valid)\n",
    "        score = f1_score(target_valid, predictions_valid)\n",
    "        if score > best_score:\n",
    "            best_est = est\n",
    "            best_depth = depth\n",
    "            best_model_rf_weight = model\n",
    "print('Оптимальное количество оценок:', best_est)\n",
    "print('Оптимальная глубина дерева:', best_depth)\n",
    "print('Качество модели:', score)"
   ]
  },
  {
   "cell_type": "code",
   "execution_count": 46,
   "metadata": {},
   "outputs": [],
   "source": [
    "prediction_valid_rf_weight = best_model_rf_weight.predict(features_valid)"
   ]
  },
  {
   "cell_type": "code",
   "execution_count": 47,
   "metadata": {
    "scrolled": true
   },
   "outputs": [
    {
     "name": "stdout",
     "output_type": "stream",
     "text": [
      "              precision    recall  f1-score   support\n",
      "\n",
      "           0       0.91      0.88      0.89      1609\n",
      "           1       0.56      0.64      0.60       391\n",
      "\n",
      "    accuracy                           0.83      2000\n",
      "   macro avg       0.74      0.76      0.75      2000\n",
      "weighted avg       0.84      0.83      0.84      2000\n",
      "\n"
     ]
    }
   ],
   "source": [
    "print(classification_report(target_valid, prediction_valid_rf_weight))"
   ]
  },
  {
   "cell_type": "markdown",
   "metadata": {},
   "source": [
    "#### Логистическая регрессия"
   ]
  },
  {
   "cell_type": "code",
   "execution_count": 48,
   "metadata": {},
   "outputs": [],
   "source": [
    "model_log_weight = LogisticRegression(random_state=12345, solver='liblinear', class_weight='balanced')\n",
    "model_log_weight.fit(features_train, target_train)\n",
    "prediction_valid_log_weight = model_log_weight.predict(features_valid)"
   ]
  },
  {
   "cell_type": "code",
   "execution_count": 49,
   "metadata": {},
   "outputs": [
    {
     "name": "stdout",
     "output_type": "stream",
     "text": [
      "              precision    recall  f1-score   support\n",
      "\n",
      "           0       0.90      0.71      0.79      1609\n",
      "           1       0.36      0.68      0.47       391\n",
      "\n",
      "    accuracy                           0.70      2000\n",
      "   macro avg       0.63      0.70      0.63      2000\n",
      "weighted avg       0.80      0.70      0.73      2000\n",
      "\n"
     ]
    }
   ],
   "source": [
    "print(classification_report(target_valid, prediction_valid_log_weight))"
   ]
  },
  {
   "cell_type": "markdown",
   "metadata": {},
   "source": [
    "### Уменьшение выборки"
   ]
  },
  {
   "cell_type": "markdown",
   "metadata": {},
   "source": [
    "#### Функция downsample"
   ]
  },
  {
   "cell_type": "code",
   "execution_count": 50,
   "metadata": {},
   "outputs": [],
   "source": [
    "def downsample(features, target, fraction):\n",
    "    features_zeros = features[target == 0]\n",
    "    features_ones = features[target == 1]\n",
    "    target_zeros = target[target == 0]\n",
    "    target_ones = target[target == 1]\n",
    "\n",
    "    features_downsampled = pd.concat(\n",
    "        [features_zeros.sample(frac=fraction, random_state=12345)] + [features_ones])\n",
    "    target_downsampled = pd.concat(\n",
    "        [target_zeros.sample(frac=fraction, random_state=12345)] + [target_ones])\n",
    "    \n",
    "    features_downsampled, target_downsampled = shuffle(\n",
    "        features_downsampled, target_downsampled, random_state=12345)\n",
    "    \n",
    "    return features_downsampled, target_downsampled\n",
    "\n",
    "features_downsampled, target_downsampled = downsample(features_train, target_train, 0.25)"
   ]
  },
  {
   "cell_type": "markdown",
   "metadata": {},
   "source": [
    "#### Дерево решений"
   ]
  },
  {
   "cell_type": "code",
   "execution_count": 51,
   "metadata": {},
   "outputs": [
    {
     "name": "stdout",
     "output_type": "stream",
     "text": [
      "Лучшая глубина дерева: 7\n",
      "Лучший показатель качества: 0.5468164794007492\n"
     ]
    }
   ],
   "source": [
    "best_depth = 0\n",
    "best_score = 0\n",
    "best_model_dt_downsampled = None\n",
    "for depth in range(1, 20):\n",
    "    model = DecisionTreeClassifier(max_depth=depth, random_state=12345)\n",
    "    model.fit(features_downsampled, target_downsampled)\n",
    "    prediction_valid = model.predict(features_valid)\n",
    "    score = f1_score(target_valid, prediction_valid)\n",
    "    if score > best_score:\n",
    "        best_score = score\n",
    "        best_depth = depth\n",
    "        best_model_dt_downsampled = model\n",
    "print(f'Лучшая глубина дерева: {best_depth}\\nЛучший показатель качества: {best_score}')"
   ]
  },
  {
   "cell_type": "code",
   "execution_count": 52,
   "metadata": {},
   "outputs": [],
   "source": [
    "prediction_valid_dt_downsampled = best_model_dt_downsampled.predict(features_valid)"
   ]
  },
  {
   "cell_type": "code",
   "execution_count": 53,
   "metadata": {
    "scrolled": true
   },
   "outputs": [
    {
     "name": "stdout",
     "output_type": "stream",
     "text": [
      "              precision    recall  f1-score   support\n",
      "\n",
      "           0       0.93      0.76      0.83      1609\n",
      "           1       0.43      0.75      0.55       391\n",
      "\n",
      "    accuracy                           0.76      2000\n",
      "   macro avg       0.68      0.75      0.69      2000\n",
      "weighted avg       0.83      0.76      0.78      2000\n",
      "\n"
     ]
    }
   ],
   "source": [
    "print(classification_report(target_valid, prediction_valid_dt_downsampled))"
   ]
  },
  {
   "cell_type": "markdown",
   "metadata": {},
   "source": [
    "#### Случайный лес"
   ]
  },
  {
   "cell_type": "code",
   "execution_count": 54,
   "metadata": {},
   "outputs": [
    {
     "name": "stdout",
     "output_type": "stream",
     "text": [
      "Оптимальное количество оценок: 100\n",
      "Оптимальная глубина дерева: 9\n",
      "Качество модели: 0.5688976377952756\n"
     ]
    }
   ],
   "source": [
    "best_est = 0\n",
    "best_depth = 0\n",
    "best_score = 0\n",
    "best_model_rf_downsampled = None\n",
    "for est in range(10, 101, 10):\n",
    "    for depth in range(1, 10):\n",
    "        model = RandomForestClassifier(random_state=12345,\n",
    "                                              n_estimators=est, \n",
    "                                              max_depth=depth)\n",
    "        model.fit(features_downsampled, target_downsampled)\n",
    "        predictions_valid = model.predict(features_valid)\n",
    "        score = f1_score(target_valid, predictions_valid)\n",
    "        if score > best_score:\n",
    "            best_est = est\n",
    "            best_depth = depth\n",
    "            best_model_rf_downsampled = model\n",
    "print('Оптимальное количество оценок:', best_est)\n",
    "print('Оптимальная глубина дерева:', best_depth)\n",
    "print('Качество модели:', score)"
   ]
  },
  {
   "cell_type": "code",
   "execution_count": 55,
   "metadata": {},
   "outputs": [],
   "source": [
    "prediction_valid_rf_downsampled = best_model_rf_downsampled.predict(features_valid)"
   ]
  },
  {
   "cell_type": "code",
   "execution_count": 56,
   "metadata": {},
   "outputs": [
    {
     "name": "stdout",
     "output_type": "stream",
     "text": [
      "              precision    recall  f1-score   support\n",
      "\n",
      "           0       0.93      0.79      0.85      1609\n",
      "           1       0.46      0.74      0.57       391\n",
      "\n",
      "    accuracy                           0.78      2000\n",
      "   macro avg       0.69      0.77      0.71      2000\n",
      "weighted avg       0.84      0.78      0.80      2000\n",
      "\n"
     ]
    }
   ],
   "source": [
    "print(classification_report(target_valid, prediction_valid_rf_downsampled))"
   ]
  },
  {
   "cell_type": "markdown",
   "metadata": {},
   "source": [
    "#### Логистическая регрессия"
   ]
  },
  {
   "cell_type": "code",
   "execution_count": 57,
   "metadata": {},
   "outputs": [],
   "source": [
    "model_log_downsampled = LogisticRegression(random_state=12345, solver='liblinear')\n",
    "model_log_downsampled.fit(features_downsampled, target_downsampled)\n",
    "prediction_valid_log_downsampled = model_log_downsampled.predict(features_valid)"
   ]
  },
  {
   "cell_type": "code",
   "execution_count": 58,
   "metadata": {},
   "outputs": [
    {
     "name": "stdout",
     "output_type": "stream",
     "text": [
      "              precision    recall  f1-score   support\n",
      "\n",
      "           0       0.90      0.70      0.79      1609\n",
      "           1       0.36      0.69      0.47       391\n",
      "\n",
      "    accuracy                           0.70      2000\n",
      "   macro avg       0.63      0.70      0.63      2000\n",
      "weighted avg       0.80      0.70      0.73      2000\n",
      "\n"
     ]
    }
   ],
   "source": [
    "print(classification_report(target_valid, prediction_valid_log_downsampled))"
   ]
  },
  {
   "cell_type": "markdown",
   "metadata": {},
   "source": [
    "### Увеличение выборки"
   ]
  },
  {
   "cell_type": "markdown",
   "metadata": {},
   "source": [
    "#### Функция upsample"
   ]
  },
  {
   "cell_type": "code",
   "execution_count": 59,
   "metadata": {},
   "outputs": [],
   "source": [
    "def upsample(features, target, repeat):\n",
    "    features_zeros = features[target == 0]\n",
    "    features_ones = features[target == 1]\n",
    "    target_zeros = target[target == 0]\n",
    "    target_ones = target[target == 1]\n",
    "\n",
    "    features_upsampled = pd.concat([features_zeros] + [features_ones] * repeat)\n",
    "    target_upsampled = pd.concat([target_zeros] + [target_ones] * repeat)\n",
    "    \n",
    "    features_upsampled, target_upsampled = shuffle(\n",
    "        features_upsampled, target_upsampled, random_state=12345)\n",
    "    \n",
    "    return features_upsampled, target_upsampled\n",
    "\n",
    "features_upsampled, target_upsampled = upsample(features_train, target_train, 4)"
   ]
  },
  {
   "cell_type": "markdown",
   "metadata": {},
   "source": [
    "#### Дерево решений"
   ]
  },
  {
   "cell_type": "code",
   "execution_count": 60,
   "metadata": {},
   "outputs": [
    {
     "name": "stdout",
     "output_type": "stream",
     "text": [
      "Лучшая глубина дерева: 6\n",
      "Лучший показатель качества: 0.5572441742654509\n"
     ]
    }
   ],
   "source": [
    "best_depth = 0\n",
    "best_score = 0\n",
    "best_model_dt_upsampled = None\n",
    "for depth in range(1, 10):\n",
    "    model = DecisionTreeClassifier(max_depth=depth, random_state=12345)\n",
    "    model.fit(features_upsampled, target_upsampled)\n",
    "    prediction_valid = model.predict(features_valid)\n",
    "    score = f1_score(target_valid, prediction_valid)\n",
    "    if score > best_score:\n",
    "        best_score = score\n",
    "        best_depth = depth\n",
    "        best_model_dt_upsampled = model\n",
    "print(f'Лучшая глубина дерева: {best_depth}\\nЛучший показатель качества: {best_score}')"
   ]
  },
  {
   "cell_type": "code",
   "execution_count": 61,
   "metadata": {},
   "outputs": [],
   "source": [
    "prediction_valid_dt_upsampled = best_model_dt_upsampled.predict(features_valid)"
   ]
  },
  {
   "cell_type": "code",
   "execution_count": 62,
   "metadata": {},
   "outputs": [
    {
     "name": "stdout",
     "output_type": "stream",
     "text": [
      "              precision    recall  f1-score   support\n",
      "\n",
      "           0       0.92      0.80      0.85      1609\n",
      "           1       0.46      0.70      0.56       391\n",
      "\n",
      "    accuracy                           0.78      2000\n",
      "   macro avg       0.69      0.75      0.71      2000\n",
      "weighted avg       0.83      0.78      0.80      2000\n",
      "\n"
     ]
    }
   ],
   "source": [
    "print(classification_report(target_valid, prediction_valid_dt_upsampled))"
   ]
  },
  {
   "cell_type": "markdown",
   "metadata": {},
   "source": [
    "#### Случайный лес"
   ]
  },
  {
   "cell_type": "code",
   "execution_count": 63,
   "metadata": {},
   "outputs": [
    {
     "name": "stdout",
     "output_type": "stream",
     "text": [
      "Оптимальное количество оценок: 100\n",
      "Оптимальная глубина дерева: 9\n",
      "Качество модели: 0.5814977973568282\n"
     ]
    }
   ],
   "source": [
    "best_est = 0\n",
    "best_depth = 0\n",
    "best_score = 0\n",
    "best_model_rf_upsampled = None\n",
    "for est in range(10, 101, 10):\n",
    "    for depth in range(1, 10):\n",
    "        model = RandomForestClassifier(random_state=12345,\n",
    "                                              n_estimators=est, \n",
    "                                              max_depth=depth)\n",
    "        model.fit(features_upsampled, target_upsampled)\n",
    "        predictions_valid = model.predict(features_valid)\n",
    "        score = f1_score(target_valid, predictions_valid)\n",
    "        if score > best_score:\n",
    "            best_est = est\n",
    "            best_depth = depth\n",
    "            best_model = model\n",
    "            best_model_rf_upsampled = model\n",
    "print('Оптимальное количество оценок:', best_est)\n",
    "print('Оптимальная глубина дерева:', best_depth)\n",
    "print('Качество модели:', score)"
   ]
  },
  {
   "cell_type": "code",
   "execution_count": 64,
   "metadata": {},
   "outputs": [],
   "source": [
    "prediction_valid_rf_upsampled = best_model_rf_upsampled.predict(features_valid)"
   ]
  },
  {
   "cell_type": "code",
   "execution_count": 65,
   "metadata": {},
   "outputs": [
    {
     "name": "stdout",
     "output_type": "stream",
     "text": [
      "              precision    recall  f1-score   support\n",
      "\n",
      "           0       0.91      0.84      0.88      1609\n",
      "           1       0.51      0.68      0.58       391\n",
      "\n",
      "    accuracy                           0.81      2000\n",
      "   macro avg       0.71      0.76      0.73      2000\n",
      "weighted avg       0.84      0.81      0.82      2000\n",
      "\n"
     ]
    }
   ],
   "source": [
    "print(classification_report(target_valid, prediction_valid_rf_upsampled))"
   ]
  },
  {
   "cell_type": "markdown",
   "metadata": {},
   "source": [
    "#### Логистическая регрессия"
   ]
  },
  {
   "cell_type": "code",
   "execution_count": 66,
   "metadata": {},
   "outputs": [],
   "source": [
    "model_log_upsampled = LogisticRegression(random_state=12345, solver='liblinear')\n",
    "model_log_upsampled.fit(features_upsampled, target_upsampled)\n",
    "prediction_valid_log_upsampled = model_log_upsampled.predict(features_valid)"
   ]
  },
  {
   "cell_type": "code",
   "execution_count": 67,
   "metadata": {
    "scrolled": true
   },
   "outputs": [
    {
     "name": "stdout",
     "output_type": "stream",
     "text": [
      "              precision    recall  f1-score   support\n",
      "\n",
      "           0       0.90      0.71      0.79      1609\n",
      "           1       0.36      0.69      0.48       391\n",
      "\n",
      "    accuracy                           0.70      2000\n",
      "   macro avg       0.63      0.70      0.63      2000\n",
      "weighted avg       0.80      0.70      0.73      2000\n",
      "\n"
     ]
    }
   ],
   "source": [
    "print(classification_report(target_valid, prediction_valid_log_upsampled))"
   ]
  },
  {
   "cell_type": "markdown",
   "metadata": {},
   "source": [
    "### Исследование полученных данных"
   ]
  },
  {
   "cell_type": "markdown",
   "metadata": {},
   "source": [
    "Для удобства создадим отдельный датафрейи, который будет отображать все полученные метрики моделей."
   ]
  },
  {
   "cell_type": "code",
   "execution_count": 68,
   "metadata": {
    "scrolled": true
   },
   "outputs": [
    {
     "data": {
      "text/html": [
       "<div>\n",
       "<style scoped>\n",
       "    .dataframe tbody tr th:only-of-type {\n",
       "        vertical-align: middle;\n",
       "    }\n",
       "\n",
       "    .dataframe tbody tr th {\n",
       "        vertical-align: top;\n",
       "    }\n",
       "\n",
       "    .dataframe thead th {\n",
       "        text-align: right;\n",
       "    }\n",
       "</style>\n",
       "<table border=\"1\" class=\"dataframe\">\n",
       "  <thead>\n",
       "    <tr style=\"text-align: right;\">\n",
       "      <th></th>\n",
       "      <th>model_name</th>\n",
       "      <th>start_values</th>\n",
       "      <th>weight_values</th>\n",
       "      <th>downsampled_values</th>\n",
       "      <th>upsampled_values</th>\n",
       "    </tr>\n",
       "  </thead>\n",
       "  <tbody>\n",
       "    <tr>\n",
       "      <th>0</th>\n",
       "      <td>decision_tree</td>\n",
       "      <td>0.556604</td>\n",
       "      <td>0.557244</td>\n",
       "      <td>0.546816</td>\n",
       "      <td>0.557244</td>\n",
       "    </tr>\n",
       "    <tr>\n",
       "      <th>1</th>\n",
       "      <td>random_forest</td>\n",
       "      <td>0.540000</td>\n",
       "      <td>0.597839</td>\n",
       "      <td>0.568898</td>\n",
       "      <td>0.581498</td>\n",
       "    </tr>\n",
       "    <tr>\n",
       "      <th>2</th>\n",
       "      <td>logistic_regression</td>\n",
       "      <td>0.301318</td>\n",
       "      <td>0.474153</td>\n",
       "      <td>0.474934</td>\n",
       "      <td>0.477113</td>\n",
       "    </tr>\n",
       "  </tbody>\n",
       "</table>\n",
       "</div>"
      ],
      "text/plain": [
       "            model_name  start_values  weight_values  downsampled_values  \\\n",
       "0        decision_tree      0.556604       0.557244            0.546816   \n",
       "1        random_forest      0.540000       0.597839            0.568898   \n",
       "2  logistic_regression      0.301318       0.474153            0.474934   \n",
       "\n",
       "   upsampled_values  \n",
       "0          0.557244  \n",
       "1          0.581498  \n",
       "2          0.477113  "
      ]
     },
     "execution_count": 68,
     "metadata": {},
     "output_type": "execute_result"
    }
   ],
   "source": [
    "model_name = ['decision_tree', 'random_forest', 'logistic_regression']\n",
    "start_values = [f1_score(target_valid, prediction_valid_dt_start), \n",
    "                f1_score(target_valid, prediction_valid_rf_start), \n",
    "                f1_score(target_valid, prediction_valid_log_start)]\n",
    "weight_values = [f1_score(target_valid, prediction_valid_dt_weight),\n",
    "                 f1_score(target_valid, prediction_valid_rf_weight), \n",
    "                 f1_score(target_valid, prediction_valid_log_weight)]\n",
    "downsampled_values = [f1_score(target_valid, prediction_valid_dt_downsampled), \n",
    "                      f1_score(target_valid, prediction_valid_rf_downsampled), \n",
    "                      f1_score(target_valid, prediction_valid_log_downsampled)]\n",
    "upsampled_values = [f1_score(target_valid, prediction_valid_dt_upsampled), \n",
    "                    f1_score(target_valid, prediction_valid_rf_upsampled), \n",
    "                    f1_score(target_valid, prediction_valid_log_upsampled)]\n",
    "\n",
    "metrics = pd.DataFrame({\n",
    "    'model_name': model_name,\n",
    "    'start_values': start_values,\n",
    "    'weight_values': weight_values,\n",
    "    'downsampled_values': downsampled_values,\n",
    "    'upsampled_values': upsampled_values\n",
    "})\n",
    "\n",
    "metrics"
   ]
  },
  {
   "cell_type": "markdown",
   "metadata": {},
   "source": [
    "**Промежуточный вывод**\n",
    "\n",
    "- Наибольшее значение **f1-score** получается на модели `RandomForestClassifier` с помощью балансирования классов, поэтому для дальнейшего тестирования мы будем использовать её.\n",
    "- Уменьшение и увеличение выборок позволяет получить примерно одинаковый **f1-score**."
   ]
  },
  {
   "cell_type": "markdown",
   "metadata": {},
   "source": [
    "## Тестирование модели"
   ]
  },
  {
   "cell_type": "code",
   "execution_count": 69,
   "metadata": {},
   "outputs": [],
   "source": [
    "prediction_test = best_model_rf_weight.predict(features_test)"
   ]
  },
  {
   "cell_type": "code",
   "execution_count": 70,
   "metadata": {},
   "outputs": [
    {
     "name": "stdout",
     "output_type": "stream",
     "text": [
      "Accuracy: 0.839\n",
      "Recall: 0.65807962529274\n",
      "Precision: 0.6148796498905909\n",
      "F1: 0.6357466063348416\n",
      "AUC-ROC: 0.7730957567023141\n"
     ]
    }
   ],
   "source": [
    "print(\"Accuracy:\", accuracy_score(target_test, prediction_test))\n",
    "print(\"Recall:\", recall_score(target_test, prediction_test))\n",
    "print(\"Precision:\", precision_score(target_test, prediction_test))\n",
    "print(\"F1:\", f1_score(target_test, prediction_test))\n",
    "print(\"AUC-ROC:\", roc_auc_score(target_test, prediction_test))"
   ]
  },
  {
   "cell_type": "code",
   "execution_count": 71,
   "metadata": {},
   "outputs": [
    {
     "name": "stdout",
     "output_type": "stream",
     "text": [
      "AUC-ROC: 0.8670167388498238\n"
     ]
    }
   ],
   "source": [
    "probabilities_test = model.predict_proba(features_test)\n",
    "probabilities_one_test = probabilities_test[:, 1]\n",
    "print(\"AUC-ROC:\", roc_auc_score(target_test, probabilities_one_test))"
   ]
  },
  {
   "cell_type": "code",
   "execution_count": 72,
   "metadata": {},
   "outputs": [
    {
     "data": {
      "image/png": "[encoded data removed]",
      "text/plain": [
       "<Figure size 432x288 with 1 Axes>"
      ]
     },
     "metadata": {
      "needs_background": "light"
     },
     "output_type": "display_data"
    }
   ],
   "source": [
    "fpr, tpr, thresholds = roc_curve(target_test, probabilities_one_test)\n",
    "\n",
    "plt.figure()\n",
    "plt.plot(fpr, tpr)\n",
    "plt.plot([0, 1], [0, 1], linestyle='--')\n",
    "plt.xlim([0.0, 1.0])\n",
    "plt.ylim([0.0, 1.0])\n",
    "plt.xlabel('False Positive Rate')\n",
    "plt.ylabel('True Positive Rate')\n",
    "plt.title('ROC-кривая')\n",
    "plt.show() "
   ]
  },
  {
   "cell_type": "markdown",
   "metadata": {},
   "source": [
    "**Промежуточный вывод**\n",
    "\n",
    "- Удалось добиться **f1-score** на тестовой выборке не менее 0.59 (итоговое значение **0.63**)\n",
    "- **AUC-ROC** оказался больше **f1-score** (0.86)"
   ]
  },
  {
   "cell_type": "markdown",
   "metadata": {},
   "source": [
    "## Итоговый вывод"
   ]
  },
  {
   "cell_type": "markdown",
   "metadata": {},
   "source": [
    "1. Предобработка данных\n",
    "- Названия столбцов датафрейма были приведены к **snake_case**\n",
    "- Было заполнено 909 пропусков в столбце `tenure`\n",
    "- Были удалены столбцы `row_number`, `surname` и `customer_id`, так как они выполняли идентификационную функцию\n",
    "- Столбцы `gender` и `geography` были переведены методом OHE, избегая дамми-ловушек\n",
    "2. Исследование задачи\n",
    "Наилучшие результаты без учёта дисбаланса, наилучшие метрики f1 демонстрирует `RandomForestClassifier`, в то время как у `DecisiomTreeClassifier` наблюдается самое высокое значние **accuracy**. Матрицы ошибок также свидетельствуют о том, что у нас наблюдается сильный дисбаланс классов. Например, `DecisionTreeClassifier` и `RandomForestClassifier` показывают, что в среднем модель правильно определяет факт того, что клиент не ушел примерно в **96%** случаях, в то время как предсказание того, что клиент на самом деле ушел, верен в среднем лишь в **45%** случаев.\n",
    "\n",
    "\n",
    "3. Борьба с дисбалансом\n",
    "- Наибольшее значение **f1-score** получается на модели `RandomForestClassifier` с помощью балансирования классов, поэтому для дальнейшего тестирования мы будем использовать её.\n",
    "- Уменьшение и увеличение выборок позволяет получить примерно одинаковый **f1-score**.\n",
    "4. Тестирование модели\n",
    "- Удалось добиться **f1-score** на тестовой выборке не менее 0.59 (итоговое значение **0.63**)\n",
    "- **AUC-ROC** оказался больше **f1-score** (0.86)"
   ]
  },
  {
   "cell_type": "markdown",
   "metadata": {},
   "source": [
    "## Чек-лист готовности проекта"
   ]
  },
  {
   "cell_type": "markdown",
   "metadata": {},
   "source": [
    "Поставьте 'x' в выполненных пунктах. Далее нажмите Shift+Enter."
   ]
  },
  {
   "cell_type": "markdown",
   "metadata": {},
   "source": [
    "- [x]  Jupyter Notebook открыт\n",
    "- [x]  Весь код выполняется без ошибок\n",
    "- [x]  Ячейки с кодом расположены в порядке исполнения\n",
    "- [x]  Выполнен шаг 1: данные подготовлены\n",
    "- [x]  Выполнен шаг 2: задача исследована\n",
    "    - [x]  Исследован баланс классов\n",
    "    - [x]  Изучены модели без учёта дисбаланса\n",
    "    - [x]  Написаны выводы по результатам исследования\n",
    "- [x]  Выполнен шаг 3: учтён дисбаланс\n",
    "    - [x]  Применено несколько способов борьбы с дисбалансом\n",
    "    - [x]  Написаны выводы по результатам исследования\n",
    "- [x]  Выполнен шаг 4: проведено тестирование\n",
    "- [x]  Удалось достичь *F1*-меры не менее 0.59\n",
    "- [x]  Исследована метрика *AUC-ROC*"
   ]
  },
  {
   "cell_type": "code",
   "execution_count": null,
   "metadata": {},
   "outputs": [],
   "source": []
  }
 ],
 "metadata": {
  "ExecuteTimeLog": [
   {
    "duration": 389,
    "start_time": "2023-08-01T19:04:23.492Z"
   },
   {
    "duration": 104,
    "start_time": "2023-08-01T19:04:25.089Z"
   },
   {
    "duration": 20,
    "start_time": "2023-08-01T19:05:03.954Z"
   },
   {
    "duration": 3,
    "start_time": "2023-08-01T19:05:24.292Z"
   },
   {
    "duration": 16,
    "start_time": "2023-08-01T19:05:27.554Z"
   },
   {
    "duration": 94,
    "start_time": "2023-08-01T19:07:54.495Z"
   },
   {
    "duration": 14,
    "start_time": "2023-08-01T19:07:58.083Z"
   },
   {
    "duration": 9,
    "start_time": "2023-08-01T19:50:05.288Z"
   },
   {
    "duration": 3,
    "start_time": "2023-08-01T19:53:13.887Z"
   },
   {
    "duration": 7,
    "start_time": "2023-08-01T19:53:20.201Z"
   },
   {
    "duration": 5,
    "start_time": "2023-08-01T19:57:06.113Z"
   },
   {
    "duration": 3,
    "start_time": "2023-08-01T19:57:12.735Z"
   },
   {
    "duration": 6,
    "start_time": "2023-08-01T19:58:37.598Z"
   },
   {
    "duration": 7,
    "start_time": "2023-08-01T19:59:01.313Z"
   },
   {
    "duration": 6,
    "start_time": "2023-08-01T20:00:08.880Z"
   },
   {
    "duration": 7,
    "start_time": "2023-08-01T20:01:32.583Z"
   },
   {
    "duration": 3,
    "start_time": "2023-08-01T20:01:38.808Z"
   },
   {
    "duration": 2,
    "start_time": "2023-08-01T20:02:06.684Z"
   },
   {
    "duration": 42,
    "start_time": "2023-08-01T20:02:06.987Z"
   },
   {
    "duration": 12,
    "start_time": "2023-08-01T20:02:07.343Z"
   },
   {
    "duration": 24,
    "start_time": "2023-08-01T20:02:10.332Z"
   },
   {
    "duration": 5,
    "start_time": "2023-08-01T20:02:24.835Z"
   },
   {
    "duration": 3,
    "start_time": "2023-08-01T20:05:40.313Z"
   },
   {
    "duration": 5,
    "start_time": "2023-08-01T20:05:42.530Z"
   },
   {
    "duration": 50,
    "start_time": "2023-08-01T20:05:48.602Z"
   },
   {
    "duration": 5,
    "start_time": "2023-08-01T20:10:00.239Z"
   },
   {
    "duration": 5,
    "start_time": "2023-08-01T20:10:03.759Z"
   },
   {
    "duration": 3,
    "start_time": "2023-08-01T20:10:24.193Z"
   },
   {
    "duration": 8,
    "start_time": "2023-08-01T20:10:25.154Z"
   },
   {
    "duration": 4,
    "start_time": "2023-08-01T20:15:27.181Z"
   },
   {
    "duration": 14,
    "start_time": "2023-08-01T20:15:32.141Z"
   },
   {
    "duration": 21,
    "start_time": "2023-08-01T20:15:45.280Z"
   },
   {
    "duration": 3,
    "start_time": "2023-08-01T20:15:51.340Z"
   },
   {
    "duration": 49,
    "start_time": "2023-08-01T20:15:51.344Z"
   },
   {
    "duration": 10,
    "start_time": "2023-08-01T20:15:51.395Z"
   },
   {
    "duration": 37,
    "start_time": "2023-08-01T20:15:51.407Z"
   },
   {
    "duration": 3,
    "start_time": "2023-08-01T20:15:51.445Z"
   },
   {
    "duration": 18,
    "start_time": "2023-08-01T20:15:51.449Z"
   },
   {
    "duration": 17,
    "start_time": "2023-08-01T20:15:51.468Z"
   },
   {
    "duration": 8,
    "start_time": "2023-08-01T20:15:51.486Z"
   },
   {
    "duration": 16,
    "start_time": "2023-08-01T20:15:51.495Z"
   },
   {
    "duration": 25,
    "start_time": "2023-08-01T20:15:51.512Z"
   },
   {
    "duration": 20,
    "start_time": "2023-08-01T20:15:51.539Z"
   },
   {
    "duration": 24,
    "start_time": "2023-08-01T20:15:51.561Z"
   },
   {
    "duration": 16,
    "start_time": "2023-08-01T20:16:39.815Z"
   },
   {
    "duration": 4,
    "start_time": "2023-08-01T20:16:54.137Z"
   },
   {
    "duration": 19,
    "start_time": "2023-08-01T20:19:27.759Z"
   },
   {
    "duration": 4,
    "start_time": "2023-08-01T20:19:43.953Z"
   },
   {
    "duration": 3,
    "start_time": "2023-08-01T20:19:51.586Z"
   },
   {
    "duration": 2,
    "start_time": "2023-08-01T20:19:57.692Z"
   },
   {
    "duration": 50,
    "start_time": "2023-08-01T20:19:57.697Z"
   },
   {
    "duration": 11,
    "start_time": "2023-08-01T20:19:57.748Z"
   },
   {
    "duration": 12,
    "start_time": "2023-08-01T20:19:57.760Z"
   },
   {
    "duration": 2,
    "start_time": "2023-08-01T20:19:57.774Z"
   },
   {
    "duration": 10,
    "start_time": "2023-08-01T20:19:57.778Z"
   },
   {
    "duration": 13,
    "start_time": "2023-08-01T20:19:57.790Z"
   },
   {
    "duration": 7,
    "start_time": "2023-08-01T20:19:57.804Z"
   },
   {
    "duration": 10,
    "start_time": "2023-08-01T20:19:57.826Z"
   },
   {
    "duration": 18,
    "start_time": "2023-08-01T20:19:57.837Z"
   },
   {
    "duration": 13,
    "start_time": "2023-08-01T20:19:57.856Z"
   },
   {
    "duration": 18,
    "start_time": "2023-08-01T20:19:57.870Z"
   },
   {
    "duration": 7,
    "start_time": "2023-08-01T20:19:57.889Z"
   },
   {
    "duration": 6,
    "start_time": "2023-08-01T20:19:57.898Z"
   },
   {
    "duration": 28,
    "start_time": "2023-08-01T20:19:57.905Z"
   },
   {
    "duration": 25,
    "start_time": "2023-08-01T20:19:57.934Z"
   },
   {
    "duration": 3,
    "start_time": "2023-08-01T20:19:57.961Z"
   },
   {
    "duration": 7,
    "start_time": "2023-08-01T20:27:21.538Z"
   },
   {
    "duration": 9,
    "start_time": "2023-08-01T20:27:28.307Z"
   },
   {
    "duration": 9,
    "start_time": "2023-08-01T20:27:34.148Z"
   },
   {
    "duration": 4,
    "start_time": "2023-08-01T20:27:48.838Z"
   },
   {
    "duration": 698,
    "start_time": "2023-08-01T20:28:13.241Z"
   },
   {
    "duration": 37,
    "start_time": "2023-08-01T20:29:57.944Z"
   },
   {
    "duration": 6,
    "start_time": "2023-08-01T20:30:05.913Z"
   },
   {
    "duration": 5,
    "start_time": "2023-08-01T20:32:13.451Z"
   },
   {
    "duration": 5,
    "start_time": "2023-08-01T20:32:13.899Z"
   },
   {
    "duration": 5,
    "start_time": "2023-08-01T20:32:53.009Z"
   },
   {
    "duration": 40,
    "start_time": "2023-08-01T20:33:24.390Z"
   },
   {
    "duration": 5,
    "start_time": "2023-08-01T20:33:26.949Z"
   },
   {
    "duration": 5,
    "start_time": "2023-08-01T20:33:28.550Z"
   },
   {
    "duration": 2,
    "start_time": "2023-08-01T20:38:25.664Z"
   },
   {
    "duration": 3,
    "start_time": "2023-08-01T20:39:14.933Z"
   },
   {
    "duration": 7,
    "start_time": "2023-08-01T20:39:56.781Z"
   },
   {
    "duration": 2,
    "start_time": "2023-08-01T20:40:02.350Z"
   },
   {
    "duration": 11,
    "start_time": "2023-08-01T20:40:18.032Z"
   },
   {
    "duration": 7,
    "start_time": "2023-08-01T20:41:03.984Z"
   },
   {
    "duration": 17,
    "start_time": "2023-08-01T20:41:10.359Z"
   },
   {
    "duration": 15,
    "start_time": "2023-08-01T20:41:52.034Z"
   },
   {
    "duration": 13,
    "start_time": "2023-08-01T20:42:05.760Z"
   },
   {
    "duration": 21,
    "start_time": "2023-08-01T20:42:43.221Z"
   },
   {
    "duration": 2,
    "start_time": "2023-08-01T20:43:04.600Z"
   },
   {
    "duration": 17,
    "start_time": "2023-08-01T20:43:09.980Z"
   },
   {
    "duration": 49,
    "start_time": "2023-08-01T20:46:06.083Z"
   },
   {
    "duration": 4,
    "start_time": "2023-08-01T20:48:42.081Z"
   },
   {
    "duration": 81,
    "start_time": "2023-08-01T20:50:19.414Z"
   },
   {
    "duration": 106,
    "start_time": "2023-08-01T20:52:14.982Z"
   },
   {
    "duration": 75,
    "start_time": "2023-08-01T20:52:21.606Z"
   },
   {
    "duration": 79,
    "start_time": "2023-08-01T20:55:15.681Z"
   },
   {
    "duration": 79,
    "start_time": "2023-08-01T20:55:25.985Z"
   },
   {
    "duration": 14,
    "start_time": "2023-08-01T20:56:59.182Z"
   },
   {
    "duration": 10,
    "start_time": "2023-08-01T20:57:03.550Z"
   },
   {
    "duration": 8,
    "start_time": "2023-08-01T20:57:11.664Z"
   },
   {
    "duration": 11116,
    "start_time": "2023-08-01T21:00:44.846Z"
   },
   {
    "duration": 275,
    "start_time": "2023-08-01T21:09:42.239Z"
   },
   {
    "duration": 7,
    "start_time": "2023-08-01T21:09:42.644Z"
   },
   {
    "duration": 9,
    "start_time": "2023-08-01T21:10:57.990Z"
   },
   {
    "duration": 279,
    "start_time": "2023-08-01T21:11:01.733Z"
   },
   {
    "duration": 13,
    "start_time": "2023-08-01T21:11:05.224Z"
   },
   {
    "duration": 282,
    "start_time": "2023-08-01T21:11:20.951Z"
   },
   {
    "duration": 8,
    "start_time": "2023-08-01T21:11:21.442Z"
   },
   {
    "duration": 14,
    "start_time": "2023-08-01T21:11:36.928Z"
   },
   {
    "duration": 9,
    "start_time": "2023-08-01T21:11:40.312Z"
   },
   {
    "duration": 4,
    "start_time": "2023-08-01T21:12:23.142Z"
   },
   {
    "duration": 63,
    "start_time": "2023-08-01T21:12:23.148Z"
   },
   {
    "duration": 11,
    "start_time": "2023-08-01T21:12:23.212Z"
   },
   {
    "duration": 17,
    "start_time": "2023-08-01T21:12:23.225Z"
   },
   {
    "duration": 12,
    "start_time": "2023-08-01T21:12:23.243Z"
   },
   {
    "duration": 22,
    "start_time": "2023-08-01T21:12:23.256Z"
   },
   {
    "duration": 21,
    "start_time": "2023-08-01T21:12:23.279Z"
   },
   {
    "duration": 10,
    "start_time": "2023-08-01T21:12:23.301Z"
   },
   {
    "duration": 5,
    "start_time": "2023-08-01T21:12:23.312Z"
   },
   {
    "duration": 9,
    "start_time": "2023-08-01T21:12:23.318Z"
   },
   {
    "duration": 13,
    "start_time": "2023-08-01T21:12:23.328Z"
   },
   {
    "duration": 24,
    "start_time": "2023-08-01T21:12:23.343Z"
   },
   {
    "duration": 13,
    "start_time": "2023-08-01T21:12:23.368Z"
   },
   {
    "duration": 7,
    "start_time": "2023-08-01T21:12:23.383Z"
   },
   {
    "duration": 9,
    "start_time": "2023-08-01T21:12:23.391Z"
   },
   {
    "duration": 25,
    "start_time": "2023-08-01T21:12:23.401Z"
   },
   {
    "duration": 17,
    "start_time": "2023-08-01T21:12:23.427Z"
   },
   {
    "duration": 31,
    "start_time": "2023-08-01T21:12:23.446Z"
   },
   {
    "duration": 42,
    "start_time": "2023-08-01T21:12:23.478Z"
   },
   {
    "duration": 18,
    "start_time": "2023-08-01T21:12:23.522Z"
   },
   {
    "duration": 16,
    "start_time": "2023-08-01T21:12:23.541Z"
   },
   {
    "duration": 21,
    "start_time": "2023-08-01T21:12:23.558Z"
   },
   {
    "duration": 38,
    "start_time": "2023-08-01T21:12:23.581Z"
   },
   {
    "duration": 19,
    "start_time": "2023-08-01T21:12:23.620Z"
   },
   {
    "duration": 17,
    "start_time": "2023-08-01T21:12:23.640Z"
   },
   {
    "duration": 124,
    "start_time": "2023-08-01T21:12:23.659Z"
   },
   {
    "duration": 6,
    "start_time": "2023-08-01T21:12:23.785Z"
   },
   {
    "duration": 36,
    "start_time": "2023-08-01T21:12:23.793Z"
   },
   {
    "duration": 9531,
    "start_time": "2023-08-01T21:12:23.830Z"
   },
   {
    "duration": 246,
    "start_time": "2023-08-01T21:12:33.363Z"
   },
   {
    "duration": 13,
    "start_time": "2023-08-01T21:12:33.610Z"
   },
   {
    "duration": 13,
    "start_time": "2023-08-01T21:12:33.625Z"
   },
   {
    "duration": 186,
    "start_time": "2023-08-01T21:12:33.642Z"
   },
   {
    "duration": 14,
    "start_time": "2023-08-01T21:16:05.216Z"
   },
   {
    "duration": 10,
    "start_time": "2023-08-01T21:16:07.857Z"
   },
   {
    "duration": 274,
    "start_time": "2023-08-01T21:16:20.566Z"
   },
   {
    "duration": 10,
    "start_time": "2023-08-01T21:16:25.381Z"
   },
   {
    "duration": 9,
    "start_time": "2023-08-01T21:16:35.680Z"
   },
   {
    "duration": 10,
    "start_time": "2023-08-01T21:16:37.589Z"
   },
   {
    "duration": 257,
    "start_time": "2023-08-01T21:16:43.029Z"
   },
   {
    "duration": 10,
    "start_time": "2023-08-01T21:16:43.654Z"
   },
   {
    "duration": 11,
    "start_time": "2023-08-01T21:16:54.007Z"
   },
   {
    "duration": 12,
    "start_time": "2023-08-01T21:16:54.471Z"
   },
   {
    "duration": 57,
    "start_time": "2023-08-02T09:52:58.226Z"
   },
   {
    "duration": 1218,
    "start_time": "2023-08-02T09:53:00.834Z"
   },
   {
    "duration": 168,
    "start_time": "2023-08-02T09:53:02.054Z"
   },
   {
    "duration": 20,
    "start_time": "2023-08-02T09:53:02.224Z"
   },
   {
    "duration": 48,
    "start_time": "2023-08-02T09:53:02.246Z"
   },
   {
    "duration": 28,
    "start_time": "2023-08-02T09:53:02.296Z"
   },
   {
    "duration": 63,
    "start_time": "2023-08-02T09:53:02.326Z"
   },
   {
    "duration": 53,
    "start_time": "2023-08-02T09:53:02.391Z"
   },
   {
    "duration": 49,
    "start_time": "2023-08-02T09:53:02.446Z"
   },
   {
    "duration": 16,
    "start_time": "2023-08-02T09:53:02.497Z"
   },
   {
    "duration": 31,
    "start_time": "2023-08-02T09:53:02.515Z"
   },
   {
    "duration": 45,
    "start_time": "2023-08-02T09:53:02.548Z"
   },
   {
    "duration": 41,
    "start_time": "2023-08-02T09:53:02.595Z"
   },
   {
    "duration": 10,
    "start_time": "2023-08-02T09:53:02.638Z"
   },
   {
    "duration": 19,
    "start_time": "2023-08-02T09:53:02.651Z"
   },
   {
    "duration": 10,
    "start_time": "2023-08-02T09:53:02.673Z"
   },
   {
    "duration": 67,
    "start_time": "2023-08-02T09:53:02.686Z"
   },
   {
    "duration": 29,
    "start_time": "2023-08-02T09:53:02.755Z"
   },
   {
    "duration": 21,
    "start_time": "2023-08-02T09:53:02.786Z"
   },
   {
    "duration": 46,
    "start_time": "2023-08-02T09:53:02.810Z"
   },
   {
    "duration": 40,
    "start_time": "2023-08-02T09:53:02.858Z"
   },
   {
    "duration": 13,
    "start_time": "2023-08-02T09:53:02.900Z"
   },
   {
    "duration": 17,
    "start_time": "2023-08-02T09:53:02.920Z"
   },
   {
    "duration": 17,
    "start_time": "2023-08-02T09:53:02.939Z"
   },
   {
    "duration": 29,
    "start_time": "2023-08-02T09:53:02.958Z"
   },
   {
    "duration": 19,
    "start_time": "2023-08-02T09:53:02.989Z"
   },
   {
    "duration": 82,
    "start_time": "2023-08-02T09:53:03.009Z"
   },
   {
    "duration": 13,
    "start_time": "2023-08-02T09:53:03.093Z"
   },
   {
    "duration": 13,
    "start_time": "2023-08-02T09:53:03.108Z"
   },
   {
    "duration": 11299,
    "start_time": "2023-08-02T09:53:03.123Z"
   },
   {
    "duration": 310,
    "start_time": "2023-08-02T09:53:14.424Z"
   },
   {
    "duration": 9,
    "start_time": "2023-08-02T09:53:14.736Z"
   },
   {
    "duration": 25,
    "start_time": "2023-08-02T09:53:14.746Z"
   },
   {
    "duration": 85,
    "start_time": "2023-08-02T09:53:14.777Z"
   },
   {
    "duration": 162,
    "start_time": "2023-08-02T09:53:14.866Z"
   },
   {
    "duration": 13,
    "start_time": "2023-08-02T09:55:02.402Z"
   },
   {
    "duration": 14,
    "start_time": "2023-08-02T09:55:08.142Z"
   },
   {
    "duration": 14,
    "start_time": "2023-08-02T09:55:10.015Z"
   },
   {
    "duration": 10796,
    "start_time": "2023-08-02T09:56:22.137Z"
   },
   {
    "duration": 270,
    "start_time": "2023-08-02T09:57:07.263Z"
   },
   {
    "duration": 15,
    "start_time": "2023-08-02T09:57:08.128Z"
   },
   {
    "duration": 11,
    "start_time": "2023-08-02T09:58:10.233Z"
   },
   {
    "duration": 12,
    "start_time": "2023-08-02T09:58:13.417Z"
   },
   {
    "duration": 71,
    "start_time": "2023-08-02T10:01:37.781Z"
   },
   {
    "duration": 4,
    "start_time": "2023-08-02T10:01:51.821Z"
   },
   {
    "duration": 11,
    "start_time": "2023-08-02T10:01:59.707Z"
   },
   {
    "duration": 57,
    "start_time": "2023-08-02T10:02:50.417Z"
   },
   {
    "duration": 8,
    "start_time": "2023-08-02T10:03:20.774Z"
   },
   {
    "duration": 16,
    "start_time": "2023-08-02T10:03:33.078Z"
   },
   {
    "duration": 50,
    "start_time": "2023-08-02T10:03:46.141Z"
   },
   {
    "duration": 9,
    "start_time": "2023-08-02T10:03:49.499Z"
   },
   {
    "duration": 12,
    "start_time": "2023-08-02T10:03:49.864Z"
   },
   {
    "duration": 8806,
    "start_time": "2023-08-02T10:04:57.267Z"
   },
   {
    "duration": 202,
    "start_time": "2023-08-02T10:05:25.222Z"
   },
   {
    "duration": 16,
    "start_time": "2023-08-02T10:05:38.030Z"
   },
   {
    "duration": 15,
    "start_time": "2023-08-02T10:06:27.423Z"
   },
   {
    "duration": 13,
    "start_time": "2023-08-02T10:06:50.642Z"
   },
   {
    "duration": 10,
    "start_time": "2023-08-02T10:08:33.635Z"
   },
   {
    "duration": 81,
    "start_time": "2023-08-02T10:09:17.719Z"
   },
   {
    "duration": 16,
    "start_time": "2023-08-02T10:09:43.147Z"
   },
   {
    "duration": 17,
    "start_time": "2023-08-02T10:09:51.357Z"
   },
   {
    "duration": 13993,
    "start_time": "2023-08-02T10:10:28.481Z"
   },
   {
    "duration": 388,
    "start_time": "2023-08-02T10:10:58.453Z"
   },
   {
    "duration": 11,
    "start_time": "2023-08-02T10:11:09.399Z"
   },
   {
    "duration": 16,
    "start_time": "2023-08-02T10:11:40.428Z"
   },
   {
    "duration": 12,
    "start_time": "2023-08-02T10:11:51.838Z"
   },
   {
    "duration": 73,
    "start_time": "2023-08-02T10:16:15.574Z"
   },
   {
    "duration": 13,
    "start_time": "2023-08-02T10:16:21.236Z"
   },
   {
    "duration": 18,
    "start_time": "2023-08-02T10:16:24.072Z"
   },
   {
    "duration": 10,
    "start_time": "2023-08-02T10:16:25.044Z"
   },
   {
    "duration": 10944,
    "start_time": "2023-08-02T10:16:41.238Z"
   },
   {
    "duration": 288,
    "start_time": "2023-08-02T10:16:59.128Z"
   },
   {
    "duration": 10,
    "start_time": "2023-08-02T10:16:59.624Z"
   },
   {
    "duration": 77,
    "start_time": "2023-08-02T10:17:46.608Z"
   },
   {
    "duration": 15,
    "start_time": "2023-08-02T10:17:50.384Z"
   },
   {
    "duration": 11,
    "start_time": "2023-08-02T10:17:52.112Z"
   },
   {
    "duration": 11042,
    "start_time": "2023-08-02T10:18:09.938Z"
   },
   {
    "duration": 73,
    "start_time": "2023-08-02T10:18:32.198Z"
   },
   {
    "duration": 9104,
    "start_time": "2023-08-02T10:18:48.089Z"
   },
   {
    "duration": 98,
    "start_time": "2023-08-02T10:19:08.779Z"
   },
   {
    "duration": 21,
    "start_time": "2023-08-02T10:19:12.092Z"
   },
   {
    "duration": 18,
    "start_time": "2023-08-02T10:19:13.901Z"
   },
   {
    "duration": 13914,
    "start_time": "2023-08-02T10:19:19.229Z"
   },
   {
    "duration": 11,
    "start_time": "2023-08-02T10:23:38.706Z"
   },
   {
    "duration": 12,
    "start_time": "2023-08-02T10:24:13.374Z"
   },
   {
    "duration": 11,
    "start_time": "2023-08-02T10:26:21.002Z"
   },
   {
    "duration": 309,
    "start_time": "2023-08-02T10:35:59.132Z"
   },
   {
    "duration": 10,
    "start_time": "2023-08-02T10:37:15.542Z"
   },
   {
    "duration": 325,
    "start_time": "2023-08-02T10:37:20.326Z"
   },
   {
    "duration": 22,
    "start_time": "2023-08-02T10:37:20.854Z"
   },
   {
    "duration": 20,
    "start_time": "2023-08-02T10:37:43.979Z"
   },
   {
    "duration": 81,
    "start_time": "2023-08-02T10:39:07.429Z"
   },
   {
    "duration": 12,
    "start_time": "2023-08-02T10:41:06.519Z"
   },
   {
    "duration": 427,
    "start_time": "2023-08-02T10:41:22.745Z"
   },
   {
    "duration": 151,
    "start_time": "2023-08-02T10:41:32.347Z"
   },
   {
    "duration": 123,
    "start_time": "2023-08-02T10:42:05.727Z"
   },
   {
    "duration": 8,
    "start_time": "2023-08-02T10:48:44.013Z"
   },
   {
    "duration": 161,
    "start_time": "2023-08-02T10:48:44.024Z"
   },
   {
    "duration": 22,
    "start_time": "2023-08-02T10:48:44.187Z"
   },
   {
    "duration": 16,
    "start_time": "2023-08-02T10:48:44.211Z"
   },
   {
    "duration": 3,
    "start_time": "2023-08-02T10:48:44.230Z"
   },
   {
    "duration": 25,
    "start_time": "2023-08-02T10:48:44.235Z"
   },
   {
    "duration": 23,
    "start_time": "2023-08-02T10:48:44.262Z"
   },
   {
    "duration": 15,
    "start_time": "2023-08-02T10:48:44.287Z"
   },
   {
    "duration": 6,
    "start_time": "2023-08-02T10:48:44.304Z"
   },
   {
    "duration": 27,
    "start_time": "2023-08-02T10:48:44.312Z"
   },
   {
    "duration": 5,
    "start_time": "2023-08-02T10:48:44.341Z"
   },
   {
    "duration": 32,
    "start_time": "2023-08-02T10:48:44.348Z"
   },
   {
    "duration": 9,
    "start_time": "2023-08-02T10:48:44.382Z"
   },
   {
    "duration": 6,
    "start_time": "2023-08-02T10:48:44.395Z"
   },
   {
    "duration": 14,
    "start_time": "2023-08-02T10:48:44.403Z"
   },
   {
    "duration": 45,
    "start_time": "2023-08-02T10:48:44.419Z"
   },
   {
    "duration": 5,
    "start_time": "2023-08-02T10:48:44.466Z"
   },
   {
    "duration": 7,
    "start_time": "2023-08-02T10:48:44.476Z"
   },
   {
    "duration": 7,
    "start_time": "2023-08-02T10:48:44.485Z"
   },
   {
    "duration": 5,
    "start_time": "2023-08-02T10:48:44.493Z"
   },
   {
    "duration": 3,
    "start_time": "2023-08-02T10:48:44.500Z"
   },
   {
    "duration": 19,
    "start_time": "2023-08-02T10:48:44.504Z"
   },
   {
    "duration": 49,
    "start_time": "2023-08-02T10:48:44.525Z"
   },
   {
    "duration": 20,
    "start_time": "2023-08-02T10:48:44.576Z"
   },
   {
    "duration": 23,
    "start_time": "2023-08-02T10:48:44.597Z"
   },
   {
    "duration": 104,
    "start_time": "2023-08-02T10:48:44.622Z"
   },
   {
    "duration": 14,
    "start_time": "2023-08-02T10:48:44.728Z"
   },
   {
    "duration": 24,
    "start_time": "2023-08-02T10:48:44.744Z"
   },
   {
    "duration": 11543,
    "start_time": "2023-08-02T10:48:44.769Z"
   },
   {
    "duration": 299,
    "start_time": "2023-08-02T10:48:56.315Z"
   },
   {
    "duration": 10,
    "start_time": "2023-08-02T10:48:56.616Z"
   },
   {
    "duration": 51,
    "start_time": "2023-08-02T10:48:56.628Z"
   },
   {
    "duration": 186,
    "start_time": "2023-08-02T10:48:56.681Z"
   },
   {
    "duration": 100,
    "start_time": "2023-08-02T10:48:56.869Z"
   },
   {
    "duration": 14,
    "start_time": "2023-08-02T10:48:56.977Z"
   },
   {
    "duration": 12,
    "start_time": "2023-08-02T10:48:56.992Z"
   },
   {
    "duration": 11815,
    "start_time": "2023-08-02T10:48:57.006Z"
   },
   {
    "duration": 299,
    "start_time": "2023-08-02T10:49:08.823Z"
   },
   {
    "duration": 12,
    "start_time": "2023-08-02T10:49:09.124Z"
   },
   {
    "duration": 50,
    "start_time": "2023-08-02T10:49:09.138Z"
   },
   {
    "duration": 84,
    "start_time": "2023-08-02T10:49:09.193Z"
   },
   {
    "duration": 91,
    "start_time": "2023-08-02T10:49:09.280Z"
   },
   {
    "duration": 56,
    "start_time": "2023-08-02T10:49:09.374Z"
   },
   {
    "duration": 9,
    "start_time": "2023-08-02T10:49:09.432Z"
   },
   {
    "duration": 34,
    "start_time": "2023-08-02T10:49:09.443Z"
   },
   {
    "duration": 9165,
    "start_time": "2023-08-02T10:49:09.478Z"
   },
   {
    "duration": 229,
    "start_time": "2023-08-02T10:49:18.645Z"
   },
   {
    "duration": 12,
    "start_time": "2023-08-02T10:49:18.877Z"
   },
   {
    "duration": 73,
    "start_time": "2023-08-02T10:49:18.891Z"
   },
   {
    "duration": 104,
    "start_time": "2023-08-02T10:49:18.966Z"
   },
   {
    "duration": 11,
    "start_time": "2023-08-02T10:49:19.074Z"
   },
   {
    "duration": 150,
    "start_time": "2023-08-02T10:49:19.087Z"
   },
   {
    "duration": 21,
    "start_time": "2023-08-02T10:49:19.239Z"
   },
   {
    "duration": 12,
    "start_time": "2023-08-02T10:49:19.270Z"
   },
   {
    "duration": 14349,
    "start_time": "2023-08-02T10:49:19.283Z"
   },
   {
    "duration": 393,
    "start_time": "2023-08-02T10:49:33.634Z"
   },
   {
    "duration": 15,
    "start_time": "2023-08-02T10:49:34.029Z"
   },
   {
    "duration": 54,
    "start_time": "2023-08-02T10:49:34.046Z"
   },
   {
    "duration": 164,
    "start_time": "2023-08-02T10:49:34.103Z"
   },
   {
    "duration": 15,
    "start_time": "2023-08-02T10:49:34.276Z"
   },
   {
    "duration": 386,
    "start_time": "2023-08-02T10:49:34.293Z"
   },
   {
    "duration": 17,
    "start_time": "2023-08-02T10:49:34.681Z"
   },
   {
    "duration": 107,
    "start_time": "2023-08-02T10:49:34.700Z"
   },
   {
    "duration": 131,
    "start_time": "2023-08-02T10:49:34.809Z"
   },
   {
    "duration": 1752,
    "start_time": "2023-08-03T05:38:19.560Z"
   },
   {
    "duration": 167,
    "start_time": "2023-08-03T05:38:21.314Z"
   },
   {
    "duration": 17,
    "start_time": "2023-08-03T05:38:21.482Z"
   },
   {
    "duration": 13,
    "start_time": "2023-08-03T05:38:21.501Z"
   },
   {
    "duration": 5,
    "start_time": "2023-08-03T05:38:21.516Z"
   },
   {
    "duration": 8,
    "start_time": "2023-08-03T05:38:21.523Z"
   },
   {
    "duration": 30,
    "start_time": "2023-08-03T05:38:21.533Z"
   },
   {
    "duration": 8,
    "start_time": "2023-08-03T05:38:21.565Z"
   },
   {
    "duration": 17,
    "start_time": "2023-08-03T05:38:21.574Z"
   },
   {
    "duration": 11,
    "start_time": "2023-08-03T05:38:21.594Z"
   },
   {
    "duration": 36,
    "start_time": "2023-08-03T05:38:21.607Z"
   },
   {
    "duration": 27,
    "start_time": "2023-08-03T05:38:21.645Z"
   },
   {
    "duration": 15,
    "start_time": "2023-08-03T05:38:21.674Z"
   },
   {
    "duration": 13,
    "start_time": "2023-08-03T05:38:21.691Z"
   },
   {
    "duration": 5,
    "start_time": "2023-08-03T05:38:21.706Z"
   },
   {
    "duration": 47,
    "start_time": "2023-08-03T05:38:21.713Z"
   },
   {
    "duration": 4,
    "start_time": "2023-08-03T05:38:21.763Z"
   },
   {
    "duration": 8,
    "start_time": "2023-08-03T05:38:21.769Z"
   },
   {
    "duration": 10,
    "start_time": "2023-08-03T05:38:21.778Z"
   },
   {
    "duration": 6,
    "start_time": "2023-08-03T05:38:21.790Z"
   },
   {
    "duration": 10,
    "start_time": "2023-08-03T05:38:21.798Z"
   },
   {
    "duration": 13,
    "start_time": "2023-08-03T05:38:21.810Z"
   },
   {
    "duration": 46,
    "start_time": "2023-08-03T05:38:21.825Z"
   },
   {
    "duration": 19,
    "start_time": "2023-08-03T05:38:21.873Z"
   },
   {
    "duration": 32,
    "start_time": "2023-08-03T05:38:21.895Z"
   },
   {
    "duration": 87,
    "start_time": "2023-08-03T05:38:21.957Z"
   },
   {
    "duration": 29,
    "start_time": "2023-08-03T05:38:22.046Z"
   },
   {
    "duration": 13,
    "start_time": "2023-08-03T05:38:22.081Z"
   },
   {
    "duration": 11071,
    "start_time": "2023-08-03T05:38:22.096Z"
   },
   {
    "duration": 302,
    "start_time": "2023-08-03T05:38:33.170Z"
   },
   {
    "duration": 9,
    "start_time": "2023-08-03T05:38:33.474Z"
   },
   {
    "duration": 74,
    "start_time": "2023-08-03T05:38:33.485Z"
   },
   {
    "duration": 104,
    "start_time": "2023-08-03T05:38:33.561Z"
   },
   {
    "duration": 124,
    "start_time": "2023-08-03T05:38:33.667Z"
   },
   {
    "duration": 16,
    "start_time": "2023-08-03T05:38:33.792Z"
   },
   {
    "duration": 14,
    "start_time": "2023-08-03T05:38:33.810Z"
   },
   {
    "duration": 11384,
    "start_time": "2023-08-03T05:38:33.826Z"
   },
   {
    "duration": 296,
    "start_time": "2023-08-03T05:38:45.213Z"
   },
   {
    "duration": 14,
    "start_time": "2023-08-03T05:38:45.510Z"
   },
   {
    "duration": 52,
    "start_time": "2023-08-03T05:38:45.525Z"
   },
   {
    "duration": 14,
    "start_time": "2023-08-03T05:38:45.657Z"
   },
   {
    "duration": 18,
    "start_time": "2023-08-03T05:38:45.673Z"
   },
   {
    "duration": 118,
    "start_time": "2023-08-03T05:38:45.693Z"
   },
   {
    "duration": 10,
    "start_time": "2023-08-03T05:38:45.813Z"
   },
   {
    "duration": 42,
    "start_time": "2023-08-03T05:38:45.825Z"
   },
   {
    "duration": 8949,
    "start_time": "2023-08-03T05:38:45.870Z"
   },
   {
    "duration": 196,
    "start_time": "2023-08-03T05:38:54.822Z"
   },
   {
    "duration": 15,
    "start_time": "2023-08-03T05:38:55.020Z"
   },
   {
    "duration": 38,
    "start_time": "2023-08-03T05:38:55.037Z"
   },
   {
    "duration": 84,
    "start_time": "2023-08-03T05:38:55.084Z"
   },
   {
    "duration": 93,
    "start_time": "2023-08-03T05:38:55.170Z"
   },
   {
    "duration": 116,
    "start_time": "2023-08-03T05:38:55.265Z"
   },
   {
    "duration": 17,
    "start_time": "2023-08-03T05:38:55.383Z"
   },
   {
    "duration": 12,
    "start_time": "2023-08-03T05:38:55.402Z"
   },
   {
    "duration": 14101,
    "start_time": "2023-08-03T05:38:55.416Z"
   },
   {
    "duration": 383,
    "start_time": "2023-08-03T05:39:09.520Z"
   },
   {
    "duration": 17,
    "start_time": "2023-08-03T05:39:09.906Z"
   },
   {
    "duration": 144,
    "start_time": "2023-08-03T05:39:09.925Z"
   },
   {
    "duration": 97,
    "start_time": "2023-08-03T05:39:10.071Z"
   },
   {
    "duration": 17,
    "start_time": "2023-08-03T05:39:10.170Z"
   },
   {
    "duration": 360,
    "start_time": "2023-08-03T05:39:10.189Z"
   },
   {
    "duration": 17,
    "start_time": "2023-08-03T05:39:10.550Z"
   },
   {
    "duration": 96,
    "start_time": "2023-08-03T05:39:10.568Z"
   },
   {
    "duration": 140,
    "start_time": "2023-08-03T05:39:10.666Z"
   },
   {
    "duration": 114,
    "start_time": "2023-08-03T05:44:14.514Z"
   },
   {
    "duration": 9,
    "start_time": "2023-08-03T05:44:20.183Z"
   },
   {
    "duration": 123,
    "start_time": "2023-08-03T05:46:58.931Z"
   },
   {
    "duration": 7,
    "start_time": "2023-08-03T05:47:02.659Z"
   },
   {
    "duration": 4,
    "start_time": "2023-08-03T05:47:11.792Z"
   },
   {
    "duration": 2613,
    "start_time": "2023-08-03T09:05:47.497Z"
   },
   {
    "duration": 0,
    "start_time": "2023-08-03T09:05:50.114Z"
   },
   {
    "duration": 0,
    "start_time": "2023-08-03T09:05:50.114Z"
   },
   {
    "duration": 0,
    "start_time": "2023-08-03T09:05:50.126Z"
   },
   {
    "duration": 0,
    "start_time": "2023-08-03T09:05:50.126Z"
   },
   {
    "duration": 0,
    "start_time": "2023-08-03T09:05:50.126Z"
   },
   {
    "duration": 0,
    "start_time": "2023-08-03T09:05:50.127Z"
   },
   {
    "duration": 0,
    "start_time": "2023-08-03T09:05:50.127Z"
   },
   {
    "duration": 0,
    "start_time": "2023-08-03T09:05:50.128Z"
   },
   {
    "duration": 0,
    "start_time": "2023-08-03T09:05:50.128Z"
   },
   {
    "duration": 0,
    "start_time": "2023-08-03T09:05:50.129Z"
   },
   {
    "duration": 0,
    "start_time": "2023-08-03T09:05:50.129Z"
   },
   {
    "duration": 0,
    "start_time": "2023-08-03T09:05:50.138Z"
   },
   {
    "duration": 0,
    "start_time": "2023-08-03T09:05:50.138Z"
   },
   {
    "duration": 0,
    "start_time": "2023-08-03T09:05:50.140Z"
   },
   {
    "duration": 0,
    "start_time": "2023-08-03T09:05:50.142Z"
   },
   {
    "duration": 0,
    "start_time": "2023-08-03T09:05:50.143Z"
   },
   {
    "duration": 0,
    "start_time": "2023-08-03T09:05:50.145Z"
   },
   {
    "duration": 0,
    "start_time": "2023-08-03T09:05:50.147Z"
   },
   {
    "duration": 0,
    "start_time": "2023-08-03T09:05:50.148Z"
   },
   {
    "duration": 0,
    "start_time": "2023-08-03T09:05:50.149Z"
   },
   {
    "duration": 0,
    "start_time": "2023-08-03T09:05:50.151Z"
   },
   {
    "duration": 0,
    "start_time": "2023-08-03T09:05:50.152Z"
   },
   {
    "duration": 0,
    "start_time": "2023-08-03T09:05:50.153Z"
   },
   {
    "duration": 0,
    "start_time": "2023-08-03T09:05:50.154Z"
   },
   {
    "duration": 0,
    "start_time": "2023-08-03T09:05:50.155Z"
   },
   {
    "duration": 0,
    "start_time": "2023-08-03T09:05:50.156Z"
   },
   {
    "duration": 0,
    "start_time": "2023-08-03T09:05:50.162Z"
   },
   {
    "duration": 0,
    "start_time": "2023-08-03T09:05:50.163Z"
   },
   {
    "duration": 0,
    "start_time": "2023-08-03T09:05:50.164Z"
   },
   {
    "duration": 0,
    "start_time": "2023-08-03T09:05:50.166Z"
   },
   {
    "duration": 0,
    "start_time": "2023-08-03T09:05:50.166Z"
   },
   {
    "duration": 0,
    "start_time": "2023-08-03T09:05:50.168Z"
   },
   {
    "duration": 0,
    "start_time": "2023-08-03T09:05:50.169Z"
   },
   {
    "duration": 0,
    "start_time": "2023-08-03T09:05:50.170Z"
   },
   {
    "duration": 0,
    "start_time": "2023-08-03T09:05:50.172Z"
   },
   {
    "duration": 0,
    "start_time": "2023-08-03T09:05:50.173Z"
   },
   {
    "duration": 0,
    "start_time": "2023-08-03T09:05:50.174Z"
   },
   {
    "duration": 0,
    "start_time": "2023-08-03T09:05:50.226Z"
   },
   {
    "duration": 0,
    "start_time": "2023-08-03T09:05:50.227Z"
   },
   {
    "duration": 1,
    "start_time": "2023-08-03T09:05:50.227Z"
   },
   {
    "duration": 0,
    "start_time": "2023-08-03T09:05:50.228Z"
   },
   {
    "duration": 0,
    "start_time": "2023-08-03T09:05:50.229Z"
   },
   {
    "duration": 0,
    "start_time": "2023-08-03T09:05:50.230Z"
   },
   {
    "duration": 0,
    "start_time": "2023-08-03T09:05:50.231Z"
   },
   {
    "duration": 0,
    "start_time": "2023-08-03T09:05:50.232Z"
   },
   {
    "duration": 0,
    "start_time": "2023-08-03T09:05:50.233Z"
   },
   {
    "duration": 0,
    "start_time": "2023-08-03T09:05:50.234Z"
   },
   {
    "duration": 0,
    "start_time": "2023-08-03T09:05:50.235Z"
   },
   {
    "duration": 0,
    "start_time": "2023-08-03T09:05:50.235Z"
   },
   {
    "duration": 0,
    "start_time": "2023-08-03T09:05:50.236Z"
   },
   {
    "duration": 0,
    "start_time": "2023-08-03T09:05:50.237Z"
   },
   {
    "duration": 0,
    "start_time": "2023-08-03T09:05:50.238Z"
   },
   {
    "duration": 0,
    "start_time": "2023-08-03T09:05:50.239Z"
   },
   {
    "duration": 0,
    "start_time": "2023-08-03T09:05:50.240Z"
   },
   {
    "duration": 0,
    "start_time": "2023-08-03T09:05:50.240Z"
   },
   {
    "duration": 0,
    "start_time": "2023-08-03T09:05:50.241Z"
   },
   {
    "duration": 0,
    "start_time": "2023-08-03T09:05:50.242Z"
   },
   {
    "duration": 0,
    "start_time": "2023-08-03T09:05:50.243Z"
   },
   {
    "duration": 0,
    "start_time": "2023-08-03T09:05:50.243Z"
   },
   {
    "duration": 0,
    "start_time": "2023-08-03T09:05:50.244Z"
   },
   {
    "duration": 0,
    "start_time": "2023-08-03T09:05:50.245Z"
   },
   {
    "duration": 0,
    "start_time": "2023-08-03T09:05:50.245Z"
   },
   {
    "duration": 0,
    "start_time": "2023-08-03T09:05:50.246Z"
   },
   {
    "duration": 5,
    "start_time": "2023-08-03T09:06:04.560Z"
   },
   {
    "duration": 100,
    "start_time": "2023-08-03T09:06:04.567Z"
   },
   {
    "duration": 17,
    "start_time": "2023-08-03T09:06:04.668Z"
   },
   {
    "duration": 14,
    "start_time": "2023-08-03T09:06:04.686Z"
   },
   {
    "duration": 2,
    "start_time": "2023-08-03T09:06:04.703Z"
   },
   {
    "duration": 10,
    "start_time": "2023-08-03T09:06:04.707Z"
   },
   {
    "duration": 30,
    "start_time": "2023-08-03T09:06:04.720Z"
   },
   {
    "duration": 7,
    "start_time": "2023-08-03T09:06:04.751Z"
   },
   {
    "duration": 7,
    "start_time": "2023-08-03T09:06:04.760Z"
   },
   {
    "duration": 22,
    "start_time": "2023-08-03T09:06:04.769Z"
   },
   {
    "duration": 9,
    "start_time": "2023-08-03T09:06:04.792Z"
   },
   {
    "duration": 25,
    "start_time": "2023-08-03T09:06:04.802Z"
   },
   {
    "duration": 24,
    "start_time": "2023-08-03T09:06:04.828Z"
   },
   {
    "duration": 8,
    "start_time": "2023-08-03T09:06:04.855Z"
   },
   {
    "duration": 9,
    "start_time": "2023-08-03T09:06:04.864Z"
   },
   {
    "duration": 22,
    "start_time": "2023-08-03T09:06:04.874Z"
   },
   {
    "duration": 6,
    "start_time": "2023-08-03T09:06:04.897Z"
   },
   {
    "duration": 13,
    "start_time": "2023-08-03T09:06:04.904Z"
   },
   {
    "duration": 20,
    "start_time": "2023-08-03T09:06:04.918Z"
   },
   {
    "duration": 10,
    "start_time": "2023-08-03T09:06:04.940Z"
   },
   {
    "duration": 7,
    "start_time": "2023-08-03T09:06:04.952Z"
   },
   {
    "duration": 15,
    "start_time": "2023-08-03T09:06:04.961Z"
   },
   {
    "duration": 20,
    "start_time": "2023-08-03T09:06:04.978Z"
   },
   {
    "duration": 20,
    "start_time": "2023-08-03T09:06:05.000Z"
   },
   {
    "duration": 41,
    "start_time": "2023-08-03T09:06:05.027Z"
   },
   {
    "duration": 78,
    "start_time": "2023-08-03T09:06:05.069Z"
   },
   {
    "duration": 17,
    "start_time": "2023-08-03T09:06:05.318Z"
   },
   {
    "duration": 63,
    "start_time": "2023-08-03T09:06:05.336Z"
   },
   {
    "duration": 10347,
    "start_time": "2023-08-03T09:06:05.400Z"
   },
   {
    "duration": 329,
    "start_time": "2023-08-03T09:06:15.749Z"
   },
   {
    "duration": 9,
    "start_time": "2023-08-03T09:06:16.080Z"
   },
   {
    "duration": 56,
    "start_time": "2023-08-03T09:06:16.091Z"
   },
   {
    "duration": 85,
    "start_time": "2023-08-03T09:06:16.148Z"
   },
   {
    "duration": 164,
    "start_time": "2023-08-03T09:06:16.234Z"
   },
   {
    "duration": 11,
    "start_time": "2023-08-03T09:06:16.399Z"
   },
   {
    "duration": 27,
    "start_time": "2023-08-03T09:06:16.411Z"
   },
   {
    "duration": 10144,
    "start_time": "2023-08-03T09:06:16.439Z"
   },
   {
    "duration": 260,
    "start_time": "2023-08-03T09:06:26.584Z"
   },
   {
    "duration": 11,
    "start_time": "2023-08-03T09:06:26.846Z"
   },
   {
    "duration": 10,
    "start_time": "2023-08-03T09:06:26.859Z"
   },
   {
    "duration": 179,
    "start_time": "2023-08-03T09:06:26.871Z"
   },
   {
    "duration": 10,
    "start_time": "2023-08-03T09:06:27.051Z"
   },
   {
    "duration": 71,
    "start_time": "2023-08-03T09:06:27.062Z"
   },
   {
    "duration": 8,
    "start_time": "2023-08-03T09:06:27.135Z"
   },
   {
    "duration": 10,
    "start_time": "2023-08-03T09:06:27.145Z"
   },
   {
    "duration": 7518,
    "start_time": "2023-08-03T09:06:27.156Z"
   },
   {
    "duration": 178,
    "start_time": "2023-08-03T09:06:34.676Z"
   },
   {
    "duration": 10,
    "start_time": "2023-08-03T09:06:34.855Z"
   },
   {
    "duration": 12,
    "start_time": "2023-08-03T09:06:34.866Z"
   },
   {
    "duration": 161,
    "start_time": "2023-08-03T09:06:34.879Z"
   },
   {
    "duration": 25,
    "start_time": "2023-08-03T09:06:35.041Z"
   },
   {
    "duration": 111,
    "start_time": "2023-08-03T09:06:35.067Z"
   },
   {
    "duration": 14,
    "start_time": "2023-08-03T09:06:35.180Z"
   },
   {
    "duration": 43,
    "start_time": "2023-08-03T09:06:35.195Z"
   },
   {
    "duration": 13002,
    "start_time": "2023-08-03T09:06:35.239Z"
   },
   {
    "duration": 337,
    "start_time": "2023-08-03T09:06:48.242Z"
   },
   {
    "duration": 11,
    "start_time": "2023-08-03T09:06:48.580Z"
   },
   {
    "duration": 140,
    "start_time": "2023-08-03T09:06:48.593Z"
   },
   {
    "duration": 16,
    "start_time": "2023-08-03T09:06:48.734Z"
   },
   {
    "duration": 26,
    "start_time": "2023-08-03T09:06:48.751Z"
   },
   {
    "duration": 306,
    "start_time": "2023-08-03T09:06:48.779Z"
   },
   {
    "duration": 14,
    "start_time": "2023-08-03T09:06:49.086Z"
   },
   {
    "duration": 76,
    "start_time": "2023-08-03T09:06:49.101Z"
   },
   {
    "duration": 136,
    "start_time": "2023-08-03T09:06:49.179Z"
   },
   {
    "duration": 12,
    "start_time": "2023-08-03T09:11:30.517Z"
   },
   {
    "duration": 6,
    "start_time": "2023-08-03T09:11:31.390Z"
   },
   {
    "duration": 5,
    "start_time": "2023-08-03T09:11:50.252Z"
   },
   {
    "duration": 10,
    "start_time": "2023-08-03T09:11:57.740Z"
   },
   {
    "duration": 4,
    "start_time": "2023-08-03T09:12:03.773Z"
   },
   {
    "duration": 11,
    "start_time": "2023-08-03T09:12:21.697Z"
   },
   {
    "duration": 8,
    "start_time": "2023-08-03T09:12:25.246Z"
   },
   {
    "duration": 5,
    "start_time": "2023-08-03T09:12:46.284Z"
   },
   {
    "duration": 5,
    "start_time": "2023-08-03T09:12:46.708Z"
   },
   {
    "duration": 4,
    "start_time": "2023-08-03T09:12:47.192Z"
   },
   {
    "duration": 8,
    "start_time": "2023-08-03T09:15:58.059Z"
   },
   {
    "duration": 115,
    "start_time": "2023-08-03T09:16:02.060Z"
   },
   {
    "duration": 144,
    "start_time": "2023-08-03T09:17:24.198Z"
   },
   {
    "duration": 7,
    "start_time": "2023-08-03T09:30:11.612Z"
   },
   {
    "duration": 10,
    "start_time": "2023-08-03T09:32:23.848Z"
   },
   {
    "duration": 9,
    "start_time": "2023-08-03T09:32:28.873Z"
   },
   {
    "duration": 11,
    "start_time": "2023-08-03T09:32:31.932Z"
   },
   {
    "duration": 9,
    "start_time": "2023-08-03T09:32:38.394Z"
   },
   {
    "duration": 18,
    "start_time": "2023-08-03T09:32:48.411Z"
   },
   {
    "duration": 9,
    "start_time": "2023-08-03T09:32:51.371Z"
   },
   {
    "duration": 11,
    "start_time": "2023-08-03T09:32:58.092Z"
   },
   {
    "duration": 10,
    "start_time": "2023-08-03T09:33:02.269Z"
   },
   {
    "duration": 10,
    "start_time": "2023-08-03T09:33:05.181Z"
   },
   {
    "duration": 12,
    "start_time": "2023-08-03T09:35:11.203Z"
   },
   {
    "duration": 11,
    "start_time": "2023-08-03T09:35:21.681Z"
   },
   {
    "duration": 12,
    "start_time": "2023-08-03T09:36:05.468Z"
   },
   {
    "duration": 18800,
    "start_time": "2023-08-03T09:37:18.030Z"
   },
   {
    "duration": 419,
    "start_time": "2023-08-03T09:37:36.995Z"
   },
   {
    "duration": 23,
    "start_time": "2023-08-03T09:38:04.120Z"
   },
   {
    "duration": 15,
    "start_time": "2023-08-03T09:38:04.712Z"
   },
   {
    "duration": 4,
    "start_time": "2023-08-03T09:38:44.399Z"
   },
   {
    "duration": 9,
    "start_time": "2023-08-03T09:38:45.710Z"
   },
   {
    "duration": 33,
    "start_time": "2023-08-03T09:38:59.458Z"
   },
   {
    "duration": 11,
    "start_time": "2023-08-03T09:39:00.246Z"
   },
   {
    "duration": 14,
    "start_time": "2023-08-03T09:39:45.111Z"
   },
   {
    "duration": 129,
    "start_time": "2023-08-03T09:39:55.002Z"
   },
   {
    "duration": 150,
    "start_time": "2023-08-03T09:40:06.060Z"
   },
   {
    "duration": 151,
    "start_time": "2023-08-03T09:40:37.007Z"
   },
   {
    "duration": 21285,
    "start_time": "2023-08-03T09:44:50.410Z"
   },
   {
    "duration": 510,
    "start_time": "2023-08-03T09:46:20.496Z"
   },
   {
    "duration": 4,
    "start_time": "2023-08-03T09:46:44.610Z"
   },
   {
    "duration": 10,
    "start_time": "2023-08-03T09:46:49.131Z"
   },
   {
    "duration": 18495,
    "start_time": "2023-08-03T09:47:08.934Z"
   },
   {
    "duration": 16365,
    "start_time": "2023-08-03T09:47:32.735Z"
   },
   {
    "duration": 52,
    "start_time": "2023-08-03T09:47:52.267Z"
   },
   {
    "duration": 8,
    "start_time": "2023-08-03T09:47:52.939Z"
   },
   {
    "duration": 242,
    "start_time": "2023-08-03T09:48:18.464Z"
   },
   {
    "duration": 6,
    "start_time": "2023-08-03T09:48:26.896Z"
   },
   {
    "duration": 9,
    "start_time": "2023-08-03T09:48:28.513Z"
   },
   {
    "duration": 65161,
    "start_time": "2023-08-03T09:49:27.657Z"
   },
   {
    "duration": 51,
    "start_time": "2023-08-03T09:50:44.069Z"
   },
   {
    "duration": 9,
    "start_time": "2023-08-03T09:50:45.189Z"
   },
   {
    "duration": 6,
    "start_time": "2023-08-03T09:51:14.953Z"
   },
   {
    "duration": 84,
    "start_time": "2023-08-03T09:51:20.650Z"
   },
   {
    "duration": 4,
    "start_time": "2023-08-03T09:51:52.975Z"
   },
   {
    "duration": 9,
    "start_time": "2023-08-03T09:52:25.011Z"
   },
   {
    "duration": 13,
    "start_time": "2023-08-03T09:52:28.139Z"
   },
   {
    "duration": 13,
    "start_time": "2023-08-03T09:52:28.756Z"
   },
   {
    "duration": 9,
    "start_time": "2023-08-03T09:52:56.599Z"
   },
   {
    "duration": 65,
    "start_time": "2023-08-03T09:53:55.837Z"
   },
   {
    "duration": 12,
    "start_time": "2023-08-03T09:53:56.368Z"
   },
   {
    "duration": 11,
    "start_time": "2023-08-03T09:54:15.971Z"
   },
   {
    "duration": 67,
    "start_time": "2023-08-03T09:54:17.700Z"
   },
   {
    "duration": 13,
    "start_time": "2023-08-03T09:54:18.240Z"
   },
   {
    "duration": 11,
    "start_time": "2023-08-03T09:55:08.350Z"
   },
   {
    "duration": 9,
    "start_time": "2023-08-03T09:55:17.551Z"
   },
   {
    "duration": 52,
    "start_time": "2023-08-03T09:55:47.760Z"
   },
   {
    "duration": 8,
    "start_time": "2023-08-03T09:55:48.256Z"
   },
   {
    "duration": 22,
    "start_time": "2023-08-03T09:56:06.715Z"
   },
   {
    "duration": 112,
    "start_time": "2023-08-03T09:56:08.515Z"
   },
   {
    "duration": 9,
    "start_time": "2023-08-03T09:56:09.256Z"
   },
   {
    "duration": 6,
    "start_time": "2023-08-03T09:56:39.647Z"
   },
   {
    "duration": 8,
    "start_time": "2023-08-03T09:56:40.089Z"
   },
   {
    "duration": 75,
    "start_time": "2023-08-03T09:56:56.891Z"
   },
   {
    "duration": 14,
    "start_time": "2023-08-03T09:56:57.350Z"
   },
   {
    "duration": 14,
    "start_time": "2023-08-03T09:57:23.758Z"
   },
   {
    "duration": 9,
    "start_time": "2023-08-03T09:57:24.205Z"
   },
   {
    "duration": 5,
    "start_time": "2023-08-03T09:58:16.454Z"
   },
   {
    "duration": 9,
    "start_time": "2023-08-03T09:58:17.093Z"
   },
   {
    "duration": 6,
    "start_time": "2023-08-03T09:58:24.662Z"
   },
   {
    "duration": 10,
    "start_time": "2023-08-03T09:58:25.054Z"
   },
   {
    "duration": 170920,
    "start_time": "2023-08-03T09:59:37.939Z"
   },
   {
    "duration": 60,
    "start_time": "2023-08-03T10:02:38.346Z"
   },
   {
    "duration": 7,
    "start_time": "2023-08-03T10:02:38.970Z"
   },
   {
    "duration": 134,
    "start_time": "2023-08-03T10:02:55.389Z"
   },
   {
    "duration": 9,
    "start_time": "2023-08-03T10:02:55.756Z"
   },
   {
    "duration": 28,
    "start_time": "2023-08-03T10:05:27.255Z"
   },
   {
    "duration": 73344,
    "start_time": "2023-08-03T10:06:12.668Z"
   },
   {
    "duration": 43491,
    "start_time": "2023-08-03T10:07:26.013Z"
   },
   {
    "duration": 6,
    "start_time": "2023-08-03T10:08:44.867Z"
   },
   {
    "duration": 62,
    "start_time": "2023-08-03T10:08:44.875Z"
   },
   {
    "duration": 20,
    "start_time": "2023-08-03T10:08:44.939Z"
   },
   {
    "duration": 16,
    "start_time": "2023-08-03T10:08:44.962Z"
   },
   {
    "duration": 3,
    "start_time": "2023-08-03T10:08:44.979Z"
   },
   {
    "duration": 9,
    "start_time": "2023-08-03T10:08:44.984Z"
   },
   {
    "duration": 10,
    "start_time": "2023-08-03T10:08:44.994Z"
   },
   {
    "duration": 47,
    "start_time": "2023-08-03T10:08:45.006Z"
   },
   {
    "duration": 18,
    "start_time": "2023-08-03T10:08:45.055Z"
   },
   {
    "duration": 19,
    "start_time": "2023-08-03T10:08:45.076Z"
   },
   {
    "duration": 10,
    "start_time": "2023-08-03T10:08:45.097Z"
   },
   {
    "duration": 45,
    "start_time": "2023-08-03T10:08:45.109Z"
   },
   {
    "duration": 14,
    "start_time": "2023-08-03T10:08:45.156Z"
   },
   {
    "duration": 13,
    "start_time": "2023-08-03T10:08:45.171Z"
   },
   {
    "duration": 10,
    "start_time": "2023-08-03T10:08:45.186Z"
   },
   {
    "duration": 29,
    "start_time": "2023-08-03T10:08:45.198Z"
   },
   {
    "duration": 4,
    "start_time": "2023-08-03T10:08:45.228Z"
   },
   {
    "duration": 61,
    "start_time": "2023-08-03T10:08:45.234Z"
   },
   {
    "duration": 10,
    "start_time": "2023-08-03T10:08:45.296Z"
   },
   {
    "duration": 33,
    "start_time": "2023-08-03T10:08:45.308Z"
   },
   {
    "duration": 25,
    "start_time": "2023-08-03T10:08:45.346Z"
   },
   {
    "duration": 16,
    "start_time": "2023-08-03T10:08:45.373Z"
   },
   {
    "duration": 18,
    "start_time": "2023-08-03T10:08:45.391Z"
   },
   {
    "duration": 43,
    "start_time": "2023-08-03T10:08:45.410Z"
   },
   {
    "duration": 24,
    "start_time": "2023-08-03T10:08:45.458Z"
   },
   {
    "duration": 57,
    "start_time": "2023-08-03T10:08:45.484Z"
   },
   {
    "duration": 23,
    "start_time": "2023-08-03T10:08:45.555Z"
   },
   {
    "duration": 21,
    "start_time": "2023-08-03T10:08:45.583Z"
   },
   {
    "duration": 474,
    "start_time": "2023-08-03T10:08:45.606Z"
   },
   {
    "duration": 5,
    "start_time": "2023-08-03T10:08:46.082Z"
   },
   {
    "duration": 10,
    "start_time": "2023-08-03T10:08:46.089Z"
   },
   {
    "duration": 48925,
    "start_time": "2023-08-03T10:08:46.100Z"
   },
   {
    "duration": 50,
    "start_time": "2023-08-03T10:09:35.027Z"
   },
   {
    "duration": 246,
    "start_time": "2023-08-03T10:09:35.079Z"
   },
   {
    "duration": 56,
    "start_time": "2023-08-03T10:09:35.327Z"
   },
   {
    "duration": 50,
    "start_time": "2023-08-03T10:09:35.387Z"
   },
   {
    "duration": 278,
    "start_time": "2023-08-03T10:09:35.439Z"
   },
   {
    "duration": 17,
    "start_time": "2023-08-03T10:09:35.719Z"
   },
   {
    "duration": 219,
    "start_time": "2023-08-03T10:09:35.737Z"
   },
   {
    "duration": 192,
    "start_time": "2023-08-03T10:09:35.959Z"
   },
   {
    "duration": 316,
    "start_time": "2023-08-03T10:09:36.156Z"
   },
   {
    "duration": 487,
    "start_time": "2023-08-03T10:09:36.474Z"
   },
   {
    "duration": 7,
    "start_time": "2023-08-03T10:09:36.972Z"
   },
   {
    "duration": 9,
    "start_time": "2023-08-03T10:09:36.980Z"
   },
   {
    "duration": 43289,
    "start_time": "2023-08-03T10:09:36.990Z"
   },
   {
    "duration": 80,
    "start_time": "2023-08-03T10:10:20.281Z"
   },
   {
    "duration": 12,
    "start_time": "2023-08-03T10:10:20.363Z"
   },
   {
    "duration": 53,
    "start_time": "2023-08-03T10:10:20.377Z"
   },
   {
    "duration": 104,
    "start_time": "2023-08-03T10:10:20.438Z"
   },
   {
    "duration": 26,
    "start_time": "2023-08-03T10:10:20.547Z"
   },
   {
    "duration": 289,
    "start_time": "2023-08-03T10:10:20.575Z"
   },
   {
    "duration": 4,
    "start_time": "2023-08-03T10:10:20.867Z"
   },
   {
    "duration": 14,
    "start_time": "2023-08-03T10:10:20.872Z"
   },
   {
    "duration": 26893,
    "start_time": "2023-08-03T10:10:20.887Z"
   },
   {
    "duration": 66,
    "start_time": "2023-08-03T10:10:47.781Z"
   },
   {
    "duration": 11,
    "start_time": "2023-08-03T10:10:47.855Z"
   },
   {
    "duration": 19,
    "start_time": "2023-08-03T10:10:47.868Z"
   },
   {
    "duration": 68,
    "start_time": "2023-08-03T10:10:47.889Z"
   },
   {
    "duration": 103,
    "start_time": "2023-08-03T10:10:47.964Z"
   },
   {
    "duration": 211,
    "start_time": "2023-08-03T10:10:48.068Z"
   },
   {
    "duration": 5,
    "start_time": "2023-08-03T10:10:48.281Z"
   },
   {
    "duration": 12,
    "start_time": "2023-08-03T10:10:48.287Z"
   },
   {
    "duration": 59871,
    "start_time": "2023-08-03T10:10:48.301Z"
   },
   {
    "duration": 58,
    "start_time": "2023-08-03T10:11:48.173Z"
   },
   {
    "duration": 17,
    "start_time": "2023-08-03T10:11:48.238Z"
   },
   {
    "duration": 27,
    "start_time": "2023-08-03T10:11:48.256Z"
   },
   {
    "duration": 76,
    "start_time": "2023-08-03T10:11:48.284Z"
   },
   {
    "duration": 61,
    "start_time": "2023-08-03T10:11:48.421Z"
   },
   {
    "duration": 566,
    "start_time": "2023-08-03T10:11:48.484Z"
   },
   {
    "duration": 11,
    "start_time": "2023-08-03T10:11:49.055Z"
   },
   {
    "duration": 35,
    "start_time": "2023-08-03T10:11:49.067Z"
   },
   {
    "duration": 151,
    "start_time": "2023-08-03T10:11:49.104Z"
   },
   {
    "duration": 14,
    "start_time": "2023-08-03T10:12:00.215Z"
   },
   {
    "duration": 111,
    "start_time": "2023-08-03T10:12:00.234Z"
   },
   {
    "duration": 22,
    "start_time": "2023-08-03T10:12:00.347Z"
   },
   {
    "duration": 36,
    "start_time": "2023-08-03T10:12:00.370Z"
   },
   {
    "duration": 61,
    "start_time": "2023-08-03T10:12:00.408Z"
   },
   {
    "duration": 110,
    "start_time": "2023-08-03T10:12:00.470Z"
   },
   {
    "duration": 82,
    "start_time": "2023-08-03T10:12:00.582Z"
   },
   {
    "duration": 32,
    "start_time": "2023-08-03T10:12:00.665Z"
   },
   {
    "duration": 54,
    "start_time": "2023-08-03T10:12:00.699Z"
   },
   {
    "duration": 56,
    "start_time": "2023-08-03T10:12:00.755Z"
   },
   {
    "duration": 112,
    "start_time": "2023-08-03T10:12:00.813Z"
   },
   {
    "duration": 59,
    "start_time": "2023-08-03T10:12:00.934Z"
   },
   {
    "duration": 66,
    "start_time": "2023-08-03T10:12:00.994Z"
   },
   {
    "duration": 41,
    "start_time": "2023-08-03T10:12:01.063Z"
   },
   {
    "duration": 60,
    "start_time": "2023-08-03T10:12:01.105Z"
   },
   {
    "duration": 40,
    "start_time": "2023-08-03T10:12:01.167Z"
   },
   {
    "duration": 4,
    "start_time": "2023-08-03T10:12:01.209Z"
   },
   {
    "duration": 67,
    "start_time": "2023-08-03T10:12:01.214Z"
   },
   {
    "duration": 25,
    "start_time": "2023-08-03T10:12:01.282Z"
   },
   {
    "duration": 62,
    "start_time": "2023-08-03T10:12:01.308Z"
   },
   {
    "duration": 26,
    "start_time": "2023-08-03T10:12:01.371Z"
   },
   {
    "duration": 52,
    "start_time": "2023-08-03T10:12:01.399Z"
   },
   {
    "duration": 38,
    "start_time": "2023-08-03T10:12:01.453Z"
   },
   {
    "duration": 56,
    "start_time": "2023-08-03T10:12:01.493Z"
   },
   {
    "duration": 27,
    "start_time": "2023-08-03T10:12:01.553Z"
   },
   {
    "duration": 87,
    "start_time": "2023-08-03T10:12:01.582Z"
   },
   {
    "duration": 93,
    "start_time": "2023-08-03T10:12:01.670Z"
   },
   {
    "duration": 102,
    "start_time": "2023-08-03T10:12:01.765Z"
   },
   {
    "duration": 521,
    "start_time": "2023-08-03T10:12:01.868Z"
   },
   {
    "duration": 5,
    "start_time": "2023-08-03T10:12:02.391Z"
   },
   {
    "duration": 65,
    "start_time": "2023-08-03T10:12:02.400Z"
   },
   {
    "duration": 20671,
    "start_time": "2023-08-03T10:12:02.467Z"
   },
   {
    "duration": 34,
    "start_time": "2023-08-03T10:12:23.140Z"
   },
   {
    "duration": 10,
    "start_time": "2023-08-03T10:12:23.176Z"
   },
   {
    "duration": 41,
    "start_time": "2023-08-03T10:12:23.188Z"
   },
   {
    "duration": 106,
    "start_time": "2023-08-03T10:12:23.230Z"
   },
   {
    "duration": 165,
    "start_time": "2023-08-03T10:12:23.339Z"
   },
   {
    "duration": 6,
    "start_time": "2023-08-03T10:12:23.506Z"
   },
   {
    "duration": 135,
    "start_time": "2023-08-03T10:12:23.514Z"
   },
   {
    "duration": 183,
    "start_time": "2023-08-03T10:12:23.651Z"
   },
   {
    "duration": 298,
    "start_time": "2023-08-03T10:12:23.842Z"
   },
   {
    "duration": 501,
    "start_time": "2023-08-03T10:12:24.142Z"
   },
   {
    "duration": 5,
    "start_time": "2023-08-03T10:12:24.644Z"
   },
   {
    "duration": 23,
    "start_time": "2023-08-03T10:12:24.651Z"
   },
   {
    "duration": 21401,
    "start_time": "2023-08-03T10:12:24.675Z"
   },
   {
    "duration": 30,
    "start_time": "2023-08-03T10:12:46.078Z"
   },
   {
    "duration": 23,
    "start_time": "2023-08-03T10:12:46.110Z"
   },
   {
    "duration": 94,
    "start_time": "2023-08-03T10:12:46.134Z"
   },
   {
    "duration": 126,
    "start_time": "2023-08-03T10:12:46.233Z"
   },
   {
    "duration": 24,
    "start_time": "2023-08-03T10:12:46.360Z"
   },
   {
    "duration": 247,
    "start_time": "2023-08-03T10:12:46.386Z"
   },
   {
    "duration": 7,
    "start_time": "2023-08-03T10:12:46.634Z"
   },
   {
    "duration": 21,
    "start_time": "2023-08-03T10:12:46.642Z"
   },
   {
    "duration": 12018,
    "start_time": "2023-08-03T10:12:46.664Z"
   },
   {
    "duration": 42,
    "start_time": "2023-08-03T10:12:58.683Z"
   },
   {
    "duration": 19,
    "start_time": "2023-08-03T10:12:58.726Z"
   },
   {
    "duration": 33,
    "start_time": "2023-08-03T10:12:58.747Z"
   },
   {
    "duration": 107,
    "start_time": "2023-08-03T10:12:58.830Z"
   },
   {
    "duration": 12,
    "start_time": "2023-08-03T10:12:58.949Z"
   },
   {
    "duration": 201,
    "start_time": "2023-08-03T10:12:58.962Z"
   },
   {
    "duration": 5,
    "start_time": "2023-08-03T10:12:59.165Z"
   },
   {
    "duration": 15,
    "start_time": "2023-08-03T10:12:59.171Z"
   },
   {
    "duration": 26467,
    "start_time": "2023-08-03T10:12:59.188Z"
   },
   {
    "duration": 37,
    "start_time": "2023-08-03T10:13:25.659Z"
   },
   {
    "duration": 8,
    "start_time": "2023-08-03T10:13:25.700Z"
   },
   {
    "duration": 45,
    "start_time": "2023-08-03T10:13:25.709Z"
   },
   {
    "duration": 185,
    "start_time": "2023-08-03T10:13:25.756Z"
   },
   {
    "duration": 31,
    "start_time": "2023-08-03T10:13:25.944Z"
   },
   {
    "duration": 556,
    "start_time": "2023-08-03T10:13:25.976Z"
   },
   {
    "duration": 11,
    "start_time": "2023-08-03T10:13:26.534Z"
   },
   {
    "duration": 51,
    "start_time": "2023-08-03T10:13:26.546Z"
   },
   {
    "duration": 109,
    "start_time": "2023-08-03T10:13:26.598Z"
   },
   {
    "duration": 6,
    "start_time": "2023-08-03T10:16:46.946Z"
   },
   {
    "duration": 79,
    "start_time": "2023-08-03T10:16:46.954Z"
   },
   {
    "duration": 16,
    "start_time": "2023-08-03T10:16:47.034Z"
   },
   {
    "duration": 26,
    "start_time": "2023-08-03T10:16:47.052Z"
   },
   {
    "duration": 14,
    "start_time": "2023-08-03T10:16:47.079Z"
   },
   {
    "duration": 10,
    "start_time": "2023-08-03T10:16:47.095Z"
   },
   {
    "duration": 14,
    "start_time": "2023-08-03T10:16:47.107Z"
   },
   {
    "duration": 45,
    "start_time": "2023-08-03T10:16:47.122Z"
   },
   {
    "duration": 6,
    "start_time": "2023-08-03T10:16:47.169Z"
   },
   {
    "duration": 15,
    "start_time": "2023-08-03T10:16:47.176Z"
   },
   {
    "duration": 11,
    "start_time": "2023-08-03T10:16:47.192Z"
   },
   {
    "duration": 45,
    "start_time": "2023-08-03T10:16:47.205Z"
   },
   {
    "duration": 5,
    "start_time": "2023-08-03T10:16:47.252Z"
   },
   {
    "duration": 12,
    "start_time": "2023-08-03T10:16:47.260Z"
   },
   {
    "duration": 20,
    "start_time": "2023-08-03T10:16:47.273Z"
   },
   {
    "duration": 23,
    "start_time": "2023-08-03T10:16:47.294Z"
   },
   {
    "duration": 43,
    "start_time": "2023-08-03T10:16:47.318Z"
   },
   {
    "duration": 16,
    "start_time": "2023-08-03T10:16:47.363Z"
   },
   {
    "duration": 20,
    "start_time": "2023-08-03T10:16:47.380Z"
   },
   {
    "duration": 17,
    "start_time": "2023-08-03T10:16:47.402Z"
   },
   {
    "duration": 24,
    "start_time": "2023-08-03T10:16:47.426Z"
   },
   {
    "duration": 13,
    "start_time": "2023-08-03T10:16:47.452Z"
   },
   {
    "duration": 5,
    "start_time": "2023-08-03T10:16:47.467Z"
   },
   {
    "duration": 4,
    "start_time": "2023-08-03T10:16:47.474Z"
   },
   {
    "duration": 14,
    "start_time": "2023-08-03T10:16:47.479Z"
   },
   {
    "duration": 19,
    "start_time": "2023-08-03T10:16:47.494Z"
   },
   {
    "duration": 34,
    "start_time": "2023-08-03T10:16:47.514Z"
   },
   {
    "duration": 40,
    "start_time": "2023-08-03T10:16:47.550Z"
   },
   {
    "duration": 467,
    "start_time": "2023-08-03T10:16:47.592Z"
   },
   {
    "duration": 4,
    "start_time": "2023-08-03T10:16:48.061Z"
   },
   {
    "duration": 36,
    "start_time": "2023-08-03T10:16:48.067Z"
   },
   {
    "duration": 19175,
    "start_time": "2023-08-03T10:16:48.104Z"
   },
   {
    "duration": 50,
    "start_time": "2023-08-03T10:17:07.281Z"
   },
   {
    "duration": 9,
    "start_time": "2023-08-03T10:17:07.332Z"
   },
   {
    "duration": 79,
    "start_time": "2023-08-03T10:17:07.343Z"
   },
   {
    "duration": 120,
    "start_time": "2023-08-03T10:17:07.424Z"
   },
   {
    "duration": 108,
    "start_time": "2023-08-03T10:17:07.546Z"
   },
   {
    "duration": 8,
    "start_time": "2023-08-03T10:17:07.656Z"
   },
   {
    "duration": 128,
    "start_time": "2023-08-03T10:17:07.666Z"
   },
   {
    "duration": 145,
    "start_time": "2023-08-03T10:17:07.795Z"
   },
   {
    "duration": 290,
    "start_time": "2023-08-03T10:17:07.945Z"
   },
   {
    "duration": 442,
    "start_time": "2023-08-03T10:17:08.237Z"
   },
   {
    "duration": 4,
    "start_time": "2023-08-03T10:17:08.680Z"
   },
   {
    "duration": 22,
    "start_time": "2023-08-03T10:17:08.685Z"
   },
   {
    "duration": 20282,
    "start_time": "2023-08-03T10:17:08.708Z"
   },
   {
    "duration": 46,
    "start_time": "2023-08-03T10:17:28.991Z"
   },
   {
    "duration": 15,
    "start_time": "2023-08-03T10:17:29.039Z"
   },
   {
    "duration": 13,
    "start_time": "2023-08-03T10:17:29.056Z"
   },
   {
    "duration": 0,
    "start_time": "2023-08-03T10:17:29.070Z"
   },
   {
    "duration": 0,
    "start_time": "2023-08-03T10:17:29.071Z"
   },
   {
    "duration": 0,
    "start_time": "2023-08-03T10:17:29.072Z"
   },
   {
    "duration": 0,
    "start_time": "2023-08-03T10:17:29.073Z"
   },
   {
    "duration": 0,
    "start_time": "2023-08-03T10:17:29.074Z"
   },
   {
    "duration": 0,
    "start_time": "2023-08-03T10:17:29.075Z"
   },
   {
    "duration": 0,
    "start_time": "2023-08-03T10:17:29.076Z"
   },
   {
    "duration": 0,
    "start_time": "2023-08-03T10:17:29.077Z"
   },
   {
    "duration": 0,
    "start_time": "2023-08-03T10:17:29.078Z"
   },
   {
    "duration": 0,
    "start_time": "2023-08-03T10:17:29.078Z"
   },
   {
    "duration": 0,
    "start_time": "2023-08-03T10:17:29.079Z"
   },
   {
    "duration": 0,
    "start_time": "2023-08-03T10:17:29.080Z"
   },
   {
    "duration": 0,
    "start_time": "2023-08-03T10:17:29.081Z"
   },
   {
    "duration": 0,
    "start_time": "2023-08-03T10:17:29.081Z"
   },
   {
    "duration": 0,
    "start_time": "2023-08-03T10:17:29.082Z"
   },
   {
    "duration": 0,
    "start_time": "2023-08-03T10:17:29.083Z"
   },
   {
    "duration": 0,
    "start_time": "2023-08-03T10:17:29.084Z"
   },
   {
    "duration": 0,
    "start_time": "2023-08-03T10:17:29.084Z"
   },
   {
    "duration": 0,
    "start_time": "2023-08-03T10:17:29.085Z"
   },
   {
    "duration": 0,
    "start_time": "2023-08-03T10:17:29.086Z"
   },
   {
    "duration": 0,
    "start_time": "2023-08-03T10:17:29.087Z"
   },
   {
    "duration": 0,
    "start_time": "2023-08-03T10:17:29.088Z"
   },
   {
    "duration": 0,
    "start_time": "2023-08-03T10:17:29.088Z"
   },
   {
    "duration": 0,
    "start_time": "2023-08-03T10:17:29.089Z"
   },
   {
    "duration": 5,
    "start_time": "2023-08-03T10:17:51.492Z"
   },
   {
    "duration": 69,
    "start_time": "2023-08-03T10:17:51.499Z"
   },
   {
    "duration": 11,
    "start_time": "2023-08-03T10:17:51.569Z"
   },
   {
    "duration": 18,
    "start_time": "2023-08-03T10:17:51.582Z"
   },
   {
    "duration": 35,
    "start_time": "2023-08-03T10:17:51.603Z"
   },
   {
    "duration": 16,
    "start_time": "2023-08-03T10:17:51.640Z"
   },
   {
    "duration": 24,
    "start_time": "2023-08-03T10:17:51.658Z"
   },
   {
    "duration": 7,
    "start_time": "2023-08-03T10:17:51.684Z"
   },
   {
    "duration": 9,
    "start_time": "2023-08-03T10:17:51.692Z"
   },
   {
    "duration": 13,
    "start_time": "2023-08-03T10:17:51.702Z"
   },
   {
    "duration": 37,
    "start_time": "2023-08-03T10:17:51.717Z"
   },
   {
    "duration": 22,
    "start_time": "2023-08-03T10:17:51.755Z"
   },
   {
    "duration": 4,
    "start_time": "2023-08-03T10:17:51.778Z"
   },
   {
    "duration": 8,
    "start_time": "2023-08-03T10:17:51.786Z"
   },
   {
    "duration": 7,
    "start_time": "2023-08-03T10:17:51.796Z"
   },
   {
    "duration": 22,
    "start_time": "2023-08-03T10:17:51.805Z"
   },
   {
    "duration": 3,
    "start_time": "2023-08-03T10:17:51.829Z"
   },
   {
    "duration": 26,
    "start_time": "2023-08-03T10:17:51.834Z"
   },
   {
    "duration": 21,
    "start_time": "2023-08-03T10:17:51.861Z"
   },
   {
    "duration": 16,
    "start_time": "2023-08-03T10:17:51.884Z"
   },
   {
    "duration": 18,
    "start_time": "2023-08-03T10:17:51.902Z"
   },
   {
    "duration": 34,
    "start_time": "2023-08-03T10:17:51.921Z"
   },
   {
    "duration": 11,
    "start_time": "2023-08-03T10:17:51.956Z"
   },
   {
    "duration": 6,
    "start_time": "2023-08-03T10:17:51.968Z"
   },
   {
    "duration": 22,
    "start_time": "2023-08-03T10:17:51.975Z"
   },
   {
    "duration": 44,
    "start_time": "2023-08-03T10:17:51.999Z"
   },
   {
    "duration": 30,
    "start_time": "2023-08-03T10:17:52.045Z"
   },
   {
    "duration": 81,
    "start_time": "2023-08-03T10:17:52.076Z"
   },
   {
    "duration": 459,
    "start_time": "2023-08-03T10:17:52.159Z"
   },
   {
    "duration": 7,
    "start_time": "2023-08-03T10:17:52.620Z"
   },
   {
    "duration": 49,
    "start_time": "2023-08-03T10:17:52.633Z"
   },
   {
    "duration": 18675,
    "start_time": "2023-08-03T10:17:52.683Z"
   },
   {
    "duration": 32,
    "start_time": "2023-08-03T10:18:11.359Z"
   },
   {
    "duration": 7,
    "start_time": "2023-08-03T10:18:11.392Z"
   },
   {
    "duration": 37,
    "start_time": "2023-08-03T10:18:11.400Z"
   },
   {
    "duration": 90,
    "start_time": "2023-08-03T10:18:11.442Z"
   },
   {
    "duration": 181,
    "start_time": "2023-08-03T10:18:11.546Z"
   },
   {
    "duration": 9,
    "start_time": "2023-08-03T10:18:11.728Z"
   },
   {
    "duration": 144,
    "start_time": "2023-08-03T10:18:11.740Z"
   },
   {
    "duration": 154,
    "start_time": "2023-08-03T10:18:11.886Z"
   },
   {
    "duration": 280,
    "start_time": "2023-08-03T10:18:12.045Z"
   },
   {
    "duration": 460,
    "start_time": "2023-08-03T10:18:12.326Z"
   },
   {
    "duration": 5,
    "start_time": "2023-08-03T10:18:12.788Z"
   },
   {
    "duration": 45,
    "start_time": "2023-08-03T10:18:12.794Z"
   },
   {
    "duration": 19237,
    "start_time": "2023-08-03T10:18:12.841Z"
   },
   {
    "duration": 47,
    "start_time": "2023-08-03T10:18:32.079Z"
   },
   {
    "duration": 8,
    "start_time": "2023-08-03T10:18:32.134Z"
   },
   {
    "duration": 24,
    "start_time": "2023-08-03T10:18:32.143Z"
   },
   {
    "duration": 183,
    "start_time": "2023-08-03T10:18:32.169Z"
   },
   {
    "duration": 19,
    "start_time": "2023-08-03T10:18:32.353Z"
   },
   {
    "duration": 224,
    "start_time": "2023-08-03T10:18:32.374Z"
   },
   {
    "duration": 3,
    "start_time": "2023-08-03T10:18:32.600Z"
   },
   {
    "duration": 35,
    "start_time": "2023-08-03T10:18:32.605Z"
   },
   {
    "duration": 11521,
    "start_time": "2023-08-03T10:18:32.642Z"
   },
   {
    "duration": 30,
    "start_time": "2023-08-03T10:18:44.164Z"
   },
   {
    "duration": 9,
    "start_time": "2023-08-03T10:18:44.195Z"
   },
   {
    "duration": 19,
    "start_time": "2023-08-03T10:18:44.220Z"
   },
   {
    "duration": 91,
    "start_time": "2023-08-03T10:18:44.241Z"
   },
   {
    "duration": 95,
    "start_time": "2023-08-03T10:18:44.334Z"
   },
   {
    "duration": 208,
    "start_time": "2023-08-03T10:18:44.431Z"
   },
   {
    "duration": 6,
    "start_time": "2023-08-03T10:18:44.640Z"
   },
   {
    "duration": 11,
    "start_time": "2023-08-03T10:18:44.647Z"
   },
   {
    "duration": 26017,
    "start_time": "2023-08-03T10:18:44.659Z"
   },
   {
    "duration": 32,
    "start_time": "2023-08-03T10:19:10.677Z"
   },
   {
    "duration": 12,
    "start_time": "2023-08-03T10:19:10.725Z"
   },
   {
    "duration": 18,
    "start_time": "2023-08-03T10:19:10.738Z"
   },
   {
    "duration": 9,
    "start_time": "2023-08-03T10:19:10.758Z"
   },
   {
    "duration": 121,
    "start_time": "2023-08-03T10:19:10.831Z"
   },
   {
    "duration": 543,
    "start_time": "2023-08-03T10:19:10.954Z"
   },
   {
    "duration": 10,
    "start_time": "2023-08-03T10:19:11.499Z"
   },
   {
    "duration": 51,
    "start_time": "2023-08-03T10:19:11.510Z"
   },
   {
    "duration": 114,
    "start_time": "2023-08-03T10:19:11.563Z"
   },
   {
    "duration": 1357,
    "start_time": "2023-08-03T10:19:54.094Z"
   },
   {
    "duration": 5,
    "start_time": "2023-08-03T10:21:09.057Z"
   },
   {
    "duration": 51,
    "start_time": "2023-08-03T10:21:09.064Z"
   },
   {
    "duration": 31,
    "start_time": "2023-08-03T10:21:09.116Z"
   },
   {
    "duration": 20,
    "start_time": "2023-08-03T10:21:09.149Z"
   },
   {
    "duration": 12,
    "start_time": "2023-08-03T10:21:09.170Z"
   },
   {
    "duration": 22,
    "start_time": "2023-08-03T10:21:09.186Z"
   },
   {
    "duration": 44,
    "start_time": "2023-08-03T10:21:09.209Z"
   },
   {
    "duration": 10,
    "start_time": "2023-08-03T10:21:09.255Z"
   },
   {
    "duration": 10,
    "start_time": "2023-08-03T10:21:09.267Z"
   },
   {
    "duration": 12,
    "start_time": "2023-08-03T10:21:09.280Z"
   },
   {
    "duration": 9,
    "start_time": "2023-08-03T10:21:09.293Z"
   },
   {
    "duration": 36,
    "start_time": "2023-08-03T10:21:09.303Z"
   },
   {
    "duration": 10,
    "start_time": "2023-08-03T10:21:09.343Z"
   },
   {
    "duration": 7,
    "start_time": "2023-08-03T10:21:09.355Z"
   },
   {
    "duration": 10,
    "start_time": "2023-08-03T10:21:09.363Z"
   },
   {
    "duration": 68,
    "start_time": "2023-08-03T10:21:09.375Z"
   },
   {
    "duration": 4,
    "start_time": "2023-08-03T10:21:09.445Z"
   },
   {
    "duration": 30,
    "start_time": "2023-08-03T10:21:09.452Z"
   },
   {
    "duration": 19,
    "start_time": "2023-08-03T10:21:09.484Z"
   },
   {
    "duration": 39,
    "start_time": "2023-08-03T10:21:09.504Z"
   },
   {
    "duration": 12,
    "start_time": "2023-08-03T10:21:09.545Z"
   },
   {
    "duration": 10,
    "start_time": "2023-08-03T10:21:09.559Z"
   },
   {
    "duration": 25,
    "start_time": "2023-08-03T10:21:09.570Z"
   },
   {
    "duration": 7,
    "start_time": "2023-08-03T10:21:09.597Z"
   },
   {
    "duration": 47,
    "start_time": "2023-08-03T10:21:09.606Z"
   },
   {
    "duration": 50,
    "start_time": "2023-08-03T10:21:09.655Z"
   },
   {
    "duration": 32,
    "start_time": "2023-08-03T10:21:09.707Z"
   },
   {
    "duration": 39,
    "start_time": "2023-08-03T10:21:09.743Z"
   },
   {
    "duration": 459,
    "start_time": "2023-08-03T10:21:09.783Z"
   },
   {
    "duration": 5,
    "start_time": "2023-08-03T10:21:10.244Z"
   },
   {
    "duration": 26,
    "start_time": "2023-08-03T10:21:10.251Z"
   },
   {
    "duration": 19727,
    "start_time": "2023-08-03T10:21:10.279Z"
   },
   {
    "duration": 51,
    "start_time": "2023-08-03T10:21:30.008Z"
   },
   {
    "duration": 93,
    "start_time": "2023-08-03T10:21:30.060Z"
   },
   {
    "duration": 76,
    "start_time": "2023-08-03T10:21:30.155Z"
   },
   {
    "duration": 137,
    "start_time": "2023-08-03T10:21:30.233Z"
   },
   {
    "duration": 195,
    "start_time": "2023-08-03T10:21:30.371Z"
   },
   {
    "duration": 9,
    "start_time": "2023-08-03T10:21:30.568Z"
   },
   {
    "duration": 285,
    "start_time": "2023-08-03T10:21:30.578Z"
   },
   {
    "duration": 150,
    "start_time": "2023-08-03T10:21:30.864Z"
   },
   {
    "duration": 424,
    "start_time": "2023-08-03T10:21:31.016Z"
   },
   {
    "duration": 455,
    "start_time": "2023-08-03T10:21:31.442Z"
   },
   {
    "duration": 5,
    "start_time": "2023-08-03T10:21:31.899Z"
   },
   {
    "duration": 63,
    "start_time": "2023-08-03T10:21:31.906Z"
   },
   {
    "duration": 21381,
    "start_time": "2023-08-03T10:21:31.973Z"
   },
   {
    "duration": 35,
    "start_time": "2023-08-03T10:21:53.355Z"
   },
   {
    "duration": 8,
    "start_time": "2023-08-03T10:21:53.392Z"
   },
   {
    "duration": 111,
    "start_time": "2023-08-03T10:21:53.420Z"
   },
   {
    "duration": 91,
    "start_time": "2023-08-03T10:21:53.538Z"
   },
   {
    "duration": 27,
    "start_time": "2023-08-03T10:21:53.640Z"
   },
   {
    "duration": 234,
    "start_time": "2023-08-03T10:21:53.669Z"
   },
   {
    "duration": 8,
    "start_time": "2023-08-03T10:21:53.905Z"
   },
   {
    "duration": 28,
    "start_time": "2023-08-03T10:21:53.914Z"
   },
   {
    "duration": 14765,
    "start_time": "2023-08-03T10:21:53.944Z"
   },
   {
    "duration": 52,
    "start_time": "2023-08-03T10:22:08.711Z"
   },
   {
    "duration": 14,
    "start_time": "2023-08-03T10:22:08.764Z"
   },
   {
    "duration": 74,
    "start_time": "2023-08-03T10:22:08.780Z"
   },
   {
    "duration": 81,
    "start_time": "2023-08-03T10:22:08.873Z"
   },
   {
    "duration": 24,
    "start_time": "2023-08-03T10:22:08.956Z"
   },
   {
    "duration": 213,
    "start_time": "2023-08-03T10:22:08.985Z"
   },
   {
    "duration": 10,
    "start_time": "2023-08-03T10:22:09.199Z"
   },
   {
    "duration": 42,
    "start_time": "2023-08-03T10:22:09.219Z"
   },
   {
    "duration": 27392,
    "start_time": "2023-08-03T10:22:09.264Z"
   },
   {
    "duration": 32,
    "start_time": "2023-08-03T10:22:36.658Z"
   },
   {
    "duration": 229,
    "start_time": "2023-08-03T10:22:36.692Z"
   },
   {
    "duration": 119,
    "start_time": "2023-08-03T10:22:36.928Z"
   },
   {
    "duration": 18,
    "start_time": "2023-08-03T10:22:37.124Z"
   },
   {
    "duration": 175,
    "start_time": "2023-08-03T10:22:37.144Z"
   },
   {
    "duration": 64,
    "start_time": "2023-08-03T10:22:37.329Z"
   },
   {
    "duration": 13,
    "start_time": "2023-08-03T10:22:37.395Z"
   },
   {
    "duration": 100,
    "start_time": "2023-08-03T10:22:37.410Z"
   },
   {
    "duration": 128,
    "start_time": "2023-08-03T10:22:37.512Z"
   },
   {
    "duration": 5,
    "start_time": "2023-08-03T10:31:42.175Z"
   },
   {
    "duration": 60,
    "start_time": "2023-08-03T10:31:42.181Z"
   },
   {
    "duration": 12,
    "start_time": "2023-08-03T10:31:42.243Z"
   },
   {
    "duration": 17,
    "start_time": "2023-08-03T10:31:42.256Z"
   },
   {
    "duration": 3,
    "start_time": "2023-08-03T10:31:42.274Z"
   },
   {
    "duration": 17,
    "start_time": "2023-08-03T10:31:42.278Z"
   },
   {
    "duration": 15,
    "start_time": "2023-08-03T10:31:42.296Z"
   },
   {
    "duration": 29,
    "start_time": "2023-08-03T10:31:42.312Z"
   },
   {
    "duration": 4,
    "start_time": "2023-08-03T10:31:42.343Z"
   },
   {
    "duration": 9,
    "start_time": "2023-08-03T10:31:42.349Z"
   },
   {
    "duration": 6,
    "start_time": "2023-08-03T10:31:42.359Z"
   },
   {
    "duration": 17,
    "start_time": "2023-08-03T10:31:42.366Z"
   },
   {
    "duration": 6,
    "start_time": "2023-08-03T10:31:42.384Z"
   },
   {
    "duration": 5,
    "start_time": "2023-08-03T10:31:42.392Z"
   },
   {
    "duration": 8,
    "start_time": "2023-08-03T10:31:42.398Z"
   },
   {
    "duration": 33,
    "start_time": "2023-08-03T10:31:42.407Z"
   },
   {
    "duration": 11,
    "start_time": "2023-08-03T10:31:42.442Z"
   },
   {
    "duration": 6,
    "start_time": "2023-08-03T10:31:42.455Z"
   },
   {
    "duration": 5,
    "start_time": "2023-08-03T10:31:42.463Z"
   },
   {
    "duration": 7,
    "start_time": "2023-08-03T10:31:42.469Z"
   },
   {
    "duration": 19,
    "start_time": "2023-08-03T10:31:42.477Z"
   },
   {
    "duration": 17,
    "start_time": "2023-08-03T10:31:42.498Z"
   },
   {
    "duration": 33,
    "start_time": "2023-08-03T10:31:42.516Z"
   },
   {
    "duration": 7,
    "start_time": "2023-08-03T10:31:42.550Z"
   },
   {
    "duration": 44,
    "start_time": "2023-08-03T10:31:42.558Z"
   },
   {
    "duration": 43,
    "start_time": "2023-08-03T10:31:42.603Z"
   },
   {
    "duration": 14,
    "start_time": "2023-08-03T10:31:42.648Z"
   },
   {
    "duration": 14,
    "start_time": "2023-08-03T10:31:42.664Z"
   },
   {
    "duration": 461,
    "start_time": "2023-08-03T10:31:42.679Z"
   },
   {
    "duration": 6,
    "start_time": "2023-08-03T10:31:43.142Z"
   },
   {
    "duration": 9,
    "start_time": "2023-08-03T10:31:43.150Z"
   },
   {
    "duration": 19346,
    "start_time": "2023-08-03T10:31:43.161Z"
   },
   {
    "duration": 46,
    "start_time": "2023-08-03T10:32:02.509Z"
   },
   {
    "duration": 21,
    "start_time": "2023-08-03T10:32:02.557Z"
   },
   {
    "duration": 83,
    "start_time": "2023-08-03T10:32:02.579Z"
   },
   {
    "duration": 71,
    "start_time": "2023-08-03T10:32:02.664Z"
   },
   {
    "duration": 267,
    "start_time": "2023-08-03T10:32:02.737Z"
   },
   {
    "duration": 43,
    "start_time": "2023-08-03T10:32:03.005Z"
   },
   {
    "duration": 324,
    "start_time": "2023-08-03T10:32:03.049Z"
   },
   {
    "duration": 167,
    "start_time": "2023-08-03T10:32:03.375Z"
   },
   {
    "duration": 252,
    "start_time": "2023-08-03T10:32:03.547Z"
   },
   {
    "duration": 469,
    "start_time": "2023-08-03T10:32:03.801Z"
   },
   {
    "duration": 4,
    "start_time": "2023-08-03T10:32:04.271Z"
   },
   {
    "duration": 9,
    "start_time": "2023-08-03T10:32:04.277Z"
   },
   {
    "duration": 19958,
    "start_time": "2023-08-03T10:32:04.287Z"
   },
   {
    "duration": 38,
    "start_time": "2023-08-03T10:32:24.247Z"
   },
   {
    "duration": 9,
    "start_time": "2023-08-03T10:32:24.286Z"
   },
   {
    "duration": 55,
    "start_time": "2023-08-03T10:32:24.296Z"
   },
   {
    "duration": 92,
    "start_time": "2023-08-03T10:32:24.353Z"
   },
   {
    "duration": 104,
    "start_time": "2023-08-03T10:32:24.455Z"
   },
   {
    "duration": 249,
    "start_time": "2023-08-03T10:32:24.561Z"
   },
   {
    "duration": 26,
    "start_time": "2023-08-03T10:32:24.812Z"
   },
   {
    "duration": 36,
    "start_time": "2023-08-03T10:32:24.839Z"
   },
   {
    "duration": 11515,
    "start_time": "2023-08-03T10:32:24.877Z"
   },
   {
    "duration": 47,
    "start_time": "2023-08-03T10:32:36.394Z"
   },
   {
    "duration": 75,
    "start_time": "2023-08-03T10:32:36.443Z"
   },
   {
    "duration": 41,
    "start_time": "2023-08-03T10:32:36.520Z"
   },
   {
    "duration": 9,
    "start_time": "2023-08-03T10:32:36.562Z"
   },
   {
    "duration": 19,
    "start_time": "2023-08-03T10:32:36.622Z"
   },
   {
    "duration": 304,
    "start_time": "2023-08-03T10:32:36.642Z"
   },
   {
    "duration": 4,
    "start_time": "2023-08-03T10:32:36.947Z"
   },
   {
    "duration": 18,
    "start_time": "2023-08-03T10:32:36.952Z"
   },
   {
    "duration": 25482,
    "start_time": "2023-08-03T10:32:36.971Z"
   },
   {
    "duration": 35,
    "start_time": "2023-08-03T10:33:02.455Z"
   },
   {
    "duration": 9,
    "start_time": "2023-08-03T10:33:02.492Z"
   },
   {
    "duration": 56,
    "start_time": "2023-08-03T10:33:02.502Z"
   },
   {
    "duration": 186,
    "start_time": "2023-08-03T10:33:02.564Z"
   },
   {
    "duration": 50,
    "start_time": "2023-08-03T10:33:02.751Z"
   },
   {
    "duration": 40,
    "start_time": "2023-08-03T10:33:02.802Z"
   },
   {
    "duration": 20,
    "start_time": "2023-08-03T10:33:02.845Z"
   },
   {
    "duration": 46,
    "start_time": "2023-08-03T10:33:02.866Z"
   },
   {
    "duration": 145,
    "start_time": "2023-08-03T10:33:02.913Z"
   },
   {
    "duration": 5,
    "start_time": "2023-08-03T10:33:37.459Z"
   },
   {
    "duration": 1541,
    "start_time": "2023-08-04T06:14:04.552Z"
   },
   {
    "duration": 81,
    "start_time": "2023-08-04T06:14:06.095Z"
   },
   {
    "duration": 16,
    "start_time": "2023-08-04T06:14:06.178Z"
   },
   {
    "duration": 14,
    "start_time": "2023-08-04T06:14:06.196Z"
   },
   {
    "duration": 3,
    "start_time": "2023-08-04T06:14:06.212Z"
   },
   {
    "duration": 13,
    "start_time": "2023-08-04T06:14:06.216Z"
   },
   {
    "duration": 23,
    "start_time": "2023-08-04T06:14:06.230Z"
   },
   {
    "duration": 8,
    "start_time": "2023-08-04T06:14:06.255Z"
   },
   {
    "duration": 37,
    "start_time": "2023-08-04T06:14:06.264Z"
   },
   {
    "duration": 33,
    "start_time": "2023-08-04T06:14:06.304Z"
   },
   {
    "duration": 5,
    "start_time": "2023-08-04T06:14:06.339Z"
   },
   {
    "duration": 37,
    "start_time": "2023-08-04T06:14:06.345Z"
   },
   {
    "duration": 15,
    "start_time": "2023-08-04T06:14:06.384Z"
   },
   {
    "duration": 12,
    "start_time": "2023-08-04T06:14:06.401Z"
   },
   {
    "duration": 6,
    "start_time": "2023-08-04T06:14:06.415Z"
   },
   {
    "duration": 26,
    "start_time": "2023-08-04T06:14:06.422Z"
   },
   {
    "duration": 3,
    "start_time": "2023-08-04T06:14:06.449Z"
   },
   {
    "duration": 17,
    "start_time": "2023-08-04T06:14:06.454Z"
   },
   {
    "duration": 8,
    "start_time": "2023-08-04T06:14:06.473Z"
   },
   {
    "duration": 18,
    "start_time": "2023-08-04T06:14:06.482Z"
   },
   {
    "duration": 15,
    "start_time": "2023-08-04T06:14:06.501Z"
   },
   {
    "duration": 6,
    "start_time": "2023-08-04T06:14:06.518Z"
   },
   {
    "duration": 11,
    "start_time": "2023-08-04T06:14:06.525Z"
   },
   {
    "duration": 5,
    "start_time": "2023-08-04T06:14:06.538Z"
   },
   {
    "duration": 22,
    "start_time": "2023-08-04T06:14:06.544Z"
   },
   {
    "duration": 20,
    "start_time": "2023-08-04T06:14:06.568Z"
   },
   {
    "duration": 15,
    "start_time": "2023-08-04T06:14:06.590Z"
   },
   {
    "duration": 16,
    "start_time": "2023-08-04T06:14:06.609Z"
   },
   {
    "duration": 485,
    "start_time": "2023-08-04T06:14:06.627Z"
   },
   {
    "duration": 4,
    "start_time": "2023-08-04T06:14:07.113Z"
   },
   {
    "duration": 13,
    "start_time": "2023-08-04T06:14:07.119Z"
   },
   {
    "duration": 18200,
    "start_time": "2023-08-04T06:14:07.133Z"
   },
   {
    "duration": 42,
    "start_time": "2023-08-04T06:14:25.335Z"
   },
   {
    "duration": 17,
    "start_time": "2023-08-04T06:14:25.379Z"
   },
   {
    "duration": 26,
    "start_time": "2023-08-04T06:14:25.398Z"
   },
   {
    "duration": 171,
    "start_time": "2023-08-04T06:14:25.425Z"
   },
   {
    "duration": 147,
    "start_time": "2023-08-04T06:14:25.597Z"
   },
   {
    "duration": 7,
    "start_time": "2023-08-04T06:14:25.745Z"
   },
   {
    "duration": 149,
    "start_time": "2023-08-04T06:14:25.753Z"
   },
   {
    "duration": 183,
    "start_time": "2023-08-04T06:14:25.904Z"
   },
   {
    "duration": 382,
    "start_time": "2023-08-04T06:14:26.088Z"
   },
   {
    "duration": 440,
    "start_time": "2023-08-04T06:14:26.471Z"
   },
   {
    "duration": 4,
    "start_time": "2023-08-04T06:14:26.913Z"
   },
   {
    "duration": 13,
    "start_time": "2023-08-04T06:14:26.919Z"
   },
   {
    "duration": 19692,
    "start_time": "2023-08-04T06:14:26.934Z"
   },
   {
    "duration": 52,
    "start_time": "2023-08-04T06:14:46.628Z"
   },
   {
    "duration": 21,
    "start_time": "2023-08-04T06:14:46.683Z"
   },
   {
    "duration": 40,
    "start_time": "2023-08-04T06:14:46.706Z"
   },
   {
    "duration": 99,
    "start_time": "2023-08-04T06:14:46.796Z"
   },
   {
    "duration": 16,
    "start_time": "2023-08-04T06:14:46.897Z"
   },
   {
    "duration": 225,
    "start_time": "2023-08-04T06:14:46.914Z"
   },
   {
    "duration": 4,
    "start_time": "2023-08-04T06:14:47.140Z"
   },
   {
    "duration": 16,
    "start_time": "2023-08-04T06:14:47.146Z"
   },
   {
    "duration": 12924,
    "start_time": "2023-08-04T06:14:47.164Z"
   },
   {
    "duration": 39,
    "start_time": "2023-08-04T06:15:00.090Z"
   },
   {
    "duration": 8,
    "start_time": "2023-08-04T06:15:00.131Z"
   },
   {
    "duration": 59,
    "start_time": "2023-08-04T06:15:00.140Z"
   },
   {
    "duration": 117,
    "start_time": "2023-08-04T06:15:00.201Z"
   },
   {
    "duration": 27,
    "start_time": "2023-08-04T06:15:00.319Z"
   },
   {
    "duration": 203,
    "start_time": "2023-08-04T06:15:00.348Z"
   },
   {
    "duration": 5,
    "start_time": "2023-08-04T06:15:00.553Z"
   },
   {
    "duration": 46,
    "start_time": "2023-08-04T06:15:00.559Z"
   },
   {
    "duration": 25645,
    "start_time": "2023-08-04T06:15:00.607Z"
   },
   {
    "duration": 51,
    "start_time": "2023-08-04T06:15:26.254Z"
   },
   {
    "duration": 10,
    "start_time": "2023-08-04T06:15:26.307Z"
   },
   {
    "duration": 24,
    "start_time": "2023-08-04T06:15:26.319Z"
   },
   {
    "duration": 102,
    "start_time": "2023-08-04T06:15:26.394Z"
   },
   {
    "duration": 37,
    "start_time": "2023-08-04T06:15:26.497Z"
   },
   {
    "duration": 69,
    "start_time": "2023-08-04T06:15:26.536Z"
   },
   {
    "duration": 17,
    "start_time": "2023-08-04T06:15:26.607Z"
   },
   {
    "duration": 78,
    "start_time": "2023-08-04T06:15:26.626Z"
   },
   {
    "duration": 148,
    "start_time": "2023-08-04T06:15:26.707Z"
   }
  ],
  "kernelspec": {
   "display_name": "Python 3 (ipykernel)",
   "language": "python",
   "name": "python3"
  },
  "language_info": {
   "codemirror_mode": {
    "name": "ipython",
    "version": 3
   },
   "file_extension": ".py",
   "mimetype": "text/x-python",
   "name": "python",
   "nbconvert_exporter": "python",
   "pygments_lexer": "ipython3",
   "version": "3.9.5"
  },
  "toc": {
   "base_numbering": 1,
   "nav_menu": {},
   "number_sections": true,
   "sideBar": true,
   "skip_h1_title": true,
   "title_cell": "Содержание",
   "title_sidebar": "Contents",
   "toc_cell": true,
   "toc_position": {
    "height": "724px",
    "left": "23px",
    "top": "111.125px",
    "width": "371px"
   },
   "toc_section_display": true,
   "toc_window_display": true
  }
 },
 "nbformat": 4,
 "nbformat_minor": 2
}
