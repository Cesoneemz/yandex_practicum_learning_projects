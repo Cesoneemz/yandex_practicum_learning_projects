{
 "cells": [
  {
   "cell_type": "markdown",
   "metadata": {
    "toc": true
   },
   "source": [
    "<h1>Содержание<span class=\"tocSkip\"></span></h1>\n",
    "<div class=\"toc\"><ul class=\"toc-item\"><li><span><a href=\"#Подготовка-данных\" data-toc-modified-id=\"Подготовка-данных-1\"><span class=\"toc-item-num\">1&nbsp;&nbsp;</span>Подготовка данных</a></span><ul class=\"toc-item\"><li><span><a href=\"#Анализ-признаков,-недоступных-в-тестовой-выборке\" data-toc-modified-id=\"Анализ-признаков,-недоступных-в-тестовой-выборке-1.1\"><span class=\"toc-item-num\">1.1&nbsp;&nbsp;</span>Анализ признаков, недоступных в тестовой выборке</a></span></li><li><span><a href=\"#Проверка-дубликатов\" data-toc-modified-id=\"Проверка-дубликатов-1.2\"><span class=\"toc-item-num\">1.2&nbsp;&nbsp;</span>Проверка дубликатов</a></span></li><li><span><a href=\"#Проверка-пропусков\" data-toc-modified-id=\"Проверка-пропусков-1.3\"><span class=\"toc-item-num\">1.3&nbsp;&nbsp;</span>Проверка пропусков</a></span></li><li><span><a href=\"#Вычисление-эффективности-коэффициента-обогащения-и-сравнение-её-с-изначальным-значением-признака\" data-toc-modified-id=\"Вычисление-эффективности-коэффициента-обогащения-и-сравнение-её-с-изначальным-значением-признака-1.4\"><span class=\"toc-item-num\">1.4&nbsp;&nbsp;</span>Вычисление эффективности коэффициента обогащения и сравнение её с изначальным значением признака</a></span></li></ul></li><li><span><a href=\"#Анализ-данных\" data-toc-modified-id=\"Анализ-данных-2\"><span class=\"toc-item-num\">2&nbsp;&nbsp;</span>Анализ данных</a></span><ul class=\"toc-item\"><li><span><a href=\"#Анализ-изменения-концентрация-металлов-(Au,-Ag,-Pb)-на-различных-этапах:-в-сырье,-в-черновом-концентрате,-в-концентрате-после-первой-очистки-и-в-финальном-концентрате\" data-toc-modified-id=\"Анализ-изменения-концентрация-металлов-(Au,-Ag,-Pb)-на-различных-этапах:-в-сырье,-в-черновом-концентрате,-в-концентрате-после-первой-очистки-и-в-финальном-концентрате-2.1\"><span class=\"toc-item-num\">2.1&nbsp;&nbsp;</span>Анализ изменения концентрация металлов (Au, Ag, Pb) на различных этапах: в сырье, в черновом концентрате, в концентрате после первой очистки и в финальном концентрате</a></span></li><li><span><a href=\"#Распределение-гранул-сырья\" data-toc-modified-id=\"Распределение-гранул-сырья-2.2\"><span class=\"toc-item-num\">2.2&nbsp;&nbsp;</span>Распределение гранул сырья</a></span></li></ul></li><li><span><a href=\"#Модель\" data-toc-modified-id=\"Модель-3\"><span class=\"toc-item-num\">3&nbsp;&nbsp;</span>Модель</a></span><ul class=\"toc-item\"><li><span><a href=\"#Модель-линейной-регрессии\" data-toc-modified-id=\"Модель-линейной-регрессии-3.1\"><span class=\"toc-item-num\">3.1&nbsp;&nbsp;</span>Модель линейной регрессии</a></span></li><li><span><a href=\"#Модель-дерева-решений\" data-toc-modified-id=\"Модель-дерева-решений-3.2\"><span class=\"toc-item-num\">3.2&nbsp;&nbsp;</span>Модель дерева решений</a></span></li><li><span><a href=\"#Модель-случайного-дерева\" data-toc-modified-id=\"Модель-случайного-дерева-3.3\"><span class=\"toc-item-num\">3.3&nbsp;&nbsp;</span>Модель случайного дерева</a></span></li><li><span><a href=\"#Проверка-адекватности-модели\" data-toc-modified-id=\"Проверка-адекватности-модели-3.4\"><span class=\"toc-item-num\">3.4&nbsp;&nbsp;</span>Проверка адекватности модели</a></span></li></ul></li><li><span><a href=\"#Итоговый-вывод\" data-toc-modified-id=\"Итоговый-вывод-4\"><span class=\"toc-item-num\">4&nbsp;&nbsp;</span>Итоговый вывод</a></span></li></ul></div>"
   ]
  },
  {
   "cell_type": "markdown",
   "metadata": {},
   "source": [
    "# Восстановление золота из руды"
   ]
  },
  {
   "cell_type": "markdown",
   "metadata": {},
   "source": [
    "Подготовьте прототип модели машинного обучения для «Цифры». Компания разрабатывает решения для эффективной работы промышленных предприятий.\n",
    "\n",
    "Модель должна предсказать коэффициент восстановления золота из золотосодержащей руды. Используйте данные с параметрами добычи и очистки. \n",
    "\n",
    "Модель поможет оптимизировать производство, чтобы не запускать предприятие с убыточными характеристиками.\n",
    "\n",
    "Вам нужно:\n",
    "\n",
    "1. Подготовить данные;\n",
    "2. Провести исследовательский анализ данных;\n",
    "3. Построить и обучить модель.\n",
    "\n",
    "Чтобы выполнить проект, обращайтесь к библиотекам *pandas*, *matplotlib* и *sklearn.* Вам поможет их документация."
   ]
  },
  {
   "cell_type": "markdown",
   "metadata": {},
   "source": [
    "## Подготовка данных"
   ]
  },
  {
   "cell_type": "code",
   "execution_count": 1,
   "metadata": {},
   "outputs": [],
   "source": [
    "import pandas as pd\n",
    "import numpy as np\n",
    "import matplotlib.pyplot as plt\n",
    "import seaborn as sns\n",
    "\n",
    "from sklearn.linear_model import LinearRegression\n",
    "from sklearn.tree import DecisionTreeRegressor\n",
    "from sklearn.ensemble import RandomForestRegressor\n",
    "\n",
    "from sklearn.metrics import mean_absolute_error\n",
    "from sklearn.metrics import make_scorer\n",
    "\n",
    "from sklearn.model_selection import cross_val_score\n",
    "from sklearn.model_selection import GridSearchCV\n",
    "from sklearn.preprocessing import StandardScaler\n",
    "from sklearn.pipeline import make_pipeline\n",
    "from sklearn.dummy import DummyRegressor"
   ]
  },
  {
   "cell_type": "code",
   "execution_count": 2,
   "metadata": {},
   "outputs": [],
   "source": [
    "df_train = pd.read_csv('/datasets/gold_industry_train.csv')\n",
    "df_test = pd.read_csv('/datasets/gold_industry_test.csv')\n",
    "df_full = pd.read_csv('/datasets/gold_industry_full.csv')"
   ]
  },
  {
   "cell_type": "code",
   "execution_count": 3,
   "metadata": {},
   "outputs": [
    {
     "data": {
      "text/html": [
       "<div>\n",
       "<style scoped>\n",
       "    .dataframe tbody tr th:only-of-type {\n",
       "        vertical-align: middle;\n",
       "    }\n",
       "\n",
       "    .dataframe tbody tr th {\n",
       "        vertical-align: top;\n",
       "    }\n",
       "\n",
       "    .dataframe thead th {\n",
       "        text-align: right;\n",
       "    }\n",
       "</style>\n",
       "<table border=\"1\" class=\"dataframe\">\n",
       "  <thead>\n",
       "    <tr style=\"text-align: right;\">\n",
       "      <th></th>\n",
       "      <th>date</th>\n",
       "      <th>rougher.input.feed_au</th>\n",
       "      <th>rougher.input.feed_ag</th>\n",
       "      <th>rougher.input.feed_pb</th>\n",
       "      <th>rougher.input.feed_sol</th>\n",
       "      <th>rougher.input.feed_rate</th>\n",
       "      <th>rougher.input.feed_size</th>\n",
       "      <th>rougher.input.floatbank10_sulfate</th>\n",
       "      <th>rougher.input.floatbank10_xanthate</th>\n",
       "      <th>rougher.state.floatbank10_a_air</th>\n",
       "      <th>...</th>\n",
       "      <th>secondary_cleaner.output.tail_sol</th>\n",
       "      <th>final.output.concentrate_au</th>\n",
       "      <th>final.output.concentrate_ag</th>\n",
       "      <th>final.output.concentrate_pb</th>\n",
       "      <th>final.output.concentrate_sol</th>\n",
       "      <th>final.output.recovery</th>\n",
       "      <th>final.output.tail_au</th>\n",
       "      <th>final.output.tail_ag</th>\n",
       "      <th>final.output.tail_pb</th>\n",
       "      <th>final.output.tail_sol</th>\n",
       "    </tr>\n",
       "  </thead>\n",
       "  <tbody>\n",
       "    <tr>\n",
       "      <th>0</th>\n",
       "      <td>2016-01-15 00:00:00</td>\n",
       "      <td>6.486150</td>\n",
       "      <td>6.100378</td>\n",
       "      <td>2.284912</td>\n",
       "      <td>36.808594</td>\n",
       "      <td>523.546326</td>\n",
       "      <td>55.486599</td>\n",
       "      <td>11.986616</td>\n",
       "      <td>6.007990</td>\n",
       "      <td>999.706909</td>\n",
       "      <td>...</td>\n",
       "      <td>8.764648</td>\n",
       "      <td>42.192020</td>\n",
       "      <td>6.055403</td>\n",
       "      <td>9.889648</td>\n",
       "      <td>5.507324</td>\n",
       "      <td>70.541216</td>\n",
       "      <td>2.143149</td>\n",
       "      <td>10.411962</td>\n",
       "      <td>0.895447</td>\n",
       "      <td>16.904297</td>\n",
       "    </tr>\n",
       "    <tr>\n",
       "      <th>1</th>\n",
       "      <td>2016-01-15 01:00:00</td>\n",
       "      <td>6.478583</td>\n",
       "      <td>6.161113</td>\n",
       "      <td>2.266033</td>\n",
       "      <td>35.753385</td>\n",
       "      <td>525.290581</td>\n",
       "      <td>57.278666</td>\n",
       "      <td>11.971193</td>\n",
       "      <td>6.005766</td>\n",
       "      <td>1000.286398</td>\n",
       "      <td>...</td>\n",
       "      <td>9.001494</td>\n",
       "      <td>42.701629</td>\n",
       "      <td>6.029369</td>\n",
       "      <td>9.968944</td>\n",
       "      <td>5.257781</td>\n",
       "      <td>69.266198</td>\n",
       "      <td>2.224930</td>\n",
       "      <td>10.462676</td>\n",
       "      <td>0.927452</td>\n",
       "      <td>16.634514</td>\n",
       "    </tr>\n",
       "    <tr>\n",
       "      <th>2</th>\n",
       "      <td>2016-01-15 02:00:00</td>\n",
       "      <td>6.362222</td>\n",
       "      <td>6.116455</td>\n",
       "      <td>2.159622</td>\n",
       "      <td>35.971630</td>\n",
       "      <td>530.026610</td>\n",
       "      <td>57.510649</td>\n",
       "      <td>11.920603</td>\n",
       "      <td>6.197377</td>\n",
       "      <td>999.719565</td>\n",
       "      <td>...</td>\n",
       "      <td>8.842896</td>\n",
       "      <td>42.657501</td>\n",
       "      <td>6.055926</td>\n",
       "      <td>10.213995</td>\n",
       "      <td>5.383759</td>\n",
       "      <td>68.116445</td>\n",
       "      <td>2.257889</td>\n",
       "      <td>10.507046</td>\n",
       "      <td>0.953716</td>\n",
       "      <td>16.208849</td>\n",
       "    </tr>\n",
       "    <tr>\n",
       "      <th>3</th>\n",
       "      <td>2016-01-15 03:00:00</td>\n",
       "      <td>6.118189</td>\n",
       "      <td>6.043309</td>\n",
       "      <td>2.037807</td>\n",
       "      <td>36.862241</td>\n",
       "      <td>542.590390</td>\n",
       "      <td>57.792734</td>\n",
       "      <td>11.630094</td>\n",
       "      <td>6.203177</td>\n",
       "      <td>999.814770</td>\n",
       "      <td>...</td>\n",
       "      <td>9.122857</td>\n",
       "      <td>42.689819</td>\n",
       "      <td>6.047977</td>\n",
       "      <td>9.977019</td>\n",
       "      <td>4.858634</td>\n",
       "      <td>68.347543</td>\n",
       "      <td>2.146849</td>\n",
       "      <td>10.422762</td>\n",
       "      <td>0.883763</td>\n",
       "      <td>16.532835</td>\n",
       "    </tr>\n",
       "    <tr>\n",
       "      <th>4</th>\n",
       "      <td>2016-01-15 04:00:00</td>\n",
       "      <td>5.663707</td>\n",
       "      <td>6.060915</td>\n",
       "      <td>1.786875</td>\n",
       "      <td>34.347666</td>\n",
       "      <td>540.531893</td>\n",
       "      <td>56.047189</td>\n",
       "      <td>10.957755</td>\n",
       "      <td>6.198826</td>\n",
       "      <td>999.678690</td>\n",
       "      <td>...</td>\n",
       "      <td>8.871028</td>\n",
       "      <td>42.774141</td>\n",
       "      <td>6.148599</td>\n",
       "      <td>10.142511</td>\n",
       "      <td>4.939416</td>\n",
       "      <td>66.927016</td>\n",
       "      <td>2.055292</td>\n",
       "      <td>10.360302</td>\n",
       "      <td>0.792826</td>\n",
       "      <td>16.525686</td>\n",
       "    </tr>\n",
       "  </tbody>\n",
       "</table>\n",
       "<p>5 rows × 87 columns</p>\n",
       "</div>"
      ],
      "text/plain": [
       "                  date  rougher.input.feed_au  rougher.input.feed_ag  \\\n",
       "0  2016-01-15 00:00:00               6.486150               6.100378   \n",
       "1  2016-01-15 01:00:00               6.478583               6.161113   \n",
       "2  2016-01-15 02:00:00               6.362222               6.116455   \n",
       "3  2016-01-15 03:00:00               6.118189               6.043309   \n",
       "4  2016-01-15 04:00:00               5.663707               6.060915   \n",
       "\n",
       "   rougher.input.feed_pb  rougher.input.feed_sol  rougher.input.feed_rate  \\\n",
       "0               2.284912               36.808594               523.546326   \n",
       "1               2.266033               35.753385               525.290581   \n",
       "2               2.159622               35.971630               530.026610   \n",
       "3               2.037807               36.862241               542.590390   \n",
       "4               1.786875               34.347666               540.531893   \n",
       "\n",
       "   rougher.input.feed_size  rougher.input.floatbank10_sulfate  \\\n",
       "0                55.486599                          11.986616   \n",
       "1                57.278666                          11.971193   \n",
       "2                57.510649                          11.920603   \n",
       "3                57.792734                          11.630094   \n",
       "4                56.047189                          10.957755   \n",
       "\n",
       "   rougher.input.floatbank10_xanthate  rougher.state.floatbank10_a_air  ...  \\\n",
       "0                            6.007990                       999.706909  ...   \n",
       "1                            6.005766                      1000.286398  ...   \n",
       "2                            6.197377                       999.719565  ...   \n",
       "3                            6.203177                       999.814770  ...   \n",
       "4                            6.198826                       999.678690  ...   \n",
       "\n",
       "   secondary_cleaner.output.tail_sol  final.output.concentrate_au  \\\n",
       "0                           8.764648                    42.192020   \n",
       "1                           9.001494                    42.701629   \n",
       "2                           8.842896                    42.657501   \n",
       "3                           9.122857                    42.689819   \n",
       "4                           8.871028                    42.774141   \n",
       "\n",
       "   final.output.concentrate_ag  final.output.concentrate_pb  \\\n",
       "0                     6.055403                     9.889648   \n",
       "1                     6.029369                     9.968944   \n",
       "2                     6.055926                    10.213995   \n",
       "3                     6.047977                     9.977019   \n",
       "4                     6.148599                    10.142511   \n",
       "\n",
       "   final.output.concentrate_sol  final.output.recovery  final.output.tail_au  \\\n",
       "0                      5.507324              70.541216              2.143149   \n",
       "1                      5.257781              69.266198              2.224930   \n",
       "2                      5.383759              68.116445              2.257889   \n",
       "3                      4.858634              68.347543              2.146849   \n",
       "4                      4.939416              66.927016              2.055292   \n",
       "\n",
       "   final.output.tail_ag  final.output.tail_pb  final.output.tail_sol  \n",
       "0             10.411962              0.895447              16.904297  \n",
       "1             10.462676              0.927452              16.634514  \n",
       "2             10.507046              0.953716              16.208849  \n",
       "3             10.422762              0.883763              16.532835  \n",
       "4             10.360302              0.792826              16.525686  \n",
       "\n",
       "[5 rows x 87 columns]"
      ]
     },
     "metadata": {},
     "output_type": "display_data"
    },
    {
     "name": "stdout",
     "output_type": "stream",
     "text": [
      "<class 'pandas.core.frame.DataFrame'>\n",
      "RangeIndex: 14579 entries, 0 to 14578\n",
      "Data columns (total 87 columns):\n",
      " #   Column                                              Non-Null Count  Dtype  \n",
      "---  ------                                              --------------  -----  \n",
      " 0   date                                                14579 non-null  object \n",
      " 1   rougher.input.feed_au                               14579 non-null  float64\n",
      " 2   rougher.input.feed_ag                               14579 non-null  float64\n",
      " 3   rougher.input.feed_pb                               14507 non-null  float64\n",
      " 4   rougher.input.feed_sol                              14502 non-null  float64\n",
      " 5   rougher.input.feed_rate                             14572 non-null  float64\n",
      " 6   rougher.input.feed_size                             14478 non-null  float64\n",
      " 7   rougher.input.floatbank10_sulfate                   14548 non-null  float64\n",
      " 8   rougher.input.floatbank10_xanthate                  14572 non-null  float64\n",
      " 9   rougher.state.floatbank10_a_air                     14579 non-null  float64\n",
      " 10  rougher.state.floatbank10_a_level                   14579 non-null  float64\n",
      " 11  rougher.state.floatbank10_b_air                     14579 non-null  float64\n",
      " 12  rougher.state.floatbank10_b_level                   14579 non-null  float64\n",
      " 13  rougher.state.floatbank10_c_air                     14579 non-null  float64\n",
      " 14  rougher.state.floatbank10_c_level                   14579 non-null  float64\n",
      " 15  rougher.state.floatbank10_d_air                     14579 non-null  float64\n",
      " 16  rougher.state.floatbank10_d_level                   14579 non-null  float64\n",
      " 17  rougher.state.floatbank10_e_air                     14150 non-null  float64\n",
      " 18  rougher.state.floatbank10_e_level                   14579 non-null  float64\n",
      " 19  rougher.state.floatbank10_f_air                     14579 non-null  float64\n",
      " 20  rougher.state.floatbank10_f_level                   14579 non-null  float64\n",
      " 21  rougher.input.floatbank11_sulfate                   14543 non-null  float64\n",
      " 22  rougher.input.floatbank11_xanthate                  14172 non-null  float64\n",
      " 23  rougher.calculation.sulfate_to_au_concentrate       14578 non-null  float64\n",
      " 24  rougher.calculation.floatbank10_sulfate_to_au_feed  14578 non-null  float64\n",
      " 25  rougher.calculation.floatbank11_sulfate_to_au_feed  14578 non-null  float64\n",
      " 26  rougher.calculation.au_pb_ratio                     14579 non-null  float64\n",
      " 27  rougher.output.concentrate_au                       14579 non-null  float64\n",
      " 28  rougher.output.concentrate_ag                       14579 non-null  float64\n",
      " 29  rougher.output.concentrate_pb                       14579 non-null  float64\n",
      " 30  rougher.output.concentrate_sol                      14561 non-null  float64\n",
      " 31  rougher.output.recovery                             14579 non-null  float64\n",
      " 32  rougher.output.tail_au                              14579 non-null  float64\n",
      " 33  rougher.output.tail_ag                              14578 non-null  float64\n",
      " 34  rougher.output.tail_pb                              14579 non-null  float64\n",
      " 35  rougher.output.tail_sol                             14579 non-null  float64\n",
      " 36  primary_cleaner.input.sulfate                       14556 non-null  float64\n",
      " 37  primary_cleaner.input.depressant                    14551 non-null  float64\n",
      " 38  primary_cleaner.input.feed_size                     14579 non-null  float64\n",
      " 39  primary_cleaner.input.xanthate                      14518 non-null  float64\n",
      " 40  primary_cleaner.state.floatbank8_a_air              14576 non-null  float64\n",
      " 41  primary_cleaner.state.floatbank8_a_level            14579 non-null  float64\n",
      " 42  primary_cleaner.state.floatbank8_b_air              14576 non-null  float64\n",
      " 43  primary_cleaner.state.floatbank8_b_level            14579 non-null  float64\n",
      " 44  primary_cleaner.state.floatbank8_c_air              14579 non-null  float64\n",
      " 45  primary_cleaner.state.floatbank8_c_level            14579 non-null  float64\n",
      " 46  primary_cleaner.state.floatbank8_d_air              14578 non-null  float64\n",
      " 47  primary_cleaner.state.floatbank8_d_level            14579 non-null  float64\n",
      " 48  primary_cleaner.output.concentrate_au               14579 non-null  float64\n",
      " 49  primary_cleaner.output.concentrate_ag               14579 non-null  float64\n",
      " 50  primary_cleaner.output.concentrate_pb               14491 non-null  float64\n",
      " 51  primary_cleaner.output.concentrate_sol              14314 non-null  float64\n",
      " 52  primary_cleaner.output.tail_au                      14579 non-null  float64\n",
      " 53  primary_cleaner.output.tail_ag                      14575 non-null  float64\n",
      " 54  primary_cleaner.output.tail_pb                      14573 non-null  float64\n",
      " 55  primary_cleaner.output.tail_sol                     14534 non-null  float64\n",
      " 56  secondary_cleaner.state.floatbank2_a_air            14485 non-null  float64\n",
      " 57  secondary_cleaner.state.floatbank2_a_level          14579 non-null  float64\n",
      " 58  secondary_cleaner.state.floatbank2_b_air            14557 non-null  float64\n",
      " 59  secondary_cleaner.state.floatbank2_b_level          14579 non-null  float64\n",
      " 60  secondary_cleaner.state.floatbank3_a_air            14567 non-null  float64\n",
      " 61  secondary_cleaner.state.floatbank3_a_level          14579 non-null  float64\n",
      " 62  secondary_cleaner.state.floatbank3_b_air            14579 non-null  float64\n",
      " 63  secondary_cleaner.state.floatbank3_b_level          14579 non-null  float64\n",
      " 64  secondary_cleaner.state.floatbank4_a_air            14574 non-null  float64\n",
      " 65  secondary_cleaner.state.floatbank4_a_level          14579 non-null  float64\n",
      " 66  secondary_cleaner.state.floatbank4_b_air            14579 non-null  float64\n",
      " 67  secondary_cleaner.state.floatbank4_b_level          14579 non-null  float64\n",
      " 68  secondary_cleaner.state.floatbank5_a_air            14579 non-null  float64\n",
      " 69  secondary_cleaner.state.floatbank5_a_level          14579 non-null  float64\n",
      " 70  secondary_cleaner.state.floatbank5_b_air            14579 non-null  float64\n",
      " 71  secondary_cleaner.state.floatbank5_b_level          14579 non-null  float64\n",
      " 72  secondary_cleaner.state.floatbank6_a_air            14578 non-null  float64\n",
      " 73  secondary_cleaner.state.floatbank6_a_level          14579 non-null  float64\n",
      " 74  secondary_cleaner.output.tail_au                    14579 non-null  float64\n",
      " 75  secondary_cleaner.output.tail_ag                    14578 non-null  float64\n",
      " 76  secondary_cleaner.output.tail_pb                    14575 non-null  float64\n",
      " 77  secondary_cleaner.output.tail_sol                   13659 non-null  float64\n",
      " 78  final.output.concentrate_au                         14579 non-null  float64\n",
      " 79  final.output.concentrate_ag                         14578 non-null  float64\n",
      " 80  final.output.concentrate_pb                         14578 non-null  float64\n",
      " 81  final.output.concentrate_sol                        14387 non-null  float64\n",
      " 82  final.output.recovery                               14579 non-null  float64\n",
      " 83  final.output.tail_au                                14579 non-null  float64\n",
      " 84  final.output.tail_ag                                14578 non-null  float64\n",
      " 85  final.output.tail_pb                                14504 non-null  float64\n",
      " 86  final.output.tail_sol                               14574 non-null  float64\n",
      "dtypes: float64(86), object(1)\n",
      "memory usage: 9.7+ MB\n"
     ]
    },
    {
     "data": {
      "text/plain": [
       "None"
      ]
     },
     "metadata": {},
     "output_type": "display_data"
    }
   ],
   "source": [
    "display(df_train.head(5))\n",
    "display(df_train.info())"
   ]
  },
  {
   "cell_type": "code",
   "execution_count": 4,
   "metadata": {},
   "outputs": [
    {
     "name": "stdout",
     "output_type": "stream",
     "text": [
      "<class 'pandas.core.frame.DataFrame'>\n",
      "RangeIndex: 4860 entries, 0 to 4859\n",
      "Data columns (total 53 columns):\n",
      " #   Column                                      Non-Null Count  Dtype  \n",
      "---  ------                                      --------------  -----  \n",
      " 0   date                                        4860 non-null   object \n",
      " 1   rougher.input.feed_au                       4860 non-null   float64\n",
      " 2   rougher.input.feed_ag                       4860 non-null   float64\n",
      " 3   rougher.input.feed_pb                       4832 non-null   float64\n",
      " 4   rougher.input.feed_sol                      4838 non-null   float64\n",
      " 5   rougher.input.feed_rate                     4856 non-null   float64\n",
      " 6   rougher.input.feed_size                     4816 non-null   float64\n",
      " 7   rougher.input.floatbank10_sulfate           4857 non-null   float64\n",
      " 8   rougher.input.floatbank10_xanthate          4859 non-null   float64\n",
      " 9   rougher.state.floatbank10_a_air             4859 non-null   float64\n",
      " 10  rougher.state.floatbank10_a_level           4859 non-null   float64\n",
      " 11  rougher.state.floatbank10_b_air             4859 non-null   float64\n",
      " 12  rougher.state.floatbank10_b_level           4859 non-null   float64\n",
      " 13  rougher.state.floatbank10_c_air             4859 non-null   float64\n",
      " 14  rougher.state.floatbank10_c_level           4859 non-null   float64\n",
      " 15  rougher.state.floatbank10_d_air             4860 non-null   float64\n",
      " 16  rougher.state.floatbank10_d_level           4860 non-null   float64\n",
      " 17  rougher.state.floatbank10_e_air             4853 non-null   float64\n",
      " 18  rougher.state.floatbank10_e_level           4860 non-null   float64\n",
      " 19  rougher.state.floatbank10_f_air             4860 non-null   float64\n",
      " 20  rougher.state.floatbank10_f_level           4860 non-null   float64\n",
      " 21  rougher.input.floatbank11_sulfate           4852 non-null   float64\n",
      " 22  rougher.input.floatbank11_xanthate          4814 non-null   float64\n",
      " 23  primary_cleaner.input.sulfate               4859 non-null   float64\n",
      " 24  primary_cleaner.input.depressant            4851 non-null   float64\n",
      " 25  primary_cleaner.input.feed_size             4860 non-null   float64\n",
      " 26  primary_cleaner.input.xanthate              4817 non-null   float64\n",
      " 27  primary_cleaner.state.floatbank8_a_air      4859 non-null   float64\n",
      " 28  primary_cleaner.state.floatbank8_a_level    4859 non-null   float64\n",
      " 29  primary_cleaner.state.floatbank8_b_air      4859 non-null   float64\n",
      " 30  primary_cleaner.state.floatbank8_b_level    4859 non-null   float64\n",
      " 31  primary_cleaner.state.floatbank8_c_air      4858 non-null   float64\n",
      " 32  primary_cleaner.state.floatbank8_c_level    4859 non-null   float64\n",
      " 33  primary_cleaner.state.floatbank8_d_air      4858 non-null   float64\n",
      " 34  primary_cleaner.state.floatbank8_d_level    4859 non-null   float64\n",
      " 35  secondary_cleaner.state.floatbank2_a_air    4734 non-null   float64\n",
      " 36  secondary_cleaner.state.floatbank2_a_level  4859 non-null   float64\n",
      " 37  secondary_cleaner.state.floatbank2_b_air    4859 non-null   float64\n",
      " 38  secondary_cleaner.state.floatbank2_b_level  4859 non-null   float64\n",
      " 39  secondary_cleaner.state.floatbank3_a_air    4859 non-null   float64\n",
      " 40  secondary_cleaner.state.floatbank3_a_level  4859 non-null   float64\n",
      " 41  secondary_cleaner.state.floatbank3_b_air    4859 non-null   float64\n",
      " 42  secondary_cleaner.state.floatbank3_b_level  4859 non-null   float64\n",
      " 43  secondary_cleaner.state.floatbank4_a_air    4859 non-null   float64\n",
      " 44  secondary_cleaner.state.floatbank4_a_level  4859 non-null   float64\n",
      " 45  secondary_cleaner.state.floatbank4_b_air    4859 non-null   float64\n",
      " 46  secondary_cleaner.state.floatbank4_b_level  4859 non-null   float64\n",
      " 47  secondary_cleaner.state.floatbank5_a_air    4859 non-null   float64\n",
      " 48  secondary_cleaner.state.floatbank5_a_level  4859 non-null   float64\n",
      " 49  secondary_cleaner.state.floatbank5_b_air    4859 non-null   float64\n",
      " 50  secondary_cleaner.state.floatbank5_b_level  4859 non-null   float64\n",
      " 51  secondary_cleaner.state.floatbank6_a_air    4859 non-null   float64\n",
      " 52  secondary_cleaner.state.floatbank6_a_level  4859 non-null   float64\n",
      "dtypes: float64(52), object(1)\n",
      "memory usage: 2.0+ MB\n"
     ]
    }
   ],
   "source": [
    "df_test.info()"
   ]
  },
  {
   "cell_type": "code",
   "execution_count": 5,
   "metadata": {},
   "outputs": [
    {
     "name": "stdout",
     "output_type": "stream",
     "text": [
      "<class 'pandas.core.frame.DataFrame'>\n",
      "RangeIndex: 19439 entries, 0 to 19438\n",
      "Data columns (total 87 columns):\n",
      " #   Column                                              Non-Null Count  Dtype  \n",
      "---  ------                                              --------------  -----  \n",
      " 0   date                                                19439 non-null  object \n",
      " 1   rougher.input.feed_au                               19439 non-null  float64\n",
      " 2   rougher.input.feed_ag                               19439 non-null  float64\n",
      " 3   rougher.input.feed_pb                               19339 non-null  float64\n",
      " 4   rougher.input.feed_sol                              19340 non-null  float64\n",
      " 5   rougher.input.feed_rate                             19428 non-null  float64\n",
      " 6   rougher.input.feed_size                             19294 non-null  float64\n",
      " 7   rougher.input.floatbank10_sulfate                   19405 non-null  float64\n",
      " 8   rougher.input.floatbank10_xanthate                  19431 non-null  float64\n",
      " 9   rougher.state.floatbank10_a_air                     19438 non-null  float64\n",
      " 10  rougher.state.floatbank10_a_level                   19438 non-null  float64\n",
      " 11  rougher.state.floatbank10_b_air                     19438 non-null  float64\n",
      " 12  rougher.state.floatbank10_b_level                   19438 non-null  float64\n",
      " 13  rougher.state.floatbank10_c_air                     19438 non-null  float64\n",
      " 14  rougher.state.floatbank10_c_level                   19438 non-null  float64\n",
      " 15  rougher.state.floatbank10_d_air                     19439 non-null  float64\n",
      " 16  rougher.state.floatbank10_d_level                   19439 non-null  float64\n",
      " 17  rougher.state.floatbank10_e_air                     19003 non-null  float64\n",
      " 18  rougher.state.floatbank10_e_level                   19439 non-null  float64\n",
      " 19  rougher.state.floatbank10_f_air                     19439 non-null  float64\n",
      " 20  rougher.state.floatbank10_f_level                   19439 non-null  float64\n",
      " 21  rougher.input.floatbank11_sulfate                   19395 non-null  float64\n",
      " 22  rougher.input.floatbank11_xanthate                  18986 non-null  float64\n",
      " 23  rougher.calculation.sulfate_to_au_concentrate       19437 non-null  float64\n",
      " 24  rougher.calculation.floatbank10_sulfate_to_au_feed  19437 non-null  float64\n",
      " 25  rougher.calculation.floatbank11_sulfate_to_au_feed  19437 non-null  float64\n",
      " 26  rougher.calculation.au_pb_ratio                     19439 non-null  float64\n",
      " 27  rougher.output.concentrate_au                       19439 non-null  float64\n",
      " 28  rougher.output.concentrate_ag                       19439 non-null  float64\n",
      " 29  rougher.output.concentrate_pb                       19439 non-null  float64\n",
      " 30  rougher.output.concentrate_sol                      19416 non-null  float64\n",
      " 31  rougher.output.recovery                             19439 non-null  float64\n",
      " 32  rougher.output.tail_au                              19439 non-null  float64\n",
      " 33  rougher.output.tail_ag                              19438 non-null  float64\n",
      " 34  rougher.output.tail_pb                              19439 non-null  float64\n",
      " 35  rougher.output.tail_sol                             19439 non-null  float64\n",
      " 36  primary_cleaner.input.sulfate                       19415 non-null  float64\n",
      " 37  primary_cleaner.input.depressant                    19402 non-null  float64\n",
      " 38  primary_cleaner.input.feed_size                     19439 non-null  float64\n",
      " 39  primary_cleaner.input.xanthate                      19335 non-null  float64\n",
      " 40  primary_cleaner.state.floatbank8_a_air              19435 non-null  float64\n",
      " 41  primary_cleaner.state.floatbank8_a_level            19438 non-null  float64\n",
      " 42  primary_cleaner.state.floatbank8_b_air              19435 non-null  float64\n",
      " 43  primary_cleaner.state.floatbank8_b_level            19438 non-null  float64\n",
      " 44  primary_cleaner.state.floatbank8_c_air              19437 non-null  float64\n",
      " 45  primary_cleaner.state.floatbank8_c_level            19438 non-null  float64\n",
      " 46  primary_cleaner.state.floatbank8_d_air              19436 non-null  float64\n",
      " 47  primary_cleaner.state.floatbank8_d_level            19438 non-null  float64\n",
      " 48  primary_cleaner.output.concentrate_au               19439 non-null  float64\n",
      " 49  primary_cleaner.output.concentrate_ag               19439 non-null  float64\n",
      " 50  primary_cleaner.output.concentrate_pb               19323 non-null  float64\n",
      " 51  primary_cleaner.output.concentrate_sol              19069 non-null  float64\n",
      " 52  primary_cleaner.output.tail_au                      19439 non-null  float64\n",
      " 53  primary_cleaner.output.tail_ag                      19435 non-null  float64\n",
      " 54  primary_cleaner.output.tail_pb                      19418 non-null  float64\n",
      " 55  primary_cleaner.output.tail_sol                     19377 non-null  float64\n",
      " 56  secondary_cleaner.state.floatbank2_a_air            19219 non-null  float64\n",
      " 57  secondary_cleaner.state.floatbank2_a_level          19438 non-null  float64\n",
      " 58  secondary_cleaner.state.floatbank2_b_air            19416 non-null  float64\n",
      " 59  secondary_cleaner.state.floatbank2_b_level          19438 non-null  float64\n",
      " 60  secondary_cleaner.state.floatbank3_a_air            19426 non-null  float64\n",
      " 61  secondary_cleaner.state.floatbank3_a_level          19438 non-null  float64\n",
      " 62  secondary_cleaner.state.floatbank3_b_air            19438 non-null  float64\n",
      " 63  secondary_cleaner.state.floatbank3_b_level          19438 non-null  float64\n",
      " 64  secondary_cleaner.state.floatbank4_a_air            19433 non-null  float64\n",
      " 65  secondary_cleaner.state.floatbank4_a_level          19438 non-null  float64\n",
      " 66  secondary_cleaner.state.floatbank4_b_air            19438 non-null  float64\n",
      " 67  secondary_cleaner.state.floatbank4_b_level          19438 non-null  float64\n",
      " 68  secondary_cleaner.state.floatbank5_a_air            19438 non-null  float64\n",
      " 69  secondary_cleaner.state.floatbank5_a_level          19438 non-null  float64\n",
      " 70  secondary_cleaner.state.floatbank5_b_air            19438 non-null  float64\n",
      " 71  secondary_cleaner.state.floatbank5_b_level          19438 non-null  float64\n",
      " 72  secondary_cleaner.state.floatbank6_a_air            19437 non-null  float64\n",
      " 73  secondary_cleaner.state.floatbank6_a_level          19438 non-null  float64\n",
      " 74  secondary_cleaner.output.tail_au                    19439 non-null  float64\n",
      " 75  secondary_cleaner.output.tail_ag                    19437 non-null  float64\n",
      " 76  secondary_cleaner.output.tail_pb                    19427 non-null  float64\n",
      " 77  secondary_cleaner.output.tail_sol                   17691 non-null  float64\n",
      " 78  final.output.concentrate_au                         19439 non-null  float64\n",
      " 79  final.output.concentrate_ag                         19438 non-null  float64\n",
      " 80  final.output.concentrate_pb                         19438 non-null  float64\n",
      " 81  final.output.concentrate_sol                        19228 non-null  float64\n",
      " 82  final.output.recovery                               19439 non-null  float64\n",
      " 83  final.output.tail_au                                19439 non-null  float64\n",
      " 84  final.output.tail_ag                                19438 non-null  float64\n",
      " 85  final.output.tail_pb                                19338 non-null  float64\n",
      " 86  final.output.tail_sol                               19433 non-null  float64\n",
      "dtypes: float64(86), object(1)\n",
      "memory usage: 12.9+ MB\n"
     ]
    }
   ],
   "source": [
    "df_full.info()"
   ]
  },
  {
   "cell_type": "markdown",
   "metadata": {},
   "source": [
    "### Анализ признаков, недоступных в тестовой выборке"
   ]
  },
  {
   "cell_type": "markdown",
   "metadata": {},
   "source": [
    "В тестовом наборе данных нет целевых признаков, то есть столбцов `output`. Также, в тестовой выборке нет параметра `calculation` для `rougher`, так как скорее всего данный параметр рассчитывается после тех. процесса."
   ]
  },
  {
   "cell_type": "markdown",
   "metadata": {},
   "source": [
    "### Проверка дубликатов"
   ]
  },
  {
   "cell_type": "code",
   "execution_count": 6,
   "metadata": {},
   "outputs": [
    {
     "data": {
      "text/plain": [
       "0"
      ]
     },
     "execution_count": 6,
     "metadata": {},
     "output_type": "execute_result"
    }
   ],
   "source": [
    "df_train.duplicated().sum()"
   ]
  },
  {
   "cell_type": "code",
   "execution_count": 7,
   "metadata": {},
   "outputs": [
    {
     "data": {
      "text/plain": [
       "0"
      ]
     },
     "execution_count": 7,
     "metadata": {},
     "output_type": "execute_result"
    }
   ],
   "source": [
    "df_test.duplicated().sum()"
   ]
  },
  {
   "cell_type": "code",
   "execution_count": 8,
   "metadata": {},
   "outputs": [
    {
     "data": {
      "text/plain": [
       "0"
      ]
     },
     "execution_count": 8,
     "metadata": {},
     "output_type": "execute_result"
    }
   ],
   "source": [
    "df_full.duplicated().sum()"
   ]
  },
  {
   "cell_type": "markdown",
   "metadata": {},
   "source": [
    "Дубликатов не обнаружено."
   ]
  },
  {
   "cell_type": "markdown",
   "metadata": {},
   "source": [
    "### Проверка пропусков"
   ]
  },
  {
   "cell_type": "code",
   "execution_count": 9,
   "metadata": {},
   "outputs": [
    {
     "data": {
      "text/plain": [
       "date                       0\n",
       "rougher.input.feed_au      0\n",
       "rougher.input.feed_ag      0\n",
       "rougher.input.feed_pb     72\n",
       "rougher.input.feed_sol    77\n",
       "                          ..\n",
       "final.output.recovery      0\n",
       "final.output.tail_au       0\n",
       "final.output.tail_ag       1\n",
       "final.output.tail_pb      75\n",
       "final.output.tail_sol      5\n",
       "Length: 87, dtype: int64"
      ]
     },
     "execution_count": 9,
     "metadata": {},
     "output_type": "execute_result"
    }
   ],
   "source": [
    "df_train.isna().sum()"
   ]
  },
  {
   "cell_type": "code",
   "execution_count": 10,
   "metadata": {},
   "outputs": [
    {
     "data": {
      "text/plain": [
       "date                                            0\n",
       "rougher.input.feed_au                           0\n",
       "rougher.input.feed_ag                           0\n",
       "rougher.input.feed_pb                          28\n",
       "rougher.input.feed_sol                         22\n",
       "rougher.input.feed_rate                         4\n",
       "rougher.input.feed_size                        44\n",
       "rougher.input.floatbank10_sulfate               3\n",
       "rougher.input.floatbank10_xanthate              1\n",
       "rougher.state.floatbank10_a_air                 1\n",
       "rougher.state.floatbank10_a_level               1\n",
       "rougher.state.floatbank10_b_air                 1\n",
       "rougher.state.floatbank10_b_level               1\n",
       "rougher.state.floatbank10_c_air                 1\n",
       "rougher.state.floatbank10_c_level               1\n",
       "rougher.state.floatbank10_d_air                 0\n",
       "rougher.state.floatbank10_d_level               0\n",
       "rougher.state.floatbank10_e_air                 7\n",
       "rougher.state.floatbank10_e_level               0\n",
       "rougher.state.floatbank10_f_air                 0\n",
       "rougher.state.floatbank10_f_level               0\n",
       "rougher.input.floatbank11_sulfate               8\n",
       "rougher.input.floatbank11_xanthate             46\n",
       "primary_cleaner.input.sulfate                   1\n",
       "primary_cleaner.input.depressant                9\n",
       "primary_cleaner.input.feed_size                 0\n",
       "primary_cleaner.input.xanthate                 43\n",
       "primary_cleaner.state.floatbank8_a_air          1\n",
       "primary_cleaner.state.floatbank8_a_level        1\n",
       "primary_cleaner.state.floatbank8_b_air          1\n",
       "primary_cleaner.state.floatbank8_b_level        1\n",
       "primary_cleaner.state.floatbank8_c_air          2\n",
       "primary_cleaner.state.floatbank8_c_level        1\n",
       "primary_cleaner.state.floatbank8_d_air          2\n",
       "primary_cleaner.state.floatbank8_d_level        1\n",
       "secondary_cleaner.state.floatbank2_a_air      126\n",
       "secondary_cleaner.state.floatbank2_a_level      1\n",
       "secondary_cleaner.state.floatbank2_b_air        1\n",
       "secondary_cleaner.state.floatbank2_b_level      1\n",
       "secondary_cleaner.state.floatbank3_a_air        1\n",
       "secondary_cleaner.state.floatbank3_a_level      1\n",
       "secondary_cleaner.state.floatbank3_b_air        1\n",
       "secondary_cleaner.state.floatbank3_b_level      1\n",
       "secondary_cleaner.state.floatbank4_a_air        1\n",
       "secondary_cleaner.state.floatbank4_a_level      1\n",
       "secondary_cleaner.state.floatbank4_b_air        1\n",
       "secondary_cleaner.state.floatbank4_b_level      1\n",
       "secondary_cleaner.state.floatbank5_a_air        1\n",
       "secondary_cleaner.state.floatbank5_a_level      1\n",
       "secondary_cleaner.state.floatbank5_b_air        1\n",
       "secondary_cleaner.state.floatbank5_b_level      1\n",
       "secondary_cleaner.state.floatbank6_a_air        1\n",
       "secondary_cleaner.state.floatbank6_a_level      1\n",
       "dtype: int64"
      ]
     },
     "execution_count": 10,
     "metadata": {},
     "output_type": "execute_result"
    }
   ],
   "source": [
    "df_test.isna().sum()"
   ]
  },
  {
   "cell_type": "code",
   "execution_count": 11,
   "metadata": {},
   "outputs": [
    {
     "data": {
      "text/plain": [
       "date                        0\n",
       "rougher.input.feed_au       0\n",
       "rougher.input.feed_ag       0\n",
       "rougher.input.feed_pb     100\n",
       "rougher.input.feed_sol     99\n",
       "                         ... \n",
       "final.output.recovery       0\n",
       "final.output.tail_au        0\n",
       "final.output.tail_ag        1\n",
       "final.output.tail_pb      101\n",
       "final.output.tail_sol       6\n",
       "Length: 87, dtype: int64"
      ]
     },
     "execution_count": 11,
     "metadata": {},
     "output_type": "execute_result"
    }
   ],
   "source": [
    "df_full.isna().sum()"
   ]
  },
  {
   "cell_type": "markdown",
   "metadata": {},
   "source": [
    "В данных наблюдаются пропуски, которые не представляется возможным заполнить самостоятельно без, обращения к источникам информации. В задаче указано, что соседние значения часто могут быть похожи, так что для заполнения пропусков можно использовать соседние значения."
   ]
  },
  {
   "cell_type": "code",
   "execution_count": 12,
   "metadata": {},
   "outputs": [],
   "source": [
    "df_cleared_train = df_train.fillna(method='bfill')\n",
    "df_cleared_test = df_test.fillna(method='bfill')\n",
    "df_cleared_full = df_full.fillna(method='bfill')"
   ]
  },
  {
   "cell_type": "markdown",
   "metadata": {},
   "source": [
    "### Вычисление эффективности коэффициента обогащения и сравнение её с изначальным значением признака"
   ]
  },
  {
   "cell_type": "markdown",
   "metadata": {},
   "source": [
    "Коэффициент рассчитывается по следующей формуле:"
   ]
  },
  {
   "cell_type": "markdown",
   "metadata": {},
   "source": [
    "![Formulae](https://pictures.s3.yandex.net/resources/Recovery_1576238822.jpg)"
   ]
  },
  {
   "cell_type": "markdown",
   "metadata": {},
   "source": [
    "где:\n",
    "- `C` — доля золота в концентрате после флотации/очистки;\n",
    "- `F` — доля золота в сырье/концентрате до флотации/очистки;\n",
    "- `T` — доля золота в отвальных хвостах после флотации/очистки."
   ]
  },
  {
   "cell_type": "code",
   "execution_count": 13,
   "metadata": {},
   "outputs": [
    {
     "name": "stdout",
     "output_type": "stream",
     "text": [
      "Эффективность обогащения концентрата: 0        87.107763\n",
      "1        86.843261\n",
      "2        86.842308\n",
      "3        87.226430\n",
      "4        86.688794\n",
      "           ...    \n",
      "14574    87.684717\n",
      "14575    90.677361\n",
      "14576    89.574376\n",
      "14577    87.724007\n",
      "14578    88.890579\n",
      "Length: 14579, dtype: float64\n",
      "Абсолютная средняя ошибка: 9.83758577644259e-15\n"
     ]
    }
   ],
   "source": [
    "concentrate_au = df_cleared_train['rougher.output.concentrate_au']\n",
    "feed_au = df_cleared_train['rougher.input.feed_au']\n",
    "tail_au = df_cleared_train['rougher.output.tail_au']\n",
    "input_recovery = df_cleared_train['rougher.output.recovery']\n",
    "\n",
    "calc_recovery = ((concentrate_au * (feed_au - tail_au)) / (feed_au * (concentrate_au - tail_au))) * 100\n",
    "print('Эффективность обогащения концентрата:', calc_recovery)\n",
    "print('Абсолютная средняя ошибка:', mean_absolute_error(input_recovery, calc_recovery))"
   ]
  },
  {
   "cell_type": "markdown",
   "metadata": {},
   "source": [
    "`MAE` имеет малое отклонение, что говорит о том, что изначально коэффициент эффективности был рассчитан верно."
   ]
  },
  {
   "cell_type": "markdown",
   "metadata": {},
   "source": [
    "**Промежуточный вывод:**\n",
    "- Дубликатов не было найдено\n",
    "- Были устранены пропущенные значения в датасетах\n",
    "- Был рассчитан `MAE`. Оно имеет малое отклонение, что говорит о том, что изначально коэффициент эффективности был рассчитан верно."
   ]
  },
  {
   "cell_type": "markdown",
   "metadata": {},
   "source": [
    "## Анализ данных"
   ]
  },
  {
   "cell_type": "markdown",
   "metadata": {},
   "source": [
    "### Анализ изменения концентрация металлов (Au, Ag, Pb) на различных этапах: в сырье, в черновом концентрате, в концентрате после первой очистки и в финальном концентрате"
   ]
  },
  {
   "cell_type": "code",
   "execution_count": 14,
   "metadata": {},
   "outputs": [
    {
     "data": {
      "image/png": "[encoded data removed]",
      "text/plain": [
       "<Figure size 1080x648 with 1 Axes>"
      ]
     },
     "metadata": {
      "needs_background": "light"
     },
     "output_type": "display_data"
    }
   ],
   "source": [
    "plt.figure(figsize=[15,9])\n",
    "\n",
    "plt.hist(df_cleared_train['rougher.input.feed_au'], bins=100, label='Сырье', alpha=.5)\n",
    "plt.hist(df_cleared_train['rougher.output.concentrate_au'], bins=100, label='Флотация, продукт', alpha=.5)\n",
    "plt.hist(df_cleared_train['primary_cleaner.output.concentrate_au'], bins=100, label='Первичная очистка, продукт', alpha=.5)\n",
    "plt.hist(df_cleared_train['final.output.concentrate_au'], bins=100, label='Финал, продукт', alpha=.5)\n",
    "\n",
    "plt.xlim([0, 60])\n",
    "plt.ylim([0, 1000])\n",
    "\n",
    "plt.xlabel('Количество золота в финальном продукте')\n",
    "plt.ylabel('Количество результатов')\n",
    "\n",
    "plt.legend(loc='upper left', fontsize='x-large')\n",
    "plt.title('Гистограмма распределения концентрации золота')\n",
    "\n",
    "plt.show();"
   ]
  },
  {
   "cell_type": "markdown",
   "metadata": {},
   "source": [
    "Из гистограммы видно, что концентрация золота повышается с каждым этапом. То бишь, с помощью флотации мы увеличиваем концентрацию золота."
   ]
  },
  {
   "cell_type": "code",
   "execution_count": 15,
   "metadata": {
    "scrolled": false
   },
   "outputs": [
    {
     "data": {
      "image/png": "[encoded data removed]",
      "text/plain": [
       "<Figure size 1080x648 with 1 Axes>"
      ]
     },
     "metadata": {
      "needs_background": "light"
     },
     "output_type": "display_data"
    }
   ],
   "source": [
    "plt.figure(figsize=[15,9])\n",
    "\n",
    "plt.hist(df_cleared_train['rougher.input.feed_ag'], bins=100, label='Сырье', alpha=.5)\n",
    "plt.hist(df_cleared_train['rougher.output.concentrate_ag'], bins=100, label='Флотация, продукт', alpha=.5)\n",
    "plt.hist(df_cleared_train['primary_cleaner.output.concentrate_ag'], bins=100, label='Первичная очистка, продукт', alpha=.5)\n",
    "plt.hist(df_cleared_train['final.output.concentrate_ag'], bins=100, label='Финал, продукт', alpha=.5)\n",
    "\n",
    "plt.xlim([0, 25])\n",
    "plt.ylim([0, 1000])\n",
    "\n",
    "plt.xlabel('Количество серебра в финальном продукте')\n",
    "plt.ylabel('Количество результатов')\n",
    "\n",
    "plt.legend(loc='upper left', fontsize='x-large')\n",
    "plt.title('Гистограмма распределения концентрации серебра')\n",
    "\n",
    "plt.show();"
   ]
  },
  {
   "cell_type": "markdown",
   "metadata": {},
   "source": [
    "С каждым этапом концентрация серебра понижается. Скорее всего, это может происходить из-за того, что нас интересует только золота и в процессе очищения другие металлы отделяются от сплава."
   ]
  },
  {
   "cell_type": "code",
   "execution_count": 16,
   "metadata": {
    "scrolled": false
   },
   "outputs": [
    {
     "data": {
      "image/png": "[encoded data removed]",
      "text/plain": [
       "<Figure size 1080x648 with 1 Axes>"
      ]
     },
     "metadata": {
      "needs_background": "light"
     },
     "output_type": "display_data"
    }
   ],
   "source": [
    "plt.figure(figsize=[15,9])\n",
    "\n",
    "plt.hist(df_cleared_train['rougher.input.feed_pb'], bins=100, label='Сырье', alpha=.5)\n",
    "plt.hist(df_cleared_train['rougher.output.concentrate_pb'], bins=100, label='Флотация, продукт', alpha=.5)\n",
    "plt.hist(df_cleared_train['primary_cleaner.output.concentrate_pb'], bins=100, label='Первичная очистка, продукт', alpha=.5)\n",
    "plt.hist(df_cleared_train['final.output.concentrate_pb'], bins=100, label='Финал, продукт', alpha=.5)\n",
    "\n",
    "plt.xlim([0, 25])\n",
    "plt.ylim([0, 1000])\n",
    "\n",
    "plt.xlabel('Количество свинца в финальном продукте')\n",
    "plt.ylabel('Количество результатов')\n",
    "\n",
    "plt.legend(loc='upper left', fontsize='x-large')\n",
    "plt.title('Гистограмма распределения концентрации свинца')\n",
    "\n",
    "plt.show();"
   ]
  },
  {
   "cell_type": "markdown",
   "metadata": {},
   "source": [
    "На гистограмме видно, что концентрация свинца с течением этапов значительно не меняется."
   ]
  },
  {
   "cell_type": "markdown",
   "metadata": {},
   "source": [
    "На гистограммах видно достаточно большое количество аномалий. Очень много значений в нулевом диапазоне. Обработаем их."
   ]
  },
  {
   "cell_type": "code",
   "execution_count": 17,
   "metadata": {},
   "outputs": [
    {
     "name": "stdout",
     "output_type": "stream",
     "text": [
      "398\n",
      "399\n",
      "401\n",
      "398\n"
     ]
    }
   ],
   "source": [
    "print(df_cleared_train[df_cleared_train['rougher.output.concentrate_au'] < 1]['rougher.output.concentrate_au'].count())\n",
    "print(df_cleared_train[df_cleared_train['rougher.output.concentrate_ag'] < 1]['rougher.output.concentrate_ag'].count())\n",
    "print(df_cleared_train[df_cleared_train['rougher.output.concentrate_pb'] < 1]['rougher.output.concentrate_pb'].count())\n",
    "print(df_cleared_train[df_cleared_train['rougher.output.concentrate_sol'] < 1]['rougher.output.concentrate_sol'].count())"
   ]
  },
  {
   "cell_type": "code",
   "execution_count": 18,
   "metadata": {},
   "outputs": [],
   "source": [
    "df_cleared_train = df_cleared_train.drop(df_cleared_train[df_cleared_train['rougher.output.concentrate_au'] < 1].index)\n",
    "df_cleared_train = df_cleared_train.drop(df_cleared_train[df_cleared_train['rougher.output.concentrate_ag'] < 1].index)\n",
    "df_cleared_train = df_cleared_train.drop(df_cleared_train[df_cleared_train['rougher.output.concentrate_pb'] < 1].index)\n",
    "df_cleared_train = df_cleared_train.drop(df_cleared_train[df_cleared_train['rougher.output.concentrate_sol'] < 1].index)"
   ]
  },
  {
   "cell_type": "code",
   "execution_count": 19,
   "metadata": {},
   "outputs": [
    {
     "name": "stdout",
     "output_type": "stream",
     "text": [
      "0\n",
      "0\n",
      "0\n",
      "0\n"
     ]
    }
   ],
   "source": [
    "print(df_cleared_train[df_cleared_train['rougher.output.concentrate_au'] < 1]['rougher.output.concentrate_au'].count())\n",
    "print(df_cleared_train[df_cleared_train['rougher.output.concentrate_ag'] < 1]['rougher.output.concentrate_ag'].count())\n",
    "print(df_cleared_train[df_cleared_train['rougher.output.concentrate_pb'] < 1]['rougher.output.concentrate_pb'].count())\n",
    "print(df_cleared_train[df_cleared_train['rougher.output.concentrate_sol'] < 1]['rougher.output.concentrate_sol'].count())"
   ]
  },
  {
   "cell_type": "code",
   "execution_count": 20,
   "metadata": {},
   "outputs": [
    {
     "name": "stdout",
     "output_type": "stream",
     "text": [
      "207\n",
      "232\n",
      "230\n",
      "277\n"
     ]
    }
   ],
   "source": [
    "print(df_cleared_train[df_cleared_train['primary_cleaner.output.concentrate_au'] < 1]['primary_cleaner.output.concentrate_au'].count())\n",
    "print(df_cleared_train[df_cleared_train['primary_cleaner.output.concentrate_ag'] < 1]['primary_cleaner.output.concentrate_ag'].count())\n",
    "print(df_cleared_train[df_cleared_train['primary_cleaner.output.concentrate_pb'] < 1]['primary_cleaner.output.concentrate_pb'].count())\n",
    "print(df_cleared_train[df_cleared_train['primary_cleaner.output.concentrate_sol'] < 1]['primary_cleaner.output.concentrate_sol'].count())"
   ]
  },
  {
   "cell_type": "code",
   "execution_count": 21,
   "metadata": {},
   "outputs": [],
   "source": [
    "df_cleared_train = df_cleared_train.drop(df_cleared_train[df_cleared_train['primary_cleaner.output.concentrate_au'] < 1].index)\n",
    "df_cleared_train = df_cleared_train.drop(df_cleared_train[df_cleared_train['primary_cleaner.output.concentrate_ag'] < 1].index)\n",
    "df_cleared_train = df_cleared_train.drop(df_cleared_train[df_cleared_train['primary_cleaner.output.concentrate_pb'] < 1].index)\n",
    "df_cleared_train = df_cleared_train.drop(df_cleared_train[df_cleared_train['primary_cleaner.output.concentrate_sol'] < 1].index)"
   ]
  },
  {
   "cell_type": "code",
   "execution_count": 22,
   "metadata": {},
   "outputs": [
    {
     "name": "stdout",
     "output_type": "stream",
     "text": [
      "0\n",
      "0\n",
      "0\n",
      "0\n"
     ]
    }
   ],
   "source": [
    "print(df_cleared_train[df_cleared_train['primary_cleaner.output.concentrate_au'] < 1]['primary_cleaner.output.concentrate_au'].count())\n",
    "print(df_cleared_train[df_cleared_train['primary_cleaner.output.concentrate_ag'] < 1]['primary_cleaner.output.concentrate_ag'].count())\n",
    "print(df_cleared_train[df_cleared_train['primary_cleaner.output.concentrate_pb'] < 1]['primary_cleaner.output.concentrate_pb'].count())\n",
    "print(df_cleared_train[df_cleared_train['primary_cleaner.output.concentrate_sol'] < 1]['primary_cleaner.output.concentrate_sol'].count())"
   ]
  },
  {
   "cell_type": "code",
   "execution_count": 23,
   "metadata": {},
   "outputs": [
    {
     "name": "stdout",
     "output_type": "stream",
     "text": [
      "88\n",
      "100\n",
      "90\n",
      "132\n"
     ]
    }
   ],
   "source": [
    "print(df_cleared_train[df_cleared_train['final.output.concentrate_au'] < 1]['final.output.concentrate_au'].count())\n",
    "print(df_cleared_train[df_cleared_train['final.output.concentrate_ag'] < 1]['final.output.concentrate_ag'].count())\n",
    "print(df_cleared_train[df_cleared_train['final.output.concentrate_pb'] < 1]['final.output.concentrate_pb'].count())\n",
    "print(df_cleared_train[df_cleared_train['final.output.concentrate_sol'] < 1]['final.output.concentrate_sol'].count())"
   ]
  },
  {
   "cell_type": "code",
   "execution_count": 24,
   "metadata": {},
   "outputs": [],
   "source": [
    "df_cleared_train = df_cleared_train.drop(df_cleared_train[df_cleared_train['final.output.concentrate_au'] < 1].index)\n",
    "df_cleared_train = df_cleared_train.drop(df_cleared_train[df_cleared_train['final.output.concentrate_ag'] < 1].index)\n",
    "df_cleared_train = df_cleared_train.drop(df_cleared_train[df_cleared_train['final.output.concentrate_pb'] < 1].index)\n",
    "df_cleared_train = df_cleared_train.drop(df_cleared_train[df_cleared_train['final.output.concentrate_sol'] < 1].index)"
   ]
  },
  {
   "cell_type": "code",
   "execution_count": 25,
   "metadata": {},
   "outputs": [
    {
     "name": "stdout",
     "output_type": "stream",
     "text": [
      "0\n",
      "0\n",
      "0\n",
      "0\n"
     ]
    }
   ],
   "source": [
    "print(df_cleared_train[df_cleared_train['final.output.concentrate_au'] < 1]['final.output.concentrate_au'].count())\n",
    "print(df_cleared_train[df_cleared_train['final.output.concentrate_ag'] < 1]['final.output.concentrate_ag'].count())\n",
    "print(df_cleared_train[df_cleared_train['final.output.concentrate_pb'] < 1]['final.output.concentrate_pb'].count())\n",
    "print(df_cleared_train[df_cleared_train['final.output.concentrate_sol'] < 1]['final.output.concentrate_sol'].count())"
   ]
  },
  {
   "cell_type": "markdown",
   "metadata": {},
   "source": [
    "### Распределение гранул сырья"
   ]
  },
  {
   "cell_type": "markdown",
   "metadata": {},
   "source": [
    "Распределение нормальное, со смещением влево. На гистограмме видно, что распределения на обеих выборках похожи."
   ]
  },
  {
   "cell_type": "markdown",
   "metadata": {},
   "source": [
    "<div class=\"alert alert-block alert-danger\">\n",
    "<h2> Комментарий ревьюера <a class=\"tocSkip\"></h2>\n",
    "\n",
    "    \n",
    "<b>На доработку❌:</b>\n",
    "1. Сверься с условием и удали из исследования лишний этап.\n",
    "2. Цель исследлвания - не проверить нормальность распределения, а оценить схожесть распределения между выборками.\n",
    "3. Здесь мы имеем дело с непрерывной величиной - для анализа её распределения стоит использовать нормированную гистограмму (например, `shs.histplot()` с параметром `stat='density'` или `sns.kdeplot()`): гистограммы такого типа позволяют нивелировать разницу в размерах выборок при анализе распределений. Обрати также внимание, что при использовании нормированных гистограмм по оси Y будет уже не частота значений, а плотность распределения."
   ]
  },
  {
   "cell_type": "markdown",
   "metadata": {},
   "source": [
    "<div class=\"alert alert-info\">\n",
    "<h2> Комментарий студента <a class=\"tocSkip\"> </h2>\n",
    "\n",
    "Исправил вывод и удалил лишний этап.\n",
    "</div>"
   ]
  },
  {
   "cell_type": "markdown",
   "metadata": {},
   "source": [
    "<div class=\"alert alert-success\">\n",
    "<h2> Комментарий ревьюера v.2 <a class=\"tocSkip\"> </h2>\n",
    "\n",
    "<b>Все отлично!👍:</b> Учтено."
   ]
  },
  {
   "cell_type": "code",
   "execution_count": 27,
   "metadata": {},
   "outputs": [],
   "source": [
    "rougher_input_sum = (df_cleared_train['rougher.input.feed_au'] + df_cleared_train['rougher.input.feed_ag'] +\n",
    "                    df_cleared_train['rougher.input.feed_pb'] + df_cleared_train['rougher.input.feed_sol'])\n",
    "rouger_output_sum = (df_cleared_train['rougher.output.concentrate_au'] + df_cleared_train['rougher.output.concentrate_ag'] +\n",
    "                    df_cleared_train['rougher.output.concentrate_pb'] + df_cleared_train['rougher.output.concentrate_sol'])\n",
    "primary_cleaner_output_sum = (df_cleared_train['primary_cleaner.output.concentrate_au'] + \n",
    "                              df_cleared_train['primary_cleaner.output.concentrate_ag'] +\n",
    "                              df_cleared_train['primary_cleaner.output.concentrate_pb'] +\n",
    "                              df_cleared_train['primary_cleaner.output.concentrate_sol'])\n",
    "final_output_sum = (df_cleared_train['final.output.concentrate_au'] + df_cleared_train['final.output.concentrate_ag'] +\n",
    "                    df_cleared_train['final.output.concentrate_pb'] + df_cleared_train['final.output.concentrate_sol'])"
   ]
  },
  {
   "cell_type": "code",
   "execution_count": 28,
   "metadata": {
    "scrolled": false
   },
   "outputs": [
    {
     "data": {
      "image/png": "[encoded data removed]",
      "text/plain": [
       "<Figure size 1080x648 with 1 Axes>"
      ]
     },
     "metadata": {
      "needs_background": "light"
     },
     "output_type": "display_data"
    }
   ],
   "source": [
    "plt.figure(figsize=[15,9])\n",
    "\n",
    "plt.hist(rougher_input_sum, bins=100, label='Сырье', alpha=.5)\n",
    "plt.hist(rouger_output_sum, bins=100, label='Флотация, продукт', alpha=.5)\n",
    "plt.hist(primary_cleaner_output_sum, bins=100, label='Первичная очистка, продукт', alpha=.5)\n",
    "plt.hist(final_output_sum, bins=100, label='Финал, продукт', alpha=.5)\n",
    "\n",
    "plt.xlim([0, 100])\n",
    "plt.ylim([0, 1500])\n",
    "\n",
    "plt.xlabel('Суммарная концентрация')\n",
    "plt.ylabel('Количество результатов')\n",
    "\n",
    "plt.legend(loc='upper left', fontsize='x-large')\n",
    "plt.title('Гистограмма распределения концентраций на всех этапах очистки')\n",
    "\n",
    "plt.show();"
   ]
  },
  {
   "cell_type": "markdown",
   "metadata": {},
   "source": [
    "Из гистограммы видно, что суммарная концентрация больше в исходном сырье, однако количество финального сырья намного выше, чем на остальных этапах."
   ]
  },
  {
   "cell_type": "code",
   "execution_count": 29,
   "metadata": {},
   "outputs": [],
   "source": [
    "rougher_input_sum = (df_cleared_train['rougher.input.feed_au'] + df_cleared_train['rougher.input.feed_ag'] +\n",
    "                    df_cleared_train['rougher.input.feed_pb'] + df_cleared_train['rougher.input.feed_sol'])\n",
    "\n",
    "rouger_output_sum = (df_cleared_train['rougher.output.concentrate_au'] + df_cleared_train['rougher.output.concentrate_ag'] +\n",
    "                    df_cleared_train['rougher.output.concentrate_pb'] + df_cleared_train['rougher.output.concentrate_sol'])\n",
    "\n",
    "primary_cleaner_output_sum = (df_cleared_train['primary_cleaner.output.concentrate_au'] + \n",
    "                              df_cleared_train['primary_cleaner.output.concentrate_ag'] +\n",
    "                              df_cleared_train['primary_cleaner.output.concentrate_pb'] +\n",
    "                              df_cleared_train['primary_cleaner.output.concentrate_sol'])\n",
    "\n",
    "final_output_sum = (df_cleared_train['final.output.concentrate_au'] + df_cleared_train['final.output.concentrate_ag'] +\n",
    "                    df_cleared_train['final.output.concentrate_pb'] + df_cleared_train['final.output.concentrate_sol'])"
   ]
  },
  {
   "cell_type": "code",
   "execution_count": 30,
   "metadata": {
    "scrolled": false
   },
   "outputs": [
    {
     "data": {
      "image/png": "[encoded data removed]",
      "text/plain": [
       "<Figure size 1080x648 with 1 Axes>"
      ]
     },
     "metadata": {
      "needs_background": "light"
     },
     "output_type": "display_data"
    }
   ],
   "source": [
    "plt.figure(figsize=[15,9])\n",
    "\n",
    "plt.hist(rougher_input_sum, bins=100, label='Сырье', alpha=.5)\n",
    "plt.hist(rouger_output_sum, bins=100, label='Флотация, продукт', alpha=.5)\n",
    "plt.hist(primary_cleaner_output_sum, bins=100, label='Первичная очистка, продукт', alpha=.5)\n",
    "plt.hist(final_output_sum, bins=100, label='Финал, продукт', alpha=.5)\n",
    "\n",
    "plt.xlim([0, 100])\n",
    "plt.ylim([0, 1500])\n",
    "\n",
    "plt.xlabel('Количество свинца в финальном продукте')\n",
    "plt.ylabel('Количество результатов')\n",
    "\n",
    "plt.legend(loc='upper left', fontsize='x-large')\n",
    "plt.title('Гистограмма распределения концентрации свинца')\n",
    "\n",
    "plt.show();"
   ]
  },
  {
   "cell_type": "markdown",
   "metadata": {},
   "source": [
    "**Промежуточный вывод:**\n",
    "\n",
    "- Концентрация золота повышается с каждым этапом. То бишь, с помощью флотации мы увеличиваем концентрацию золота.\n",
    "- С каждым этапом концентрация серебра понижается. Скорее всего, это может происходить из-за того, что нас интересует только золота и в процессе очищения другие металлы отделяются от сплава.\n",
    "- Концентрация свинца с течением этапов значительно не меняется.\n",
    "- Распределение данных в обучающей и тренировочной выборке нормально.\n",
    "- Были найдены и устранены аномальные данные"
   ]
  },
  {
   "cell_type": "markdown",
   "metadata": {},
   "source": [
    "## Модель"
   ]
  },
  {
   "cell_type": "markdown",
   "metadata": {},
   "source": [
    "Формула sMAPE"
   ]
  },
  {
   "cell_type": "markdown",
   "metadata": {},
   "source": [
    "![sMAPE](https://pictures.s3.yandex.net/resources/smape_1576239058.jpg)"
   ]
  },
  {
   "cell_type": "markdown",
   "metadata": {},
   "source": [
    "Формула итогового sMAPE"
   ]
  },
  {
   "cell_type": "markdown",
   "metadata": {},
   "source": [
    "![final_sMAPE](https://pictures.s3.yandex.net/resources/_smape_1576239054.jpg)"
   ]
  },
  {
   "cell_type": "code",
   "execution_count": 143,
   "metadata": {},
   "outputs": [],
   "source": [
    "def sMAPE(y_true, y_pred):\n",
    "    error = np.mean(abs(y_true - y_pred) / ((abs(y_true) + abs(y_pred)) / 2))\n",
    "    return error * 100"
   ]
  },
  {
   "cell_type": "code",
   "execution_count": 144,
   "metadata": {},
   "outputs": [],
   "source": [
    "def final_sMAPE(sMAPE_rougher, sMAPE_final):\n",
    "    return 0.25 * sMAPE_rougher + 0.75 * sMAPE_final"
   ]
  },
  {
   "cell_type": "code",
   "execution_count": 145,
   "metadata": {
    "scrolled": true
   },
   "outputs": [],
   "source": [
    "features_columns = df_cleared_test.columns[1:]\n",
    "\n",
    "features_rougher_columns = set(features_columns[0:22])\n",
    "features_final_columns = set(features_columns)\n",
    "\n",
    "target_columns = ['rougher.output.recovery', 'final.output.recovery']\n",
    "\n",
    "features_final_train = df_cleared_train.drop(set(df_cleared_train.columns) - features_final_columns, axis=1)\n",
    "features_rougher_train = features_final_train.drop(set(features_final_train.columns) - features_rougher_columns, axis=1)\n",
    "\n",
    "target_train = df_cleared_train[target_columns]"
   ]
  },
  {
   "cell_type": "code",
   "execution_count": 146,
   "metadata": {},
   "outputs": [],
   "source": [
    "smape_scorer = make_scorer(sMAPE, greater_is_better=False)"
   ]
  },
  {
   "cell_type": "markdown",
   "metadata": {},
   "source": [
    "### Модель линейной регрессии"
   ]
  },
  {
   "cell_type": "code",
   "execution_count": 147,
   "metadata": {},
   "outputs": [
    {
     "name": "stdout",
     "output_type": "stream",
     "text": [
      "Средняя оценка sMAPE rougher: 6.452615032767272\n"
     ]
    }
   ],
   "source": [
    "model = LinearRegression()\n",
    "\n",
    "scores = cross_val_score(model, features_rougher_train, target_train['rougher.output.recovery'], scoring=smape_scorer, cv=5)\n",
    "smape_rougher = np.mean(abs(scores))\n",
    "\n",
    "print('Средняя оценка sMAPE rougher:', smape_rougher)"
   ]
  },
  {
   "cell_type": "code",
   "execution_count": 148,
   "metadata": {},
   "outputs": [
    {
     "name": "stdout",
     "output_type": "stream",
     "text": [
      "Средняя оценка sMAPE final: 9.440220500927762\n"
     ]
    }
   ],
   "source": [
    "model = LinearRegression()\n",
    "\n",
    "scores = cross_val_score(model, features_final_train, target_train['final.output.recovery'], scoring=smape_scorer, cv=5)\n",
    "smape_final = np.mean(abs(scores))\n",
    "\n",
    "print('Средняя оценка sMAPE final:', smape_final)"
   ]
  },
  {
   "cell_type": "code",
   "execution_count": 149,
   "metadata": {},
   "outputs": [
    {
     "name": "stdout",
     "output_type": "stream",
     "text": [
      "Финальная оценка sMAPE линейной регрессии: 8.69331913388764\n"
     ]
    }
   ],
   "source": [
    "print('Финальная оценка sMAPE линейной регрессии:', final_sMAPE(smape_rougher, smape_final))"
   ]
  },
  {
   "cell_type": "markdown",
   "metadata": {},
   "source": [
    "### Модель дерева решений"
   ]
  },
  {
   "cell_type": "code",
   "execution_count": 150,
   "metadata": {},
   "outputs": [
    {
     "name": "stdout",
     "output_type": "stream",
     "text": [
      "CPU times: user 153 µs, sys: 19 µs, total: 172 µs\n",
      "Wall time: 178 µs\n"
     ]
    }
   ],
   "source": [
    "%%time\n",
    "model_dt = make_pipeline(StandardScaler(), DecisionTreeRegressor())"
   ]
  },
  {
   "cell_type": "code",
   "execution_count": 153,
   "metadata": {},
   "outputs": [],
   "source": [
    "params = {'decisiontreeregressor__max_depth': [None] + [i for i in range(2, 7)],\n",
    "          'decisiontreeregressor__random_state': [12345]}"
   ]
  },
  {
   "cell_type": "code",
   "execution_count": 154,
   "metadata": {},
   "outputs": [
    {
     "name": "stdout",
     "output_type": "stream",
     "text": [
      "Финальная оценка sMAPE дерева решений: 8.055\n"
     ]
    }
   ],
   "source": [
    "grid_dt_search_rougher = GridSearchCV(model_dt, params, scoring=smape_scorer, cv=5)\n",
    "grid_dt_search_rougher.fit(features_rougher_train, target_train['rougher.output.recovery'])\n",
    "\n",
    "dt_smape_rougher = abs(round(grid_dt_search_rougher.best_score_, 3))\n",
    "\n",
    "grid_dt_search_final = GridSearchCV(model_dt, params, scoring=smape_scorer, cv=5)\n",
    "grid_dt_search_final.fit(features_final_train, target_train['final.output.recovery'])\n",
    "\n",
    "dt_smape_final = abs(round(grid_dt_search_final.best_score_, 3))\n",
    "\n",
    "print('Финальная оценка sMAPE дерева решений:', final_sMAPE(dt_smape_rougher, dt_smape_final))"
   ]
  },
  {
   "cell_type": "markdown",
   "metadata": {},
   "source": [
    "### Модель случайного дерева"
   ]
  },
  {
   "cell_type": "code",
   "execution_count": 40,
   "metadata": {
    "scrolled": false
   },
   "outputs": [
    {
     "name": "stdout",
     "output_type": "stream",
     "text": [
      "CPU times: user 11min 1s, sys: 503 ms, total: 11min 2s\n",
      "Wall time: 11min 2s\n"
     ]
    }
   ],
   "source": [
    "%%time\n",
    "model_rf = make_pipeline(StandardScaler(), RandomForestRegressor())\n",
    "\n",
    "params = {'randomforestregressor__max_depth': [2, 5, 10],\n",
    "          'randomforestregressor__n_estimators': [150, 200, 250],\n",
    "\n",
    "grid_rf_search_rougher = GridSearchCV(model_rf, params, scoring=smape_scorer, cv=5, n_jobs=-1)\n",
    "grid_rf_search_rougher.fit(features_rougher_train, target_train['rougher.output.recovery'])\n",
    "\n",
    "rf_smape_rougher = abs(round(grid_rf_search_rougher.best_score_, 3))"
   ]
  },
  {
   "cell_type": "code",
   "execution_count": 41,
   "metadata": {},
   "outputs": [
    {
     "name": "stdout",
     "output_type": "stream",
     "text": [
      "Финальная оценка sMAPE случайного дерева: 7.9515\n",
      "CPU times: user 25min 45s, sys: 732 ms, total: 25min 45s\n",
      "Wall time: 25min 46s\n"
     ]
    }
   ],
   "source": [
    "%%time\n",
    "grid_rf_search_final = GridSearchCV(model_rf, params, scoring=smape_scorer, cv=5, n_jobs=-1)\n",
    "grid_rf_search_final.fit(features_final_train, target_train['final.output.recovery'])\n",
    "\n",
    "rf_smape_final = abs(round(grid_rf_search_final.best_score_, 3))\n",
    "\n",
    "print('Финальная оценка sMAPE случайного дерева:', final_sMAPE(rf_smape_rougher, rf_smape_final))"
   ]
  },
  {
   "cell_type": "code",
   "execution_count": 46,
   "metadata": {},
   "outputs": [
    {
     "data": {
      "text/html": [
       "<div>\n",
       "<style scoped>\n",
       "    .dataframe tbody tr th:only-of-type {\n",
       "        vertical-align: middle;\n",
       "    }\n",
       "\n",
       "    .dataframe tbody tr th {\n",
       "        vertical-align: top;\n",
       "    }\n",
       "\n",
       "    .dataframe thead th {\n",
       "        text-align: right;\n",
       "    }\n",
       "</style>\n",
       "<table border=\"1\" class=\"dataframe\">\n",
       "  <thead>\n",
       "    <tr style=\"text-align: right;\">\n",
       "      <th></th>\n",
       "      <th>linear_regression</th>\n",
       "      <th>decision_tree</th>\n",
       "      <th>random_forest</th>\n",
       "    </tr>\n",
       "  </thead>\n",
       "  <tbody>\n",
       "    <tr>\n",
       "      <th>rougher</th>\n",
       "      <td>6.452615</td>\n",
       "      <td>6.213</td>\n",
       "      <td>5.8440</td>\n",
       "    </tr>\n",
       "    <tr>\n",
       "      <th>final</th>\n",
       "      <td>9.440221</td>\n",
       "      <td>8.941</td>\n",
       "      <td>8.6540</td>\n",
       "    </tr>\n",
       "    <tr>\n",
       "      <th>final_sMAPE</th>\n",
       "      <td>8.693319</td>\n",
       "      <td>8.259</td>\n",
       "      <td>7.9515</td>\n",
       "    </tr>\n",
       "  </tbody>\n",
       "</table>\n",
       "</div>"
      ],
      "text/plain": [
       "             linear_regression  decision_tree  random_forest\n",
       "rougher               6.452615          6.213         5.8440\n",
       "final                 9.440221          8.941         8.6540\n",
       "final_sMAPE           8.693319          8.259         7.9515"
      ]
     },
     "execution_count": 46,
     "metadata": {},
     "output_type": "execute_result"
    }
   ],
   "source": [
    "# {'randomforestregressor__max_depth': 10, 'randomforestregressor__n_estimators': 100}\n",
    "# {'randomforestregressor__max_depth': 1, 'randomforestregressor__n_estimators': 5}\n",
    "\n",
    "best_model_dict = {\n",
    "    'linear_regression': [smape_rougher, smape_final, final_sMAPE(smape_rougher, smape_final)],\n",
    "    'decision_tree': [dt_smape_rougher, dt_smape_final, final_sMAPE(dt_smape_rougher, dt_smape_final)],\n",
    "    'random_forest': [rf_smape_rougher, rf_smape_final, final_sMAPE(rf_smape_rougher, rf_smape_final)]\n",
    "}\n",
    "\n",
    "best_model_df = pd.DataFrame(best_model_dict, index=['rougher', 'final', 'final_sMAPE'])\n",
    "best_model_df"
   ]
  },
  {
   "cell_type": "markdown",
   "metadata": {},
   "source": [
    "Исходя из расчётов, с данными лучше всего справляется алгоритм случайного леса, так как имеет наименьший процент ошибок. Его и будем использовать в дальнейшем."
   ]
  },
  {
   "cell_type": "code",
   "execution_count": 57,
   "metadata": {},
   "outputs": [],
   "source": [
    "features_test = df_cleared_test.drop('date', axis=1)\n",
    "features_test_rougher = features_test.drop(set(features_test.columns) - features_rougher_columns, axis=1)\n",
    "\n",
    "test_frame_target = \\\n",
    "df_cleared_test.merge(df_cleared_full.loc[:, ['date', 'rougher.output.recovery', 'final.output.recovery']], on='date')\n",
    "\n",
    "target_test_rougher = test_frame_target['rougher.output.recovery']\n",
    "target_test_final = test_frame_target['final.output.recovery']"
   ]
  },
  {
   "cell_type": "code",
   "execution_count": 52,
   "metadata": {},
   "outputs": [
    {
     "name": "stdout",
     "output_type": "stream",
     "text": [
      "Итоговая оценка sMAPE: 7.39\n"
     ]
    }
   ],
   "source": [
    "test_pred_rougher = grid_rf_search_rougher.predict(features_test_rougher)\n",
    "test_pred_rougher_smape = sMAPE(target_test_rougher, test_pred_rougher)\n",
    "\n",
    "test_pred_final = grid_rf_search_final.predict(features_test)\n",
    "test_pred_final_smape = sMAPE(target_test_final, test_pred_final)\n",
    "\n",
    "print('Итоговая оценка sMAPE:', round(final_sMAPE(test_pred_rougher_smape, test_pred_final_smape), 2))"
   ]
  },
  {
   "cell_type": "markdown",
   "metadata": {},
   "source": [
    "### Проверка адекватности модели"
   ]
  },
  {
   "cell_type": "code",
   "execution_count": 61,
   "metadata": {},
   "outputs": [
    {
     "name": "stdout",
     "output_type": "stream",
     "text": [
      "Итоговая оценка константной модели: 8.29\n"
     ]
    }
   ],
   "source": [
    "dummy_regressor_rougher = DummyRegressor(strategy='median')\n",
    "dummy_regressor_rougher.fit(features_rougher_train, target_train['rougher.output.recovery'])\n",
    "dummy_regressor_rougher_pred = dummy_regressor_rougher.predict(features_test_rougher)\n",
    "\n",
    "smape_dummy_rougher = sMAPE(target_test_rougher, dummy_regressor_rougher_pred)\n",
    "\n",
    "dummy_regressor_final = DummyRegressor(strategy='median')\n",
    "dummy_regressor_final.fit(features_final_train, target_train['final.output.recovery'])\n",
    "dummy_regressor_final_pred = dummy_regressor_final.predict(features_test)\n",
    "\n",
    "smape_dummy_final = sMAPE(target_test_final, dummy_regressor_final_pred)\n",
    "\n",
    "print('Итоговая оценка константной модели:', round(final_sMAPE(smape_dummy_rougher, smape_dummy_final), 2))"
   ]
  },
  {
   "cell_type": "markdown",
   "metadata": {},
   "source": [
    "**Промежуточный вывод:**\n",
    "- Итоговый алгоритм построенё на базе `RandomForestRegressor`\n",
    "- Итоговый алгоритм имеет ошибку на тестовой выборке - **7.39%**, на константной - **8.29%**"
   ]
  },
  {
   "cell_type": "markdown",
   "metadata": {},
   "source": [
    "## Итоговый вывод"
   ]
  },
  {
   "cell_type": "markdown",
   "metadata": {},
   "source": [
    "1. Подготовка данных\n",
    "- Дубликатов не было найдено\n",
    "- Были устранены пропущенные значения в датасетах\n",
    "- Был рассчитан `MAE`. Оно имеет малое отклонение, что говорит о том, что изначально коэффициент эффективности был рассчитан верно.\n",
    "2. Анализ данных\n",
    "- Концентрация золота повышается с каждым этапом. То бишь, с помощью флотации мы увеличиваем концентрацию золота.\n",
    "- С каждым этапом концентрация серебра понижается. Скорее всего, это может происходить из-за того, что нас интересует только золота и в процессе очищения другие металлы отделяются от сплава.\n",
    "- Концентрация свинца с течением этапов значительно не меняется.\n",
    "- Распределение данных в обучающей и тренировочной выборке нормально.\n",
    "- Были найдены и устранены аномальные данные\n",
    "3. Модель\n",
    "- Итоговый алгоритм построенё на базе `RandomForestRegressor`\n",
    "- Итоговый алгоритм имеет ошибку на тестовой выборке - **7.39%**, на константной - **8.29%**"
   ]
  }
 ],
 "metadata": {
  "ExecuteTimeLog": [
   {
    "duration": 756,
    "start_time": "2023-08-22T07:47:45.617Z"
   },
   {
    "duration": 3358,
    "start_time": "2023-08-22T07:48:41.913Z"
   },
   {
    "duration": 28,
    "start_time": "2023-08-22T07:49:03.916Z"
   },
   {
    "duration": 2,
    "start_time": "2023-08-22T07:49:18.639Z"
   },
   {
    "duration": 22,
    "start_time": "2023-08-22T07:49:24.112Z"
   },
   {
    "duration": 31,
    "start_time": "2023-08-22T07:49:33.458Z"
   },
   {
    "duration": 31,
    "start_time": "2023-08-22T07:49:59.253Z"
   },
   {
    "duration": 12,
    "start_time": "2023-08-22T07:50:32.729Z"
   },
   {
    "duration": 82,
    "start_time": "2023-08-22T07:50:38.457Z"
   },
   {
    "duration": 715,
    "start_time": "2023-08-22T07:50:42.985Z"
   },
   {
    "duration": 17,
    "start_time": "2023-08-22T07:50:47.801Z"
   },
   {
    "duration": 119,
    "start_time": "2023-08-22T07:52:10.982Z"
   },
   {
    "duration": 24,
    "start_time": "2023-08-22T07:52:21.336Z"
   },
   {
    "duration": 97,
    "start_time": "2023-08-22T07:52:35.098Z"
   },
   {
    "duration": 9,
    "start_time": "2023-08-22T07:55:18.132Z"
   },
   {
    "duration": 8,
    "start_time": "2023-08-22T07:55:28.884Z"
   },
   {
    "duration": 11,
    "start_time": "2023-08-22T07:55:36.980Z"
   },
   {
    "duration": 32,
    "start_time": "2023-08-22T08:00:18.476Z"
   },
   {
    "duration": 3,
    "start_time": "2023-08-22T08:04:45.684Z"
   },
   {
    "duration": 5,
    "start_time": "2023-08-22T08:06:32.946Z"
   },
   {
    "duration": 828,
    "start_time": "2023-08-22T08:07:03.558Z"
   },
   {
    "duration": 46,
    "start_time": "2023-08-22T08:08:09.984Z"
   },
   {
    "duration": 2,
    "start_time": "2023-08-22T08:08:17.890Z"
   },
   {
    "duration": 8,
    "start_time": "2023-08-22T08:08:28.818Z"
   },
   {
    "duration": 9,
    "start_time": "2023-08-22T08:08:56.247Z"
   },
   {
    "duration": 9,
    "start_time": "2023-08-22T08:09:48.925Z"
   },
   {
    "duration": 4,
    "start_time": "2023-08-22T08:16:23.287Z"
   },
   {
    "duration": 4,
    "start_time": "2023-08-22T08:16:49.898Z"
   },
   {
    "duration": 4,
    "start_time": "2023-08-22T08:17:31.424Z"
   },
   {
    "duration": 113,
    "start_time": "2023-08-22T08:25:12.738Z"
   },
   {
    "duration": 2135,
    "start_time": "2023-08-22T08:25:36.293Z"
   },
   {
    "duration": 2603,
    "start_time": "2023-08-22T08:26:10.474Z"
   },
   {
    "duration": 2205,
    "start_time": "2023-08-22T08:26:28.221Z"
   },
   {
    "duration": 648,
    "start_time": "2023-08-22T08:27:59.852Z"
   },
   {
    "duration": 802,
    "start_time": "2023-08-22T08:28:07.020Z"
   },
   {
    "duration": 667,
    "start_time": "2023-08-22T08:28:19.389Z"
   },
   {
    "duration": 514,
    "start_time": "2023-08-22T08:28:41.233Z"
   },
   {
    "duration": 770,
    "start_time": "2023-08-22T08:32:33.571Z"
   },
   {
    "duration": 518,
    "start_time": "2023-08-22T08:32:40.227Z"
   },
   {
    "duration": 610,
    "start_time": "2023-08-22T08:32:46.196Z"
   },
   {
    "duration": 514,
    "start_time": "2023-08-22T08:37:47.073Z"
   },
   {
    "duration": 397,
    "start_time": "2023-08-22T08:55:20.487Z"
   },
   {
    "duration": 442,
    "start_time": "2023-08-22T08:55:38.578Z"
   },
   {
    "duration": 663,
    "start_time": "2023-08-22T08:55:43.563Z"
   },
   {
    "duration": 420,
    "start_time": "2023-08-22T08:55:59.229Z"
   },
   {
    "duration": 403,
    "start_time": "2023-08-22T08:56:12.494Z"
   },
   {
    "duration": 556,
    "start_time": "2023-08-22T08:56:23.025Z"
   },
   {
    "duration": 442,
    "start_time": "2023-08-22T08:56:29.601Z"
   },
   {
    "duration": 426,
    "start_time": "2023-08-22T08:56:41.170Z"
   },
   {
    "duration": 947,
    "start_time": "2023-08-22T08:56:54.612Z"
   },
   {
    "duration": 826,
    "start_time": "2023-08-22T08:57:01.782Z"
   },
   {
    "duration": 1028,
    "start_time": "2023-08-22T08:58:35.392Z"
   },
   {
    "duration": 911,
    "start_time": "2023-08-22T08:59:04.159Z"
   },
   {
    "duration": 1033,
    "start_time": "2023-08-22T08:59:17.897Z"
   },
   {
    "duration": 987,
    "start_time": "2023-08-22T08:59:23.945Z"
   },
   {
    "duration": 967,
    "start_time": "2023-08-22T08:59:30.283Z"
   },
   {
    "duration": 799,
    "start_time": "2023-08-22T08:59:35.900Z"
   },
   {
    "duration": 582,
    "start_time": "2023-08-22T08:59:48.302Z"
   },
   {
    "duration": 469,
    "start_time": "2023-08-22T08:59:53.663Z"
   },
   {
    "duration": 452,
    "start_time": "2023-08-22T09:00:06.112Z"
   },
   {
    "duration": 618,
    "start_time": "2023-08-22T09:00:32.372Z"
   },
   {
    "duration": 453,
    "start_time": "2023-08-22T09:00:37.718Z"
   },
   {
    "duration": 577,
    "start_time": "2023-08-22T09:00:44.663Z"
   },
   {
    "duration": 723,
    "start_time": "2023-08-22T09:00:51.272Z"
   },
   {
    "duration": 10,
    "start_time": "2023-08-22T09:06:56.545Z"
   },
   {
    "duration": 595,
    "start_time": "2023-08-22T09:07:45.080Z"
   },
   {
    "duration": 590,
    "start_time": "2023-08-22T09:07:55.161Z"
   },
   {
    "duration": 118,
    "start_time": "2023-08-22T09:09:26.743Z"
   },
   {
    "duration": 7,
    "start_time": "2023-08-22T09:09:37.434Z"
   },
   {
    "duration": 759,
    "start_time": "2023-08-22T09:09:39.689Z"
   },
   {
    "duration": 14,
    "start_time": "2023-08-22T09:12:04.528Z"
   },
   {
    "duration": 8,
    "start_time": "2023-08-22T09:12:13.280Z"
   },
   {
    "duration": 11,
    "start_time": "2023-08-22T09:13:36.574Z"
   },
   {
    "duration": 10,
    "start_time": "2023-08-22T09:13:56.784Z"
   },
   {
    "duration": 47,
    "start_time": "2023-08-22T09:15:18.106Z"
   },
   {
    "duration": 11,
    "start_time": "2023-08-22T09:15:30.798Z"
   },
   {
    "duration": 9,
    "start_time": "2023-08-22T09:15:33.135Z"
   },
   {
    "duration": 10,
    "start_time": "2023-08-22T09:16:16.789Z"
   },
   {
    "duration": 10,
    "start_time": "2023-08-22T09:16:48.825Z"
   },
   {
    "duration": 11,
    "start_time": "2023-08-22T09:16:50.746Z"
   },
   {
    "duration": 19,
    "start_time": "2023-08-22T09:16:51.241Z"
   },
   {
    "duration": 10,
    "start_time": "2023-08-22T09:16:51.705Z"
   },
   {
    "duration": 10,
    "start_time": "2023-08-22T09:17:22.470Z"
   },
   {
    "duration": 20,
    "start_time": "2023-08-22T09:17:47.171Z"
   },
   {
    "duration": 9,
    "start_time": "2023-08-22T09:17:53.827Z"
   },
   {
    "duration": 8,
    "start_time": "2023-08-22T09:18:08.645Z"
   },
   {
    "duration": 2,
    "start_time": "2023-08-22T09:18:14.775Z"
   },
   {
    "duration": 556,
    "start_time": "2023-08-22T09:18:24.295Z"
   },
   {
    "duration": 8,
    "start_time": "2023-08-23T07:32:09.492Z"
   },
   {
    "duration": 3,
    "start_time": "2023-08-23T07:32:11.966Z"
   },
   {
    "duration": 3,
    "start_time": "2023-08-23T07:33:05.308Z"
   },
   {
    "duration": 1630,
    "start_time": "2023-08-23T07:33:07.478Z"
   },
   {
    "duration": 2264,
    "start_time": "2023-08-23T07:33:09.110Z"
   },
   {
    "duration": 41,
    "start_time": "2023-08-23T07:33:11.375Z"
   },
   {
    "duration": 30,
    "start_time": "2023-08-23T07:33:11.417Z"
   },
   {
    "duration": 19,
    "start_time": "2023-08-23T07:33:11.450Z"
   },
   {
    "duration": 139,
    "start_time": "2023-08-23T07:33:11.471Z"
   },
   {
    "duration": 36,
    "start_time": "2023-08-23T07:33:11.611Z"
   },
   {
    "duration": 108,
    "start_time": "2023-08-23T07:33:11.649Z"
   },
   {
    "duration": 8,
    "start_time": "2023-08-23T07:33:11.759Z"
   },
   {
    "duration": 23,
    "start_time": "2023-08-23T07:33:11.769Z"
   },
   {
    "duration": 12,
    "start_time": "2023-08-23T07:33:11.794Z"
   },
   {
    "duration": 44,
    "start_time": "2023-08-23T07:33:11.808Z"
   },
   {
    "duration": 10,
    "start_time": "2023-08-23T07:33:11.854Z"
   },
   {
    "duration": 5,
    "start_time": "2023-08-23T07:33:11.867Z"
   },
   {
    "duration": 633,
    "start_time": "2023-08-23T07:33:11.874Z"
   },
   {
    "duration": 686,
    "start_time": "2023-08-23T07:33:12.508Z"
   },
   {
    "duration": 593,
    "start_time": "2023-08-23T07:33:13.196Z"
   },
   {
    "duration": 960,
    "start_time": "2023-08-23T07:33:13.791Z"
   },
   {
    "duration": 637,
    "start_time": "2023-08-23T07:33:14.754Z"
   },
   {
    "duration": 8,
    "start_time": "2023-08-23T07:33:15.393Z"
   },
   {
    "duration": 706,
    "start_time": "2023-08-23T07:33:15.403Z"
   },
   {
    "duration": 25,
    "start_time": "2023-08-23T07:33:16.111Z"
   },
   {
    "duration": 42,
    "start_time": "2023-08-23T07:33:16.142Z"
   },
   {
    "duration": 10,
    "start_time": "2023-08-23T07:33:16.186Z"
   },
   {
    "duration": 84,
    "start_time": "2023-08-23T07:33:16.197Z"
   },
   {
    "duration": 73,
    "start_time": "2023-08-23T07:33:16.282Z"
   },
   {
    "duration": 47,
    "start_time": "2023-08-23T07:33:16.357Z"
   },
   {
    "duration": 106,
    "start_time": "2023-08-23T07:33:16.405Z"
   },
   {
    "duration": 43,
    "start_time": "2023-08-23T07:33:16.512Z"
   },
   {
    "duration": 56,
    "start_time": "2023-08-23T07:33:16.556Z"
   },
   {
    "duration": 61,
    "start_time": "2023-08-23T07:33:16.614Z"
   },
   {
    "duration": 881,
    "start_time": "2023-08-23T07:33:16.676Z"
   },
   {
    "duration": 3,
    "start_time": "2023-08-23T07:33:17.558Z"
   },
   {
    "duration": 4,
    "start_time": "2023-08-23T07:33:17.563Z"
   },
   {
    "duration": 3,
    "start_time": "2023-08-23T07:35:31.749Z"
   },
   {
    "duration": 4,
    "start_time": "2023-08-23T07:36:24.344Z"
   },
   {
    "duration": 4,
    "start_time": "2023-08-23T07:38:14.567Z"
   },
   {
    "duration": 11,
    "start_time": "2023-08-23T07:43:20.749Z"
   },
   {
    "duration": 4,
    "start_time": "2023-08-23T07:43:37.646Z"
   },
   {
    "duration": 28,
    "start_time": "2023-08-23T07:44:14.860Z"
   },
   {
    "duration": 4,
    "start_time": "2023-08-23T07:44:46.592Z"
   },
   {
    "duration": 2583,
    "start_time": "2023-08-23T07:49:28.907Z"
   },
   {
    "duration": 3045,
    "start_time": "2023-08-23T07:50:54.615Z"
   },
   {
    "duration": 1766,
    "start_time": "2023-08-23T07:51:29.965Z"
   },
   {
    "duration": 3588,
    "start_time": "2023-08-23T07:51:57.251Z"
   },
   {
    "duration": 16,
    "start_time": "2023-08-23T07:52:35.679Z"
   },
   {
    "duration": 3,
    "start_time": "2023-08-23T07:52:44.200Z"
   },
   {
    "duration": 4,
    "start_time": "2023-08-23T07:52:47.376Z"
   },
   {
    "duration": 35,
    "start_time": "2023-08-23T07:54:02.197Z"
   },
   {
    "duration": 4,
    "start_time": "2023-08-23T07:55:16.577Z"
   },
   {
    "duration": 6,
    "start_time": "2023-08-23T07:55:36.819Z"
   },
   {
    "duration": 16,
    "start_time": "2023-08-23T08:00:09.858Z"
   },
   {
    "duration": 74482,
    "start_time": "2023-08-23T08:00:15.356Z"
   },
   {
    "duration": 73918,
    "start_time": "2023-08-23T08:02:10.573Z"
   },
   {
    "duration": 155074,
    "start_time": "2023-08-23T08:03:38.372Z"
   },
   {
    "duration": 1607,
    "start_time": "2023-08-23T09:02:23.143Z"
   },
   {
    "duration": 949,
    "start_time": "2023-08-23T09:02:24.754Z"
   },
   {
    "duration": 72,
    "start_time": "2023-08-23T09:02:25.705Z"
   },
   {
    "duration": 21,
    "start_time": "2023-08-23T09:02:25.780Z"
   },
   {
    "duration": 48,
    "start_time": "2023-08-23T09:02:25.804Z"
   },
   {
    "duration": 162,
    "start_time": "2023-08-23T09:02:25.859Z"
   },
   {
    "duration": 41,
    "start_time": "2023-08-23T09:02:26.023Z"
   },
   {
    "duration": 146,
    "start_time": "2023-08-23T09:02:26.066Z"
   },
   {
    "duration": 26,
    "start_time": "2023-08-23T09:02:26.214Z"
   },
   {
    "duration": 12,
    "start_time": "2023-08-23T09:02:26.243Z"
   },
   {
    "duration": 11,
    "start_time": "2023-08-23T09:02:26.257Z"
   },
   {
    "duration": 26,
    "start_time": "2023-08-23T09:02:26.269Z"
   },
   {
    "duration": 47,
    "start_time": "2023-08-23T09:02:26.297Z"
   },
   {
    "duration": 694,
    "start_time": "2023-08-23T09:02:26.349Z"
   },
   {
    "duration": 758,
    "start_time": "2023-08-23T09:02:27.045Z"
   },
   {
    "duration": 679,
    "start_time": "2023-08-23T09:02:27.805Z"
   },
   {
    "duration": 1103,
    "start_time": "2023-08-23T09:02:28.486Z"
   },
   {
    "duration": 686,
    "start_time": "2023-08-23T09:02:29.591Z"
   },
   {
    "duration": 8,
    "start_time": "2023-08-23T09:02:30.280Z"
   },
   {
    "duration": 766,
    "start_time": "2023-08-23T09:02:30.290Z"
   },
   {
    "duration": 15,
    "start_time": "2023-08-23T09:02:31.058Z"
   },
   {
    "duration": 72,
    "start_time": "2023-08-23T09:02:31.075Z"
   },
   {
    "duration": 18,
    "start_time": "2023-08-23T09:02:31.148Z"
   },
   {
    "duration": 83,
    "start_time": "2023-08-23T09:02:31.168Z"
   },
   {
    "duration": 67,
    "start_time": "2023-08-23T09:02:31.253Z"
   },
   {
    "duration": 43,
    "start_time": "2023-08-23T09:02:31.322Z"
   },
   {
    "duration": 42,
    "start_time": "2023-08-23T09:02:31.366Z"
   },
   {
    "duration": 158,
    "start_time": "2023-08-23T09:02:31.410Z"
   },
   {
    "duration": 66,
    "start_time": "2023-08-23T09:02:31.570Z"
   },
   {
    "duration": 46,
    "start_time": "2023-08-23T09:02:31.639Z"
   },
   {
    "duration": 945,
    "start_time": "2023-08-23T09:02:31.687Z"
   },
   {
    "duration": 18,
    "start_time": "2023-08-23T09:02:32.635Z"
   },
   {
    "duration": 8,
    "start_time": "2023-08-23T09:02:32.655Z"
   },
   {
    "duration": 15,
    "start_time": "2023-08-23T09:02:32.665Z"
   },
   {
    "duration": 11,
    "start_time": "2023-08-23T09:02:32.682Z"
   },
   {
    "duration": 2937,
    "start_time": "2023-08-23T09:02:32.695Z"
   },
   {
    "duration": 3808,
    "start_time": "2023-08-23T09:02:35.635Z"
   },
   {
    "duration": 10,
    "start_time": "2023-08-23T09:02:39.449Z"
   },
   {
    "duration": 1636,
    "start_time": "2023-08-23T09:05:12.609Z"
   },
   {
    "duration": 864,
    "start_time": "2023-08-23T09:05:14.250Z"
   },
   {
    "duration": 53,
    "start_time": "2023-08-23T09:05:15.116Z"
   },
   {
    "duration": 13,
    "start_time": "2023-08-23T09:05:15.171Z"
   },
   {
    "duration": 72,
    "start_time": "2023-08-23T09:05:15.186Z"
   },
   {
    "duration": 131,
    "start_time": "2023-08-23T09:05:15.259Z"
   },
   {
    "duration": 20,
    "start_time": "2023-08-23T09:05:15.392Z"
   },
   {
    "duration": 127,
    "start_time": "2023-08-23T09:05:15.414Z"
   },
   {
    "duration": 14,
    "start_time": "2023-08-23T09:05:15.544Z"
   },
   {
    "duration": 37,
    "start_time": "2023-08-23T09:05:15.560Z"
   },
   {
    "duration": 66,
    "start_time": "2023-08-23T09:05:15.598Z"
   },
   {
    "duration": 91,
    "start_time": "2023-08-23T09:05:15.666Z"
   },
   {
    "duration": 21,
    "start_time": "2023-08-23T09:05:15.759Z"
   },
   {
    "duration": 669,
    "start_time": "2023-08-23T09:05:15.783Z"
   },
   {
    "duration": 881,
    "start_time": "2023-08-23T09:05:16.462Z"
   },
   {
    "duration": 636,
    "start_time": "2023-08-23T09:05:17.349Z"
   },
   {
    "duration": 1025,
    "start_time": "2023-08-23T09:05:17.987Z"
   },
   {
    "duration": 667,
    "start_time": "2023-08-23T09:05:19.014Z"
   },
   {
    "duration": 7,
    "start_time": "2023-08-23T09:05:19.683Z"
   },
   {
    "duration": 695,
    "start_time": "2023-08-23T09:05:19.692Z"
   },
   {
    "duration": 11,
    "start_time": "2023-08-23T09:05:20.389Z"
   },
   {
    "duration": 67,
    "start_time": "2023-08-23T09:05:20.402Z"
   },
   {
    "duration": 13,
    "start_time": "2023-08-23T09:05:20.471Z"
   },
   {
    "duration": 26,
    "start_time": "2023-08-23T09:05:20.486Z"
   },
   {
    "duration": 40,
    "start_time": "2023-08-23T09:05:20.514Z"
   },
   {
    "duration": 32,
    "start_time": "2023-08-23T09:05:20.556Z"
   },
   {
    "duration": 22,
    "start_time": "2023-08-23T09:05:20.590Z"
   },
   {
    "duration": 49,
    "start_time": "2023-08-23T09:05:20.614Z"
   },
   {
    "duration": 16,
    "start_time": "2023-08-23T09:05:20.665Z"
   },
   {
    "duration": 25,
    "start_time": "2023-08-23T09:05:20.683Z"
   },
   {
    "duration": 857,
    "start_time": "2023-08-23T09:05:20.710Z"
   },
   {
    "duration": 3,
    "start_time": "2023-08-23T09:05:21.568Z"
   },
   {
    "duration": 18,
    "start_time": "2023-08-23T09:05:21.573Z"
   },
   {
    "duration": 15,
    "start_time": "2023-08-23T09:05:21.593Z"
   },
   {
    "duration": 27,
    "start_time": "2023-08-23T09:05:21.610Z"
   },
   {
    "duration": 2522,
    "start_time": "2023-08-23T09:05:21.639Z"
   },
   {
    "duration": 2485,
    "start_time": "2023-08-23T09:05:24.241Z"
   },
   {
    "duration": 7,
    "start_time": "2023-08-23T09:05:26.733Z"
   },
   {
    "duration": 1755,
    "start_time": "2023-08-23T09:40:15.172Z"
   },
   {
    "duration": 926,
    "start_time": "2023-08-23T09:45:07.056Z"
   },
   {
    "duration": 41,
    "start_time": "2023-08-23T09:45:09.167Z"
   },
   {
    "duration": 14,
    "start_time": "2023-08-23T09:45:09.861Z"
   },
   {
    "duration": 22,
    "start_time": "2023-08-23T09:45:10.158Z"
   },
   {
    "duration": 139,
    "start_time": "2023-08-23T09:45:10.564Z"
   },
   {
    "duration": 46,
    "start_time": "2023-08-23T09:45:10.706Z"
   },
   {
    "duration": 118,
    "start_time": "2023-08-23T09:45:10.783Z"
   },
   {
    "duration": 10,
    "start_time": "2023-08-23T09:45:11.086Z"
   },
   {
    "duration": 7,
    "start_time": "2023-08-23T09:45:11.198Z"
   },
   {
    "duration": 10,
    "start_time": "2023-08-23T09:45:11.310Z"
   },
   {
    "duration": 34,
    "start_time": "2023-08-23T09:45:11.522Z"
   },
   {
    "duration": 9,
    "start_time": "2023-08-23T09:45:12.095Z"
   },
   {
    "duration": 707,
    "start_time": "2023-08-23T09:45:12.606Z"
   },
   {
    "duration": 871,
    "start_time": "2023-08-23T09:45:13.316Z"
   },
   {
    "duration": 751,
    "start_time": "2023-08-23T09:45:14.189Z"
   },
   {
    "duration": 1189,
    "start_time": "2023-08-23T09:45:14.949Z"
   },
   {
    "duration": 796,
    "start_time": "2023-08-23T09:45:16.140Z"
   },
   {
    "duration": 9,
    "start_time": "2023-08-23T09:45:20.370Z"
   },
   {
    "duration": 715,
    "start_time": "2023-08-23T09:45:20.575Z"
   },
   {
    "duration": 10,
    "start_time": "2023-08-23T09:45:21.293Z"
   },
   {
    "duration": 61,
    "start_time": "2023-08-23T09:45:21.304Z"
   },
   {
    "duration": 10,
    "start_time": "2023-08-23T09:45:21.371Z"
   },
   {
    "duration": 13,
    "start_time": "2023-08-23T09:45:21.559Z"
   },
   {
    "duration": 26,
    "start_time": "2023-08-23T09:45:21.808Z"
   },
   {
    "duration": 11,
    "start_time": "2023-08-23T09:45:22.056Z"
   },
   {
    "duration": 12,
    "start_time": "2023-08-23T09:45:22.273Z"
   },
   {
    "duration": 21,
    "start_time": "2023-08-23T09:45:22.496Z"
   },
   {
    "duration": 10,
    "start_time": "2023-08-23T09:45:22.704Z"
   },
   {
    "duration": 8,
    "start_time": "2023-08-23T09:45:22.865Z"
   },
   {
    "duration": 881,
    "start_time": "2023-08-23T09:45:23.045Z"
   },
   {
    "duration": 3,
    "start_time": "2023-08-23T09:45:25.473Z"
   },
   {
    "duration": 4,
    "start_time": "2023-08-23T09:45:25.680Z"
   },
   {
    "duration": 10,
    "start_time": "2023-08-23T09:45:25.905Z"
   },
   {
    "duration": 3,
    "start_time": "2023-08-23T09:45:26.513Z"
   },
   {
    "duration": 5106,
    "start_time": "2023-08-23T09:45:27.297Z"
   },
   {
    "duration": 3608,
    "start_time": "2023-08-23T09:45:34.264Z"
   },
   {
    "duration": 245,
    "start_time": "2023-08-23T09:46:07.357Z"
   },
   {
    "duration": 231,
    "start_time": "2023-08-23T09:46:11.191Z"
   },
   {
    "duration": 4,
    "start_time": "2023-08-23T09:47:58.088Z"
   },
   {
    "duration": 63637,
    "start_time": "2023-08-23T09:47:59.746Z"
   },
   {
    "duration": 1715,
    "start_time": "2023-08-23T10:19:12.756Z"
   },
   {
    "duration": 892,
    "start_time": "2023-08-23T10:19:14.474Z"
   },
   {
    "duration": 43,
    "start_time": "2023-08-23T10:19:15.367Z"
   },
   {
    "duration": 21,
    "start_time": "2023-08-23T10:19:15.426Z"
   },
   {
    "duration": 65,
    "start_time": "2023-08-23T10:19:15.449Z"
   },
   {
    "duration": 176,
    "start_time": "2023-08-23T10:19:15.515Z"
   },
   {
    "duration": 32,
    "start_time": "2023-08-23T10:19:15.693Z"
   },
   {
    "duration": 120,
    "start_time": "2023-08-23T10:19:15.730Z"
   },
   {
    "duration": 11,
    "start_time": "2023-08-23T10:19:15.853Z"
   },
   {
    "duration": 45,
    "start_time": "2023-08-23T10:19:15.866Z"
   },
   {
    "duration": 16,
    "start_time": "2023-08-23T10:19:15.913Z"
   },
   {
    "duration": 36,
    "start_time": "2023-08-23T10:19:15.931Z"
   },
   {
    "duration": 10,
    "start_time": "2023-08-23T10:19:15.969Z"
   },
   {
    "duration": 745,
    "start_time": "2023-08-23T10:19:15.982Z"
   },
   {
    "duration": 804,
    "start_time": "2023-08-23T10:19:16.736Z"
   },
   {
    "duration": 644,
    "start_time": "2023-08-23T10:19:17.551Z"
   },
   {
    "duration": 1107,
    "start_time": "2023-08-23T10:19:18.197Z"
   },
   {
    "duration": 677,
    "start_time": "2023-08-23T10:19:19.307Z"
   },
   {
    "duration": 9,
    "start_time": "2023-08-23T10:19:19.986Z"
   },
   {
    "duration": 689,
    "start_time": "2023-08-23T10:19:19.996Z"
   },
   {
    "duration": 10,
    "start_time": "2023-08-23T10:19:20.687Z"
   },
   {
    "duration": 54,
    "start_time": "2023-08-23T10:19:20.699Z"
   },
   {
    "duration": 8,
    "start_time": "2023-08-23T10:19:20.755Z"
   },
   {
    "duration": 11,
    "start_time": "2023-08-23T10:19:20.765Z"
   },
   {
    "duration": 19,
    "start_time": "2023-08-23T10:19:20.777Z"
   },
   {
    "duration": 40,
    "start_time": "2023-08-23T10:19:20.798Z"
   },
   {
    "duration": 16,
    "start_time": "2023-08-23T10:19:20.842Z"
   },
   {
    "duration": 29,
    "start_time": "2023-08-23T10:19:20.860Z"
   },
   {
    "duration": 10,
    "start_time": "2023-08-23T10:19:20.891Z"
   },
   {
    "duration": 29,
    "start_time": "2023-08-23T10:19:20.903Z"
   },
   {
    "duration": 863,
    "start_time": "2023-08-23T10:19:20.934Z"
   },
   {
    "duration": 3,
    "start_time": "2023-08-23T10:19:21.799Z"
   },
   {
    "duration": 42,
    "start_time": "2023-08-23T10:19:21.804Z"
   },
   {
    "duration": 19,
    "start_time": "2023-08-23T10:19:21.850Z"
   },
   {
    "duration": 40,
    "start_time": "2023-08-23T10:19:21.872Z"
   },
   {
    "duration": 3517,
    "start_time": "2023-08-23T10:19:21.914Z"
   },
   {
    "duration": 3703,
    "start_time": "2023-08-23T10:19:25.433Z"
   },
   {
    "duration": 7,
    "start_time": "2023-08-23T10:19:29.148Z"
   },
   {
    "duration": 63478,
    "start_time": "2023-08-23T10:19:29.227Z"
   },
   {
    "duration": 2056,
    "start_time": "2023-08-23T10:34:21.314Z"
   },
   {
    "duration": 978,
    "start_time": "2023-08-23T10:34:23.373Z"
   },
   {
    "duration": 47,
    "start_time": "2023-08-23T10:34:24.357Z"
   },
   {
    "duration": 33,
    "start_time": "2023-08-23T10:34:24.406Z"
   },
   {
    "duration": 37,
    "start_time": "2023-08-23T10:34:24.444Z"
   },
   {
    "duration": 163,
    "start_time": "2023-08-23T10:34:24.484Z"
   },
   {
    "duration": 25,
    "start_time": "2023-08-23T10:34:24.656Z"
   },
   {
    "duration": 115,
    "start_time": "2023-08-23T10:34:24.683Z"
   },
   {
    "duration": 10,
    "start_time": "2023-08-23T10:34:24.801Z"
   },
   {
    "duration": 21,
    "start_time": "2023-08-23T10:34:24.814Z"
   },
   {
    "duration": 26,
    "start_time": "2023-08-23T10:34:24.837Z"
   },
   {
    "duration": 37,
    "start_time": "2023-08-23T10:34:24.867Z"
   },
   {
    "duration": 40,
    "start_time": "2023-08-23T10:34:24.908Z"
   },
   {
    "duration": 742,
    "start_time": "2023-08-23T10:34:24.952Z"
   },
   {
    "duration": 901,
    "start_time": "2023-08-23T10:34:25.696Z"
   },
   {
    "duration": 783,
    "start_time": "2023-08-23T10:34:26.599Z"
   },
   {
    "duration": 1095,
    "start_time": "2023-08-23T10:34:27.384Z"
   },
   {
    "duration": 795,
    "start_time": "2023-08-23T10:34:28.482Z"
   },
   {
    "duration": 8,
    "start_time": "2023-08-23T10:34:29.279Z"
   },
   {
    "duration": 703,
    "start_time": "2023-08-23T10:34:29.290Z"
   },
   {
    "duration": 17,
    "start_time": "2023-08-23T10:34:29.995Z"
   },
   {
    "duration": 85,
    "start_time": "2023-08-23T10:34:30.026Z"
   },
   {
    "duration": 51,
    "start_time": "2023-08-23T10:34:30.114Z"
   },
   {
    "duration": 32,
    "start_time": "2023-08-23T10:34:30.169Z"
   },
   {
    "duration": 38,
    "start_time": "2023-08-23T10:34:30.204Z"
   },
   {
    "duration": 39,
    "start_time": "2023-08-23T10:34:30.253Z"
   },
   {
    "duration": 40,
    "start_time": "2023-08-23T10:34:30.295Z"
   },
   {
    "duration": 68,
    "start_time": "2023-08-23T10:34:30.339Z"
   },
   {
    "duration": 46,
    "start_time": "2023-08-23T10:34:30.410Z"
   },
   {
    "duration": 52,
    "start_time": "2023-08-23T10:34:30.458Z"
   },
   {
    "duration": 880,
    "start_time": "2023-08-23T10:34:30.512Z"
   },
   {
    "duration": 4,
    "start_time": "2023-08-23T10:34:31.394Z"
   },
   {
    "duration": 182,
    "start_time": "2023-08-23T10:34:31.400Z"
   },
   {
    "duration": 54,
    "start_time": "2023-08-23T10:34:31.584Z"
   },
   {
    "duration": 22,
    "start_time": "2023-08-23T10:34:31.640Z"
   },
   {
    "duration": 3702,
    "start_time": "2023-08-23T10:34:31.664Z"
   },
   {
    "duration": 2755,
    "start_time": "2023-08-23T10:34:35.375Z"
   },
   {
    "duration": 8,
    "start_time": "2023-08-23T10:34:38.132Z"
   },
   {
    "duration": 62699,
    "start_time": "2023-08-23T10:34:38.143Z"
   },
   {
    "duration": 801868,
    "start_time": "2023-08-23T10:35:40.849Z"
   },
   {
    "duration": 1560,
    "start_time": "2023-08-23T11:40:11.871Z"
   },
   {
    "duration": 894,
    "start_time": "2023-08-23T11:40:13.439Z"
   },
   {
    "duration": 47,
    "start_time": "2023-08-23T11:40:14.339Z"
   },
   {
    "duration": 14,
    "start_time": "2023-08-23T11:40:14.388Z"
   },
   {
    "duration": 40,
    "start_time": "2023-08-23T11:40:14.403Z"
   },
   {
    "duration": 132,
    "start_time": "2023-08-23T11:40:14.454Z"
   },
   {
    "duration": 18,
    "start_time": "2023-08-23T11:40:14.588Z"
   },
   {
    "duration": 136,
    "start_time": "2023-08-23T11:40:14.608Z"
   },
   {
    "duration": 12,
    "start_time": "2023-08-23T11:40:14.746Z"
   },
   {
    "duration": 13,
    "start_time": "2023-08-23T11:40:14.759Z"
   },
   {
    "duration": 119,
    "start_time": "2023-08-23T11:40:14.774Z"
   },
   {
    "duration": 71,
    "start_time": "2023-08-23T11:40:14.895Z"
   },
   {
    "duration": 46,
    "start_time": "2023-08-23T11:40:14.973Z"
   },
   {
    "duration": 769,
    "start_time": "2023-08-23T11:40:15.029Z"
   },
   {
    "duration": 803,
    "start_time": "2023-08-23T11:40:15.800Z"
   },
   {
    "duration": 666,
    "start_time": "2023-08-23T11:40:16.605Z"
   },
   {
    "duration": 1138,
    "start_time": "2023-08-23T11:40:17.272Z"
   },
   {
    "duration": 643,
    "start_time": "2023-08-23T11:40:18.412Z"
   },
   {
    "duration": 9,
    "start_time": "2023-08-23T11:40:19.061Z"
   },
   {
    "duration": 634,
    "start_time": "2023-08-23T11:40:19.072Z"
   },
   {
    "duration": 30,
    "start_time": "2023-08-23T11:40:19.707Z"
   },
   {
    "duration": 60,
    "start_time": "2023-08-23T11:40:19.747Z"
   },
   {
    "duration": 8,
    "start_time": "2023-08-23T11:40:19.808Z"
   },
   {
    "duration": 50,
    "start_time": "2023-08-23T11:40:19.817Z"
   },
   {
    "duration": 48,
    "start_time": "2023-08-23T11:40:19.872Z"
   },
   {
    "duration": 47,
    "start_time": "2023-08-23T11:40:19.921Z"
   },
   {
    "duration": 17,
    "start_time": "2023-08-23T11:40:19.970Z"
   },
   {
    "duration": 32,
    "start_time": "2023-08-23T11:40:19.988Z"
   },
   {
    "duration": 21,
    "start_time": "2023-08-23T11:40:20.022Z"
   },
   {
    "duration": 26,
    "start_time": "2023-08-23T11:40:20.045Z"
   },
   {
    "duration": 812,
    "start_time": "2023-08-23T11:40:20.073Z"
   },
   {
    "duration": 4,
    "start_time": "2023-08-23T11:40:20.888Z"
   },
   {
    "duration": 41,
    "start_time": "2023-08-23T11:40:20.894Z"
   },
   {
    "duration": 26,
    "start_time": "2023-08-23T11:40:20.939Z"
   },
   {
    "duration": 60,
    "start_time": "2023-08-23T11:40:20.968Z"
   },
   {
    "duration": 3311,
    "start_time": "2023-08-23T11:40:21.035Z"
   },
   {
    "duration": 1977,
    "start_time": "2023-08-23T11:40:24.351Z"
   },
   {
    "duration": 18,
    "start_time": "2023-08-23T11:40:26.332Z"
   },
   {
    "duration": 59339,
    "start_time": "2023-08-23T11:40:26.363Z"
   },
   {
    "duration": 1522,
    "start_time": "2023-08-23T11:42:06.578Z"
   },
   {
    "duration": 911,
    "start_time": "2023-08-23T11:42:08.102Z"
   },
   {
    "duration": 60,
    "start_time": "2023-08-23T11:42:09.015Z"
   },
   {
    "duration": 16,
    "start_time": "2023-08-23T11:42:09.079Z"
   },
   {
    "duration": 17,
    "start_time": "2023-08-23T11:42:09.098Z"
   },
   {
    "duration": 152,
    "start_time": "2023-08-23T11:42:09.128Z"
   },
   {
    "duration": 21,
    "start_time": "2023-08-23T11:42:09.282Z"
   },
   {
    "duration": 138,
    "start_time": "2023-08-23T11:42:09.305Z"
   },
   {
    "duration": 20,
    "start_time": "2023-08-23T11:42:09.448Z"
   },
   {
    "duration": 7,
    "start_time": "2023-08-23T11:42:09.471Z"
   },
   {
    "duration": 9,
    "start_time": "2023-08-23T11:42:09.479Z"
   },
   {
    "duration": 24,
    "start_time": "2023-08-23T11:42:09.490Z"
   },
   {
    "duration": 14,
    "start_time": "2023-08-23T11:42:09.516Z"
   },
   {
    "duration": 658,
    "start_time": "2023-08-23T11:42:09.535Z"
   },
   {
    "duration": 804,
    "start_time": "2023-08-23T11:42:10.194Z"
   },
   {
    "duration": 658,
    "start_time": "2023-08-23T11:42:10.999Z"
   },
   {
    "duration": 1017,
    "start_time": "2023-08-23T11:42:11.660Z"
   },
   {
    "duration": 638,
    "start_time": "2023-08-23T11:42:12.679Z"
   },
   {
    "duration": 18,
    "start_time": "2023-08-23T11:42:13.319Z"
   },
   {
    "duration": 651,
    "start_time": "2023-08-23T11:42:13.342Z"
   },
   {
    "duration": 9,
    "start_time": "2023-08-23T11:42:13.995Z"
   },
   {
    "duration": 46,
    "start_time": "2023-08-23T11:42:14.006Z"
   },
   {
    "duration": 13,
    "start_time": "2023-08-23T11:42:14.054Z"
   },
   {
    "duration": 11,
    "start_time": "2023-08-23T11:42:14.072Z"
   },
   {
    "duration": 18,
    "start_time": "2023-08-23T11:42:14.084Z"
   },
   {
    "duration": 24,
    "start_time": "2023-08-23T11:42:14.103Z"
   },
   {
    "duration": 19,
    "start_time": "2023-08-23T11:42:14.131Z"
   },
   {
    "duration": 32,
    "start_time": "2023-08-23T11:42:14.151Z"
   },
   {
    "duration": 9,
    "start_time": "2023-08-23T11:42:14.185Z"
   },
   {
    "duration": 8,
    "start_time": "2023-08-23T11:42:14.196Z"
   },
   {
    "duration": 846,
    "start_time": "2023-08-23T11:42:14.206Z"
   },
   {
    "duration": 18,
    "start_time": "2023-08-23T11:42:15.054Z"
   },
   {
    "duration": 5,
    "start_time": "2023-08-23T11:42:15.081Z"
   },
   {
    "duration": 36,
    "start_time": "2023-08-23T11:42:15.087Z"
   },
   {
    "duration": 4,
    "start_time": "2023-08-23T11:42:15.134Z"
   },
   {
    "duration": 3637,
    "start_time": "2023-08-23T11:42:15.140Z"
   },
   {
    "duration": 4115,
    "start_time": "2023-08-23T11:42:18.780Z"
   },
   {
    "duration": 52,
    "start_time": "2023-08-23T11:42:22.898Z"
   },
   {
    "duration": 256,
    "start_time": "2023-08-23T11:42:22.962Z"
   },
   {
    "duration": 1627,
    "start_time": "2023-08-23T11:42:40.256Z"
   },
   {
    "duration": 1959,
    "start_time": "2023-08-23T11:42:41.927Z"
   },
   {
    "duration": 68,
    "start_time": "2023-08-23T11:42:43.888Z"
   },
   {
    "duration": 17,
    "start_time": "2023-08-23T11:42:43.961Z"
   },
   {
    "duration": 21,
    "start_time": "2023-08-23T11:42:43.980Z"
   },
   {
    "duration": 186,
    "start_time": "2023-08-23T11:42:44.004Z"
   },
   {
    "duration": 58,
    "start_time": "2023-08-23T11:42:44.192Z"
   },
   {
    "duration": 122,
    "start_time": "2023-08-23T11:42:44.259Z"
   },
   {
    "duration": 17,
    "start_time": "2023-08-23T11:42:44.383Z"
   },
   {
    "duration": 13,
    "start_time": "2023-08-23T11:42:44.403Z"
   },
   {
    "duration": 54,
    "start_time": "2023-08-23T11:42:44.418Z"
   },
   {
    "duration": 108,
    "start_time": "2023-08-23T11:42:44.474Z"
   },
   {
    "duration": 12,
    "start_time": "2023-08-23T11:42:44.584Z"
   },
   {
    "duration": 763,
    "start_time": "2023-08-23T11:42:44.601Z"
   },
   {
    "duration": 741,
    "start_time": "2023-08-23T11:42:45.366Z"
   },
   {
    "duration": 808,
    "start_time": "2023-08-23T11:42:46.110Z"
   },
   {
    "duration": 1146,
    "start_time": "2023-08-23T11:42:46.920Z"
   },
   {
    "duration": 677,
    "start_time": "2023-08-23T11:42:48.083Z"
   },
   {
    "duration": 8,
    "start_time": "2023-08-23T11:42:48.761Z"
   },
   {
    "duration": 629,
    "start_time": "2023-08-23T11:42:48.771Z"
   },
   {
    "duration": 9,
    "start_time": "2023-08-23T11:42:49.402Z"
   },
   {
    "duration": 56,
    "start_time": "2023-08-23T11:42:49.413Z"
   },
   {
    "duration": 11,
    "start_time": "2023-08-23T11:42:49.470Z"
   },
   {
    "duration": 11,
    "start_time": "2023-08-23T11:42:49.483Z"
   },
   {
    "duration": 38,
    "start_time": "2023-08-23T11:42:49.496Z"
   },
   {
    "duration": 20,
    "start_time": "2023-08-23T11:42:49.535Z"
   },
   {
    "duration": 27,
    "start_time": "2023-08-23T11:42:49.556Z"
   },
   {
    "duration": 26,
    "start_time": "2023-08-23T11:42:49.585Z"
   },
   {
    "duration": 8,
    "start_time": "2023-08-23T11:42:49.613Z"
   },
   {
    "duration": 19,
    "start_time": "2023-08-23T11:42:49.622Z"
   },
   {
    "duration": 766,
    "start_time": "2023-08-23T11:42:49.642Z"
   },
   {
    "duration": 20,
    "start_time": "2023-08-23T11:42:50.411Z"
   },
   {
    "duration": 5,
    "start_time": "2023-08-23T11:42:50.433Z"
   },
   {
    "duration": 14,
    "start_time": "2023-08-23T11:42:50.440Z"
   },
   {
    "duration": 15,
    "start_time": "2023-08-23T11:42:50.455Z"
   },
   {
    "duration": 3457,
    "start_time": "2023-08-23T11:42:50.472Z"
   },
   {
    "duration": 2199,
    "start_time": "2023-08-23T11:42:53.931Z"
   },
   {
    "duration": 12,
    "start_time": "2023-08-23T11:42:56.134Z"
   },
   {
    "duration": 300,
    "start_time": "2023-08-23T11:42:56.155Z"
   },
   {
    "duration": 1849,
    "start_time": "2023-08-23T11:44:24.421Z"
   },
   {
    "duration": 921,
    "start_time": "2023-08-23T11:44:26.277Z"
   },
   {
    "duration": 59,
    "start_time": "2023-08-23T11:44:27.200Z"
   },
   {
    "duration": 16,
    "start_time": "2023-08-23T11:44:27.261Z"
   },
   {
    "duration": 42,
    "start_time": "2023-08-23T11:44:27.282Z"
   },
   {
    "duration": 132,
    "start_time": "2023-08-23T11:44:27.332Z"
   },
   {
    "duration": 23,
    "start_time": "2023-08-23T11:44:27.466Z"
   },
   {
    "duration": 123,
    "start_time": "2023-08-23T11:44:27.491Z"
   },
   {
    "duration": 18,
    "start_time": "2023-08-23T11:44:27.616Z"
   },
   {
    "duration": 7,
    "start_time": "2023-08-23T11:44:27.635Z"
   },
   {
    "duration": 27,
    "start_time": "2023-08-23T11:44:27.644Z"
   },
   {
    "duration": 23,
    "start_time": "2023-08-23T11:44:27.677Z"
   },
   {
    "duration": 10,
    "start_time": "2023-08-23T11:44:27.702Z"
   },
   {
    "duration": 632,
    "start_time": "2023-08-23T11:44:27.716Z"
   },
   {
    "duration": 738,
    "start_time": "2023-08-23T11:44:28.350Z"
   },
   {
    "duration": 617,
    "start_time": "2023-08-23T11:44:29.090Z"
   },
   {
    "duration": 1022,
    "start_time": "2023-08-23T11:44:29.709Z"
   },
   {
    "duration": 601,
    "start_time": "2023-08-23T11:44:30.741Z"
   },
   {
    "duration": 8,
    "start_time": "2023-08-23T11:44:31.347Z"
   },
   {
    "duration": 662,
    "start_time": "2023-08-23T11:44:31.359Z"
   },
   {
    "duration": 32,
    "start_time": "2023-08-23T11:44:32.023Z"
   },
   {
    "duration": 50,
    "start_time": "2023-08-23T11:44:32.058Z"
   },
   {
    "duration": 13,
    "start_time": "2023-08-23T11:44:32.111Z"
   },
   {
    "duration": 25,
    "start_time": "2023-08-23T11:44:32.127Z"
   },
   {
    "duration": 33,
    "start_time": "2023-08-23T11:44:32.156Z"
   },
   {
    "duration": 10,
    "start_time": "2023-08-23T11:44:32.191Z"
   },
   {
    "duration": 11,
    "start_time": "2023-08-23T11:44:32.203Z"
   },
   {
    "duration": 41,
    "start_time": "2023-08-23T11:44:32.216Z"
   },
   {
    "duration": 15,
    "start_time": "2023-08-23T11:44:32.259Z"
   },
   {
    "duration": 9,
    "start_time": "2023-08-23T11:44:32.277Z"
   },
   {
    "duration": 802,
    "start_time": "2023-08-23T11:44:32.288Z"
   },
   {
    "duration": 4,
    "start_time": "2023-08-23T11:44:33.092Z"
   },
   {
    "duration": 6,
    "start_time": "2023-08-23T11:44:33.099Z"
   },
   {
    "duration": 35,
    "start_time": "2023-08-23T11:44:33.107Z"
   },
   {
    "duration": 12,
    "start_time": "2023-08-23T11:44:33.144Z"
   },
   {
    "duration": 4461,
    "start_time": "2023-08-23T11:44:33.164Z"
   },
   {
    "duration": 3431,
    "start_time": "2023-08-23T11:44:37.632Z"
   },
   {
    "duration": 59,
    "start_time": "2023-08-23T11:44:41.070Z"
   },
   {
    "duration": 289,
    "start_time": "2023-08-23T11:44:41.131Z"
   },
   {
    "duration": 1450,
    "start_time": "2023-08-23T11:44:56.058Z"
   },
   {
    "duration": 841,
    "start_time": "2023-08-23T11:44:57.511Z"
   },
   {
    "duration": 39,
    "start_time": "2023-08-23T11:44:58.359Z"
   },
   {
    "duration": 13,
    "start_time": "2023-08-23T11:44:58.399Z"
   },
   {
    "duration": 38,
    "start_time": "2023-08-23T11:44:58.414Z"
   },
   {
    "duration": 125,
    "start_time": "2023-08-23T11:44:58.457Z"
   },
   {
    "duration": 19,
    "start_time": "2023-08-23T11:44:58.584Z"
   },
   {
    "duration": 144,
    "start_time": "2023-08-23T11:44:58.605Z"
   },
   {
    "duration": 10,
    "start_time": "2023-08-23T11:44:58.751Z"
   },
   {
    "duration": 11,
    "start_time": "2023-08-23T11:44:58.762Z"
   },
   {
    "duration": 26,
    "start_time": "2023-08-23T11:44:58.775Z"
   },
   {
    "duration": 61,
    "start_time": "2023-08-23T11:44:58.803Z"
   },
   {
    "duration": 10,
    "start_time": "2023-08-23T11:44:58.865Z"
   },
   {
    "duration": 618,
    "start_time": "2023-08-23T11:44:58.878Z"
   },
   {
    "duration": 691,
    "start_time": "2023-08-23T11:44:59.498Z"
   },
   {
    "duration": 659,
    "start_time": "2023-08-23T11:45:00.191Z"
   },
   {
    "duration": 1012,
    "start_time": "2023-08-23T11:45:00.853Z"
   },
   {
    "duration": 687,
    "start_time": "2023-08-23T11:45:01.868Z"
   },
   {
    "duration": 7,
    "start_time": "2023-08-23T11:45:02.558Z"
   },
   {
    "duration": 693,
    "start_time": "2023-08-23T11:45:02.566Z"
   },
   {
    "duration": 10,
    "start_time": "2023-08-23T11:45:03.261Z"
   },
   {
    "duration": 30,
    "start_time": "2023-08-23T11:45:03.273Z"
   },
   {
    "duration": 12,
    "start_time": "2023-08-23T11:45:03.326Z"
   },
   {
    "duration": 12,
    "start_time": "2023-08-23T11:45:03.340Z"
   },
   {
    "duration": 29,
    "start_time": "2023-08-23T11:45:03.353Z"
   },
   {
    "duration": 9,
    "start_time": "2023-08-23T11:45:03.383Z"
   },
   {
    "duration": 16,
    "start_time": "2023-08-23T11:45:03.393Z"
   },
   {
    "duration": 26,
    "start_time": "2023-08-23T11:45:03.428Z"
   },
   {
    "duration": 9,
    "start_time": "2023-08-23T11:45:03.456Z"
   },
   {
    "duration": 7,
    "start_time": "2023-08-23T11:45:03.467Z"
   },
   {
    "duration": 768,
    "start_time": "2023-08-23T11:45:03.476Z"
   },
   {
    "duration": 4,
    "start_time": "2023-08-23T11:45:04.250Z"
   },
   {
    "duration": 33,
    "start_time": "2023-08-23T11:45:04.256Z"
   },
   {
    "duration": 24,
    "start_time": "2023-08-23T11:45:04.291Z"
   },
   {
    "duration": 28,
    "start_time": "2023-08-23T11:45:04.318Z"
   },
   {
    "duration": 3605,
    "start_time": "2023-08-23T11:45:04.347Z"
   },
   {
    "duration": 2273,
    "start_time": "2023-08-23T11:45:07.957Z"
   },
   {
    "duration": 3,
    "start_time": "2023-08-23T11:45:10.233Z"
   },
   {
    "duration": 56342,
    "start_time": "2023-08-23T11:45:10.238Z"
   },
   {
    "duration": 1602,
    "start_time": "2023-08-23T12:46:44.938Z"
   },
   {
    "duration": 790,
    "start_time": "2023-08-23T12:46:46.542Z"
   },
   {
    "duration": 41,
    "start_time": "2023-08-23T12:46:47.338Z"
   },
   {
    "duration": 14,
    "start_time": "2023-08-23T12:46:47.381Z"
   },
   {
    "duration": 32,
    "start_time": "2023-08-23T12:46:47.397Z"
   },
   {
    "duration": 139,
    "start_time": "2023-08-23T12:46:47.431Z"
   },
   {
    "duration": 20,
    "start_time": "2023-08-23T12:46:47.572Z"
   },
   {
    "duration": 109,
    "start_time": "2023-08-23T12:46:47.594Z"
   },
   {
    "duration": 9,
    "start_time": "2023-08-23T12:46:47.704Z"
   },
   {
    "duration": 9,
    "start_time": "2023-08-23T12:46:47.733Z"
   },
   {
    "duration": 22,
    "start_time": "2023-08-23T12:46:47.744Z"
   },
   {
    "duration": 25,
    "start_time": "2023-08-23T12:46:47.768Z"
   },
   {
    "duration": 10,
    "start_time": "2023-08-23T12:46:47.794Z"
   },
   {
    "duration": 579,
    "start_time": "2023-08-23T12:46:47.808Z"
   },
   {
    "duration": 650,
    "start_time": "2023-08-23T12:46:48.389Z"
   },
   {
    "duration": 560,
    "start_time": "2023-08-23T12:46:49.041Z"
   },
   {
    "duration": 969,
    "start_time": "2023-08-23T12:46:49.603Z"
   },
   {
    "duration": 609,
    "start_time": "2023-08-23T12:46:50.574Z"
   },
   {
    "duration": 6,
    "start_time": "2023-08-23T12:46:51.185Z"
   },
   {
    "duration": 597,
    "start_time": "2023-08-23T12:46:51.193Z"
   },
   {
    "duration": 9,
    "start_time": "2023-08-23T12:46:51.792Z"
   },
   {
    "duration": 45,
    "start_time": "2023-08-23T12:46:51.803Z"
   },
   {
    "duration": 25,
    "start_time": "2023-08-23T12:46:51.850Z"
   },
   {
    "duration": 33,
    "start_time": "2023-08-23T12:46:51.877Z"
   },
   {
    "duration": 29,
    "start_time": "2023-08-23T12:46:51.912Z"
   },
   {
    "duration": 36,
    "start_time": "2023-08-23T12:46:51.943Z"
   },
   {
    "duration": 60,
    "start_time": "2023-08-23T12:46:51.981Z"
   },
   {
    "duration": 48,
    "start_time": "2023-08-23T12:46:52.042Z"
   },
   {
    "duration": 54,
    "start_time": "2023-08-23T12:46:52.092Z"
   },
   {
    "duration": 46,
    "start_time": "2023-08-23T12:46:52.147Z"
   },
   {
    "duration": 706,
    "start_time": "2023-08-23T12:46:52.195Z"
   },
   {
    "duration": 4,
    "start_time": "2023-08-23T12:46:52.903Z"
   },
   {
    "duration": 18,
    "start_time": "2023-08-23T12:46:52.908Z"
   },
   {
    "duration": 12,
    "start_time": "2023-08-23T12:46:52.928Z"
   },
   {
    "duration": 9,
    "start_time": "2023-08-23T12:46:52.941Z"
   },
   {
    "duration": 1692,
    "start_time": "2023-08-23T12:46:52.951Z"
   },
   {
    "duration": 2296,
    "start_time": "2023-08-23T12:46:54.646Z"
   },
   {
    "duration": 5,
    "start_time": "2023-08-23T12:46:56.944Z"
   },
   {
    "duration": 56256,
    "start_time": "2023-08-23T12:46:57.032Z"
   },
   {
    "duration": 1455,
    "start_time": "2023-08-23T12:51:13.587Z"
   },
   {
    "duration": 5,
    "start_time": "2023-08-23T12:51:46.241Z"
   },
   {
    "duration": 855,
    "start_time": "2023-08-23T12:51:46.249Z"
   },
   {
    "duration": 49,
    "start_time": "2023-08-23T12:51:47.105Z"
   },
   {
    "duration": 11,
    "start_time": "2023-08-23T12:51:47.156Z"
   },
   {
    "duration": 16,
    "start_time": "2023-08-23T12:51:47.169Z"
   },
   {
    "duration": 153,
    "start_time": "2023-08-23T12:51:47.187Z"
   },
   {
    "duration": 32,
    "start_time": "2023-08-23T12:51:47.342Z"
   },
   {
    "duration": 112,
    "start_time": "2023-08-23T12:51:47.376Z"
   },
   {
    "duration": 10,
    "start_time": "2023-08-23T12:51:47.490Z"
   },
   {
    "duration": 42,
    "start_time": "2023-08-23T12:51:47.501Z"
   },
   {
    "duration": 45,
    "start_time": "2023-08-23T12:51:47.544Z"
   },
   {
    "duration": 45,
    "start_time": "2023-08-23T12:51:47.591Z"
   },
   {
    "duration": 10,
    "start_time": "2023-08-23T12:51:47.638Z"
   },
   {
    "duration": 601,
    "start_time": "2023-08-23T12:51:47.652Z"
   },
   {
    "duration": 549,
    "start_time": "2023-08-23T12:51:48.255Z"
   },
   {
    "duration": 672,
    "start_time": "2023-08-23T12:51:48.805Z"
   },
   {
    "duration": 966,
    "start_time": "2023-08-23T12:51:49.479Z"
   },
   {
    "duration": 1494,
    "start_time": "2023-08-23T12:51:50.446Z"
   },
   {
    "duration": 7,
    "start_time": "2023-08-23T12:51:51.942Z"
   },
   {
    "duration": 1291,
    "start_time": "2023-08-23T12:51:51.950Z"
   },
   {
    "duration": 11,
    "start_time": "2023-08-23T12:51:53.243Z"
   },
   {
    "duration": 100,
    "start_time": "2023-08-23T12:51:53.255Z"
   },
   {
    "duration": 9,
    "start_time": "2023-08-23T12:51:53.356Z"
   },
   {
    "duration": 64,
    "start_time": "2023-08-23T12:51:53.366Z"
   },
   {
    "duration": 21,
    "start_time": "2023-08-23T12:51:53.433Z"
   },
   {
    "duration": 8,
    "start_time": "2023-08-23T12:51:53.456Z"
   },
   {
    "duration": 67,
    "start_time": "2023-08-23T12:51:53.466Z"
   },
   {
    "duration": 22,
    "start_time": "2023-08-23T12:51:53.534Z"
   },
   {
    "duration": 8,
    "start_time": "2023-08-23T12:51:53.558Z"
   },
   {
    "duration": 59,
    "start_time": "2023-08-23T12:51:53.568Z"
   },
   {
    "duration": 1231,
    "start_time": "2023-08-23T12:51:53.630Z"
   },
   {
    "duration": 87,
    "start_time": "2023-08-23T12:51:54.863Z"
   },
   {
    "duration": 2,
    "start_time": "2023-08-23T12:51:54.952Z"
   },
   {
    "duration": 80,
    "start_time": "2023-08-23T12:51:54.956Z"
   },
   {
    "duration": 23,
    "start_time": "2023-08-23T12:51:55.038Z"
   },
   {
    "duration": 2879,
    "start_time": "2023-08-23T12:51:55.063Z"
   },
   {
    "duration": 2284,
    "start_time": "2023-08-23T12:51:57.946Z"
   },
   {
    "duration": 4,
    "start_time": "2023-08-23T12:52:00.232Z"
   },
   {
    "duration": 54334,
    "start_time": "2023-08-23T12:52:00.238Z"
   },
   {
    "duration": 1408,
    "start_time": "2023-08-23T12:57:35.212Z"
   },
   {
    "duration": 4,
    "start_time": "2023-08-23T12:58:11.375Z"
   },
   {
    "duration": 3,
    "start_time": "2023-08-23T13:00:05.774Z"
   },
   {
    "duration": 1045,
    "start_time": "2023-08-23T13:00:05.779Z"
   },
   {
    "duration": 41,
    "start_time": "2023-08-23T13:00:06.826Z"
   },
   {
    "duration": 91,
    "start_time": "2023-08-23T13:00:06.869Z"
   },
   {
    "duration": 35,
    "start_time": "2023-08-23T13:00:06.963Z"
   },
   {
    "duration": 298,
    "start_time": "2023-08-23T13:00:07.001Z"
   },
   {
    "duration": 41,
    "start_time": "2023-08-23T13:00:07.301Z"
   },
   {
    "duration": 235,
    "start_time": "2023-08-23T13:00:07.345Z"
   },
   {
    "duration": 9,
    "start_time": "2023-08-23T13:00:07.582Z"
   },
   {
    "duration": 159,
    "start_time": "2023-08-23T13:00:07.594Z"
   },
   {
    "duration": 257,
    "start_time": "2023-08-23T13:00:07.756Z"
   },
   {
    "duration": 41,
    "start_time": "2023-08-23T13:00:08.014Z"
   },
   {
    "duration": 18,
    "start_time": "2023-08-23T13:00:08.057Z"
   },
   {
    "duration": 606,
    "start_time": "2023-08-23T13:00:08.079Z"
   },
   {
    "duration": 662,
    "start_time": "2023-08-23T13:00:08.687Z"
   },
   {
    "duration": 582,
    "start_time": "2023-08-23T13:00:09.351Z"
   },
   {
    "duration": 1062,
    "start_time": "2023-08-23T13:00:09.935Z"
   },
   {
    "duration": 560,
    "start_time": "2023-08-23T13:00:10.999Z"
   },
   {
    "duration": 7,
    "start_time": "2023-08-23T13:00:11.561Z"
   },
   {
    "duration": 622,
    "start_time": "2023-08-23T13:00:11.570Z"
   },
   {
    "duration": 11,
    "start_time": "2023-08-23T13:00:12.194Z"
   },
   {
    "duration": 57,
    "start_time": "2023-08-23T13:00:12.207Z"
   },
   {
    "duration": 40,
    "start_time": "2023-08-23T13:00:12.269Z"
   },
   {
    "duration": 13,
    "start_time": "2023-08-23T13:00:12.311Z"
   },
   {
    "duration": 27,
    "start_time": "2023-08-23T13:00:12.326Z"
   },
   {
    "duration": 63,
    "start_time": "2023-08-23T13:00:12.355Z"
   },
   {
    "duration": 39,
    "start_time": "2023-08-23T13:00:12.420Z"
   },
   {
    "duration": 22,
    "start_time": "2023-08-23T13:00:12.461Z"
   },
   {
    "duration": 9,
    "start_time": "2023-08-23T13:00:12.485Z"
   },
   {
    "duration": 13,
    "start_time": "2023-08-23T13:00:12.495Z"
   },
   {
    "duration": 737,
    "start_time": "2023-08-23T13:00:12.509Z"
   },
   {
    "duration": 3,
    "start_time": "2023-08-23T13:00:13.248Z"
   },
   {
    "duration": 5,
    "start_time": "2023-08-23T13:00:13.253Z"
   },
   {
    "duration": 11,
    "start_time": "2023-08-23T13:00:13.260Z"
   },
   {
    "duration": 6,
    "start_time": "2023-08-23T13:00:13.273Z"
   },
   {
    "duration": 1546,
    "start_time": "2023-08-23T13:00:13.281Z"
   },
   {
    "duration": 4101,
    "start_time": "2023-08-23T13:00:14.832Z"
   },
   {
    "duration": 89,
    "start_time": "2023-08-23T13:00:18.936Z"
   },
   {
    "duration": 245,
    "start_time": "2023-08-23T13:00:19.028Z"
   },
   {
    "duration": 100,
    "start_time": "2023-08-23T13:00:19.276Z"
   },
   {
    "duration": 5,
    "start_time": "2023-08-23T13:00:29.922Z"
   },
   {
    "duration": 6,
    "start_time": "2023-08-23T13:00:48.453Z"
   },
   {
    "duration": 834,
    "start_time": "2023-08-23T13:00:48.463Z"
   },
   {
    "duration": 43,
    "start_time": "2023-08-23T13:00:49.299Z"
   },
   {
    "duration": 17,
    "start_time": "2023-08-23T13:00:49.344Z"
   },
   {
    "duration": 64,
    "start_time": "2023-08-23T13:00:49.363Z"
   },
   {
    "duration": 153,
    "start_time": "2023-08-23T13:00:49.430Z"
   },
   {
    "duration": 21,
    "start_time": "2023-08-23T13:00:49.585Z"
   },
   {
    "duration": 132,
    "start_time": "2023-08-23T13:00:49.608Z"
   },
   {
    "duration": 21,
    "start_time": "2023-08-23T13:00:49.743Z"
   },
   {
    "duration": 10,
    "start_time": "2023-08-23T13:00:49.767Z"
   },
   {
    "duration": 37,
    "start_time": "2023-08-23T13:00:49.779Z"
   },
   {
    "duration": 42,
    "start_time": "2023-08-23T13:00:49.818Z"
   },
   {
    "duration": 13,
    "start_time": "2023-08-23T13:00:49.862Z"
   },
   {
    "duration": 817,
    "start_time": "2023-08-23T13:00:49.879Z"
   },
   {
    "duration": 740,
    "start_time": "2023-08-23T13:00:50.698Z"
   },
   {
    "duration": 642,
    "start_time": "2023-08-23T13:00:51.441Z"
   },
   {
    "duration": 993,
    "start_time": "2023-08-23T13:00:52.085Z"
   },
   {
    "duration": 631,
    "start_time": "2023-08-23T13:00:53.080Z"
   },
   {
    "duration": 17,
    "start_time": "2023-08-23T13:00:53.714Z"
   },
   {
    "duration": 683,
    "start_time": "2023-08-23T13:00:53.733Z"
   },
   {
    "duration": 14,
    "start_time": "2023-08-23T13:00:54.418Z"
   },
   {
    "duration": 36,
    "start_time": "2023-08-23T13:00:54.437Z"
   },
   {
    "duration": 23,
    "start_time": "2023-08-23T13:00:54.476Z"
   },
   {
    "duration": 23,
    "start_time": "2023-08-23T13:00:54.501Z"
   },
   {
    "duration": 33,
    "start_time": "2023-08-23T13:00:54.527Z"
   },
   {
    "duration": 10,
    "start_time": "2023-08-23T13:00:54.563Z"
   },
   {
    "duration": 12,
    "start_time": "2023-08-23T13:00:54.576Z"
   },
   {
    "duration": 28,
    "start_time": "2023-08-23T13:00:54.624Z"
   },
   {
    "duration": 14,
    "start_time": "2023-08-23T13:00:54.655Z"
   },
   {
    "duration": 13,
    "start_time": "2023-08-23T13:00:54.671Z"
   },
   {
    "duration": 959,
    "start_time": "2023-08-23T13:00:54.687Z"
   },
   {
    "duration": 4,
    "start_time": "2023-08-23T13:00:55.649Z"
   },
   {
    "duration": 57,
    "start_time": "2023-08-23T13:00:55.655Z"
   },
   {
    "duration": 35,
    "start_time": "2023-08-23T13:00:55.714Z"
   },
   {
    "duration": 69,
    "start_time": "2023-08-23T13:00:55.751Z"
   },
   {
    "duration": 1505,
    "start_time": "2023-08-23T13:00:55.823Z"
   },
   {
    "duration": 1798,
    "start_time": "2023-08-23T13:00:57.333Z"
   },
   {
    "duration": 9,
    "start_time": "2023-08-23T13:00:59.134Z"
   },
   {
    "duration": 273,
    "start_time": "2023-08-23T13:00:59.146Z"
   },
   {
    "duration": 200,
    "start_time": "2023-08-23T13:00:59.421Z"
   },
   {
    "duration": 6003,
    "start_time": "2023-08-23T13:01:56.287Z"
   },
   {
    "duration": 1752,
    "start_time": "2023-08-23T13:06:07.974Z"
   },
   {
    "duration": 1826,
    "start_time": "2023-08-23T13:06:09.729Z"
   },
   {
    "duration": 44,
    "start_time": "2023-08-23T13:06:11.557Z"
   },
   {
    "duration": 32,
    "start_time": "2023-08-23T13:06:11.603Z"
   },
   {
    "duration": 18,
    "start_time": "2023-08-23T13:06:11.638Z"
   },
   {
    "duration": 155,
    "start_time": "2023-08-23T13:06:11.658Z"
   },
   {
    "duration": 32,
    "start_time": "2023-08-23T13:06:11.815Z"
   },
   {
    "duration": 116,
    "start_time": "2023-08-23T13:06:11.849Z"
   },
   {
    "duration": 9,
    "start_time": "2023-08-23T13:06:11.967Z"
   },
   {
    "duration": 7,
    "start_time": "2023-08-23T13:06:11.978Z"
   },
   {
    "duration": 41,
    "start_time": "2023-08-23T13:06:11.987Z"
   },
   {
    "duration": 29,
    "start_time": "2023-08-23T13:06:12.029Z"
   },
   {
    "duration": 13,
    "start_time": "2023-08-23T13:06:12.060Z"
   },
   {
    "duration": 654,
    "start_time": "2023-08-23T13:06:12.078Z"
   },
   {
    "duration": 703,
    "start_time": "2023-08-23T13:06:12.734Z"
   },
   {
    "duration": 637,
    "start_time": "2023-08-23T13:06:13.439Z"
   },
   {
    "duration": 966,
    "start_time": "2023-08-23T13:06:14.078Z"
   },
   {
    "duration": 622,
    "start_time": "2023-08-23T13:06:15.047Z"
   },
   {
    "duration": 9,
    "start_time": "2023-08-23T13:06:15.672Z"
   },
   {
    "duration": 764,
    "start_time": "2023-08-23T13:06:15.683Z"
   },
   {
    "duration": 15,
    "start_time": "2023-08-23T13:06:16.450Z"
   },
   {
    "duration": 56,
    "start_time": "2023-08-23T13:06:16.468Z"
   },
   {
    "duration": 12,
    "start_time": "2023-08-23T13:06:16.527Z"
   },
   {
    "duration": 13,
    "start_time": "2023-08-23T13:06:16.541Z"
   },
   {
    "duration": 27,
    "start_time": "2023-08-23T13:06:16.557Z"
   },
   {
    "duration": 46,
    "start_time": "2023-08-23T13:06:16.586Z"
   },
   {
    "duration": 10,
    "start_time": "2023-08-23T13:06:16.635Z"
   },
   {
    "duration": 26,
    "start_time": "2023-08-23T13:06:16.647Z"
   },
   {
    "duration": 11,
    "start_time": "2023-08-23T13:06:16.676Z"
   },
   {
    "duration": 37,
    "start_time": "2023-08-23T13:06:16.689Z"
   },
   {
    "duration": 731,
    "start_time": "2023-08-23T13:06:16.729Z"
   },
   {
    "duration": 6,
    "start_time": "2023-08-23T13:06:17.462Z"
   },
   {
    "duration": 7,
    "start_time": "2023-08-23T13:06:17.470Z"
   },
   {
    "duration": 12,
    "start_time": "2023-08-23T13:06:17.479Z"
   },
   {
    "duration": 16,
    "start_time": "2023-08-23T13:06:17.493Z"
   },
   {
    "duration": 1619,
    "start_time": "2023-08-23T13:06:17.511Z"
   },
   {
    "duration": 2109,
    "start_time": "2023-08-23T13:06:19.132Z"
   },
   {
    "duration": 5,
    "start_time": "2023-08-23T13:06:21.243Z"
   },
   {
    "duration": 5738,
    "start_time": "2023-08-23T13:06:21.325Z"
   },
   {
    "duration": 1452,
    "start_time": "2023-08-23T13:07:47.025Z"
   },
   {
    "duration": 774,
    "start_time": "2023-08-23T13:07:48.480Z"
   },
   {
    "duration": 55,
    "start_time": "2023-08-23T13:07:49.256Z"
   },
   {
    "duration": 15,
    "start_time": "2023-08-23T13:07:49.324Z"
   },
   {
    "duration": 21,
    "start_time": "2023-08-23T13:07:49.341Z"
   },
   {
    "duration": 139,
    "start_time": "2023-08-23T13:07:49.365Z"
   },
   {
    "duration": 31,
    "start_time": "2023-08-23T13:07:49.507Z"
   },
   {
    "duration": 108,
    "start_time": "2023-08-23T13:07:49.540Z"
   },
   {
    "duration": 13,
    "start_time": "2023-08-23T13:07:49.650Z"
   },
   {
    "duration": 9,
    "start_time": "2023-08-23T13:07:49.665Z"
   },
   {
    "duration": 12,
    "start_time": "2023-08-23T13:07:49.676Z"
   },
   {
    "duration": 53,
    "start_time": "2023-08-23T13:07:49.690Z"
   },
   {
    "duration": 9,
    "start_time": "2023-08-23T13:07:49.745Z"
   },
   {
    "duration": 578,
    "start_time": "2023-08-23T13:07:49.757Z"
   },
   {
    "duration": 649,
    "start_time": "2023-08-23T13:07:50.337Z"
   },
   {
    "duration": 563,
    "start_time": "2023-08-23T13:07:50.988Z"
   },
   {
    "duration": 946,
    "start_time": "2023-08-23T13:07:51.553Z"
   },
   {
    "duration": 580,
    "start_time": "2023-08-23T13:07:52.500Z"
   },
   {
    "duration": 9,
    "start_time": "2023-08-23T13:07:53.082Z"
   },
   {
    "duration": 584,
    "start_time": "2023-08-23T13:07:53.092Z"
   },
   {
    "duration": 13,
    "start_time": "2023-08-23T13:07:53.678Z"
   },
   {
    "duration": 57,
    "start_time": "2023-08-23T13:07:53.693Z"
   },
   {
    "duration": 11,
    "start_time": "2023-08-23T13:07:53.753Z"
   },
   {
    "duration": 12,
    "start_time": "2023-08-23T13:07:53.767Z"
   },
   {
    "duration": 43,
    "start_time": "2023-08-23T13:07:53.781Z"
   },
   {
    "duration": 9,
    "start_time": "2023-08-23T13:07:53.826Z"
   },
   {
    "duration": 20,
    "start_time": "2023-08-23T13:07:53.837Z"
   },
   {
    "duration": 31,
    "start_time": "2023-08-23T13:07:53.858Z"
   },
   {
    "duration": 8,
    "start_time": "2023-08-23T13:07:53.891Z"
   },
   {
    "duration": 26,
    "start_time": "2023-08-23T13:07:53.901Z"
   },
   {
    "duration": 781,
    "start_time": "2023-08-23T13:07:53.929Z"
   },
   {
    "duration": 4,
    "start_time": "2023-08-23T13:07:54.712Z"
   },
   {
    "duration": 3,
    "start_time": "2023-08-23T13:07:54.725Z"
   },
   {
    "duration": 16,
    "start_time": "2023-08-23T13:07:54.730Z"
   },
   {
    "duration": 7,
    "start_time": "2023-08-23T13:07:54.748Z"
   },
   {
    "duration": 1574,
    "start_time": "2023-08-23T13:07:54.756Z"
   },
   {
    "duration": 1493,
    "start_time": "2023-08-23T13:07:56.332Z"
   },
   {
    "duration": 5,
    "start_time": "2023-08-23T13:07:57.827Z"
   },
   {
    "duration": 5772,
    "start_time": "2023-08-23T13:07:57.836Z"
   },
   {
    "duration": 489947,
    "start_time": "2023-08-23T13:08:03.610Z"
   },
   {
    "duration": 1496,
    "start_time": "2023-08-23T13:16:44.545Z"
   },
   {
    "duration": 1215,
    "start_time": "2023-08-23T13:16:46.045Z"
   },
   {
    "duration": 98,
    "start_time": "2023-08-23T13:16:47.261Z"
   },
   {
    "duration": 71,
    "start_time": "2023-08-23T13:16:47.360Z"
   },
   {
    "duration": 25,
    "start_time": "2023-08-23T13:16:47.433Z"
   },
   {
    "duration": 287,
    "start_time": "2023-08-23T13:16:47.459Z"
   },
   {
    "duration": 84,
    "start_time": "2023-08-23T13:16:47.748Z"
   },
   {
    "duration": 212,
    "start_time": "2023-08-23T13:16:47.834Z"
   },
   {
    "duration": 12,
    "start_time": "2023-08-23T13:16:48.049Z"
   },
   {
    "duration": 8,
    "start_time": "2023-08-23T13:16:48.063Z"
   },
   {
    "duration": 15,
    "start_time": "2023-08-23T13:16:48.130Z"
   },
   {
    "duration": 85,
    "start_time": "2023-08-23T13:16:48.147Z"
   },
   {
    "duration": 10,
    "start_time": "2023-08-23T13:16:48.241Z"
   },
   {
    "duration": 994,
    "start_time": "2023-08-23T13:16:48.254Z"
   },
   {
    "duration": 660,
    "start_time": "2023-08-23T13:16:49.250Z"
   },
   {
    "duration": 651,
    "start_time": "2023-08-23T13:16:49.912Z"
   },
   {
    "duration": 975,
    "start_time": "2023-08-23T13:16:50.565Z"
   },
   {
    "duration": 626,
    "start_time": "2023-08-23T13:16:51.542Z"
   },
   {
    "duration": 7,
    "start_time": "2023-08-23T13:16:52.169Z"
   },
   {
    "duration": 616,
    "start_time": "2023-08-23T13:16:52.178Z"
   },
   {
    "duration": 11,
    "start_time": "2023-08-23T13:16:52.795Z"
   },
   {
    "duration": 76,
    "start_time": "2023-08-23T13:16:52.807Z"
   },
   {
    "duration": 9,
    "start_time": "2023-08-23T13:16:52.886Z"
   },
   {
    "duration": 33,
    "start_time": "2023-08-23T13:16:52.897Z"
   },
   {
    "duration": 29,
    "start_time": "2023-08-23T13:16:52.933Z"
   },
   {
    "duration": 15,
    "start_time": "2023-08-23T13:16:52.964Z"
   },
   {
    "duration": 12,
    "start_time": "2023-08-23T13:16:52.981Z"
   },
   {
    "duration": 51,
    "start_time": "2023-08-23T13:16:52.995Z"
   },
   {
    "duration": 11,
    "start_time": "2023-08-23T13:16:53.049Z"
   },
   {
    "duration": 51,
    "start_time": "2023-08-23T13:16:53.061Z"
   },
   {
    "duration": 742,
    "start_time": "2023-08-23T13:16:53.114Z"
   },
   {
    "duration": 4,
    "start_time": "2023-08-23T13:16:53.857Z"
   },
   {
    "duration": 8,
    "start_time": "2023-08-23T13:16:53.863Z"
   },
   {
    "duration": 9,
    "start_time": "2023-08-23T13:16:53.873Z"
   },
   {
    "duration": 5,
    "start_time": "2023-08-23T13:16:53.884Z"
   },
   {
    "duration": 2167,
    "start_time": "2023-08-23T13:16:53.890Z"
   },
   {
    "duration": 2507,
    "start_time": "2023-08-23T13:16:56.139Z"
   },
   {
    "duration": 80,
    "start_time": "2023-08-23T13:16:58.651Z"
   },
   {
    "duration": 5957,
    "start_time": "2023-08-23T13:16:58.737Z"
   },
   {
    "duration": 475559,
    "start_time": "2023-08-23T13:17:04.695Z"
   },
   {
    "duration": 13,
    "start_time": "2023-08-23T13:31:00.345Z"
   },
   {
    "duration": 128,
    "start_time": "2023-08-23T13:33:30.247Z"
   },
   {
    "duration": 10,
    "start_time": "2023-08-23T13:33:37.376Z"
   },
   {
    "duration": 10,
    "start_time": "2023-08-23T13:33:49.739Z"
   },
   {
    "duration": 10,
    "start_time": "2023-08-23T13:34:55.572Z"
   },
   {
    "duration": 10,
    "start_time": "2023-08-23T13:35:18.536Z"
   },
   {
    "duration": 5,
    "start_time": "2023-08-23T13:36:30.479Z"
   },
   {
    "duration": 3,
    "start_time": "2023-08-23T13:38:10.219Z"
   },
   {
    "duration": 816,
    "start_time": "2023-08-23T13:38:10.225Z"
   },
   {
    "duration": 33,
    "start_time": "2023-08-23T13:38:11.042Z"
   },
   {
    "duration": 11,
    "start_time": "2023-08-23T13:38:11.077Z"
   },
   {
    "duration": 45,
    "start_time": "2023-08-23T13:38:11.090Z"
   },
   {
    "duration": 119,
    "start_time": "2023-08-23T13:38:11.136Z"
   },
   {
    "duration": 19,
    "start_time": "2023-08-23T13:38:11.256Z"
   },
   {
    "duration": 105,
    "start_time": "2023-08-23T13:38:11.277Z"
   },
   {
    "duration": 11,
    "start_time": "2023-08-23T13:38:11.384Z"
   },
   {
    "duration": 7,
    "start_time": "2023-08-23T13:38:11.397Z"
   },
   {
    "duration": 34,
    "start_time": "2023-08-23T13:38:11.405Z"
   },
   {
    "duration": 23,
    "start_time": "2023-08-23T13:38:11.440Z"
   },
   {
    "duration": 8,
    "start_time": "2023-08-23T13:38:11.465Z"
   },
   {
    "duration": 564,
    "start_time": "2023-08-23T13:38:11.476Z"
   },
   {
    "duration": 652,
    "start_time": "2023-08-23T13:38:12.041Z"
   },
   {
    "duration": 536,
    "start_time": "2023-08-23T13:38:12.695Z"
   },
   {
    "duration": 919,
    "start_time": "2023-08-23T13:38:13.233Z"
   },
   {
    "duration": 554,
    "start_time": "2023-08-23T13:38:14.154Z"
   },
   {
    "duration": 7,
    "start_time": "2023-08-23T13:38:14.709Z"
   },
   {
    "duration": 546,
    "start_time": "2023-08-23T13:38:14.729Z"
   },
   {
    "duration": 10,
    "start_time": "2023-08-23T13:38:15.277Z"
   },
   {
    "duration": 49,
    "start_time": "2023-08-23T13:38:15.288Z"
   },
   {
    "duration": 12,
    "start_time": "2023-08-23T13:38:15.339Z"
   },
   {
    "duration": 27,
    "start_time": "2023-08-23T13:38:15.352Z"
   },
   {
    "duration": 69,
    "start_time": "2023-08-23T13:38:15.381Z"
   },
   {
    "duration": 33,
    "start_time": "2023-08-23T13:38:15.452Z"
   },
   {
    "duration": 44,
    "start_time": "2023-08-23T13:38:15.487Z"
   },
   {
    "duration": 20,
    "start_time": "2023-08-23T13:38:15.537Z"
   },
   {
    "duration": 8,
    "start_time": "2023-08-23T13:38:15.558Z"
   },
   {
    "duration": 21,
    "start_time": "2023-08-23T13:38:15.568Z"
   },
   {
    "duration": 706,
    "start_time": "2023-08-23T13:38:15.591Z"
   },
   {
    "duration": 3,
    "start_time": "2023-08-23T13:38:16.299Z"
   },
   {
    "duration": 117,
    "start_time": "2023-08-23T13:38:16.303Z"
   },
   {
    "duration": 20,
    "start_time": "2023-08-23T13:38:16.422Z"
   },
   {
    "duration": 21,
    "start_time": "2023-08-23T13:38:16.444Z"
   },
   {
    "duration": 2166,
    "start_time": "2023-08-23T13:38:16.467Z"
   },
   {
    "duration": 2186,
    "start_time": "2023-08-23T13:38:18.642Z"
   },
   {
    "duration": 9,
    "start_time": "2023-08-23T13:38:20.839Z"
   },
   {
    "duration": 5711,
    "start_time": "2023-08-23T13:38:20.851Z"
   },
   {
    "duration": 3669904,
    "start_time": "2023-08-23T13:38:26.564Z"
   },
   {
    "duration": 10,
    "start_time": "2023-08-23T14:39:36.472Z"
   },
   {
    "duration": 111,
    "start_time": "2023-08-23T14:39:36.483Z"
   },
   {
    "duration": 7,
    "start_time": "2023-08-23T14:41:45.622Z"
   },
   {
    "duration": 11,
    "start_time": "2023-08-23T14:42:02.844Z"
   },
   {
    "duration": 32282,
    "start_time": "2023-08-23T14:47:21.597Z"
   },
   {
    "duration": 34040,
    "start_time": "2023-08-23T14:49:13.855Z"
   },
   {
    "duration": 16,
    "start_time": "2023-08-23T14:50:09.188Z"
   },
   {
    "duration": 10,
    "start_time": "2023-08-23T14:50:17.667Z"
   },
   {
    "duration": 16,
    "start_time": "2023-08-23T14:50:28.920Z"
   },
   {
    "duration": 10,
    "start_time": "2023-08-23T14:51:11.372Z"
   },
   {
    "duration": 14,
    "start_time": "2023-08-23T14:54:46.505Z"
   },
   {
    "duration": 16,
    "start_time": "2023-08-23T14:57:38.719Z"
   },
   {
    "duration": 5,
    "start_time": "2023-08-23T15:00:34.295Z"
   },
   {
    "duration": 12,
    "start_time": "2023-08-23T15:01:57.787Z"
   },
   {
    "duration": 11,
    "start_time": "2023-08-23T15:02:03.862Z"
   },
   {
    "duration": 1700,
    "start_time": "2023-08-23T15:03:41.392Z"
   },
   {
    "duration": 7,
    "start_time": "2023-08-23T15:04:14.783Z"
   },
   {
    "duration": 1026,
    "start_time": "2023-08-23T15:04:14.793Z"
   },
   {
    "duration": 59,
    "start_time": "2023-08-23T15:04:15.821Z"
   },
   {
    "duration": 71,
    "start_time": "2023-08-23T15:04:15.886Z"
   },
   {
    "duration": 40,
    "start_time": "2023-08-23T15:04:15.962Z"
   },
   {
    "duration": 172,
    "start_time": "2023-08-23T15:04:16.005Z"
   },
   {
    "duration": 38,
    "start_time": "2023-08-23T15:04:16.180Z"
   },
   {
    "duration": 136,
    "start_time": "2023-08-23T15:04:16.226Z"
   },
   {
    "duration": 15,
    "start_time": "2023-08-23T15:04:16.367Z"
   },
   {
    "duration": 79,
    "start_time": "2023-08-23T15:04:16.385Z"
   },
   {
    "duration": 30,
    "start_time": "2023-08-23T15:04:16.468Z"
   },
   {
    "duration": 46,
    "start_time": "2023-08-23T15:04:16.500Z"
   },
   {
    "duration": 20,
    "start_time": "2023-08-23T15:04:16.551Z"
   },
   {
    "duration": 843,
    "start_time": "2023-08-23T15:04:16.574Z"
   },
   {
    "duration": 648,
    "start_time": "2023-08-23T15:04:17.419Z"
   },
   {
    "duration": 623,
    "start_time": "2023-08-23T15:04:18.069Z"
   },
   {
    "duration": 1076,
    "start_time": "2023-08-23T15:04:18.694Z"
   },
   {
    "duration": 650,
    "start_time": "2023-08-23T15:04:19.772Z"
   },
   {
    "duration": 11,
    "start_time": "2023-08-23T15:04:20.423Z"
   },
   {
    "duration": 756,
    "start_time": "2023-08-23T15:04:20.438Z"
   },
   {
    "duration": 14,
    "start_time": "2023-08-23T15:04:21.196Z"
   },
   {
    "duration": 28,
    "start_time": "2023-08-23T15:04:21.228Z"
   },
   {
    "duration": 37,
    "start_time": "2023-08-23T15:04:21.258Z"
   },
   {
    "duration": 10,
    "start_time": "2023-08-23T15:04:21.297Z"
   },
   {
    "duration": 33,
    "start_time": "2023-08-23T15:04:21.309Z"
   },
   {
    "duration": 10,
    "start_time": "2023-08-23T15:04:21.344Z"
   },
   {
    "duration": 14,
    "start_time": "2023-08-23T15:04:21.359Z"
   },
   {
    "duration": 22,
    "start_time": "2023-08-23T15:04:21.375Z"
   },
   {
    "duration": 10,
    "start_time": "2023-08-23T15:04:21.400Z"
   },
   {
    "duration": 20,
    "start_time": "2023-08-23T15:04:21.412Z"
   },
   {
    "duration": 636,
    "start_time": "2023-08-23T15:04:21.434Z"
   },
   {
    "duration": 3,
    "start_time": "2023-08-23T15:04:22.071Z"
   },
   {
    "duration": 13,
    "start_time": "2023-08-23T15:04:22.076Z"
   },
   {
    "duration": 19,
    "start_time": "2023-08-23T15:04:22.091Z"
   },
   {
    "duration": 1969,
    "start_time": "2023-08-23T15:04:22.112Z"
   },
   {
    "duration": 4,
    "start_time": "2023-08-23T15:06:51.818Z"
   },
   {
    "duration": 8,
    "start_time": "2023-08-23T15:14:25.883Z"
   },
   {
    "duration": 3,
    "start_time": "2023-08-23T15:14:26.756Z"
   },
   {
    "duration": 1787,
    "start_time": "2023-08-23T15:14:30.700Z"
   },
   {
    "duration": 3001,
    "start_time": "2023-08-23T15:14:34.923Z"
   },
   {
    "duration": 4,
    "start_time": "2023-08-23T15:14:38.796Z"
   },
   {
    "duration": 20,
    "start_time": "2023-08-23T15:16:38.149Z"
   },
   {
    "duration": 8,
    "start_time": "2023-08-23T15:16:51.808Z"
   },
   {
    "duration": 907,
    "start_time": "2023-08-23T15:17:02.627Z"
   },
   {
    "duration": 3251,
    "start_time": "2023-08-23T15:17:15.203Z"
   },
   {
    "duration": 4,
    "start_time": "2023-08-23T15:17:22.241Z"
   },
   {
    "duration": 4488,
    "start_time": "2023-08-23T15:18:16.412Z"
   },
   {
    "duration": 1373,
    "start_time": "2023-08-23T15:32:32.640Z"
   },
   {
    "duration": 798,
    "start_time": "2023-08-23T15:32:34.015Z"
   },
   {
    "duration": 52,
    "start_time": "2023-08-23T15:32:34.815Z"
   },
   {
    "duration": 28,
    "start_time": "2023-08-23T15:32:34.868Z"
   },
   {
    "duration": 17,
    "start_time": "2023-08-23T15:32:34.899Z"
   },
   {
    "duration": 134,
    "start_time": "2023-08-23T15:32:34.918Z"
   },
   {
    "duration": 18,
    "start_time": "2023-08-23T15:32:35.054Z"
   },
   {
    "duration": 107,
    "start_time": "2023-08-23T15:32:35.074Z"
   },
   {
    "duration": 9,
    "start_time": "2023-08-23T15:32:35.183Z"
   },
   {
    "duration": 16,
    "start_time": "2023-08-23T15:32:35.193Z"
   },
   {
    "duration": 36,
    "start_time": "2023-08-23T15:32:35.211Z"
   },
   {
    "duration": 37,
    "start_time": "2023-08-23T15:32:35.252Z"
   },
   {
    "duration": 9,
    "start_time": "2023-08-23T15:32:35.291Z"
   },
   {
    "duration": 597,
    "start_time": "2023-08-23T15:32:35.302Z"
   },
   {
    "duration": 670,
    "start_time": "2023-08-23T15:32:35.901Z"
   },
   {
    "duration": 562,
    "start_time": "2023-08-23T15:32:36.573Z"
   },
   {
    "duration": 907,
    "start_time": "2023-08-23T15:32:37.143Z"
   },
   {
    "duration": 576,
    "start_time": "2023-08-23T15:32:38.052Z"
   },
   {
    "duration": 16,
    "start_time": "2023-08-23T15:32:38.633Z"
   },
   {
    "duration": 566,
    "start_time": "2023-08-23T15:32:38.651Z"
   },
   {
    "duration": 18,
    "start_time": "2023-08-23T15:32:39.219Z"
   },
   {
    "duration": 65,
    "start_time": "2023-08-23T15:32:39.238Z"
   },
   {
    "duration": 8,
    "start_time": "2023-08-23T15:32:39.305Z"
   },
   {
    "duration": 18,
    "start_time": "2023-08-23T15:32:39.314Z"
   },
   {
    "duration": 30,
    "start_time": "2023-08-23T15:32:39.333Z"
   },
   {
    "duration": 8,
    "start_time": "2023-08-23T15:32:39.364Z"
   },
   {
    "duration": 14,
    "start_time": "2023-08-23T15:32:39.374Z"
   },
   {
    "duration": 22,
    "start_time": "2023-08-23T15:32:39.390Z"
   },
   {
    "duration": 25,
    "start_time": "2023-08-23T15:32:39.413Z"
   },
   {
    "duration": 10,
    "start_time": "2023-08-23T15:32:39.443Z"
   },
   {
    "duration": 685,
    "start_time": "2023-08-23T15:32:39.454Z"
   },
   {
    "duration": 3,
    "start_time": "2023-08-23T15:32:40.156Z"
   },
   {
    "duration": 20,
    "start_time": "2023-08-23T15:32:40.161Z"
   },
   {
    "duration": 14,
    "start_time": "2023-08-23T15:32:40.182Z"
   },
   {
    "duration": 21,
    "start_time": "2023-08-23T15:32:40.198Z"
   },
   {
    "duration": 832,
    "start_time": "2023-08-23T15:32:40.221Z"
   },
   {
    "duration": 2202,
    "start_time": "2023-08-23T15:32:41.130Z"
   },
   {
    "duration": 4,
    "start_time": "2023-08-23T15:32:43.334Z"
   },
   {
    "duration": 4320,
    "start_time": "2023-08-23T15:32:43.340Z"
   },
   {
    "duration": 1495,
    "start_time": "2023-08-23T15:33:15.780Z"
   },
   {
    "duration": 877,
    "start_time": "2023-08-23T15:33:17.277Z"
   },
   {
    "duration": 40,
    "start_time": "2023-08-23T15:33:18.157Z"
   },
   {
    "duration": 14,
    "start_time": "2023-08-23T15:33:18.199Z"
   },
   {
    "duration": 50,
    "start_time": "2023-08-23T15:33:18.215Z"
   },
   {
    "duration": 125,
    "start_time": "2023-08-23T15:33:18.266Z"
   },
   {
    "duration": 19,
    "start_time": "2023-08-23T15:33:18.392Z"
   },
   {
    "duration": 120,
    "start_time": "2023-08-23T15:33:18.412Z"
   },
   {
    "duration": 15,
    "start_time": "2023-08-23T15:33:18.541Z"
   },
   {
    "duration": 7,
    "start_time": "2023-08-23T15:33:18.557Z"
   },
   {
    "duration": 18,
    "start_time": "2023-08-23T15:33:18.565Z"
   },
   {
    "duration": 26,
    "start_time": "2023-08-23T15:33:18.585Z"
   },
   {
    "duration": 18,
    "start_time": "2023-08-23T15:33:18.613Z"
   },
   {
    "duration": 676,
    "start_time": "2023-08-23T15:33:18.639Z"
   },
   {
    "duration": 712,
    "start_time": "2023-08-23T15:33:19.316Z"
   },
   {
    "duration": 653,
    "start_time": "2023-08-23T15:33:20.031Z"
   },
   {
    "duration": 926,
    "start_time": "2023-08-23T15:33:20.686Z"
   },
   {
    "duration": 592,
    "start_time": "2023-08-23T15:33:21.614Z"
   },
   {
    "duration": 6,
    "start_time": "2023-08-23T15:33:22.208Z"
   },
   {
    "duration": 601,
    "start_time": "2023-08-23T15:33:22.216Z"
   },
   {
    "duration": 17,
    "start_time": "2023-08-23T15:33:22.819Z"
   },
   {
    "duration": 34,
    "start_time": "2023-08-23T15:33:22.838Z"
   },
   {
    "duration": 10,
    "start_time": "2023-08-23T15:33:22.873Z"
   },
   {
    "duration": 10,
    "start_time": "2023-08-23T15:33:22.885Z"
   },
   {
    "duration": 43,
    "start_time": "2023-08-23T15:33:22.897Z"
   },
   {
    "duration": 13,
    "start_time": "2023-08-23T15:33:22.946Z"
   },
   {
    "duration": 8,
    "start_time": "2023-08-23T15:33:22.961Z"
   },
   {
    "duration": 17,
    "start_time": "2023-08-23T15:33:22.970Z"
   },
   {
    "duration": 7,
    "start_time": "2023-08-23T15:33:22.989Z"
   },
   {
    "duration": 30,
    "start_time": "2023-08-23T15:33:22.998Z"
   },
   {
    "duration": 682,
    "start_time": "2023-08-23T15:33:23.029Z"
   },
   {
    "duration": 3,
    "start_time": "2023-08-23T15:33:23.712Z"
   },
   {
    "duration": 29,
    "start_time": "2023-08-23T15:33:23.725Z"
   },
   {
    "duration": 21,
    "start_time": "2023-08-23T15:33:23.757Z"
   },
   {
    "duration": 22,
    "start_time": "2023-08-23T15:33:23.780Z"
   },
   {
    "duration": 753,
    "start_time": "2023-08-23T15:33:23.804Z"
   },
   {
    "duration": 2112,
    "start_time": "2023-08-23T15:33:24.634Z"
   },
   {
    "duration": 11,
    "start_time": "2023-08-23T15:33:26.747Z"
   },
   {
    "duration": 4146,
    "start_time": "2023-08-23T15:33:26.761Z"
   },
   {
    "duration": 1609,
    "start_time": "2023-08-23T15:34:27.627Z"
   },
   {
    "duration": 894,
    "start_time": "2023-08-23T15:34:29.240Z"
   },
   {
    "duration": 52,
    "start_time": "2023-08-23T15:34:30.140Z"
   },
   {
    "duration": 13,
    "start_time": "2023-08-23T15:34:30.194Z"
   },
   {
    "duration": 64,
    "start_time": "2023-08-23T15:34:30.210Z"
   },
   {
    "duration": 194,
    "start_time": "2023-08-23T15:34:30.275Z"
   },
   {
    "duration": 20,
    "start_time": "2023-08-23T15:34:30.471Z"
   },
   {
    "duration": 122,
    "start_time": "2023-08-23T15:34:30.493Z"
   },
   {
    "duration": 19,
    "start_time": "2023-08-23T15:34:30.616Z"
   },
   {
    "duration": 70,
    "start_time": "2023-08-23T15:34:30.637Z"
   },
   {
    "duration": 81,
    "start_time": "2023-08-23T15:34:30.708Z"
   },
   {
    "duration": 77,
    "start_time": "2023-08-23T15:34:30.790Z"
   },
   {
    "duration": 64,
    "start_time": "2023-08-23T15:34:30.871Z"
   },
   {
    "duration": 673,
    "start_time": "2023-08-23T15:34:30.939Z"
   },
   {
    "duration": 827,
    "start_time": "2023-08-23T15:34:31.614Z"
   },
   {
    "duration": 743,
    "start_time": "2023-08-23T15:34:32.443Z"
   },
   {
    "duration": 1049,
    "start_time": "2023-08-23T15:34:33.188Z"
   },
   {
    "duration": 595,
    "start_time": "2023-08-23T15:34:34.239Z"
   },
   {
    "duration": 10,
    "start_time": "2023-08-23T15:34:34.836Z"
   },
   {
    "duration": 646,
    "start_time": "2023-08-23T15:34:34.848Z"
   },
   {
    "duration": 9,
    "start_time": "2023-08-23T15:34:35.495Z"
   },
   {
    "duration": 61,
    "start_time": "2023-08-23T15:34:35.506Z"
   },
   {
    "duration": 20,
    "start_time": "2023-08-23T15:34:35.569Z"
   },
   {
    "duration": 10,
    "start_time": "2023-08-23T15:34:35.591Z"
   },
   {
    "duration": 18,
    "start_time": "2023-08-23T15:34:35.602Z"
   },
   {
    "duration": 14,
    "start_time": "2023-08-23T15:34:35.622Z"
   },
   {
    "duration": 13,
    "start_time": "2023-08-23T15:34:35.638Z"
   },
   {
    "duration": 25,
    "start_time": "2023-08-23T15:34:35.653Z"
   },
   {
    "duration": 8,
    "start_time": "2023-08-23T15:34:35.680Z"
   },
   {
    "duration": 15,
    "start_time": "2023-08-23T15:34:35.689Z"
   },
   {
    "duration": 822,
    "start_time": "2023-08-23T15:34:35.706Z"
   },
   {
    "duration": 3,
    "start_time": "2023-08-23T15:34:36.530Z"
   },
   {
    "duration": 2,
    "start_time": "2023-08-23T15:34:36.535Z"
   },
   {
    "duration": 29,
    "start_time": "2023-08-23T15:34:36.539Z"
   },
   {
    "duration": 18,
    "start_time": "2023-08-23T15:34:36.570Z"
   },
   {
    "duration": 960,
    "start_time": "2023-08-23T15:34:36.589Z"
   },
   {
    "duration": 2422,
    "start_time": "2023-08-23T15:34:37.624Z"
   },
   {
    "duration": 17,
    "start_time": "2023-08-23T15:34:40.048Z"
   },
   {
    "duration": 4519,
    "start_time": "2023-08-23T15:34:40.067Z"
   },
   {
    "duration": 1524,
    "start_time": "2023-08-23T15:35:29.184Z"
   },
   {
    "duration": 892,
    "start_time": "2023-08-23T15:35:30.710Z"
   },
   {
    "duration": 66,
    "start_time": "2023-08-23T15:35:31.604Z"
   },
   {
    "duration": 14,
    "start_time": "2023-08-23T15:35:31.672Z"
   },
   {
    "duration": 16,
    "start_time": "2023-08-23T15:35:31.688Z"
   },
   {
    "duration": 163,
    "start_time": "2023-08-23T15:35:31.705Z"
   },
   {
    "duration": 36,
    "start_time": "2023-08-23T15:35:31.870Z"
   },
   {
    "duration": 115,
    "start_time": "2023-08-23T15:35:31.907Z"
   },
   {
    "duration": 15,
    "start_time": "2023-08-23T15:35:32.024Z"
   },
   {
    "duration": 11,
    "start_time": "2023-08-23T15:35:32.043Z"
   },
   {
    "duration": 14,
    "start_time": "2023-08-23T15:35:32.055Z"
   },
   {
    "duration": 24,
    "start_time": "2023-08-23T15:35:32.071Z"
   },
   {
    "duration": 36,
    "start_time": "2023-08-23T15:35:32.097Z"
   },
   {
    "duration": 666,
    "start_time": "2023-08-23T15:35:32.136Z"
   },
   {
    "duration": 766,
    "start_time": "2023-08-23T15:35:32.803Z"
   },
   {
    "duration": 627,
    "start_time": "2023-08-23T15:35:33.571Z"
   },
   {
    "duration": 1136,
    "start_time": "2023-08-23T15:35:34.200Z"
   },
   {
    "duration": 776,
    "start_time": "2023-08-23T15:35:35.338Z"
   },
   {
    "duration": 14,
    "start_time": "2023-08-23T15:35:36.117Z"
   },
   {
    "duration": 708,
    "start_time": "2023-08-23T15:35:36.133Z"
   },
   {
    "duration": 20,
    "start_time": "2023-08-23T15:35:36.849Z"
   },
   {
    "duration": 33,
    "start_time": "2023-08-23T15:35:36.873Z"
   },
   {
    "duration": 10,
    "start_time": "2023-08-23T15:35:36.908Z"
   },
   {
    "duration": 15,
    "start_time": "2023-08-23T15:35:36.925Z"
   },
   {
    "duration": 26,
    "start_time": "2023-08-23T15:35:36.941Z"
   },
   {
    "duration": 13,
    "start_time": "2023-08-23T15:35:36.969Z"
   },
   {
    "duration": 38,
    "start_time": "2023-08-23T15:35:36.983Z"
   },
   {
    "duration": 32,
    "start_time": "2023-08-23T15:35:37.024Z"
   },
   {
    "duration": 15,
    "start_time": "2023-08-23T15:35:37.058Z"
   },
   {
    "duration": 165,
    "start_time": "2023-08-23T15:35:37.075Z"
   },
   {
    "duration": 673,
    "start_time": "2023-08-23T15:35:37.242Z"
   },
   {
    "duration": 2,
    "start_time": "2023-08-23T15:35:37.917Z"
   },
   {
    "duration": 12,
    "start_time": "2023-08-23T15:35:37.928Z"
   },
   {
    "duration": 20,
    "start_time": "2023-08-23T15:35:37.942Z"
   },
   {
    "duration": 5,
    "start_time": "2023-08-23T15:35:37.968Z"
   },
   {
    "duration": 895,
    "start_time": "2023-08-23T15:35:37.975Z"
   },
   {
    "duration": 2432,
    "start_time": "2023-08-23T15:35:38.928Z"
   },
   {
    "duration": 5,
    "start_time": "2023-08-23T15:35:41.369Z"
   },
   {
    "duration": 4743,
    "start_time": "2023-08-23T15:35:41.427Z"
   },
   {
    "duration": 1511,
    "start_time": "2023-08-23T15:36:31.529Z"
   },
   {
    "duration": 913,
    "start_time": "2023-08-23T15:36:33.043Z"
   },
   {
    "duration": 43,
    "start_time": "2023-08-23T15:36:33.958Z"
   },
   {
    "duration": 27,
    "start_time": "2023-08-23T15:36:34.003Z"
   },
   {
    "duration": 22,
    "start_time": "2023-08-23T15:36:34.032Z"
   },
   {
    "duration": 139,
    "start_time": "2023-08-23T15:36:34.056Z"
   },
   {
    "duration": 19,
    "start_time": "2023-08-23T15:36:34.197Z"
   },
   {
    "duration": 121,
    "start_time": "2023-08-23T15:36:34.226Z"
   },
   {
    "duration": 11,
    "start_time": "2023-08-23T15:36:34.349Z"
   },
   {
    "duration": 7,
    "start_time": "2023-08-23T15:36:34.362Z"
   },
   {
    "duration": 11,
    "start_time": "2023-08-23T15:36:34.371Z"
   },
   {
    "duration": 58,
    "start_time": "2023-08-23T15:36:34.383Z"
   },
   {
    "duration": 14,
    "start_time": "2023-08-23T15:36:34.442Z"
   },
   {
    "duration": 600,
    "start_time": "2023-08-23T15:36:34.461Z"
   },
   {
    "duration": 642,
    "start_time": "2023-08-23T15:36:35.063Z"
   },
   {
    "duration": 1150,
    "start_time": "2023-08-23T15:36:35.707Z"
   },
   {
    "duration": 1600,
    "start_time": "2023-08-23T15:36:36.858Z"
   },
   {
    "duration": 585,
    "start_time": "2023-08-23T15:36:38.459Z"
   },
   {
    "duration": 8,
    "start_time": "2023-08-23T15:36:39.046Z"
   },
   {
    "duration": 563,
    "start_time": "2023-08-23T15:36:39.055Z"
   },
   {
    "duration": 28,
    "start_time": "2023-08-23T15:36:39.620Z"
   },
   {
    "duration": 31,
    "start_time": "2023-08-23T15:36:39.650Z"
   },
   {
    "duration": 8,
    "start_time": "2023-08-23T15:36:39.683Z"
   },
   {
    "duration": 10,
    "start_time": "2023-08-23T15:36:39.692Z"
   },
   {
    "duration": 52,
    "start_time": "2023-08-23T15:36:39.703Z"
   },
   {
    "duration": 9,
    "start_time": "2023-08-23T15:36:39.758Z"
   },
   {
    "duration": 10,
    "start_time": "2023-08-23T15:36:39.769Z"
   },
   {
    "duration": 19,
    "start_time": "2023-08-23T15:36:39.781Z"
   },
   {
    "duration": 7,
    "start_time": "2023-08-23T15:36:39.802Z"
   },
   {
    "duration": 156,
    "start_time": "2023-08-23T15:36:39.811Z"
   },
   {
    "duration": 607,
    "start_time": "2023-08-23T15:36:39.969Z"
   },
   {
    "duration": 3,
    "start_time": "2023-08-23T15:36:40.578Z"
   },
   {
    "duration": 4,
    "start_time": "2023-08-23T15:36:40.582Z"
   },
   {
    "duration": 10,
    "start_time": "2023-08-23T15:36:40.587Z"
   },
   {
    "duration": 5,
    "start_time": "2023-08-23T15:36:40.599Z"
   },
   {
    "duration": 1051,
    "start_time": "2023-08-23T15:36:40.605Z"
   },
   {
    "duration": 2589,
    "start_time": "2023-08-23T15:36:41.658Z"
   },
   {
    "duration": 77,
    "start_time": "2023-08-23T15:36:44.253Z"
   },
   {
    "duration": 4318,
    "start_time": "2023-08-23T15:36:44.339Z"
   },
   {
    "duration": 1352,
    "start_time": "2023-08-23T15:37:06.955Z"
   },
   {
    "duration": 802,
    "start_time": "2023-08-23T15:37:08.309Z"
   },
   {
    "duration": 55,
    "start_time": "2023-08-23T15:37:09.112Z"
   },
   {
    "duration": 12,
    "start_time": "2023-08-23T15:37:09.169Z"
   },
   {
    "duration": 15,
    "start_time": "2023-08-23T15:37:09.183Z"
   },
   {
    "duration": 146,
    "start_time": "2023-08-23T15:37:09.200Z"
   },
   {
    "duration": 18,
    "start_time": "2023-08-23T15:37:09.351Z"
   },
   {
    "duration": 93,
    "start_time": "2023-08-23T15:37:09.370Z"
   },
   {
    "duration": 8,
    "start_time": "2023-08-23T15:37:09.465Z"
   },
   {
    "duration": 6,
    "start_time": "2023-08-23T15:37:09.474Z"
   },
   {
    "duration": 9,
    "start_time": "2023-08-23T15:37:09.481Z"
   },
   {
    "duration": 49,
    "start_time": "2023-08-23T15:37:09.491Z"
   },
   {
    "duration": 15,
    "start_time": "2023-08-23T15:37:09.541Z"
   },
   {
    "duration": 561,
    "start_time": "2023-08-23T15:37:09.559Z"
   },
   {
    "duration": 668,
    "start_time": "2023-08-23T15:37:10.122Z"
   },
   {
    "duration": 669,
    "start_time": "2023-08-23T15:37:10.792Z"
   },
   {
    "duration": 950,
    "start_time": "2023-08-23T15:37:11.463Z"
   },
   {
    "duration": 594,
    "start_time": "2023-08-23T15:37:12.415Z"
   },
   {
    "duration": 7,
    "start_time": "2023-08-23T15:37:13.011Z"
   },
   {
    "duration": 607,
    "start_time": "2023-08-23T15:37:13.024Z"
   },
   {
    "duration": 16,
    "start_time": "2023-08-23T15:37:13.641Z"
   },
   {
    "duration": 31,
    "start_time": "2023-08-23T15:37:13.658Z"
   },
   {
    "duration": 7,
    "start_time": "2023-08-23T15:37:13.691Z"
   },
   {
    "duration": 12,
    "start_time": "2023-08-23T15:37:13.700Z"
   },
   {
    "duration": 26,
    "start_time": "2023-08-23T15:37:13.728Z"
   },
   {
    "duration": 9,
    "start_time": "2023-08-23T15:37:13.755Z"
   },
   {
    "duration": 14,
    "start_time": "2023-08-23T15:37:13.765Z"
   },
   {
    "duration": 20,
    "start_time": "2023-08-23T15:37:13.780Z"
   },
   {
    "duration": 31,
    "start_time": "2023-08-23T15:37:13.802Z"
   },
   {
    "duration": 15,
    "start_time": "2023-08-23T15:37:13.834Z"
   },
   {
    "duration": 722,
    "start_time": "2023-08-23T15:37:13.853Z"
   },
   {
    "duration": 4,
    "start_time": "2023-08-23T15:37:14.576Z"
   },
   {
    "duration": 4,
    "start_time": "2023-08-23T15:37:14.581Z"
   },
   {
    "duration": 10,
    "start_time": "2023-08-23T15:37:14.586Z"
   },
   {
    "duration": 5,
    "start_time": "2023-08-23T15:37:14.598Z"
   },
   {
    "duration": 1144,
    "start_time": "2023-08-23T15:37:14.604Z"
   },
   {
    "duration": 2581,
    "start_time": "2023-08-23T15:37:15.750Z"
   },
   {
    "duration": 6,
    "start_time": "2023-08-23T15:37:18.334Z"
   },
   {
    "duration": 4341,
    "start_time": "2023-08-23T15:37:18.345Z"
   },
   {
    "duration": 1486,
    "start_time": "2023-08-23T15:38:35.254Z"
   },
   {
    "duration": 985,
    "start_time": "2023-08-23T15:38:36.742Z"
   },
   {
    "duration": 102,
    "start_time": "2023-08-23T15:38:37.728Z"
   },
   {
    "duration": 18,
    "start_time": "2023-08-23T15:38:37.832Z"
   },
   {
    "duration": 19,
    "start_time": "2023-08-23T15:38:37.852Z"
   },
   {
    "duration": 366,
    "start_time": "2023-08-23T15:38:37.873Z"
   },
   {
    "duration": 31,
    "start_time": "2023-08-23T15:38:38.241Z"
   },
   {
    "duration": 248,
    "start_time": "2023-08-23T15:38:38.325Z"
   },
   {
    "duration": 62,
    "start_time": "2023-08-23T15:38:38.574Z"
   },
   {
    "duration": 13,
    "start_time": "2023-08-23T15:38:38.641Z"
   },
   {
    "duration": 16,
    "start_time": "2023-08-23T15:38:38.656Z"
   },
   {
    "duration": 82,
    "start_time": "2023-08-23T15:38:38.674Z"
   },
   {
    "duration": 11,
    "start_time": "2023-08-23T15:38:38.758Z"
   },
   {
    "duration": 1236,
    "start_time": "2023-08-23T15:38:38.830Z"
   },
   {
    "duration": 713,
    "start_time": "2023-08-23T15:38:40.067Z"
   },
   {
    "duration": 596,
    "start_time": "2023-08-23T15:38:40.782Z"
   },
   {
    "duration": 953,
    "start_time": "2023-08-23T15:38:41.380Z"
   },
   {
    "duration": 612,
    "start_time": "2023-08-23T15:38:42.345Z"
   },
   {
    "duration": 8,
    "start_time": "2023-08-23T15:38:42.959Z"
   },
   {
    "duration": 625,
    "start_time": "2023-08-23T15:38:42.968Z"
   },
   {
    "duration": 10,
    "start_time": "2023-08-23T15:38:43.594Z"
   },
   {
    "duration": 46,
    "start_time": "2023-08-23T15:38:43.606Z"
   },
   {
    "duration": 9,
    "start_time": "2023-08-23T15:38:43.657Z"
   },
   {
    "duration": 16,
    "start_time": "2023-08-23T15:38:43.669Z"
   },
   {
    "duration": 22,
    "start_time": "2023-08-23T15:38:43.687Z"
   },
   {
    "duration": 27,
    "start_time": "2023-08-23T15:38:43.711Z"
   },
   {
    "duration": 11,
    "start_time": "2023-08-23T15:38:43.741Z"
   },
   {
    "duration": 29,
    "start_time": "2023-08-23T15:38:43.753Z"
   },
   {
    "duration": 9,
    "start_time": "2023-08-23T15:38:43.784Z"
   },
   {
    "duration": 158,
    "start_time": "2023-08-23T15:38:43.795Z"
   },
   {
    "duration": 579,
    "start_time": "2023-08-23T15:38:43.958Z"
   },
   {
    "duration": 11,
    "start_time": "2023-08-23T15:38:44.545Z"
   },
   {
    "duration": 9,
    "start_time": "2023-08-23T15:38:44.558Z"
   },
   {
    "duration": 24,
    "start_time": "2023-08-23T15:38:44.569Z"
   },
   {
    "duration": 9,
    "start_time": "2023-08-23T15:38:44.595Z"
   },
   {
    "duration": 1554,
    "start_time": "2023-08-23T15:38:44.606Z"
   },
   {
    "duration": 3102,
    "start_time": "2023-08-23T15:38:46.162Z"
   },
   {
    "duration": 7,
    "start_time": "2023-08-23T15:38:49.328Z"
   },
   {
    "duration": 5343,
    "start_time": "2023-08-23T15:38:49.338Z"
   },
   {
    "duration": 1493,
    "start_time": "2023-08-23T15:39:17.218Z"
   },
   {
    "duration": 899,
    "start_time": "2023-08-23T15:39:18.714Z"
   },
   {
    "duration": 58,
    "start_time": "2023-08-23T15:39:19.615Z"
   },
   {
    "duration": 14,
    "start_time": "2023-08-23T15:39:19.675Z"
   },
   {
    "duration": 36,
    "start_time": "2023-08-23T15:39:19.691Z"
   },
   {
    "duration": 148,
    "start_time": "2023-08-23T15:39:19.730Z"
   },
   {
    "duration": 21,
    "start_time": "2023-08-23T15:39:19.880Z"
   },
   {
    "duration": 133,
    "start_time": "2023-08-23T15:39:19.903Z"
   },
   {
    "duration": 13,
    "start_time": "2023-08-23T15:39:20.038Z"
   },
   {
    "duration": 12,
    "start_time": "2023-08-23T15:39:20.053Z"
   },
   {
    "duration": 26,
    "start_time": "2023-08-23T15:39:20.066Z"
   },
   {
    "duration": 57,
    "start_time": "2023-08-23T15:39:20.094Z"
   },
   {
    "duration": 15,
    "start_time": "2023-08-23T15:39:20.153Z"
   },
   {
    "duration": 690,
    "start_time": "2023-08-23T15:39:20.173Z"
   },
   {
    "duration": 1783,
    "start_time": "2023-08-23T15:39:20.865Z"
   },
   {
    "duration": 737,
    "start_time": "2023-08-23T15:39:22.655Z"
   },
   {
    "duration": 1001,
    "start_time": "2023-08-23T15:39:23.394Z"
   },
   {
    "duration": 616,
    "start_time": "2023-08-23T15:39:24.396Z"
   },
   {
    "duration": 19,
    "start_time": "2023-08-23T15:39:25.014Z"
   },
   {
    "duration": 595,
    "start_time": "2023-08-23T15:39:25.039Z"
   },
   {
    "duration": 11,
    "start_time": "2023-08-23T15:39:25.636Z"
   },
   {
    "duration": 37,
    "start_time": "2023-08-23T15:39:25.649Z"
   },
   {
    "duration": 8,
    "start_time": "2023-08-23T15:39:25.688Z"
   },
   {
    "duration": 35,
    "start_time": "2023-08-23T15:39:25.698Z"
   },
   {
    "duration": 33,
    "start_time": "2023-08-23T15:39:25.735Z"
   },
   {
    "duration": 10,
    "start_time": "2023-08-23T15:39:25.774Z"
   },
   {
    "duration": 15,
    "start_time": "2023-08-23T15:39:25.787Z"
   },
   {
    "duration": 49,
    "start_time": "2023-08-23T15:39:25.803Z"
   },
   {
    "duration": 26,
    "start_time": "2023-08-23T15:39:25.857Z"
   },
   {
    "duration": 10,
    "start_time": "2023-08-23T15:39:25.885Z"
   },
   {
    "duration": 796,
    "start_time": "2023-08-23T15:39:25.897Z"
   },
   {
    "duration": 4,
    "start_time": "2023-08-23T15:39:26.694Z"
   },
   {
    "duration": 5,
    "start_time": "2023-08-23T15:39:26.699Z"
   },
   {
    "duration": 29,
    "start_time": "2023-08-23T15:39:26.705Z"
   },
   {
    "duration": 7,
    "start_time": "2023-08-23T15:39:26.735Z"
   },
   {
    "duration": 1715,
    "start_time": "2023-08-23T15:39:26.743Z"
   },
   {
    "duration": 3699,
    "start_time": "2023-08-23T15:39:28.541Z"
   },
   {
    "duration": 4,
    "start_time": "2023-08-23T15:39:32.242Z"
   },
   {
    "duration": 5234,
    "start_time": "2023-08-23T15:39:32.251Z"
   },
   {
    "duration": 1494,
    "start_time": "2023-08-23T15:39:59.354Z"
   },
   {
    "duration": 858,
    "start_time": "2023-08-23T15:40:00.850Z"
   },
   {
    "duration": 61,
    "start_time": "2023-08-23T15:40:01.710Z"
   },
   {
    "duration": 93,
    "start_time": "2023-08-23T15:40:01.773Z"
   },
   {
    "duration": 44,
    "start_time": "2023-08-23T15:40:01.869Z"
   },
   {
    "duration": 291,
    "start_time": "2023-08-23T15:40:01.915Z"
   },
   {
    "duration": 75,
    "start_time": "2023-08-23T15:40:02.207Z"
   },
   {
    "duration": 452,
    "start_time": "2023-08-23T15:40:02.283Z"
   },
   {
    "duration": 123,
    "start_time": "2023-08-23T15:40:02.737Z"
   },
   {
    "duration": 148,
    "start_time": "2023-08-23T15:40:02.862Z"
   },
   {
    "duration": 102,
    "start_time": "2023-08-23T15:40:03.012Z"
   },
   {
    "duration": 55,
    "start_time": "2023-08-23T15:40:03.116Z"
   },
   {
    "duration": 35,
    "start_time": "2023-08-23T15:40:03.173Z"
   },
   {
    "duration": 610,
    "start_time": "2023-08-23T15:40:03.211Z"
   },
   {
    "duration": 673,
    "start_time": "2023-08-23T15:40:03.823Z"
   },
   {
    "duration": 674,
    "start_time": "2023-08-23T15:40:04.499Z"
   },
   {
    "duration": 1021,
    "start_time": "2023-08-23T15:40:05.175Z"
   },
   {
    "duration": 597,
    "start_time": "2023-08-23T15:40:06.198Z"
   },
   {
    "duration": 8,
    "start_time": "2023-08-23T15:40:06.797Z"
   },
   {
    "duration": 693,
    "start_time": "2023-08-23T15:40:06.807Z"
   },
   {
    "duration": 9,
    "start_time": "2023-08-23T15:40:07.502Z"
   },
   {
    "duration": 67,
    "start_time": "2023-08-23T15:40:07.513Z"
   },
   {
    "duration": 11,
    "start_time": "2023-08-23T15:40:07.582Z"
   },
   {
    "duration": 23,
    "start_time": "2023-08-23T15:40:07.594Z"
   },
   {
    "duration": 40,
    "start_time": "2023-08-23T15:40:07.618Z"
   },
   {
    "duration": 8,
    "start_time": "2023-08-23T15:40:07.660Z"
   },
   {
    "duration": 20,
    "start_time": "2023-08-23T15:40:07.670Z"
   },
   {
    "duration": 19,
    "start_time": "2023-08-23T15:40:07.692Z"
   },
   {
    "duration": 9,
    "start_time": "2023-08-23T15:40:07.712Z"
   },
   {
    "duration": 18,
    "start_time": "2023-08-23T15:40:07.725Z"
   },
   {
    "duration": 749,
    "start_time": "2023-08-23T15:40:07.745Z"
   },
   {
    "duration": 4,
    "start_time": "2023-08-23T15:40:08.495Z"
   },
   {
    "duration": 63,
    "start_time": "2023-08-23T15:40:08.501Z"
   },
   {
    "duration": 34,
    "start_time": "2023-08-23T15:40:08.565Z"
   },
   {
    "duration": 44,
    "start_time": "2023-08-23T15:40:08.600Z"
   },
   {
    "duration": 2486,
    "start_time": "2023-08-23T15:40:08.646Z"
   },
   {
    "duration": 2918,
    "start_time": "2023-08-23T15:40:11.139Z"
   },
   {
    "duration": 5,
    "start_time": "2023-08-23T15:40:14.063Z"
   },
   {
    "duration": 5279,
    "start_time": "2023-08-23T15:40:14.129Z"
   },
   {
    "duration": 1696,
    "start_time": "2023-08-23T15:41:59.762Z"
   },
   {
    "duration": 807,
    "start_time": "2023-08-23T15:42:01.462Z"
   },
   {
    "duration": 43,
    "start_time": "2023-08-23T15:42:02.273Z"
   },
   {
    "duration": 48,
    "start_time": "2023-08-23T15:42:02.331Z"
   },
   {
    "duration": 19,
    "start_time": "2023-08-23T15:42:02.382Z"
   },
   {
    "duration": 168,
    "start_time": "2023-08-23T15:42:02.403Z"
   },
   {
    "duration": 34,
    "start_time": "2023-08-23T15:42:02.575Z"
   },
   {
    "duration": 152,
    "start_time": "2023-08-23T15:42:02.611Z"
   },
   {
    "duration": 8,
    "start_time": "2023-08-23T15:42:02.765Z"
   },
   {
    "duration": 7,
    "start_time": "2023-08-23T15:42:02.774Z"
   },
   {
    "duration": 14,
    "start_time": "2023-08-23T15:42:02.782Z"
   },
   {
    "duration": 54,
    "start_time": "2023-08-23T15:42:02.798Z"
   },
   {
    "duration": 10,
    "start_time": "2023-08-23T15:42:02.858Z"
   },
   {
    "duration": 630,
    "start_time": "2023-08-23T15:42:02.873Z"
   },
   {
    "duration": 802,
    "start_time": "2023-08-23T15:42:03.505Z"
   },
   {
    "duration": 663,
    "start_time": "2023-08-23T15:42:04.309Z"
   },
   {
    "duration": 1046,
    "start_time": "2023-08-23T15:42:04.975Z"
   },
   {
    "duration": 610,
    "start_time": "2023-08-23T15:42:06.035Z"
   },
   {
    "duration": 7,
    "start_time": "2023-08-23T15:42:06.654Z"
   },
   {
    "duration": 650,
    "start_time": "2023-08-23T15:42:06.662Z"
   },
   {
    "duration": 14,
    "start_time": "2023-08-23T15:42:07.313Z"
   },
   {
    "duration": 55,
    "start_time": "2023-08-23T15:42:07.329Z"
   },
   {
    "duration": 9,
    "start_time": "2023-08-23T15:42:07.386Z"
   },
   {
    "duration": 15,
    "start_time": "2023-08-23T15:42:07.398Z"
   },
   {
    "duration": 35,
    "start_time": "2023-08-23T15:42:07.416Z"
   },
   {
    "duration": 13,
    "start_time": "2023-08-23T15:42:07.458Z"
   },
   {
    "duration": 74,
    "start_time": "2023-08-23T15:42:07.473Z"
   },
   {
    "duration": 25,
    "start_time": "2023-08-23T15:42:07.550Z"
   },
   {
    "duration": 10,
    "start_time": "2023-08-23T15:42:07.577Z"
   },
   {
    "duration": 7,
    "start_time": "2023-08-23T15:42:07.588Z"
   },
   {
    "duration": 718,
    "start_time": "2023-08-23T15:42:07.597Z"
   },
   {
    "duration": 12,
    "start_time": "2023-08-23T15:42:08.317Z"
   },
   {
    "duration": 29,
    "start_time": "2023-08-23T15:42:08.330Z"
   },
   {
    "duration": 23,
    "start_time": "2023-08-23T15:42:08.361Z"
   },
   {
    "duration": 153,
    "start_time": "2023-08-23T15:42:57.366Z"
   },
   {
    "duration": 14,
    "start_time": "2023-08-23T15:43:09.005Z"
   },
   {
    "duration": 19,
    "start_time": "2023-08-23T15:43:20.060Z"
   },
   {
    "duration": 14,
    "start_time": "2023-08-23T15:43:26.896Z"
   },
   {
    "duration": 15,
    "start_time": "2023-08-23T15:43:29.873Z"
   },
   {
    "duration": 14,
    "start_time": "2023-08-23T15:43:33.568Z"
   },
   {
    "duration": 14,
    "start_time": "2023-08-23T15:43:37.681Z"
   },
   {
    "duration": 20,
    "start_time": "2023-08-23T15:44:02.268Z"
   },
   {
    "duration": 19,
    "start_time": "2023-08-23T15:44:06.474Z"
   },
   {
    "duration": 13,
    "start_time": "2023-08-23T15:44:18.260Z"
   },
   {
    "duration": 18,
    "start_time": "2023-08-23T15:44:33.081Z"
   },
   {
    "duration": 11,
    "start_time": "2023-08-23T15:44:43.258Z"
   },
   {
    "duration": 18,
    "start_time": "2023-08-23T15:44:47.902Z"
   },
   {
    "duration": 15,
    "start_time": "2023-08-23T15:45:44.455Z"
   },
   {
    "duration": 24,
    "start_time": "2023-08-23T15:46:03.247Z"
   },
   {
    "duration": 16,
    "start_time": "2023-08-23T15:46:19.248Z"
   },
   {
    "duration": 11,
    "start_time": "2023-08-23T15:46:42.298Z"
   },
   {
    "duration": 7,
    "start_time": "2023-08-23T15:46:43.721Z"
   },
   {
    "duration": 1078,
    "start_time": "2023-08-23T15:46:45.898Z"
   },
   {
    "duration": 5720,
    "start_time": "2023-08-23T15:46:47.953Z"
   },
   {
    "duration": 4,
    "start_time": "2023-08-23T15:46:54.492Z"
   },
   {
    "duration": 4573,
    "start_time": "2023-08-23T15:46:57.885Z"
   },
   {
    "duration": 289526,
    "start_time": "2023-08-23T15:47:08.221Z"
   },
   {
    "duration": 15,
    "start_time": "2023-08-23T15:52:40.953Z"
   },
   {
    "duration": 10,
    "start_time": "2023-08-23T15:52:58.177Z"
   },
   {
    "duration": 4,
    "start_time": "2023-08-23T15:54:40.401Z"
   },
   {
    "duration": 3,
    "start_time": "2023-08-23T15:57:49.967Z"
   },
   {
    "duration": 16,
    "start_time": "2023-08-23T15:57:50.278Z"
   },
   {
    "duration": 10,
    "start_time": "2023-08-23T15:57:51.191Z"
   },
   {
    "duration": 12,
    "start_time": "2023-08-23T15:59:37.258Z"
   },
   {
    "duration": 16745,
    "start_time": "2023-08-23T15:59:57.258Z"
   },
   {
    "duration": 21,
    "start_time": "2023-08-23T16:04:14.373Z"
   },
   {
    "duration": 22,
    "start_time": "2023-08-23T16:04:38.495Z"
   },
   {
    "duration": 28,
    "start_time": "2023-08-23T16:09:19.686Z"
   },
   {
    "duration": 19,
    "start_time": "2023-08-23T16:09:28.858Z"
   },
   {
    "duration": 19,
    "start_time": "2023-08-23T16:10:04.653Z"
   },
   {
    "duration": 129,
    "start_time": "2023-08-23T16:11:18.839Z"
   },
   {
    "duration": 17,
    "start_time": "2023-08-23T16:11:26.200Z"
   },
   {
    "duration": 34,
    "start_time": "2023-08-23T16:11:30.622Z"
   },
   {
    "duration": 19,
    "start_time": "2023-08-23T16:14:27.855Z"
   },
   {
    "duration": 61,
    "start_time": "2023-08-23T16:14:28.173Z"
   },
   {
    "duration": 12,
    "start_time": "2023-08-23T16:17:18.489Z"
   },
   {
    "duration": 34,
    "start_time": "2023-08-23T16:17:33.513Z"
   },
   {
    "duration": 53,
    "start_time": "2023-08-23T16:17:43.264Z"
   },
   {
    "duration": 55,
    "start_time": "2023-08-23T16:18:59.643Z"
   },
   {
    "duration": 17,
    "start_time": "2023-08-23T16:19:06.663Z"
   },
   {
    "duration": 59,
    "start_time": "2023-08-23T16:19:08.311Z"
   },
   {
    "duration": 75,
    "start_time": "2023-08-23T16:24:15.868Z"
   },
   {
    "duration": 3,
    "start_time": "2023-08-23T20:45:18.813Z"
   },
   {
    "duration": 771,
    "start_time": "2023-08-23T20:45:18.818Z"
   },
   {
    "duration": 40,
    "start_time": "2023-08-23T20:45:19.591Z"
   },
   {
    "duration": 11,
    "start_time": "2023-08-23T20:45:19.632Z"
   },
   {
    "duration": 24,
    "start_time": "2023-08-23T20:45:19.645Z"
   },
   {
    "duration": 129,
    "start_time": "2023-08-23T20:45:19.670Z"
   },
   {
    "duration": 25,
    "start_time": "2023-08-23T20:45:19.801Z"
   },
   {
    "duration": 85,
    "start_time": "2023-08-23T20:45:19.827Z"
   },
   {
    "duration": 10,
    "start_time": "2023-08-23T20:45:19.924Z"
   },
   {
    "duration": 6,
    "start_time": "2023-08-23T20:45:19.936Z"
   },
   {
    "duration": 14,
    "start_time": "2023-08-23T20:45:19.944Z"
   },
   {
    "duration": 25,
    "start_time": "2023-08-23T20:45:19.959Z"
   },
   {
    "duration": 9,
    "start_time": "2023-08-23T20:45:19.986Z"
   },
   {
    "duration": 568,
    "start_time": "2023-08-23T20:45:20.025Z"
   },
   {
    "duration": 1168,
    "start_time": "2023-08-23T20:45:20.595Z"
   },
   {
    "duration": 852,
    "start_time": "2023-08-23T20:45:21.765Z"
   },
   {
    "duration": 844,
    "start_time": "2023-08-23T20:45:22.619Z"
   },
   {
    "duration": 532,
    "start_time": "2023-08-23T20:45:23.464Z"
   },
   {
    "duration": 7,
    "start_time": "2023-08-23T20:45:23.997Z"
   },
   {
    "duration": 504,
    "start_time": "2023-08-23T20:45:24.005Z"
   },
   {
    "duration": 16,
    "start_time": "2023-08-23T20:45:24.511Z"
   },
   {
    "duration": 23,
    "start_time": "2023-08-23T20:45:24.529Z"
   },
   {
    "duration": 7,
    "start_time": "2023-08-23T20:45:24.554Z"
   },
   {
    "duration": 25,
    "start_time": "2023-08-23T20:45:24.563Z"
   },
   {
    "duration": 39,
    "start_time": "2023-08-23T20:45:24.589Z"
   },
   {
    "duration": 35,
    "start_time": "2023-08-23T20:45:24.630Z"
   },
   {
    "duration": 20,
    "start_time": "2023-08-23T20:45:24.666Z"
   },
   {
    "duration": 27,
    "start_time": "2023-08-23T20:45:24.687Z"
   },
   {
    "duration": 12,
    "start_time": "2023-08-23T20:45:24.716Z"
   },
   {
    "duration": 29,
    "start_time": "2023-08-23T20:45:24.730Z"
   },
   {
    "duration": 631,
    "start_time": "2023-08-23T20:45:24.760Z"
   },
   {
    "duration": 3,
    "start_time": "2023-08-23T20:45:25.393Z"
   },
   {
    "duration": 15,
    "start_time": "2023-08-23T20:45:25.397Z"
   },
   {
    "duration": 12,
    "start_time": "2023-08-23T20:45:25.414Z"
   },
   {
    "duration": 3,
    "start_time": "2023-08-23T20:45:25.427Z"
   },
   {
    "duration": 992,
    "start_time": "2023-08-23T20:45:25.432Z"
   },
   {
    "duration": 1204,
    "start_time": "2023-08-23T20:45:26.426Z"
   },
   {
    "duration": 94,
    "start_time": "2023-08-23T20:45:27.632Z"
   },
   {
    "duration": 4498,
    "start_time": "2023-08-23T20:45:27.728Z"
   },
   {
    "duration": 245170,
    "start_time": "2023-08-23T20:45:32.228Z"
   },
   {
    "duration": 9,
    "start_time": "2023-08-23T20:49:37.402Z"
   },
   {
    "duration": 49,
    "start_time": "2023-08-23T20:49:37.413Z"
   },
   {
    "duration": 49,
    "start_time": "2023-08-23T20:49:37.464Z"
   },
   {
    "duration": 12,
    "start_time": "2023-08-23T20:51:01.390Z"
   },
   {
    "duration": 15,
    "start_time": "2023-08-23T20:51:12.595Z"
   },
   {
    "duration": 54,
    "start_time": "2023-08-23T20:51:14.139Z"
   },
   {
    "duration": 1818,
    "start_time": "2023-08-23T20:53:44.131Z"
   },
   {
    "duration": 1066,
    "start_time": "2023-08-23T20:53:45.951Z"
   },
   {
    "duration": 46,
    "start_time": "2023-08-23T20:53:47.019Z"
   },
   {
    "duration": 14,
    "start_time": "2023-08-23T20:53:47.067Z"
   },
   {
    "duration": 45,
    "start_time": "2023-08-23T20:53:47.084Z"
   },
   {
    "duration": 129,
    "start_time": "2023-08-23T20:53:47.130Z"
   },
   {
    "duration": 19,
    "start_time": "2023-08-23T20:53:47.261Z"
   },
   {
    "duration": 110,
    "start_time": "2023-08-23T20:53:47.282Z"
   },
   {
    "duration": 9,
    "start_time": "2023-08-23T20:53:47.393Z"
   },
   {
    "duration": 22,
    "start_time": "2023-08-23T20:53:47.403Z"
   },
   {
    "duration": 10,
    "start_time": "2023-08-23T20:53:47.426Z"
   },
   {
    "duration": 26,
    "start_time": "2023-08-23T20:53:47.438Z"
   },
   {
    "duration": 9,
    "start_time": "2023-08-23T20:53:47.466Z"
   },
   {
    "duration": 577,
    "start_time": "2023-08-23T20:53:47.478Z"
   },
   {
    "duration": 635,
    "start_time": "2023-08-23T20:53:48.057Z"
   },
   {
    "duration": 556,
    "start_time": "2023-08-23T20:53:48.694Z"
   },
   {
    "duration": 831,
    "start_time": "2023-08-23T20:53:49.252Z"
   },
   {
    "duration": 549,
    "start_time": "2023-08-23T20:53:50.085Z"
   },
   {
    "duration": 7,
    "start_time": "2023-08-23T20:53:50.636Z"
   },
   {
    "duration": 523,
    "start_time": "2023-08-23T20:53:50.644Z"
   },
   {
    "duration": 9,
    "start_time": "2023-08-23T20:53:51.169Z"
   },
   {
    "duration": 32,
    "start_time": "2023-08-23T20:53:51.180Z"
   },
   {
    "duration": 8,
    "start_time": "2023-08-23T20:53:51.225Z"
   },
   {
    "duration": 24,
    "start_time": "2023-08-23T20:53:51.234Z"
   },
   {
    "duration": 19,
    "start_time": "2023-08-23T20:53:51.259Z"
   },
   {
    "duration": 7,
    "start_time": "2023-08-23T20:53:51.280Z"
   },
   {
    "duration": 13,
    "start_time": "2023-08-23T20:53:51.289Z"
   },
   {
    "duration": 31,
    "start_time": "2023-08-23T20:53:51.303Z"
   },
   {
    "duration": 7,
    "start_time": "2023-08-23T20:53:51.336Z"
   },
   {
    "duration": 12,
    "start_time": "2023-08-23T20:53:51.344Z"
   },
   {
    "duration": 631,
    "start_time": "2023-08-23T20:53:51.357Z"
   },
   {
    "duration": 2,
    "start_time": "2023-08-23T20:53:51.990Z"
   },
   {
    "duration": 7,
    "start_time": "2023-08-23T20:53:51.994Z"
   },
   {
    "duration": 35,
    "start_time": "2023-08-23T20:53:52.003Z"
   },
   {
    "duration": 53,
    "start_time": "2023-08-23T20:53:52.039Z"
   },
   {
    "duration": 631,
    "start_time": "2023-08-23T20:53:52.094Z"
   },
   {
    "duration": 1495,
    "start_time": "2023-08-23T20:53:52.729Z"
   },
   {
    "duration": 4,
    "start_time": "2023-08-23T20:53:54.227Z"
   },
   {
    "duration": 4168,
    "start_time": "2023-08-23T20:53:54.233Z"
   },
   {
    "duration": 812846,
    "start_time": "2023-08-23T20:53:58.403Z"
   },
   {
    "duration": 10,
    "start_time": "2023-08-23T21:07:31.252Z"
   },
   {
    "duration": 39,
    "start_time": "2023-08-23T21:07:31.264Z"
   },
   {
    "duration": 149,
    "start_time": "2023-08-23T21:07:31.305Z"
   },
   {
    "duration": 3,
    "start_time": "2023-08-23T21:13:51.118Z"
   },
   {
    "duration": 50757,
    "start_time": "2023-08-23T21:15:53.655Z"
   },
   {
    "duration": 123,
    "start_time": "2023-08-23T21:18:14.682Z"
   },
   {
    "duration": 51392,
    "start_time": "2023-08-23T21:18:20.768Z"
   },
   {
    "duration": 4175,
    "start_time": "2023-08-23T21:20:01.595Z"
   },
   {
    "duration": 244728,
    "start_time": "2023-08-23T21:20:11.325Z"
   },
   {
    "duration": 10,
    "start_time": "2023-08-23T21:24:21.600Z"
   },
   {
    "duration": 14,
    "start_time": "2023-08-23T21:24:22.849Z"
   },
   {
    "duration": 49,
    "start_time": "2023-08-23T21:24:23.377Z"
   },
   {
    "duration": 14,
    "start_time": "2023-08-23T21:25:44.300Z"
   },
   {
    "duration": 54,
    "start_time": "2023-08-23T21:25:44.781Z"
   },
   {
    "duration": 54,
    "start_time": "2023-08-23T21:25:57.438Z"
   },
   {
    "duration": 4,
    "start_time": "2023-08-23T21:31:07.368Z"
   },
   {
    "duration": 113,
    "start_time": "2023-08-23T21:35:36.854Z"
   },
   {
    "duration": 9,
    "start_time": "2023-08-23T21:36:23.317Z"
   },
   {
    "duration": 8,
    "start_time": "2023-08-23T21:38:07.402Z"
   },
   {
    "duration": 9,
    "start_time": "2023-08-23T21:39:14.219Z"
   },
   {
    "duration": 8,
    "start_time": "2023-08-23T21:39:24.510Z"
   },
   {
    "duration": 8,
    "start_time": "2023-08-23T21:41:09.868Z"
   },
   {
    "duration": 11,
    "start_time": "2023-08-23T21:41:17.054Z"
   },
   {
    "duration": 9,
    "start_time": "2023-08-23T21:42:04.228Z"
   },
   {
    "duration": 10,
    "start_time": "2023-08-23T21:42:10.741Z"
   },
   {
    "duration": 9,
    "start_time": "2023-08-23T21:42:30.123Z"
   },
   {
    "duration": 8,
    "start_time": "2023-08-23T21:43:03.180Z"
   },
   {
    "duration": 4,
    "start_time": "2023-08-23T21:47:40.165Z"
   },
   {
    "duration": 784,
    "start_time": "2023-08-23T21:47:40.171Z"
   },
   {
    "duration": 33,
    "start_time": "2023-08-23T21:47:40.956Z"
   },
   {
    "duration": 11,
    "start_time": "2023-08-23T21:47:40.991Z"
   },
   {
    "duration": 16,
    "start_time": "2023-08-23T21:47:41.023Z"
   },
   {
    "duration": 122,
    "start_time": "2023-08-23T21:47:41.040Z"
   },
   {
    "duration": 18,
    "start_time": "2023-08-23T21:47:41.164Z"
   },
   {
    "duration": 90,
    "start_time": "2023-08-23T21:47:41.184Z"
   },
   {
    "duration": 8,
    "start_time": "2023-08-23T21:47:41.276Z"
   },
   {
    "duration": 26,
    "start_time": "2023-08-23T21:47:41.285Z"
   },
   {
    "duration": 13,
    "start_time": "2023-08-23T21:47:41.313Z"
   },
   {
    "duration": 28,
    "start_time": "2023-08-23T21:47:41.328Z"
   },
   {
    "duration": 10,
    "start_time": "2023-08-23T21:47:41.358Z"
   },
   {
    "duration": 583,
    "start_time": "2023-08-23T21:47:41.372Z"
   },
   {
    "duration": 499,
    "start_time": "2023-08-23T21:47:41.957Z"
   },
   {
    "duration": 618,
    "start_time": "2023-08-23T21:47:42.457Z"
   },
   {
    "duration": 713,
    "start_time": "2023-08-23T21:47:43.077Z"
   },
   {
    "duration": 532,
    "start_time": "2023-08-23T21:47:43.793Z"
   },
   {
    "duration": 8,
    "start_time": "2023-08-23T21:47:44.326Z"
   },
   {
    "duration": 695,
    "start_time": "2023-08-23T21:47:44.336Z"
   },
   {
    "duration": 10,
    "start_time": "2023-08-23T21:47:45.034Z"
   },
   {
    "duration": 86,
    "start_time": "2023-08-23T21:47:45.046Z"
   },
   {
    "duration": 43,
    "start_time": "2023-08-23T21:47:45.134Z"
   },
   {
    "duration": 9,
    "start_time": "2023-08-23T21:47:45.179Z"
   },
   {
    "duration": 33,
    "start_time": "2023-08-23T21:47:45.190Z"
   },
   {
    "duration": 11,
    "start_time": "2023-08-23T21:47:45.225Z"
   },
   {
    "duration": 32,
    "start_time": "2023-08-23T21:47:45.238Z"
   },
   {
    "duration": 22,
    "start_time": "2023-08-23T21:47:45.272Z"
   },
   {
    "duration": 8,
    "start_time": "2023-08-23T21:47:45.295Z"
   },
   {
    "duration": 29,
    "start_time": "2023-08-23T21:47:45.305Z"
   },
   {
    "duration": 515,
    "start_time": "2023-08-23T21:47:45.335Z"
   },
   {
    "duration": 4,
    "start_time": "2023-08-23T21:47:45.852Z"
   },
   {
    "duration": 81,
    "start_time": "2023-08-23T21:47:45.860Z"
   },
   {
    "duration": 37,
    "start_time": "2023-08-23T21:47:45.944Z"
   },
   {
    "duration": 11,
    "start_time": "2023-08-23T21:47:45.984Z"
   },
   {
    "duration": 929,
    "start_time": "2023-08-23T21:47:45.997Z"
   },
   {
    "duration": 1602,
    "start_time": "2023-08-23T21:47:46.929Z"
   },
   {
    "duration": 95,
    "start_time": "2023-08-23T21:47:48.533Z"
   },
   {
    "duration": 38623,
    "start_time": "2023-08-23T21:47:48.630Z"
   },
   {
    "duration": 4,
    "start_time": "2023-08-23T22:30:55.327Z"
   },
   {
    "duration": 809,
    "start_time": "2023-08-23T22:30:55.333Z"
   },
   {
    "duration": 36,
    "start_time": "2023-08-23T22:30:56.143Z"
   },
   {
    "duration": 55,
    "start_time": "2023-08-23T22:30:56.181Z"
   },
   {
    "duration": 150,
    "start_time": "2023-08-23T22:30:56.238Z"
   },
   {
    "duration": 137,
    "start_time": "2023-08-23T22:30:56.390Z"
   },
   {
    "duration": 20,
    "start_time": "2023-08-23T22:30:56.529Z"
   },
   {
    "duration": 101,
    "start_time": "2023-08-23T22:30:56.551Z"
   },
   {
    "duration": 9,
    "start_time": "2023-08-23T22:30:56.654Z"
   },
   {
    "duration": 8,
    "start_time": "2023-08-23T22:30:56.666Z"
   },
   {
    "duration": 20,
    "start_time": "2023-08-23T22:30:56.675Z"
   },
   {
    "duration": 51,
    "start_time": "2023-08-23T22:30:56.697Z"
   },
   {
    "duration": 10,
    "start_time": "2023-08-23T22:30:56.751Z"
   },
   {
    "duration": 547,
    "start_time": "2023-08-23T22:30:56.764Z"
   },
   {
    "duration": 634,
    "start_time": "2023-08-23T22:30:57.313Z"
   },
   {
    "duration": 539,
    "start_time": "2023-08-23T22:30:57.949Z"
   },
   {
    "duration": 912,
    "start_time": "2023-08-23T22:30:58.491Z"
   },
   {
    "duration": 552,
    "start_time": "2023-08-23T22:30:59.405Z"
   },
   {
    "duration": 8,
    "start_time": "2023-08-23T22:30:59.959Z"
   },
   {
    "duration": 607,
    "start_time": "2023-08-23T22:30:59.969Z"
   },
   {
    "duration": 12,
    "start_time": "2023-08-23T22:31:00.579Z"
   },
   {
    "duration": 51,
    "start_time": "2023-08-23T22:31:00.593Z"
   },
   {
    "duration": 42,
    "start_time": "2023-08-23T22:31:00.646Z"
   },
   {
    "duration": 29,
    "start_time": "2023-08-23T22:31:00.691Z"
   },
   {
    "duration": 39,
    "start_time": "2023-08-23T22:31:00.722Z"
   },
   {
    "duration": 31,
    "start_time": "2023-08-23T22:31:00.763Z"
   },
   {
    "duration": 40,
    "start_time": "2023-08-23T22:31:00.796Z"
   },
   {
    "duration": 58,
    "start_time": "2023-08-23T22:31:00.838Z"
   },
   {
    "duration": 18,
    "start_time": "2023-08-23T22:31:00.898Z"
   },
   {
    "duration": 80,
    "start_time": "2023-08-23T22:31:00.917Z"
   },
   {
    "duration": 788,
    "start_time": "2023-08-23T22:31:00.999Z"
   },
   {
    "duration": 4,
    "start_time": "2023-08-23T22:31:01.789Z"
   },
   {
    "duration": 106,
    "start_time": "2023-08-23T22:31:01.794Z"
   },
   {
    "duration": 41,
    "start_time": "2023-08-23T22:31:01.902Z"
   },
   {
    "duration": 40,
    "start_time": "2023-08-23T22:31:01.945Z"
   },
   {
    "duration": 946,
    "start_time": "2023-08-23T22:31:01.987Z"
   },
   {
    "duration": 1207,
    "start_time": "2023-08-23T22:31:03.025Z"
   },
   {
    "duration": 93,
    "start_time": "2023-08-23T22:31:04.234Z"
   },
   {
    "duration": 41081,
    "start_time": "2023-08-23T22:31:04.329Z"
   },
   {
    "duration": 1448,
    "start_time": "2023-08-23T22:34:34.611Z"
   },
   {
    "duration": 1424,
    "start_time": "2023-08-23T22:34:36.061Z"
   },
   {
    "duration": 45,
    "start_time": "2023-08-23T22:34:37.487Z"
   },
   {
    "duration": 13,
    "start_time": "2023-08-23T22:34:37.534Z"
   },
   {
    "duration": 15,
    "start_time": "2023-08-23T22:34:37.549Z"
   },
   {
    "duration": 138,
    "start_time": "2023-08-23T22:34:37.565Z"
   },
   {
    "duration": 30,
    "start_time": "2023-08-23T22:34:37.705Z"
   },
   {
    "duration": 101,
    "start_time": "2023-08-23T22:34:37.737Z"
   },
   {
    "duration": 8,
    "start_time": "2023-08-23T22:34:37.840Z"
   },
   {
    "duration": 6,
    "start_time": "2023-08-23T22:34:37.849Z"
   },
   {
    "duration": 8,
    "start_time": "2023-08-23T22:34:37.857Z"
   },
   {
    "duration": 24,
    "start_time": "2023-08-23T22:34:37.866Z"
   },
   {
    "duration": 37,
    "start_time": "2023-08-23T22:34:37.892Z"
   },
   {
    "duration": 538,
    "start_time": "2023-08-23T22:34:37.932Z"
   },
   {
    "duration": 611,
    "start_time": "2023-08-23T22:34:38.471Z"
   },
   {
    "duration": 516,
    "start_time": "2023-08-23T22:34:39.084Z"
   },
   {
    "duration": 856,
    "start_time": "2023-08-23T22:34:39.602Z"
   },
   {
    "duration": 525,
    "start_time": "2023-08-23T22:34:40.460Z"
   },
   {
    "duration": 6,
    "start_time": "2023-08-23T22:34:40.987Z"
   },
   {
    "duration": 540,
    "start_time": "2023-08-23T22:34:40.995Z"
   },
   {
    "duration": 8,
    "start_time": "2023-08-23T22:34:41.537Z"
   },
   {
    "duration": 30,
    "start_time": "2023-08-23T22:34:41.547Z"
   },
   {
    "duration": 8,
    "start_time": "2023-08-23T22:34:41.578Z"
   },
   {
    "duration": 35,
    "start_time": "2023-08-23T22:34:41.588Z"
   },
   {
    "duration": 18,
    "start_time": "2023-08-23T22:34:41.625Z"
   },
   {
    "duration": 8,
    "start_time": "2023-08-23T22:34:41.644Z"
   },
   {
    "duration": 19,
    "start_time": "2023-08-23T22:34:41.653Z"
   },
   {
    "duration": 17,
    "start_time": "2023-08-23T22:34:41.673Z"
   },
   {
    "duration": 7,
    "start_time": "2023-08-23T22:34:41.692Z"
   },
   {
    "duration": 37,
    "start_time": "2023-08-23T22:34:41.701Z"
   },
   {
    "duration": 643,
    "start_time": "2023-08-23T22:34:41.740Z"
   },
   {
    "duration": 3,
    "start_time": "2023-08-23T22:34:42.385Z"
   },
   {
    "duration": 9,
    "start_time": "2023-08-23T22:34:42.389Z"
   },
   {
    "duration": 24,
    "start_time": "2023-08-23T22:34:42.399Z"
   },
   {
    "duration": 4,
    "start_time": "2023-08-23T22:34:42.424Z"
   },
   {
    "duration": 494,
    "start_time": "2023-08-23T22:34:42.429Z"
   },
   {
    "duration": 1304,
    "start_time": "2023-08-23T22:34:42.926Z"
   },
   {
    "duration": 94,
    "start_time": "2023-08-23T22:34:44.232Z"
   },
   {
    "duration": 39333,
    "start_time": "2023-08-23T22:34:44.328Z"
   },
   {
    "duration": 1341,
    "start_time": "2023-08-23T22:39:57.893Z"
   },
   {
    "duration": 1497,
    "start_time": "2023-08-23T22:39:59.236Z"
   },
   {
    "duration": 90,
    "start_time": "2023-08-23T22:40:00.735Z"
   },
   {
    "duration": 14,
    "start_time": "2023-08-23T22:40:00.827Z"
   },
   {
    "duration": 90,
    "start_time": "2023-08-23T22:40:00.843Z"
   },
   {
    "duration": 138,
    "start_time": "2023-08-23T22:40:00.935Z"
   },
   {
    "duration": 20,
    "start_time": "2023-08-23T22:40:01.075Z"
   },
   {
    "duration": 131,
    "start_time": "2023-08-23T22:40:01.096Z"
   },
   {
    "duration": 8,
    "start_time": "2023-08-23T22:40:01.229Z"
   },
   {
    "duration": 25,
    "start_time": "2023-08-23T22:40:01.240Z"
   },
   {
    "duration": 94,
    "start_time": "2023-08-23T22:40:01.266Z"
   },
   {
    "duration": 51,
    "start_time": "2023-08-23T22:40:01.362Z"
   },
   {
    "duration": 29,
    "start_time": "2023-08-23T22:40:01.415Z"
   },
   {
    "duration": 582,
    "start_time": "2023-08-23T22:40:01.446Z"
   },
   {
    "duration": 660,
    "start_time": "2023-08-23T22:40:02.029Z"
   },
   {
    "duration": 564,
    "start_time": "2023-08-23T22:40:02.691Z"
   },
   {
    "duration": 869,
    "start_time": "2023-08-23T22:40:03.256Z"
   },
   {
    "duration": 537,
    "start_time": "2023-08-23T22:40:04.127Z"
   },
   {
    "duration": 6,
    "start_time": "2023-08-23T22:40:04.666Z"
   },
   {
    "duration": 655,
    "start_time": "2023-08-23T22:40:04.674Z"
   },
   {
    "duration": 9,
    "start_time": "2023-08-23T22:40:05.331Z"
   },
   {
    "duration": 49,
    "start_time": "2023-08-23T22:40:05.342Z"
   },
   {
    "duration": 9,
    "start_time": "2023-08-23T22:40:05.393Z"
   },
   {
    "duration": 21,
    "start_time": "2023-08-23T22:40:05.403Z"
   },
   {
    "duration": 18,
    "start_time": "2023-08-23T22:40:05.425Z"
   },
   {
    "duration": 9,
    "start_time": "2023-08-23T22:40:05.445Z"
   },
   {
    "duration": 25,
    "start_time": "2023-08-23T22:40:05.456Z"
   },
   {
    "duration": 31,
    "start_time": "2023-08-23T22:40:05.485Z"
   },
   {
    "duration": 9,
    "start_time": "2023-08-23T22:40:05.518Z"
   },
   {
    "duration": 20,
    "start_time": "2023-08-23T22:40:05.529Z"
   },
   {
    "duration": 703,
    "start_time": "2023-08-23T22:40:05.551Z"
   },
   {
    "duration": 3,
    "start_time": "2023-08-23T22:40:06.256Z"
   },
   {
    "duration": 15,
    "start_time": "2023-08-23T22:40:06.261Z"
   },
   {
    "duration": 10,
    "start_time": "2023-08-23T22:40:06.277Z"
   },
   {
    "duration": 10,
    "start_time": "2023-08-23T22:40:06.289Z"
   },
   {
    "duration": 927,
    "start_time": "2023-08-23T22:40:06.301Z"
   },
   {
    "duration": 1399,
    "start_time": "2023-08-23T22:40:07.231Z"
   },
   {
    "duration": 92,
    "start_time": "2023-08-23T22:40:08.633Z"
   },
   {
    "duration": 39495,
    "start_time": "2023-08-23T22:40:08.727Z"
   },
   {
    "duration": 6,
    "start_time": "2023-08-23T22:40:48.224Z"
   },
   {
    "duration": 0,
    "start_time": "2023-08-23T22:40:48.232Z"
   },
   {
    "duration": 0,
    "start_time": "2023-08-23T22:40:48.233Z"
   },
   {
    "duration": 0,
    "start_time": "2023-08-23T22:40:48.234Z"
   },
   {
    "duration": 0,
    "start_time": "2023-08-23T22:40:48.235Z"
   },
   {
    "duration": 0,
    "start_time": "2023-08-23T22:40:48.236Z"
   },
   {
    "duration": 2208,
    "start_time": "2023-08-23T22:48:09.381Z"
   },
   {
    "duration": 755,
    "start_time": "2023-08-23T22:48:11.592Z"
   },
   {
    "duration": 38,
    "start_time": "2023-08-23T22:48:12.349Z"
   },
   {
    "duration": 19,
    "start_time": "2023-08-23T22:48:12.389Z"
   },
   {
    "duration": 17,
    "start_time": "2023-08-23T22:48:12.424Z"
   },
   {
    "duration": 125,
    "start_time": "2023-08-23T22:48:12.443Z"
   },
   {
    "duration": 18,
    "start_time": "2023-08-23T22:48:12.570Z"
   },
   {
    "duration": 102,
    "start_time": "2023-08-23T22:48:12.590Z"
   },
   {
    "duration": 9,
    "start_time": "2023-08-23T22:48:12.694Z"
   },
   {
    "duration": 24,
    "start_time": "2023-08-23T22:48:12.704Z"
   },
   {
    "duration": 23,
    "start_time": "2023-08-23T22:48:12.730Z"
   },
   {
    "duration": 28,
    "start_time": "2023-08-23T22:48:12.754Z"
   },
   {
    "duration": 9,
    "start_time": "2023-08-23T22:48:12.784Z"
   },
   {
    "duration": 558,
    "start_time": "2023-08-23T22:48:12.796Z"
   },
   {
    "duration": 614,
    "start_time": "2023-08-23T22:48:13.355Z"
   },
   {
    "duration": 546,
    "start_time": "2023-08-23T22:48:13.971Z"
   },
   {
    "duration": 879,
    "start_time": "2023-08-23T22:48:14.523Z"
   },
   {
    "duration": 595,
    "start_time": "2023-08-23T22:48:15.404Z"
   },
   {
    "duration": 6,
    "start_time": "2023-08-23T22:48:16.001Z"
   },
   {
    "duration": 559,
    "start_time": "2023-08-23T22:48:16.009Z"
   },
   {
    "duration": 9,
    "start_time": "2023-08-23T22:48:16.570Z"
   },
   {
    "duration": 55,
    "start_time": "2023-08-23T22:48:16.581Z"
   },
   {
    "duration": 8,
    "start_time": "2023-08-23T22:48:16.638Z"
   },
   {
    "duration": 22,
    "start_time": "2023-08-23T22:48:16.648Z"
   },
   {
    "duration": 42,
    "start_time": "2023-08-23T22:48:16.672Z"
   },
   {
    "duration": 113,
    "start_time": "2023-08-23T22:48:16.716Z"
   },
   {
    "duration": 200,
    "start_time": "2023-08-23T22:48:16.831Z"
   },
   {
    "duration": 68,
    "start_time": "2023-08-23T22:48:17.033Z"
   },
   {
    "duration": 15,
    "start_time": "2023-08-23T22:48:17.102Z"
   },
   {
    "duration": 21,
    "start_time": "2023-08-23T22:48:17.118Z"
   },
   {
    "duration": 645,
    "start_time": "2023-08-23T22:48:17.141Z"
   },
   {
    "duration": 4,
    "start_time": "2023-08-23T22:48:17.787Z"
   },
   {
    "duration": 20,
    "start_time": "2023-08-23T22:48:17.792Z"
   },
   {
    "duration": 44,
    "start_time": "2023-08-23T22:48:17.813Z"
   },
   {
    "duration": 28,
    "start_time": "2023-08-23T22:48:17.858Z"
   },
   {
    "duration": 937,
    "start_time": "2023-08-23T22:48:17.888Z"
   },
   {
    "duration": 1301,
    "start_time": "2023-08-23T22:48:18.827Z"
   },
   {
    "duration": 4,
    "start_time": "2023-08-23T22:48:20.130Z"
   },
   {
    "duration": 39411,
    "start_time": "2023-08-23T22:48:20.136Z"
   },
   {
    "duration": 662447,
    "start_time": "2023-08-23T22:48:59.549Z"
   },
   {
    "duration": 1546441,
    "start_time": "2023-08-23T23:00:02.000Z"
   },
   {
    "duration": 10,
    "start_time": "2023-08-23T23:25:48.443Z"
   },
   {
    "duration": 21,
    "start_time": "2023-08-23T23:25:48.455Z"
   },
   {
    "duration": 107,
    "start_time": "2023-08-23T23:25:48.478Z"
   },
   {
    "duration": 10,
    "start_time": "2023-08-23T23:25:48.586Z"
   },
   {
    "duration": 10,
    "start_time": "2023-08-23T23:26:13.002Z"
   },
   {
    "duration": 16,
    "start_time": "2023-08-23T23:26:18.954Z"
   },
   {
    "duration": 87,
    "start_time": "2023-08-23T23:26:19.473Z"
   },
   {
    "duration": 12,
    "start_time": "2023-08-23T23:26:59.962Z"
   },
   {
    "duration": 514,
    "start_time": "2023-08-23T23:30:21.916Z"
   },
   {
    "duration": 451,
    "start_time": "2023-08-23T23:30:51.584Z"
   },
   {
    "duration": 90,
    "start_time": "2023-08-23T23:31:23.986Z"
   },
   {
    "duration": 11,
    "start_time": "2023-08-23T23:31:30.264Z"
   },
   {
    "duration": 15,
    "start_time": "2023-08-23T23:32:12.068Z"
   },
   {
    "duration": 15,
    "start_time": "2023-08-23T23:32:19.825Z"
   },
   {
    "duration": 21,
    "start_time": "2023-08-23T23:32:42.530Z"
   },
   {
    "duration": 15,
    "start_time": "2023-08-23T23:32:51.530Z"
   },
   {
    "duration": 112,
    "start_time": "2023-08-23T23:33:27.096Z"
   },
   {
    "duration": 16,
    "start_time": "2023-08-23T23:33:33.177Z"
   },
   {
    "duration": 9,
    "start_time": "2023-08-23T23:33:41.024Z"
   },
   {
    "duration": 10,
    "start_time": "2023-08-23T23:34:08.575Z"
   },
   {
    "duration": 8,
    "start_time": "2023-08-24T06:38:19.822Z"
   },
   {
    "duration": 264,
    "start_time": "2023-08-24T06:38:29.484Z"
   },
   {
    "duration": 1668,
    "start_time": "2023-08-24T18:42:14.577Z"
   },
   {
    "duration": 2347,
    "start_time": "2023-08-24T18:42:16.248Z"
   },
   {
    "duration": 40,
    "start_time": "2023-08-24T18:42:18.597Z"
   },
   {
    "duration": 21,
    "start_time": "2023-08-24T18:42:18.639Z"
   },
   {
    "duration": 16,
    "start_time": "2023-08-24T18:42:18.663Z"
   },
   {
    "duration": 140,
    "start_time": "2023-08-24T18:42:18.681Z"
   },
   {
    "duration": 34,
    "start_time": "2023-08-24T18:42:18.823Z"
   },
   {
    "duration": 115,
    "start_time": "2023-08-24T18:42:18.861Z"
   },
   {
    "duration": 8,
    "start_time": "2023-08-24T18:42:18.978Z"
   },
   {
    "duration": 6,
    "start_time": "2023-08-24T18:42:18.988Z"
   },
   {
    "duration": 9,
    "start_time": "2023-08-24T18:42:18.995Z"
   },
   {
    "duration": 57,
    "start_time": "2023-08-24T18:42:19.006Z"
   },
   {
    "duration": 9,
    "start_time": "2023-08-24T18:42:19.065Z"
   },
   {
    "duration": 576,
    "start_time": "2023-08-24T18:42:19.076Z"
   },
   {
    "duration": 221,
    "start_time": "2023-08-24T18:42:19.654Z"
   },
   {
    "duration": 598,
    "start_time": "2023-08-24T18:42:19.877Z"
   },
   {
    "duration": 567,
    "start_time": "2023-08-24T18:42:20.476Z"
   },
   {
    "duration": 13,
    "start_time": "2023-08-24T18:42:21.045Z"
   },
   {
    "duration": 45,
    "start_time": "2023-08-24T18:42:21.059Z"
   },
   {
    "duration": 8,
    "start_time": "2023-08-24T18:42:21.106Z"
   },
   {
    "duration": 41,
    "start_time": "2023-08-24T18:42:21.116Z"
   },
   {
    "duration": 34,
    "start_time": "2023-08-24T18:42:21.159Z"
   },
   {
    "duration": 8,
    "start_time": "2023-08-24T18:42:21.194Z"
   },
   {
    "duration": 49,
    "start_time": "2023-08-24T18:42:21.204Z"
   },
   {
    "duration": 26,
    "start_time": "2023-08-24T18:42:21.255Z"
   },
   {
    "duration": 21,
    "start_time": "2023-08-24T18:42:21.283Z"
   },
   {
    "duration": 103,
    "start_time": "2023-08-24T18:45:36.210Z"
   },
   {
    "duration": 55,
    "start_time": "2023-08-24T18:45:45.117Z"
   },
   {
    "duration": 697,
    "start_time": "2023-08-24T18:47:56.145Z"
   },
   {
    "duration": 647,
    "start_time": "2023-08-24T18:48:46.244Z"
   },
   {
    "duration": 539,
    "start_time": "2023-08-24T18:49:31.547Z"
   },
   {
    "duration": 686,
    "start_time": "2023-08-24T18:49:37.422Z"
   },
   {
    "duration": 535,
    "start_time": "2023-08-24T18:49:40.127Z"
   },
   {
    "duration": 942,
    "start_time": "2023-08-24T18:50:09.222Z"
   },
   {
    "duration": 558,
    "start_time": "2023-08-24T18:50:18.098Z"
   },
   {
    "duration": 21,
    "start_time": "2023-08-24T18:50:36.005Z"
   },
   {
    "duration": 408,
    "start_time": "2023-08-24T18:50:39.188Z"
   },
   {
    "duration": 942,
    "start_time": "2023-08-24T18:50:58.189Z"
   },
   {
    "duration": 159,
    "start_time": "2023-08-24T18:51:23.504Z"
   },
   {
    "duration": 800,
    "start_time": "2023-08-24T18:51:39.569Z"
   },
   {
    "duration": 971,
    "start_time": "2023-08-24T18:51:52.121Z"
   },
   {
    "duration": 1015,
    "start_time": "2023-08-24T18:53:23.502Z"
   },
   {
    "duration": 748,
    "start_time": "2023-08-24T18:53:39.679Z"
   },
   {
    "duration": 893,
    "start_time": "2023-08-24T18:53:53.643Z"
   },
   {
    "duration": 90,
    "start_time": "2023-08-24T18:54:08.167Z"
   },
   {
    "duration": 724,
    "start_time": "2023-08-24T18:54:12.449Z"
   },
   {
    "duration": 855,
    "start_time": "2023-08-24T18:54:31.189Z"
   },
   {
    "duration": 503,
    "start_time": "2023-08-24T18:54:42.783Z"
   },
   {
    "duration": 402,
    "start_time": "2023-08-24T18:55:32.292Z"
   },
   {
    "duration": 429,
    "start_time": "2023-08-24T18:55:46.288Z"
   },
   {
    "duration": 4,
    "start_time": "2023-08-24T18:56:06.770Z"
   },
   {
    "duration": 840,
    "start_time": "2023-08-24T18:56:06.775Z"
   },
   {
    "duration": 43,
    "start_time": "2023-08-24T18:56:07.616Z"
   },
   {
    "duration": 13,
    "start_time": "2023-08-24T18:56:07.661Z"
   },
   {
    "duration": 23,
    "start_time": "2023-08-24T18:56:07.676Z"
   },
   {
    "duration": 134,
    "start_time": "2023-08-24T18:56:07.701Z"
   },
   {
    "duration": 26,
    "start_time": "2023-08-24T18:56:07.837Z"
   },
   {
    "duration": 106,
    "start_time": "2023-08-24T18:56:07.864Z"
   },
   {
    "duration": 9,
    "start_time": "2023-08-24T18:56:07.971Z"
   },
   {
    "duration": 8,
    "start_time": "2023-08-24T18:56:07.983Z"
   },
   {
    "duration": 33,
    "start_time": "2023-08-24T18:56:07.993Z"
   },
   {
    "duration": 35,
    "start_time": "2023-08-24T18:56:08.034Z"
   },
   {
    "duration": 11,
    "start_time": "2023-08-24T18:56:08.071Z"
   },
   {
    "duration": 592,
    "start_time": "2023-08-24T18:56:08.085Z"
   },
   {
    "duration": 706,
    "start_time": "2023-08-24T18:56:08.679Z"
   },
   {
    "duration": 548,
    "start_time": "2023-08-24T18:56:09.387Z"
   },
   {
    "duration": 15,
    "start_time": "2023-08-24T18:56:09.937Z"
   },
   {
    "duration": 25,
    "start_time": "2023-08-24T18:56:09.953Z"
   },
   {
    "duration": 8,
    "start_time": "2023-08-24T18:56:09.980Z"
   },
   {
    "duration": 50,
    "start_time": "2023-08-24T18:56:09.989Z"
   },
   {
    "duration": 33,
    "start_time": "2023-08-24T18:56:10.041Z"
   },
   {
    "duration": 11,
    "start_time": "2023-08-24T18:56:10.076Z"
   },
   {
    "duration": 17,
    "start_time": "2023-08-24T18:56:10.089Z"
   },
   {
    "duration": 30,
    "start_time": "2023-08-24T18:56:10.108Z"
   },
   {
    "duration": 15,
    "start_time": "2023-08-24T18:56:10.140Z"
   },
   {
    "duration": 405,
    "start_time": "2023-08-24T18:56:10.157Z"
   },
   {
    "duration": 442,
    "start_time": "2023-08-24T18:56:52.602Z"
   },
   {
    "duration": 449,
    "start_time": "2023-08-24T18:57:06.420Z"
   },
   {
    "duration": 945,
    "start_time": "2023-08-24T18:57:52.093Z"
   },
   {
    "duration": 661,
    "start_time": "2023-08-24T18:58:03.774Z"
   },
   {
    "duration": 603,
    "start_time": "2023-08-24T18:58:18.793Z"
   },
   {
    "duration": 429,
    "start_time": "2023-08-24T18:59:04.276Z"
   },
   {
    "duration": 403,
    "start_time": "2023-08-24T19:00:39.784Z"
   },
   {
    "duration": 464,
    "start_time": "2023-08-24T19:00:50.011Z"
   },
   {
    "duration": 692,
    "start_time": "2023-08-24T19:01:55.947Z"
   },
   {
    "duration": 844,
    "start_time": "2023-08-24T19:02:32.624Z"
   },
   {
    "duration": 668,
    "start_time": "2023-08-24T19:02:36.947Z"
   },
   {
    "duration": 900,
    "start_time": "2023-08-24T19:03:11.442Z"
   },
   {
    "duration": 679,
    "start_time": "2023-08-24T19:03:26.124Z"
   },
   {
    "duration": 865,
    "start_time": "2023-08-24T19:03:51.813Z"
   },
   {
    "duration": 730,
    "start_time": "2023-08-24T19:04:39.446Z"
   },
   {
    "duration": 883,
    "start_time": "2023-08-24T19:04:48.890Z"
   },
   {
    "duration": 704,
    "start_time": "2023-08-24T19:04:54.906Z"
   },
   {
    "duration": 827,
    "start_time": "2023-08-24T19:05:55.710Z"
   },
   {
    "duration": 15,
    "start_time": "2023-08-24T19:56:09.416Z"
   },
   {
    "duration": 4,
    "start_time": "2023-08-24T19:56:23.972Z"
   },
   {
    "duration": 877,
    "start_time": "2023-08-24T19:56:23.978Z"
   },
   {
    "duration": 37,
    "start_time": "2023-08-24T19:56:24.857Z"
   },
   {
    "duration": 13,
    "start_time": "2023-08-24T19:56:24.896Z"
   },
   {
    "duration": 47,
    "start_time": "2023-08-24T19:56:24.911Z"
   },
   {
    "duration": 144,
    "start_time": "2023-08-24T19:56:24.961Z"
   },
   {
    "duration": 49,
    "start_time": "2023-08-24T19:56:25.107Z"
   },
   {
    "duration": 89,
    "start_time": "2023-08-24T19:56:25.158Z"
   },
   {
    "duration": 10,
    "start_time": "2023-08-24T19:56:25.253Z"
   },
   {
    "duration": 7,
    "start_time": "2023-08-24T19:56:25.264Z"
   },
   {
    "duration": 16,
    "start_time": "2023-08-24T19:56:25.273Z"
   },
   {
    "duration": 55,
    "start_time": "2023-08-24T19:56:25.291Z"
   },
   {
    "duration": 10,
    "start_time": "2023-08-24T19:56:25.348Z"
   },
   {
    "duration": 579,
    "start_time": "2023-08-24T19:56:25.361Z"
   },
   {
    "duration": 565,
    "start_time": "2023-08-24T19:56:25.943Z"
   },
   {
    "duration": 714,
    "start_time": "2023-08-24T19:56:26.509Z"
   },
   {
    "duration": 16,
    "start_time": "2023-08-24T19:56:27.225Z"
   },
   {
    "duration": 31,
    "start_time": "2023-08-24T19:56:27.245Z"
   },
   {
    "duration": 8,
    "start_time": "2023-08-24T19:56:27.278Z"
   },
   {
    "duration": 24,
    "start_time": "2023-08-24T19:56:27.287Z"
   },
   {
    "duration": 35,
    "start_time": "2023-08-24T19:56:27.313Z"
   },
   {
    "duration": 10,
    "start_time": "2023-08-24T19:56:27.349Z"
   },
   {
    "duration": 10,
    "start_time": "2023-08-24T19:56:27.361Z"
   },
   {
    "duration": 21,
    "start_time": "2023-08-24T19:56:27.373Z"
   },
   {
    "duration": 40,
    "start_time": "2023-08-24T19:56:27.396Z"
   },
   {
    "duration": 460,
    "start_time": "2023-08-24T19:56:27.445Z"
   },
   {
    "duration": 0,
    "start_time": "2023-08-24T19:56:27.907Z"
   },
   {
    "duration": 0,
    "start_time": "2023-08-24T19:56:27.908Z"
   },
   {
    "duration": 0,
    "start_time": "2023-08-24T19:56:27.910Z"
   },
   {
    "duration": 0,
    "start_time": "2023-08-24T19:56:27.911Z"
   },
   {
    "duration": 855,
    "start_time": "2023-08-24T19:56:58.211Z"
   },
   {
    "duration": 7,
    "start_time": "2023-08-24T19:57:03.369Z"
   },
   {
    "duration": 578,
    "start_time": "2023-08-24T19:57:04.827Z"
   },
   {
    "duration": 548,
    "start_time": "2023-08-24T20:02:10.189Z"
   },
   {
    "duration": 2864,
    "start_time": "2023-08-24T20:26:21.318Z"
   },
   {
    "duration": 788,
    "start_time": "2023-08-24T20:27:08.933Z"
   },
   {
    "duration": 682,
    "start_time": "2023-08-24T20:27:32.282Z"
   },
   {
    "duration": 745,
    "start_time": "2023-08-24T20:27:40.325Z"
   },
   {
    "duration": 649,
    "start_time": "2023-08-24T20:27:46.180Z"
   },
   {
    "duration": 20,
    "start_time": "2023-08-24T20:30:14.793Z"
   },
   {
    "duration": 2831,
    "start_time": "2023-08-24T20:30:18.379Z"
   },
   {
    "duration": 8,
    "start_time": "2023-08-24T20:30:30.668Z"
   },
   {
    "duration": 804,
    "start_time": "2023-08-24T20:30:34.953Z"
   },
   {
    "duration": 3,
    "start_time": "2023-08-24T20:33:11.444Z"
   },
   {
    "duration": 94,
    "start_time": "2023-08-24T20:33:54.914Z"
   },
   {
    "duration": 3,
    "start_time": "2023-08-24T20:34:04.716Z"
   },
   {
    "duration": 10,
    "start_time": "2023-08-24T20:34:07.368Z"
   },
   {
    "duration": 4,
    "start_time": "2023-08-24T20:34:11.468Z"
   },
   {
    "duration": 3,
    "start_time": "2023-08-24T20:34:14.760Z"
   },
   {
    "duration": 10,
    "start_time": "2023-08-24T20:34:17.968Z"
   },
   {
    "duration": 9,
    "start_time": "2023-08-24T20:34:24.421Z"
   },
   {
    "duration": 3,
    "start_time": "2023-08-24T20:34:28.455Z"
   },
   {
    "duration": 3,
    "start_time": "2023-08-24T20:34:28.774Z"
   },
   {
    "duration": 8,
    "start_time": "2023-08-24T20:34:29.324Z"
   },
   {
    "duration": 3,
    "start_time": "2023-08-24T20:34:29.978Z"
   },
   {
    "duration": 1120,
    "start_time": "2023-08-24T20:34:31.114Z"
   },
   {
    "duration": 2304,
    "start_time": "2023-08-24T20:34:32.237Z"
   },
   {
    "duration": 15,
    "start_time": "2023-08-24T20:34:34.545Z"
   },
   {
    "duration": 8,
    "start_time": "2023-08-24T20:34:34.634Z"
   },
   {
    "duration": 11,
    "start_time": "2023-08-24T20:34:34.644Z"
   },
   {
    "duration": 14,
    "start_time": "2023-08-24T20:34:36.170Z"
   },
   {
    "duration": 3,
    "start_time": "2023-08-24T20:34:46.573Z"
   },
   {
    "duration": 14247,
    "start_time": "2023-08-24T20:34:48.160Z"
   },
   {
    "duration": 3259,
    "start_time": "2023-08-25T15:46:21.618Z"
   },
   {
    "duration": 2375,
    "start_time": "2023-08-25T15:46:24.880Z"
   },
   {
    "duration": 43,
    "start_time": "2023-08-25T15:46:27.256Z"
   },
   {
    "duration": 14,
    "start_time": "2023-08-25T15:46:27.301Z"
   },
   {
    "duration": 20,
    "start_time": "2023-08-25T15:46:27.330Z"
   },
   {
    "duration": 140,
    "start_time": "2023-08-25T15:46:27.352Z"
   },
   {
    "duration": 20,
    "start_time": "2023-08-25T15:46:27.494Z"
   },
   {
    "duration": 122,
    "start_time": "2023-08-25T15:46:27.515Z"
   },
   {
    "duration": 9,
    "start_time": "2023-08-25T15:46:27.639Z"
   },
   {
    "duration": 19,
    "start_time": "2023-08-25T15:46:27.650Z"
   },
   {
    "duration": 10,
    "start_time": "2023-08-25T15:46:27.670Z"
   },
   {
    "duration": 26,
    "start_time": "2023-08-25T15:46:27.682Z"
   },
   {
    "duration": 19,
    "start_time": "2023-08-25T15:46:27.727Z"
   },
   {
    "duration": 833,
    "start_time": "2023-08-25T15:46:27.755Z"
   },
   {
    "duration": 728,
    "start_time": "2023-08-25T15:46:28.590Z"
   },
   {
    "duration": 876,
    "start_time": "2023-08-25T15:46:29.319Z"
   },
   {
    "duration": 11,
    "start_time": "2023-08-25T15:46:30.197Z"
   },
   {
    "duration": 76,
    "start_time": "2023-08-25T15:46:30.229Z"
   },
   {
    "duration": 88,
    "start_time": "2023-08-25T15:46:30.310Z"
   },
   {
    "duration": 48,
    "start_time": "2023-08-25T15:46:30.400Z"
   },
   {
    "duration": 55,
    "start_time": "2023-08-25T15:46:30.451Z"
   },
   {
    "duration": 46,
    "start_time": "2023-08-25T15:46:30.508Z"
   },
   {
    "duration": 37,
    "start_time": "2023-08-25T15:46:30.556Z"
   },
   {
    "duration": 74,
    "start_time": "2023-08-25T15:46:30.594Z"
   },
   {
    "duration": 61,
    "start_time": "2023-08-25T15:46:30.670Z"
   },
   {
    "duration": 848,
    "start_time": "2023-08-25T15:46:30.737Z"
   },
   {
    "duration": 18,
    "start_time": "2023-08-25T15:46:31.589Z"
   },
   {
    "duration": 885,
    "start_time": "2023-08-25T15:46:31.627Z"
   },
   {
    "duration": 15,
    "start_time": "2023-08-25T15:46:32.514Z"
   },
   {
    "duration": 883,
    "start_time": "2023-08-25T15:46:32.531Z"
   },
   {
    "duration": 3567,
    "start_time": "2023-08-25T15:50:33.264Z"
   },
   {
    "duration": 775,
    "start_time": "2023-08-25T15:50:36.837Z"
   },
   {
    "duration": 52,
    "start_time": "2023-08-25T15:50:37.614Z"
   },
   {
    "duration": 12,
    "start_time": "2023-08-25T15:50:37.668Z"
   },
   {
    "duration": 18,
    "start_time": "2023-08-25T15:50:37.682Z"
   },
   {
    "duration": 137,
    "start_time": "2023-08-25T15:50:37.725Z"
   },
   {
    "duration": 45,
    "start_time": "2023-08-25T15:50:37.864Z"
   },
   {
    "duration": 127,
    "start_time": "2023-08-25T15:50:37.911Z"
   },
   {
    "duration": 9,
    "start_time": "2023-08-25T15:50:38.040Z"
   },
   {
    "duration": 7,
    "start_time": "2023-08-25T15:50:38.051Z"
   },
   {
    "duration": 10,
    "start_time": "2023-08-25T15:50:38.059Z"
   },
   {
    "duration": 28,
    "start_time": "2023-08-25T15:50:38.071Z"
   },
   {
    "duration": 40,
    "start_time": "2023-08-25T15:50:38.102Z"
   },
   {
    "duration": 797,
    "start_time": "2023-08-25T15:50:38.144Z"
   },
   {
    "duration": 717,
    "start_time": "2023-08-25T15:50:38.943Z"
   },
   {
    "duration": 893,
    "start_time": "2023-08-25T15:50:39.662Z"
   },
   {
    "duration": 11,
    "start_time": "2023-08-25T15:50:40.557Z"
   },
   {
    "duration": 32,
    "start_time": "2023-08-25T15:50:40.571Z"
   },
   {
    "duration": 13,
    "start_time": "2023-08-25T15:50:40.626Z"
   },
   {
    "duration": 16,
    "start_time": "2023-08-25T15:50:40.641Z"
   },
   {
    "duration": 19,
    "start_time": "2023-08-25T15:50:40.658Z"
   },
   {
    "duration": 8,
    "start_time": "2023-08-25T15:50:40.679Z"
   },
   {
    "duration": 14,
    "start_time": "2023-08-25T15:50:40.688Z"
   },
   {
    "duration": 45,
    "start_time": "2023-08-25T15:50:40.703Z"
   },
   {
    "duration": 8,
    "start_time": "2023-08-25T15:50:40.750Z"
   },
   {
    "duration": 800,
    "start_time": "2023-08-25T15:50:40.761Z"
   },
   {
    "duration": 9,
    "start_time": "2023-08-25T15:50:41.563Z"
   },
   {
    "duration": 731,
    "start_time": "2023-08-25T15:50:41.573Z"
   },
   {
    "duration": 23,
    "start_time": "2023-08-25T15:50:42.307Z"
   },
   {
    "duration": 902,
    "start_time": "2023-08-25T15:50:42.332Z"
   }
  ],
  "kernelspec": {
   "display_name": "Python 3 (ipykernel)",
   "language": "python",
   "name": "python3"
  },
  "language_info": {
   "codemirror_mode": {
    "name": "ipython",
    "version": 3
   },
   "file_extension": ".py",
   "mimetype": "text/x-python",
   "name": "python",
   "nbconvert_exporter": "python",
   "pygments_lexer": "ipython3",
   "version": "3.9.5"
  },
  "toc": {
   "base_numbering": 1,
   "nav_menu": {},
   "number_sections": true,
   "sideBar": true,
   "skip_h1_title": true,
   "title_cell": "Содержание",
   "title_sidebar": "Contents",
   "toc_cell": true,
   "toc_position": {
    "height": "calc(100% - 180px)",
    "left": "10px",
    "top": "150px",
    "width": "165px"
   },
   "toc_section_display": true,
   "toc_window_display": true
  }
 },
 "nbformat": 4,
 "nbformat_minor": 2
}
