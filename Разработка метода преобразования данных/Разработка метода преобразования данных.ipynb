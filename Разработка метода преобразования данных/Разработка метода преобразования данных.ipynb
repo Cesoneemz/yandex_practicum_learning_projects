{
 "cells": [
  {
   "cell_type": "markdown",
   "metadata": {
    "toc": true
   },
   "source": [
    "<h1>Содержание<span class=\"tocSkip\"></span></h1>\n",
    "<div class=\"toc\"><ul class=\"toc-item\"><li><span><a href=\"#Загрузка-данных\" data-toc-modified-id=\"Загрузка-данных-1\"><span class=\"toc-item-num\">1&nbsp;&nbsp;</span>Загрузка данных</a></span></li><li><span><a href=\"#Умножение-матриц\" data-toc-modified-id=\"Умножение-матриц-2\"><span class=\"toc-item-num\">2&nbsp;&nbsp;</span>Умножение матриц</a></span></li><li><span><a href=\"#Алгоритм-преобразования\" data-toc-modified-id=\"Алгоритм-преобразования-3\"><span class=\"toc-item-num\">3&nbsp;&nbsp;</span>Алгоритм преобразования</a></span></li><li><span><a href=\"#Проверка-алгоритма\" data-toc-modified-id=\"Проверка-алгоритма-4\"><span class=\"toc-item-num\">4&nbsp;&nbsp;</span>Проверка алгоритма</a></span></li><li><span><a href=\"#Вывод\" data-toc-modified-id=\"Вывод-5\"><span class=\"toc-item-num\">5&nbsp;&nbsp;</span>Вывод</a></span></li><li><span><a href=\"#Чек-лист-проверки\" data-toc-modified-id=\"Чек-лист-проверки-6\"><span class=\"toc-item-num\">6&nbsp;&nbsp;</span>Чек-лист проверки</a></span></li></ul></div>"
   ]
  },
  {
   "cell_type": "markdown",
   "metadata": {},
   "source": [
    "# Защита персональных данных клиентов"
   ]
  },
  {
   "cell_type": "markdown",
   "metadata": {},
   "source": [
    "Вам нужно защитить данные клиентов страховой компании «Хоть потоп». Разработайте такой метод преобразования данных, чтобы по ним было сложно восстановить персональную информацию. Обоснуйте корректность его работы.\n",
    "\n",
    "Нужно защитить данные, чтобы при преобразовании качество моделей машинного обучения не ухудшилось. Подбирать наилучшую модель не требуется."
   ]
  },
  {
   "cell_type": "markdown",
   "metadata": {},
   "source": [
    "## Загрузка данных"
   ]
  },
  {
   "cell_type": "code",
   "execution_count": 3,
   "metadata": {},
   "outputs": [],
   "source": [
    "import pandas as pd\n",
    "import numpy as np\n",
    "\n",
    "from sklearn.linear_model import LinearRegression\n",
    "from sklearn.metrics import r2_score"
   ]
  },
  {
   "cell_type": "code",
   "execution_count": 4,
   "metadata": {},
   "outputs": [],
   "source": [
    "data = pd.read_csv('/datasets/insurance.csv')"
   ]
  },
  {
   "cell_type": "code",
   "execution_count": 5,
   "metadata": {},
   "outputs": [
    {
     "name": "stdout",
     "output_type": "stream",
     "text": [
      "<class 'pandas.core.frame.DataFrame'>\n",
      "RangeIndex: 5000 entries, 0 to 4999\n",
      "Data columns (total 5 columns):\n",
      " #   Column             Non-Null Count  Dtype  \n",
      "---  ------             --------------  -----  \n",
      " 0   Пол                5000 non-null   int64  \n",
      " 1   Возраст            5000 non-null   float64\n",
      " 2   Зарплата           5000 non-null   float64\n",
      " 3   Члены семьи        5000 non-null   int64  \n",
      " 4   Страховые выплаты  5000 non-null   int64  \n",
      "dtypes: float64(2), int64(3)\n",
      "memory usage: 195.4 KB\n"
     ]
    }
   ],
   "source": [
    "data.info()"
   ]
  },
  {
   "cell_type": "code",
   "execution_count": 6,
   "metadata": {
    "scrolled": true
   },
   "outputs": [
    {
     "data": {
      "text/html": [
       "<div>\n",
       "<style scoped>\n",
       "    .dataframe tbody tr th:only-of-type {\n",
       "        vertical-align: middle;\n",
       "    }\n",
       "\n",
       "    .dataframe tbody tr th {\n",
       "        vertical-align: top;\n",
       "    }\n",
       "\n",
       "    .dataframe thead th {\n",
       "        text-align: right;\n",
       "    }\n",
       "</style>\n",
       "<table border=\"1\" class=\"dataframe\">\n",
       "  <thead>\n",
       "    <tr style=\"text-align: right;\">\n",
       "      <th></th>\n",
       "      <th>Пол</th>\n",
       "      <th>Возраст</th>\n",
       "      <th>Зарплата</th>\n",
       "      <th>Члены семьи</th>\n",
       "      <th>Страховые выплаты</th>\n",
       "    </tr>\n",
       "  </thead>\n",
       "  <tbody>\n",
       "    <tr>\n",
       "      <th>0</th>\n",
       "      <td>1</td>\n",
       "      <td>41.0</td>\n",
       "      <td>49600.0</td>\n",
       "      <td>1</td>\n",
       "      <td>0</td>\n",
       "    </tr>\n",
       "    <tr>\n",
       "      <th>1</th>\n",
       "      <td>0</td>\n",
       "      <td>46.0</td>\n",
       "      <td>38000.0</td>\n",
       "      <td>1</td>\n",
       "      <td>1</td>\n",
       "    </tr>\n",
       "    <tr>\n",
       "      <th>2</th>\n",
       "      <td>0</td>\n",
       "      <td>29.0</td>\n",
       "      <td>21000.0</td>\n",
       "      <td>0</td>\n",
       "      <td>0</td>\n",
       "    </tr>\n",
       "    <tr>\n",
       "      <th>3</th>\n",
       "      <td>0</td>\n",
       "      <td>21.0</td>\n",
       "      <td>41700.0</td>\n",
       "      <td>2</td>\n",
       "      <td>0</td>\n",
       "    </tr>\n",
       "    <tr>\n",
       "      <th>4</th>\n",
       "      <td>1</td>\n",
       "      <td>28.0</td>\n",
       "      <td>26100.0</td>\n",
       "      <td>0</td>\n",
       "      <td>0</td>\n",
       "    </tr>\n",
       "  </tbody>\n",
       "</table>\n",
       "</div>"
      ],
      "text/plain": [
       "   Пол  Возраст  Зарплата  Члены семьи  Страховые выплаты\n",
       "0    1     41.0   49600.0            1                  0\n",
       "1    0     46.0   38000.0            1                  1\n",
       "2    0     29.0   21000.0            0                  0\n",
       "3    0     21.0   41700.0            2                  0\n",
       "4    1     28.0   26100.0            0                  0"
      ]
     },
     "execution_count": 6,
     "metadata": {},
     "output_type": "execute_result"
    }
   ],
   "source": [
    "data.head()"
   ]
  },
  {
   "cell_type": "markdown",
   "metadata": {},
   "source": [
    "Проверим данные на дубликаты"
   ]
  },
  {
   "cell_type": "code",
   "execution_count": 7,
   "metadata": {},
   "outputs": [
    {
     "data": {
      "text/plain": [
       "153"
      ]
     },
     "execution_count": 7,
     "metadata": {},
     "output_type": "execute_result"
    }
   ],
   "source": [
    "data.duplicated().sum()"
   ]
  },
  {
   "cell_type": "code",
   "execution_count": 8,
   "metadata": {
    "scrolled": true
   },
   "outputs": [],
   "source": [
    "data = data.drop_duplicates()"
   ]
  },
  {
   "cell_type": "code",
   "execution_count": 9,
   "metadata": {},
   "outputs": [
    {
     "data": {
      "text/plain": [
       "0"
      ]
     },
     "execution_count": 9,
     "metadata": {},
     "output_type": "execute_result"
    }
   ],
   "source": [
    "data.duplicated().sum()"
   ]
  },
  {
   "cell_type": "markdown",
   "metadata": {},
   "source": [
    "Дубликаты были удалены из датасета"
   ]
  },
  {
   "cell_type": "markdown",
   "metadata": {},
   "source": [
    "## Умножение матриц"
   ]
  },
  {
   "cell_type": "markdown",
   "metadata": {},
   "source": [
    "В этом задании вы можете записывать формулы в *Jupyter Notebook.*\n",
    "\n",
    "Чтобы записать формулу внутри текста, окружите её символами доллара \\\\$; если снаружи —  двойными символами \\\\$\\\\$. Эти формулы записываются на языке вёрстки *LaTeX.* \n",
    "\n",
    "Для примера мы записали формулы линейной регрессии. Можете их скопировать и отредактировать, чтобы решить задачу.\n",
    "\n",
    "Работать в *LaTeX* необязательно."
   ]
  },
  {
   "cell_type": "markdown",
   "metadata": {},
   "source": [
    "Обозначения:\n",
    "\n",
    "- $X$ — матрица признаков (нулевой столбец состоит из единиц)\n",
    "\n",
    "- $y$ — вектор целевого признака\n",
    "\n",
    "- $P$ — матрица, на которую умножаются признаки\n",
    "\n",
    "- $w$ — вектор весов линейной регрессии (нулевой элемент равен сдвигу)"
   ]
  },
  {
   "cell_type": "markdown",
   "metadata": {},
   "source": [
    "Предсказания:\n",
    "\n",
    "$$\n",
    "a = Xw\n",
    "$$\n",
    "\n",
    "Задача обучения:\n",
    "\n",
    "$$\n",
    "w = \\arg\\min_w MSE(Xw, y)\n",
    "$$\n",
    "\n",
    "Формула обучения:\n",
    "\n",
    "$$\n",
    "w = (X^T X)^{-1} X^T y\n",
    "$$"
   ]
  },
  {
   "cell_type": "markdown",
   "metadata": {},
   "source": [
    "**Ответ:** Предсказание модели не поменяется, но поменяются веса для новых признаков.\n",
    "\n",
    "**Обоснование:**\n",
    "Формула расчёта весов:\n",
    "\n",
    "$$\n",
    "w = (X^T X)^{-1} X^T y\n",
    "$$\n",
    "\n",
    "Представим новую матрицу, как умножение исходной матрицы на обратную:\n",
    "\n",
    "$$\n",
    "X1 = X * P\n",
    "$$\n",
    "\n",
    "Подставим новое значение *X* в формулу *w1*\n",
    "\n",
    "$$\n",
    "w1 = (XP^T X)^{-1} XP^T y\n",
    "$$\n",
    "\n",
    "Раскроем первые скобки\n",
    "\n",
    "$$\n",
    "w1 = (P^TX^TXP)^{-1}P^TX^t y\n",
    "$$\n",
    "\n",
    "Перегруппируем множители в скобках и раскроем их\n",
    "\n",
    "$$\n",
    "w1 = P^{-1}(X^TX)^{-1}(P^T)^{-1}P^TX^T y\n",
    "$$\n",
    "\n",
    "Так как по условию *P* обратимая, то произведение равно *E* (единичная матрица). Можно заметить, что справа получилась формула для *w*\n",
    "\n",
    "$$\n",
    "w1 = P^{-1}(X^X)^{-1}EX^T = P^{-1} w\n",
    "$$\n",
    "\n",
    "Подставим новую формулу *w* в функцию линейной регрессии\n",
    "\n",
    "$$\n",
    "a = Xw = X1w1 = XPP^{-1}w\n",
    "$$\n",
    "\n",
    "Так как по условию *P* обратимая, то произведение *PP<sup>-1</sup>* снова равно *E*\n",
    "\n",
    "$$\n",
    "a1 = XPP^{-1}w = XEw = Xw = a\n",
    "$$\n",
    "\n",
    "Я доказал, что предсказания *a1* для матрицы признаков, умноженнных на обратимую матрицу *P* равны предсказаниям *a*."
   ]
  },
  {
   "cell_type": "markdown",
   "metadata": {},
   "source": [
    "## Алгоритм преобразования"
   ]
  },
  {
   "cell_type": "markdown",
   "metadata": {},
   "source": [
    "**Алгоритм**\n",
    "\n",
    "Мы создаем квадратную матрицу, размер которой соответствует числу признаков, и наполняем ее случайными числами. Далее мы проверяем, является ли эта матрица обратимой. Если матрица обратима, мы умножаем наши признаки на эту матрицу. \n",
    "\n",
    "Важно отметить, что требуется, чтобы матрица была обратимой, чтобы мы могли успешно восстановить исходные данные."
   ]
  },
  {
   "cell_type": "markdown",
   "metadata": {},
   "source": [
    "**Обоснование**\n",
    "\n",
    "Мы можем ожидать, что качество линейной регрессии будет одинаковым до и после преобразования данных. Преобразование данных не влияет на способность модели предсказывать целевой признак."
   ]
  },
  {
   "cell_type": "markdown",
   "metadata": {},
   "source": [
    "## Проверка алгоритма"
   ]
  },
  {
   "cell_type": "code",
   "execution_count": 10,
   "metadata": {},
   "outputs": [],
   "source": [
    "features = data.drop(['Страховые выплаты'], axis=1)\n",
    "target = data['Страховые выплаты']"
   ]
  },
  {
   "cell_type": "code",
   "execution_count": 16,
   "metadata": {},
   "outputs": [],
   "source": [
    "def get_rand_matrix():\n",
    "    det = 0\n",
    "    while det == 0:\n",
    "        matrix = np.random.normal(size=(data.shape[1] - 1, data.shape[1] - 1))\n",
    "        det = np.linalg.det(matrix)\n",
    "    return matrix"
   ]
  },
  {
   "cell_type": "code",
   "execution_count": 17,
   "metadata": {},
   "outputs": [],
   "source": [
    "matrix = get_rand_matrix()"
   ]
  },
  {
   "cell_type": "code",
   "execution_count": 18,
   "metadata": {
    "scrolled": true
   },
   "outputs": [
    {
     "data": {
      "text/plain": [
       "array([[-8.71854722,  6.21711762,  5.17863818, -1.68229742],\n",
       "       [ 0.1275935 ,  0.23109038, -0.1634978 , -0.11027591],\n",
       "       [ 6.46389994, -4.80134368, -3.38746968,  0.68041472],\n",
       "       [ 0.02918406, -0.57027114, -0.61224608,  0.02339108]])"
      ]
     },
     "execution_count": 18,
     "metadata": {},
     "output_type": "execute_result"
    }
   ],
   "source": [
    "matrix_inv = np.linalg.inv(matrix)\n",
    "matrix_inv"
   ]
  },
  {
   "cell_type": "code",
   "execution_count": 19,
   "metadata": {},
   "outputs": [
    {
     "name": "stdout",
     "output_type": "stream",
     "text": [
      "0.4302010044852\n"
     ]
    }
   ],
   "source": [
    "model = LinearRegression()\n",
    "model.fit(features, target)\n",
    "predictions = model.predict(features)\n",
    "r2_score_value = r2_score(target, predictions)\n",
    "print(f'{r2_score_value:.13f}')"
   ]
  },
  {
   "cell_type": "code",
   "execution_count": 20,
   "metadata": {},
   "outputs": [],
   "source": [
    "features_matrix = features.dot(matrix)"
   ]
  },
  {
   "cell_type": "code",
   "execution_count": 21,
   "metadata": {
    "scrolled": true
   },
   "outputs": [
    {
     "name": "stdout",
     "output_type": "stream",
     "text": [
      "0.4302010044852\n"
     ]
    }
   ],
   "source": [
    "model = LinearRegression()\n",
    "model.fit(features_matrix, target)\n",
    "predictions = model.predict(features_matrix)\n",
    "r2_score_value = r2_score(target, predictions)\n",
    "print(f'{r2_score_value:.13f}')"
   ]
  },
  {
   "cell_type": "markdown",
   "metadata": {},
   "source": [
    "## Вывод"
   ]
  },
  {
   "cell_type": "markdown",
   "metadata": {},
   "source": [
    "Значения обеих моделей сошлись, что говорит о том, что модель не потеряла своё качество. Данные пользователей теперь защищены!"
   ]
  },
  {
   "cell_type": "markdown",
   "metadata": {},
   "source": [
    "## Чек-лист проверки"
   ]
  },
  {
   "cell_type": "markdown",
   "metadata": {},
   "source": [
    "Поставьте 'x' в выполненных пунктах. Далее нажмите Shift+Enter."
   ]
  },
  {
   "cell_type": "markdown",
   "metadata": {},
   "source": [
    "- [x]  Jupyter Notebook открыт\n",
    "- [x]  Весь код выполняется без ошибок\n",
    "- [x]  Ячейки с кодом расположены в порядке исполнения\n",
    "- [x]  Выполнен шаг 1: данные загружены\n",
    "- [x]  Выполнен шаг 2: получен ответ на вопрос об умножении матриц\n",
    "    - [x]  Указан правильный вариант ответа\n",
    "    - [x]  Вариант обоснован\n",
    "- [x]  Выполнен шаг 3: предложен алгоритм преобразования\n",
    "    - [x]  Алгоритм описан\n",
    "    - [x]  Алгоритм обоснован\n",
    "- [x]  Выполнен шаг 4: алгоритм проверен\n",
    "    - [x]  Алгоритм реализован\n",
    "    - [x]  Проведено сравнение качества моделей до и после преобразования"
   ]
  },
  {
   "cell_type": "code",
   "execution_count": null,
   "metadata": {},
   "outputs": [],
   "source": []
  }
 ],
 "metadata": {
  "ExecuteTimeLog": [
   {
    "duration": 392,
    "start_time": "2023-09-12T08:58:42.367Z"
   },
   {
    "duration": 74,
    "start_time": "2023-09-12T09:00:43.747Z"
   },
   {
    "duration": 13,
    "start_time": "2023-09-12T09:01:06.268Z"
   },
   {
    "duration": 15,
    "start_time": "2023-09-12T09:02:31.475Z"
   },
   {
    "duration": 5,
    "start_time": "2023-09-12T09:03:41.452Z"
   },
   {
    "duration": 14,
    "start_time": "2023-09-12T09:06:46.494Z"
   },
   {
    "duration": 7,
    "start_time": "2023-09-12T09:06:55.373Z"
   },
   {
    "duration": 5,
    "start_time": "2023-09-12T09:06:59.413Z"
   },
   {
    "duration": 6,
    "start_time": "2023-09-12T09:07:00.650Z"
   },
   {
    "duration": 5,
    "start_time": "2023-09-12T09:58:13.125Z"
   },
   {
    "duration": 3,
    "start_time": "2023-09-12T09:58:39.882Z"
   },
   {
    "duration": 4,
    "start_time": "2023-09-12T09:59:09.361Z"
   },
   {
    "duration": 5,
    "start_time": "2023-09-12T09:59:53.250Z"
   },
   {
    "duration": 850,
    "start_time": "2023-09-12T10:03:39.613Z"
   },
   {
    "duration": 8,
    "start_time": "2023-09-12T10:05:51.762Z"
   },
   {
    "duration": 2,
    "start_time": "2023-09-12T10:06:19.314Z"
   },
   {
    "duration": 17,
    "start_time": "2023-09-12T10:07:00.243Z"
   },
   {
    "duration": 4,
    "start_time": "2023-09-12T10:07:58.601Z"
   },
   {
    "duration": 10,
    "start_time": "2023-09-12T10:08:18.679Z"
   },
   {
    "duration": 9,
    "start_time": "2023-09-12T10:09:50.952Z"
   },
   {
    "duration": 3460,
    "start_time": "2023-09-12T10:26:14.483Z"
   },
   {
    "duration": 28,
    "start_time": "2023-09-12T10:26:17.945Z"
   },
   {
    "duration": 10,
    "start_time": "2023-09-12T10:26:17.975Z"
   },
   {
    "duration": 14,
    "start_time": "2023-09-12T10:26:17.987Z"
   },
   {
    "duration": 6,
    "start_time": "2023-09-12T10:26:18.002Z"
   },
   {
    "duration": 35,
    "start_time": "2023-09-12T10:26:18.010Z"
   },
   {
    "duration": 17,
    "start_time": "2023-09-12T10:26:18.046Z"
   },
   {
    "duration": 10,
    "start_time": "2023-09-12T10:26:18.065Z"
   },
   {
    "duration": 18,
    "start_time": "2023-09-12T10:26:18.076Z"
   },
   {
    "duration": 13,
    "start_time": "2023-09-12T10:26:18.095Z"
   },
   {
    "duration": 42,
    "start_time": "2023-09-12T10:26:18.110Z"
   },
   {
    "duration": 95,
    "start_time": "2023-09-12T10:26:18.154Z"
   },
   {
    "duration": 102,
    "start_time": "2023-09-12T10:26:18.251Z"
   },
   {
    "duration": 21,
    "start_time": "2023-09-12T21:18:25.625Z"
   },
   {
    "duration": 45,
    "start_time": "2023-09-12T21:18:45.369Z"
   },
   {
    "duration": 1155,
    "start_time": "2023-09-12T21:18:49.626Z"
   },
   {
    "duration": 77,
    "start_time": "2023-09-12T21:18:50.783Z"
   },
   {
    "duration": 12,
    "start_time": "2023-09-12T21:18:50.862Z"
   },
   {
    "duration": 38,
    "start_time": "2023-09-12T21:18:50.875Z"
   },
   {
    "duration": 18,
    "start_time": "2023-09-12T21:18:50.915Z"
   },
   {
    "duration": 28,
    "start_time": "2023-09-12T21:18:50.934Z"
   },
   {
    "duration": 37,
    "start_time": "2023-09-12T21:18:50.964Z"
   },
   {
    "duration": 22,
    "start_time": "2023-09-12T21:18:51.003Z"
   },
   {
    "duration": 19,
    "start_time": "2023-09-12T21:18:51.027Z"
   },
   {
    "duration": 46,
    "start_time": "2023-09-12T21:18:51.048Z"
   },
   {
    "duration": 76,
    "start_time": "2023-09-12T21:18:51.096Z"
   },
   {
    "duration": 130,
    "start_time": "2023-09-12T21:18:51.174Z"
   },
   {
    "duration": 257,
    "start_time": "2023-09-12T21:18:51.307Z"
   },
   {
    "duration": 0,
    "start_time": "2023-09-12T21:18:51.565Z"
   },
   {
    "duration": 4,
    "start_time": "2023-09-12T21:19:24.301Z"
   },
   {
    "duration": 3,
    "start_time": "2023-09-12T21:19:24.747Z"
   },
   {
    "duration": 5,
    "start_time": "2023-09-12T21:19:25.177Z"
   },
   {
    "duration": 10,
    "start_time": "2023-09-12T21:19:28.312Z"
   },
   {
    "duration": 3,
    "start_time": "2023-09-12T21:19:28.743Z"
   },
   {
    "duration": 11,
    "start_time": "2023-09-12T21:19:29.980Z"
   }
  ],
  "kernelspec": {
   "display_name": "Python 3 (ipykernel)",
   "language": "python",
   "name": "python3"
  },
  "language_info": {
   "codemirror_mode": {
    "name": "ipython",
    "version": 3
   },
   "file_extension": ".py",
   "mimetype": "text/x-python",
   "name": "python",
   "nbconvert_exporter": "python",
   "pygments_lexer": "ipython3",
   "version": "3.9.5"
  },
  "toc": {
   "base_numbering": 1,
   "nav_menu": {},
   "number_sections": true,
   "sideBar": true,
   "skip_h1_title": true,
   "title_cell": "Содержание",
   "title_sidebar": "Contents",
   "toc_cell": true,
   "toc_position": {},
   "toc_section_display": true,
   "toc_window_display": false
  }
 },
 "nbformat": 4,
 "nbformat_minor": 2
}
