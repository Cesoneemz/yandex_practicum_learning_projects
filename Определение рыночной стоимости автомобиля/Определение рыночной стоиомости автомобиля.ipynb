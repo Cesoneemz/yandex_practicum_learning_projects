{
 "cells": [
  {
   "cell_type": "markdown",
   "metadata": {},
   "source": [
    "<div style=\"border:solid Chocolate 2px; padding: 40px\">\n",
    "\n",
    "<b> Данила, привет!👋</b>\n",
    "\n",
    "Меня зовут Алексей Гриб, и я буду ревьюером твоего проекта. \n",
    "\n",
    "Сразу хочу предложить в дальнейшем общаться на \"ты\" - надеюсь, так будет комфортнее:) Но если это неудобно, обязательно дай знать, и мы придумаем что-нибудь ещё!\n",
    "    \n",
    "Цель ревью - не искать ошибки в твоём проекте, а помочь тебе сделать твою работу ещё лучше, устранив недочёты и приблизив её к реальным задачам специалиста по работе с данными. Поэтому не расстраивайся, если что-то не получилось с первого раза - это нормально, и это поможет тебе вырасти!\n",
    "    \n",
    "Ты можешь найти мои комментарии, обозначенные <font color='green'>зеленым</font>, <font color='gold'>желтым</font> и <font color='red'>красным</font> цветами, например:\n",
    "\n",
    "<br/>\n",
    "\n",
    "<div class=\"alert alert-success\">\n",
    "<h2> Комментарий ревьюера <a class=\"tocSkip\"> </h2>\n",
    "\n",
    "<b>Все отлично!👍:</b> похвала, рекомендации «со звёздочкой», полезные лайфхаки, которые сделают и без того красивое решение ещё более элегантным.\n",
    "</div>\n",
    "\n",
    "<br/>\n",
    "\n",
    "<div class=\"alert alert-warning\">\n",
    "    <h2> Комментарий ревьюера <a class=\"tocSkip\"> </h2>\n",
    "    \n",
    "<b>Некоторые замечания и рекомендации⚠️:</b> некритичные ошибки или развивающие рекомендации на будущее. \n",
    "</div>\n",
    "\n",
    "\n",
    "<br/>\n",
    "<div class=\"alert alert-block alert-danger\">\n",
    "<h2> Комментарий ревьюера <a class=\"tocSkip\"></h2>\n",
    "\n",
    "    \n",
    "<b>На доработку❌:</b>\n",
    "Критичные ошибки, которые обязательно нужно исправить.\n",
    "</div>\n",
    "\n",
    "    \n",
    "Пожалуйста, не удаляй мои комментарии, они будут особенно полезны для нашей работы в случае повторной проверки проекта. \n",
    "    \n",
    "Ты также можешь задавать свои вопросы, реагировать на мои комментарии, делать пометки и пояснения - полная творческая свобода! Но маленькая просьба - пускай они будут отличаться от моих комментариев, это поможет избежать путаницы в нашем общении:)\n",
    "Например, вот так:\n",
    "    \n",
    "<div class=\"alert alert-info\">\n",
    "<h2> Комментарий студента <a class=\"tocSkip\"> </h2>\n",
    "\n",
    "*твой текст*\n",
    "</div>\n",
    "    \n",
    "Давай посмотрим на твой проект!"
   ]
  },
  {
   "cell_type": "markdown",
   "metadata": {},
   "source": [
    "# Определение стоимости автомобилей"
   ]
  },
  {
   "cell_type": "markdown",
   "metadata": {},
   "source": [
    "Сервис по продаже автомобилей с пробегом «Не бит, не крашен» разрабатывает приложение для привлечения новых клиентов. В нём можно быстро узнать рыночную стоимость своего автомобиля. В вашем распоряжении исторические данные: технические характеристики, комплектации и цены автомобилей. Вам нужно построить модель для определения стоимости. \n",
    "\n",
    "Заказчику важны:\n",
    "\n",
    "- качество предсказания;\n",
    "- скорость предсказания;\n",
    "- время обучения."
   ]
  },
  {
   "cell_type": "markdown",
   "metadata": {},
   "source": [
    "<div class=\"alert alert-success\">\n",
    "<h2> Комментарий ревьюера <a class=\"tocSkip\"> </h2>\n",
    "\n",
    "<b>Все отлично!👍:</b> Хорошее вступление!\n",
    "    \n",
    "В нём есть всё, что необходимо, чтобы понять суть проекта с первых строк отчёта!"
   ]
  },
  {
   "cell_type": "markdown",
   "metadata": {},
   "source": [
    "## Подготовка данных"
   ]
  },
  {
   "cell_type": "code",
   "execution_count": 1,
   "metadata": {},
   "outputs": [],
   "source": [
    "import pandas as pd\n",
    "import numpy as np\n",
    "import lightgbm as lgb\n",
    "import seaborn as sns\n",
    "import matplotlib.pyplot as plt\n",
    "import warnings\n",
    "import re\n",
    "import time\n",
    "import os\n",
    "\n",
    "from sklearn.preprocessing import OrdinalEncoder, OneHotEncoder\n",
    "from sklearn.preprocessing import StandardScaler\n",
    "from sklearn.metrics import mean_absolute_error,mean_squared_error\n",
    "from sklearn.model_selection import train_test_split, cross_val_score\n",
    "from sklearn.model_selection import GridSearchCV\n",
    "from sklearn.impute import SimpleImputer\n",
    "\n",
    "from sklearn.linear_model import LinearRegression\n",
    "from sklearn.tree import DecisionTreeRegressor\n",
    "from sklearn.ensemble import RandomForestRegressor\n",
    "from sklearn.dummy import DummyRegressor\n",
    "\n",
    "warnings.filterwarnings(\"ignore\")"
   ]
  },
  {
   "cell_type": "markdown",
   "metadata": {},
   "source": [
    "<div class=\"alert alert-success\">\n",
    "<h2> Комментарий ревьюера <a class=\"tocSkip\"> </h2>\n",
    "\n",
    "<b>Все отлично!👍:</b> Библиотеки импортировали - отлично!"
   ]
  },
  {
   "cell_type": "markdown",
   "metadata": {},
   "source": [
    "<div class=\"alert alert-warning\">\n",
    "    <h2> Комментарий ревьюера <a class=\"tocSkip\"> </h2>\n",
    "    \n",
    "<b>Некоторые замечания и рекомендации⚠️:</b> \n",
    "\n",
    "Я вижу, исполнение твоего кода начинается в ячейке с номером, который отличается от единицы. Перед отправкой проекта стоит проверять работоспособность кода — это можно сделать, нажав на панели Jupiter Hub ``Kernel`` и ``Restart & Run All`` (см скриншот ниже).\n",
    "\n",
    "![](https://i.postimg.cc/yd19rYf6/Screenshot-428.png)\n",
    "        \n",
    "Важно также убедиться, что все ячейки проекта исполнились - можно просто пролистать работу до конца и убедиться, что последняя ячейка исполнена. Такая проверка поможет тебе убедиться, что твоё решение будет должным образом воспроизведено во время ревью или во время передачи его заказчику - это очень важный этап, пренебрегать которым не стоит:)"
   ]
  },
  {
   "cell_type": "code",
   "execution_count": 2,
   "metadata": {},
   "outputs": [],
   "source": [
    "path_1 = '/datasets/autos.csv'\n",
    "path_2 = './datasets/autos.csv'\n",
    "\n",
    "try: \n",
    "    df = pd.read_csv(path_1)\n",
    "except:\n",
    "    if os.path.exists(path_2):\n",
    "        df = pd.read_csv(path_2)\n",
    "    else:\n",
    "        print('Dataset not found')"
   ]
  },
  {
   "cell_type": "markdown",
   "metadata": {},
   "source": [
    "<div class=\"alert alert-success\">\n",
    "<h2> Комментарий ревьюера <a class=\"tocSkip\"> </h2>\n",
    "\n",
    "<b>Все отлично!👍</b> \n",
    "    \n",
    "Данные загрузили.\n",
    "    \n",
    "При считывании данных из файла здорово перестраховывать себя от ошибок, связанных, например, с неверным указанием пути к файлу. А иногда бывает, что работаешь с файлом локально, выгружаешь его на сервер, ожидая, что он будет принимать данные, которые лежат на том же сервере, а код падает с ошибкой, потому что путь к файлу не поменялся с локального на серверный.\n",
    "    \n",
    "Для этого, например, можно использовать конструкцию `try-except`: сначала пробуешь локальный путь, при возникновении ошибки используется серверный путь (подробнее можешь почитать тут: https://pythonworld.ru/tipy-dannyx-v-python/isklyucheniya-v-python-konstrukciya-try-except-dlya-obrabotki-isklyuchenij.html).\n",
    "    \n",
    "Но еще лучше использовать библиотеку `os` - её использование позволит тебе проверять существование указанных директорий (что может быть актуально при одновременной работа на локальном и сетевом окружении) и загружать данные из существующей директории, избегая ошибок. Как пример:\n",
    "    \n",
    "    import os\n",
    "\n",
    "    pth1 = '/folder_1/data.csv'\n",
    "    pth2 = '/folder_2/data.csv'\n",
    "    \n",
    "    if os.path.exists(pth1):\n",
    "        query_1 = pd.read_csv(pth1)\n",
    "    elif os.path.exists(pth2):\n",
    "        query_1 = pd.read_csv(pth2)\n",
    "    else:\n",
    "        print('Something is wrong')\n",
    "\n",
    "Ещё на этапе считывания данных можно спарсить дату: за это действие отвечает параметр `parse_dates` метода `read_csv()`, в него нужно передать список с названием полей-дат, и в большинстве случаев дата будет корректно преобразована в нужный формат сразу:)\n",
    "Также на этапе считывания данных задать индекс-столбец- за это действие отвечает параметр `index_col`."
   ]
  },
  {
   "cell_type": "code",
   "execution_count": 3,
   "metadata": {
    "scrolled": true
   },
   "outputs": [
    {
     "data": {
      "text/html": [
       "<div>\n",
       "<style scoped>\n",
       "    .dataframe tbody tr th:only-of-type {\n",
       "        vertical-align: middle;\n",
       "    }\n",
       "\n",
       "    .dataframe tbody tr th {\n",
       "        vertical-align: top;\n",
       "    }\n",
       "\n",
       "    .dataframe thead th {\n",
       "        text-align: right;\n",
       "    }\n",
       "</style>\n",
       "<table border=\"1\" class=\"dataframe\">\n",
       "  <thead>\n",
       "    <tr style=\"text-align: right;\">\n",
       "      <th></th>\n",
       "      <th>DateCrawled</th>\n",
       "      <th>Price</th>\n",
       "      <th>VehicleType</th>\n",
       "      <th>RegistrationYear</th>\n",
       "      <th>Gearbox</th>\n",
       "      <th>Power</th>\n",
       "      <th>Model</th>\n",
       "      <th>Kilometer</th>\n",
       "      <th>RegistrationMonth</th>\n",
       "      <th>FuelType</th>\n",
       "      <th>Brand</th>\n",
       "      <th>Repaired</th>\n",
       "      <th>DateCreated</th>\n",
       "      <th>NumberOfPictures</th>\n",
       "      <th>PostalCode</th>\n",
       "      <th>LastSeen</th>\n",
       "    </tr>\n",
       "  </thead>\n",
       "  <tbody>\n",
       "    <tr>\n",
       "      <th>0</th>\n",
       "      <td>2016-03-24 11:52:17</td>\n",
       "      <td>480</td>\n",
       "      <td>NaN</td>\n",
       "      <td>1993</td>\n",
       "      <td>manual</td>\n",
       "      <td>0</td>\n",
       "      <td>golf</td>\n",
       "      <td>150000</td>\n",
       "      <td>0</td>\n",
       "      <td>petrol</td>\n",
       "      <td>volkswagen</td>\n",
       "      <td>NaN</td>\n",
       "      <td>2016-03-24 00:00:00</td>\n",
       "      <td>0</td>\n",
       "      <td>70435</td>\n",
       "      <td>2016-04-07 03:16:57</td>\n",
       "    </tr>\n",
       "    <tr>\n",
       "      <th>1</th>\n",
       "      <td>2016-03-24 10:58:45</td>\n",
       "      <td>18300</td>\n",
       "      <td>coupe</td>\n",
       "      <td>2011</td>\n",
       "      <td>manual</td>\n",
       "      <td>190</td>\n",
       "      <td>NaN</td>\n",
       "      <td>125000</td>\n",
       "      <td>5</td>\n",
       "      <td>gasoline</td>\n",
       "      <td>audi</td>\n",
       "      <td>yes</td>\n",
       "      <td>2016-03-24 00:00:00</td>\n",
       "      <td>0</td>\n",
       "      <td>66954</td>\n",
       "      <td>2016-04-07 01:46:50</td>\n",
       "    </tr>\n",
       "    <tr>\n",
       "      <th>2</th>\n",
       "      <td>2016-03-14 12:52:21</td>\n",
       "      <td>9800</td>\n",
       "      <td>suv</td>\n",
       "      <td>2004</td>\n",
       "      <td>auto</td>\n",
       "      <td>163</td>\n",
       "      <td>grand</td>\n",
       "      <td>125000</td>\n",
       "      <td>8</td>\n",
       "      <td>gasoline</td>\n",
       "      <td>jeep</td>\n",
       "      <td>NaN</td>\n",
       "      <td>2016-03-14 00:00:00</td>\n",
       "      <td>0</td>\n",
       "      <td>90480</td>\n",
       "      <td>2016-04-05 12:47:46</td>\n",
       "    </tr>\n",
       "    <tr>\n",
       "      <th>3</th>\n",
       "      <td>2016-03-17 16:54:04</td>\n",
       "      <td>1500</td>\n",
       "      <td>small</td>\n",
       "      <td>2001</td>\n",
       "      <td>manual</td>\n",
       "      <td>75</td>\n",
       "      <td>golf</td>\n",
       "      <td>150000</td>\n",
       "      <td>6</td>\n",
       "      <td>petrol</td>\n",
       "      <td>volkswagen</td>\n",
       "      <td>no</td>\n",
       "      <td>2016-03-17 00:00:00</td>\n",
       "      <td>0</td>\n",
       "      <td>91074</td>\n",
       "      <td>2016-03-17 17:40:17</td>\n",
       "    </tr>\n",
       "    <tr>\n",
       "      <th>4</th>\n",
       "      <td>2016-03-31 17:25:20</td>\n",
       "      <td>3600</td>\n",
       "      <td>small</td>\n",
       "      <td>2008</td>\n",
       "      <td>manual</td>\n",
       "      <td>69</td>\n",
       "      <td>fabia</td>\n",
       "      <td>90000</td>\n",
       "      <td>7</td>\n",
       "      <td>gasoline</td>\n",
       "      <td>skoda</td>\n",
       "      <td>no</td>\n",
       "      <td>2016-03-31 00:00:00</td>\n",
       "      <td>0</td>\n",
       "      <td>60437</td>\n",
       "      <td>2016-04-06 10:17:21</td>\n",
       "    </tr>\n",
       "    <tr>\n",
       "      <th>5</th>\n",
       "      <td>2016-04-04 17:36:23</td>\n",
       "      <td>650</td>\n",
       "      <td>sedan</td>\n",
       "      <td>1995</td>\n",
       "      <td>manual</td>\n",
       "      <td>102</td>\n",
       "      <td>3er</td>\n",
       "      <td>150000</td>\n",
       "      <td>10</td>\n",
       "      <td>petrol</td>\n",
       "      <td>bmw</td>\n",
       "      <td>yes</td>\n",
       "      <td>2016-04-04 00:00:00</td>\n",
       "      <td>0</td>\n",
       "      <td>33775</td>\n",
       "      <td>2016-04-06 19:17:07</td>\n",
       "    </tr>\n",
       "    <tr>\n",
       "      <th>6</th>\n",
       "      <td>2016-04-01 20:48:51</td>\n",
       "      <td>2200</td>\n",
       "      <td>convertible</td>\n",
       "      <td>2004</td>\n",
       "      <td>manual</td>\n",
       "      <td>109</td>\n",
       "      <td>2_reihe</td>\n",
       "      <td>150000</td>\n",
       "      <td>8</td>\n",
       "      <td>petrol</td>\n",
       "      <td>peugeot</td>\n",
       "      <td>no</td>\n",
       "      <td>2016-04-01 00:00:00</td>\n",
       "      <td>0</td>\n",
       "      <td>67112</td>\n",
       "      <td>2016-04-05 18:18:39</td>\n",
       "    </tr>\n",
       "    <tr>\n",
       "      <th>7</th>\n",
       "      <td>2016-03-21 18:54:38</td>\n",
       "      <td>0</td>\n",
       "      <td>sedan</td>\n",
       "      <td>1980</td>\n",
       "      <td>manual</td>\n",
       "      <td>50</td>\n",
       "      <td>other</td>\n",
       "      <td>40000</td>\n",
       "      <td>7</td>\n",
       "      <td>petrol</td>\n",
       "      <td>volkswagen</td>\n",
       "      <td>no</td>\n",
       "      <td>2016-03-21 00:00:00</td>\n",
       "      <td>0</td>\n",
       "      <td>19348</td>\n",
       "      <td>2016-03-25 16:47:58</td>\n",
       "    </tr>\n",
       "    <tr>\n",
       "      <th>8</th>\n",
       "      <td>2016-04-04 23:42:13</td>\n",
       "      <td>14500</td>\n",
       "      <td>bus</td>\n",
       "      <td>2014</td>\n",
       "      <td>manual</td>\n",
       "      <td>125</td>\n",
       "      <td>c_max</td>\n",
       "      <td>30000</td>\n",
       "      <td>8</td>\n",
       "      <td>petrol</td>\n",
       "      <td>ford</td>\n",
       "      <td>NaN</td>\n",
       "      <td>2016-04-04 00:00:00</td>\n",
       "      <td>0</td>\n",
       "      <td>94505</td>\n",
       "      <td>2016-04-04 23:42:13</td>\n",
       "    </tr>\n",
       "    <tr>\n",
       "      <th>9</th>\n",
       "      <td>2016-03-17 10:53:50</td>\n",
       "      <td>999</td>\n",
       "      <td>small</td>\n",
       "      <td>1998</td>\n",
       "      <td>manual</td>\n",
       "      <td>101</td>\n",
       "      <td>golf</td>\n",
       "      <td>150000</td>\n",
       "      <td>0</td>\n",
       "      <td>NaN</td>\n",
       "      <td>volkswagen</td>\n",
       "      <td>NaN</td>\n",
       "      <td>2016-03-17 00:00:00</td>\n",
       "      <td>0</td>\n",
       "      <td>27472</td>\n",
       "      <td>2016-03-31 17:17:06</td>\n",
       "    </tr>\n",
       "  </tbody>\n",
       "</table>\n",
       "</div>"
      ],
      "text/plain": [
       "           DateCrawled  Price  VehicleType  RegistrationYear Gearbox  Power  \\\n",
       "0  2016-03-24 11:52:17    480          NaN              1993  manual      0   \n",
       "1  2016-03-24 10:58:45  18300        coupe              2011  manual    190   \n",
       "2  2016-03-14 12:52:21   9800          suv              2004    auto    163   \n",
       "3  2016-03-17 16:54:04   1500        small              2001  manual     75   \n",
       "4  2016-03-31 17:25:20   3600        small              2008  manual     69   \n",
       "5  2016-04-04 17:36:23    650        sedan              1995  manual    102   \n",
       "6  2016-04-01 20:48:51   2200  convertible              2004  manual    109   \n",
       "7  2016-03-21 18:54:38      0        sedan              1980  manual     50   \n",
       "8  2016-04-04 23:42:13  14500          bus              2014  manual    125   \n",
       "9  2016-03-17 10:53:50    999        small              1998  manual    101   \n",
       "\n",
       "     Model  Kilometer  RegistrationMonth  FuelType       Brand Repaired  \\\n",
       "0     golf     150000                  0    petrol  volkswagen      NaN   \n",
       "1      NaN     125000                  5  gasoline        audi      yes   \n",
       "2    grand     125000                  8  gasoline        jeep      NaN   \n",
       "3     golf     150000                  6    petrol  volkswagen       no   \n",
       "4    fabia      90000                  7  gasoline       skoda       no   \n",
       "5      3er     150000                 10    petrol         bmw      yes   \n",
       "6  2_reihe     150000                  8    petrol     peugeot       no   \n",
       "7    other      40000                  7    petrol  volkswagen       no   \n",
       "8    c_max      30000                  8    petrol        ford      NaN   \n",
       "9     golf     150000                  0       NaN  volkswagen      NaN   \n",
       "\n",
       "           DateCreated  NumberOfPictures  PostalCode             LastSeen  \n",
       "0  2016-03-24 00:00:00                 0       70435  2016-04-07 03:16:57  \n",
       "1  2016-03-24 00:00:00                 0       66954  2016-04-07 01:46:50  \n",
       "2  2016-03-14 00:00:00                 0       90480  2016-04-05 12:47:46  \n",
       "3  2016-03-17 00:00:00                 0       91074  2016-03-17 17:40:17  \n",
       "4  2016-03-31 00:00:00                 0       60437  2016-04-06 10:17:21  \n",
       "5  2016-04-04 00:00:00                 0       33775  2016-04-06 19:17:07  \n",
       "6  2016-04-01 00:00:00                 0       67112  2016-04-05 18:18:39  \n",
       "7  2016-03-21 00:00:00                 0       19348  2016-03-25 16:47:58  \n",
       "8  2016-04-04 00:00:00                 0       94505  2016-04-04 23:42:13  \n",
       "9  2016-03-17 00:00:00                 0       27472  2016-03-31 17:17:06  "
      ]
     },
     "execution_count": 3,
     "metadata": {},
     "output_type": "execute_result"
    }
   ],
   "source": [
    "df.head(10)"
   ]
  },
  {
   "cell_type": "code",
   "execution_count": 4,
   "metadata": {},
   "outputs": [
    {
     "name": "stdout",
     "output_type": "stream",
     "text": [
      "<class 'pandas.core.frame.DataFrame'>\n",
      "RangeIndex: 354369 entries, 0 to 354368\n",
      "Data columns (total 16 columns):\n",
      " #   Column             Non-Null Count   Dtype \n",
      "---  ------             --------------   ----- \n",
      " 0   DateCrawled        354369 non-null  object\n",
      " 1   Price              354369 non-null  int64 \n",
      " 2   VehicleType        316879 non-null  object\n",
      " 3   RegistrationYear   354369 non-null  int64 \n",
      " 4   Gearbox            334536 non-null  object\n",
      " 5   Power              354369 non-null  int64 \n",
      " 6   Model              334664 non-null  object\n",
      " 7   Kilometer          354369 non-null  int64 \n",
      " 8   RegistrationMonth  354369 non-null  int64 \n",
      " 9   FuelType           321474 non-null  object\n",
      " 10  Brand              354369 non-null  object\n",
      " 11  Repaired           283215 non-null  object\n",
      " 12  DateCreated        354369 non-null  object\n",
      " 13  NumberOfPictures   354369 non-null  int64 \n",
      " 14  PostalCode         354369 non-null  int64 \n",
      " 15  LastSeen           354369 non-null  object\n",
      "dtypes: int64(7), object(9)\n",
      "memory usage: 43.3+ MB\n"
     ]
    }
   ],
   "source": [
    "df.info()"
   ]
  },
  {
   "cell_type": "markdown",
   "metadata": {},
   "source": [
    "Датасет содержит в себе названия столбцов, которые стилистически не является `snake_case`. Исправим это с помощью регулярных выражений."
   ]
  },
  {
   "cell_type": "code",
   "execution_count": 5,
   "metadata": {},
   "outputs": [],
   "source": [
    "def camel_case_to_snake_case(string: str) -> str:\n",
    "    result = re.sub(r'(?<!^)(?=[A-Z])', '_', string).lower()\n",
    "    return result"
   ]
  },
  {
   "cell_type": "code",
   "execution_count": 6,
   "metadata": {
    "scrolled": true
   },
   "outputs": [
    {
     "data": {
      "text/plain": [
       "Index(['date_crawled', 'price', 'vehicle_type', 'registration_year', 'gearbox',\n",
       "       'power', 'model', 'kilometer', 'registration_month', 'fuel_type',\n",
       "       'brand', 'repaired', 'date_created', 'number_of_pictures',\n",
       "       'postal_code', 'last_seen'],\n",
       "      dtype='object')"
      ]
     },
     "execution_count": 6,
     "metadata": {},
     "output_type": "execute_result"
    }
   ],
   "source": [
    "renamed_columns = {col: camel_case_to_snake_case(col) for col in df.columns}\n",
    "df = df.rename(columns=renamed_columns)\n",
    "df.columns"
   ]
  },
  {
   "cell_type": "markdown",
   "metadata": {},
   "source": [
    "- `date_crawled` — дата скачивания анкеты из базы\n",
    "- `vehicle_type` — тип автомобильного кузова\n",
    "- `registration_year` — год регистрации автомобиля\n",
    "- `gearbox` — тип коробки передач\n",
    "- `power` — мощность (л. с.)\n",
    "- `model` — модель автомобиля\n",
    "- `kilometer` — пробег (км)\n",
    "- `registration_month` — месяц регистрации автомобиля\n",
    "- `fuel_type` — тип топлива\n",
    "- `brand` — марка автомобиля\n",
    "- `repaired` — была машина в ремонте или нет\n",
    "- `date_created` — дата создания анкеты\n",
    "- `number_of_pictures` — количество фотографий автомобиля\n",
    "- `postal_code` — почтовый индекс владельца анкеты (пользователя)\n",
    "- `last_seen` — дата последней активности пользователя\n",
    "\n",
    "**Целевой признак**\n",
    "- `price` — цена (евро)"
   ]
  },
  {
   "cell_type": "markdown",
   "metadata": {},
   "source": [
    "Приведём столбцы `date_crawled`, `registration_year`, `last_seen` к типу даты."
   ]
  },
  {
   "cell_type": "code",
   "execution_count": 7,
   "metadata": {},
   "outputs": [],
   "source": [
    "df['date_crawled'] = pd.to_datetime(df['date_crawled'], format='%Y-%m-%d %H:%M:%S')\n",
    "# df['registration_year'] = pd.to_datetime(df['registration_year'], format='%Y-%m-%d %H:%M:%S')\n",
    "df['date_created'] = pd.to_datetime(df['date_created'], format='%Y-%m-%d %H:%M:%S')\n",
    "df['last_seen'] = pd.to_datetime(df['last_seen'], format='%Y-%m-%d %H:%M:%S')"
   ]
  },
  {
   "cell_type": "markdown",
   "metadata": {},
   "source": [
    "<div class=\"alert alert-success\">\n",
    "<h2> Комментарий ревьюера <a class=\"tocSkip\"> </h2>\n",
    "\n",
    "<b>Все отлично!👍</b> \n",
    "    \n",
    "Данные осмотрели, преобразовали столбцы и типы данных в датах - отлично!"
   ]
  },
  {
   "cell_type": "markdown",
   "metadata": {},
   "source": [
    "### Поиск аномалий в столбцах"
   ]
  },
  {
   "cell_type": "markdown",
   "metadata": {},
   "source": [
    "Проверим сначала целевой признак, то бишь, столбец `price`."
   ]
  },
  {
   "cell_type": "code",
   "execution_count": 8,
   "metadata": {},
   "outputs": [
    {
     "data": {
      "image/png": "[encoded data removed]",
      "text/plain": [
       "<Figure size 864x504 with 1 Axes>"
      ]
     },
     "metadata": {},
     "output_type": "display_data"
    }
   ],
   "source": [
    "sns.set_style('darkgrid')\n",
    "df['price'].hist(bins=200, figsize=(12, 7), density=True)\n",
    "plt.title('Распределение стоимости автомобилей')\n",
    "plt.xlabel('Стоимость (евро)')\n",
    "plt.ylabel('Плотность распределения')\n",
    "plt.show()"
   ]
  },
  {
   "cell_type": "markdown",
   "metadata": {},
   "source": [
    "<div class=\"alert alert-block alert-danger\">\n",
    "<h2> Комментарий ревьюера <a class=\"tocSkip\"></h2>\n",
    "\n",
    "    \n",
    "<b>На доработку❌:</b>\n",
    "Используется ненормированная гистограмма - по оси Y в этом случае просто число наблюдений. Тут и далее."
   ]
  },
  {
   "cell_type": "markdown",
   "metadata": {},
   "source": [
    "<div class=\"alert alert-info\">\n",
    "<h2> Комментарий студента <a class=\"tocSkip\"> </h2>\n",
    "\n",
    "Сделал гистограммы нормироваными\n",
    "</div>"
   ]
  },
  {
   "cell_type": "markdown",
   "metadata": {},
   "source": [
    "<div class=\"alert alert-success\">\n",
    "<h2> Комментарий ревьюера v.2 <a class=\"tocSkip\"> </h2>\n",
    "\n",
    "<b>Все отлично!👍:</b> Учтено."
   ]
  },
  {
   "cell_type": "code",
   "execution_count": 9,
   "metadata": {},
   "outputs": [
    {
     "data": {
      "image/png": "[encoded data removed]",
      "text/plain": [
       "<Figure size 864x504 with 1 Axes>"
      ]
     },
     "metadata": {},
     "output_type": "display_data"
    }
   ],
   "source": [
    "df.boxplot(['price'], figsize=(12, 7))\n",
    "plt.title('График распределения уникальной стоимости автомобилей')\n",
    "plt.ylabel('Стоимость (евро)')\n",
    "plt.show()"
   ]
  },
  {
   "cell_type": "code",
   "execution_count": 10,
   "metadata": {
    "scrolled": true
   },
   "outputs": [
    {
     "data": {
      "text/plain": [
       "13314"
      ]
     },
     "execution_count": 10,
     "metadata": {},
     "output_type": "execute_result"
    }
   ],
   "source": [
    "df[df['price'] < 100]['price'].count()"
   ]
  },
  {
   "cell_type": "markdown",
   "metadata": {},
   "source": [
    "Исходя из гистограммы, мы видим, что стоимость автомобиля меньше, чем 100 евро являкется аномалией. Уберем аномальные значения."
   ]
  },
  {
   "cell_type": "code",
   "execution_count": 11,
   "metadata": {},
   "outputs": [
    {
     "data": {
      "text/plain": [
       "0"
      ]
     },
     "execution_count": 11,
     "metadata": {},
     "output_type": "execute_result"
    }
   ],
   "source": [
    "df = df[df['price'] > 100]\n",
    "df[df['price'] < 100]['price'].count()"
   ]
  },
  {
   "cell_type": "markdown",
   "metadata": {},
   "source": [
    "<div class=\"alert alert-success\">\n",
    "<h2> Комментарий ревьюера <a class=\"tocSkip\"> </h2>\n",
    "\n",
    "<b>Все отлично!👍</b> \n",
    "    \n",
    "Удалены объявления с низкой ценой - отлично!"
   ]
  },
  {
   "cell_type": "markdown",
   "metadata": {},
   "source": [
    "<div class=\"alert alert-warning\">\n",
    "    <h2> Комментарий ревьюера <a class=\"tocSkip\"> </h2>\n",
    "    \n",
    "<b>Некоторые замечания и рекомендации⚠️:</b> \n",
    "\n",
    "Я также рекомендую удалить неадекватно низкие значения цен: в пределах цен до 1000-2000 вряд ли можно купить полноценный автомобиль."
   ]
  },
  {
   "cell_type": "markdown",
   "metadata": {},
   "source": [
    "Исходя из дат формирования списков, можно отсеять все объявления, который не подходят по нынешнии реалии. Возьмем цифру в примерно 70 лет давности и более."
   ]
  },
  {
   "cell_type": "code",
   "execution_count": 12,
   "metadata": {
    "scrolled": true
   },
   "outputs": [],
   "source": [
    "df = df[(df['registration_year'] >= 1950) & (df['registration_year'] < 2017)]"
   ]
  },
  {
   "cell_type": "markdown",
   "metadata": {},
   "source": [
    "<div class=\"alert alert-success\">\n",
    "<h2> Комментарий ревьюера <a class=\"tocSkip\"> </h2>\n",
    "\n",
    "<b>Все отлично!👍</b> \n",
    "    \n",
    "По году регистрации фильтрация корректна."
   ]
  },
  {
   "cell_type": "markdown",
   "metadata": {},
   "source": [
    "Теперь посмотрим на столбец `power`. Судя по предварительному просмотру, данный столбец имеет необъяснимо большие данные по мощности автомобилей."
   ]
  },
  {
   "cell_type": "code",
   "execution_count": 13,
   "metadata": {},
   "outputs": [
    {
     "data": {
      "image/png": "[encoded data removed]",
      "text/plain": [
       "<Figure size 864x504 with 1 Axes>"
      ]
     },
     "metadata": {},
     "output_type": "display_data"
    }
   ],
   "source": [
    "sns.set_style('darkgrid')\n",
    "df['price'].hist(bins=50, figsize=(12, 7), density=True)\n",
    "plt.title('Распределение мощности автомобилей')\n",
    "plt.xlabel('Мощность (л. c.)')\n",
    "plt.ylabel('Плотность распределения')\n",
    "plt.show()"
   ]
  },
  {
   "cell_type": "code",
   "execution_count": 14,
   "metadata": {},
   "outputs": [
    {
     "data": {
      "image/png": "[encoded data removed]",
      "text/plain": [
       "<Figure size 864x504 with 1 Axes>"
      ]
     },
     "metadata": {},
     "output_type": "display_data"
    }
   ],
   "source": [
    "df.boxplot(['power'], figsize=(12, 7))\n",
    "plt.title('График распределения уникальной мощности автомобилей')\n",
    "plt.ylabel('Мощность (л. c.)')\n",
    "plt.show()"
   ]
  },
  {
   "cell_type": "markdown",
   "metadata": {},
   "source": [
    "Исходя из графиков, мы можем сказать, что машины с мощностью меньше **10 л.c** и болше **2500 л.c** являются аномалия и их следует удалить."
   ]
  },
  {
   "cell_type": "code",
   "execution_count": 15,
   "metadata": {},
   "outputs": [],
   "source": [
    "df = df[(df['power'] >= 10) & (df['power'] < 2500)]"
   ]
  },
  {
   "cell_type": "markdown",
   "metadata": {},
   "source": [
    "<div class=\"alert alert-success\">\n",
    "<h2> Комментарий ревьюера <a class=\"tocSkip\"> </h2>\n",
    "\n",
    "<b>Все отлично!👍</b> \n",
    "    \n",
    "Фильтрация по мощности также корректна."
   ]
  },
  {
   "cell_type": "markdown",
   "metadata": {},
   "source": [
    "Все видимые аномалии были удалены."
   ]
  },
  {
   "cell_type": "markdown",
   "metadata": {},
   "source": [
    "### Поиск и заполнение пропущенных значений"
   ]
  },
  {
   "cell_type": "code",
   "execution_count": 16,
   "metadata": {},
   "outputs": [
    {
     "data": {
      "text/plain": [
       "date_crawled              0\n",
       "price                     0\n",
       "vehicle_type          10715\n",
       "registration_year         0\n",
       "gearbox                5225\n",
       "power                     0\n",
       "model                 10888\n",
       "kilometer                 0\n",
       "registration_month        0\n",
       "fuel_type             15215\n",
       "brand                     0\n",
       "repaired              42320\n",
       "date_created              0\n",
       "number_of_pictures        0\n",
       "postal_code               0\n",
       "last_seen                 0\n",
       "dtype: int64"
      ]
     },
     "execution_count": 16,
     "metadata": {},
     "output_type": "execute_result"
    }
   ],
   "source": [
    "df.isnull().sum()"
   ]
  },
  {
   "cell_type": "markdown",
   "metadata": {},
   "source": [
    "Столбец `vehicle_type` содержит в себе категориальный признак, который обозначает тип кузова. Заполнить пропуски медианой или средним не представляется средним. Заполним все пропуски фразой `n/a`, для обозначения отсутствующей характеристики."
   ]
  },
  {
   "cell_type": "code",
   "execution_count": 17,
   "metadata": {},
   "outputs": [
    {
     "data": {
      "text/plain": [
       "0"
      ]
     },
     "execution_count": 17,
     "metadata": {},
     "output_type": "execute_result"
    }
   ],
   "source": [
    "df['vehicle_type'] = df['vehicle_type'].fillna('n/a')\n",
    "df['vehicle_type'].isnull().sum()"
   ]
  },
  {
   "cell_type": "markdown",
   "metadata": {},
   "source": [
    "Столбец `gearbox` содержит информацию о типе коробки передач и является важным параметром для предсказания цены. Пропуски будут вносить шумы в финальную модель. Пропуски не представляется возможным заполнить средним или медианой. Заполним пропуски фразой `other`."
   ]
  },
  {
   "cell_type": "code",
   "execution_count": 18,
   "metadata": {},
   "outputs": [
    {
     "data": {
      "text/plain": [
       "0"
      ]
     },
     "execution_count": 18,
     "metadata": {},
     "output_type": "execute_result"
    }
   ],
   "source": [
    "df['gearbox'] = df['gearbox'].fillna('other')\n",
    "df['gearbox'].isnull().sum()"
   ]
  },
  {
   "cell_type": "markdown",
   "metadata": {},
   "source": [
    "Столбец `model` содержит в себе информацию о модели транспортного средства, так же, как и `gearbox`. Средним или медианой заполнить не получится. Заполним пропуски фразой `other`."
   ]
  },
  {
   "cell_type": "code",
   "execution_count": 19,
   "metadata": {},
   "outputs": [
    {
     "data": {
      "text/plain": [
       "0"
      ]
     },
     "execution_count": 19,
     "metadata": {},
     "output_type": "execute_result"
    }
   ],
   "source": [
    "df['model'] = df['model'].fillna('other')\n",
    "df['model'].isnull().sum()"
   ]
  },
  {
   "cell_type": "markdown",
   "metadata": {},
   "source": [
    "<div class=\"alert alert-block alert-danger\">\n",
    "<h2> Комментарий ревьюера <a class=\"tocSkip\"></h2>\n",
    "\n",
    "    \n",
    "<b>На доработку❌:</b>\n",
    "Когда клиент не указывает какой-то параметр объявления - это классический сценарий, мы должны уметь работать и с такими клиентами. При работе с категориальными признаками стоит использовать заглушки в виде новых значений категорий для заполнения пропусков: это позволит как сохранить наблюдения вместо их удаления, так и избавит нас от возможных ошибок при эмпирическом импутировании."
   ]
  },
  {
   "cell_type": "markdown",
   "metadata": {},
   "source": [
    "<div class=\"alert alert-info\">\n",
    "<h2> Комментарий студента <a class=\"tocSkip\"> </h2>\n",
    "\n",
    "Вместо удаления пропусков я теперь заполняю их фразой `other`\n",
    "</div>"
   ]
  },
  {
   "cell_type": "markdown",
   "metadata": {},
   "source": [
    "<div class=\"alert alert-success\">\n",
    "<h2> Комментарий ревьюера v.2 <a class=\"tocSkip\"> </h2>\n",
    "\n",
    "<b>Все отлично!👍:</b> Учтено."
   ]
  },
  {
   "cell_type": "markdown",
   "metadata": {},
   "source": [
    "Столбец `fuel_type` содержит в себе информацию о типе топлива. Так как видов топлива не так много, как, например моделей машины, поэтому все пропуски можно заменить словом `other`."
   ]
  },
  {
   "cell_type": "code",
   "execution_count": 20,
   "metadata": {},
   "outputs": [
    {
     "data": {
      "text/plain": [
       "0"
      ]
     },
     "execution_count": 20,
     "metadata": {},
     "output_type": "execute_result"
    }
   ],
   "source": [
    "df['fuel_type'] = df['fuel_type'].fillna('other')\n",
    "df['fuel_type'].isnull().sum()"
   ]
  },
  {
   "cell_type": "markdown",
   "metadata": {},
   "source": [
    "Столбец `repaired` содержит в себе информацию о том, чинился ли автомобиль или нет. Можно считать, что если в столбце есть пропуск, то автомобиль не подвергался починке."
   ]
  },
  {
   "cell_type": "code",
   "execution_count": 21,
   "metadata": {},
   "outputs": [
    {
     "data": {
      "text/plain": [
       "0"
      ]
     },
     "execution_count": 21,
     "metadata": {},
     "output_type": "execute_result"
    }
   ],
   "source": [
    "df['repaired'] = df['repaired'].fillna('no')\n",
    "df['repaired'].isnull().sum()"
   ]
  },
  {
   "cell_type": "code",
   "execution_count": 22,
   "metadata": {},
   "outputs": [
    {
     "data": {
      "text/plain": [
       "date_crawled          0\n",
       "price                 0\n",
       "vehicle_type          0\n",
       "registration_year     0\n",
       "gearbox               0\n",
       "power                 0\n",
       "model                 0\n",
       "kilometer             0\n",
       "registration_month    0\n",
       "fuel_type             0\n",
       "brand                 0\n",
       "repaired              0\n",
       "date_created          0\n",
       "number_of_pictures    0\n",
       "postal_code           0\n",
       "last_seen             0\n",
       "dtype: int64"
      ]
     },
     "execution_count": 22,
     "metadata": {},
     "output_type": "execute_result"
    }
   ],
   "source": [
    "df.isnull().sum()"
   ]
  },
  {
   "cell_type": "markdown",
   "metadata": {},
   "source": [
    "Теперь пропуски в датасете отсутсвуют."
   ]
  },
  {
   "cell_type": "markdown",
   "metadata": {},
   "source": [
    "<div class=\"alert alert-success\">\n",
    "<h2> Комментарий ревьюера <a class=\"tocSkip\"> </h2>\n",
    "\n",
    "<b>Все отлично!👍</b> \n",
    "    \n",
    "Пропуски обработаны."
   ]
  },
  {
   "cell_type": "markdown",
   "metadata": {},
   "source": [
    "### Оценка зависимости целевого признака от колонок"
   ]
  },
  {
   "cell_type": "code",
   "execution_count": 23,
   "metadata": {},
   "outputs": [],
   "source": [
    "columns = ['price', 'vehicle_type', 'gearbox', 'power', 'model', 'kilometer', 'fuel_type', 'brand', 'repaired', 'registration_year']"
   ]
  },
  {
   "cell_type": "markdown",
   "metadata": {},
   "source": [
    "<div class=\"alert alert-success\">\n",
    "<h2> Комментарий ревьюера <a class=\"tocSkip\"> </h2>\n",
    "\n",
    "<b>Все отлично!👍</b> \n",
    "    \n",
    "Отброшены неинформативные признаки."
   ]
  },
  {
   "cell_type": "code",
   "execution_count": 24,
   "metadata": {},
   "outputs": [
    {
     "data": {
      "image/png": "[encoded data removed]",
      "text/plain": [
       "<Figure size 812x720 with 20 Axes>"
      ]
     },
     "metadata": {},
     "output_type": "display_data"
    }
   ],
   "source": [
    "sns.pairplot(df[columns][:10000], hue='vehicle_type', diag_kind='hist')\n",
    "plt.show()"
   ]
  },
  {
   "cell_type": "markdown",
   "metadata": {},
   "source": [
    "Из графика видно, что стоимость автомобилей растёт с каждым годом. Зависимость цены от мощности автомобиля, а также года его регистрации, почти что прямое, остальные признаки влияют на целевой в меньшей степени. "
   ]
  },
  {
   "cell_type": "markdown",
   "metadata": {},
   "source": [
    "<div class=\"alert alert-success\">\n",
    "<h2> Комментарий ревьюера <a class=\"tocSkip\"> </h2>\n",
    "\n",
    "<b>Все отлично!👍</b> \n",
    "    \n",
    "Проанализировали зависимости в данных - отлично!"
   ]
  },
  {
   "cell_type": "markdown",
   "metadata": {},
   "source": [
    "### Закодируем категориальные значения в категориальные цифровые значения с помощью **OrdinalEncoder**"
   ]
  },
  {
   "cell_type": "code",
   "execution_count": 25,
   "metadata": {},
   "outputs": [],
   "source": [
    "df_encoded = df[columns].copy()\n",
    "df_encoded = df_encoded.reset_index(drop=True)"
   ]
  },
  {
   "cell_type": "code",
   "execution_count": 26,
   "metadata": {},
   "outputs": [],
   "source": [
    "features = df_encoded.drop(['price'], axis=1)\n",
    "target = df_encoded['price']"
   ]
  },
  {
   "cell_type": "code",
   "execution_count": 27,
   "metadata": {},
   "outputs": [],
   "source": [
    "categorial_features = ['vehicle_type', 'gearbox', 'model', 'fuel_type', 'brand', 'repaired', 'kilometer']"
   ]
  },
  {
   "cell_type": "code",
   "execution_count": 28,
   "metadata": {},
   "outputs": [],
   "source": [
    "numeric_features = ['registration_year', 'power']"
   ]
  },
  {
   "cell_type": "markdown",
   "metadata": {},
   "source": [
    "<div class=\"alert alert-block alert-danger\">\n",
    "<h2> Комментарий ревьюера <a class=\"tocSkip\"></h2>\n",
    "\n",
    "    \n",
    "<b>На доработку❌:</b>\n",
    "`kilometer` имеет распределение категориального признака, так как задано всего несколько уникальных значений - с ним также стоит работать как с категорией."
   ]
  },
  {
   "cell_type": "markdown",
   "metadata": {},
   "source": [
    "<div class=\"alert alert-info\">\n",
    "<h2> Комментарий студента <a class=\"tocSkip\"> </h2>\n",
    "\n",
    "Работаю теперь с ним, как с категориальным признаком.\n",
    "</div>"
   ]
  },
  {
   "cell_type": "markdown",
   "metadata": {},
   "source": [
    "<div class=\"alert alert-success\">\n",
    "<h2> Комментарий ревьюера v.2 <a class=\"tocSkip\"> </h2>\n",
    "\n",
    "<b>Все отлично!👍:</b> Учтено."
   ]
  },
  {
   "cell_type": "code",
   "execution_count": 29,
   "metadata": {
    "scrolled": true
   },
   "outputs": [],
   "source": [
    "encoder_oe = OrdinalEncoder(handle_unknown='use_encoded_value', unknown_value=-1)\n",
    "encoder_ohe = OneHotEncoder(drop='first', sparse=False)"
   ]
  },
  {
   "cell_type": "markdown",
   "metadata": {},
   "source": [
    "<div class=\"alert alert-warning\">\n",
    "    <h2> Комментарий ревьюера <a class=\"tocSkip\"> </h2>\n",
    "    \n",
    "<b>Некоторые замечания и рекомендации⚠️:</b> `OrdinalEncoder` полезно настраивать на бесперебойную работу при появлении в новых данных ранее неизвестных значений признаков: по умолчанию в таких случаях `OrdinalEncoder` будет выбрасывать ошибку, однако для непрерывности процесса моделирования можно настроить параметры `handle_unknown='use_encoded_value'`, чтобы новые, ранее неизвестные значения кодировались константным значением, а в параметр `unknown_value` нужно передать само значение-константу. "
   ]
  },
  {
   "cell_type": "markdown",
   "metadata": {},
   "source": [
    "<div class=\"alert alert-success\">\n",
    "<h2> Комментарий ревьюера v.2 <a class=\"tocSkip\"> </h2>\n",
    "\n",
    "<b>Все отлично!👍:</b> Учтено."
   ]
  },
  {
   "cell_type": "markdown",
   "metadata": {},
   "source": [
    "<div class=\"alert alert-block alert-danger\">\n",
    "<h2> Комментарий ревьюера v.3 <a class=\"tocSkip\"></h2>\n",
    "\n",
    "    \n",
    "<b>На доработку❌:</b>\n",
    "У `OneHotEncoder` обязательно нужно настраивать параметр `drop='first'` (или другой, в зависимости от задачи) при использовании линейных моделей, чтобы в трансформированной матрице не было мультиколлинеарности и чтобы не попасть в дамми-ловушку: https://www.codecamp.ru/blog/dummy-variable-trap/.\n",
    "    \n",
    "Может понадобиться обновление библиотеки `sklearn`, так как в ранних версиях параметры `handle_unknown` и `drop` конфликтовали друг с другом, но в актуальной версии библиотеки такой проблемы нет."
   ]
  },
  {
   "cell_type": "markdown",
   "metadata": {},
   "source": [
    "<div class=\"alert alert-info\">\n",
    "<h2> Комментарий студента v.3<a class=\"tocSkip\"> </h2>\n",
    "\n",
    "Указал необходимые параметры\n",
    "</div>"
   ]
  },
  {
   "cell_type": "markdown",
   "metadata": {},
   "source": [
    "<div class=\"alert alert-success\">\n",
    "<h2> Комментарий ревьюера v.4 <a class=\"tocSkip\"> </h2>\n",
    "\n",
    "<b>Все отлично!👍:</b> Учтено."
   ]
  },
  {
   "cell_type": "markdown",
   "metadata": {},
   "source": [
    "<div class=\"alert alert-block alert-danger\">\n",
    "<h2> Комментарий ревьюера <a class=\"tocSkip\"></h2>\n",
    "\n",
    "    \n",
    "<b>На доработку❌:</b>\n",
    "\n",
    "Для линейной модели технику `OrdinalEncoder()` использовать нельзя: таким образом вес признака с большим количеством уникальных значений будет выше веса призака с меньшим количество уникальны значений, и модель ошибочно будет интерпретировать этот признак как более важный, что не всегда будет правдой.\n",
    "    \n",
    "Для линейной модели категориальные признаки нужно кодировать техникой `OneHotEncoder()`."
   ]
  },
  {
   "cell_type": "markdown",
   "metadata": {},
   "source": [
    "<div class=\"alert alert-block alert-danger\">\n",
    "<h2> Комментарий ревьюера v.2 <a class=\"tocSkip\"></h2>\n",
    "\n",
    "    \n",
    "<b>На доработку❌:</b>\n",
    "\n",
    "Не учтено - ниже оценивается линейная модель на выборке с `OrdinalEncoder`."
   ]
  },
  {
   "cell_type": "markdown",
   "metadata": {},
   "source": [
    "<div class=\"alert alert-info\">\n",
    "<h2> Комментарий студента v.2<a class=\"tocSkip\"> </h2>\n",
    "\n",
    "Исправил этот момент, теперь модель по этим параметрам не оценивается.\n",
    "</div>"
   ]
  },
  {
   "cell_type": "markdown",
   "metadata": {},
   "source": [
    "<div class=\"alert alert-success\">\n",
    "<h2> Комментарий ревьюера v.3 <a class=\"tocSkip\"> </h2>\n",
    "\n",
    "<b>Все отлично!👍:</b> Учтено."
   ]
  },
  {
   "cell_type": "markdown",
   "metadata": {},
   "source": [
    "<div class=\"alert alert-info\">\n",
    "<h2> Комментарий студента <a class=\"tocSkip\"> </h2>\n",
    "\n",
    "Я создал две раззные выборки с двумя подходами к кодированию для поиска наилучшей\n",
    "</div>"
   ]
  },
  {
   "cell_type": "markdown",
   "metadata": {},
   "source": [
    "<div class=\"alert alert-block alert-danger\">\n",
    "<h2> Комментарий ревьюера <a class=\"tocSkip\"></h2>\n",
    "\n",
    "    \n",
    "<b>На доработку❌:</b> Кодирование данных нужно осуществлять только после сплитования - так мы не допускаем утечку данных из тестовой части, а также можем контролировать появление в `test` новых значений категориальных признаков."
   ]
  },
  {
   "cell_type": "markdown",
   "metadata": {},
   "source": [
    "<div class=\"alert alert-info\">\n",
    "<h2> Комментарий студента <a class=\"tocSkip\"> </h2>\n",
    "\n",
    "Изменил подход к кодированию, теперь оно происходит только после сплитования.\n",
    "</div>"
   ]
  },
  {
   "cell_type": "markdown",
   "metadata": {},
   "source": [
    "<div class=\"alert alert-block alert-danger\">\n",
    "<h2> Комментарий ревьюера v.2 <a class=\"tocSkip\"></h2>\n",
    "\n",
    "    \n",
    "<b>На доработку❌:</b> `get_dummies` применяется до разделения на выборки."
   ]
  },
  {
   "cell_type": "markdown",
   "metadata": {},
   "source": [
    "<div class=\"alert alert-block alert-danger\">\n",
    "<h2> Комментарий ревьюера v.3 <a class=\"tocSkip\"></h2>\n",
    "\n",
    "    \n",
    "<b>На доработку❌:</b> Ниже ты создаёшь `ohe_features` как закодированную `features` выборку, это происходит до сплитования."
   ]
  },
  {
   "cell_type": "markdown",
   "metadata": {},
   "source": [
    "<div class=\"alert alert-info\">\n",
    "<h2> Комментарий студента v.3<a class=\"tocSkip\"> </h2>\n",
    "\n",
    "Изменил подход\n",
    "</div>"
   ]
  },
  {
   "cell_type": "markdown",
   "metadata": {},
   "source": [
    "<div class=\"alert alert-success\">\n",
    "<h2> Комментарий ревьюера v.4 <a class=\"tocSkip\"> </h2>\n",
    "\n",
    "<b>Все отлично!👍:</b> Учтено."
   ]
  },
  {
   "cell_type": "markdown",
   "metadata": {},
   "source": [
    "<div class=\"alert alert-warning\">\n",
    "    <h2> Комментарий ревьюера v.2 <a class=\"tocSkip\"> </h2>\n",
    "    \n",
    "<b>Некоторые замечания и рекомендации⚠️:</b> \n",
    "\n",
    "Использование `get_dummies` - не слишком хорошее решение, которое имеет некоторые недостатки:\n",
    "- `get_dummies` нельзя встроить в пайплайны обработки данных и работы с моделями;\n",
    "- метод не будет работать со значениями, которые которые будут появляться в новых данных и которых не было в данных при обучении моделей.\n",
    "        \n",
    "Эти недостатки решаются использованием `OneHotEncoder` (https://scikit-learn.org/stable/modules/generated/sklearn.preprocessing.OneHotEncoder.html). \n",
    "        \n",
    "В этом блоконоте есть наглядное сравнение этих инструментов - рекомендую ознакомиться: https://colab.research.google.com/drive/1_gAMXcQKoCShB_l8FNtYEejMnosm9mvt?usp=sharing."
   ]
  },
  {
   "cell_type": "markdown",
   "metadata": {},
   "source": [
    "<div class=\"alert alert-success\">\n",
    "<h2> Комментарий ревьюера v.3 <a class=\"tocSkip\"> </h2>\n",
    "\n",
    "<b>Все отлично!👍:</b> Учтено."
   ]
  },
  {
   "cell_type": "markdown",
   "metadata": {},
   "source": [
    "<div class=\"alert alert-block alert-danger\">\n",
    "<h2> Комментарий ревьюера v.2 <a class=\"tocSkip\"></h2>\n",
    "\n",
    "    \n",
    "<b>На доработку❌:</b>\n",
    "1. См.замечание про порядок действий выше.\n",
    "2. Если решишь продолжить пользоваться `get_dummies()`, в код нужно будет добавить функционал по проверке выборок: названия признаков в выборках должны быть идентичны и идти друг за другом в том же порядке. Метод `info()` или проверка глазами считаться не будут - нужно явное поэлементное сравнение."
   ]
  },
  {
   "cell_type": "markdown",
   "metadata": {},
   "source": [
    "<div class=\"alert alert-info\">\n",
    "<h2> Комментарий студента v.2<a class=\"tocSkip\"> </h2>\n",
    "\n",
    "Использовал `OneHotEncoder` вместо `get_dummies`\n",
    "</div>"
   ]
  },
  {
   "cell_type": "markdown",
   "metadata": {},
   "source": [
    "<div class=\"alert alert-success\">\n",
    "<h2> Комментарий ревьюера v.3 <a class=\"tocSkip\"> </h2>\n",
    "\n",
    "<b>Все отлично!👍:</b> Учтено."
   ]
  },
  {
   "cell_type": "code",
   "execution_count": 30,
   "metadata": {},
   "outputs": [],
   "source": [
    "train_features, test_features, train_target, test_target = \\\n",
    "train_test_split(features, target, test_size=0.25, random_state=12345)"
   ]
  },
  {
   "cell_type": "code",
   "execution_count": 31,
   "metadata": {},
   "outputs": [],
   "source": [
    "encoder_ohe.fit(train_features[categorial_features])\n",
    "train_features_ohe = encoder_ohe.transform(train_features[categorial_features])\n",
    "test_features_ohe = encoder_ohe.transform(test_features[categorial_features])"
   ]
  },
  {
   "cell_type": "code",
   "execution_count": 32,
   "metadata": {},
   "outputs": [
    {
     "name": "stdout",
     "output_type": "stream",
     "text": [
      "Размер тренировочной выборки- 75%\n",
      "Размер тестовой выборки - 25%\n"
     ]
    }
   ],
   "source": [
    "train_sample = train_features_ohe.shape[0] / features.shape[0]\n",
    "test_sample = test_features_ohe.shape[0] / target.shape[0]\n",
    "\n",
    "print('Размер тренировочной выборки- {:.0%}'.format(train_sample))\n",
    "print('Размер тестовой выборки - {:.0%}'.format(test_sample))"
   ]
  },
  {
   "cell_type": "code",
   "execution_count": 33,
   "metadata": {
    "scrolled": true
   },
   "outputs": [
    {
     "name": "stdout",
     "output_type": "stream",
     "text": [
      "(221079, 316)\n",
      "(73693, 316)\n",
      "(221079, 318)\n",
      "(73693, 318)\n"
     ]
    }
   ],
   "source": [
    "encoded_categorical_df_train = pd.DataFrame(train_features_ohe, columns=encoder_ohe.get_feature_names(categorial_features)).reset_index(drop=True)\n",
    "encoded_categorical_df_test = pd.DataFrame(test_features_ohe, columns=encoder_ohe.get_feature_names(categorial_features))\n",
    "\n",
    "print(encoded_categorical_df_train.shape)\n",
    "print(encoded_categorical_df_test.shape)\n",
    "\n",
    "numeric_features_train = train_features.drop(categorial_features, axis=1).reset_index(drop=True)\n",
    "numeric_features_test = test_features.drop(categorial_features, axis=1).reset_index(drop=True)\n",
    "\n",
    "final_train_features = pd.concat([encoded_categorical_df_train, numeric_features_train], axis=1)\n",
    "print(final_train_features.shape)\n",
    "final_test_features = pd.concat([encoded_categorical_df_test, numeric_features_test], axis=1)\n",
    "print(final_test_features.shape)"
   ]
  },
  {
   "cell_type": "code",
   "execution_count": 34,
   "metadata": {},
   "outputs": [
    {
     "data": {
      "text/html": [
       "<div>\n",
       "<style scoped>\n",
       "    .dataframe tbody tr th:only-of-type {\n",
       "        vertical-align: middle;\n",
       "    }\n",
       "\n",
       "    .dataframe tbody tr th {\n",
       "        vertical-align: top;\n",
       "    }\n",
       "\n",
       "    .dataframe thead th {\n",
       "        text-align: right;\n",
       "    }\n",
       "</style>\n",
       "<table border=\"1\" class=\"dataframe\">\n",
       "  <thead>\n",
       "    <tr style=\"text-align: right;\">\n",
       "      <th></th>\n",
       "      <th>vehicle_type_convertible</th>\n",
       "      <th>vehicle_type_coupe</th>\n",
       "      <th>vehicle_type_n/a</th>\n",
       "      <th>vehicle_type_other</th>\n",
       "      <th>vehicle_type_sedan</th>\n",
       "      <th>vehicle_type_small</th>\n",
       "      <th>vehicle_type_suv</th>\n",
       "      <th>vehicle_type_wagon</th>\n",
       "      <th>gearbox_manual</th>\n",
       "      <th>gearbox_other</th>\n",
       "      <th>...</th>\n",
       "      <th>kilometer_50000</th>\n",
       "      <th>kilometer_60000</th>\n",
       "      <th>kilometer_70000</th>\n",
       "      <th>kilometer_80000</th>\n",
       "      <th>kilometer_90000</th>\n",
       "      <th>kilometer_100000</th>\n",
       "      <th>kilometer_125000</th>\n",
       "      <th>kilometer_150000</th>\n",
       "      <th>power</th>\n",
       "      <th>registration_year</th>\n",
       "    </tr>\n",
       "  </thead>\n",
       "  <tbody>\n",
       "    <tr>\n",
       "      <th>0</th>\n",
       "      <td>0.0</td>\n",
       "      <td>0.0</td>\n",
       "      <td>0.0</td>\n",
       "      <td>0.0</td>\n",
       "      <td>1.0</td>\n",
       "      <td>0.0</td>\n",
       "      <td>0.0</td>\n",
       "      <td>0.0</td>\n",
       "      <td>1.0</td>\n",
       "      <td>0.0</td>\n",
       "      <td>...</td>\n",
       "      <td>0.0</td>\n",
       "      <td>1.0</td>\n",
       "      <td>0.0</td>\n",
       "      <td>0.0</td>\n",
       "      <td>0.0</td>\n",
       "      <td>0.0</td>\n",
       "      <td>0.0</td>\n",
       "      <td>0.0</td>\n",
       "      <td>60</td>\n",
       "      <td>2012</td>\n",
       "    </tr>\n",
       "    <tr>\n",
       "      <th>1</th>\n",
       "      <td>1.0</td>\n",
       "      <td>0.0</td>\n",
       "      <td>0.0</td>\n",
       "      <td>0.0</td>\n",
       "      <td>0.0</td>\n",
       "      <td>0.0</td>\n",
       "      <td>0.0</td>\n",
       "      <td>0.0</td>\n",
       "      <td>1.0</td>\n",
       "      <td>0.0</td>\n",
       "      <td>...</td>\n",
       "      <td>0.0</td>\n",
       "      <td>0.0</td>\n",
       "      <td>0.0</td>\n",
       "      <td>0.0</td>\n",
       "      <td>0.0</td>\n",
       "      <td>0.0</td>\n",
       "      <td>0.0</td>\n",
       "      <td>1.0</td>\n",
       "      <td>104</td>\n",
       "      <td>1983</td>\n",
       "    </tr>\n",
       "    <tr>\n",
       "      <th>2</th>\n",
       "      <td>0.0</td>\n",
       "      <td>0.0</td>\n",
       "      <td>0.0</td>\n",
       "      <td>0.0</td>\n",
       "      <td>0.0</td>\n",
       "      <td>1.0</td>\n",
       "      <td>0.0</td>\n",
       "      <td>0.0</td>\n",
       "      <td>1.0</td>\n",
       "      <td>0.0</td>\n",
       "      <td>...</td>\n",
       "      <td>0.0</td>\n",
       "      <td>0.0</td>\n",
       "      <td>0.0</td>\n",
       "      <td>0.0</td>\n",
       "      <td>0.0</td>\n",
       "      <td>0.0</td>\n",
       "      <td>0.0</td>\n",
       "      <td>1.0</td>\n",
       "      <td>101</td>\n",
       "      <td>2007</td>\n",
       "    </tr>\n",
       "    <tr>\n",
       "      <th>3</th>\n",
       "      <td>0.0</td>\n",
       "      <td>0.0</td>\n",
       "      <td>1.0</td>\n",
       "      <td>0.0</td>\n",
       "      <td>0.0</td>\n",
       "      <td>0.0</td>\n",
       "      <td>0.0</td>\n",
       "      <td>0.0</td>\n",
       "      <td>1.0</td>\n",
       "      <td>0.0</td>\n",
       "      <td>...</td>\n",
       "      <td>0.0</td>\n",
       "      <td>0.0</td>\n",
       "      <td>0.0</td>\n",
       "      <td>0.0</td>\n",
       "      <td>0.0</td>\n",
       "      <td>0.0</td>\n",
       "      <td>0.0</td>\n",
       "      <td>1.0</td>\n",
       "      <td>140</td>\n",
       "      <td>2004</td>\n",
       "    </tr>\n",
       "    <tr>\n",
       "      <th>4</th>\n",
       "      <td>0.0</td>\n",
       "      <td>0.0</td>\n",
       "      <td>0.0</td>\n",
       "      <td>0.0</td>\n",
       "      <td>0.0</td>\n",
       "      <td>0.0</td>\n",
       "      <td>0.0</td>\n",
       "      <td>1.0</td>\n",
       "      <td>0.0</td>\n",
       "      <td>0.0</td>\n",
       "      <td>...</td>\n",
       "      <td>0.0</td>\n",
       "      <td>0.0</td>\n",
       "      <td>0.0</td>\n",
       "      <td>0.0</td>\n",
       "      <td>0.0</td>\n",
       "      <td>0.0</td>\n",
       "      <td>0.0</td>\n",
       "      <td>1.0</td>\n",
       "      <td>197</td>\n",
       "      <td>2001</td>\n",
       "    </tr>\n",
       "    <tr>\n",
       "      <th>...</th>\n",
       "      <td>...</td>\n",
       "      <td>...</td>\n",
       "      <td>...</td>\n",
       "      <td>...</td>\n",
       "      <td>...</td>\n",
       "      <td>...</td>\n",
       "      <td>...</td>\n",
       "      <td>...</td>\n",
       "      <td>...</td>\n",
       "      <td>...</td>\n",
       "      <td>...</td>\n",
       "      <td>...</td>\n",
       "      <td>...</td>\n",
       "      <td>...</td>\n",
       "      <td>...</td>\n",
       "      <td>...</td>\n",
       "      <td>...</td>\n",
       "      <td>...</td>\n",
       "      <td>...</td>\n",
       "      <td>...</td>\n",
       "      <td>...</td>\n",
       "    </tr>\n",
       "    <tr>\n",
       "      <th>221074</th>\n",
       "      <td>1.0</td>\n",
       "      <td>0.0</td>\n",
       "      <td>0.0</td>\n",
       "      <td>0.0</td>\n",
       "      <td>0.0</td>\n",
       "      <td>0.0</td>\n",
       "      <td>0.0</td>\n",
       "      <td>0.0</td>\n",
       "      <td>1.0</td>\n",
       "      <td>0.0</td>\n",
       "      <td>...</td>\n",
       "      <td>0.0</td>\n",
       "      <td>0.0</td>\n",
       "      <td>0.0</td>\n",
       "      <td>0.0</td>\n",
       "      <td>0.0</td>\n",
       "      <td>0.0</td>\n",
       "      <td>0.0</td>\n",
       "      <td>1.0</td>\n",
       "      <td>116</td>\n",
       "      <td>1996</td>\n",
       "    </tr>\n",
       "    <tr>\n",
       "      <th>221075</th>\n",
       "      <td>0.0</td>\n",
       "      <td>0.0</td>\n",
       "      <td>0.0</td>\n",
       "      <td>0.0</td>\n",
       "      <td>0.0</td>\n",
       "      <td>1.0</td>\n",
       "      <td>0.0</td>\n",
       "      <td>0.0</td>\n",
       "      <td>1.0</td>\n",
       "      <td>0.0</td>\n",
       "      <td>...</td>\n",
       "      <td>0.0</td>\n",
       "      <td>0.0</td>\n",
       "      <td>0.0</td>\n",
       "      <td>0.0</td>\n",
       "      <td>0.0</td>\n",
       "      <td>0.0</td>\n",
       "      <td>0.0</td>\n",
       "      <td>1.0</td>\n",
       "      <td>60</td>\n",
       "      <td>1995</td>\n",
       "    </tr>\n",
       "    <tr>\n",
       "      <th>221076</th>\n",
       "      <td>0.0</td>\n",
       "      <td>1.0</td>\n",
       "      <td>0.0</td>\n",
       "      <td>0.0</td>\n",
       "      <td>0.0</td>\n",
       "      <td>0.0</td>\n",
       "      <td>0.0</td>\n",
       "      <td>0.0</td>\n",
       "      <td>1.0</td>\n",
       "      <td>0.0</td>\n",
       "      <td>...</td>\n",
       "      <td>0.0</td>\n",
       "      <td>0.0</td>\n",
       "      <td>0.0</td>\n",
       "      <td>0.0</td>\n",
       "      <td>0.0</td>\n",
       "      <td>1.0</td>\n",
       "      <td>0.0</td>\n",
       "      <td>0.0</td>\n",
       "      <td>88</td>\n",
       "      <td>1999</td>\n",
       "    </tr>\n",
       "    <tr>\n",
       "      <th>221077</th>\n",
       "      <td>0.0</td>\n",
       "      <td>0.0</td>\n",
       "      <td>0.0</td>\n",
       "      <td>0.0</td>\n",
       "      <td>0.0</td>\n",
       "      <td>1.0</td>\n",
       "      <td>0.0</td>\n",
       "      <td>0.0</td>\n",
       "      <td>1.0</td>\n",
       "      <td>0.0</td>\n",
       "      <td>...</td>\n",
       "      <td>0.0</td>\n",
       "      <td>0.0</td>\n",
       "      <td>0.0</td>\n",
       "      <td>1.0</td>\n",
       "      <td>0.0</td>\n",
       "      <td>0.0</td>\n",
       "      <td>0.0</td>\n",
       "      <td>0.0</td>\n",
       "      <td>54</td>\n",
       "      <td>1998</td>\n",
       "    </tr>\n",
       "    <tr>\n",
       "      <th>221078</th>\n",
       "      <td>0.0</td>\n",
       "      <td>0.0</td>\n",
       "      <td>0.0</td>\n",
       "      <td>0.0</td>\n",
       "      <td>1.0</td>\n",
       "      <td>0.0</td>\n",
       "      <td>0.0</td>\n",
       "      <td>0.0</td>\n",
       "      <td>1.0</td>\n",
       "      <td>0.0</td>\n",
       "      <td>...</td>\n",
       "      <td>0.0</td>\n",
       "      <td>0.0</td>\n",
       "      <td>0.0</td>\n",
       "      <td>0.0</td>\n",
       "      <td>0.0</td>\n",
       "      <td>0.0</td>\n",
       "      <td>1.0</td>\n",
       "      <td>0.0</td>\n",
       "      <td>116</td>\n",
       "      <td>2005</td>\n",
       "    </tr>\n",
       "  </tbody>\n",
       "</table>\n",
       "<p>221079 rows × 318 columns</p>\n",
       "</div>"
      ],
      "text/plain": [
       "        vehicle_type_convertible  vehicle_type_coupe  vehicle_type_n/a  \\\n",
       "0                            0.0                 0.0               0.0   \n",
       "1                            1.0                 0.0               0.0   \n",
       "2                            0.0                 0.0               0.0   \n",
       "3                            0.0                 0.0               1.0   \n",
       "4                            0.0                 0.0               0.0   \n",
       "...                          ...                 ...               ...   \n",
       "221074                       1.0                 0.0               0.0   \n",
       "221075                       0.0                 0.0               0.0   \n",
       "221076                       0.0                 1.0               0.0   \n",
       "221077                       0.0                 0.0               0.0   \n",
       "221078                       0.0                 0.0               0.0   \n",
       "\n",
       "        vehicle_type_other  vehicle_type_sedan  vehicle_type_small  \\\n",
       "0                      0.0                 1.0                 0.0   \n",
       "1                      0.0                 0.0                 0.0   \n",
       "2                      0.0                 0.0                 1.0   \n",
       "3                      0.0                 0.0                 0.0   \n",
       "4                      0.0                 0.0                 0.0   \n",
       "...                    ...                 ...                 ...   \n",
       "221074                 0.0                 0.0                 0.0   \n",
       "221075                 0.0                 0.0                 1.0   \n",
       "221076                 0.0                 0.0                 0.0   \n",
       "221077                 0.0                 0.0                 1.0   \n",
       "221078                 0.0                 1.0                 0.0   \n",
       "\n",
       "        vehicle_type_suv  vehicle_type_wagon  gearbox_manual  gearbox_other  \\\n",
       "0                    0.0                 0.0             1.0            0.0   \n",
       "1                    0.0                 0.0             1.0            0.0   \n",
       "2                    0.0                 0.0             1.0            0.0   \n",
       "3                    0.0                 0.0             1.0            0.0   \n",
       "4                    0.0                 1.0             0.0            0.0   \n",
       "...                  ...                 ...             ...            ...   \n",
       "221074               0.0                 0.0             1.0            0.0   \n",
       "221075               0.0                 0.0             1.0            0.0   \n",
       "221076               0.0                 0.0             1.0            0.0   \n",
       "221077               0.0                 0.0             1.0            0.0   \n",
       "221078               0.0                 0.0             1.0            0.0   \n",
       "\n",
       "        ...  kilometer_50000  kilometer_60000  kilometer_70000  \\\n",
       "0       ...              0.0              1.0              0.0   \n",
       "1       ...              0.0              0.0              0.0   \n",
       "2       ...              0.0              0.0              0.0   \n",
       "3       ...              0.0              0.0              0.0   \n",
       "4       ...              0.0              0.0              0.0   \n",
       "...     ...              ...              ...              ...   \n",
       "221074  ...              0.0              0.0              0.0   \n",
       "221075  ...              0.0              0.0              0.0   \n",
       "221076  ...              0.0              0.0              0.0   \n",
       "221077  ...              0.0              0.0              0.0   \n",
       "221078  ...              0.0              0.0              0.0   \n",
       "\n",
       "        kilometer_80000  kilometer_90000  kilometer_100000  kilometer_125000  \\\n",
       "0                   0.0              0.0               0.0               0.0   \n",
       "1                   0.0              0.0               0.0               0.0   \n",
       "2                   0.0              0.0               0.0               0.0   \n",
       "3                   0.0              0.0               0.0               0.0   \n",
       "4                   0.0              0.0               0.0               0.0   \n",
       "...                 ...              ...               ...               ...   \n",
       "221074              0.0              0.0               0.0               0.0   \n",
       "221075              0.0              0.0               0.0               0.0   \n",
       "221076              0.0              0.0               1.0               0.0   \n",
       "221077              1.0              0.0               0.0               0.0   \n",
       "221078              0.0              0.0               0.0               1.0   \n",
       "\n",
       "        kilometer_150000  power  registration_year  \n",
       "0                    0.0     60               2012  \n",
       "1                    1.0    104               1983  \n",
       "2                    1.0    101               2007  \n",
       "3                    1.0    140               2004  \n",
       "4                    1.0    197               2001  \n",
       "...                  ...    ...                ...  \n",
       "221074               1.0    116               1996  \n",
       "221075               1.0     60               1995  \n",
       "221076               0.0     88               1999  \n",
       "221077               0.0     54               1998  \n",
       "221078               0.0    116               2005  \n",
       "\n",
       "[221079 rows x 318 columns]"
      ]
     },
     "execution_count": 34,
     "metadata": {},
     "output_type": "execute_result"
    }
   ],
   "source": [
    "final_train_features"
   ]
  },
  {
   "cell_type": "code",
   "execution_count": 35,
   "metadata": {},
   "outputs": [
    {
     "data": {
      "text/html": [
       "<div>\n",
       "<style scoped>\n",
       "    .dataframe tbody tr th:only-of-type {\n",
       "        vertical-align: middle;\n",
       "    }\n",
       "\n",
       "    .dataframe tbody tr th {\n",
       "        vertical-align: top;\n",
       "    }\n",
       "\n",
       "    .dataframe thead th {\n",
       "        text-align: right;\n",
       "    }\n",
       "</style>\n",
       "<table border=\"1\" class=\"dataframe\">\n",
       "  <thead>\n",
       "    <tr style=\"text-align: right;\">\n",
       "      <th></th>\n",
       "      <th>vehicle_type_convertible</th>\n",
       "      <th>vehicle_type_coupe</th>\n",
       "      <th>vehicle_type_n/a</th>\n",
       "      <th>vehicle_type_other</th>\n",
       "      <th>vehicle_type_sedan</th>\n",
       "      <th>vehicle_type_small</th>\n",
       "      <th>vehicle_type_suv</th>\n",
       "      <th>vehicle_type_wagon</th>\n",
       "      <th>gearbox_manual</th>\n",
       "      <th>gearbox_other</th>\n",
       "      <th>...</th>\n",
       "      <th>kilometer_50000</th>\n",
       "      <th>kilometer_60000</th>\n",
       "      <th>kilometer_70000</th>\n",
       "      <th>kilometer_80000</th>\n",
       "      <th>kilometer_90000</th>\n",
       "      <th>kilometer_100000</th>\n",
       "      <th>kilometer_125000</th>\n",
       "      <th>kilometer_150000</th>\n",
       "      <th>power</th>\n",
       "      <th>registration_year</th>\n",
       "    </tr>\n",
       "  </thead>\n",
       "  <tbody>\n",
       "    <tr>\n",
       "      <th>0</th>\n",
       "      <td>0.0</td>\n",
       "      <td>0.0</td>\n",
       "      <td>1.0</td>\n",
       "      <td>0.0</td>\n",
       "      <td>0.0</td>\n",
       "      <td>0.0</td>\n",
       "      <td>0.0</td>\n",
       "      <td>0.0</td>\n",
       "      <td>1.0</td>\n",
       "      <td>0.0</td>\n",
       "      <td>...</td>\n",
       "      <td>0.0</td>\n",
       "      <td>0.0</td>\n",
       "      <td>0.0</td>\n",
       "      <td>0.0</td>\n",
       "      <td>0.0</td>\n",
       "      <td>0.0</td>\n",
       "      <td>0.0</td>\n",
       "      <td>1.0</td>\n",
       "      <td>60</td>\n",
       "      <td>2005</td>\n",
       "    </tr>\n",
       "    <tr>\n",
       "      <th>1</th>\n",
       "      <td>0.0</td>\n",
       "      <td>0.0</td>\n",
       "      <td>0.0</td>\n",
       "      <td>0.0</td>\n",
       "      <td>0.0</td>\n",
       "      <td>0.0</td>\n",
       "      <td>0.0</td>\n",
       "      <td>1.0</td>\n",
       "      <td>1.0</td>\n",
       "      <td>0.0</td>\n",
       "      <td>...</td>\n",
       "      <td>0.0</td>\n",
       "      <td>0.0</td>\n",
       "      <td>0.0</td>\n",
       "      <td>0.0</td>\n",
       "      <td>0.0</td>\n",
       "      <td>0.0</td>\n",
       "      <td>0.0</td>\n",
       "      <td>1.0</td>\n",
       "      <td>109</td>\n",
       "      <td>2005</td>\n",
       "    </tr>\n",
       "    <tr>\n",
       "      <th>2</th>\n",
       "      <td>0.0</td>\n",
       "      <td>0.0</td>\n",
       "      <td>0.0</td>\n",
       "      <td>0.0</td>\n",
       "      <td>1.0</td>\n",
       "      <td>0.0</td>\n",
       "      <td>0.0</td>\n",
       "      <td>0.0</td>\n",
       "      <td>1.0</td>\n",
       "      <td>0.0</td>\n",
       "      <td>...</td>\n",
       "      <td>0.0</td>\n",
       "      <td>0.0</td>\n",
       "      <td>0.0</td>\n",
       "      <td>0.0</td>\n",
       "      <td>0.0</td>\n",
       "      <td>0.0</td>\n",
       "      <td>0.0</td>\n",
       "      <td>0.0</td>\n",
       "      <td>125</td>\n",
       "      <td>2015</td>\n",
       "    </tr>\n",
       "    <tr>\n",
       "      <th>3</th>\n",
       "      <td>0.0</td>\n",
       "      <td>0.0</td>\n",
       "      <td>0.0</td>\n",
       "      <td>0.0</td>\n",
       "      <td>0.0</td>\n",
       "      <td>1.0</td>\n",
       "      <td>0.0</td>\n",
       "      <td>0.0</td>\n",
       "      <td>1.0</td>\n",
       "      <td>0.0</td>\n",
       "      <td>...</td>\n",
       "      <td>0.0</td>\n",
       "      <td>0.0</td>\n",
       "      <td>0.0</td>\n",
       "      <td>0.0</td>\n",
       "      <td>0.0</td>\n",
       "      <td>0.0</td>\n",
       "      <td>1.0</td>\n",
       "      <td>0.0</td>\n",
       "      <td>64</td>\n",
       "      <td>2002</td>\n",
       "    </tr>\n",
       "    <tr>\n",
       "      <th>4</th>\n",
       "      <td>1.0</td>\n",
       "      <td>0.0</td>\n",
       "      <td>0.0</td>\n",
       "      <td>0.0</td>\n",
       "      <td>0.0</td>\n",
       "      <td>0.0</td>\n",
       "      <td>0.0</td>\n",
       "      <td>0.0</td>\n",
       "      <td>1.0</td>\n",
       "      <td>0.0</td>\n",
       "      <td>...</td>\n",
       "      <td>0.0</td>\n",
       "      <td>0.0</td>\n",
       "      <td>1.0</td>\n",
       "      <td>0.0</td>\n",
       "      <td>0.0</td>\n",
       "      <td>0.0</td>\n",
       "      <td>0.0</td>\n",
       "      <td>0.0</td>\n",
       "      <td>95</td>\n",
       "      <td>1995</td>\n",
       "    </tr>\n",
       "    <tr>\n",
       "      <th>...</th>\n",
       "      <td>...</td>\n",
       "      <td>...</td>\n",
       "      <td>...</td>\n",
       "      <td>...</td>\n",
       "      <td>...</td>\n",
       "      <td>...</td>\n",
       "      <td>...</td>\n",
       "      <td>...</td>\n",
       "      <td>...</td>\n",
       "      <td>...</td>\n",
       "      <td>...</td>\n",
       "      <td>...</td>\n",
       "      <td>...</td>\n",
       "      <td>...</td>\n",
       "      <td>...</td>\n",
       "      <td>...</td>\n",
       "      <td>...</td>\n",
       "      <td>...</td>\n",
       "      <td>...</td>\n",
       "      <td>...</td>\n",
       "      <td>...</td>\n",
       "    </tr>\n",
       "    <tr>\n",
       "      <th>73688</th>\n",
       "      <td>0.0</td>\n",
       "      <td>0.0</td>\n",
       "      <td>0.0</td>\n",
       "      <td>0.0</td>\n",
       "      <td>0.0</td>\n",
       "      <td>0.0</td>\n",
       "      <td>0.0</td>\n",
       "      <td>0.0</td>\n",
       "      <td>1.0</td>\n",
       "      <td>0.0</td>\n",
       "      <td>...</td>\n",
       "      <td>0.0</td>\n",
       "      <td>0.0</td>\n",
       "      <td>0.0</td>\n",
       "      <td>0.0</td>\n",
       "      <td>1.0</td>\n",
       "      <td>0.0</td>\n",
       "      <td>0.0</td>\n",
       "      <td>0.0</td>\n",
       "      <td>120</td>\n",
       "      <td>2003</td>\n",
       "    </tr>\n",
       "    <tr>\n",
       "      <th>73689</th>\n",
       "      <td>0.0</td>\n",
       "      <td>0.0</td>\n",
       "      <td>0.0</td>\n",
       "      <td>0.0</td>\n",
       "      <td>0.0</td>\n",
       "      <td>0.0</td>\n",
       "      <td>0.0</td>\n",
       "      <td>0.0</td>\n",
       "      <td>1.0</td>\n",
       "      <td>0.0</td>\n",
       "      <td>...</td>\n",
       "      <td>0.0</td>\n",
       "      <td>0.0</td>\n",
       "      <td>0.0</td>\n",
       "      <td>0.0</td>\n",
       "      <td>0.0</td>\n",
       "      <td>0.0</td>\n",
       "      <td>0.0</td>\n",
       "      <td>1.0</td>\n",
       "      <td>140</td>\n",
       "      <td>2006</td>\n",
       "    </tr>\n",
       "    <tr>\n",
       "      <th>73690</th>\n",
       "      <td>0.0</td>\n",
       "      <td>0.0</td>\n",
       "      <td>0.0</td>\n",
       "      <td>0.0</td>\n",
       "      <td>0.0</td>\n",
       "      <td>1.0</td>\n",
       "      <td>0.0</td>\n",
       "      <td>0.0</td>\n",
       "      <td>1.0</td>\n",
       "      <td>0.0</td>\n",
       "      <td>...</td>\n",
       "      <td>0.0</td>\n",
       "      <td>0.0</td>\n",
       "      <td>0.0</td>\n",
       "      <td>0.0</td>\n",
       "      <td>0.0</td>\n",
       "      <td>0.0</td>\n",
       "      <td>0.0</td>\n",
       "      <td>1.0</td>\n",
       "      <td>60</td>\n",
       "      <td>1996</td>\n",
       "    </tr>\n",
       "    <tr>\n",
       "      <th>73691</th>\n",
       "      <td>0.0</td>\n",
       "      <td>0.0</td>\n",
       "      <td>0.0</td>\n",
       "      <td>0.0</td>\n",
       "      <td>0.0</td>\n",
       "      <td>0.0</td>\n",
       "      <td>0.0</td>\n",
       "      <td>1.0</td>\n",
       "      <td>0.0</td>\n",
       "      <td>0.0</td>\n",
       "      <td>...</td>\n",
       "      <td>0.0</td>\n",
       "      <td>0.0</td>\n",
       "      <td>0.0</td>\n",
       "      <td>0.0</td>\n",
       "      <td>0.0</td>\n",
       "      <td>0.0</td>\n",
       "      <td>0.0</td>\n",
       "      <td>1.0</td>\n",
       "      <td>150</td>\n",
       "      <td>2006</td>\n",
       "    </tr>\n",
       "    <tr>\n",
       "      <th>73692</th>\n",
       "      <td>0.0</td>\n",
       "      <td>0.0</td>\n",
       "      <td>0.0</td>\n",
       "      <td>0.0</td>\n",
       "      <td>1.0</td>\n",
       "      <td>0.0</td>\n",
       "      <td>0.0</td>\n",
       "      <td>0.0</td>\n",
       "      <td>0.0</td>\n",
       "      <td>1.0</td>\n",
       "      <td>...</td>\n",
       "      <td>0.0</td>\n",
       "      <td>0.0</td>\n",
       "      <td>0.0</td>\n",
       "      <td>0.0</td>\n",
       "      <td>0.0</td>\n",
       "      <td>0.0</td>\n",
       "      <td>0.0</td>\n",
       "      <td>1.0</td>\n",
       "      <td>163</td>\n",
       "      <td>2001</td>\n",
       "    </tr>\n",
       "  </tbody>\n",
       "</table>\n",
       "<p>73693 rows × 318 columns</p>\n",
       "</div>"
      ],
      "text/plain": [
       "       vehicle_type_convertible  vehicle_type_coupe  vehicle_type_n/a  \\\n",
       "0                           0.0                 0.0               1.0   \n",
       "1                           0.0                 0.0               0.0   \n",
       "2                           0.0                 0.0               0.0   \n",
       "3                           0.0                 0.0               0.0   \n",
       "4                           1.0                 0.0               0.0   \n",
       "...                         ...                 ...               ...   \n",
       "73688                       0.0                 0.0               0.0   \n",
       "73689                       0.0                 0.0               0.0   \n",
       "73690                       0.0                 0.0               0.0   \n",
       "73691                       0.0                 0.0               0.0   \n",
       "73692                       0.0                 0.0               0.0   \n",
       "\n",
       "       vehicle_type_other  vehicle_type_sedan  vehicle_type_small  \\\n",
       "0                     0.0                 0.0                 0.0   \n",
       "1                     0.0                 0.0                 0.0   \n",
       "2                     0.0                 1.0                 0.0   \n",
       "3                     0.0                 0.0                 1.0   \n",
       "4                     0.0                 0.0                 0.0   \n",
       "...                   ...                 ...                 ...   \n",
       "73688                 0.0                 0.0                 0.0   \n",
       "73689                 0.0                 0.0                 0.0   \n",
       "73690                 0.0                 0.0                 1.0   \n",
       "73691                 0.0                 0.0                 0.0   \n",
       "73692                 0.0                 1.0                 0.0   \n",
       "\n",
       "       vehicle_type_suv  vehicle_type_wagon  gearbox_manual  gearbox_other  \\\n",
       "0                   0.0                 0.0             1.0            0.0   \n",
       "1                   0.0                 1.0             1.0            0.0   \n",
       "2                   0.0                 0.0             1.0            0.0   \n",
       "3                   0.0                 0.0             1.0            0.0   \n",
       "4                   0.0                 0.0             1.0            0.0   \n",
       "...                 ...                 ...             ...            ...   \n",
       "73688               0.0                 0.0             1.0            0.0   \n",
       "73689               0.0                 0.0             1.0            0.0   \n",
       "73690               0.0                 0.0             1.0            0.0   \n",
       "73691               0.0                 1.0             0.0            0.0   \n",
       "73692               0.0                 0.0             0.0            1.0   \n",
       "\n",
       "       ...  kilometer_50000  kilometer_60000  kilometer_70000  \\\n",
       "0      ...              0.0              0.0              0.0   \n",
       "1      ...              0.0              0.0              0.0   \n",
       "2      ...              0.0              0.0              0.0   \n",
       "3      ...              0.0              0.0              0.0   \n",
       "4      ...              0.0              0.0              1.0   \n",
       "...    ...              ...              ...              ...   \n",
       "73688  ...              0.0              0.0              0.0   \n",
       "73689  ...              0.0              0.0              0.0   \n",
       "73690  ...              0.0              0.0              0.0   \n",
       "73691  ...              0.0              0.0              0.0   \n",
       "73692  ...              0.0              0.0              0.0   \n",
       "\n",
       "       kilometer_80000  kilometer_90000  kilometer_100000  kilometer_125000  \\\n",
       "0                  0.0              0.0               0.0               0.0   \n",
       "1                  0.0              0.0               0.0               0.0   \n",
       "2                  0.0              0.0               0.0               0.0   \n",
       "3                  0.0              0.0               0.0               1.0   \n",
       "4                  0.0              0.0               0.0               0.0   \n",
       "...                ...              ...               ...               ...   \n",
       "73688              0.0              1.0               0.0               0.0   \n",
       "73689              0.0              0.0               0.0               0.0   \n",
       "73690              0.0              0.0               0.0               0.0   \n",
       "73691              0.0              0.0               0.0               0.0   \n",
       "73692              0.0              0.0               0.0               0.0   \n",
       "\n",
       "       kilometer_150000  power  registration_year  \n",
       "0                   1.0     60               2005  \n",
       "1                   1.0    109               2005  \n",
       "2                   0.0    125               2015  \n",
       "3                   0.0     64               2002  \n",
       "4                   0.0     95               1995  \n",
       "...                 ...    ...                ...  \n",
       "73688               0.0    120               2003  \n",
       "73689               1.0    140               2006  \n",
       "73690               1.0     60               1996  \n",
       "73691               1.0    150               2006  \n",
       "73692               1.0    163               2001  \n",
       "\n",
       "[73693 rows x 318 columns]"
      ]
     },
     "execution_count": 35,
     "metadata": {},
     "output_type": "execute_result"
    }
   ],
   "source": [
    "final_test_features"
   ]
  },
  {
   "cell_type": "markdown",
   "metadata": {},
   "source": [
    "<div class=\"alert alert-block alert-danger\">\n",
    "<h2> Комментарий ревьюера v.4 <a class=\"tocSkip\"></h2>\n",
    "\n",
    "    \n",
    "<b>На доработку❌:</b> В выбрке нет численных признаков - только закодированные категории."
   ]
  },
  {
   "cell_type": "markdown",
   "metadata": {},
   "source": [
    "<div class=\"alert alert-info\">\n",
    "<h2> Комментарий студента v.4<a class=\"tocSkip\"> </h2>\n",
    "\n",
    "Добавил численные признаки\n",
    "</div>"
   ]
  },
  {
   "cell_type": "markdown",
   "metadata": {},
   "source": [
    "<div class=\"alert alert-success\">\n",
    "<h2> Комментарий ревьюера v.5 <a class=\"tocSkip\"> </h2>\n",
    "\n",
    "<b>Все отлично!👍:</b> Учтено."
   ]
  },
  {
   "cell_type": "code",
   "execution_count": 36,
   "metadata": {},
   "outputs": [],
   "source": [
    "train_features, test_features, train_target, test_target = \\\n",
    "train_test_split(features, target, test_size=0.25, random_state=12345)\n",
    "\n",
    "features_train_oe = train_features.copy()\n",
    "features_train_oe[categorial_features] = pd.DataFrame(encoder_oe.fit_transform(train_features[categorial_features]), \\\n",
    "             columns=train_features[categorial_features].columns, index=train_features[categorial_features].index)\n",
    "\n",
    "features_test_oe = test_features.copy()\n",
    "features_test_oe[categorial_features] = \\\n",
    "pd.DataFrame(encoder_oe.transform(test_features[categorial_features]), \\\n",
    "             columns=test_features[categorial_features].columns, index=test_features[categorial_features].index)"
   ]
  },
  {
   "cell_type": "code",
   "execution_count": 37,
   "metadata": {},
   "outputs": [
    {
     "name": "stdout",
     "output_type": "stream",
     "text": [
      "Размер тренировочной выборки- 75%\n",
      "Размер тестовой выборки - 25%\n"
     ]
    }
   ],
   "source": [
    "train_sample = features_train_oe.shape[0] / features.shape[0]\n",
    "test_sample = features_test_oe.shape[0] / target.shape[0]\n",
    "\n",
    "print('Размер тренировочной выборки- {:.0%}'.format(train_sample))\n",
    "print('Размер тестовой выборки - {:.0%}'.format(test_sample))"
   ]
  },
  {
   "cell_type": "markdown",
   "metadata": {},
   "source": [
    "<div class=\"alert alert-success\">\n",
    "<h2> Комментарий ревьюера <a class=\"tocSkip\"> </h2>\n",
    "\n",
    "<b>Все отлично!👍</b> \n",
    "    \n",
    "Выполнили сплитование."
   ]
  },
  {
   "cell_type": "markdown",
   "metadata": {},
   "source": [
    "### Применим масштабирование для наших признаков для кодирования OrdinalEncoder"
   ]
  },
  {
   "cell_type": "code",
   "execution_count": 38,
   "metadata": {},
   "outputs": [],
   "source": [
    "numeric_features = ['registration_year', 'power']"
   ]
  },
  {
   "cell_type": "code",
   "execution_count": 39,
   "metadata": {},
   "outputs": [
    {
     "name": "stdout",
     "output_type": "stream",
     "text": [
      "(221079, 9)\n",
      "(73693, 9)\n"
     ]
    }
   ],
   "source": [
    "scaler = StandardScaler()\n",
    "features_train_oe[numeric_features] = scaler.fit_transform(features_train_oe[numeric_features])\n",
    "features_test_oe[numeric_features] = scaler.transform(features_test_oe[numeric_features])\n",
    "\n",
    "print(features_train_oe.shape)\n",
    "print(features_test_oe.shape)"
   ]
  },
  {
   "cell_type": "markdown",
   "metadata": {},
   "source": [
    "Категориальные признаки были закодированы, все данные разбиты в соотношении 75/25, масштабированы и готовы к обучению!"
   ]
  },
  {
   "cell_type": "markdown",
   "metadata": {},
   "source": [
    "<div class=\"alert alert-success\">\n",
    "<h2> Комментарий ревьюера <a class=\"tocSkip\"> </h2>\n",
    "\n",
    "<b>Все отлично!👍:</b> Выполнили масштабирование непрерывных признаков - отлично!\n",
    "</div>"
   ]
  },
  {
   "cell_type": "markdown",
   "metadata": {},
   "source": [
    "## Обучение моделей"
   ]
  },
  {
   "cell_type": "markdown",
   "metadata": {},
   "source": [
    "Для начала создадим общий список результатов, чтобы можно было их нагляднее сравнить. По ключу будем хранить название модели, в значении будет список с данными."
   ]
  },
  {
   "cell_type": "code",
   "execution_count": 40,
   "metadata": {},
   "outputs": [],
   "source": [
    "results = []"
   ]
  },
  {
   "cell_type": "markdown",
   "metadata": {},
   "source": [
    "Также напишем небольшой класс-обёртку, чтобы не собирать каждый раз результаты тестирования вручную."
   ]
  },
  {
   "cell_type": "code",
   "execution_count": 41,
   "metadata": {},
   "outputs": [],
   "source": [
    "def rmse(target, predictions):\n",
    "    return (mean_squared_error(target, predictions) ** 0.5).round(2)"
   ]
  },
  {
   "cell_type": "code",
   "execution_count": 42,
   "metadata": {},
   "outputs": [],
   "source": [
    "class ModelWrapper:\n",
    "    \n",
    "    def __init__(self, name, model):\n",
    "        self.name = name\n",
    "        self.model = model\n",
    "        \n",
    "    def fit(self, features, target):\n",
    "        start = time.time()\n",
    "        self.model.fit(features, target)\n",
    "        end = time.time()\n",
    "        self.fit_time = (end - start) / 60\n",
    "        \n",
    "    def predict(self, features, target):\n",
    "        start = time.time()\n",
    "        predicted = self.model.predict(features)\n",
    "        end = time.time()\n",
    "        self.predicted_time = (end - start) / 60\n",
    "        self.rmse = rmse(target, predicted)\n",
    "    \n",
    "    def get_model_results(self):\n",
    "        return {self.name: [self.fit_time, self.predicted_time, self.rmse]}"
   ]
  },
  {
   "cell_type": "markdown",
   "metadata": {},
   "source": [
    "### Линейная регрессия"
   ]
  },
  {
   "cell_type": "markdown",
   "metadata": {},
   "source": [
    "#### На выборках с OneHotEncoder"
   ]
  },
  {
   "cell_type": "code",
   "execution_count": 43,
   "metadata": {},
   "outputs": [],
   "source": [
    "model_lr = LinearRegression()\n",
    "lr_wrapper = ModelWrapper('LinearRegression_ohe', model_lr)\n",
    "lr_wrapper.fit(final_train_features, train_target)\n",
    "lr_wrapper.predict(final_train_features, train_target)\n",
    "results.append(lr_wrapper.get_model_results())\n",
    "\n",
    "del lr_wrapper"
   ]
  },
  {
   "cell_type": "markdown",
   "metadata": {},
   "source": [
    "#### Кросс-валидация"
   ]
  },
  {
   "cell_type": "code",
   "execution_count": 44,
   "metadata": {},
   "outputs": [
    {
     "data": {
      "text/plain": [
       "2656.7262131352377"
      ]
     },
     "execution_count": 44,
     "metadata": {},
     "output_type": "execute_result"
    }
   ],
   "source": [
    "model_lr = LinearRegression()\n",
    "\n",
    "cross_val_score_lr = \\\n",
    "(cross_val_score(model_lr, final_train_features, train_target, cv=3, scoring='neg_mean_squared_error').mean() * -1) ** 0.5\n",
    "cross_val_score_lr"
   ]
  },
  {
   "cell_type": "markdown",
   "metadata": {},
   "source": [
    "<div class=\"alert alert-block alert-danger\">\n",
    "<h2> Комментарий ревьюера v.2 <a class=\"tocSkip\"></h2>\n",
    "\n",
    "    \n",
    "<b>На доработку❌:</b>\n",
    "Перевод `MSE` в `RMSE` выполнен неверно - проверь последовательность математических операций, которые ты применяешь к метрике."
   ]
  },
  {
   "cell_type": "markdown",
   "metadata": {},
   "source": [
    "<div class=\"alert alert-info\">\n",
    "<h2> Комментарий студента v.2<a class=\"tocSkip\"> </h2>\n",
    "\n",
    "Заметил и исправил ошибку, спасибо. Модели ниже также поправил.\n",
    "</div>"
   ]
  },
  {
   "cell_type": "markdown",
   "metadata": {},
   "source": [
    "<div class=\"alert alert-success\">\n",
    "<h2> Комментарий ревьюера v.3 <a class=\"tocSkip\"> </h2>\n",
    "\n",
    "<b>Все отлично!👍:</b> Учтено."
   ]
  },
  {
   "cell_type": "markdown",
   "metadata": {},
   "source": [
    "### Случайное дерево"
   ]
  },
  {
   "cell_type": "markdown",
   "metadata": {},
   "source": [
    "Для начала найдем лучшие параметры для случайного дерева."
   ]
  },
  {
   "cell_type": "markdown",
   "metadata": {},
   "source": [
    "#### На выборках с OneHotEncoder"
   ]
  },
  {
   "cell_type": "code",
   "execution_count": 45,
   "metadata": {},
   "outputs": [],
   "source": [
    "params = {\n",
    "    'n_estimators': range(5, 11, 5),\n",
    "    'max_depth': range(1, 8, 3),\n",
    "}\n",
    "\n",
    "model = RandomForestRegressor(random_state=12345)\n",
    "grid = GridSearchCV(model, params, cv=3, scoring='neg_mean_squared_error')\n",
    "grid.fit(final_train_features, train_target)\n",
    "\n",
    "best_max_depth_rf = grid.best_params_['max_depth']\n",
    "best_n_estimators_rf = grid.best_params_['n_estimators']"
   ]
  },
  {
   "cell_type": "code",
   "execution_count": 46,
   "metadata": {},
   "outputs": [
    {
     "data": {
      "text/plain": [
       "2127.0291755805865"
      ]
     },
     "execution_count": 46,
     "metadata": {},
     "output_type": "execute_result"
    }
   ],
   "source": [
    "cross_val_score_rf_ohe = (grid.best_score_.mean() * -1) ** 0.5\n",
    "cross_val_score_rf_ohe"
   ]
  },
  {
   "cell_type": "code",
   "execution_count": 47,
   "metadata": {},
   "outputs": [],
   "source": [
    "model_rf = grid.best_estimator_\n",
    "rf_wrapper = ModelWrapper('RandomForestRegressor_ohe', model_rf)\n",
    "rf_wrapper.fit(final_train_features, train_target)\n",
    "rf_wrapper.predict(final_train_features, train_target)\n",
    "results.append(rf_wrapper.get_model_results())\n",
    "\n",
    "del rf_wrapper"
   ]
  },
  {
   "cell_type": "markdown",
   "metadata": {},
   "source": [
    "#### На выборках с OrdinalEncoder"
   ]
  },
  {
   "cell_type": "code",
   "execution_count": 48,
   "metadata": {},
   "outputs": [],
   "source": [
    "params = {\n",
    "    'n_estimators': range(5, 11, 5),\n",
    "    'max_depth': range(1, 8, 1),\n",
    "}\n",
    "\n",
    "model = RandomForestRegressor(random_state=12345)\n",
    "grid = GridSearchCV(model, params, cv=3, scoring='neg_mean_squared_error')\n",
    "grid.fit(features_train_oe, train_target)\n",
    "\n",
    "best_max_depth_rf = grid.best_params_['max_depth']\n",
    "best_n_estimators_rf = grid.best_params_['n_estimators']"
   ]
  },
  {
   "cell_type": "code",
   "execution_count": 49,
   "metadata": {},
   "outputs": [],
   "source": [
    "model_rf = grid.best_estimator_\n",
    "rf_wrapper = ModelWrapper('RandomForestRegressor_oe', model_rf)\n",
    "rf_wrapper.fit(features_train_oe, train_target)\n",
    "rf_wrapper.predict(features_train_oe, train_target)\n",
    "results.append(rf_wrapper.get_model_results())\n",
    "\n",
    "del rf_wrapper"
   ]
  },
  {
   "cell_type": "markdown",
   "metadata": {},
   "source": [
    "#### Кросс-валидация"
   ]
  },
  {
   "cell_type": "code",
   "execution_count": 50,
   "metadata": {},
   "outputs": [
    {
     "data": {
      "text/plain": [
       "2121.567597727027"
      ]
     },
     "execution_count": 50,
     "metadata": {},
     "output_type": "execute_result"
    }
   ],
   "source": [
    "cross_val_score_rf_oe = (grid.best_score_.mean() * -1) ** 0.5\n",
    "cross_val_score_rf_oe"
   ]
  },
  {
   "cell_type": "markdown",
   "metadata": {},
   "source": [
    "<div class=\"alert alert-block alert-danger\">\n",
    "<h2> Комментарий ревьюера v.4 <a class=\"tocSkip\"></h2>\n",
    "\n",
    "    \n",
    "<b>На доработку❌:</b>\n",
    "Метрика на кросс-валидации должна быть получена из `GridSearchCV`, отдельно проводить кросс-валидацию лучшей модели, которую мы нашил в `GridSearchCV`, не нужно.\n",
    "    \n",
    "Тут и далее."
   ]
  },
  {
   "cell_type": "markdown",
   "metadata": {},
   "source": [
    "<div class=\"alert alert-info\">\n",
    "<h2> Комментарий студента v.4<a class=\"tocSkip\"> </h2>\n",
    "\n",
    "Теперь эту метрику вытаскиваю из `GridSearchCV`\n",
    "</div>"
   ]
  },
  {
   "cell_type": "markdown",
   "metadata": {},
   "source": [
    "<div class=\"alert alert-block alert-danger\">\n",
    "<h2> Комментарий ревьюера v.5 <a class=\"tocSkip\"></h2>\n",
    "\n",
    "    \n",
    "<b>На доработку❌:</b> Если ты берёшь среднее по `mean_test_score`, ты получаешь усредённую оценку всех моделей, которые были исследованы в пределах заданной сетки гиперпараметров. Чтобы получить метрику с кросс-валидации для лучшей модели, нужно использовать `best_score_` - в первом комментарии в конце модельного блока был пример."
   ]
  },
  {
   "cell_type": "markdown",
   "metadata": {},
   "source": [
    "<div class=\"alert alert-info\">\n",
    "<h2> Комментарий студента v.5<a class=\"tocSkip\"> </h2>\n",
    "\n",
    "Действительно, проглядел. Поменял везде на `best_score_` В интернете и официальной документации `pandas` были другие примеры, я ориентировался на них. Спасибо за подсказку!\n",
    "</div>"
   ]
  },
  {
   "cell_type": "markdown",
   "metadata": {},
   "source": [
    "<div class=\"alert alert-success\">\n",
    "<h2> Комментарий ревьюера v.6 <a class=\"tocSkip\"> </h2>\n",
    "\n",
    "<b>Все отлично!👍:</b> Всегда пожалуйста:)"
   ]
  },
  {
   "cell_type": "markdown",
   "metadata": {},
   "source": [
    "### Дерево поиска"
   ]
  },
  {
   "cell_type": "markdown",
   "metadata": {},
   "source": [
    "Также сначала найдём лучшие параметры"
   ]
  },
  {
   "cell_type": "markdown",
   "metadata": {},
   "source": [
    "#### На выборках на OneHotEncoder"
   ]
  },
  {
   "cell_type": "code",
   "execution_count": 51,
   "metadata": {},
   "outputs": [],
   "source": [
    "params = {\n",
    "    'max_depth': range(1, 8, 1),\n",
    "}\n",
    "\n",
    "model = DecisionTreeRegressor(random_state=12345)\n",
    "grid = GridSearchCV(model, params, cv=3, scoring='neg_mean_squared_error')\n",
    "grid.fit(final_train_features, train_target)\n",
    "\n",
    "best_max_depth_dt = grid.best_params_['max_depth']"
   ]
  },
  {
   "cell_type": "code",
   "execution_count": 52,
   "metadata": {},
   "outputs": [
    {
     "data": {
      "text/plain": [
       "2180.7822737076867"
      ]
     },
     "execution_count": 52,
     "metadata": {},
     "output_type": "execute_result"
    }
   ],
   "source": [
    "cross_val_score_dt_ohe = (grid.best_score_.mean() * -1) ** 0.5\n",
    "cross_val_score_dt_ohe"
   ]
  },
  {
   "cell_type": "code",
   "execution_count": 53,
   "metadata": {},
   "outputs": [],
   "source": [
    "model_dt = grid.best_estimator_\n",
    "dt_wrapper = ModelWrapper('DecisionTreeRegressor_ohe', model_dt)\n",
    "dt_wrapper.fit(final_train_features, train_target)\n",
    "dt_wrapper.predict(final_train_features, train_target)\n",
    "results.append(dt_wrapper.get_model_results())\n",
    "\n",
    "del dt_wrapper"
   ]
  },
  {
   "cell_type": "markdown",
   "metadata": {},
   "source": [
    "#### На выборках с OrdinalEncoder"
   ]
  },
  {
   "cell_type": "code",
   "execution_count": 54,
   "metadata": {},
   "outputs": [],
   "source": [
    "params = {\n",
    "    'max_depth': range(1, 8, 1),\n",
    "}\n",
    "\n",
    "model = DecisionTreeRegressor()\n",
    "grid = GridSearchCV(model, params, cv=3, scoring='neg_mean_squared_error')\n",
    "grid.fit(features_train_oe, train_target)\n",
    "\n",
    "best_max_depth_dt = grid.best_params_['max_depth']"
   ]
  },
  {
   "cell_type": "code",
   "execution_count": 55,
   "metadata": {},
   "outputs": [],
   "source": [
    "model_dt = grid.best_estimator_\n",
    "dt_wrapper = ModelWrapper('DecisionTreeRegressor_oe', model_dt)\n",
    "dt_wrapper.fit(features_train_oe, train_target)\n",
    "dt_wrapper.predict(features_train_oe, train_target)\n",
    "results.append(dt_wrapper.get_model_results())\n",
    "\n",
    "del dt_wrapper"
   ]
  },
  {
   "cell_type": "markdown",
   "metadata": {},
   "source": [
    "#### Кросс-валидация"
   ]
  },
  {
   "cell_type": "code",
   "execution_count": 56,
   "metadata": {},
   "outputs": [
    {
     "data": {
      "text/plain": [
       "2179.229861857186"
      ]
     },
     "execution_count": 56,
     "metadata": {},
     "output_type": "execute_result"
    }
   ],
   "source": [
    "cross_val_score_dt_oe = (grid.best_score_.mean() * -1) ** 0.5\n",
    "cross_val_score_dt_oe"
   ]
  },
  {
   "cell_type": "markdown",
   "metadata": {},
   "source": [
    "### LightGBM"
   ]
  },
  {
   "cell_type": "markdown",
   "metadata": {},
   "source": [
    "#### На выборках с OneHotEncoder"
   ]
  },
  {
   "cell_type": "code",
   "execution_count": 57,
   "metadata": {},
   "outputs": [],
   "source": [
    "params = {\n",
    "    'n_estimators': range(5, 11, 5),\n",
    "    'learning_rate': np.arange(0.1, 1.0, 0.4)\n",
    "}\n",
    "\n",
    "model = lgb.sklearn.LGBMRegressor(random_state=12345, objective='rmse')\n",
    "grid = GridSearchCV(model, params, cv=3, scoring='neg_mean_squared_error')\n",
    "grid.fit(final_train_features, train_target)\n",
    "\n",
    "best_n_estmators_lgb = grid.best_params_['n_estimators']\n",
    "best_learning_rate_lgb = grid.best_params_['learning_rate']"
   ]
  },
  {
   "cell_type": "code",
   "execution_count": 58,
   "metadata": {},
   "outputs": [
    {
     "data": {
      "text/plain": [
       "1812.3213032812464"
      ]
     },
     "execution_count": 58,
     "metadata": {},
     "output_type": "execute_result"
    }
   ],
   "source": [
    "cross_val_score_lgbm_ohe = (grid.best_score_.mean() * -1) ** 0.5\n",
    "cross_val_score_lgbm_ohe"
   ]
  },
  {
   "cell_type": "code",
   "execution_count": 59,
   "metadata": {},
   "outputs": [],
   "source": [
    "model_lgb = grid.best_estimator_\n",
    "lgb_wrapper = ModelWrapper('LGBMRegressor_ohe', model_lgb)\n",
    "lgb_wrapper.fit(final_train_features, train_target)\n",
    "lgb_wrapper.predict(final_train_features, train_target)\n",
    "results.append(lgb_wrapper.get_model_results())\n",
    "\n",
    "del lgb_wrapper"
   ]
  },
  {
   "cell_type": "markdown",
   "metadata": {},
   "source": [
    "#### На выборках с OrdinalEncoder"
   ]
  },
  {
   "cell_type": "code",
   "execution_count": 60,
   "metadata": {},
   "outputs": [],
   "source": [
    "params = {\n",
    "    'n_estimators': range(5, 11, 5),\n",
    "    'learning_rate': np.arange(0.1, 1.0, 0.4)\n",
    "}\n",
    "\n",
    "model = lgb.sklearn.LGBMRegressor(random_state=12345, objective='rmse')\n",
    "grid = GridSearchCV(model, params, cv=3, scoring='neg_mean_squared_error')\n",
    "grid.fit(features_train_oe, train_target)\n",
    "\n",
    "best_n_estmators_lgb = grid.best_params_['n_estimators']\n",
    "best_learning_rate_lgb = grid.best_params_['learning_rate']"
   ]
  },
  {
   "cell_type": "code",
   "execution_count": 61,
   "metadata": {},
   "outputs": [],
   "source": [
    "model_lgb = grid.best_estimator_\n",
    "lgb_wrapper = ModelWrapper('LGBMRegressor_oe', model_lgb)\n",
    "lgb_wrapper.fit(features_train_oe, train_target)\n",
    "lgb_wrapper.predict(features_train_oe, train_target)\n",
    "results.append(lgb_wrapper.get_model_results())\n",
    "\n",
    "del lgb_wrapper"
   ]
  },
  {
   "cell_type": "markdown",
   "metadata": {},
   "source": [
    "#### Кросс-валидация"
   ]
  },
  {
   "cell_type": "code",
   "execution_count": 62,
   "metadata": {},
   "outputs": [
    {
     "data": {
      "text/plain": [
       "1826.4851008878184"
      ]
     },
     "execution_count": 62,
     "metadata": {},
     "output_type": "execute_result"
    }
   ],
   "source": [
    "cross_val_score_lgbm_oe = (grid.best_score_.mean() * -1) ** 0.5\n",
    "cross_val_score_lgbm_oe"
   ]
  },
  {
   "cell_type": "markdown",
   "metadata": {},
   "source": [
    "## Анализ моделей"
   ]
  },
  {
   "cell_type": "markdown",
   "metadata": {},
   "source": [
    "Построим таблицу для сравнения полученных значений."
   ]
  },
  {
   "cell_type": "code",
   "execution_count": 63,
   "metadata": {},
   "outputs": [
    {
     "data": {
      "text/plain": [
       "{'LinearRegression_ohe': [0.40776113271713255, 0.010152057806650797, 2649.39],\n",
       " 'RandomForestRegressor_ohe': [0.39141761461893715,\n",
       "  0.010225876172383627,\n",
       "  2121.65],\n",
       " 'RandomForestRegressor_oe': [0.03693456252415975,\n",
       "  0.0023036599159240723,\n",
       "  2115.29],\n",
       " 'DecisionTreeRegressor_ohe': [0.061416212717692056,\n",
       "  0.008298945426940919,\n",
       "  2166.58],\n",
       " 'DecisionTreeRegressor_oe': [0.006124019622802734,\n",
       "  0.0002797842025756836,\n",
       "  2167.61],\n",
       " 'LGBMRegressor_ohe': [0.35491650501887, 0.023914059003194172, 1798.08],\n",
       " 'LGBMRegressor_oe': [0.2399378021558126, 0.003458233674367269, 1805.33]}"
      ]
     },
     "execution_count": 63,
     "metadata": {},
     "output_type": "execute_result"
    }
   ],
   "source": [
    "results_dict = {k: v for d in results for k, v in d.items()}\n",
    "results_dict"
   ]
  },
  {
   "cell_type": "code",
   "execution_count": 64,
   "metadata": {
    "scrolled": true
   },
   "outputs": [],
   "source": [
    "results_dict['LGBMRegressor_ohe'].append(cross_val_score_lgbm_ohe)\n",
    "results_dict['LGBMRegressor_oe'].append(cross_val_score_lgbm_oe)\n",
    "results_dict['RandomForestRegressor_oe'].append(cross_val_score_rf_oe)\n",
    "results_dict['RandomForestRegressor_ohe'].append(cross_val_score_rf_ohe)\n",
    "results_dict['DecisionTreeRegressor_ohe'].append(cross_val_score_dt_ohe)\n",
    "results_dict['DecisionTreeRegressor_oe'].append(cross_val_score_dt_oe)\n",
    "results_dict['LinearRegression_ohe'].append(cross_val_score_lr)"
   ]
  },
  {
   "cell_type": "code",
   "execution_count": 65,
   "metadata": {},
   "outputs": [
    {
     "data": {
      "text/html": [
       "<div>\n",
       "<style scoped>\n",
       "    .dataframe tbody tr th:only-of-type {\n",
       "        vertical-align: middle;\n",
       "    }\n",
       "\n",
       "    .dataframe tbody tr th {\n",
       "        vertical-align: top;\n",
       "    }\n",
       "\n",
       "    .dataframe thead th {\n",
       "        text-align: right;\n",
       "    }\n",
       "</style>\n",
       "<table border=\"1\" class=\"dataframe\">\n",
       "  <thead>\n",
       "    <tr style=\"text-align: right;\">\n",
       "      <th></th>\n",
       "      <th>fit_time</th>\n",
       "      <th>predicted_time</th>\n",
       "      <th>rmse_train</th>\n",
       "      <th>rmse_cross_val</th>\n",
       "    </tr>\n",
       "  </thead>\n",
       "  <tbody>\n",
       "    <tr>\n",
       "      <th>LGBMRegressor_ohe</th>\n",
       "      <td>0.354917</td>\n",
       "      <td>0.023914</td>\n",
       "      <td>1798.08</td>\n",
       "      <td>1812.321303</td>\n",
       "    </tr>\n",
       "    <tr>\n",
       "      <th>LGBMRegressor_oe</th>\n",
       "      <td>0.239938</td>\n",
       "      <td>0.003458</td>\n",
       "      <td>1805.33</td>\n",
       "      <td>1826.485101</td>\n",
       "    </tr>\n",
       "    <tr>\n",
       "      <th>RandomForestRegressor_oe</th>\n",
       "      <td>0.036935</td>\n",
       "      <td>0.002304</td>\n",
       "      <td>2115.29</td>\n",
       "      <td>2121.567598</td>\n",
       "    </tr>\n",
       "    <tr>\n",
       "      <th>RandomForestRegressor_ohe</th>\n",
       "      <td>0.391418</td>\n",
       "      <td>0.010226</td>\n",
       "      <td>2121.65</td>\n",
       "      <td>2127.029176</td>\n",
       "    </tr>\n",
       "    <tr>\n",
       "      <th>DecisionTreeRegressor_oe</th>\n",
       "      <td>0.006124</td>\n",
       "      <td>0.000280</td>\n",
       "      <td>2167.61</td>\n",
       "      <td>2179.229862</td>\n",
       "    </tr>\n",
       "    <tr>\n",
       "      <th>DecisionTreeRegressor_ohe</th>\n",
       "      <td>0.061416</td>\n",
       "      <td>0.008299</td>\n",
       "      <td>2166.58</td>\n",
       "      <td>2180.782274</td>\n",
       "    </tr>\n",
       "    <tr>\n",
       "      <th>LinearRegression_ohe</th>\n",
       "      <td>0.407761</td>\n",
       "      <td>0.010152</td>\n",
       "      <td>2649.39</td>\n",
       "      <td>2656.726213</td>\n",
       "    </tr>\n",
       "  </tbody>\n",
       "</table>\n",
       "</div>"
      ],
      "text/plain": [
       "                           fit_time  predicted_time  rmse_train  \\\n",
       "LGBMRegressor_ohe          0.354917        0.023914     1798.08   \n",
       "LGBMRegressor_oe           0.239938        0.003458     1805.33   \n",
       "RandomForestRegressor_oe   0.036935        0.002304     2115.29   \n",
       "RandomForestRegressor_ohe  0.391418        0.010226     2121.65   \n",
       "DecisionTreeRegressor_oe   0.006124        0.000280     2167.61   \n",
       "DecisionTreeRegressor_ohe  0.061416        0.008299     2166.58   \n",
       "LinearRegression_ohe       0.407761        0.010152     2649.39   \n",
       "\n",
       "                           rmse_cross_val  \n",
       "LGBMRegressor_ohe             1812.321303  \n",
       "LGBMRegressor_oe              1826.485101  \n",
       "RandomForestRegressor_oe      2121.567598  \n",
       "RandomForestRegressor_ohe     2127.029176  \n",
       "DecisionTreeRegressor_oe      2179.229862  \n",
       "DecisionTreeRegressor_ohe     2180.782274  \n",
       "LinearRegression_ohe          2656.726213  "
      ]
     },
     "execution_count": 65,
     "metadata": {},
     "output_type": "execute_result"
    }
   ],
   "source": [
    "results_df = pd.DataFrame(data=results_dict, index=['fit_time', 'predicted_time', 'rmse_train', 'rmse_cross_val'])\n",
    "results_df.T.sort_values(by='rmse_cross_val', ascending=True)"
   ]
  },
  {
   "cell_type": "markdown",
   "metadata": {},
   "source": [
    "<div class=\"alert alert-block alert-danger\">\n",
    "<h2> Комментарий ревьюера v.4 <a class=\"tocSkip\"></h2>\n",
    "\n",
    "    \n",
    "<b>На доработку❌:</b>\n",
    "`RMSE` должен быть с кросс-валидации, а не с `train`."
   ]
  },
  {
   "cell_type": "markdown",
   "metadata": {},
   "source": [
    "<div class=\"alert alert-info\">\n",
    "<h2> Комментарий студента v.4<a class=\"tocSkip\"> </h2>\n",
    "\n",
    "Дополнительно посчитал `rmse` с кросс-валидации и выбираю лучшую модель именно по этому признаку.\n",
    "</div>"
   ]
  },
  {
   "cell_type": "markdown",
   "metadata": {},
   "source": [
    "<div class=\"alert alert-warning\">\n",
    "    <h2> Комментарий ревьюера v.5 <a class=\"tocSkip\"> </h2>\n",
    "    \n",
    "<b>Некоторые замечания и рекомендации⚠️:</b> \n",
    "\n",
    "В целом учтено, однако оценка на `train` нам не нужна, потому что она непоказательна: эта оценка была получена на данных, на которых модель обучалась, и такая оценка ничего не говорит о предсказательной способности нашей модели."
   ]
  },
  {
   "cell_type": "markdown",
   "metadata": {},
   "source": [
    "<div class=\"alert alert-block alert-danger\">\n",
    "<h2> Комментарий ревьюера v.4 <a class=\"tocSkip\"></h2>\n",
    "\n",
    "    \n",
    "<b>На доработку❌:</b>\n",
    "Эта часть лишняя."
   ]
  },
  {
   "cell_type": "markdown",
   "metadata": {},
   "source": [
    "<div class=\"alert alert-info\">\n",
    "<h2> Комментарий студента v.4<a class=\"tocSkip\"> </h2>\n",
    "\n",
    "Убрал\n",
    "</div>"
   ]
  },
  {
   "cell_type": "markdown",
   "metadata": {},
   "source": [
    "<div class=\"alert alert-success\">\n",
    "<h2> Комментарий ревьюера v.5 <a class=\"tocSkip\"> </h2>\n",
    "\n",
    "<b>Все отлично!👍:</b> Учтено."
   ]
  },
  {
   "cell_type": "markdown",
   "metadata": {},
   "source": [
    "Из таблицы видно, что лучшим временем выполнения обладает линейная регрессия, однако, данная модель имеет самый худший показатель `rmse`. `RandomForestRgressor` и `DecisionTreeRegressor` имеют лучший показатель `rmse`, однако имеют сравниетнльо высокое время обучения и предсказания. `LGMBRegressor` имеет не критичнто большее время обучения и предсказания, чем линейная регрессия, однако, показатель `rmse` у него лучше, чем у всех остальных моделей. Исходя их малого времени выполнения и хорошего показателя `rmse` и `rmse_cross_val`, в качестве основной модели я бы выбрал `LGBMRegressor`."
   ]
  },
  {
   "cell_type": "markdown",
   "metadata": {},
   "source": [
    "<div class=\"alert alert-block alert-danger\">\n",
    "<h2> Комментарий ревьюера v.2 <a class=\"tocSkip\"></h2>\n",
    "\n",
    "    \n",
    "<b>На доработку❌:</b>\n",
    "Зачем валидационная выборка? В замечании ниже было сказано, что используется или кросс-валидация, или валидационная выборка."
   ]
  },
  {
   "cell_type": "markdown",
   "metadata": {},
   "source": [
    "<div class=\"alert alert-info\">\n",
    "<h2> Комментарий студента v.2<a class=\"tocSkip\"> </h2>\n",
    "\n",
    "Убрал деление, использую исходную тестовую выборку\n",
    "</div>"
   ]
  },
  {
   "cell_type": "markdown",
   "metadata": {},
   "source": [
    "<div class=\"alert alert-success\">\n",
    "<h2> Комментарий ревьюера v.3 <a class=\"tocSkip\"> </h2>\n",
    "\n",
    "<b>Все отлично!👍:</b> Учтено."
   ]
  },
  {
   "cell_type": "code",
   "execution_count": 66,
   "metadata": {},
   "outputs": [
    {
     "name": "stdout",
     "output_type": "stream",
     "text": [
      "CPU times: user 16.4 s, sys: 934 ms, total: 17.4 s\n",
      "Wall time: 17.4 s\n"
     ]
    },
    {
     "data": {
      "text/plain": [
       "LGBMRegressor(learning_rate=0.5, n_estimators=10, random_state=12345)"
      ]
     },
     "execution_count": 66,
     "metadata": {},
     "output_type": "execute_result"
    }
   ],
   "source": [
    "%%time\n",
    "\n",
    "model_lgbm = lgb.sklearn.LGBMRegressor(learning_rate=best_learning_rate_lgb, random_state=12345, n_estimators=best_n_estmators_lgb)\n",
    "model_lgbm.fit(final_train_features, train_target)"
   ]
  },
  {
   "cell_type": "code",
   "execution_count": 67,
   "metadata": {
    "scrolled": true
   },
   "outputs": [
    {
     "name": "stdout",
     "output_type": "stream",
     "text": [
      "CPU times: user 365 ms, sys: 131 ms, total: 496 ms\n",
      "Wall time: 489 ms\n"
     ]
    }
   ],
   "source": [
    "%%time\n",
    "\n",
    "target_predict_ohe = model_lgbm.predict(final_test_features)"
   ]
  },
  {
   "cell_type": "code",
   "execution_count": 68,
   "metadata": {
    "scrolled": true
   },
   "outputs": [
    {
     "data": {
      "text/plain": [
       "1784.26"
      ]
     },
     "execution_count": 68,
     "metadata": {},
     "output_type": "execute_result"
    }
   ],
   "source": [
    "rmse_model_lgbm = rmse(test_target, target_predict_ohe)\n",
    "rmse_model_lgbm"
   ]
  },
  {
   "cell_type": "markdown",
   "metadata": {},
   "source": [
    "<div class=\"alert alert-block alert-danger\">\n",
    "<h2> Комментарий ревьюера v.4 <a class=\"tocSkip\"></h2>\n",
    "\n",
    "    \n",
    "<b>На доработку❌:</b>\n",
    "Зачем повторная кросс-валидация лучшей модели на `train`? Эта оценка уже была получена."
   ]
  },
  {
   "cell_type": "markdown",
   "metadata": {},
   "source": [
    "<div class=\"alert alert-info\">\n",
    "<h2> Комментарий студента v.4<a class=\"tocSkip\"> </h2>\n",
    "\n",
    "Исправил, теперь кросс-валидация считается на тестовой выборке.\n",
    "</div>"
   ]
  },
  {
   "cell_type": "markdown",
   "metadata": {},
   "source": [
    "<div class=\"alert alert-block alert-danger\">\n",
    "<h2> Комментарий ревьюера v.5 <a class=\"tocSkip\"></h2>\n",
    "\n",
    "    \n",
    "<b>На доработку❌:</b>\n",
    "На этом этапе кросс-валидация нам в принципе не нужна - мы уже получили оценки на кросс-валидации, выбрали по ним лучшую модель и оценили её на `test`. Также сама кросс-валидация организована неверно: кросс-валидация предполагает деление выборки на фолды, на которых происходит и обучение, и тестирование - в итоге модель и обучается, и тестируется на тестовой выборке, что нарушает концепцию итогового тестирования.\n",
    "\n",
    "Этот блок нам тоже не нужен."
   ]
  },
  {
   "cell_type": "markdown",
   "metadata": {},
   "source": [
    "<div class=\"alert alert-info\">\n",
    "<h2> Комментарий студента v.5<a class=\"tocSkip\"> </h2>\n",
    "\n",
    "Убрал данный блок\n",
    "</div>"
   ]
  },
  {
   "cell_type": "markdown",
   "metadata": {},
   "source": [
    "<div class=\"alert alert-success\">\n",
    "<h2> Комментарий ревьюера v.6 <a class=\"tocSkip\"> </h2>\n",
    "\n",
    "<b>Все отлично!👍:</b> Учтено."
   ]
  },
  {
   "cell_type": "markdown",
   "metadata": {},
   "source": [
    "Сравним нашу модель с константной"
   ]
  },
  {
   "cell_type": "code",
   "execution_count": 69,
   "metadata": {},
   "outputs": [
    {
     "data": {
      "text/plain": [
       "4601.04"
      ]
     },
     "execution_count": 69,
     "metadata": {},
     "output_type": "execute_result"
    }
   ],
   "source": [
    "dummy = DummyRegressor(strategy='mean')\n",
    "dummy.fit(features_train_oe, train_target)\n",
    "dummy_predicted = dummy.predict(test_features)\n",
    "rmse_model_dummy = rmse(test_target, dummy_predicted)\n",
    "rmse_model_dummy"
   ]
  },
  {
   "cell_type": "markdown",
   "metadata": {},
   "source": [
    "Проверка на констатной модели показала, что основная модель является адекватной."
   ]
  },
  {
   "cell_type": "markdown",
   "metadata": {},
   "source": [
    "## Итоговый вывод"
   ]
  },
  {
   "cell_type": "markdown",
   "metadata": {},
   "source": [
    "- Была проведена предобработка данных, в результате которой названия столбцов было приведено к `snake_case`. Также мы избавились от аномальных значений в столбцах и заполнили пропуски\n",
    "- Для определения лучшей модели для данных, мы сравнивали модель градиентного бустинга `LGBMRegressor` и стандартные модели `LinearRegression`, `RandomForestRegressor`, `DecisionTreeRegressor`.\n",
    "- В результате исследований оказалось, что лучшим временем выполнения обладает линейная регрессия, однако, данная модель имеет самый худший показатель `rmse`. `RandomForestRgressor` и `DecisionTreeRegressor` имеют лучший показатель `rmse`, однако имеют сравниетнльо высокое время обучения и предсказания. `LGMBRegressor` имеет не критичнто большее время обучения и предсказания, чем линейная регрессия, однако, показатель `rmse` у него лучше, чем у всех остальных моделей. Исходя их малого времени выполнения и хорошего показателя `rmse`, в качестве основной модели я бы выбрал `LGBMRegressor`.\n",
    "- В результате проверки модели градиентого бустинга `LGBMRegressor`, я пришёл к цифрам `rmse` на кросс-валидации = **1810.64** и общее время работы получилось около **3 секунд**. Данные показатели получились даже лучше, чем при поиске лучшей модели на тренировочных данных. Именно модель `LGBMRegressor` я советую использовать в дальнейшей работе."
   ]
  },
  {
   "cell_type": "markdown",
   "metadata": {},
   "source": [
    "<div class=\"alert alert-block alert-danger\">\n",
    "<h2> Комментарий ревьюера <a class=\"tocSkip\"></h2>\n",
    "\n",
    "    \n",
    "<b>На доработку❌:</b>\n",
    "\n",
    "По этому блоку будет несколько важных замечаний:\n",
    "1. Все модели этого блока оцениваются на тестовой выборке - это преждевременное решение, так как оценка на тестовой выборке - это финальное тестирование для лучшей модели, которая была отобрана в ходе промежуточного тестирования. Эта концепция находит своё отражение в условиях эксплуатации модели в реальной среде: в промышленной эксплуатации не работает несколько моделей одновременно - в промышленную эксплуатацию запускают только одну модель, которая была выбрана из нескольких в ходе промежуточной оценки. Так же и здесь - тестовая выборка имитирует поток реальных данных, и с этим потоком должна работать только одна модель. \n",
    "\n",
    "\n",
    "2. Лучшая модель должна быть выбрана по двум критериям - метрика `RMSE` и время работы модели. Далее сценарий работы с моделями в этом блоке зависит от выбранной стратегии валидации и оптимизации гиперпараметров:\n",
    "- для оптимизации гиперпараметров и промежуточной оценки моделей была выделена валидационная выборка;\n",
    "- для оптимизации гиперпараметров и промежуточной оценки моделей проводится кросс-валидация.\n",
    "    \n",
    "    В первом случае метрика промежуточной оценки модели - это метрика `RMSE` на валидационной выборке, полученная от использования на `valid` лучшей модели, а время - это время обучения модели с лучшими гиперпарметрами на `train` и время совершения ею предсказаний на `valid`.\n",
    "    \n",
    "    Во втором случае метрика промежуточной оценким модели - это метрика `RMSE` с кросс-валидации: в случае использования `cross_val_score` - это среднее из массива метрик (длина соответствует количеству фолдов для кросс-валидации), который возвращает инструмент, в случае использования `GridSearchCV` или `RandomizedSearchCV` - это метрика из атрибута `best_score_`. Временем работы лучшей модели может быть время обучения на `train` и время предсказания на `train` выборке (только время, метрика `RMSE` на тренировочной выборке не нужна).\n",
    "    \n",
    "    Тут часто студенты делают ошибку, принимая в качестве метрики времени время работы лучшей модели, а время оптимизации гиперпараметров в целом (то есть время выполнения всей ячейки кода цикла с `cross_val_score` или ячейки с `GridSearchCV`) - это некорректный подход: на практике модель не будет каждый раз переобучаться и выполнять оптимизацию гиперпараметров перед очередным предсказанием - сначала будет найдена лучшая модель, а она уже будет использоваться для обучения и предсказаний. Поэтому и в этом случае сначала определяется лучшая модель, а уже потом замеряется время её работы: кросс-валидации как альтернатива времени обучения и предсказания (потому что по сути кросс-валидация объединяет в себе обучение и предсказание) или время обучения и предсказания на `train`.\n",
    "    \n",
    "    Независимо от выбранной стратегии кросс-валидации алгоритм работы выглядит как:\n",
    "- оптимизация гиперпараметров и поиск лучшей модели;\n",
    "- оценка метрики `RMSE`;\n",
    "- оценка времени работы лучшей модели: на валидационной выборке (если она выделялась) или на кросс-валидации/тренировочной выборке (если проводилась кросс-валидация).\n",
    "    \n",
    "Концепт для `valid`:\n",
    "    \n",
    "    for ... in ...:\n",
    "    \n",
    "        #код для поиска лучшей модели\n",
    "    \n",
    "    model = ... #код для инициализации лучшей модели с оптимальными гиперпараметрами\n",
    "    \n",
    "    model.fit(X_train, Y_train) #замеряем время обучения\n",
    "    \n",
    "    pred = model.predict(X_valid) #замеряем время предсказания\n",
    "    \n",
    "    RMSE = (Y_valid, pred) #замеряем RMSE на valid\n",
    "    \n",
    "Концепт для кросс-валидации:\n",
    "    \n",
    "    model = #инициализируем модель\n",
    "    gs = GridSearchCV(...) #настраиваем поиск по сетке\n",
    "    \n",
    "    gs.fit(...) #находим лучшую модель\n",
    "    \n",
    "    gs.best_score_ #замеряем RMSE на  кросс-валидации\n",
    "    \n",
    "    model = gs.best_estimator_ #получаем лучшую модель из best_estimator\n",
    "    model = #YourModel(random_state = 42, **gs.best_params) #альтернативный способ получения лучшей модели\n",
    "    \n",
    "    model.fit(X_train, Y_train) #замеряем время обучения\n",
    "    model.predict(X_train) #замеряем время предсказания\n",
    "    \n",
    "    \n",
    "   По итогу нужно будет провести сравнительную характеристику моделей по критериям метрики `RMSE` и времени работы моделей и выбрать лучшую - именно эта лучшая модель должна будет оцениваться на тестовой выборке.\n",
    "    \n",
    "   Обрати также внимание, что при создании таблицы нельзя использовать вручную введённые значения - они потеряют актуальность при любом изменении в данных, их обработке или в моделях. Значения метрик лучше помещать в переменные и использовать их для создания таблиц. Для сохранения в переменные времени работы моделей можно использовать модуль `time`:\n",
    "    \n",
    "    from time import time\n",
    "    \n",
    "    start = time()\n",
    "    \n",
    "    #код модели\n",
    "    \n",
    "    end = time()\n",
    "    \n",
    "    model_time = (end-start)/60 #перевожу в минуты, так как по умолчанию секунды\n",
    "    \n",
    "3. Очень важно также проверить лучшую модель на адекватность, сравнив качество её предсказаний с качеством модели, которая предсказывала бы константу - вдруг окажется, что не было бы большого смысла заниматься созданием новых признаков, тюнингом и кросс-валидацией моделей, если можно было бы просто предсказывать среднее значение тренировочной выборки? \n",
    "    \n",
    "    В качестве константной модели можно использовать `DummyRegressor` (https://scikit-learn.org/stable/modules/generated/sklearn.dummy.DummyRegressor.html) -  эта модель как раз создана для генерирования константных предсказаний.\n",
    "    \n",
    "    Важно, чтобы результат тестирования нашей модели на тествой выборке был лучше, чем результат константной модели - в противном случае наша модель является бесполезной, так как все наши усилия над проектом не принесли результата, а можель, просто предсказывющая среднее на `train`, делает нашу работу лучше.\n",
    "\n",
    "\n",
    "4. Итоговый вывод нужно поправить."
   ]
  },
  {
   "cell_type": "markdown",
   "metadata": {},
   "source": [
    "<div class=\"alert alert-info\">\n",
    "<h2> Комментарий студента <a class=\"tocSkip\"> </h2>\n",
    "\n",
    "Я перелопатил весь последний и предпоследний пункт, для поиска наилучшей модели по времени и ошибке. Надеюсь я правильно понял то, что ты написал и сделал всё в лучшем виде :)\n",
    "</div>"
   ]
  },
  {
   "cell_type": "markdown",
   "metadata": {},
   "source": [
    "<div class=\"alert alert-success\">\n",
    "<h2> Комментарий ревьюера v.2 <a class=\"tocSkip\"> </h2>\n",
    "\n",
    "<b>Все отлично!👍:</b> Точечные замечания выше."
   ]
  },
  {
   "cell_type": "markdown",
   "metadata": {},
   "source": [
    "<div style=\"border:solid Chocolate 2px; padding: 40px\">\n",
    "\n",
    "# Комментарий ревьюера: общий вывод по проекту.\n",
    "\n",
    "Данила, проект получился на довольно хорошем уровне - отличная работа над проектом, молодец!\n",
    "\n",
    "Мне нравится твой аналитический подход к выполнению проекта, ты соблюдаешь структуру работы, выполняешь её последовательно - это очень хорошо! Шаги проекта выполнены по порядку согласно плану проекта, нет смысловых и структурных ям. Важно, что не забываешь про выводы.\n",
    "    \n",
    "Отмечу отличную предобработку данных - были найдены и корректно обработаны все аномалии и пропуски, также выполнено кодирование категориальных переменных и масштабирование непрерывных.\n",
    "\n",
    "Работа с моделями также выполнена неплохо: исследовано несколько алгоритмов, проведён подбор гиперпараметров с помощью `GridSearchCV` - молодец!\n",
    "    \n",
    "Над проектом ещё стоит поработать - есть рекомендации по дополнению некоторых твоих шагов проекта. Такие рекомендации я отметил жёлтыми комментариями. Будет здорово, если ты учтёшь их - так проект станет структурно и содержательно более совершенным.\n",
    "    \n",
    "Также в работе есть критические замечания. К этим замечаниям я оставил пояснительные комментарии красного цвета, в которых перечислил возможные варианты дальнейших действий. Уверен, ты быстро с этим управишься:)\n",
    "    \n",
    "Если о том, что нужно сделать в рамках комментариев, будут возникать вопросы - оставь их, пожалуйста, в комментариях, и я отвечу на них во время следующего ревью.\n",
    "    \n",
    "Также буду рад ответить на любые твои вопросы по проекту или на какие-либо другие, если они у тебя имеются - оставь их в комментариях, и я постараюсь ответить:)\n",
    "    \n",
    "Жду твой проект на повторном ревью. До встречи:)"
   ]
  },
  {
   "cell_type": "markdown",
   "metadata": {},
   "source": [
    "<div style=\"border:solid Chocolate 2px; padding: 40px\">\n",
    "\n",
    "# Комментарий ревьюера: общий вывод по проекту v.2.\n",
    "\n",
    "Данила, продолжаем работу над проектом - актуальные замечания отмечены комментариями с меткой `v.2`.\n",
    "    \n",
    "Жду тебя снова:)"
   ]
  },
  {
   "cell_type": "markdown",
   "metadata": {},
   "source": [
    "<div style=\"border:solid Chocolate 2px; padding: 40px\">\n",
    "\n",
    "# Комментарий ревьюера: общий вывод по проекту v.3.\n",
    "\n",
    "Данила, продолжаем работу над проектом - актуальные замечания отмечены комментариями с меткой `v.3`.\n",
    "    \n",
    "Жду тебя снова:)"
   ]
  },
  {
   "cell_type": "markdown",
   "metadata": {},
   "source": [
    "<div style=\"border:solid Chocolate 2px; padding: 40px\">\n",
    "\n",
    "# Комментарий ревьюера: общий вывод по проекту v.4.\n",
    "\n",
    "Данила, продолжаем работу над проектом - актуальные замечания отмечены комментариями с меткой `v.4`.\n",
    "\n",
    "Отмечу, что у нас осталось только две попытки закончить работу над проектом - в противном случае нужно будет взять академ и продолжить работу над проектом в другой когорте. Надеюсь, мы потратим две оставшиеся итерации эффективно и успеем всё закрыть без перехода.\n",
    "    \n",
    "Жду тебя снова:)"
   ]
  },
  {
   "cell_type": "markdown",
   "metadata": {},
   "source": [
    "<div style=\"border:solid Chocolate 2px; padding: 40px\">\n",
    "\n",
    "# Комментарий ревьюера: общий вывод по проекту v.5.\n",
    "\n",
    "Данила, продолжаем работу над проектом - актуальные замечания отмечены комментариями с меткой `v.5`.\n",
    "\n",
    "Жду тебя снова:)"
   ]
  },
  {
   "cell_type": "markdown",
   "metadata": {},
   "source": [
    "<div style=\"border:solid Chocolate 2px; padding: 40px\">\n",
    "\n",
    "# Комментарий ревьюера: общий вывод по проекту v.6.\n",
    "\n",
    "Данила, все замечания учтены - проект принят!\n",
    "    \n",
    "Спасибо за хорошую работу над проектом, желаю успехов в дальнейшем обучении:)"
   ]
  }
 ],
 "metadata": {
  "ExecuteTimeLog": [
   {
    "duration": 92,
    "start_time": "2023-09-22T07:48:31.547Z"
   },
   {
    "duration": 1155,
    "start_time": "2023-09-22T07:48:35.665Z"
   },
   {
    "duration": 1291,
    "start_time": "2023-09-22T07:49:14.848Z"
   },
   {
    "duration": 22,
    "start_time": "2023-09-22T07:49:24.240Z"
   },
   {
    "duration": 151,
    "start_time": "2023-09-22T07:49:51.614Z"
   },
   {
    "duration": 144,
    "start_time": "2023-09-22T07:52:12.803Z"
   },
   {
    "duration": 15,
    "start_time": "2023-09-22T07:52:48.001Z"
   },
   {
    "duration": 145,
    "start_time": "2023-09-22T07:54:05.651Z"
   },
   {
    "duration": 163,
    "start_time": "2023-09-22T07:54:07.713Z"
   },
   {
    "duration": 3,
    "start_time": "2023-09-22T07:57:08.558Z"
   },
   {
    "duration": 3,
    "start_time": "2023-09-22T08:00:57.804Z"
   },
   {
    "duration": 3,
    "start_time": "2023-09-22T08:01:05.653Z"
   },
   {
    "duration": 172,
    "start_time": "2023-09-22T08:01:32.796Z"
   },
   {
    "duration": 73,
    "start_time": "2023-09-22T08:01:38.365Z"
   },
   {
    "duration": 45,
    "start_time": "2023-09-22T08:02:20.352Z"
   },
   {
    "duration": 45,
    "start_time": "2023-09-22T08:02:25.235Z"
   },
   {
    "duration": 110,
    "start_time": "2023-09-22T08:06:21.103Z"
   },
   {
    "duration": 49,
    "start_time": "2023-09-22T09:53:59.600Z"
   },
   {
    "duration": 78,
    "start_time": "2023-09-22T09:54:07.487Z"
   },
   {
    "duration": 77,
    "start_time": "2023-09-22T09:57:46.966Z"
   },
   {
    "duration": 107,
    "start_time": "2023-09-22T10:01:36.648Z"
   },
   {
    "duration": 67,
    "start_time": "2023-09-22T10:04:34.793Z"
   },
   {
    "duration": 50,
    "start_time": "2023-09-22T10:08:01.470Z"
   },
   {
    "duration": 148,
    "start_time": "2023-09-22T10:08:11.905Z"
   },
   {
    "duration": 1756,
    "start_time": "2023-09-22T10:08:21.087Z"
   },
   {
    "duration": 1131,
    "start_time": "2023-09-22T10:08:22.845Z"
   },
   {
    "duration": 44,
    "start_time": "2023-09-22T10:08:23.979Z"
   },
   {
    "duration": 183,
    "start_time": "2023-09-22T10:08:24.026Z"
   },
   {
    "duration": 4,
    "start_time": "2023-09-22T10:08:24.211Z"
   },
   {
    "duration": 81,
    "start_time": "2023-09-22T10:08:24.217Z"
   },
   {
    "duration": 260,
    "start_time": "2023-09-22T10:08:24.300Z"
   },
   {
    "duration": 238,
    "start_time": "2023-09-22T10:08:24.562Z"
   },
   {
    "duration": 79,
    "start_time": "2023-09-22T10:08:24.802Z"
   },
   {
    "duration": 140,
    "start_time": "2023-09-22T10:08:24.885Z"
   },
   {
    "duration": 126,
    "start_time": "2023-09-22T10:08:25.027Z"
   },
   {
    "duration": 57,
    "start_time": "2023-09-22T10:08:25.155Z"
   },
   {
    "duration": 56,
    "start_time": "2023-09-22T10:08:25.220Z"
   },
   {
    "duration": 172,
    "start_time": "2023-09-22T10:08:25.278Z"
   },
   {
    "duration": 145,
    "start_time": "2023-09-22T10:11:46.001Z"
   },
   {
    "duration": 768,
    "start_time": "2023-09-22T10:11:48.324Z"
   },
   {
    "duration": 474,
    "start_time": "2023-09-22T10:13:33.782Z"
   },
   {
    "duration": 5,
    "start_time": "2023-09-22T10:13:45.125Z"
   },
   {
    "duration": 355,
    "start_time": "2023-09-22T10:13:48.834Z"
   },
   {
    "duration": 365,
    "start_time": "2023-09-22T10:13:59.978Z"
   },
   {
    "duration": 22,
    "start_time": "2023-09-22T10:14:29.806Z"
   },
   {
    "duration": 12,
    "start_time": "2023-09-22T10:14:38.973Z"
   },
   {
    "duration": 3,
    "start_time": "2023-09-22T10:14:53.899Z"
   },
   {
    "duration": 1054,
    "start_time": "2023-09-22T10:14:53.905Z"
   },
   {
    "duration": 18,
    "start_time": "2023-09-22T10:14:54.961Z"
   },
   {
    "duration": 196,
    "start_time": "2023-09-22T10:14:54.982Z"
   },
   {
    "duration": 5,
    "start_time": "2023-09-22T10:14:55.180Z"
   },
   {
    "duration": 57,
    "start_time": "2023-09-22T10:14:55.187Z"
   },
   {
    "duration": 402,
    "start_time": "2023-09-22T10:14:55.248Z"
   },
   {
    "duration": 15,
    "start_time": "2023-09-22T10:14:59.396Z"
   },
   {
    "duration": 500,
    "start_time": "2023-09-22T10:15:49.471Z"
   },
   {
    "duration": 268,
    "start_time": "2023-09-22T10:15:54.544Z"
   },
   {
    "duration": 305,
    "start_time": "2023-09-22T10:16:06.270Z"
   },
   {
    "duration": 623,
    "start_time": "2023-09-22T10:18:22.228Z"
   },
   {
    "duration": 16,
    "start_time": "2023-09-22T10:18:37.785Z"
   },
   {
    "duration": 572,
    "start_time": "2023-09-22T10:19:05.189Z"
   },
   {
    "duration": 534,
    "start_time": "2023-09-22T10:19:13.871Z"
   },
   {
    "duration": 51,
    "start_time": "2023-09-22T10:20:38.782Z"
   },
   {
    "duration": 64,
    "start_time": "2023-09-22T10:20:44.557Z"
   },
   {
    "duration": 126,
    "start_time": "2023-09-22T10:30:24.148Z"
   },
   {
    "duration": 2014,
    "start_time": "2023-09-22T10:30:39.213Z"
   },
   {
    "duration": 628,
    "start_time": "2023-09-22T10:30:43.791Z"
   },
   {
    "duration": 32,
    "start_time": "2023-09-22T10:30:58.387Z"
   },
   {
    "duration": 47,
    "start_time": "2023-09-22T10:31:02.518Z"
   },
   {
    "duration": 4,
    "start_time": "2023-09-22T10:31:12.744Z"
   },
   {
    "duration": 991,
    "start_time": "2023-09-22T10:31:12.785Z"
   },
   {
    "duration": 16,
    "start_time": "2023-09-22T10:31:13.779Z"
   },
   {
    "duration": 184,
    "start_time": "2023-09-22T10:31:13.797Z"
   },
   {
    "duration": 4,
    "start_time": "2023-09-22T10:31:13.983Z"
   },
   {
    "duration": 57,
    "start_time": "2023-09-22T10:31:13.990Z"
   },
   {
    "duration": 319,
    "start_time": "2023-09-22T10:31:14.049Z"
   },
   {
    "duration": 625,
    "start_time": "2023-09-22T10:31:14.370Z"
   },
   {
    "duration": 26,
    "start_time": "2023-09-22T10:31:14.997Z"
   },
   {
    "duration": 92,
    "start_time": "2023-09-22T10:31:15.024Z"
   },
   {
    "duration": 33,
    "start_time": "2023-09-22T10:31:15.118Z"
   },
   {
    "duration": 6,
    "start_time": "2023-09-22T10:31:36.393Z"
   },
   {
    "duration": 6,
    "start_time": "2023-09-22T10:31:40.731Z"
   },
   {
    "duration": 670,
    "start_time": "2023-09-22T10:34:24.302Z"
   },
   {
    "duration": 211,
    "start_time": "2023-09-22T10:34:51.387Z"
   },
   {
    "duration": 6,
    "start_time": "2023-09-22T10:35:11.822Z"
   },
   {
    "duration": 9,
    "start_time": "2023-09-22T10:35:16.273Z"
   },
   {
    "duration": 7,
    "start_time": "2023-09-22T10:35:20.504Z"
   },
   {
    "duration": 37,
    "start_time": "2023-09-22T10:36:21.910Z"
   },
   {
    "duration": 4,
    "start_time": "2023-09-22T10:37:58.102Z"
   },
   {
    "duration": 1034,
    "start_time": "2023-09-22T10:37:58.110Z"
   },
   {
    "duration": 19,
    "start_time": "2023-09-22T10:37:59.145Z"
   },
   {
    "duration": 211,
    "start_time": "2023-09-22T10:37:59.166Z"
   },
   {
    "duration": 18,
    "start_time": "2023-09-22T10:37:59.382Z"
   },
   {
    "duration": 50,
    "start_time": "2023-09-22T10:37:59.402Z"
   },
   {
    "duration": 447,
    "start_time": "2023-09-22T10:37:59.455Z"
   },
   {
    "duration": 475,
    "start_time": "2023-09-22T10:37:59.904Z"
   },
   {
    "duration": 852,
    "start_time": "2023-09-22T10:38:00.382Z"
   },
   {
    "duration": 16,
    "start_time": "2023-09-22T10:38:01.236Z"
   },
   {
    "duration": 80,
    "start_time": "2023-09-22T10:38:01.254Z"
   },
   {
    "duration": 62,
    "start_time": "2023-09-22T10:38:01.336Z"
   },
   {
    "duration": 30,
    "start_time": "2023-09-22T10:38:06.082Z"
   },
   {
    "duration": 317,
    "start_time": "2023-09-22T10:41:17.721Z"
   },
   {
    "duration": 399,
    "start_time": "2023-09-22T10:41:23.886Z"
   },
   {
    "duration": 473,
    "start_time": "2023-09-22T10:41:42.318Z"
   },
   {
    "duration": 425,
    "start_time": "2023-09-22T10:42:24.706Z"
   },
   {
    "duration": 422,
    "start_time": "2023-09-22T10:42:53.634Z"
   },
   {
    "duration": 407,
    "start_time": "2023-09-22T10:44:20.593Z"
   },
   {
    "duration": 324,
    "start_time": "2023-09-22T10:44:49.332Z"
   },
   {
    "duration": 27,
    "start_time": "2023-09-22T10:47:44.280Z"
   },
   {
    "duration": 4,
    "start_time": "2023-09-22T10:50:40.817Z"
   },
   {
    "duration": 926,
    "start_time": "2023-09-22T10:50:40.879Z"
   },
   {
    "duration": 16,
    "start_time": "2023-09-22T10:50:41.808Z"
   },
   {
    "duration": 175,
    "start_time": "2023-09-22T10:50:41.826Z"
   },
   {
    "duration": 7,
    "start_time": "2023-09-22T10:50:42.004Z"
   },
   {
    "duration": 35,
    "start_time": "2023-09-22T10:50:42.015Z"
   },
   {
    "duration": 249,
    "start_time": "2023-09-22T10:50:42.053Z"
   },
   {
    "duration": 505,
    "start_time": "2023-09-22T10:50:42.304Z"
   },
   {
    "duration": 601,
    "start_time": "2023-09-22T10:50:42.811Z"
   },
   {
    "duration": 16,
    "start_time": "2023-09-22T10:50:43.415Z"
   },
   {
    "duration": 35,
    "start_time": "2023-09-22T10:50:43.434Z"
   },
   {
    "duration": 49,
    "start_time": "2023-09-22T10:50:43.471Z"
   },
   {
    "duration": 304,
    "start_time": "2023-09-22T10:50:43.522Z"
   },
   {
    "duration": 423,
    "start_time": "2023-09-22T10:50:43.828Z"
   },
   {
    "duration": 27,
    "start_time": "2023-09-22T10:50:44.253Z"
   },
   {
    "duration": 48,
    "start_time": "2023-09-22T10:50:44.282Z"
   },
   {
    "duration": 98,
    "start_time": "2023-09-22T10:50:44.332Z"
   },
   {
    "duration": 54,
    "start_time": "2023-09-22T10:50:44.431Z"
   },
   {
    "duration": 52,
    "start_time": "2023-09-22T10:50:44.487Z"
   },
   {
    "duration": 57,
    "start_time": "2023-09-22T10:50:44.540Z"
   },
   {
    "duration": 38,
    "start_time": "2023-09-22T10:50:44.610Z"
   },
   {
    "duration": 36,
    "start_time": "2023-09-22T10:50:44.651Z"
   },
   {
    "duration": 81,
    "start_time": "2023-09-22T10:50:44.709Z"
   },
   {
    "duration": 19,
    "start_time": "2023-09-22T10:51:01.220Z"
   },
   {
    "duration": 3,
    "start_time": "2023-09-22T10:51:09.782Z"
   },
   {
    "duration": 904,
    "start_time": "2023-09-22T10:51:09.787Z"
   },
   {
    "duration": 24,
    "start_time": "2023-09-22T10:51:10.693Z"
   },
   {
    "duration": 169,
    "start_time": "2023-09-22T10:51:10.718Z"
   },
   {
    "duration": 4,
    "start_time": "2023-09-22T10:51:10.890Z"
   },
   {
    "duration": 55,
    "start_time": "2023-09-22T10:51:10.910Z"
   },
   {
    "duration": 282,
    "start_time": "2023-09-22T10:51:10.967Z"
   },
   {
    "duration": 315,
    "start_time": "2023-09-22T10:51:11.251Z"
   },
   {
    "duration": 581,
    "start_time": "2023-09-22T10:51:11.567Z"
   },
   {
    "duration": 17,
    "start_time": "2023-09-22T10:51:12.151Z"
   },
   {
    "duration": 46,
    "start_time": "2023-09-22T10:51:12.170Z"
   },
   {
    "duration": 29,
    "start_time": "2023-09-22T10:51:12.218Z"
   },
   {
    "duration": 399,
    "start_time": "2023-09-22T10:51:12.249Z"
   },
   {
    "duration": 476,
    "start_time": "2023-09-22T10:51:12.653Z"
   },
   {
    "duration": 26,
    "start_time": "2023-09-22T10:51:13.131Z"
   },
   {
    "duration": 28,
    "start_time": "2023-09-22T10:51:13.159Z"
   },
   {
    "duration": 103,
    "start_time": "2023-09-22T10:51:13.188Z"
   },
   {
    "duration": 46,
    "start_time": "2023-09-22T10:51:13.293Z"
   },
   {
    "duration": 72,
    "start_time": "2023-09-22T10:51:13.342Z"
   },
   {
    "duration": 52,
    "start_time": "2023-09-22T10:51:13.416Z"
   },
   {
    "duration": 54,
    "start_time": "2023-09-22T10:51:13.470Z"
   },
   {
    "duration": 35,
    "start_time": "2023-09-22T10:51:13.526Z"
   },
   {
    "duration": 110,
    "start_time": "2023-09-22T10:51:13.563Z"
   },
   {
    "duration": 3,
    "start_time": "2023-09-22T10:53:33.104Z"
   },
   {
    "duration": 11251,
    "start_time": "2023-09-22T10:54:21.127Z"
   },
   {
    "duration": 53,
    "start_time": "2023-09-22T10:58:35.009Z"
   },
   {
    "duration": 1512,
    "start_time": "2023-09-22T10:58:39.355Z"
   },
   {
    "duration": 1328,
    "start_time": "2023-09-22T10:58:40.870Z"
   },
   {
    "duration": 20,
    "start_time": "2023-09-22T10:58:42.200Z"
   },
   {
    "duration": 268,
    "start_time": "2023-09-22T10:58:42.222Z"
   },
   {
    "duration": 4,
    "start_time": "2023-09-22T10:58:42.493Z"
   },
   {
    "duration": 78,
    "start_time": "2023-09-22T10:58:42.509Z"
   },
   {
    "duration": 381,
    "start_time": "2023-09-22T10:58:42.589Z"
   },
   {
    "duration": 311,
    "start_time": "2023-09-22T10:58:42.972Z"
   },
   {
    "duration": 539,
    "start_time": "2023-09-22T10:58:43.285Z"
   },
   {
    "duration": 19,
    "start_time": "2023-09-22T10:58:43.826Z"
   },
   {
    "duration": 62,
    "start_time": "2023-09-22T10:58:43.847Z"
   },
   {
    "duration": 29,
    "start_time": "2023-09-22T10:58:43.912Z"
   },
   {
    "duration": 316,
    "start_time": "2023-09-22T10:58:43.943Z"
   },
   {
    "duration": 514,
    "start_time": "2023-09-22T10:58:44.263Z"
   },
   {
    "duration": 36,
    "start_time": "2023-09-22T10:58:44.779Z"
   },
   {
    "duration": 30,
    "start_time": "2023-09-22T10:58:44.817Z"
   },
   {
    "duration": 111,
    "start_time": "2023-09-22T10:58:44.849Z"
   },
   {
    "duration": 75,
    "start_time": "2023-09-22T10:58:44.962Z"
   },
   {
    "duration": 104,
    "start_time": "2023-09-22T10:58:45.038Z"
   },
   {
    "duration": 73,
    "start_time": "2023-09-22T10:58:45.144Z"
   },
   {
    "duration": 45,
    "start_time": "2023-09-22T10:58:45.219Z"
   },
   {
    "duration": 77,
    "start_time": "2023-09-22T10:58:45.266Z"
   },
   {
    "duration": 126,
    "start_time": "2023-09-22T10:58:45.345Z"
   },
   {
    "duration": 44370,
    "start_time": "2023-09-22T10:58:45.473Z"
   },
   {
    "duration": 1616,
    "start_time": "2023-09-22T11:00:54.157Z"
   },
   {
    "duration": 979,
    "start_time": "2023-09-22T11:00:55.775Z"
   },
   {
    "duration": 20,
    "start_time": "2023-09-22T11:00:56.755Z"
   },
   {
    "duration": 183,
    "start_time": "2023-09-22T11:00:56.777Z"
   },
   {
    "duration": 3,
    "start_time": "2023-09-22T11:00:56.961Z"
   },
   {
    "duration": 79,
    "start_time": "2023-09-22T11:00:56.966Z"
   },
   {
    "duration": 317,
    "start_time": "2023-09-22T11:00:57.047Z"
   },
   {
    "duration": 303,
    "start_time": "2023-09-22T11:00:57.366Z"
   },
   {
    "duration": 530,
    "start_time": "2023-09-22T11:00:57.671Z"
   },
   {
    "duration": 21,
    "start_time": "2023-09-22T11:00:58.210Z"
   },
   {
    "duration": 42,
    "start_time": "2023-09-22T11:00:58.233Z"
   },
   {
    "duration": 60,
    "start_time": "2023-09-22T11:00:58.277Z"
   },
   {
    "duration": 309,
    "start_time": "2023-09-22T11:00:58.339Z"
   },
   {
    "duration": 505,
    "start_time": "2023-09-22T11:00:58.650Z"
   },
   {
    "duration": 26,
    "start_time": "2023-09-22T11:00:59.156Z"
   },
   {
    "duration": 41,
    "start_time": "2023-09-22T11:00:59.184Z"
   },
   {
    "duration": 97,
    "start_time": "2023-09-22T11:00:59.227Z"
   },
   {
    "duration": 41,
    "start_time": "2023-09-22T11:00:59.325Z"
   },
   {
    "duration": 77,
    "start_time": "2023-09-22T11:00:59.367Z"
   },
   {
    "duration": 68,
    "start_time": "2023-09-22T11:00:59.445Z"
   },
   {
    "duration": 34,
    "start_time": "2023-09-22T11:00:59.514Z"
   },
   {
    "duration": 37,
    "start_time": "2023-09-22T11:00:59.550Z"
   },
   {
    "duration": 80,
    "start_time": "2023-09-22T11:00:59.609Z"
   },
   {
    "duration": 12743,
    "start_time": "2023-09-22T11:00:59.691Z"
   },
   {
    "duration": 3,
    "start_time": "2023-09-22T11:02:14.602Z"
   },
   {
    "duration": 971,
    "start_time": "2023-09-22T11:02:14.610Z"
   },
   {
    "duration": 16,
    "start_time": "2023-09-22T11:02:15.584Z"
   },
   {
    "duration": 166,
    "start_time": "2023-09-22T11:02:15.610Z"
   },
   {
    "duration": 3,
    "start_time": "2023-09-22T11:02:15.778Z"
   },
   {
    "duration": 57,
    "start_time": "2023-09-22T11:02:15.785Z"
   },
   {
    "duration": 242,
    "start_time": "2023-09-22T11:02:15.844Z"
   },
   {
    "duration": 334,
    "start_time": "2023-09-22T11:02:16.088Z"
   },
   {
    "duration": 939,
    "start_time": "2023-09-22T11:02:16.424Z"
   },
   {
    "duration": 16,
    "start_time": "2023-09-22T11:02:17.365Z"
   },
   {
    "duration": 54,
    "start_time": "2023-09-22T11:02:17.383Z"
   },
   {
    "duration": 28,
    "start_time": "2023-09-22T11:02:17.438Z"
   },
   {
    "duration": 296,
    "start_time": "2023-09-22T11:02:17.468Z"
   },
   {
    "duration": 401,
    "start_time": "2023-09-22T11:02:17.766Z"
   },
   {
    "duration": 40,
    "start_time": "2023-09-22T11:02:18.170Z"
   },
   {
    "duration": 85,
    "start_time": "2023-09-22T11:02:18.211Z"
   },
   {
    "duration": 43,
    "start_time": "2023-09-22T11:02:18.298Z"
   },
   {
    "duration": 68,
    "start_time": "2023-09-22T11:02:18.342Z"
   },
   {
    "duration": 55,
    "start_time": "2023-09-22T11:02:18.412Z"
   },
   {
    "duration": 49,
    "start_time": "2023-09-22T11:02:18.469Z"
   },
   {
    "duration": 35,
    "start_time": "2023-09-22T11:02:18.520Z"
   },
   {
    "duration": 110,
    "start_time": "2023-09-22T11:02:18.558Z"
   },
   {
    "duration": 12803,
    "start_time": "2023-09-22T11:02:18.670Z"
   },
   {
    "duration": 19589,
    "start_time": "2023-09-22T11:02:33.230Z"
   },
   {
    "duration": 4,
    "start_time": "2023-09-22T11:07:47.059Z"
   },
   {
    "duration": 43,
    "start_time": "2023-09-22T11:09:34.946Z"
   },
   {
    "duration": 182,
    "start_time": "2023-09-22T11:10:38.505Z"
   },
   {
    "duration": 35,
    "start_time": "2023-09-22T11:10:44.542Z"
   },
   {
    "duration": 20,
    "start_time": "2023-09-22T11:11:03.585Z"
   },
   {
    "duration": 4,
    "start_time": "2023-09-22T11:11:45.185Z"
   },
   {
    "duration": 161,
    "start_time": "2023-09-22T11:14:26.436Z"
   },
   {
    "duration": 5,
    "start_time": "2023-09-22T11:14:38.225Z"
   },
   {
    "duration": 588,
    "start_time": "2023-09-22T11:14:42.976Z"
   },
   {
    "duration": 19,
    "start_time": "2023-09-22T11:14:52.574Z"
   },
   {
    "duration": 11,
    "start_time": "2023-09-22T11:21:37.692Z"
   },
   {
    "duration": 28,
    "start_time": "2023-09-22T11:21:55.055Z"
   },
   {
    "duration": 10,
    "start_time": "2023-09-22T11:22:13.119Z"
   },
   {
    "duration": 4,
    "start_time": "2023-09-22T11:22:14.991Z"
   },
   {
    "duration": 4,
    "start_time": "2023-09-22T11:23:55.591Z"
   },
   {
    "duration": 14,
    "start_time": "2023-09-22T11:27:55.074Z"
   },
   {
    "duration": 6,
    "start_time": "2023-09-22T11:27:59.808Z"
   },
   {
    "duration": 12,
    "start_time": "2023-09-22T11:28:04.154Z"
   },
   {
    "duration": 13,
    "start_time": "2023-09-22T11:28:11.609Z"
   },
   {
    "duration": 1857,
    "start_time": "2023-09-22T11:28:20.426Z"
   },
   {
    "duration": 1692,
    "start_time": "2023-09-22T11:28:43.602Z"
   },
   {
    "duration": 118,
    "start_time": "2023-09-22T11:28:55.123Z"
   },
   {
    "duration": 16,
    "start_time": "2023-09-22T11:29:14.755Z"
   },
   {
    "duration": 25,
    "start_time": "2023-09-22T11:29:20.100Z"
   },
   {
    "duration": 4,
    "start_time": "2023-09-22T11:30:35.879Z"
   },
   {
    "duration": 991,
    "start_time": "2023-09-22T11:30:35.885Z"
   },
   {
    "duration": 17,
    "start_time": "2023-09-22T11:30:36.878Z"
   },
   {
    "duration": 168,
    "start_time": "2023-09-22T11:30:36.915Z"
   },
   {
    "duration": 4,
    "start_time": "2023-09-22T11:30:37.085Z"
   },
   {
    "duration": 33,
    "start_time": "2023-09-22T11:30:37.111Z"
   },
   {
    "duration": 293,
    "start_time": "2023-09-22T11:30:37.146Z"
   },
   {
    "duration": 322,
    "start_time": "2023-09-22T11:30:37.441Z"
   },
   {
    "duration": 1197,
    "start_time": "2023-09-22T11:30:37.766Z"
   },
   {
    "duration": 16,
    "start_time": "2023-09-22T11:30:38.966Z"
   },
   {
    "duration": 62,
    "start_time": "2023-09-22T11:30:38.984Z"
   },
   {
    "duration": 27,
    "start_time": "2023-09-22T11:30:39.048Z"
   },
   {
    "duration": 328,
    "start_time": "2023-09-22T11:30:39.077Z"
   },
   {
    "duration": 457,
    "start_time": "2023-09-22T11:30:39.407Z"
   },
   {
    "duration": 26,
    "start_time": "2023-09-22T11:30:39.866Z"
   },
   {
    "duration": 131,
    "start_time": "2023-09-22T11:30:39.894Z"
   },
   {
    "duration": 39,
    "start_time": "2023-09-22T11:30:40.028Z"
   },
   {
    "duration": 79,
    "start_time": "2023-09-22T11:30:40.069Z"
   },
   {
    "duration": 72,
    "start_time": "2023-09-22T11:30:40.150Z"
   },
   {
    "duration": 37,
    "start_time": "2023-09-22T11:30:40.224Z"
   },
   {
    "duration": 59,
    "start_time": "2023-09-22T11:30:40.263Z"
   },
   {
    "duration": 131,
    "start_time": "2023-09-22T11:30:40.324Z"
   },
   {
    "duration": 21524,
    "start_time": "2023-09-22T11:30:40.456Z"
   },
   {
    "duration": 46,
    "start_time": "2023-09-22T11:31:01.982Z"
   },
   {
    "duration": 66,
    "start_time": "2023-09-22T11:31:02.031Z"
   },
   {
    "duration": 48,
    "start_time": "2023-09-22T11:31:02.099Z"
   },
   {
    "duration": 746,
    "start_time": "2023-09-22T11:31:02.149Z"
   },
   {
    "duration": 24,
    "start_time": "2023-09-22T11:31:02.898Z"
   },
   {
    "duration": 116,
    "start_time": "2023-09-22T11:31:02.925Z"
   },
   {
    "duration": 6,
    "start_time": "2023-09-22T11:31:03.044Z"
   },
   {
    "duration": 497,
    "start_time": "2023-09-22T11:31:03.052Z"
   },
   {
    "duration": 552,
    "start_time": "2023-09-22T11:34:54.259Z"
   },
   {
    "duration": 3,
    "start_time": "2023-09-22T11:37:35.037Z"
   },
   {
    "duration": 5,
    "start_time": "2023-09-22T11:39:02.404Z"
   },
   {
    "duration": 4,
    "start_time": "2023-09-22T11:41:45.678Z"
   },
   {
    "duration": 7,
    "start_time": "2023-09-22T11:42:00.473Z"
   },
   {
    "duration": 3,
    "start_time": "2023-09-22T11:42:39.369Z"
   },
   {
    "duration": 5,
    "start_time": "2023-09-22T11:43:10.988Z"
   },
   {
    "duration": 5,
    "start_time": "2023-09-22T11:43:16.984Z"
   },
   {
    "duration": 5,
    "start_time": "2023-09-22T11:44:07.776Z"
   },
   {
    "duration": 18,
    "start_time": "2023-09-22T11:45:09.321Z"
   },
   {
    "duration": 149,
    "start_time": "2023-09-22T11:45:37.238Z"
   },
   {
    "duration": 120,
    "start_time": "2023-09-22T11:46:10.489Z"
   },
   {
    "duration": 41,
    "start_time": "2023-09-22T11:50:02.690Z"
   },
   {
    "duration": 4,
    "start_time": "2023-09-22T11:50:05.399Z"
   },
   {
    "duration": 895,
    "start_time": "2023-09-22T11:50:05.406Z"
   },
   {
    "duration": 19,
    "start_time": "2023-09-22T11:50:06.303Z"
   },
   {
    "duration": 173,
    "start_time": "2023-09-22T11:50:06.324Z"
   },
   {
    "duration": 3,
    "start_time": "2023-09-22T11:50:06.500Z"
   },
   {
    "duration": 64,
    "start_time": "2023-09-22T11:50:06.504Z"
   },
   {
    "duration": 338,
    "start_time": "2023-09-22T11:50:06.571Z"
   },
   {
    "duration": 326,
    "start_time": "2023-09-22T11:50:06.912Z"
   },
   {
    "duration": 562,
    "start_time": "2023-09-22T11:50:07.239Z"
   },
   {
    "duration": 19,
    "start_time": "2023-09-22T11:50:07.803Z"
   },
   {
    "duration": 210,
    "start_time": "2023-09-22T11:50:07.824Z"
   },
   {
    "duration": 29,
    "start_time": "2023-09-22T11:50:08.036Z"
   },
   {
    "duration": 316,
    "start_time": "2023-09-22T11:50:08.067Z"
   },
   {
    "duration": 423,
    "start_time": "2023-09-22T11:50:08.387Z"
   },
   {
    "duration": 28,
    "start_time": "2023-09-22T11:50:08.812Z"
   },
   {
    "duration": 103,
    "start_time": "2023-09-22T11:50:08.842Z"
   },
   {
    "duration": 44,
    "start_time": "2023-09-22T11:50:08.947Z"
   },
   {
    "duration": 73,
    "start_time": "2023-09-22T11:50:08.993Z"
   },
   {
    "duration": 70,
    "start_time": "2023-09-22T11:50:09.067Z"
   },
   {
    "duration": 35,
    "start_time": "2023-09-22T11:50:09.139Z"
   },
   {
    "duration": 49,
    "start_time": "2023-09-22T11:50:09.176Z"
   },
   {
    "duration": 93,
    "start_time": "2023-09-22T11:50:09.227Z"
   },
   {
    "duration": 20333,
    "start_time": "2023-09-22T11:50:09.322Z"
   },
   {
    "duration": 52,
    "start_time": "2023-09-22T11:50:29.657Z"
   },
   {
    "duration": 16,
    "start_time": "2023-09-22T11:50:29.711Z"
   },
   {
    "duration": 8,
    "start_time": "2023-09-22T11:50:29.728Z"
   },
   {
    "duration": 581,
    "start_time": "2023-09-22T11:50:29.738Z"
   },
   {
    "duration": 17,
    "start_time": "2023-09-22T11:50:30.321Z"
   },
   {
    "duration": 105,
    "start_time": "2023-09-22T11:50:30.341Z"
   },
   {
    "duration": 7,
    "start_time": "2023-09-22T11:50:30.448Z"
   },
   {
    "duration": 525,
    "start_time": "2023-09-22T11:50:30.457Z"
   },
   {
    "duration": 3,
    "start_time": "2023-09-22T11:50:30.985Z"
   },
   {
    "duration": 60,
    "start_time": "2023-09-22T11:50:30.990Z"
   },
   {
    "duration": 53,
    "start_time": "2023-09-22T11:50:31.052Z"
   },
   {
    "duration": 145,
    "start_time": "2023-09-22T11:50:31.107Z"
   },
   {
    "duration": 76,
    "start_time": "2023-09-22T11:50:31.254Z"
   },
   {
    "duration": 5,
    "start_time": "2023-09-22T11:53:09.368Z"
   },
   {
    "duration": 50,
    "start_time": "2023-09-22T11:53:11.273Z"
   },
   {
    "duration": 270,
    "start_time": "2023-09-22T11:53:27.252Z"
   },
   {
    "duration": 5,
    "start_time": "2023-09-22T11:53:41.290Z"
   },
   {
    "duration": 70,
    "start_time": "2023-09-22T11:53:42.358Z"
   },
   {
    "duration": 35,
    "start_time": "2023-09-22T11:54:29.094Z"
   },
   {
    "duration": 5,
    "start_time": "2023-09-22T11:55:23.808Z"
   },
   {
    "duration": 80,
    "start_time": "2023-09-22T11:58:37.615Z"
   },
   {
    "duration": 25,
    "start_time": "2023-09-22T11:58:51.707Z"
   },
   {
    "duration": 33545,
    "start_time": "2023-09-22T11:59:03.186Z"
   },
   {
    "duration": 246,
    "start_time": "2023-09-22T12:00:42.263Z"
   },
   {
    "duration": 2442,
    "start_time": "2023-09-22T12:01:17.702Z"
   },
   {
    "duration": 2538,
    "start_time": "2023-09-22T12:01:24.510Z"
   },
   {
    "duration": 10,
    "start_time": "2023-09-22T12:03:32.877Z"
   },
   {
    "duration": 3184,
    "start_time": "2023-09-22T12:03:43.697Z"
   },
   {
    "duration": 3165,
    "start_time": "2023-09-22T12:03:54.377Z"
   },
   {
    "duration": 3344,
    "start_time": "2023-09-22T12:04:01.181Z"
   },
   {
    "duration": 22789,
    "start_time": "2023-09-22T12:05:01.911Z"
   },
   {
    "duration": 13,
    "start_time": "2023-09-22T12:09:17.566Z"
   },
   {
    "duration": 151,
    "start_time": "2023-09-22T12:09:23.669Z"
   },
   {
    "duration": 5,
    "start_time": "2023-09-22T12:09:30.658Z"
   },
   {
    "duration": 5,
    "start_time": "2023-09-22T12:09:34.938Z"
   },
   {
    "duration": 1014,
    "start_time": "2023-09-22T12:09:34.945Z"
   },
   {
    "duration": 16,
    "start_time": "2023-09-22T12:09:35.961Z"
   },
   {
    "duration": 216,
    "start_time": "2023-09-22T12:09:35.979Z"
   },
   {
    "duration": 3,
    "start_time": "2023-09-22T12:09:36.198Z"
   },
   {
    "duration": 54,
    "start_time": "2023-09-22T12:09:36.222Z"
   },
   {
    "duration": 314,
    "start_time": "2023-09-22T12:09:36.278Z"
   },
   {
    "duration": 346,
    "start_time": "2023-09-22T12:09:36.595Z"
   },
   {
    "duration": 583,
    "start_time": "2023-09-22T12:09:36.943Z"
   },
   {
    "duration": 20,
    "start_time": "2023-09-22T12:09:37.527Z"
   },
   {
    "duration": 41,
    "start_time": "2023-09-22T12:09:37.548Z"
   },
   {
    "duration": 43,
    "start_time": "2023-09-22T12:09:37.590Z"
   },
   {
    "duration": 326,
    "start_time": "2023-09-22T12:09:37.635Z"
   },
   {
    "duration": 470,
    "start_time": "2023-09-22T12:09:37.964Z"
   },
   {
    "duration": 26,
    "start_time": "2023-09-22T12:09:38.437Z"
   },
   {
    "duration": 114,
    "start_time": "2023-09-22T12:09:38.465Z"
   },
   {
    "duration": 65,
    "start_time": "2023-09-22T12:09:38.581Z"
   },
   {
    "duration": 70,
    "start_time": "2023-09-22T12:09:38.647Z"
   },
   {
    "duration": 66,
    "start_time": "2023-09-22T12:09:38.719Z"
   },
   {
    "duration": 54,
    "start_time": "2023-09-22T12:09:38.787Z"
   },
   {
    "duration": 36,
    "start_time": "2023-09-22T12:09:38.844Z"
   },
   {
    "duration": 120,
    "start_time": "2023-09-22T12:09:38.883Z"
   },
   {
    "duration": 22846,
    "start_time": "2023-09-22T12:09:39.008Z"
   },
   {
    "duration": 53,
    "start_time": "2023-09-22T12:10:01.856Z"
   },
   {
    "duration": 33,
    "start_time": "2023-09-22T12:10:01.911Z"
   },
   {
    "duration": 28,
    "start_time": "2023-09-22T12:10:01.946Z"
   },
   {
    "duration": 757,
    "start_time": "2023-09-22T12:10:01.976Z"
   },
   {
    "duration": 19,
    "start_time": "2023-09-22T12:10:02.737Z"
   },
   {
    "duration": 75,
    "start_time": "2023-09-22T12:10:02.758Z"
   },
   {
    "duration": 7,
    "start_time": "2023-09-22T12:10:02.835Z"
   },
   {
    "duration": 525,
    "start_time": "2023-09-22T12:10:02.844Z"
   },
   {
    "duration": 3,
    "start_time": "2023-09-22T12:10:03.371Z"
   },
   {
    "duration": 13,
    "start_time": "2023-09-22T12:10:03.375Z"
   },
   {
    "duration": 6,
    "start_time": "2023-09-22T12:10:03.389Z"
   },
   {
    "duration": 114,
    "start_time": "2023-09-22T12:10:03.396Z"
   },
   {
    "duration": 32745,
    "start_time": "2023-09-22T12:10:03.513Z"
   },
   {
    "duration": 2463,
    "start_time": "2023-09-22T12:10:36.260Z"
   },
   {
    "duration": 3331,
    "start_time": "2023-09-22T12:10:38.725Z"
   },
   {
    "duration": 24379,
    "start_time": "2023-09-22T12:10:42.058Z"
   },
   {
    "duration": 4,
    "start_time": "2023-09-22T12:11:06.440Z"
   },
   {
    "duration": 2355,
    "start_time": "2023-09-27T11:17:08.610Z"
   },
   {
    "duration": 1224,
    "start_time": "2023-09-27T11:17:10.968Z"
   },
   {
    "duration": 20,
    "start_time": "2023-09-27T11:17:12.194Z"
   },
   {
    "duration": 183,
    "start_time": "2023-09-27T11:17:12.215Z"
   },
   {
    "duration": 3,
    "start_time": "2023-09-27T11:17:12.401Z"
   },
   {
    "duration": 88,
    "start_time": "2023-09-27T11:17:12.406Z"
   },
   {
    "duration": 310,
    "start_time": "2023-09-27T11:17:12.496Z"
   },
   {
    "duration": 299,
    "start_time": "2023-09-27T11:17:12.808Z"
   },
   {
    "duration": 505,
    "start_time": "2023-09-27T11:17:13.109Z"
   },
   {
    "duration": 18,
    "start_time": "2023-09-27T11:17:13.616Z"
   },
   {
    "duration": 51,
    "start_time": "2023-09-27T11:17:13.636Z"
   },
   {
    "duration": 30,
    "start_time": "2023-09-27T11:17:13.688Z"
   },
   {
    "duration": 402,
    "start_time": "2023-09-27T11:17:13.720Z"
   },
   {
    "duration": 433,
    "start_time": "2023-09-27T11:17:14.125Z"
   },
   {
    "duration": 30,
    "start_time": "2023-09-27T11:17:14.568Z"
   },
   {
    "duration": 113,
    "start_time": "2023-09-27T11:17:14.600Z"
   },
   {
    "duration": 35,
    "start_time": "2023-09-27T11:17:14.715Z"
   },
   {
    "duration": 65,
    "start_time": "2023-09-27T11:17:14.754Z"
   },
   {
    "duration": 83,
    "start_time": "2023-09-27T11:17:14.820Z"
   },
   {
    "duration": 71,
    "start_time": "2023-09-27T11:17:14.905Z"
   },
   {
    "duration": 33,
    "start_time": "2023-09-27T11:17:14.978Z"
   },
   {
    "duration": 172,
    "start_time": "2023-09-27T11:17:15.013Z"
   },
   {
    "duration": 18825,
    "start_time": "2023-09-27T11:17:15.187Z"
   },
   {
    "duration": 41,
    "start_time": "2023-09-27T11:17:34.014Z"
   },
   {
    "duration": 17,
    "start_time": "2023-09-27T11:17:34.058Z"
   },
   {
    "duration": 4,
    "start_time": "2023-09-27T11:17:34.076Z"
   },
   {
    "duration": 510,
    "start_time": "2023-09-27T11:17:34.081Z"
   },
   {
    "duration": 15,
    "start_time": "2023-09-27T11:17:34.592Z"
   },
   {
    "duration": 76,
    "start_time": "2023-09-27T11:17:34.609Z"
   },
   {
    "duration": 6,
    "start_time": "2023-09-27T11:17:34.687Z"
   },
   {
    "duration": 456,
    "start_time": "2023-09-27T11:17:34.695Z"
   },
   {
    "duration": 3,
    "start_time": "2023-09-27T11:17:35.155Z"
   },
   {
    "duration": 14,
    "start_time": "2023-09-27T11:17:35.161Z"
   },
   {
    "duration": 27,
    "start_time": "2023-09-27T11:17:35.177Z"
   },
   {
    "duration": 249,
    "start_time": "2023-09-27T11:17:35.205Z"
   },
   {
    "duration": 28270,
    "start_time": "2023-09-27T11:17:35.455Z"
   },
   {
    "duration": 2165,
    "start_time": "2023-09-27T11:18:03.727Z"
   },
   {
    "duration": 3085,
    "start_time": "2023-09-27T11:18:05.894Z"
   },
   {
    "duration": 20894,
    "start_time": "2023-09-27T11:18:08.980Z"
   },
   {
    "duration": 6,
    "start_time": "2023-09-27T11:18:29.876Z"
   },
   {
    "duration": 121,
    "start_time": "2023-09-27T11:19:38.108Z"
   },
   {
    "duration": 333,
    "start_time": "2023-09-27T11:20:22.508Z"
   },
   {
    "duration": 9,
    "start_time": "2023-09-27T11:20:27.773Z"
   },
   {
    "duration": 12,
    "start_time": "2023-09-27T11:24:44.208Z"
   },
   {
    "duration": 10,
    "start_time": "2023-09-27T11:24:54.476Z"
   },
   {
    "duration": 7,
    "start_time": "2023-09-27T11:25:06.028Z"
   },
   {
    "duration": 10,
    "start_time": "2023-09-27T11:25:37.428Z"
   },
   {
    "duration": 15,
    "start_time": "2023-09-27T11:25:41.848Z"
   },
   {
    "duration": 13,
    "start_time": "2023-09-27T11:26:02.448Z"
   },
   {
    "duration": 23,
    "start_time": "2023-09-27T11:27:34.647Z"
   },
   {
    "duration": 10,
    "start_time": "2023-09-27T11:28:37.673Z"
   },
   {
    "duration": 20,
    "start_time": "2023-09-27T11:35:54.898Z"
   },
   {
    "duration": 66,
    "start_time": "2023-09-27T11:36:37.861Z"
   },
   {
    "duration": 118,
    "start_time": "2023-09-27T11:37:39.006Z"
   },
   {
    "duration": 64,
    "start_time": "2023-09-27T11:38:57.405Z"
   },
   {
    "duration": 14,
    "start_time": "2023-09-27T11:42:02.505Z"
   },
   {
    "duration": 92,
    "start_time": "2023-09-27T11:42:09.334Z"
   },
   {
    "duration": 12,
    "start_time": "2023-09-27T11:43:25.586Z"
   },
   {
    "duration": 1481,
    "start_time": "2023-09-27T11:49:28.665Z"
   },
   {
    "duration": 855,
    "start_time": "2023-09-27T11:49:30.148Z"
   },
   {
    "duration": 19,
    "start_time": "2023-09-27T11:49:31.005Z"
   },
   {
    "duration": 203,
    "start_time": "2023-09-27T11:49:31.025Z"
   },
   {
    "duration": 3,
    "start_time": "2023-09-27T11:49:31.230Z"
   },
   {
    "duration": 113,
    "start_time": "2023-09-27T11:49:31.235Z"
   },
   {
    "duration": 316,
    "start_time": "2023-09-27T11:49:31.349Z"
   },
   {
    "duration": 287,
    "start_time": "2023-09-27T11:49:31.667Z"
   },
   {
    "duration": 509,
    "start_time": "2023-09-27T11:49:31.956Z"
   },
   {
    "duration": 20,
    "start_time": "2023-09-27T11:49:32.471Z"
   },
   {
    "duration": 168,
    "start_time": "2023-09-27T11:49:32.493Z"
   },
   {
    "duration": 51,
    "start_time": "2023-09-27T11:49:32.663Z"
   },
   {
    "duration": 269,
    "start_time": "2023-09-27T11:49:32.716Z"
   },
   {
    "duration": 464,
    "start_time": "2023-09-27T11:49:32.989Z"
   },
   {
    "duration": 24,
    "start_time": "2023-09-27T11:49:33.460Z"
   },
   {
    "duration": 260,
    "start_time": "2023-09-27T11:49:33.486Z"
   },
   {
    "duration": 42,
    "start_time": "2023-09-27T11:49:33.747Z"
   },
   {
    "duration": 48,
    "start_time": "2023-09-27T11:49:33.791Z"
   },
   {
    "duration": 65,
    "start_time": "2023-09-27T11:49:33.841Z"
   },
   {
    "duration": 56,
    "start_time": "2023-09-27T11:49:33.908Z"
   },
   {
    "duration": 32,
    "start_time": "2023-09-27T11:49:33.968Z"
   },
   {
    "duration": 89,
    "start_time": "2023-09-27T11:49:34.002Z"
   },
   {
    "duration": 17543,
    "start_time": "2023-09-27T11:49:34.093Z"
   },
   {
    "duration": 38,
    "start_time": "2023-09-27T11:49:51.638Z"
   },
   {
    "duration": 11,
    "start_time": "2023-09-27T11:49:51.677Z"
   },
   {
    "duration": 26,
    "start_time": "2023-09-27T11:49:51.689Z"
   },
   {
    "duration": 483,
    "start_time": "2023-09-27T11:49:51.716Z"
   },
   {
    "duration": 14,
    "start_time": "2023-09-27T11:49:52.201Z"
   },
   {
    "duration": 58,
    "start_time": "2023-09-27T11:49:52.217Z"
   },
   {
    "duration": 4,
    "start_time": "2023-09-27T11:49:52.277Z"
   },
   {
    "duration": 444,
    "start_time": "2023-09-27T11:49:52.283Z"
   },
   {
    "duration": 3,
    "start_time": "2023-09-27T11:49:52.728Z"
   },
   {
    "duration": 35,
    "start_time": "2023-09-27T11:49:52.732Z"
   },
   {
    "duration": 34,
    "start_time": "2023-09-27T11:49:52.768Z"
   },
   {
    "duration": 90,
    "start_time": "2023-09-27T11:49:52.804Z"
   },
   {
    "duration": 25902,
    "start_time": "2023-09-27T11:49:52.953Z"
   },
   {
    "duration": 1816,
    "start_time": "2023-09-27T11:50:18.857Z"
   },
   {
    "duration": 2630,
    "start_time": "2023-09-27T11:50:20.675Z"
   },
   {
    "duration": 18942,
    "start_time": "2023-09-27T11:50:23.307Z"
   },
   {
    "duration": 129,
    "start_time": "2023-09-27T11:50:42.255Z"
   },
   {
    "duration": 0,
    "start_time": "2023-09-27T11:50:42.385Z"
   },
   {
    "duration": 0,
    "start_time": "2023-09-27T11:50:42.386Z"
   },
   {
    "duration": 89,
    "start_time": "2023-09-27T11:51:24.038Z"
   },
   {
    "duration": 0,
    "start_time": "2023-09-27T12:03:26.470Z"
   },
   {
    "duration": 0,
    "start_time": "2023-09-27T12:03:26.474Z"
   },
   {
    "duration": 0,
    "start_time": "2023-09-27T12:03:26.477Z"
   },
   {
    "duration": 0,
    "start_time": "2023-09-27T12:03:26.479Z"
   },
   {
    "duration": 0,
    "start_time": "2023-09-27T12:03:26.483Z"
   },
   {
    "duration": 0,
    "start_time": "2023-09-27T12:03:26.485Z"
   },
   {
    "duration": 0,
    "start_time": "2023-09-27T12:03:26.487Z"
   },
   {
    "duration": 0,
    "start_time": "2023-09-27T12:03:26.490Z"
   },
   {
    "duration": 0,
    "start_time": "2023-09-27T12:03:26.497Z"
   },
   {
    "duration": 0,
    "start_time": "2023-09-27T12:03:26.499Z"
   },
   {
    "duration": 0,
    "start_time": "2023-09-27T12:03:26.503Z"
   },
   {
    "duration": 0,
    "start_time": "2023-09-27T12:03:26.507Z"
   },
   {
    "duration": 0,
    "start_time": "2023-09-27T12:03:26.509Z"
   },
   {
    "duration": 0,
    "start_time": "2023-09-27T12:03:26.512Z"
   },
   {
    "duration": 0,
    "start_time": "2023-09-27T12:03:26.552Z"
   },
   {
    "duration": 0,
    "start_time": "2023-09-27T12:03:26.553Z"
   },
   {
    "duration": 0,
    "start_time": "2023-09-27T12:03:26.555Z"
   },
   {
    "duration": 0,
    "start_time": "2023-09-27T12:03:26.559Z"
   },
   {
    "duration": 0,
    "start_time": "2023-09-27T12:03:26.561Z"
   },
   {
    "duration": 0,
    "start_time": "2023-09-27T12:03:26.565Z"
   },
   {
    "duration": 0,
    "start_time": "2023-09-27T12:03:26.568Z"
   },
   {
    "duration": 0,
    "start_time": "2023-09-27T12:03:26.570Z"
   },
   {
    "duration": 0,
    "start_time": "2023-09-27T12:03:26.572Z"
   },
   {
    "duration": 0,
    "start_time": "2023-09-27T12:03:26.576Z"
   },
   {
    "duration": 0,
    "start_time": "2023-09-27T12:03:26.577Z"
   },
   {
    "duration": 0,
    "start_time": "2023-09-27T12:03:26.581Z"
   },
   {
    "duration": 0,
    "start_time": "2023-09-27T12:03:26.583Z"
   },
   {
    "duration": 0,
    "start_time": "2023-09-27T12:03:26.587Z"
   },
   {
    "duration": 0,
    "start_time": "2023-09-27T12:03:26.589Z"
   },
   {
    "duration": 0,
    "start_time": "2023-09-27T12:03:26.591Z"
   },
   {
    "duration": 0,
    "start_time": "2023-09-27T12:03:26.593Z"
   },
   {
    "duration": 0,
    "start_time": "2023-09-27T12:03:26.597Z"
   },
   {
    "duration": 0,
    "start_time": "2023-09-27T12:03:26.601Z"
   },
   {
    "duration": 0,
    "start_time": "2023-09-27T12:03:26.651Z"
   },
   {
    "duration": 0,
    "start_time": "2023-09-27T12:03:26.653Z"
   },
   {
    "duration": 0,
    "start_time": "2023-09-27T12:03:26.655Z"
   },
   {
    "duration": 0,
    "start_time": "2023-09-27T12:03:26.658Z"
   },
   {
    "duration": 0,
    "start_time": "2023-09-27T12:03:26.660Z"
   },
   {
    "duration": 0,
    "start_time": "2023-09-27T12:03:26.663Z"
   },
   {
    "duration": 0,
    "start_time": "2023-09-27T12:03:26.665Z"
   },
   {
    "duration": 0,
    "start_time": "2023-09-27T12:03:26.667Z"
   },
   {
    "duration": 3,
    "start_time": "2023-09-27T12:03:27.932Z"
   },
   {
    "duration": 890,
    "start_time": "2023-09-27T12:03:28.549Z"
   },
   {
    "duration": 29,
    "start_time": "2023-09-27T12:03:29.441Z"
   },
   {
    "duration": 169,
    "start_time": "2023-09-27T12:03:31.349Z"
   },
   {
    "duration": 5,
    "start_time": "2023-09-27T12:03:32.289Z"
   },
   {
    "duration": 24,
    "start_time": "2023-09-27T12:03:32.390Z"
   },
   {
    "duration": 255,
    "start_time": "2023-09-27T12:03:32.691Z"
   },
   {
    "duration": 284,
    "start_time": "2023-09-27T12:03:33.003Z"
   },
   {
    "duration": 548,
    "start_time": "2023-09-27T12:03:33.288Z"
   },
   {
    "duration": 33,
    "start_time": "2023-09-27T12:03:33.839Z"
   },
   {
    "duration": 36,
    "start_time": "2023-09-27T12:03:33.875Z"
   },
   {
    "duration": 26,
    "start_time": "2023-09-27T12:03:33.913Z"
   },
   {
    "duration": 763,
    "start_time": "2023-09-27T12:03:33.941Z"
   },
   {
    "duration": 436,
    "start_time": "2023-09-27T12:03:34.706Z"
   },
   {
    "duration": 38,
    "start_time": "2023-09-27T12:03:35.144Z"
   },
   {
    "duration": 186,
    "start_time": "2023-09-27T12:03:35.184Z"
   },
   {
    "duration": 33,
    "start_time": "2023-09-27T12:03:35.488Z"
   },
   {
    "duration": 64,
    "start_time": "2023-09-27T12:03:35.641Z"
   },
   {
    "duration": 65,
    "start_time": "2023-09-27T12:03:35.831Z"
   },
   {
    "duration": 40,
    "start_time": "2023-09-27T12:03:35.986Z"
   },
   {
    "duration": 54,
    "start_time": "2023-09-27T12:03:36.176Z"
   },
   {
    "duration": 116,
    "start_time": "2023-09-27T12:03:36.240Z"
   },
   {
    "duration": 18274,
    "start_time": "2023-09-27T12:03:36.729Z"
   },
   {
    "duration": 46,
    "start_time": "2023-09-27T12:03:55.005Z"
   },
   {
    "duration": 23,
    "start_time": "2023-09-27T12:03:55.052Z"
   },
   {
    "duration": 3,
    "start_time": "2023-09-27T12:03:55.081Z"
   },
   {
    "duration": 543,
    "start_time": "2023-09-27T12:03:55.085Z"
   },
   {
    "duration": 13,
    "start_time": "2023-09-27T12:03:55.629Z"
   },
   {
    "duration": 61,
    "start_time": "2023-09-27T12:03:55.653Z"
   },
   {
    "duration": 16,
    "start_time": "2023-09-27T12:03:55.716Z"
   },
   {
    "duration": 558,
    "start_time": "2023-09-27T12:03:55.734Z"
   },
   {
    "duration": 3,
    "start_time": "2023-09-27T12:03:56.294Z"
   },
   {
    "duration": 21,
    "start_time": "2023-09-27T12:03:56.298Z"
   },
   {
    "duration": 11,
    "start_time": "2023-09-27T12:03:56.320Z"
   },
   {
    "duration": 129,
    "start_time": "2023-09-27T12:03:56.333Z"
   },
   {
    "duration": 27729,
    "start_time": "2023-09-27T12:03:56.465Z"
   },
   {
    "duration": 2126,
    "start_time": "2023-09-27T12:04:24.195Z"
   },
   {
    "duration": 2891,
    "start_time": "2023-09-27T12:04:26.323Z"
   },
   {
    "duration": 20282,
    "start_time": "2023-09-27T12:04:29.216Z"
   },
   {
    "duration": 1476,
    "start_time": "2023-09-27T12:05:49.378Z"
   },
   {
    "duration": 886,
    "start_time": "2023-09-27T12:05:50.856Z"
   },
   {
    "duration": 42,
    "start_time": "2023-09-27T12:05:51.743Z"
   },
   {
    "duration": 175,
    "start_time": "2023-09-27T12:05:51.787Z"
   },
   {
    "duration": 9,
    "start_time": "2023-09-27T12:05:51.965Z"
   },
   {
    "duration": 64,
    "start_time": "2023-09-27T12:05:51.980Z"
   },
   {
    "duration": 316,
    "start_time": "2023-09-27T12:05:52.046Z"
   },
   {
    "duration": 285,
    "start_time": "2023-09-27T12:05:52.369Z"
   },
   {
    "duration": 496,
    "start_time": "2023-09-27T12:05:52.656Z"
   },
   {
    "duration": 19,
    "start_time": "2023-09-27T12:05:53.159Z"
   },
   {
    "duration": 45,
    "start_time": "2023-09-27T12:05:53.179Z"
   },
   {
    "duration": 41,
    "start_time": "2023-09-27T12:05:53.226Z"
   },
   {
    "duration": 257,
    "start_time": "2023-09-27T12:05:53.271Z"
   },
   {
    "duration": 501,
    "start_time": "2023-09-27T12:05:53.531Z"
   },
   {
    "duration": 36,
    "start_time": "2023-09-27T12:05:54.034Z"
   },
   {
    "duration": 81,
    "start_time": "2023-09-27T12:05:54.075Z"
   },
   {
    "duration": 47,
    "start_time": "2023-09-27T12:05:54.158Z"
   },
   {
    "duration": 74,
    "start_time": "2023-09-27T12:05:54.207Z"
   },
   {
    "duration": 46,
    "start_time": "2023-09-27T12:05:54.283Z"
   },
   {
    "duration": 48,
    "start_time": "2023-09-27T12:05:54.331Z"
   },
   {
    "duration": 31,
    "start_time": "2023-09-27T12:05:54.381Z"
   },
   {
    "duration": 129,
    "start_time": "2023-09-27T12:05:54.414Z"
   },
   {
    "duration": 18929,
    "start_time": "2023-09-27T12:05:54.544Z"
   },
   {
    "duration": 32,
    "start_time": "2023-09-27T12:06:13.477Z"
   },
   {
    "duration": 12,
    "start_time": "2023-09-27T12:06:13.510Z"
   },
   {
    "duration": 15,
    "start_time": "2023-09-27T12:06:13.524Z"
   },
   {
    "duration": 551,
    "start_time": "2023-09-27T12:06:13.540Z"
   },
   {
    "duration": 13,
    "start_time": "2023-09-27T12:06:14.093Z"
   },
   {
    "duration": 63,
    "start_time": "2023-09-27T12:06:14.108Z"
   },
   {
    "duration": 7,
    "start_time": "2023-09-27T12:06:14.172Z"
   },
   {
    "duration": 475,
    "start_time": "2023-09-27T12:06:14.180Z"
   },
   {
    "duration": 10,
    "start_time": "2023-09-27T12:06:14.659Z"
   },
   {
    "duration": 39,
    "start_time": "2023-09-27T12:06:14.676Z"
   },
   {
    "duration": 75,
    "start_time": "2023-09-27T12:06:14.717Z"
   },
   {
    "duration": 166,
    "start_time": "2023-09-27T12:06:14.794Z"
   },
   {
    "duration": 27936,
    "start_time": "2023-09-27T12:06:14.963Z"
   },
   {
    "duration": 2016,
    "start_time": "2023-09-27T12:06:42.901Z"
   },
   {
    "duration": 2878,
    "start_time": "2023-09-27T12:06:44.919Z"
   },
   {
    "duration": 19928,
    "start_time": "2023-09-27T12:06:47.799Z"
   },
   {
    "duration": 1698,
    "start_time": "2023-09-27T12:14:30.185Z"
   },
   {
    "duration": 908,
    "start_time": "2023-09-27T12:14:31.885Z"
   },
   {
    "duration": 18,
    "start_time": "2023-09-27T12:14:32.795Z"
   },
   {
    "duration": 177,
    "start_time": "2023-09-27T12:14:32.815Z"
   },
   {
    "duration": 3,
    "start_time": "2023-09-27T12:14:32.994Z"
   },
   {
    "duration": 84,
    "start_time": "2023-09-27T12:14:32.998Z"
   },
   {
    "duration": 282,
    "start_time": "2023-09-27T12:14:33.084Z"
   },
   {
    "duration": 307,
    "start_time": "2023-09-27T12:14:33.375Z"
   },
   {
    "duration": 513,
    "start_time": "2023-09-27T12:14:33.683Z"
   },
   {
    "duration": 18,
    "start_time": "2023-09-27T12:14:34.199Z"
   },
   {
    "duration": 80,
    "start_time": "2023-09-27T12:14:34.220Z"
   },
   {
    "duration": 33,
    "start_time": "2023-09-27T12:14:34.303Z"
   },
   {
    "duration": 307,
    "start_time": "2023-09-27T12:14:34.338Z"
   },
   {
    "duration": 540,
    "start_time": "2023-09-27T12:14:34.646Z"
   },
   {
    "duration": 24,
    "start_time": "2023-09-27T12:14:35.187Z"
   },
   {
    "duration": 121,
    "start_time": "2023-09-27T12:14:35.212Z"
   },
   {
    "duration": 57,
    "start_time": "2023-09-27T12:14:35.334Z"
   },
   {
    "duration": 50,
    "start_time": "2023-09-27T12:14:35.392Z"
   },
   {
    "duration": 64,
    "start_time": "2023-09-27T12:14:35.443Z"
   },
   {
    "duration": 44,
    "start_time": "2023-09-27T12:14:35.508Z"
   },
   {
    "duration": 46,
    "start_time": "2023-09-27T12:14:35.553Z"
   },
   {
    "duration": 120,
    "start_time": "2023-09-27T12:14:35.601Z"
   },
   {
    "duration": 18662,
    "start_time": "2023-09-27T12:14:35.722Z"
   },
   {
    "duration": 39,
    "start_time": "2023-09-27T12:14:54.386Z"
   },
   {
    "duration": 11,
    "start_time": "2023-09-27T12:14:54.427Z"
   },
   {
    "duration": 22,
    "start_time": "2023-09-27T12:14:54.440Z"
   },
   {
    "duration": 537,
    "start_time": "2023-09-27T12:14:54.467Z"
   },
   {
    "duration": 15,
    "start_time": "2023-09-27T12:14:55.007Z"
   },
   {
    "duration": 68,
    "start_time": "2023-09-27T12:14:55.023Z"
   },
   {
    "duration": 5,
    "start_time": "2023-09-27T12:14:55.094Z"
   },
   {
    "duration": 471,
    "start_time": "2023-09-27T12:14:55.101Z"
   },
   {
    "duration": 7,
    "start_time": "2023-09-27T12:14:55.573Z"
   },
   {
    "duration": 23,
    "start_time": "2023-09-27T12:14:55.583Z"
   },
   {
    "duration": 38,
    "start_time": "2023-09-27T12:14:55.608Z"
   },
   {
    "duration": 213,
    "start_time": "2023-09-27T12:14:55.648Z"
   },
   {
    "duration": 27538,
    "start_time": "2023-09-27T12:14:55.868Z"
   },
   {
    "duration": 2030,
    "start_time": "2023-09-27T12:15:23.408Z"
   },
   {
    "duration": 2886,
    "start_time": "2023-09-27T12:15:25.440Z"
   },
   {
    "duration": 20305,
    "start_time": "2023-09-27T12:15:28.328Z"
   },
   {
    "duration": 1652,
    "start_time": "2023-09-28T13:59:18.829Z"
   },
   {
    "duration": 1135,
    "start_time": "2023-09-28T13:59:20.482Z"
   },
   {
    "duration": 18,
    "start_time": "2023-09-28T13:59:21.618Z"
   },
   {
    "duration": 206,
    "start_time": "2023-09-28T13:59:21.638Z"
   },
   {
    "duration": 3,
    "start_time": "2023-09-28T13:59:21.846Z"
   },
   {
    "duration": 119,
    "start_time": "2023-09-28T13:59:21.850Z"
   },
   {
    "duration": 302,
    "start_time": "2023-09-28T13:59:21.971Z"
   },
   {
    "duration": 278,
    "start_time": "2023-09-28T13:59:22.274Z"
   },
   {
    "duration": 461,
    "start_time": "2023-09-28T13:59:22.553Z"
   },
   {
    "duration": 21,
    "start_time": "2023-09-28T13:59:23.016Z"
   },
   {
    "duration": 162,
    "start_time": "2023-09-28T13:59:23.039Z"
   },
   {
    "duration": 165,
    "start_time": "2023-09-28T13:59:23.203Z"
   },
   {
    "duration": 337,
    "start_time": "2023-09-28T13:59:23.370Z"
   },
   {
    "duration": 363,
    "start_time": "2023-09-28T13:59:23.709Z"
   },
   {
    "duration": 22,
    "start_time": "2023-09-28T13:59:24.074Z"
   },
   {
    "duration": 91,
    "start_time": "2023-09-28T13:59:24.097Z"
   },
   {
    "duration": 38,
    "start_time": "2023-09-28T13:59:24.190Z"
   },
   {
    "duration": 52,
    "start_time": "2023-09-28T13:59:24.230Z"
   },
   {
    "duration": 62,
    "start_time": "2023-09-28T13:59:24.284Z"
   },
   {
    "duration": 28,
    "start_time": "2023-09-28T13:59:24.348Z"
   },
   {
    "duration": 31,
    "start_time": "2023-09-28T13:59:24.377Z"
   },
   {
    "duration": 84,
    "start_time": "2023-09-28T13:59:24.409Z"
   },
   {
    "duration": 17565,
    "start_time": "2023-09-28T13:59:24.495Z"
   },
   {
    "duration": 39,
    "start_time": "2023-09-28T13:59:42.063Z"
   },
   {
    "duration": 33,
    "start_time": "2023-09-28T13:59:42.103Z"
   },
   {
    "duration": 23,
    "start_time": "2023-09-28T13:59:42.138Z"
   },
   {
    "duration": 474,
    "start_time": "2023-09-28T13:59:42.162Z"
   },
   {
    "duration": 15,
    "start_time": "2023-09-28T13:59:42.639Z"
   },
   {
    "duration": 56,
    "start_time": "2023-09-28T13:59:42.655Z"
   },
   {
    "duration": 4,
    "start_time": "2023-09-28T13:59:42.713Z"
   },
   {
    "duration": 466,
    "start_time": "2023-09-28T13:59:42.718Z"
   },
   {
    "duration": 2,
    "start_time": "2023-09-28T13:59:43.185Z"
   },
   {
    "duration": 19,
    "start_time": "2023-09-28T13:59:43.189Z"
   },
   {
    "duration": 30,
    "start_time": "2023-09-28T13:59:43.210Z"
   },
   {
    "duration": 189,
    "start_time": "2023-09-28T13:59:43.242Z"
   },
   {
    "duration": 26828,
    "start_time": "2023-09-28T13:59:43.434Z"
   },
   {
    "duration": 1947,
    "start_time": "2023-09-28T14:00:10.264Z"
   },
   {
    "duration": 2731,
    "start_time": "2023-09-28T14:00:12.213Z"
   },
   {
    "duration": 19448,
    "start_time": "2023-09-28T14:00:14.946Z"
   },
   {
    "duration": 13844,
    "start_time": "2023-09-28T14:00:34.395Z"
   },
   {
    "duration": 1566,
    "start_time": "2023-09-28T14:01:16.271Z"
   },
   {
    "duration": 928,
    "start_time": "2023-09-28T14:01:17.839Z"
   },
   {
    "duration": 17,
    "start_time": "2023-09-28T14:01:18.769Z"
   },
   {
    "duration": 187,
    "start_time": "2023-09-28T14:01:18.788Z"
   },
   {
    "duration": 3,
    "start_time": "2023-09-28T14:01:18.977Z"
   },
   {
    "duration": 77,
    "start_time": "2023-09-28T14:01:18.982Z"
   },
   {
    "duration": 325,
    "start_time": "2023-09-28T14:01:19.061Z"
   },
   {
    "duration": 307,
    "start_time": "2023-09-28T14:01:19.388Z"
   },
   {
    "duration": 595,
    "start_time": "2023-09-28T14:01:19.698Z"
   },
   {
    "duration": 37,
    "start_time": "2023-09-28T14:01:20.297Z"
   },
   {
    "duration": 49,
    "start_time": "2023-09-28T14:01:20.335Z"
   },
   {
    "duration": 49,
    "start_time": "2023-09-28T14:01:20.387Z"
   },
   {
    "duration": 295,
    "start_time": "2023-09-28T14:01:20.442Z"
   },
   {
    "duration": 477,
    "start_time": "2023-09-28T14:01:20.740Z"
   },
   {
    "duration": 29,
    "start_time": "2023-09-28T14:01:21.219Z"
   },
   {
    "duration": 96,
    "start_time": "2023-09-28T14:01:21.249Z"
   },
   {
    "duration": 30,
    "start_time": "2023-09-28T14:01:21.346Z"
   },
   {
    "duration": 74,
    "start_time": "2023-09-28T14:01:21.377Z"
   },
   {
    "duration": 55,
    "start_time": "2023-09-28T14:01:21.453Z"
   },
   {
    "duration": 52,
    "start_time": "2023-09-28T14:01:21.510Z"
   },
   {
    "duration": 31,
    "start_time": "2023-09-28T14:01:21.564Z"
   },
   {
    "duration": 107,
    "start_time": "2023-09-28T14:01:21.597Z"
   },
   {
    "duration": 18311,
    "start_time": "2023-09-28T14:01:21.706Z"
   },
   {
    "duration": 41,
    "start_time": "2023-09-28T14:01:40.055Z"
   },
   {
    "duration": 13,
    "start_time": "2023-09-28T14:01:40.098Z"
   },
   {
    "duration": 36,
    "start_time": "2023-09-28T14:01:40.113Z"
   },
   {
    "duration": 584,
    "start_time": "2023-09-28T14:01:40.150Z"
   },
   {
    "duration": 16,
    "start_time": "2023-09-28T14:01:40.736Z"
   },
   {
    "duration": 82,
    "start_time": "2023-09-28T14:01:40.754Z"
   },
   {
    "duration": 4,
    "start_time": "2023-09-28T14:01:40.839Z"
   },
   {
    "duration": 535,
    "start_time": "2023-09-28T14:01:40.846Z"
   },
   {
    "duration": 3,
    "start_time": "2023-09-28T14:01:41.383Z"
   },
   {
    "duration": 26,
    "start_time": "2023-09-28T14:01:41.388Z"
   },
   {
    "duration": 44,
    "start_time": "2023-09-28T14:01:41.416Z"
   },
   {
    "duration": 82,
    "start_time": "2023-09-28T14:01:41.462Z"
   },
   {
    "duration": 28582,
    "start_time": "2023-09-28T14:01:41.546Z"
   },
   {
    "duration": 2077,
    "start_time": "2023-09-28T14:02:10.135Z"
   },
   {
    "duration": 2881,
    "start_time": "2023-09-28T14:02:12.214Z"
   },
   {
    "duration": 20645,
    "start_time": "2023-09-28T14:02:15.097Z"
   },
   {
    "duration": 50404,
    "start_time": "2023-09-28T14:02:35.745Z"
   },
   {
    "duration": 4304,
    "start_time": "2023-09-28T14:03:26.228Z"
   },
   {
    "duration": 4,
    "start_time": "2023-09-28T14:03:48.233Z"
   },
   {
    "duration": 3,
    "start_time": "2023-09-28T14:05:10.957Z"
   },
   {
    "duration": 5,
    "start_time": "2023-09-28T14:05:17.508Z"
   },
   {
    "duration": 11,
    "start_time": "2023-09-28T14:06:22.947Z"
   },
   {
    "duration": 11,
    "start_time": "2023-09-28T15:07:33.348Z"
   },
   {
    "duration": 5,
    "start_time": "2023-09-28T15:18:16.229Z"
   },
   {
    "duration": 821,
    "start_time": "2023-09-28T15:18:16.236Z"
   },
   {
    "duration": 15,
    "start_time": "2023-09-28T15:18:17.059Z"
   },
   {
    "duration": 155,
    "start_time": "2023-09-28T15:18:17.075Z"
   },
   {
    "duration": 4,
    "start_time": "2023-09-28T15:18:17.232Z"
   },
   {
    "duration": 39,
    "start_time": "2023-09-28T15:18:17.237Z"
   },
   {
    "duration": 229,
    "start_time": "2023-09-28T15:18:17.277Z"
   },
   {
    "duration": 268,
    "start_time": "2023-09-28T15:18:17.507Z"
   },
   {
    "duration": 465,
    "start_time": "2023-09-28T15:18:17.777Z"
   },
   {
    "duration": 14,
    "start_time": "2023-09-28T15:18:18.244Z"
   },
   {
    "duration": 35,
    "start_time": "2023-09-28T15:18:18.260Z"
   },
   {
    "duration": 49,
    "start_time": "2023-09-28T15:18:18.297Z"
   },
   {
    "duration": 777,
    "start_time": "2023-09-28T15:18:18.348Z"
   },
   {
    "duration": 365,
    "start_time": "2023-09-28T15:18:19.128Z"
   },
   {
    "duration": 36,
    "start_time": "2023-09-28T15:18:19.495Z"
   },
   {
    "duration": 77,
    "start_time": "2023-09-28T15:18:19.533Z"
   },
   {
    "duration": 43,
    "start_time": "2023-09-28T15:18:19.611Z"
   },
   {
    "duration": 51,
    "start_time": "2023-09-28T15:18:19.655Z"
   },
   {
    "duration": 66,
    "start_time": "2023-09-28T15:18:19.707Z"
   },
   {
    "duration": 31,
    "start_time": "2023-09-28T15:18:19.775Z"
   },
   {
    "duration": 29,
    "start_time": "2023-09-28T15:18:19.825Z"
   },
   {
    "duration": 85,
    "start_time": "2023-09-28T15:18:19.856Z"
   },
   {
    "duration": 17412,
    "start_time": "2023-09-28T15:18:19.943Z"
   },
   {
    "duration": 35,
    "start_time": "2023-09-28T15:18:37.356Z"
   },
   {
    "duration": 40,
    "start_time": "2023-09-28T15:18:37.393Z"
   },
   {
    "duration": 3,
    "start_time": "2023-09-28T15:18:37.434Z"
   },
   {
    "duration": 485,
    "start_time": "2023-09-28T15:18:37.439Z"
   },
   {
    "duration": 15,
    "start_time": "2023-09-28T15:18:37.925Z"
   },
   {
    "duration": 54,
    "start_time": "2023-09-28T15:18:37.942Z"
   },
   {
    "duration": 4,
    "start_time": "2023-09-28T15:18:37.997Z"
   },
   {
    "duration": 408,
    "start_time": "2023-09-28T15:18:38.003Z"
   },
   {
    "duration": 2,
    "start_time": "2023-09-28T15:18:38.413Z"
   },
   {
    "duration": 3,
    "start_time": "2023-09-28T15:18:38.423Z"
   },
   {
    "duration": 18,
    "start_time": "2023-09-28T15:18:38.428Z"
   },
   {
    "duration": 179,
    "start_time": "2023-09-28T15:18:38.448Z"
   },
   {
    "duration": 26614,
    "start_time": "2023-09-28T15:18:38.630Z"
   },
   {
    "duration": 2034,
    "start_time": "2023-09-28T15:19:05.246Z"
   },
   {
    "duration": 2805,
    "start_time": "2023-09-28T15:19:07.281Z"
   },
   {
    "duration": 19402,
    "start_time": "2023-09-28T15:19:10.087Z"
   },
   {
    "duration": 20440,
    "start_time": "2023-09-28T15:19:29.491Z"
   },
   {
    "duration": 994,
    "start_time": "2023-09-28T15:19:49.935Z"
   },
   {
    "duration": 10,
    "start_time": "2023-09-28T15:19:50.931Z"
   },
   {
    "duration": 152,
    "start_time": "2023-09-29T09:03:24.188Z"
   },
   {
    "duration": 2074,
    "start_time": "2023-09-29T09:04:14.277Z"
   },
   {
    "duration": 2,
    "start_time": "2023-09-29T09:04:29.818Z"
   },
   {
    "duration": 112,
    "start_time": "2023-09-29T09:05:04.277Z"
   },
   {
    "duration": 9,
    "start_time": "2023-09-29T09:06:09.236Z"
   },
   {
    "duration": 6,
    "start_time": "2023-09-29T09:15:30.088Z"
   },
   {
    "duration": 1237,
    "start_time": "2023-09-29T09:15:30.099Z"
   },
   {
    "duration": 18,
    "start_time": "2023-09-29T09:15:31.339Z"
   },
   {
    "duration": 218,
    "start_time": "2023-09-29T09:15:31.358Z"
   },
   {
    "duration": 4,
    "start_time": "2023-09-29T09:15:31.579Z"
   },
   {
    "duration": 122,
    "start_time": "2023-09-29T09:15:31.585Z"
   },
   {
    "duration": 321,
    "start_time": "2023-09-29T09:15:31.709Z"
   },
   {
    "duration": 297,
    "start_time": "2023-09-29T09:15:32.032Z"
   },
   {
    "duration": 513,
    "start_time": "2023-09-29T09:15:32.331Z"
   },
   {
    "duration": 16,
    "start_time": "2023-09-29T09:15:32.846Z"
   },
   {
    "duration": 47,
    "start_time": "2023-09-29T09:15:32.864Z"
   },
   {
    "duration": 40,
    "start_time": "2023-09-29T09:15:32.913Z"
   },
   {
    "duration": 347,
    "start_time": "2023-09-29T09:15:32.955Z"
   },
   {
    "duration": 380,
    "start_time": "2023-09-29T09:15:33.304Z"
   },
   {
    "duration": 27,
    "start_time": "2023-09-29T09:15:33.688Z"
   },
   {
    "duration": 118,
    "start_time": "2023-09-29T09:15:33.718Z"
   },
   {
    "duration": 41,
    "start_time": "2023-09-29T09:15:33.839Z"
   },
   {
    "duration": 38,
    "start_time": "2023-09-29T09:15:33.882Z"
   },
   {
    "duration": 41,
    "start_time": "2023-09-29T09:15:33.922Z"
   },
   {
    "duration": 38,
    "start_time": "2023-09-29T09:15:33.965Z"
   },
   {
    "duration": 41,
    "start_time": "2023-09-29T09:15:34.005Z"
   },
   {
    "duration": 79,
    "start_time": "2023-09-29T09:15:34.048Z"
   },
   {
    "duration": 16,
    "start_time": "2023-09-29T09:15:34.129Z"
   },
   {
    "duration": 18650,
    "start_time": "2023-09-29T09:15:34.147Z"
   },
   {
    "duration": 47,
    "start_time": "2023-09-29T09:15:52.836Z"
   },
   {
    "duration": 23,
    "start_time": "2023-09-29T09:15:52.884Z"
   },
   {
    "duration": 16,
    "start_time": "2023-09-29T09:15:52.909Z"
   },
   {
    "duration": 28,
    "start_time": "2023-09-29T09:15:52.927Z"
   },
   {
    "duration": 12055,
    "start_time": "2023-09-29T09:15:52.957Z"
   },
   {
    "duration": 0,
    "start_time": "2023-09-29T09:16:05.013Z"
   },
   {
    "duration": 0,
    "start_time": "2023-09-29T09:16:05.014Z"
   },
   {
    "duration": 0,
    "start_time": "2023-09-29T09:16:05.015Z"
   },
   {
    "duration": 0,
    "start_time": "2023-09-29T09:16:05.016Z"
   },
   {
    "duration": 5,
    "start_time": "2023-09-29T09:16:21.112Z"
   },
   {
    "duration": 872,
    "start_time": "2023-09-29T09:16:21.118Z"
   },
   {
    "duration": 16,
    "start_time": "2023-09-29T09:16:21.992Z"
   },
   {
    "duration": 185,
    "start_time": "2023-09-29T09:16:22.011Z"
   },
   {
    "duration": 4,
    "start_time": "2023-09-29T09:16:22.198Z"
   },
   {
    "duration": 33,
    "start_time": "2023-09-29T09:16:22.203Z"
   },
   {
    "duration": 259,
    "start_time": "2023-09-29T09:16:22.244Z"
   },
   {
    "duration": 283,
    "start_time": "2023-09-29T09:16:22.505Z"
   },
   {
    "duration": 482,
    "start_time": "2023-09-29T09:16:22.790Z"
   },
   {
    "duration": 15,
    "start_time": "2023-09-29T09:16:23.274Z"
   },
   {
    "duration": 31,
    "start_time": "2023-09-29T09:16:23.291Z"
   },
   {
    "duration": 37,
    "start_time": "2023-09-29T09:16:23.324Z"
   },
   {
    "duration": 278,
    "start_time": "2023-09-29T09:16:23.363Z"
   },
   {
    "duration": 429,
    "start_time": "2023-09-29T09:16:23.645Z"
   },
   {
    "duration": 25,
    "start_time": "2023-09-29T09:16:24.076Z"
   },
   {
    "duration": 101,
    "start_time": "2023-09-29T09:16:24.104Z"
   },
   {
    "duration": 42,
    "start_time": "2023-09-29T09:16:24.208Z"
   },
   {
    "duration": 35,
    "start_time": "2023-09-29T09:16:24.251Z"
   },
   {
    "duration": 32,
    "start_time": "2023-09-29T09:16:24.288Z"
   },
   {
    "duration": 34,
    "start_time": "2023-09-29T09:16:24.343Z"
   },
   {
    "duration": 50,
    "start_time": "2023-09-29T09:16:24.379Z"
   },
   {
    "duration": 120,
    "start_time": "2023-09-29T09:16:24.431Z"
   },
   {
    "duration": 3,
    "start_time": "2023-09-29T09:16:24.553Z"
   },
   {
    "duration": 19409,
    "start_time": "2023-09-29T09:16:24.559Z"
   },
   {
    "duration": 34,
    "start_time": "2023-09-29T09:16:43.970Z"
   },
   {
    "duration": 38,
    "start_time": "2023-09-29T09:16:44.006Z"
   },
   {
    "duration": 28,
    "start_time": "2023-09-29T09:16:44.045Z"
   },
   {
    "duration": 12,
    "start_time": "2023-09-29T09:16:44.075Z"
   },
   {
    "duration": 81,
    "start_time": "2023-09-29T09:16:44.088Z"
   },
   {
    "duration": 714,
    "start_time": "2023-09-29T09:16:44.171Z"
   },
   {
    "duration": 0,
    "start_time": "2023-09-29T09:16:44.886Z"
   },
   {
    "duration": 61,
    "start_time": "2023-09-29T09:17:21.424Z"
   },
   {
    "duration": 477,
    "start_time": "2023-09-29T09:17:22.431Z"
   },
   {
    "duration": 12,
    "start_time": "2023-09-29T09:17:24.480Z"
   },
   {
    "duration": 4,
    "start_time": "2023-09-29T09:17:42.056Z"
   },
   {
    "duration": 122,
    "start_time": "2023-09-29T09:19:01.033Z"
   },
   {
    "duration": 14,
    "start_time": "2023-09-29T09:21:06.457Z"
   },
   {
    "duration": 13,
    "start_time": "2023-09-29T09:22:21.136Z"
   },
   {
    "duration": 47,
    "start_time": "2023-09-29T09:23:22.598Z"
   },
   {
    "duration": 5,
    "start_time": "2023-09-29T09:29:29.231Z"
   },
   {
    "duration": 6,
    "start_time": "2023-09-29T09:31:48.760Z"
   },
   {
    "duration": 58,
    "start_time": "2023-09-29T09:32:32.714Z"
   },
   {
    "duration": 17891,
    "start_time": "2023-09-29T09:32:45.960Z"
   },
   {
    "duration": 18,
    "start_time": "2023-09-29T09:35:24.570Z"
   },
   {
    "duration": 14,
    "start_time": "2023-09-29T09:35:38.650Z"
   },
   {
    "duration": 13,
    "start_time": "2023-09-29T09:35:44.336Z"
   },
   {
    "duration": 4,
    "start_time": "2023-09-29T09:47:11.545Z"
   },
   {
    "duration": 805,
    "start_time": "2023-09-29T09:47:11.552Z"
   },
   {
    "duration": 16,
    "start_time": "2023-09-29T09:47:12.359Z"
   },
   {
    "duration": 170,
    "start_time": "2023-09-29T09:47:12.377Z"
   },
   {
    "duration": 3,
    "start_time": "2023-09-29T09:47:12.550Z"
   },
   {
    "duration": 39,
    "start_time": "2023-09-29T09:47:12.555Z"
   },
   {
    "duration": 240,
    "start_time": "2023-09-29T09:47:12.596Z"
   },
   {
    "duration": 305,
    "start_time": "2023-09-29T09:47:12.837Z"
   },
   {
    "duration": 1076,
    "start_time": "2023-09-29T09:47:13.145Z"
   },
   {
    "duration": 25,
    "start_time": "2023-09-29T09:47:14.223Z"
   },
   {
    "duration": 34,
    "start_time": "2023-09-29T09:47:14.250Z"
   },
   {
    "duration": 48,
    "start_time": "2023-09-29T09:47:14.286Z"
   },
   {
    "duration": 323,
    "start_time": "2023-09-29T09:47:14.336Z"
   },
   {
    "duration": 452,
    "start_time": "2023-09-29T09:47:14.661Z"
   },
   {
    "duration": 35,
    "start_time": "2023-09-29T09:47:15.115Z"
   },
   {
    "duration": 81,
    "start_time": "2023-09-29T09:47:15.152Z"
   },
   {
    "duration": 33,
    "start_time": "2023-09-29T09:47:15.244Z"
   },
   {
    "duration": 41,
    "start_time": "2023-09-29T09:47:15.278Z"
   },
   {
    "duration": 55,
    "start_time": "2023-09-29T09:47:15.321Z"
   },
   {
    "duration": 32,
    "start_time": "2023-09-29T09:47:15.377Z"
   },
   {
    "duration": 50,
    "start_time": "2023-09-29T09:47:15.411Z"
   },
   {
    "duration": 86,
    "start_time": "2023-09-29T09:47:15.462Z"
   },
   {
    "duration": 3,
    "start_time": "2023-09-29T09:47:15.550Z"
   },
   {
    "duration": 19362,
    "start_time": "2023-09-29T09:47:15.557Z"
   },
   {
    "duration": 50,
    "start_time": "2023-09-29T09:47:34.921Z"
   },
   {
    "duration": 16,
    "start_time": "2023-09-29T09:47:34.974Z"
   },
   {
    "duration": 36,
    "start_time": "2023-09-29T09:47:34.992Z"
   },
   {
    "duration": 14,
    "start_time": "2023-09-29T09:47:35.030Z"
   },
   {
    "duration": 74,
    "start_time": "2023-09-29T09:47:35.046Z"
   },
   {
    "duration": 472,
    "start_time": "2023-09-29T09:47:35.122Z"
   },
   {
    "duration": 5,
    "start_time": "2023-09-29T09:47:35.596Z"
   },
   {
    "duration": 26,
    "start_time": "2023-09-29T09:47:35.602Z"
   },
   {
    "duration": 0,
    "start_time": "2023-09-29T09:47:35.630Z"
   },
   {
    "duration": 0,
    "start_time": "2023-09-29T09:47:35.631Z"
   },
   {
    "duration": 0,
    "start_time": "2023-09-29T09:47:35.632Z"
   },
   {
    "duration": 3,
    "start_time": "2023-09-29T09:50:21.624Z"
   },
   {
    "duration": 67,
    "start_time": "2023-09-29T09:50:24.673Z"
   },
   {
    "duration": 19,
    "start_time": "2023-09-29T09:50:25.219Z"
   },
   {
    "duration": 13,
    "start_time": "2023-09-29T09:50:48.858Z"
   },
   {
    "duration": 3,
    "start_time": "2023-09-29T09:51:03.740Z"
   },
   {
    "duration": 85,
    "start_time": "2023-09-29T09:51:06.035Z"
   },
   {
    "duration": 522,
    "start_time": "2023-09-29T09:51:06.684Z"
   },
   {
    "duration": 4,
    "start_time": "2023-09-29T09:51:09.457Z"
   },
   {
    "duration": 499,
    "start_time": "2023-09-29T09:51:17.641Z"
   },
   {
    "duration": 497,
    "start_time": "2023-09-29T09:51:23.311Z"
   },
   {
    "duration": 2492,
    "start_time": "2023-09-29T09:52:27.432Z"
   },
   {
    "duration": 3259,
    "start_time": "2023-09-29T09:52:39.114Z"
   },
   {
    "duration": 3231,
    "start_time": "2023-09-29T09:53:17.464Z"
   },
   {
    "duration": 3226,
    "start_time": "2023-09-29T09:53:25.544Z"
   },
   {
    "duration": 3313,
    "start_time": "2023-09-29T09:53:47.032Z"
   },
   {
    "duration": 3246,
    "start_time": "2023-09-29T09:53:55.575Z"
   },
   {
    "duration": 2,
    "start_time": "2023-09-29T09:54:02.217Z"
   },
   {
    "duration": 3,
    "start_time": "2023-09-29T09:54:03.232Z"
   },
   {
    "duration": 7,
    "start_time": "2023-09-29T09:54:03.841Z"
   },
   {
    "duration": 18548,
    "start_time": "2023-09-29T09:54:05.202Z"
   },
   {
    "duration": 13,
    "start_time": "2023-09-29T09:55:28.073Z"
   },
   {
    "duration": 9026,
    "start_time": "2023-09-29T09:57:32.280Z"
   },
   {
    "duration": 9439,
    "start_time": "2023-09-29T09:59:27.895Z"
   },
   {
    "duration": 677,
    "start_time": "2023-09-29T10:02:24.448Z"
   },
   {
    "duration": 559,
    "start_time": "2023-09-29T10:02:28.544Z"
   },
   {
    "duration": 5,
    "start_time": "2023-09-29T10:02:30.407Z"
   },
   {
    "duration": 6,
    "start_time": "2023-09-29T10:02:41.552Z"
   },
   {
    "duration": 16,
    "start_time": "2023-09-29T10:02:57.791Z"
   },
   {
    "duration": 79,
    "start_time": "2023-09-29T10:03:04.351Z"
   },
   {
    "duration": 2450,
    "start_time": "2023-09-29T10:03:54.632Z"
   },
   {
    "duration": 2487,
    "start_time": "2023-09-29T10:04:00.752Z"
   },
   {
    "duration": 4,
    "start_time": "2023-09-29T10:04:46.214Z"
   },
   {
    "duration": 88,
    "start_time": "2023-09-29T10:04:48.375Z"
   },
   {
    "duration": 3351,
    "start_time": "2023-09-29T10:04:48.671Z"
   },
   {
    "duration": 5,
    "start_time": "2023-09-29T10:04:57.423Z"
   },
   {
    "duration": 76,
    "start_time": "2023-09-29T10:05:01.271Z"
   },
   {
    "duration": 20,
    "start_time": "2023-09-29T10:06:22.799Z"
   },
   {
    "duration": 2980,
    "start_time": "2023-09-29T10:06:39.336Z"
   },
   {
    "duration": 5,
    "start_time": "2023-09-29T10:06:46.342Z"
   },
   {
    "duration": 1480,
    "start_time": "2023-09-29T10:06:57.761Z"
   },
   {
    "duration": 1208,
    "start_time": "2023-09-29T10:06:59.244Z"
   },
   {
    "duration": 22,
    "start_time": "2023-09-29T10:07:00.454Z"
   },
   {
    "duration": 212,
    "start_time": "2023-09-29T10:07:00.478Z"
   },
   {
    "duration": 37,
    "start_time": "2023-09-29T10:07:00.693Z"
   },
   {
    "duration": 129,
    "start_time": "2023-09-29T10:07:00.732Z"
   },
   {
    "duration": 308,
    "start_time": "2023-09-29T10:07:00.863Z"
   },
   {
    "duration": 327,
    "start_time": "2023-09-29T10:07:01.174Z"
   },
   {
    "duration": 518,
    "start_time": "2023-09-29T10:07:01.504Z"
   },
   {
    "duration": 29,
    "start_time": "2023-09-29T10:07:02.023Z"
   },
   {
    "duration": 221,
    "start_time": "2023-09-29T10:07:02.054Z"
   },
   {
    "duration": 38,
    "start_time": "2023-09-29T10:07:02.277Z"
   },
   {
    "duration": 363,
    "start_time": "2023-09-29T10:07:02.317Z"
   },
   {
    "duration": 483,
    "start_time": "2023-09-29T10:07:02.685Z"
   },
   {
    "duration": 24,
    "start_time": "2023-09-29T10:07:03.170Z"
   },
   {
    "duration": 92,
    "start_time": "2023-09-29T10:07:03.196Z"
   },
   {
    "duration": 32,
    "start_time": "2023-09-29T10:07:03.290Z"
   },
   {
    "duration": 177,
    "start_time": "2023-09-29T10:07:03.323Z"
   },
   {
    "duration": 34,
    "start_time": "2023-09-29T10:07:03.502Z"
   },
   {
    "duration": 42,
    "start_time": "2023-09-29T10:07:03.538Z"
   },
   {
    "duration": 37,
    "start_time": "2023-09-29T10:07:03.582Z"
   },
   {
    "duration": 103,
    "start_time": "2023-09-29T10:07:03.621Z"
   },
   {
    "duration": 3,
    "start_time": "2023-09-29T10:07:03.726Z"
   },
   {
    "duration": 19088,
    "start_time": "2023-09-29T10:07:03.731Z"
   },
   {
    "duration": 46,
    "start_time": "2023-09-29T10:07:22.821Z"
   },
   {
    "duration": 14,
    "start_time": "2023-09-29T10:07:22.868Z"
   },
   {
    "duration": 10,
    "start_time": "2023-09-29T10:07:22.884Z"
   },
   {
    "duration": 35,
    "start_time": "2023-09-29T10:07:22.895Z"
   },
   {
    "duration": 92,
    "start_time": "2023-09-29T10:07:22.932Z"
   },
   {
    "duration": 3115,
    "start_time": "2023-09-29T10:07:23.027Z"
   },
   {
    "duration": 4,
    "start_time": "2023-09-29T10:07:26.144Z"
   },
   {
    "duration": 1570,
    "start_time": "2023-09-29T10:07:55.537Z"
   },
   {
    "duration": 1180,
    "start_time": "2023-09-29T10:07:57.109Z"
   },
   {
    "duration": 18,
    "start_time": "2023-09-29T10:07:58.291Z"
   },
   {
    "duration": 162,
    "start_time": "2023-09-29T10:07:58.311Z"
   },
   {
    "duration": 5,
    "start_time": "2023-09-29T10:07:58.475Z"
   },
   {
    "duration": 72,
    "start_time": "2023-09-29T10:07:58.482Z"
   },
   {
    "duration": 299,
    "start_time": "2023-09-29T10:07:58.556Z"
   },
   {
    "duration": 309,
    "start_time": "2023-09-29T10:07:58.856Z"
   },
   {
    "duration": 513,
    "start_time": "2023-09-29T10:07:59.167Z"
   },
   {
    "duration": 20,
    "start_time": "2023-09-29T10:07:59.681Z"
   },
   {
    "duration": 59,
    "start_time": "2023-09-29T10:07:59.703Z"
   },
   {
    "duration": 31,
    "start_time": "2023-09-29T10:07:59.764Z"
   },
   {
    "duration": 296,
    "start_time": "2023-09-29T10:07:59.797Z"
   },
   {
    "duration": 546,
    "start_time": "2023-09-29T10:08:00.098Z"
   },
   {
    "duration": 30,
    "start_time": "2023-09-29T10:08:00.646Z"
   },
   {
    "duration": 132,
    "start_time": "2023-09-29T10:08:00.678Z"
   },
   {
    "duration": 56,
    "start_time": "2023-09-29T10:08:00.812Z"
   },
   {
    "duration": 141,
    "start_time": "2023-09-29T10:08:00.870Z"
   },
   {
    "duration": 213,
    "start_time": "2023-09-29T10:08:01.013Z"
   },
   {
    "duration": 248,
    "start_time": "2023-09-29T10:08:01.228Z"
   },
   {
    "duration": 341,
    "start_time": "2023-09-29T10:08:01.478Z"
   },
   {
    "duration": 398,
    "start_time": "2023-09-29T10:08:01.821Z"
   },
   {
    "duration": 101,
    "start_time": "2023-09-29T10:08:02.221Z"
   },
   {
    "duration": 18836,
    "start_time": "2023-09-29T10:08:02.323Z"
   },
   {
    "duration": 45,
    "start_time": "2023-09-29T10:08:21.161Z"
   },
   {
    "duration": 13,
    "start_time": "2023-09-29T10:08:21.208Z"
   },
   {
    "duration": 5,
    "start_time": "2023-09-29T10:08:21.223Z"
   },
   {
    "duration": 24,
    "start_time": "2023-09-29T10:08:21.230Z"
   },
   {
    "duration": 90,
    "start_time": "2023-09-29T10:08:21.255Z"
   },
   {
    "duration": 3044,
    "start_time": "2023-09-29T10:08:21.347Z"
   },
   {
    "duration": 4,
    "start_time": "2023-09-29T10:08:24.393Z"
   },
   {
    "duration": 52,
    "start_time": "2023-09-29T10:08:32.863Z"
   },
   {
    "duration": 1572,
    "start_time": "2023-09-29T10:08:44.151Z"
   },
   {
    "duration": 1190,
    "start_time": "2023-09-29T10:08:45.725Z"
   },
   {
    "duration": 19,
    "start_time": "2023-09-29T10:08:46.918Z"
   },
   {
    "duration": 199,
    "start_time": "2023-09-29T10:08:46.939Z"
   },
   {
    "duration": 3,
    "start_time": "2023-09-29T10:08:47.143Z"
   },
   {
    "duration": 72,
    "start_time": "2023-09-29T10:08:47.148Z"
   },
   {
    "duration": 293,
    "start_time": "2023-09-29T10:08:47.222Z"
   },
   {
    "duration": 284,
    "start_time": "2023-09-29T10:08:47.517Z"
   },
   {
    "duration": 486,
    "start_time": "2023-09-29T10:08:47.803Z"
   },
   {
    "duration": 20,
    "start_time": "2023-09-29T10:08:48.291Z"
   },
   {
    "duration": 59,
    "start_time": "2023-09-29T10:08:48.313Z"
   },
   {
    "duration": 35,
    "start_time": "2023-09-29T10:08:48.374Z"
   },
   {
    "duration": 274,
    "start_time": "2023-09-29T10:08:48.411Z"
   },
   {
    "duration": 470,
    "start_time": "2023-09-29T10:08:48.688Z"
   },
   {
    "duration": 24,
    "start_time": "2023-09-29T10:08:49.159Z"
   },
   {
    "duration": 114,
    "start_time": "2023-09-29T10:08:49.185Z"
   },
   {
    "duration": 32,
    "start_time": "2023-09-29T10:08:49.300Z"
   },
   {
    "duration": 82,
    "start_time": "2023-09-29T10:08:49.333Z"
   },
   {
    "duration": 47,
    "start_time": "2023-09-29T10:08:49.417Z"
   },
   {
    "duration": 57,
    "start_time": "2023-09-29T10:08:49.465Z"
   },
   {
    "duration": 40,
    "start_time": "2023-09-29T10:08:49.524Z"
   },
   {
    "duration": 86,
    "start_time": "2023-09-29T10:08:49.566Z"
   },
   {
    "duration": 4,
    "start_time": "2023-09-29T10:08:49.654Z"
   },
   {
    "duration": 18763,
    "start_time": "2023-09-29T10:08:49.659Z"
   },
   {
    "duration": 47,
    "start_time": "2023-09-29T10:09:08.424Z"
   },
   {
    "duration": 13,
    "start_time": "2023-09-29T10:09:08.473Z"
   },
   {
    "duration": 5,
    "start_time": "2023-09-29T10:09:08.488Z"
   },
   {
    "duration": 13,
    "start_time": "2023-09-29T10:09:08.494Z"
   },
   {
    "duration": 89,
    "start_time": "2023-09-29T10:09:08.508Z"
   },
   {
    "duration": 2985,
    "start_time": "2023-09-29T10:09:08.599Z"
   },
   {
    "duration": 5,
    "start_time": "2023-09-29T10:09:11.585Z"
   },
   {
    "duration": 62,
    "start_time": "2023-09-29T10:09:19.815Z"
   },
   {
    "duration": 1429,
    "start_time": "2023-09-29T10:09:26.858Z"
   },
   {
    "duration": 1182,
    "start_time": "2023-09-29T10:09:28.289Z"
   },
   {
    "duration": 18,
    "start_time": "2023-09-29T10:09:29.473Z"
   },
   {
    "duration": 159,
    "start_time": "2023-09-29T10:09:29.493Z"
   },
   {
    "duration": 3,
    "start_time": "2023-09-29T10:09:29.655Z"
   },
   {
    "duration": 82,
    "start_time": "2023-09-29T10:09:29.660Z"
   },
   {
    "duration": 300,
    "start_time": "2023-09-29T10:09:29.744Z"
   },
   {
    "duration": 287,
    "start_time": "2023-09-29T10:09:30.045Z"
   },
   {
    "duration": 515,
    "start_time": "2023-09-29T10:09:30.334Z"
   },
   {
    "duration": 19,
    "start_time": "2023-09-29T10:09:30.850Z"
   },
   {
    "duration": 98,
    "start_time": "2023-09-29T10:09:30.870Z"
   },
   {
    "duration": 31,
    "start_time": "2023-09-29T10:09:30.970Z"
   },
   {
    "duration": 315,
    "start_time": "2023-09-29T10:09:31.002Z"
   },
   {
    "duration": 479,
    "start_time": "2023-09-29T10:09:31.320Z"
   },
   {
    "duration": 24,
    "start_time": "2023-09-29T10:09:31.801Z"
   },
   {
    "duration": 93,
    "start_time": "2023-09-29T10:09:31.826Z"
   },
   {
    "duration": 36,
    "start_time": "2023-09-29T10:09:31.920Z"
   },
   {
    "duration": 34,
    "start_time": "2023-09-29T10:09:31.958Z"
   },
   {
    "duration": 51,
    "start_time": "2023-09-29T10:09:31.993Z"
   },
   {
    "duration": 42,
    "start_time": "2023-09-29T10:09:32.046Z"
   },
   {
    "duration": 50,
    "start_time": "2023-09-29T10:09:32.090Z"
   },
   {
    "duration": 105,
    "start_time": "2023-09-29T10:09:32.142Z"
   },
   {
    "duration": 3,
    "start_time": "2023-09-29T10:09:32.249Z"
   },
   {
    "duration": 18717,
    "start_time": "2023-09-29T10:09:32.254Z"
   },
   {
    "duration": 47,
    "start_time": "2023-09-29T10:09:50.973Z"
   },
   {
    "duration": 22,
    "start_time": "2023-09-29T10:09:51.022Z"
   },
   {
    "duration": 33,
    "start_time": "2023-09-29T10:09:51.046Z"
   },
   {
    "duration": 52,
    "start_time": "2023-09-29T10:09:51.081Z"
   },
   {
    "duration": 113,
    "start_time": "2023-09-29T10:09:51.134Z"
   },
   {
    "duration": 3144,
    "start_time": "2023-09-29T10:09:51.248Z"
   },
   {
    "duration": 16,
    "start_time": "2023-09-29T10:09:54.394Z"
   },
   {
    "duration": 1690,
    "start_time": "2023-09-29T10:10:10.695Z"
   },
   {
    "duration": 1194,
    "start_time": "2023-09-29T10:10:12.387Z"
   },
   {
    "duration": 18,
    "start_time": "2023-09-29T10:10:13.583Z"
   },
   {
    "duration": 180,
    "start_time": "2023-09-29T10:10:13.603Z"
   },
   {
    "duration": 6,
    "start_time": "2023-09-29T10:10:13.786Z"
   },
   {
    "duration": 78,
    "start_time": "2023-09-29T10:10:13.794Z"
   },
   {
    "duration": 335,
    "start_time": "2023-09-29T10:10:13.875Z"
   },
   {
    "duration": 319,
    "start_time": "2023-09-29T10:10:14.212Z"
   },
   {
    "duration": 551,
    "start_time": "2023-09-29T10:10:14.533Z"
   },
   {
    "duration": 21,
    "start_time": "2023-09-29T10:10:15.086Z"
   },
   {
    "duration": 60,
    "start_time": "2023-09-29T10:10:15.109Z"
   },
   {
    "duration": 34,
    "start_time": "2023-09-29T10:10:15.172Z"
   },
   {
    "duration": 278,
    "start_time": "2023-09-29T10:10:15.208Z"
   },
   {
    "duration": 478,
    "start_time": "2023-09-29T10:10:15.489Z"
   },
   {
    "duration": 24,
    "start_time": "2023-09-29T10:10:15.968Z"
   },
   {
    "duration": 97,
    "start_time": "2023-09-29T10:10:15.994Z"
   },
   {
    "duration": 36,
    "start_time": "2023-09-29T10:10:16.092Z"
   },
   {
    "duration": 40,
    "start_time": "2023-09-29T10:10:16.130Z"
   },
   {
    "duration": 29,
    "start_time": "2023-09-29T10:10:16.172Z"
   },
   {
    "duration": 50,
    "start_time": "2023-09-29T10:10:16.203Z"
   },
   {
    "duration": 33,
    "start_time": "2023-09-29T10:10:16.255Z"
   },
   {
    "duration": 103,
    "start_time": "2023-09-29T10:10:16.289Z"
   },
   {
    "duration": 3,
    "start_time": "2023-09-29T10:10:16.393Z"
   },
   {
    "duration": 18253,
    "start_time": "2023-09-29T10:10:16.398Z"
   },
   {
    "duration": 47,
    "start_time": "2023-09-29T10:10:34.653Z"
   },
   {
    "duration": 12,
    "start_time": "2023-09-29T10:10:34.702Z"
   },
   {
    "duration": 5,
    "start_time": "2023-09-29T10:10:34.716Z"
   },
   {
    "duration": 3,
    "start_time": "2023-09-29T10:10:34.745Z"
   },
   {
    "duration": 90,
    "start_time": "2023-09-29T10:10:34.750Z"
   },
   {
    "duration": 2944,
    "start_time": "2023-09-29T10:10:34.842Z"
   },
   {
    "duration": 4,
    "start_time": "2023-09-29T10:10:37.788Z"
   },
   {
    "duration": 4,
    "start_time": "2023-09-29T10:10:40.574Z"
   },
   {
    "duration": 1482,
    "start_time": "2023-09-29T10:11:19.385Z"
   },
   {
    "duration": 1199,
    "start_time": "2023-09-29T10:11:20.870Z"
   },
   {
    "duration": 18,
    "start_time": "2023-09-29T10:11:22.071Z"
   },
   {
    "duration": 159,
    "start_time": "2023-09-29T10:11:22.090Z"
   },
   {
    "duration": 3,
    "start_time": "2023-09-29T10:11:22.252Z"
   },
   {
    "duration": 79,
    "start_time": "2023-09-29T10:11:22.257Z"
   },
   {
    "duration": 285,
    "start_time": "2023-09-29T10:11:22.338Z"
   },
   {
    "duration": 293,
    "start_time": "2023-09-29T10:11:22.625Z"
   },
   {
    "duration": 511,
    "start_time": "2023-09-29T10:11:22.920Z"
   },
   {
    "duration": 27,
    "start_time": "2023-09-29T10:11:23.433Z"
   },
   {
    "duration": 52,
    "start_time": "2023-09-29T10:11:23.462Z"
   },
   {
    "duration": 40,
    "start_time": "2023-09-29T10:11:23.516Z"
   },
   {
    "duration": 319,
    "start_time": "2023-09-29T10:11:23.558Z"
   },
   {
    "duration": 482,
    "start_time": "2023-09-29T10:11:23.881Z"
   },
   {
    "duration": 24,
    "start_time": "2023-09-29T10:11:24.365Z"
   },
   {
    "duration": 114,
    "start_time": "2023-09-29T10:11:24.391Z"
   },
   {
    "duration": 53,
    "start_time": "2023-09-29T10:11:24.507Z"
   },
   {
    "duration": 51,
    "start_time": "2023-09-29T10:11:24.562Z"
   },
   {
    "duration": 58,
    "start_time": "2023-09-29T10:11:24.615Z"
   },
   {
    "duration": 67,
    "start_time": "2023-09-29T10:11:24.676Z"
   },
   {
    "duration": 34,
    "start_time": "2023-09-29T10:11:24.745Z"
   },
   {
    "duration": 98,
    "start_time": "2023-09-29T10:11:24.781Z"
   },
   {
    "duration": 3,
    "start_time": "2023-09-29T10:11:24.881Z"
   },
   {
    "duration": 18237,
    "start_time": "2023-09-29T10:11:24.886Z"
   },
   {
    "duration": 46,
    "start_time": "2023-09-29T10:11:43.125Z"
   },
   {
    "duration": 12,
    "start_time": "2023-09-29T10:11:43.173Z"
   },
   {
    "duration": 8,
    "start_time": "2023-09-29T10:11:43.187Z"
   },
   {
    "duration": 21,
    "start_time": "2023-09-29T10:11:43.197Z"
   },
   {
    "duration": 95,
    "start_time": "2023-09-29T10:11:43.220Z"
   },
   {
    "duration": 3000,
    "start_time": "2023-09-29T10:11:43.317Z"
   },
   {
    "duration": 4,
    "start_time": "2023-09-29T10:11:46.319Z"
   },
   {
    "duration": 138,
    "start_time": "2023-09-29T10:11:46.324Z"
   },
   {
    "duration": 0,
    "start_time": "2023-09-29T10:11:46.464Z"
   },
   {
    "duration": 0,
    "start_time": "2023-09-29T10:11:46.466Z"
   },
   {
    "duration": 0,
    "start_time": "2023-09-29T10:11:46.467Z"
   },
   {
    "duration": 0,
    "start_time": "2023-09-29T10:11:46.468Z"
   },
   {
    "duration": 0,
    "start_time": "2023-09-29T10:11:46.469Z"
   },
   {
    "duration": 0,
    "start_time": "2023-09-29T10:11:46.470Z"
   },
   {
    "duration": 0,
    "start_time": "2023-09-29T10:11:46.472Z"
   },
   {
    "duration": 0,
    "start_time": "2023-09-29T10:11:46.473Z"
   },
   {
    "duration": 0,
    "start_time": "2023-09-29T10:11:46.474Z"
   },
   {
    "duration": 0,
    "start_time": "2023-09-29T10:11:46.475Z"
   },
   {
    "duration": 0,
    "start_time": "2023-09-29T10:11:46.476Z"
   },
   {
    "duration": 61,
    "start_time": "2023-09-29T10:13:05.002Z"
   },
   {
    "duration": 1897,
    "start_time": "2023-09-29T10:13:14.015Z"
   },
   {
    "duration": 1379,
    "start_time": "2023-09-29T10:13:15.915Z"
   },
   {
    "duration": 18,
    "start_time": "2023-09-29T10:13:17.296Z"
   },
   {
    "duration": 228,
    "start_time": "2023-09-29T10:13:17.316Z"
   },
   {
    "duration": 4,
    "start_time": "2023-09-29T10:13:17.547Z"
   },
   {
    "duration": 78,
    "start_time": "2023-09-29T10:13:17.553Z"
   },
   {
    "duration": 329,
    "start_time": "2023-09-29T10:13:17.633Z"
   },
   {
    "duration": 322,
    "start_time": "2023-09-29T10:13:17.964Z"
   },
   {
    "duration": 536,
    "start_time": "2023-09-29T10:13:18.288Z"
   },
   {
    "duration": 27,
    "start_time": "2023-09-29T10:13:18.826Z"
   },
   {
    "duration": 56,
    "start_time": "2023-09-29T10:13:18.855Z"
   },
   {
    "duration": 39,
    "start_time": "2023-09-29T10:13:18.913Z"
   },
   {
    "duration": 271,
    "start_time": "2023-09-29T10:13:18.953Z"
   },
   {
    "duration": 467,
    "start_time": "2023-09-29T10:13:19.228Z"
   },
   {
    "duration": 28,
    "start_time": "2023-09-29T10:13:19.698Z"
   },
   {
    "duration": 91,
    "start_time": "2023-09-29T10:13:19.729Z"
   },
   {
    "duration": 46,
    "start_time": "2023-09-29T10:13:19.821Z"
   },
   {
    "duration": 32,
    "start_time": "2023-09-29T10:13:19.869Z"
   },
   {
    "duration": 49,
    "start_time": "2023-09-29T10:13:19.903Z"
   },
   {
    "duration": 35,
    "start_time": "2023-09-29T10:13:19.953Z"
   },
   {
    "duration": 54,
    "start_time": "2023-09-29T10:13:19.989Z"
   },
   {
    "duration": 125,
    "start_time": "2023-09-29T10:13:20.045Z"
   },
   {
    "duration": 3,
    "start_time": "2023-09-29T10:13:20.172Z"
   },
   {
    "duration": 19183,
    "start_time": "2023-09-29T10:13:20.176Z"
   },
   {
    "duration": 48,
    "start_time": "2023-09-29T10:13:39.361Z"
   },
   {
    "duration": 13,
    "start_time": "2023-09-29T10:13:39.411Z"
   },
   {
    "duration": 3,
    "start_time": "2023-09-29T10:13:39.426Z"
   },
   {
    "duration": 30,
    "start_time": "2023-09-29T10:13:39.431Z"
   },
   {
    "duration": 73,
    "start_time": "2023-09-29T10:13:39.463Z"
   },
   {
    "duration": 511,
    "start_time": "2023-09-29T10:13:39.538Z"
   },
   {
    "duration": 5,
    "start_time": "2023-09-29T10:13:40.050Z"
   },
   {
    "duration": 163,
    "start_time": "2023-09-29T10:13:40.056Z"
   },
   {
    "duration": 0,
    "start_time": "2023-09-29T10:13:40.220Z"
   },
   {
    "duration": 0,
    "start_time": "2023-09-29T10:13:40.221Z"
   },
   {
    "duration": 0,
    "start_time": "2023-09-29T10:13:40.222Z"
   },
   {
    "duration": 0,
    "start_time": "2023-09-29T10:13:40.223Z"
   },
   {
    "duration": 0,
    "start_time": "2023-09-29T10:13:40.224Z"
   },
   {
    "duration": 0,
    "start_time": "2023-09-29T10:13:40.225Z"
   },
   {
    "duration": 0,
    "start_time": "2023-09-29T10:13:40.226Z"
   },
   {
    "duration": 0,
    "start_time": "2023-09-29T10:13:40.227Z"
   },
   {
    "duration": 0,
    "start_time": "2023-09-29T10:13:40.228Z"
   },
   {
    "duration": 0,
    "start_time": "2023-09-29T10:13:40.229Z"
   },
   {
    "duration": 0,
    "start_time": "2023-09-29T10:13:40.243Z"
   },
   {
    "duration": 16,
    "start_time": "2023-09-29T10:14:41.737Z"
   },
   {
    "duration": 4,
    "start_time": "2023-09-29T10:14:48.780Z"
   },
   {
    "duration": 817,
    "start_time": "2023-09-29T10:14:48.787Z"
   },
   {
    "duration": 15,
    "start_time": "2023-09-29T10:14:49.606Z"
   },
   {
    "duration": 161,
    "start_time": "2023-09-29T10:14:49.623Z"
   },
   {
    "duration": 6,
    "start_time": "2023-09-29T10:14:49.786Z"
   },
   {
    "duration": 48,
    "start_time": "2023-09-29T10:14:49.793Z"
   },
   {
    "duration": 274,
    "start_time": "2023-09-29T10:14:49.843Z"
   },
   {
    "duration": 295,
    "start_time": "2023-09-29T10:14:50.119Z"
   },
   {
    "duration": 488,
    "start_time": "2023-09-29T10:14:50.416Z"
   },
   {
    "duration": 15,
    "start_time": "2023-09-29T10:14:50.906Z"
   },
   {
    "duration": 58,
    "start_time": "2023-09-29T10:14:50.923Z"
   },
   {
    "duration": 27,
    "start_time": "2023-09-29T10:14:50.983Z"
   },
   {
    "duration": 821,
    "start_time": "2023-09-29T10:14:51.012Z"
   },
   {
    "duration": 397,
    "start_time": "2023-09-29T10:14:51.837Z"
   },
   {
    "duration": 31,
    "start_time": "2023-09-29T10:14:52.236Z"
   },
   {
    "duration": 96,
    "start_time": "2023-09-29T10:14:52.269Z"
   },
   {
    "duration": 33,
    "start_time": "2023-09-29T10:14:52.367Z"
   },
   {
    "duration": 49,
    "start_time": "2023-09-29T10:14:52.402Z"
   },
   {
    "duration": 42,
    "start_time": "2023-09-29T10:14:52.453Z"
   },
   {
    "duration": 41,
    "start_time": "2023-09-29T10:14:52.497Z"
   },
   {
    "duration": 39,
    "start_time": "2023-09-29T10:14:52.547Z"
   },
   {
    "duration": 122,
    "start_time": "2023-09-29T10:14:52.587Z"
   },
   {
    "duration": 3,
    "start_time": "2023-09-29T10:14:52.711Z"
   },
   {
    "duration": 20868,
    "start_time": "2023-09-29T10:14:52.715Z"
   },
   {
    "duration": 60,
    "start_time": "2023-09-29T10:15:13.585Z"
   },
   {
    "duration": 24,
    "start_time": "2023-09-29T10:15:13.647Z"
   },
   {
    "duration": 36,
    "start_time": "2023-09-29T10:15:13.673Z"
   },
   {
    "duration": 46,
    "start_time": "2023-09-29T10:15:13.714Z"
   },
   {
    "duration": 148,
    "start_time": "2023-09-29T10:15:13.763Z"
   },
   {
    "duration": 3317,
    "start_time": "2023-09-29T10:15:13.914Z"
   },
   {
    "duration": 10,
    "start_time": "2023-09-29T10:15:17.233Z"
   },
   {
    "duration": 1921,
    "start_time": "2023-09-29T10:16:42.012Z"
   },
   {
    "duration": 1411,
    "start_time": "2023-09-29T10:16:43.935Z"
   },
   {
    "duration": 22,
    "start_time": "2023-09-29T10:16:45.348Z"
   },
   {
    "duration": 225,
    "start_time": "2023-09-29T10:16:45.371Z"
   },
   {
    "duration": 4,
    "start_time": "2023-09-29T10:16:45.599Z"
   },
   {
    "duration": 84,
    "start_time": "2023-09-29T10:16:45.605Z"
   },
   {
    "duration": 327,
    "start_time": "2023-09-29T10:16:45.690Z"
   },
   {
    "duration": 314,
    "start_time": "2023-09-29T10:16:46.020Z"
   },
   {
    "duration": 573,
    "start_time": "2023-09-29T10:16:46.336Z"
   },
   {
    "duration": 20,
    "start_time": "2023-09-29T10:16:46.911Z"
   },
   {
    "duration": 65,
    "start_time": "2023-09-29T10:16:46.932Z"
   },
   {
    "duration": 42,
    "start_time": "2023-09-29T10:16:46.999Z"
   },
   {
    "duration": 304,
    "start_time": "2023-09-29T10:16:47.043Z"
   },
   {
    "duration": 503,
    "start_time": "2023-09-29T10:16:47.352Z"
   },
   {
    "duration": 27,
    "start_time": "2023-09-29T10:16:47.858Z"
   },
   {
    "duration": 102,
    "start_time": "2023-09-29T10:16:47.887Z"
   },
   {
    "duration": 32,
    "start_time": "2023-09-29T10:16:47.991Z"
   },
   {
    "duration": 54,
    "start_time": "2023-09-29T10:16:48.025Z"
   },
   {
    "duration": 82,
    "start_time": "2023-09-29T10:16:48.081Z"
   },
   {
    "duration": 51,
    "start_time": "2023-09-29T10:16:48.165Z"
   },
   {
    "duration": 58,
    "start_time": "2023-09-29T10:16:48.217Z"
   },
   {
    "duration": 99,
    "start_time": "2023-09-29T10:16:48.277Z"
   },
   {
    "duration": 3,
    "start_time": "2023-09-29T10:16:48.378Z"
   },
   {
    "duration": 21156,
    "start_time": "2023-09-29T10:16:48.383Z"
   },
   {
    "duration": 46,
    "start_time": "2023-09-29T10:17:09.541Z"
   },
   {
    "duration": 13,
    "start_time": "2023-09-29T10:17:09.589Z"
   },
   {
    "duration": 52,
    "start_time": "2023-09-29T10:17:09.605Z"
   },
   {
    "duration": 19,
    "start_time": "2023-09-29T10:17:09.659Z"
   },
   {
    "duration": 93,
    "start_time": "2023-09-29T10:17:09.680Z"
   },
   {
    "duration": 3249,
    "start_time": "2023-09-29T10:17:09.776Z"
   },
   {
    "duration": 5,
    "start_time": "2023-09-29T10:17:13.028Z"
   },
   {
    "duration": 271,
    "start_time": "2023-09-29T10:17:13.035Z"
   },
   {
    "duration": 0,
    "start_time": "2023-09-29T10:17:13.308Z"
   },
   {
    "duration": 0,
    "start_time": "2023-09-29T10:17:13.309Z"
   },
   {
    "duration": 0,
    "start_time": "2023-09-29T10:17:13.311Z"
   },
   {
    "duration": 0,
    "start_time": "2023-09-29T10:17:13.312Z"
   },
   {
    "duration": 0,
    "start_time": "2023-09-29T10:17:13.313Z"
   },
   {
    "duration": 0,
    "start_time": "2023-09-29T10:17:13.314Z"
   },
   {
    "duration": 0,
    "start_time": "2023-09-29T10:17:13.315Z"
   },
   {
    "duration": 0,
    "start_time": "2023-09-29T10:17:13.316Z"
   },
   {
    "duration": 0,
    "start_time": "2023-09-29T10:17:13.318Z"
   },
   {
    "duration": 0,
    "start_time": "2023-09-29T10:17:13.319Z"
   },
   {
    "duration": 0,
    "start_time": "2023-09-29T10:17:13.320Z"
   },
   {
    "duration": 79,
    "start_time": "2023-09-29T10:17:27.112Z"
   },
   {
    "duration": 147,
    "start_time": "2023-09-29T10:18:49.233Z"
   },
   {
    "duration": 144,
    "start_time": "2023-09-29T10:20:26.064Z"
   },
   {
    "duration": 130,
    "start_time": "2023-09-29T10:20:31.554Z"
   },
   {
    "duration": 123,
    "start_time": "2023-09-29T10:20:38.185Z"
   },
   {
    "duration": 99,
    "start_time": "2023-09-29T10:20:43.265Z"
   },
   {
    "duration": 5,
    "start_time": "2023-09-29T10:20:48.449Z"
   },
   {
    "duration": 414,
    "start_time": "2023-09-29T10:20:50.810Z"
   },
   {
    "duration": 9823,
    "start_time": "2023-09-29T10:21:01.105Z"
   },
   {
    "duration": 9475,
    "start_time": "2023-09-29T10:21:29.681Z"
   },
   {
    "duration": 9941,
    "start_time": "2023-09-29T10:23:32.225Z"
   },
   {
    "duration": 9561,
    "start_time": "2023-09-29T10:24:46.098Z"
   },
   {
    "duration": 10196,
    "start_time": "2023-09-29T10:25:04.074Z"
   },
   {
    "duration": 9447,
    "start_time": "2023-09-29T10:25:46.105Z"
   },
   {
    "duration": 4,
    "start_time": "2023-09-29T10:26:21.026Z"
   },
   {
    "duration": 84,
    "start_time": "2023-09-29T10:26:22.937Z"
   },
   {
    "duration": 596,
    "start_time": "2023-09-29T10:26:23.513Z"
   },
   {
    "duration": 4,
    "start_time": "2023-09-29T10:26:36.930Z"
   },
   {
    "duration": 84,
    "start_time": "2023-09-29T10:26:39.009Z"
   },
   {
    "duration": 9872,
    "start_time": "2023-09-29T10:26:39.394Z"
   },
   {
    "duration": 1463,
    "start_time": "2023-09-29T10:26:58.017Z"
   },
   {
    "duration": 10633,
    "start_time": "2023-09-29T10:27:12.402Z"
   },
   {
    "duration": 20,
    "start_time": "2023-09-29T10:30:56.424Z"
   },
   {
    "duration": 593,
    "start_time": "2023-09-29T10:31:01.233Z"
   },
   {
    "duration": 5,
    "start_time": "2023-09-29T10:31:04.801Z"
   },
   {
    "duration": 14,
    "start_time": "2023-09-29T10:31:29.265Z"
   },
   {
    "duration": 4,
    "start_time": "2023-09-29T10:31:38.369Z"
   },
   {
    "duration": 87,
    "start_time": "2023-09-29T10:31:40.027Z"
   },
   {
    "duration": 1501,
    "start_time": "2023-09-29T10:31:40.610Z"
   },
   {
    "duration": 5,
    "start_time": "2023-09-29T10:31:42.609Z"
   },
   {
    "duration": 2003,
    "start_time": "2023-09-29T10:31:43.906Z"
   },
   {
    "duration": 3,
    "start_time": "2023-09-29T10:31:58.658Z"
   },
   {
    "duration": 4,
    "start_time": "2023-09-29T10:31:59.145Z"
   },
   {
    "duration": 7,
    "start_time": "2023-09-29T10:32:00.058Z"
   },
   {
    "duration": 45801,
    "start_time": "2023-09-29T10:32:02.050Z"
   },
   {
    "duration": 1770,
    "start_time": "2023-09-29T10:32:56.210Z"
   },
   {
    "duration": 0,
    "start_time": "2023-09-29T10:32:57.982Z"
   },
   {
    "duration": 909,
    "start_time": "2023-09-29T10:32:58.593Z"
   },
   {
    "duration": 0,
    "start_time": "2023-09-29T10:32:59.504Z"
   },
   {
    "duration": 0,
    "start_time": "2023-09-29T10:32:59.505Z"
   },
   {
    "duration": 12,
    "start_time": "2023-09-29T10:32:59.520Z"
   },
   {
    "duration": 13,
    "start_time": "2023-09-29T10:32:59.866Z"
   },
   {
    "duration": 45566,
    "start_time": "2023-09-29T10:33:25.497Z"
   },
   {
    "duration": 1561,
    "start_time": "2023-09-29T10:38:48.027Z"
   },
   {
    "duration": 926,
    "start_time": "2023-09-29T10:38:49.590Z"
   },
   {
    "duration": 27,
    "start_time": "2023-09-29T10:38:50.518Z"
   },
   {
    "duration": 187,
    "start_time": "2023-09-29T10:38:50.546Z"
   },
   {
    "duration": 9,
    "start_time": "2023-09-29T10:38:50.736Z"
   },
   {
    "duration": 103,
    "start_time": "2023-09-29T10:38:50.746Z"
   },
   {
    "duration": 315,
    "start_time": "2023-09-29T10:38:50.850Z"
   },
   {
    "duration": 305,
    "start_time": "2023-09-29T10:38:51.167Z"
   },
   {
    "duration": 521,
    "start_time": "2023-09-29T10:38:51.474Z"
   },
   {
    "duration": 21,
    "start_time": "2023-09-29T10:38:51.998Z"
   },
   {
    "duration": 59,
    "start_time": "2023-09-29T10:38:52.022Z"
   },
   {
    "duration": 43,
    "start_time": "2023-09-29T10:38:52.083Z"
   },
   {
    "duration": 374,
    "start_time": "2023-09-29T10:38:52.128Z"
   },
   {
    "duration": 633,
    "start_time": "2023-09-29T10:38:52.505Z"
   },
   {
    "duration": 27,
    "start_time": "2023-09-29T10:38:53.141Z"
   },
   {
    "duration": 100,
    "start_time": "2023-09-29T10:38:53.171Z"
   },
   {
    "duration": 34,
    "start_time": "2023-09-29T10:38:53.273Z"
   },
   {
    "duration": 93,
    "start_time": "2023-09-29T10:38:53.309Z"
   },
   {
    "duration": 41,
    "start_time": "2023-09-29T10:38:53.404Z"
   },
   {
    "duration": 34,
    "start_time": "2023-09-29T10:38:53.447Z"
   },
   {
    "duration": 77,
    "start_time": "2023-09-29T10:38:53.483Z"
   },
   {
    "duration": 98,
    "start_time": "2023-09-29T10:38:53.562Z"
   },
   {
    "duration": 4,
    "start_time": "2023-09-29T10:38:53.663Z"
   },
   {
    "duration": 20132,
    "start_time": "2023-09-29T10:38:53.669Z"
   },
   {
    "duration": 53,
    "start_time": "2023-09-29T10:39:13.832Z"
   },
   {
    "duration": 13,
    "start_time": "2023-09-29T10:39:13.888Z"
   },
   {
    "duration": 12,
    "start_time": "2023-09-29T10:39:13.903Z"
   },
   {
    "duration": 67,
    "start_time": "2023-09-29T10:39:13.916Z"
   },
   {
    "duration": 74,
    "start_time": "2023-09-29T10:39:13.985Z"
   },
   {
    "duration": 1536,
    "start_time": "2023-09-29T10:39:14.061Z"
   },
   {
    "duration": 6,
    "start_time": "2023-09-29T10:39:15.599Z"
   },
   {
    "duration": 1910,
    "start_time": "2023-09-29T10:39:15.607Z"
   },
   {
    "duration": 3,
    "start_time": "2023-09-29T10:39:17.519Z"
   },
   {
    "duration": 16,
    "start_time": "2023-09-29T10:39:17.524Z"
   },
   {
    "duration": 12,
    "start_time": "2023-09-29T10:39:17.541Z"
   },
   {
    "duration": 45291,
    "start_time": "2023-09-29T10:39:17.555Z"
   },
   {
    "duration": 1622,
    "start_time": "2023-09-29T10:44:55.553Z"
   },
   {
    "duration": 929,
    "start_time": "2023-09-29T10:44:57.177Z"
   },
   {
    "duration": 18,
    "start_time": "2023-09-29T10:44:58.108Z"
   },
   {
    "duration": 163,
    "start_time": "2023-09-29T10:44:58.127Z"
   },
   {
    "duration": 3,
    "start_time": "2023-09-29T10:44:58.293Z"
   },
   {
    "duration": 116,
    "start_time": "2023-09-29T10:44:58.298Z"
   },
   {
    "duration": 345,
    "start_time": "2023-09-29T10:44:58.416Z"
   },
   {
    "duration": 348,
    "start_time": "2023-09-29T10:44:58.762Z"
   },
   {
    "duration": 576,
    "start_time": "2023-09-29T10:44:59.112Z"
   },
   {
    "duration": 22,
    "start_time": "2023-09-29T10:44:59.691Z"
   },
   {
    "duration": 64,
    "start_time": "2023-09-29T10:44:59.715Z"
   },
   {
    "duration": 34,
    "start_time": "2023-09-29T10:44:59.781Z"
   },
   {
    "duration": 370,
    "start_time": "2023-09-29T10:44:59.817Z"
   },
   {
    "duration": 529,
    "start_time": "2023-09-29T10:45:00.191Z"
   },
   {
    "duration": 30,
    "start_time": "2023-09-29T10:45:00.722Z"
   },
   {
    "duration": 105,
    "start_time": "2023-09-29T10:45:00.754Z"
   },
   {
    "duration": 34,
    "start_time": "2023-09-29T10:45:00.862Z"
   },
   {
    "duration": 125,
    "start_time": "2023-09-29T10:45:00.899Z"
   },
   {
    "duration": 171,
    "start_time": "2023-09-29T10:45:01.026Z"
   },
   {
    "duration": 130,
    "start_time": "2023-09-29T10:45:01.199Z"
   },
   {
    "duration": 152,
    "start_time": "2023-09-29T10:45:01.330Z"
   },
   {
    "duration": 216,
    "start_time": "2023-09-29T10:45:01.484Z"
   },
   {
    "duration": 217,
    "start_time": "2023-09-29T10:45:01.702Z"
   },
   {
    "duration": 21382,
    "start_time": "2023-09-29T10:45:01.921Z"
   },
   {
    "duration": 52,
    "start_time": "2023-09-29T10:45:23.306Z"
   },
   {
    "duration": 16,
    "start_time": "2023-09-29T10:45:23.365Z"
   },
   {
    "duration": 15,
    "start_time": "2023-09-29T10:45:23.384Z"
   },
   {
    "duration": 5,
    "start_time": "2023-09-29T10:45:23.401Z"
   },
   {
    "duration": 110,
    "start_time": "2023-09-29T10:45:23.408Z"
   },
   {
    "duration": 1714,
    "start_time": "2023-09-29T10:45:23.520Z"
   },
   {
    "duration": 11,
    "start_time": "2023-09-29T10:45:25.236Z"
   },
   {
    "duration": 152,
    "start_time": "2023-09-29T10:45:25.252Z"
   },
   {
    "duration": 0,
    "start_time": "2023-09-29T10:45:25.406Z"
   },
   {
    "duration": 0,
    "start_time": "2023-09-29T10:45:25.408Z"
   },
   {
    "duration": 0,
    "start_time": "2023-09-29T10:45:25.409Z"
   },
   {
    "duration": 0,
    "start_time": "2023-09-29T10:45:25.411Z"
   },
   {
    "duration": 0,
    "start_time": "2023-09-29T10:45:25.411Z"
   },
   {
    "duration": 0,
    "start_time": "2023-09-29T10:45:25.413Z"
   },
   {
    "duration": 0,
    "start_time": "2023-09-29T10:45:25.415Z"
   },
   {
    "duration": 0,
    "start_time": "2023-09-29T10:45:25.416Z"
   },
   {
    "duration": 0,
    "start_time": "2023-09-29T10:45:25.417Z"
   },
   {
    "duration": 0,
    "start_time": "2023-09-29T10:45:25.418Z"
   },
   {
    "duration": 0,
    "start_time": "2023-09-29T10:45:25.419Z"
   },
   {
    "duration": 103,
    "start_time": "2023-09-29T10:46:54.586Z"
   },
   {
    "duration": 282,
    "start_time": "2023-09-29T10:47:56.698Z"
   },
   {
    "duration": 370,
    "start_time": "2023-09-29T10:48:04.507Z"
   },
   {
    "duration": 329,
    "start_time": "2023-09-29T10:48:10.586Z"
   },
   {
    "duration": 353,
    "start_time": "2023-09-29T10:48:23.346Z"
   },
   {
    "duration": 340,
    "start_time": "2023-09-29T10:48:29.473Z"
   },
   {
    "duration": 2,
    "start_time": "2023-09-29T10:48:31.970Z"
   },
   {
    "duration": 3,
    "start_time": "2023-09-29T10:48:32.350Z"
   },
   {
    "duration": 5,
    "start_time": "2023-09-29T10:48:32.634Z"
   },
   {
    "duration": 36,
    "start_time": "2023-09-29T10:48:33.528Z"
   },
   {
    "duration": 12585,
    "start_time": "2023-09-29T10:48:36.051Z"
   },
   {
    "duration": 61,
    "start_time": "2023-09-29T10:48:51.064Z"
   },
   {
    "duration": 3,
    "start_time": "2023-09-29T10:49:15.122Z"
   },
   {
    "duration": 3,
    "start_time": "2023-09-29T10:49:15.825Z"
   },
   {
    "duration": 5,
    "start_time": "2023-09-29T10:49:16.082Z"
   },
   {
    "duration": 82943,
    "start_time": "2023-09-29T10:49:16.714Z"
   },
   {
    "duration": 1935,
    "start_time": "2023-09-29T10:57:21.834Z"
   },
   {
    "duration": 1007,
    "start_time": "2023-09-29T10:57:23.772Z"
   },
   {
    "duration": 18,
    "start_time": "2023-09-29T10:57:24.781Z"
   },
   {
    "duration": 170,
    "start_time": "2023-09-29T10:57:24.800Z"
   },
   {
    "duration": 4,
    "start_time": "2023-09-29T10:57:24.973Z"
   },
   {
    "duration": 90,
    "start_time": "2023-09-29T10:57:24.980Z"
   },
   {
    "duration": 340,
    "start_time": "2023-09-29T10:57:25.073Z"
   },
   {
    "duration": 301,
    "start_time": "2023-09-29T10:57:25.415Z"
   },
   {
    "duration": 523,
    "start_time": "2023-09-29T10:57:25.719Z"
   },
   {
    "duration": 21,
    "start_time": "2023-09-29T10:57:26.244Z"
   },
   {
    "duration": 44,
    "start_time": "2023-09-29T10:57:26.267Z"
   },
   {
    "duration": 56,
    "start_time": "2023-09-29T10:57:26.313Z"
   },
   {
    "duration": 305,
    "start_time": "2023-09-29T10:57:26.371Z"
   },
   {
    "duration": 510,
    "start_time": "2023-09-29T10:57:26.679Z"
   },
   {
    "duration": 25,
    "start_time": "2023-09-29T10:57:27.192Z"
   },
   {
    "duration": 97,
    "start_time": "2023-09-29T10:57:27.219Z"
   },
   {
    "duration": 48,
    "start_time": "2023-09-29T10:57:27.318Z"
   },
   {
    "duration": 50,
    "start_time": "2023-09-29T10:57:27.368Z"
   },
   {
    "duration": 52,
    "start_time": "2023-09-29T10:57:27.421Z"
   },
   {
    "duration": 47,
    "start_time": "2023-09-29T10:57:27.475Z"
   },
   {
    "duration": 42,
    "start_time": "2023-09-29T10:57:27.524Z"
   },
   {
    "duration": 92,
    "start_time": "2023-09-29T10:57:27.568Z"
   },
   {
    "duration": 4,
    "start_time": "2023-09-29T10:57:27.662Z"
   },
   {
    "duration": 20363,
    "start_time": "2023-09-29T10:57:27.668Z"
   },
   {
    "duration": 53,
    "start_time": "2023-09-29T10:57:48.034Z"
   },
   {
    "duration": 14,
    "start_time": "2023-09-29T10:57:48.089Z"
   },
   {
    "duration": 51,
    "start_time": "2023-09-29T10:57:48.105Z"
   },
   {
    "duration": 20,
    "start_time": "2023-09-29T10:57:48.158Z"
   },
   {
    "duration": 1016,
    "start_time": "2023-09-29T10:57:48.180Z"
   },
   {
    "duration": 5,
    "start_time": "2023-09-29T10:58:06.106Z"
   },
   {
    "duration": 39,
    "start_time": "2023-09-29T10:58:14.186Z"
   },
   {
    "duration": 4,
    "start_time": "2023-09-29T10:58:59.665Z"
   },
   {
    "duration": 189,
    "start_time": "2023-09-29T11:02:16.563Z"
   },
   {
    "duration": 456,
    "start_time": "2023-09-29T11:02:51.891Z"
   },
   {
    "duration": 6,
    "start_time": "2023-09-29T11:02:59.851Z"
   },
   {
    "duration": 608,
    "start_time": "2023-09-29T11:03:07.302Z"
   },
   {
    "duration": 733,
    "start_time": "2023-09-29T11:04:20.282Z"
   },
   {
    "duration": 4,
    "start_time": "2023-09-29T11:04:21.563Z"
   },
   {
    "duration": 17,
    "start_time": "2023-09-29T11:04:52.147Z"
   },
   {
    "duration": 1110,
    "start_time": "2023-09-29T11:05:04.170Z"
   },
   {
    "duration": 12,
    "start_time": "2023-09-29T11:05:05.874Z"
   },
   {
    "duration": 7,
    "start_time": "2023-09-29T11:05:17.371Z"
   },
   {
    "duration": 15,
    "start_time": "2023-09-29T11:06:52.659Z"
   },
   {
    "duration": 14,
    "start_time": "2023-09-29T11:07:20.908Z"
   },
   {
    "duration": 29,
    "start_time": "2023-09-29T11:08:03.171Z"
   },
   {
    "duration": 868,
    "start_time": "2023-09-29T11:08:33.131Z"
   },
   {
    "duration": 7,
    "start_time": "2023-09-29T11:08:34.698Z"
   },
   {
    "duration": 30,
    "start_time": "2023-09-29T11:08:42.507Z"
   },
   {
    "duration": 5,
    "start_time": "2023-09-29T11:08:53.708Z"
   },
   {
    "duration": 100,
    "start_time": "2023-09-29T11:08:55.412Z"
   },
   {
    "duration": 103,
    "start_time": "2023-09-29T11:09:10.300Z"
   },
   {
    "duration": 492,
    "start_time": "2023-09-29T11:09:20.506Z"
   },
   {
    "duration": 125,
    "start_time": "2023-09-29T11:09:29.251Z"
   },
   {
    "duration": 134,
    "start_time": "2023-09-29T11:09:44.372Z"
   },
   {
    "duration": 15,
    "start_time": "2023-09-29T11:10:44.696Z"
   },
   {
    "duration": 3,
    "start_time": "2023-09-29T11:10:50.779Z"
   },
   {
    "duration": 4,
    "start_time": "2023-09-29T11:10:52.021Z"
   },
   {
    "duration": 12,
    "start_time": "2023-09-29T11:10:52.028Z"
   },
   {
    "duration": 40,
    "start_time": "2023-09-29T11:10:54.308Z"
   },
   {
    "duration": 4,
    "start_time": "2023-09-29T11:37:30.110Z"
   },
   {
    "duration": 910,
    "start_time": "2023-09-29T11:37:30.117Z"
   },
   {
    "duration": 19,
    "start_time": "2023-09-29T11:37:31.030Z"
   },
   {
    "duration": 188,
    "start_time": "2023-09-29T11:37:31.051Z"
   },
   {
    "duration": 93,
    "start_time": "2023-09-29T11:37:31.243Z"
   },
   {
    "duration": 87,
    "start_time": "2023-09-29T11:37:31.338Z"
   },
   {
    "duration": 344,
    "start_time": "2023-09-29T11:37:31.428Z"
   },
   {
    "duration": 463,
    "start_time": "2023-09-29T11:37:31.774Z"
   },
   {
    "duration": 568,
    "start_time": "2023-09-29T11:37:32.239Z"
   },
   {
    "duration": 15,
    "start_time": "2023-09-29T11:37:32.809Z"
   },
   {
    "duration": 49,
    "start_time": "2023-09-29T11:37:32.826Z"
   },
   {
    "duration": 26,
    "start_time": "2023-09-29T11:37:32.877Z"
   },
   {
    "duration": 790,
    "start_time": "2023-09-29T11:37:32.905Z"
   },
   {
    "duration": 431,
    "start_time": "2023-09-29T11:37:33.697Z"
   },
   {
    "duration": 33,
    "start_time": "2023-09-29T11:37:34.130Z"
   },
   {
    "duration": 89,
    "start_time": "2023-09-29T11:37:34.165Z"
   },
   {
    "duration": 1703,
    "start_time": "2023-09-29T11:38:17.973Z"
   },
   {
    "duration": 997,
    "start_time": "2023-09-29T11:38:19.678Z"
   },
   {
    "duration": 29,
    "start_time": "2023-09-29T11:38:20.677Z"
   },
   {
    "duration": 192,
    "start_time": "2023-09-29T11:38:20.709Z"
   },
   {
    "duration": 4,
    "start_time": "2023-09-29T11:38:20.905Z"
   },
   {
    "duration": 87,
    "start_time": "2023-09-29T11:38:20.911Z"
   },
   {
    "duration": 348,
    "start_time": "2023-09-29T11:38:21.000Z"
   },
   {
    "duration": 310,
    "start_time": "2023-09-29T11:38:21.350Z"
   },
   {
    "duration": 600,
    "start_time": "2023-09-29T11:38:21.662Z"
   },
   {
    "duration": 22,
    "start_time": "2023-09-29T11:38:22.264Z"
   },
   {
    "duration": 59,
    "start_time": "2023-09-29T11:38:22.288Z"
   },
   {
    "duration": 31,
    "start_time": "2023-09-29T11:38:22.349Z"
   },
   {
    "duration": 304,
    "start_time": "2023-09-29T11:38:22.382Z"
   },
   {
    "duration": 503,
    "start_time": "2023-09-29T11:38:22.689Z"
   },
   {
    "duration": 27,
    "start_time": "2023-09-29T11:38:23.194Z"
   },
   {
    "duration": 105,
    "start_time": "2023-09-29T11:38:23.223Z"
   },
   {
    "duration": 63,
    "start_time": "2023-09-29T11:38:23.330Z"
   },
   {
    "duration": 59,
    "start_time": "2023-09-29T11:38:23.395Z"
   },
   {
    "duration": 69,
    "start_time": "2023-09-29T11:38:23.456Z"
   },
   {
    "duration": 58,
    "start_time": "2023-09-29T11:38:23.528Z"
   },
   {
    "duration": 65,
    "start_time": "2023-09-29T11:38:23.588Z"
   },
   {
    "duration": 100,
    "start_time": "2023-09-29T11:38:23.656Z"
   },
   {
    "duration": 10,
    "start_time": "2023-09-29T11:38:23.758Z"
   },
   {
    "duration": 21115,
    "start_time": "2023-09-29T11:38:23.770Z"
   },
   {
    "duration": 56,
    "start_time": "2023-09-29T11:38:44.908Z"
   },
   {
    "duration": 18,
    "start_time": "2023-09-29T11:38:44.966Z"
   },
   {
    "duration": 48,
    "start_time": "2023-09-29T11:38:44.987Z"
   },
   {
    "duration": 69,
    "start_time": "2023-09-29T11:38:45.037Z"
   },
   {
    "duration": 1061,
    "start_time": "2023-09-29T11:38:45.108Z"
   },
   {
    "duration": 5,
    "start_time": "2023-09-29T11:38:46.171Z"
   },
   {
    "duration": 715,
    "start_time": "2023-09-29T11:38:46.178Z"
   },
   {
    "duration": 4,
    "start_time": "2023-09-29T11:38:46.895Z"
   },
   {
    "duration": 470,
    "start_time": "2023-09-29T11:38:46.901Z"
   },
   {
    "duration": 3,
    "start_time": "2023-09-29T11:38:47.373Z"
   },
   {
    "duration": 19,
    "start_time": "2023-09-29T11:38:47.377Z"
   },
   {
    "duration": 20,
    "start_time": "2023-09-29T11:38:47.397Z"
   },
   {
    "duration": 146,
    "start_time": "2023-09-29T11:38:47.419Z"
   },
   {
    "duration": 0,
    "start_time": "2023-09-29T11:38:47.567Z"
   },
   {
    "duration": 0,
    "start_time": "2023-09-29T11:38:47.569Z"
   },
   {
    "duration": 0,
    "start_time": "2023-09-29T11:38:47.570Z"
   },
   {
    "duration": 0,
    "start_time": "2023-09-29T11:38:47.572Z"
   },
   {
    "duration": 0,
    "start_time": "2023-09-29T11:38:47.573Z"
   },
   {
    "duration": 0,
    "start_time": "2023-09-29T11:38:47.575Z"
   },
   {
    "duration": 0,
    "start_time": "2023-09-29T11:38:47.576Z"
   },
   {
    "duration": 79,
    "start_time": "2023-09-29T11:39:19.092Z"
   },
   {
    "duration": 61,
    "start_time": "2023-09-29T11:40:02.533Z"
   },
   {
    "duration": 117,
    "start_time": "2023-09-29T11:40:12.309Z"
   },
   {
    "duration": 51,
    "start_time": "2023-09-29T11:40:14.868Z"
   },
   {
    "duration": 981,
    "start_time": "2023-09-29T11:40:34.653Z"
   },
   {
    "duration": 11,
    "start_time": "2023-09-29T11:40:41.651Z"
   },
   {
    "duration": 40512,
    "start_time": "2023-09-29T11:41:00.141Z"
   },
   {
    "duration": 3,
    "start_time": "2023-09-29T11:42:15.588Z"
   },
   {
    "duration": 30376,
    "start_time": "2023-09-29T11:42:19.468Z"
   },
   {
    "duration": 5,
    "start_time": "2023-09-29T11:44:50.628Z"
   },
   {
    "duration": 5,
    "start_time": "2023-09-29T11:44:52.810Z"
   },
   {
    "duration": 24937,
    "start_time": "2023-09-29T11:50:24.413Z"
   },
   {
    "duration": 44081,
    "start_time": "2023-09-29T11:51:11.781Z"
   },
   {
    "duration": 79023,
    "start_time": "2023-09-29T11:52:01.733Z"
   },
   {
    "duration": 60174,
    "start_time": "2023-09-29T11:53:43.589Z"
   },
   {
    "duration": 3,
    "start_time": "2023-09-29T11:57:55.538Z"
   },
   {
    "duration": 4,
    "start_time": "2023-09-29T11:57:56.229Z"
   },
   {
    "duration": 10,
    "start_time": "2023-09-29T11:57:56.541Z"
   },
   {
    "duration": 33368,
    "start_time": "2023-09-29T11:58:03.191Z"
   },
   {
    "duration": 19,
    "start_time": "2023-09-29T11:58:36.561Z"
   },
   {
    "duration": 1,
    "start_time": "2023-09-29T11:58:36.644Z"
   },
   {
    "duration": 23,
    "start_time": "2023-09-29T11:59:26.081Z"
   },
   {
    "duration": 690,
    "start_time": "2023-09-29T12:00:10.462Z"
   },
   {
    "duration": 34,
    "start_time": "2023-09-29T12:00:15.293Z"
   },
   {
    "duration": 727,
    "start_time": "2023-09-29T12:00:44.590Z"
   },
   {
    "duration": 976,
    "start_time": "2023-09-29T12:00:54.355Z"
   },
   {
    "duration": 693,
    "start_time": "2023-09-29T12:01:03.237Z"
   },
   {
    "duration": 605,
    "start_time": "2023-09-29T12:01:53.533Z"
   },
   {
    "duration": 544,
    "start_time": "2023-09-29T12:01:58.973Z"
   },
   {
    "duration": 521,
    "start_time": "2023-09-29T12:02:01.109Z"
   },
   {
    "duration": 79,
    "start_time": "2023-09-29T12:02:06.076Z"
   },
   {
    "duration": 61133,
    "start_time": "2023-09-29T12:02:09.014Z"
   },
   {
    "duration": 290808,
    "start_time": "2023-09-29T12:05:01.034Z"
   },
   {
    "duration": 33231,
    "start_time": "2023-09-29T12:10:00.670Z"
   },
   {
    "duration": 13,
    "start_time": "2023-09-29T12:11:45.203Z"
   },
   {
    "duration": 11,
    "start_time": "2023-09-29T12:12:46.912Z"
   },
   {
    "duration": 197,
    "start_time": "2023-09-29T12:13:16.849Z"
   },
   {
    "duration": 20044,
    "start_time": "2023-09-29T12:14:02.229Z"
   },
   {
    "duration": 1518,
    "start_time": "2023-09-29T12:14:29.649Z"
   },
   {
    "duration": 5,
    "start_time": "2023-09-29T12:14:45.469Z"
   },
   {
    "duration": 40664,
    "start_time": "2023-09-29T12:16:06.128Z"
   },
   {
    "duration": 1586,
    "start_time": "2023-09-30T11:56:31.234Z"
   },
   {
    "duration": 1058,
    "start_time": "2023-09-30T11:56:32.822Z"
   },
   {
    "duration": 18,
    "start_time": "2023-09-30T11:56:33.881Z"
   },
   {
    "duration": 159,
    "start_time": "2023-09-30T11:56:33.900Z"
   },
   {
    "duration": 3,
    "start_time": "2023-09-30T11:56:34.061Z"
   },
   {
    "duration": 62,
    "start_time": "2023-09-30T11:56:34.065Z"
   },
   {
    "duration": 267,
    "start_time": "2023-09-30T11:56:34.129Z"
   },
   {
    "duration": 277,
    "start_time": "2023-09-30T11:56:34.397Z"
   },
   {
    "duration": 419,
    "start_time": "2023-09-30T11:56:34.675Z"
   },
   {
    "duration": 17,
    "start_time": "2023-09-30T11:56:35.096Z"
   },
   {
    "duration": 57,
    "start_time": "2023-09-30T11:56:35.114Z"
   },
   {
    "duration": 27,
    "start_time": "2023-09-30T11:56:35.173Z"
   },
   {
    "duration": 304,
    "start_time": "2023-09-30T11:56:35.202Z"
   },
   {
    "duration": 346,
    "start_time": "2023-09-30T11:56:35.509Z"
   },
   {
    "duration": 22,
    "start_time": "2023-09-30T11:56:35.856Z"
   },
   {
    "duration": 112,
    "start_time": "2023-09-30T11:56:35.880Z"
   },
   {
    "duration": 40,
    "start_time": "2023-09-30T11:56:35.994Z"
   },
   {
    "duration": 50,
    "start_time": "2023-09-30T11:56:36.036Z"
   },
   {
    "duration": 39,
    "start_time": "2023-09-30T11:56:36.089Z"
   },
   {
    "duration": 45,
    "start_time": "2023-09-30T11:56:36.130Z"
   },
   {
    "duration": 30,
    "start_time": "2023-09-30T11:56:36.177Z"
   },
   {
    "duration": 94,
    "start_time": "2023-09-30T11:56:36.209Z"
   },
   {
    "duration": 2,
    "start_time": "2023-09-30T11:56:36.305Z"
   },
   {
    "duration": 16758,
    "start_time": "2023-09-30T11:56:36.309Z"
   },
   {
    "duration": 44,
    "start_time": "2023-09-30T11:56:53.105Z"
   },
   {
    "duration": 13,
    "start_time": "2023-09-30T11:56:53.150Z"
   },
   {
    "duration": 2,
    "start_time": "2023-09-30T11:56:53.165Z"
   },
   {
    "duration": 31,
    "start_time": "2023-09-30T11:56:53.169Z"
   },
   {
    "duration": 872,
    "start_time": "2023-09-30T11:56:53.201Z"
   },
   {
    "duration": 4,
    "start_time": "2023-09-30T11:56:54.074Z"
   },
   {
    "duration": 538,
    "start_time": "2023-09-30T11:56:54.080Z"
   },
   {
    "duration": 4,
    "start_time": "2023-09-30T11:56:54.619Z"
   },
   {
    "duration": 121,
    "start_time": "2023-09-30T11:56:54.624Z"
   },
   {
    "duration": 0,
    "start_time": "2023-09-30T11:56:54.749Z"
   },
   {
    "duration": 0,
    "start_time": "2023-09-30T11:56:54.750Z"
   },
   {
    "duration": 0,
    "start_time": "2023-09-30T11:56:54.751Z"
   },
   {
    "duration": 0,
    "start_time": "2023-09-30T11:56:54.752Z"
   },
   {
    "duration": 0,
    "start_time": "2023-09-30T11:56:54.753Z"
   },
   {
    "duration": 0,
    "start_time": "2023-09-30T11:56:54.754Z"
   },
   {
    "duration": 0,
    "start_time": "2023-09-30T11:56:54.755Z"
   },
   {
    "duration": 1,
    "start_time": "2023-09-30T11:56:54.756Z"
   },
   {
    "duration": 0,
    "start_time": "2023-09-30T11:56:54.757Z"
   },
   {
    "duration": 0,
    "start_time": "2023-09-30T11:56:54.758Z"
   },
   {
    "duration": 0,
    "start_time": "2023-09-30T11:56:54.759Z"
   },
   {
    "duration": 0,
    "start_time": "2023-09-30T11:56:54.760Z"
   },
   {
    "duration": 0,
    "start_time": "2023-09-30T11:56:54.761Z"
   },
   {
    "duration": 0,
    "start_time": "2023-09-30T11:56:54.761Z"
   },
   {
    "duration": 0,
    "start_time": "2023-09-30T11:56:54.762Z"
   },
   {
    "duration": 0,
    "start_time": "2023-09-30T11:56:54.763Z"
   },
   {
    "duration": 0,
    "start_time": "2023-09-30T11:56:54.764Z"
   },
   {
    "duration": 0,
    "start_time": "2023-09-30T11:56:54.765Z"
   },
   {
    "duration": 0,
    "start_time": "2023-09-30T11:56:54.766Z"
   },
   {
    "duration": 1517,
    "start_time": "2023-09-30T12:00:54.986Z"
   },
   {
    "duration": 788,
    "start_time": "2023-09-30T12:00:56.505Z"
   },
   {
    "duration": 18,
    "start_time": "2023-09-30T12:00:57.294Z"
   },
   {
    "duration": 163,
    "start_time": "2023-09-30T12:00:57.313Z"
   },
   {
    "duration": 3,
    "start_time": "2023-09-30T12:00:57.479Z"
   },
   {
    "duration": 69,
    "start_time": "2023-09-30T12:00:57.484Z"
   },
   {
    "duration": 309,
    "start_time": "2023-09-30T12:00:57.554Z"
   },
   {
    "duration": 255,
    "start_time": "2023-09-30T12:00:57.865Z"
   },
   {
    "duration": 439,
    "start_time": "2023-09-30T12:00:58.122Z"
   },
   {
    "duration": 18,
    "start_time": "2023-09-30T12:00:58.563Z"
   },
   {
    "duration": 37,
    "start_time": "2023-09-30T12:00:58.583Z"
   },
   {
    "duration": 53,
    "start_time": "2023-09-30T12:00:58.622Z"
   },
   {
    "duration": 249,
    "start_time": "2023-09-30T12:00:58.676Z"
   },
   {
    "duration": 433,
    "start_time": "2023-09-30T12:00:58.928Z"
   },
   {
    "duration": 23,
    "start_time": "2023-09-30T12:00:59.362Z"
   },
   {
    "duration": 92,
    "start_time": "2023-09-30T12:00:59.386Z"
   },
   {
    "duration": 29,
    "start_time": "2023-09-30T12:00:59.480Z"
   },
   {
    "duration": 40,
    "start_time": "2023-09-30T12:00:59.511Z"
   },
   {
    "duration": 31,
    "start_time": "2023-09-30T12:00:59.553Z"
   },
   {
    "duration": 33,
    "start_time": "2023-09-30T12:00:59.586Z"
   },
   {
    "duration": 50,
    "start_time": "2023-09-30T12:00:59.621Z"
   },
   {
    "duration": 85,
    "start_time": "2023-09-30T12:00:59.673Z"
   },
   {
    "duration": 3,
    "start_time": "2023-09-30T12:00:59.759Z"
   },
   {
    "duration": 17792,
    "start_time": "2023-09-30T12:00:59.764Z"
   },
   {
    "duration": 46,
    "start_time": "2023-09-30T12:01:17.558Z"
   },
   {
    "duration": 14,
    "start_time": "2023-09-30T12:01:17.606Z"
   },
   {
    "duration": 23,
    "start_time": "2023-09-30T12:01:17.622Z"
   },
   {
    "duration": 52,
    "start_time": "2023-09-30T12:01:17.646Z"
   },
   {
    "duration": 947,
    "start_time": "2023-09-30T12:01:17.700Z"
   },
   {
    "duration": 5,
    "start_time": "2023-09-30T12:01:18.649Z"
   },
   {
    "duration": 658,
    "start_time": "2023-09-30T12:01:18.656Z"
   },
   {
    "duration": 4,
    "start_time": "2023-09-30T12:01:19.315Z"
   },
   {
    "duration": 439,
    "start_time": "2023-09-30T12:01:19.320Z"
   },
   {
    "duration": 2,
    "start_time": "2023-09-30T12:01:19.761Z"
   },
   {
    "duration": 43,
    "start_time": "2023-09-30T12:01:19.765Z"
   },
   {
    "duration": 30,
    "start_time": "2023-09-30T12:01:19.810Z"
   },
   {
    "duration": 25409,
    "start_time": "2023-09-30T12:01:19.841Z"
   },
   {
    "duration": 221,
    "start_time": "2023-09-30T12:01:45.252Z"
   },
   {
    "duration": 0,
    "start_time": "2023-09-30T12:01:45.475Z"
   },
   {
    "duration": 0,
    "start_time": "2023-09-30T12:01:45.477Z"
   },
   {
    "duration": 0,
    "start_time": "2023-09-30T12:01:45.478Z"
   },
   {
    "duration": 0,
    "start_time": "2023-09-30T12:01:45.479Z"
   },
   {
    "duration": 0,
    "start_time": "2023-09-30T12:01:45.480Z"
   },
   {
    "duration": 0,
    "start_time": "2023-09-30T12:01:45.481Z"
   },
   {
    "duration": 0,
    "start_time": "2023-09-30T12:01:45.483Z"
   },
   {
    "duration": 0,
    "start_time": "2023-09-30T12:01:45.484Z"
   },
   {
    "duration": 0,
    "start_time": "2023-09-30T12:01:45.485Z"
   },
   {
    "duration": 0,
    "start_time": "2023-09-30T12:01:45.486Z"
   },
   {
    "duration": 0,
    "start_time": "2023-09-30T12:01:45.487Z"
   },
   {
    "duration": 0,
    "start_time": "2023-09-30T12:01:45.488Z"
   },
   {
    "duration": 0,
    "start_time": "2023-09-30T12:01:45.490Z"
   },
   {
    "duration": 0,
    "start_time": "2023-09-30T12:01:45.490Z"
   },
   {
    "duration": 1336,
    "start_time": "2023-09-30T12:03:50.909Z"
   },
   {
    "duration": 822,
    "start_time": "2023-09-30T12:03:52.246Z"
   },
   {
    "duration": 18,
    "start_time": "2023-09-30T12:03:53.069Z"
   },
   {
    "duration": 171,
    "start_time": "2023-09-30T12:03:53.089Z"
   },
   {
    "duration": 3,
    "start_time": "2023-09-30T12:03:53.261Z"
   },
   {
    "duration": 128,
    "start_time": "2023-09-30T12:03:53.266Z"
   },
   {
    "duration": 317,
    "start_time": "2023-09-30T12:03:53.396Z"
   },
   {
    "duration": 271,
    "start_time": "2023-09-30T12:03:53.715Z"
   },
   {
    "duration": 462,
    "start_time": "2023-09-30T12:03:53.987Z"
   },
   {
    "duration": 19,
    "start_time": "2023-09-30T12:03:54.452Z"
   },
   {
    "duration": 50,
    "start_time": "2023-09-30T12:03:54.473Z"
   },
   {
    "duration": 39,
    "start_time": "2023-09-30T12:03:54.525Z"
   },
   {
    "duration": 258,
    "start_time": "2023-09-30T12:03:54.566Z"
   },
   {
    "duration": 428,
    "start_time": "2023-09-30T12:03:54.826Z"
   },
   {
    "duration": 24,
    "start_time": "2023-09-30T12:03:55.256Z"
   },
   {
    "duration": 88,
    "start_time": "2023-09-30T12:03:55.281Z"
   },
   {
    "duration": 31,
    "start_time": "2023-09-30T12:03:55.370Z"
   },
   {
    "duration": 49,
    "start_time": "2023-09-30T12:03:55.402Z"
   },
   {
    "duration": 33,
    "start_time": "2023-09-30T12:03:55.453Z"
   },
   {
    "duration": 30,
    "start_time": "2023-09-30T12:03:55.488Z"
   },
   {
    "duration": 49,
    "start_time": "2023-09-30T12:03:55.519Z"
   },
   {
    "duration": 84,
    "start_time": "2023-09-30T12:03:55.569Z"
   },
   {
    "duration": 2,
    "start_time": "2023-09-30T12:03:55.655Z"
   },
   {
    "duration": 17542,
    "start_time": "2023-09-30T12:03:55.659Z"
   },
   {
    "duration": 47,
    "start_time": "2023-09-30T12:04:13.202Z"
   },
   {
    "duration": 13,
    "start_time": "2023-09-30T12:04:13.251Z"
   },
   {
    "duration": 9,
    "start_time": "2023-09-30T12:04:13.266Z"
   },
   {
    "duration": 34,
    "start_time": "2023-09-30T12:04:13.278Z"
   },
   {
    "duration": 940,
    "start_time": "2023-09-30T12:04:13.314Z"
   },
   {
    "duration": 4,
    "start_time": "2023-09-30T12:04:14.256Z"
   },
   {
    "duration": 697,
    "start_time": "2023-09-30T12:04:14.261Z"
   },
   {
    "duration": 4,
    "start_time": "2023-09-30T12:04:14.959Z"
   },
   {
    "duration": 519,
    "start_time": "2023-09-30T12:04:14.964Z"
   },
   {
    "duration": 3,
    "start_time": "2023-09-30T12:04:15.484Z"
   },
   {
    "duration": 26,
    "start_time": "2023-09-30T12:04:15.488Z"
   },
   {
    "duration": 9,
    "start_time": "2023-09-30T12:04:15.515Z"
   },
   {
    "duration": 19334,
    "start_time": "2023-09-30T12:04:15.525Z"
   },
   {
    "duration": 213,
    "start_time": "2023-09-30T12:04:34.951Z"
   },
   {
    "duration": 0,
    "start_time": "2023-09-30T12:04:35.165Z"
   },
   {
    "duration": 0,
    "start_time": "2023-09-30T12:04:35.166Z"
   },
   {
    "duration": 0,
    "start_time": "2023-09-30T12:04:35.167Z"
   },
   {
    "duration": 0,
    "start_time": "2023-09-30T12:04:35.168Z"
   },
   {
    "duration": 0,
    "start_time": "2023-09-30T12:04:35.170Z"
   },
   {
    "duration": 0,
    "start_time": "2023-09-30T12:04:35.171Z"
   },
   {
    "duration": 0,
    "start_time": "2023-09-30T12:04:35.172Z"
   },
   {
    "duration": 0,
    "start_time": "2023-09-30T12:04:35.173Z"
   },
   {
    "duration": 0,
    "start_time": "2023-09-30T12:04:35.174Z"
   },
   {
    "duration": 0,
    "start_time": "2023-09-30T12:04:35.175Z"
   },
   {
    "duration": 0,
    "start_time": "2023-09-30T12:04:35.177Z"
   },
   {
    "duration": 0,
    "start_time": "2023-09-30T12:04:35.178Z"
   },
   {
    "duration": 0,
    "start_time": "2023-09-30T12:04:35.179Z"
   },
   {
    "duration": 0,
    "start_time": "2023-09-30T12:04:35.180Z"
   },
   {
    "duration": 19,
    "start_time": "2023-09-30T12:04:54.829Z"
   },
   {
    "duration": 110,
    "start_time": "2023-09-30T12:05:25.637Z"
   },
   {
    "duration": 3,
    "start_time": "2023-09-30T12:06:03.385Z"
   },
   {
    "duration": 897,
    "start_time": "2023-09-30T12:06:06.756Z"
   },
   {
    "duration": 4,
    "start_time": "2023-09-30T12:06:08.931Z"
   },
   {
    "duration": 615,
    "start_time": "2023-09-30T12:06:09.499Z"
   },
   {
    "duration": 743,
    "start_time": "2023-09-30T12:08:41.208Z"
   },
   {
    "duration": 5,
    "start_time": "2023-09-30T12:08:41.954Z"
   },
   {
    "duration": 18,
    "start_time": "2023-09-30T12:08:47.487Z"
   },
   {
    "duration": 604,
    "start_time": "2023-09-30T12:09:03.689Z"
   },
   {
    "duration": 3,
    "start_time": "2023-09-30T12:09:05.188Z"
   },
   {
    "duration": 20,
    "start_time": "2023-09-30T12:09:07.952Z"
   },
   {
    "duration": 612,
    "start_time": "2023-09-30T12:09:30.621Z"
   },
   {
    "duration": 585,
    "start_time": "2023-09-30T12:09:47.010Z"
   },
   {
    "duration": 19,
    "start_time": "2023-09-30T12:09:48.099Z"
   },
   {
    "duration": 23,
    "start_time": "2023-09-30T12:10:01.000Z"
   },
   {
    "duration": 528,
    "start_time": "2023-09-30T12:10:14.548Z"
   },
   {
    "duration": 20,
    "start_time": "2023-09-30T12:10:15.516Z"
   },
   {
    "duration": 576,
    "start_time": "2023-09-30T12:10:40.854Z"
   },
   {
    "duration": 19,
    "start_time": "2023-09-30T12:10:49.030Z"
   },
   {
    "duration": 4,
    "start_time": "2023-09-30T12:10:53.329Z"
   },
   {
    "duration": 388,
    "start_time": "2023-09-30T12:10:55.216Z"
   },
   {
    "duration": 3,
    "start_time": "2023-09-30T12:10:57.974Z"
   },
   {
    "duration": 3,
    "start_time": "2023-09-30T12:10:58.645Z"
   },
   {
    "duration": 5,
    "start_time": "2023-09-30T12:10:59.654Z"
   },
   {
    "duration": 18968,
    "start_time": "2023-09-30T12:11:01.285Z"
   },
   {
    "duration": 52,
    "start_time": "2023-09-30T12:11:24.818Z"
   },
   {
    "duration": 38504,
    "start_time": "2023-09-30T12:11:26.556Z"
   },
   {
    "duration": 238395,
    "start_time": "2023-09-30T12:12:22.033Z"
   },
   {
    "duration": 19191,
    "start_time": "2023-09-30T12:16:24.632Z"
   },
   {
    "duration": 25513,
    "start_time": "2023-09-30T12:16:43.824Z"
   },
   {
    "duration": 1950,
    "start_time": "2023-09-30T12:17:09.338Z"
   },
   {
    "duration": 36070,
    "start_time": "2023-09-30T12:17:11.290Z"
   },
   {
    "duration": 835,
    "start_time": "2023-09-30T12:17:47.361Z"
   },
   {
    "duration": 0,
    "start_time": "2023-09-30T12:17:48.198Z"
   },
   {
    "duration": 0,
    "start_time": "2023-09-30T12:17:48.199Z"
   },
   {
    "duration": 0,
    "start_time": "2023-09-30T12:17:48.200Z"
   },
   {
    "duration": 0,
    "start_time": "2023-09-30T12:17:48.201Z"
   },
   {
    "duration": 0,
    "start_time": "2023-09-30T12:17:48.202Z"
   },
   {
    "duration": 31486,
    "start_time": "2023-09-30T12:19:23.742Z"
   },
   {
    "duration": 188430,
    "start_time": "2023-09-30T12:19:55.230Z"
   },
   {
    "duration": 2866,
    "start_time": "2023-09-30T12:24:13.439Z"
   },
   {
    "duration": 19461,
    "start_time": "2023-09-30T12:24:16.307Z"
   },
   {
    "duration": 6323,
    "start_time": "2023-09-30T12:25:21.032Z"
   },
   {
    "duration": 45814,
    "start_time": "2023-09-30T12:25:33.136Z"
   },
   {
    "duration": 4522,
    "start_time": "2023-09-30T12:26:18.952Z"
   },
   {
    "duration": 16179,
    "start_time": "2023-09-30T12:26:23.476Z"
   },
   {
    "duration": 1199,
    "start_time": "2023-09-30T12:26:39.657Z"
   },
   {
    "duration": 8502,
    "start_time": "2023-09-30T12:26:40.858Z"
   },
   {
    "duration": 11,
    "start_time": "2023-09-30T12:30:06.282Z"
   },
   {
    "duration": 11,
    "start_time": "2023-09-30T12:30:16.367Z"
   },
   {
    "duration": 17,
    "start_time": "2023-09-30T12:30:20.547Z"
   },
   {
    "duration": 18,
    "start_time": "2023-09-30T12:30:27.485Z"
   },
   {
    "duration": 17,
    "start_time": "2023-09-30T12:31:03.126Z"
   },
   {
    "duration": 18,
    "start_time": "2023-09-30T12:31:08.561Z"
   },
   {
    "duration": 16,
    "start_time": "2023-09-30T12:31:31.500Z"
   },
   {
    "duration": 11,
    "start_time": "2023-09-30T12:31:34.711Z"
   },
   {
    "duration": 10,
    "start_time": "2023-09-30T12:32:13.698Z"
   },
   {
    "duration": 13,
    "start_time": "2023-09-30T12:37:29.137Z"
   },
   {
    "duration": 10,
    "start_time": "2023-09-30T12:37:44.273Z"
   },
   {
    "duration": 8,
    "start_time": "2023-09-30T12:37:49.268Z"
   },
   {
    "duration": 16,
    "start_time": "2023-09-30T12:38:00.220Z"
   },
   {
    "duration": 14,
    "start_time": "2023-09-30T12:38:04.550Z"
   },
   {
    "duration": 8,
    "start_time": "2023-09-30T12:38:07.128Z"
   },
   {
    "duration": 11,
    "start_time": "2023-09-30T12:38:52.470Z"
   },
   {
    "duration": 352,
    "start_time": "2023-09-30T12:43:52.500Z"
   },
   {
    "duration": 4,
    "start_time": "2023-09-30T12:45:06.438Z"
   },
   {
    "duration": 321,
    "start_time": "2023-09-30T12:45:21.795Z"
   },
   {
    "duration": 4,
    "start_time": "2023-09-30T12:45:22.679Z"
   },
   {
    "duration": 320,
    "start_time": "2023-09-30T12:45:27.237Z"
   },
   {
    "duration": 4,
    "start_time": "2023-09-30T12:45:39.164Z"
   },
   {
    "duration": 3,
    "start_time": "2023-09-30T12:46:06.126Z"
   },
   {
    "duration": 343,
    "start_time": "2023-09-30T12:46:30.320Z"
   },
   {
    "duration": 4,
    "start_time": "2023-09-30T12:46:30.665Z"
   },
   {
    "duration": 4,
    "start_time": "2023-09-30T12:46:47.253Z"
   },
   {
    "duration": 9,
    "start_time": "2023-09-30T12:48:29.529Z"
   },
   {
    "duration": 3,
    "start_time": "2023-09-30T12:48:43.018Z"
   },
   {
    "duration": 2384,
    "start_time": "2023-09-30T12:49:12.772Z"
   },
   {
    "duration": 243,
    "start_time": "2023-09-30T12:49:56.112Z"
   },
   {
    "duration": 6,
    "start_time": "2023-09-30T12:50:35.952Z"
   },
   {
    "duration": 227,
    "start_time": "2023-09-30T12:51:38.638Z"
   },
   {
    "duration": 9,
    "start_time": "2023-09-30T12:52:22.216Z"
   },
   {
    "duration": 5,
    "start_time": "2023-09-30T12:52:29.668Z"
   },
   {
    "duration": 856,
    "start_time": "2023-09-30T12:53:30.956Z"
   },
   {
    "duration": 388,
    "start_time": "2023-09-30T12:54:15.550Z"
   },
   {
    "duration": 227,
    "start_time": "2023-09-30T12:54:43.265Z"
   },
   {
    "duration": 15,
    "start_time": "2023-09-30T12:55:30.916Z"
   },
   {
    "duration": 1515,
    "start_time": "2023-09-30T13:01:35.912Z"
   },
   {
    "duration": 837,
    "start_time": "2023-09-30T13:01:37.429Z"
   },
   {
    "duration": 16,
    "start_time": "2023-09-30T13:01:38.268Z"
   },
   {
    "duration": 150,
    "start_time": "2023-09-30T13:01:38.286Z"
   },
   {
    "duration": 3,
    "start_time": "2023-09-30T13:01:38.437Z"
   },
   {
    "duration": 68,
    "start_time": "2023-09-30T13:01:38.442Z"
   },
   {
    "duration": 275,
    "start_time": "2023-09-30T13:01:38.511Z"
   },
   {
    "duration": 451,
    "start_time": "2023-09-30T13:01:38.788Z"
   },
   {
    "duration": 546,
    "start_time": "2023-09-30T13:01:39.240Z"
   },
   {
    "duration": 26,
    "start_time": "2023-09-30T13:01:39.789Z"
   },
   {
    "duration": 41,
    "start_time": "2023-09-30T13:01:39.816Z"
   },
   {
    "duration": 16,
    "start_time": "2023-09-30T13:01:39.859Z"
   },
   {
    "duration": 269,
    "start_time": "2023-09-30T13:01:39.883Z"
   },
   {
    "duration": 273,
    "start_time": "2023-09-30T13:01:40.153Z"
   },
   {
    "duration": 22,
    "start_time": "2023-09-30T13:01:40.428Z"
   },
   {
    "duration": 55,
    "start_time": "2023-09-30T13:01:40.452Z"
   },
   {
    "duration": 21,
    "start_time": "2023-09-30T13:01:40.508Z"
   },
   {
    "duration": 24,
    "start_time": "2023-09-30T13:01:40.549Z"
   },
   {
    "duration": 21,
    "start_time": "2023-09-30T13:01:40.574Z"
   },
   {
    "duration": 20,
    "start_time": "2023-09-30T13:01:40.596Z"
   },
   {
    "duration": 34,
    "start_time": "2023-09-30T13:01:40.617Z"
   },
   {
    "duration": 48,
    "start_time": "2023-09-30T13:01:40.652Z"
   },
   {
    "duration": 3,
    "start_time": "2023-09-30T13:01:40.702Z"
   },
   {
    "duration": 17218,
    "start_time": "2023-09-30T13:01:40.706Z"
   },
   {
    "duration": 21,
    "start_time": "2023-09-30T13:01:57.926Z"
   },
   {
    "duration": 13,
    "start_time": "2023-09-30T13:01:57.949Z"
   },
   {
    "duration": 16,
    "start_time": "2023-09-30T13:01:57.963Z"
   },
   {
    "duration": 9,
    "start_time": "2023-09-30T13:01:57.982Z"
   },
   {
    "duration": 971,
    "start_time": "2023-09-30T13:01:57.993Z"
   },
   {
    "duration": 4,
    "start_time": "2023-09-30T13:01:58.966Z"
   },
   {
    "duration": 410,
    "start_time": "2023-09-30T13:01:58.972Z"
   },
   {
    "duration": 4,
    "start_time": "2023-09-30T13:01:59.384Z"
   },
   {
    "duration": 264,
    "start_time": "2023-09-30T13:01:59.390Z"
   },
   {
    "duration": 2,
    "start_time": "2023-09-30T13:01:59.656Z"
   },
   {
    "duration": 19,
    "start_time": "2023-09-30T13:01:59.660Z"
   },
   {
    "duration": 29,
    "start_time": "2023-09-30T13:01:59.681Z"
   },
   {
    "duration": 16041,
    "start_time": "2023-09-30T13:01:59.712Z"
   },
   {
    "duration": 127,
    "start_time": "2023-09-30T13:02:15.756Z"
   },
   {
    "duration": 34274,
    "start_time": "2023-09-30T13:02:15.885Z"
   },
   {
    "duration": 149075,
    "start_time": "2023-09-30T13:02:50.161Z"
   },
   {
    "duration": 11564,
    "start_time": "2023-09-30T13:05:19.238Z"
   },
   {
    "duration": 16937,
    "start_time": "2023-09-30T13:05:30.803Z"
   },
   {
    "duration": 1225,
    "start_time": "2023-09-30T13:05:47.742Z"
   },
   {
    "duration": 21598,
    "start_time": "2023-09-30T13:05:48.969Z"
   },
   {
    "duration": 19294,
    "start_time": "2023-09-30T13:06:10.569Z"
   },
   {
    "duration": 111935,
    "start_time": "2023-09-30T13:06:29.864Z"
   },
   {
    "duration": 1697,
    "start_time": "2023-09-30T13:08:21.801Z"
   },
   {
    "duration": 12220,
    "start_time": "2023-09-30T13:08:23.500Z"
   },
   {
    "duration": 3778,
    "start_time": "2023-09-30T13:08:35.722Z"
   },
   {
    "duration": 30056,
    "start_time": "2023-09-30T13:08:39.502Z"
   },
   {
    "duration": 2606,
    "start_time": "2023-09-30T13:09:09.560Z"
   },
   {
    "duration": 11283,
    "start_time": "2023-09-30T13:09:12.168Z"
   },
   {
    "duration": 800,
    "start_time": "2023-09-30T13:09:23.453Z"
   },
   {
    "duration": 5003,
    "start_time": "2023-09-30T13:09:24.255Z"
   },
   {
    "duration": 10,
    "start_time": "2023-09-30T13:09:29.260Z"
   },
   {
    "duration": 35,
    "start_time": "2023-09-30T13:09:29.272Z"
   },
   {
    "duration": 216,
    "start_time": "2023-09-30T13:09:29.309Z"
   },
   {
    "duration": 4,
    "start_time": "2023-09-30T13:09:29.527Z"
   },
   {
    "duration": 1624,
    "start_time": "2023-09-30T13:09:29.532Z"
   },
   {
    "duration": 198,
    "start_time": "2023-09-30T13:09:31.157Z"
   },
   {
    "duration": 4,
    "start_time": "2023-09-30T13:09:31.357Z"
   },
   {
    "duration": 195,
    "start_time": "2023-09-30T13:09:31.363Z"
   },
   {
    "duration": 5,
    "start_time": "2023-09-30T13:09:31.559Z"
   },
   {
    "duration": 172,
    "start_time": "2023-09-30T13:09:31.567Z"
   },
   {
    "duration": 5,
    "start_time": "2023-09-30T13:11:22.674Z"
   },
   {
    "duration": 18,
    "start_time": "2023-09-30T13:11:29.057Z"
   },
   {
    "duration": 7,
    "start_time": "2023-09-30T13:12:18.322Z"
   },
   {
    "duration": 6,
    "start_time": "2023-09-30T13:12:53.090Z"
   },
   {
    "duration": 6,
    "start_time": "2023-09-30T13:12:54.577Z"
   },
   {
    "duration": 1440,
    "start_time": "2023-09-30T13:13:00.360Z"
   },
   {
    "duration": 827,
    "start_time": "2023-09-30T13:13:01.802Z"
   },
   {
    "duration": 23,
    "start_time": "2023-09-30T13:13:02.631Z"
   },
   {
    "duration": 145,
    "start_time": "2023-09-30T13:13:02.656Z"
   },
   {
    "duration": 3,
    "start_time": "2023-09-30T13:13:02.803Z"
   },
   {
    "duration": 63,
    "start_time": "2023-09-30T13:13:02.807Z"
   },
   {
    "duration": 277,
    "start_time": "2023-09-30T13:13:02.872Z"
   },
   {
    "duration": 412,
    "start_time": "2023-09-30T13:13:03.151Z"
   },
   {
    "duration": 493,
    "start_time": "2023-09-30T13:13:03.564Z"
   },
   {
    "duration": 18,
    "start_time": "2023-09-30T13:13:04.059Z"
   },
   {
    "duration": 42,
    "start_time": "2023-09-30T13:13:04.079Z"
   },
   {
    "duration": 43,
    "start_time": "2023-09-30T13:13:04.123Z"
   },
   {
    "duration": 238,
    "start_time": "2023-09-30T13:13:04.168Z"
   },
   {
    "duration": 362,
    "start_time": "2023-09-30T13:13:04.407Z"
   },
   {
    "duration": 23,
    "start_time": "2023-09-30T13:13:04.770Z"
   },
   {
    "duration": 86,
    "start_time": "2023-09-30T13:13:04.794Z"
   },
   {
    "duration": 29,
    "start_time": "2023-09-30T13:13:04.881Z"
   },
   {
    "duration": 42,
    "start_time": "2023-09-30T13:13:04.911Z"
   },
   {
    "duration": 29,
    "start_time": "2023-09-30T13:13:04.954Z"
   },
   {
    "duration": 31,
    "start_time": "2023-09-30T13:13:04.984Z"
   },
   {
    "duration": 51,
    "start_time": "2023-09-30T13:13:05.016Z"
   },
   {
    "duration": 86,
    "start_time": "2023-09-30T13:13:05.069Z"
   },
   {
    "duration": 3,
    "start_time": "2023-09-30T13:13:05.156Z"
   },
   {
    "duration": 16236,
    "start_time": "2023-09-30T13:13:05.160Z"
   },
   {
    "duration": 41,
    "start_time": "2023-09-30T13:13:21.398Z"
   },
   {
    "duration": 57,
    "start_time": "2023-09-30T13:13:21.441Z"
   },
   {
    "duration": 60,
    "start_time": "2023-09-30T13:13:21.499Z"
   },
   {
    "duration": 25,
    "start_time": "2023-09-30T13:13:21.564Z"
   },
   {
    "duration": 1208,
    "start_time": "2023-09-30T13:13:21.591Z"
   },
   {
    "duration": 4,
    "start_time": "2023-09-30T13:13:22.801Z"
   },
   {
    "duration": 526,
    "start_time": "2023-09-30T13:13:22.807Z"
   },
   {
    "duration": 4,
    "start_time": "2023-09-30T13:13:23.335Z"
   },
   {
    "duration": 359,
    "start_time": "2023-09-30T13:13:23.350Z"
   },
   {
    "duration": 2,
    "start_time": "2023-09-30T13:13:23.711Z"
   },
   {
    "duration": 16,
    "start_time": "2023-09-30T13:13:23.714Z"
   },
   {
    "duration": 11,
    "start_time": "2023-09-30T13:13:23.731Z"
   },
   {
    "duration": 18717,
    "start_time": "2023-09-30T13:13:23.744Z"
   },
   {
    "duration": 138,
    "start_time": "2023-09-30T13:13:42.551Z"
   },
   {
    "duration": 38602,
    "start_time": "2023-09-30T13:13:42.751Z"
   },
   {
    "duration": 239894,
    "start_time": "2023-09-30T13:14:21.355Z"
   },
   {
    "duration": 19182,
    "start_time": "2023-09-30T13:18:21.251Z"
   },
   {
    "duration": 25367,
    "start_time": "2023-09-30T13:18:40.434Z"
   },
   {
    "duration": 1959,
    "start_time": "2023-09-30T13:19:05.803Z"
   },
   {
    "duration": 35557,
    "start_time": "2023-09-30T13:19:07.764Z"
   },
   {
    "duration": 31662,
    "start_time": "2023-09-30T13:19:43.322Z"
   },
   {
    "duration": 184263,
    "start_time": "2023-09-30T13:20:14.986Z"
   },
   {
    "duration": 2622,
    "start_time": "2023-09-30T13:23:19.250Z"
   },
   {
    "duration": 18961,
    "start_time": "2023-09-30T13:23:21.874Z"
   },
   {
    "duration": 6362,
    "start_time": "2023-09-30T13:23:40.837Z"
   },
   {
    "duration": 47655,
    "start_time": "2023-09-30T13:23:47.200Z"
   },
   {
    "duration": 3903,
    "start_time": "2023-09-30T13:24:34.856Z"
   },
   {
    "duration": 13897,
    "start_time": "2023-09-30T13:24:38.761Z"
   },
   {
    "duration": 1095,
    "start_time": "2023-09-30T13:24:52.660Z"
   },
   {
    "duration": 7397,
    "start_time": "2023-09-30T13:24:53.757Z"
   },
   {
    "duration": 11,
    "start_time": "2023-09-30T13:25:01.156Z"
   },
   {
    "duration": 91,
    "start_time": "2023-09-30T13:25:01.168Z"
   },
   {
    "duration": 428,
    "start_time": "2023-09-30T13:25:01.260Z"
   },
   {
    "duration": 4,
    "start_time": "2023-09-30T13:25:01.689Z"
   },
   {
    "duration": 2457,
    "start_time": "2023-09-30T13:25:01.694Z"
   },
   {
    "duration": 299,
    "start_time": "2023-09-30T13:25:04.152Z"
   },
   {
    "duration": 5,
    "start_time": "2023-09-30T13:25:04.453Z"
   },
   {
    "duration": 292,
    "start_time": "2023-09-30T13:25:04.460Z"
   },
   {
    "duration": 5,
    "start_time": "2023-09-30T13:25:04.754Z"
   },
   {
    "duration": 18,
    "start_time": "2023-09-30T13:25:04.760Z"
   },
   {
    "duration": 6,
    "start_time": "2023-09-30T13:26:20.822Z"
   },
   {
    "duration": 1737,
    "start_time": "2023-10-01T14:37:03.907Z"
   },
   {
    "duration": 1090,
    "start_time": "2023-10-01T14:37:05.646Z"
   },
   {
    "duration": 17,
    "start_time": "2023-10-01T14:37:06.738Z"
   },
   {
    "duration": 157,
    "start_time": "2023-10-01T14:37:06.758Z"
   },
   {
    "duration": 3,
    "start_time": "2023-10-01T14:37:06.917Z"
   },
   {
    "duration": 65,
    "start_time": "2023-10-01T14:37:06.921Z"
   },
   {
    "duration": 280,
    "start_time": "2023-10-01T14:37:06.988Z"
   },
   {
    "duration": 469,
    "start_time": "2023-10-01T14:37:07.270Z"
   },
   {
    "duration": 509,
    "start_time": "2023-10-01T14:37:07.741Z"
   },
   {
    "duration": 18,
    "start_time": "2023-10-01T14:37:08.252Z"
   },
   {
    "duration": 37,
    "start_time": "2023-10-01T14:37:08.271Z"
   },
   {
    "duration": 53,
    "start_time": "2023-10-01T14:37:08.310Z"
   },
   {
    "duration": 256,
    "start_time": "2023-10-01T14:37:08.364Z"
   },
   {
    "duration": 364,
    "start_time": "2023-10-01T14:37:08.621Z"
   },
   {
    "duration": 22,
    "start_time": "2023-10-01T14:37:08.987Z"
   },
   {
    "duration": 85,
    "start_time": "2023-10-01T14:37:09.011Z"
   },
   {
    "duration": 29,
    "start_time": "2023-10-01T14:37:09.097Z"
   },
   {
    "duration": 40,
    "start_time": "2023-10-01T14:37:09.128Z"
   },
   {
    "duration": 28,
    "start_time": "2023-10-01T14:37:09.170Z"
   },
   {
    "duration": 47,
    "start_time": "2023-10-01T14:37:09.199Z"
   },
   {
    "duration": 31,
    "start_time": "2023-10-01T14:37:09.247Z"
   },
   {
    "duration": 90,
    "start_time": "2023-10-01T14:37:09.280Z"
   },
   {
    "duration": 3,
    "start_time": "2023-10-01T14:37:09.372Z"
   },
   {
    "duration": 17843,
    "start_time": "2023-10-01T14:37:09.376Z"
   },
   {
    "duration": 44,
    "start_time": "2023-10-01T14:37:27.221Z"
   },
   {
    "duration": 12,
    "start_time": "2023-10-01T14:37:27.267Z"
   },
   {
    "duration": 14,
    "start_time": "2023-10-01T14:37:27.281Z"
   },
   {
    "duration": 114,
    "start_time": "2023-10-01T14:37:27.298Z"
   },
   {
    "duration": 0,
    "start_time": "2023-10-01T14:37:27.414Z"
   },
   {
    "duration": 0,
    "start_time": "2023-10-01T14:37:27.415Z"
   },
   {
    "duration": 0,
    "start_time": "2023-10-01T14:37:27.416Z"
   },
   {
    "duration": 0,
    "start_time": "2023-10-01T14:37:27.417Z"
   },
   {
    "duration": 0,
    "start_time": "2023-10-01T14:37:27.418Z"
   },
   {
    "duration": 4,
    "start_time": "2023-10-01T14:38:28.130Z"
   },
   {
    "duration": 12,
    "start_time": "2023-10-01T14:38:32.665Z"
   },
   {
    "duration": 4,
    "start_time": "2023-10-01T14:38:53.028Z"
   },
   {
    "duration": 511,
    "start_time": "2023-10-01T14:38:56.000Z"
   },
   {
    "duration": 52,
    "start_time": "2023-10-01T14:38:58.454Z"
   },
   {
    "duration": 4,
    "start_time": "2023-10-01T14:38:59.006Z"
   },
   {
    "duration": 85,
    "start_time": "2023-10-01T14:39:00.207Z"
   },
   {
    "duration": 1079,
    "start_time": "2023-10-01T14:39:13.629Z"
   },
   {
    "duration": 4,
    "start_time": "2023-10-01T14:39:16.369Z"
   },
   {
    "duration": 378,
    "start_time": "2023-10-01T14:39:19.063Z"
   },
   {
    "duration": 3,
    "start_time": "2023-10-01T14:39:22.566Z"
   },
   {
    "duration": 4,
    "start_time": "2023-10-01T14:39:24.524Z"
   },
   {
    "duration": 5,
    "start_time": "2023-10-01T14:39:26.090Z"
   },
   {
    "duration": 51178,
    "start_time": "2023-10-01T14:39:27.670Z"
   },
   {
    "duration": 299,
    "start_time": "2023-10-01T14:40:18.851Z"
   },
   {
    "duration": 93996,
    "start_time": "2023-10-01T14:41:50.054Z"
   },
   {
    "duration": 5,
    "start_time": "2023-10-01T14:44:29.251Z"
   },
   {
    "duration": 783,
    "start_time": "2023-10-01T14:44:29.258Z"
   },
   {
    "duration": 16,
    "start_time": "2023-10-01T14:44:30.044Z"
   },
   {
    "duration": 171,
    "start_time": "2023-10-01T14:44:30.062Z"
   },
   {
    "duration": 27,
    "start_time": "2023-10-01T14:44:30.236Z"
   },
   {
    "duration": 72,
    "start_time": "2023-10-01T14:44:30.265Z"
   },
   {
    "duration": 254,
    "start_time": "2023-10-01T14:44:30.339Z"
   },
   {
    "duration": 483,
    "start_time": "2023-10-01T14:44:30.595Z"
   },
   {
    "duration": 478,
    "start_time": "2023-10-01T14:44:31.080Z"
   },
   {
    "duration": 15,
    "start_time": "2023-10-01T14:44:31.559Z"
   },
   {
    "duration": 78,
    "start_time": "2023-10-01T14:44:31.576Z"
   },
   {
    "duration": 42,
    "start_time": "2023-10-01T14:44:31.656Z"
   },
   {
    "duration": 275,
    "start_time": "2023-10-01T14:44:31.700Z"
   },
   {
    "duration": 388,
    "start_time": "2023-10-01T14:44:31.978Z"
   },
   {
    "duration": 23,
    "start_time": "2023-10-01T14:44:32.368Z"
   },
   {
    "duration": 90,
    "start_time": "2023-10-01T14:44:32.393Z"
   },
   {
    "duration": 30,
    "start_time": "2023-10-01T14:44:32.485Z"
   },
   {
    "duration": 45,
    "start_time": "2023-10-01T14:44:32.516Z"
   },
   {
    "duration": 37,
    "start_time": "2023-10-01T14:44:32.562Z"
   },
   {
    "duration": 33,
    "start_time": "2023-10-01T14:44:32.600Z"
   },
   {
    "duration": 38,
    "start_time": "2023-10-01T14:44:32.635Z"
   },
   {
    "duration": 89,
    "start_time": "2023-10-01T14:44:32.675Z"
   },
   {
    "duration": 3,
    "start_time": "2023-10-01T14:44:32.765Z"
   },
   {
    "duration": 17686,
    "start_time": "2023-10-01T14:44:32.770Z"
   },
   {
    "duration": 33,
    "start_time": "2023-10-01T14:44:50.457Z"
   },
   {
    "duration": 15,
    "start_time": "2023-10-01T14:44:50.492Z"
   },
   {
    "duration": 18,
    "start_time": "2023-10-01T14:44:50.508Z"
   },
   {
    "duration": 23,
    "start_time": "2023-10-01T14:44:50.528Z"
   },
   {
    "duration": 518,
    "start_time": "2023-10-01T14:44:50.553Z"
   },
   {
    "duration": 44,
    "start_time": "2023-10-01T14:44:51.073Z"
   },
   {
    "duration": 4,
    "start_time": "2023-10-01T14:44:51.119Z"
   },
   {
    "duration": 614,
    "start_time": "2023-10-01T14:44:51.125Z"
   },
   {
    "duration": 4,
    "start_time": "2023-10-01T14:44:51.741Z"
   },
   {
    "duration": 422,
    "start_time": "2023-10-01T14:44:51.747Z"
   },
   {
    "duration": 2,
    "start_time": "2023-10-01T14:44:52.171Z"
   },
   {
    "duration": 56,
    "start_time": "2023-10-01T14:44:52.175Z"
   },
   {
    "duration": 26,
    "start_time": "2023-10-01T14:44:52.232Z"
   },
   {
    "duration": 48586,
    "start_time": "2023-10-01T14:44:52.260Z"
   },
   {
    "duration": 208,
    "start_time": "2023-10-01T14:45:40.848Z"
   },
   {
    "duration": 96604,
    "start_time": "2023-10-01T14:45:41.144Z"
   },
   {
    "duration": 80808,
    "start_time": "2023-10-01T14:47:17.754Z"
   },
   {
    "duration": 8594,
    "start_time": "2023-10-01T14:48:38.564Z"
   },
   {
    "duration": 28041,
    "start_time": "2023-10-01T14:48:47.160Z"
   },
   {
    "duration": 2245,
    "start_time": "2023-10-01T14:49:15.203Z"
   },
   {
    "duration": 15806,
    "start_time": "2023-10-01T14:49:17.450Z"
   },
   {
    "duration": 6317,
    "start_time": "2023-10-01T14:49:33.258Z"
   },
   {
    "duration": 86095,
    "start_time": "2023-10-01T14:49:39.577Z"
   },
   {
    "duration": 2937,
    "start_time": "2023-10-01T14:51:05.674Z"
   },
   {
    "duration": 21016,
    "start_time": "2023-10-01T14:51:08.612Z"
   },
   {
    "duration": 1620,
    "start_time": "2023-10-01T14:51:29.630Z"
   },
   {
    "duration": 19110,
    "start_time": "2023-10-01T14:51:31.252Z"
   },
   {
    "duration": 1608,
    "start_time": "2023-10-01T14:51:50.443Z"
   },
   {
    "duration": 13998,
    "start_time": "2023-10-01T14:51:52.053Z"
   },
   {
    "duration": 1292,
    "start_time": "2023-10-01T14:52:06.052Z"
   },
   {
    "duration": 2904,
    "start_time": "2023-10-01T14:52:07.345Z"
   },
   {
    "duration": 1464,
    "start_time": "2023-10-01T15:16:58.437Z"
   },
   {
    "duration": 863,
    "start_time": "2023-10-01T15:16:59.903Z"
   },
   {
    "duration": 17,
    "start_time": "2023-10-01T15:17:00.767Z"
   },
   {
    "duration": 207,
    "start_time": "2023-10-01T15:17:00.786Z"
   },
   {
    "duration": 3,
    "start_time": "2023-10-01T15:17:00.995Z"
   },
   {
    "duration": 196,
    "start_time": "2023-10-01T15:17:00.999Z"
   },
   {
    "duration": 418,
    "start_time": "2023-10-01T15:17:01.197Z"
   },
   {
    "duration": 461,
    "start_time": "2023-10-01T15:17:01.617Z"
   },
   {
    "duration": 580,
    "start_time": "2023-10-01T15:17:02.080Z"
   },
   {
    "duration": 19,
    "start_time": "2023-10-01T15:17:02.663Z"
   },
   {
    "duration": 40,
    "start_time": "2023-10-01T15:17:02.683Z"
   },
   {
    "duration": 47,
    "start_time": "2023-10-01T15:17:02.725Z"
   },
   {
    "duration": 263,
    "start_time": "2023-10-01T15:17:02.774Z"
   },
   {
    "duration": 371,
    "start_time": "2023-10-01T15:17:03.039Z"
   },
   {
    "duration": 32,
    "start_time": "2023-10-01T15:17:03.412Z"
   },
   {
    "duration": 75,
    "start_time": "2023-10-01T15:17:03.446Z"
   },
   {
    "duration": 44,
    "start_time": "2023-10-01T15:17:03.523Z"
   },
   {
    "duration": 31,
    "start_time": "2023-10-01T15:17:03.569Z"
   },
   {
    "duration": 57,
    "start_time": "2023-10-01T15:17:03.602Z"
   },
   {
    "duration": 32,
    "start_time": "2023-10-01T15:17:03.661Z"
   },
   {
    "duration": 61,
    "start_time": "2023-10-01T15:17:03.695Z"
   },
   {
    "duration": 115,
    "start_time": "2023-10-01T15:17:03.759Z"
   },
   {
    "duration": 3,
    "start_time": "2023-10-01T15:17:03.877Z"
   },
   {
    "duration": 18174,
    "start_time": "2023-10-01T15:17:03.882Z"
   },
   {
    "duration": 45,
    "start_time": "2023-10-01T15:17:22.079Z"
   },
   {
    "duration": 13,
    "start_time": "2023-10-01T15:17:22.126Z"
   },
   {
    "duration": 29,
    "start_time": "2023-10-01T15:17:22.141Z"
   },
   {
    "duration": 19,
    "start_time": "2023-10-01T15:17:22.174Z"
   },
   {
    "duration": 675,
    "start_time": "2023-10-01T15:17:22.195Z"
   },
   {
    "duration": 46,
    "start_time": "2023-10-01T15:17:22.872Z"
   },
   {
    "duration": 441,
    "start_time": "2023-10-01T15:17:22.920Z"
   },
   {
    "duration": 638,
    "start_time": "2023-10-01T15:17:23.363Z"
   },
   {
    "duration": 4,
    "start_time": "2023-10-01T15:17:24.003Z"
   },
   {
    "duration": 433,
    "start_time": "2023-10-01T15:17:24.009Z"
   },
   {
    "duration": 3,
    "start_time": "2023-10-01T15:17:24.444Z"
   },
   {
    "duration": 7,
    "start_time": "2023-10-01T15:17:24.448Z"
   },
   {
    "duration": 7,
    "start_time": "2023-10-01T15:17:24.456Z"
   },
   {
    "duration": 50887,
    "start_time": "2023-10-01T15:17:24.465Z"
   },
   {
    "duration": 3,
    "start_time": "2023-10-01T15:18:15.444Z"
   },
   {
    "duration": 95396,
    "start_time": "2023-10-01T15:18:15.449Z"
   },
   {
    "duration": 79637,
    "start_time": "2023-10-01T15:19:50.847Z"
   },
   {
    "duration": 8730,
    "start_time": "2023-10-01T15:21:10.486Z"
   },
   {
    "duration": 27768,
    "start_time": "2023-10-01T15:21:19.217Z"
   },
   {
    "duration": 2003,
    "start_time": "2023-10-01T15:21:46.986Z"
   },
   {
    "duration": 15925,
    "start_time": "2023-10-01T15:21:48.990Z"
   },
   {
    "duration": 6310,
    "start_time": "2023-10-01T15:22:04.917Z"
   },
   {
    "duration": 84861,
    "start_time": "2023-10-01T15:22:11.228Z"
   },
   {
    "duration": 2792,
    "start_time": "2023-10-01T15:23:36.091Z"
   },
   {
    "duration": 19928,
    "start_time": "2023-10-01T15:23:38.885Z"
   },
   {
    "duration": 1665,
    "start_time": "2023-10-01T15:23:58.815Z"
   },
   {
    "duration": 16964,
    "start_time": "2023-10-01T15:24:00.482Z"
   },
   {
    "duration": 1396,
    "start_time": "2023-10-01T15:24:17.448Z"
   },
   {
    "duration": 13314,
    "start_time": "2023-10-01T15:24:18.845Z"
   },
   {
    "duration": 1195,
    "start_time": "2023-10-01T15:24:32.161Z"
   },
   {
    "duration": 2895,
    "start_time": "2023-10-01T15:24:33.358Z"
   },
   {
    "duration": 168,
    "start_time": "2023-10-01T15:24:36.254Z"
   },
   {
    "duration": 0,
    "start_time": "2023-10-01T15:24:36.423Z"
   },
   {
    "duration": 0,
    "start_time": "2023-10-01T15:24:36.424Z"
   },
   {
    "duration": 0,
    "start_time": "2023-10-01T15:24:36.425Z"
   },
   {
    "duration": 0,
    "start_time": "2023-10-01T15:24:36.426Z"
   },
   {
    "duration": 0,
    "start_time": "2023-10-01T15:24:36.427Z"
   },
   {
    "duration": 0,
    "start_time": "2023-10-01T15:24:36.428Z"
   },
   {
    "duration": 0,
    "start_time": "2023-10-01T15:24:36.429Z"
   },
   {
    "duration": 0,
    "start_time": "2023-10-01T15:24:36.430Z"
   },
   {
    "duration": 0,
    "start_time": "2023-10-01T15:24:36.443Z"
   },
   {
    "duration": 4,
    "start_time": "2023-10-01T15:26:05.630Z"
   },
   {
    "duration": 9,
    "start_time": "2023-10-01T15:26:20.089Z"
   },
   {
    "duration": 3,
    "start_time": "2023-10-01T15:26:46.761Z"
   },
   {
    "duration": 5,
    "start_time": "2023-10-01T15:26:49.888Z"
   },
   {
    "duration": 12,
    "start_time": "2023-10-01T15:26:55.191Z"
   },
   {
    "duration": 9,
    "start_time": "2023-10-01T15:27:22.926Z"
   },
   {
    "duration": 4,
    "start_time": "2023-10-01T15:28:32.165Z"
   },
   {
    "duration": 774,
    "start_time": "2023-10-01T15:28:32.172Z"
   },
   {
    "duration": 13,
    "start_time": "2023-10-01T15:28:32.948Z"
   },
   {
    "duration": 160,
    "start_time": "2023-10-01T15:28:32.962Z"
   },
   {
    "duration": 3,
    "start_time": "2023-10-01T15:28:33.125Z"
   },
   {
    "duration": 36,
    "start_time": "2023-10-01T15:28:33.129Z"
   },
   {
    "duration": 214,
    "start_time": "2023-10-01T15:28:33.167Z"
   },
   {
    "duration": 464,
    "start_time": "2023-10-01T15:28:33.383Z"
   },
   {
    "duration": 456,
    "start_time": "2023-10-01T15:28:33.848Z"
   },
   {
    "duration": 14,
    "start_time": "2023-10-01T15:28:34.306Z"
   },
   {
    "duration": 43,
    "start_time": "2023-10-01T15:28:34.321Z"
   },
   {
    "duration": 25,
    "start_time": "2023-10-01T15:28:34.365Z"
   },
   {
    "duration": 312,
    "start_time": "2023-10-01T15:28:34.392Z"
   },
   {
    "duration": 363,
    "start_time": "2023-10-01T15:28:34.707Z"
   },
   {
    "duration": 24,
    "start_time": "2023-10-01T15:28:35.072Z"
   },
   {
    "duration": 93,
    "start_time": "2023-10-01T15:28:35.098Z"
   },
   {
    "duration": 30,
    "start_time": "2023-10-01T15:28:35.193Z"
   },
   {
    "duration": 49,
    "start_time": "2023-10-01T15:28:35.225Z"
   },
   {
    "duration": 30,
    "start_time": "2023-10-01T15:28:35.276Z"
   },
   {
    "duration": 45,
    "start_time": "2023-10-01T15:28:35.308Z"
   },
   {
    "duration": 32,
    "start_time": "2023-10-01T15:28:35.355Z"
   },
   {
    "duration": 90,
    "start_time": "2023-10-01T15:28:35.389Z"
   },
   {
    "duration": 2,
    "start_time": "2023-10-01T15:28:35.481Z"
   },
   {
    "duration": 17334,
    "start_time": "2023-10-01T15:28:35.485Z"
   },
   {
    "duration": 46,
    "start_time": "2023-10-01T15:28:52.821Z"
   },
   {
    "duration": 14,
    "start_time": "2023-10-01T15:28:52.869Z"
   },
   {
    "duration": 23,
    "start_time": "2023-10-01T15:28:52.884Z"
   },
   {
    "duration": 15,
    "start_time": "2023-10-01T15:28:52.909Z"
   },
   {
    "duration": 521,
    "start_time": "2023-10-01T15:28:52.926Z"
   },
   {
    "duration": 46,
    "start_time": "2023-10-01T15:28:53.449Z"
   },
   {
    "duration": 4,
    "start_time": "2023-10-01T15:28:53.497Z"
   },
   {
    "duration": 634,
    "start_time": "2023-10-01T15:28:53.503Z"
   },
   {
    "duration": 6,
    "start_time": "2023-10-01T15:28:54.138Z"
   },
   {
    "duration": 410,
    "start_time": "2023-10-01T15:28:54.145Z"
   },
   {
    "duration": 3,
    "start_time": "2023-10-01T15:28:54.557Z"
   },
   {
    "duration": 8,
    "start_time": "2023-10-01T15:28:54.562Z"
   },
   {
    "duration": 17,
    "start_time": "2023-10-01T15:28:54.572Z"
   },
   {
    "duration": 48353,
    "start_time": "2023-10-01T15:28:54.591Z"
   },
   {
    "duration": 91003,
    "start_time": "2023-10-01T15:29:42.949Z"
   },
   {
    "duration": 75466,
    "start_time": "2023-10-01T15:31:13.954Z"
   },
   {
    "duration": 4163,
    "start_time": "2023-10-01T15:32:29.424Z"
   },
   {
    "duration": 26866,
    "start_time": "2023-10-01T15:32:33.589Z"
   },
   {
    "duration": 2143,
    "start_time": "2023-10-01T15:33:00.457Z"
   },
   {
    "duration": 15675,
    "start_time": "2023-10-01T15:33:02.601Z"
   },
   {
    "duration": 6325,
    "start_time": "2023-10-01T15:33:18.278Z"
   },
   {
    "duration": 84080,
    "start_time": "2023-10-01T15:33:24.605Z"
   },
   {
    "duration": 2835,
    "start_time": "2023-10-01T15:34:48.687Z"
   },
   {
    "duration": 20589,
    "start_time": "2023-10-01T15:34:51.524Z"
   },
   {
    "duration": 1740,
    "start_time": "2023-10-01T15:35:12.114Z"
   },
   {
    "duration": 59994,
    "start_time": "2023-10-01T15:35:13.856Z"
   },
   {
    "duration": 1692,
    "start_time": "2023-10-01T15:36:13.852Z"
   },
   {
    "duration": 13800,
    "start_time": "2023-10-01T15:36:15.546Z"
   },
   {
    "duration": 1104,
    "start_time": "2023-10-01T15:36:29.347Z"
   },
   {
    "duration": 3196,
    "start_time": "2023-10-01T15:36:30.453Z"
   },
   {
    "duration": 12,
    "start_time": "2023-10-01T15:36:33.651Z"
   },
   {
    "duration": 15,
    "start_time": "2023-10-01T15:36:33.664Z"
   },
   {
    "duration": 56,
    "start_time": "2023-10-01T15:46:37.514Z"
   },
   {
    "duration": 2,
    "start_time": "2023-10-01T15:46:39.092Z"
   },
   {
    "duration": 112,
    "start_time": "2023-10-01T15:46:39.479Z"
   },
   {
    "duration": 559,
    "start_time": "2023-10-01T15:47:58.600Z"
   },
   {
    "duration": 3,
    "start_time": "2023-10-01T15:47:59.632Z"
   },
   {
    "duration": 393,
    "start_time": "2023-10-01T15:48:02.970Z"
   },
   {
    "duration": 367,
    "start_time": "2023-10-01T15:48:11.469Z"
   },
   {
    "duration": 99,
    "start_time": "2023-10-01T15:48:49.628Z"
   },
   {
    "duration": 887,
    "start_time": "2023-10-01T15:48:58.468Z"
   },
   {
    "duration": 25,
    "start_time": "2023-10-01T15:49:03.211Z"
   },
   {
    "duration": 10,
    "start_time": "2023-10-01T15:49:05.374Z"
   },
   {
    "duration": 9,
    "start_time": "2023-10-01T15:49:11.325Z"
   },
   {
    "duration": 9,
    "start_time": "2023-10-01T15:49:13.531Z"
   },
   {
    "duration": 9,
    "start_time": "2023-10-01T15:49:43.310Z"
   },
   {
    "duration": 7,
    "start_time": "2023-10-01T15:50:04.482Z"
   },
   {
    "duration": 54235,
    "start_time": "2023-10-01T15:50:08.120Z"
   },
   {
    "duration": 2571,
    "start_time": "2023-10-01T15:51:17.682Z"
   },
   {
    "duration": 12,
    "start_time": "2023-10-01T15:51:33.225Z"
   },
   {
    "duration": 7,
    "start_time": "2023-10-01T15:52:18.119Z"
   },
   {
    "duration": 113268,
    "start_time": "2023-10-01T15:53:21.182Z"
   },
   {
    "duration": 1578,
    "start_time": "2023-10-02T11:29:11.761Z"
   },
   {
    "duration": 1155,
    "start_time": "2023-10-02T11:29:13.342Z"
   },
   {
    "duration": 16,
    "start_time": "2023-10-02T11:29:14.498Z"
   },
   {
    "duration": 185,
    "start_time": "2023-10-02T11:29:14.516Z"
   },
   {
    "duration": 3,
    "start_time": "2023-10-02T11:29:14.702Z"
   },
   {
    "duration": 61,
    "start_time": "2023-10-02T11:29:14.706Z"
   },
   {
    "duration": 272,
    "start_time": "2023-10-02T11:29:14.768Z"
   },
   {
    "duration": 446,
    "start_time": "2023-10-02T11:29:15.042Z"
   },
   {
    "duration": 501,
    "start_time": "2023-10-02T11:29:15.490Z"
   },
   {
    "duration": 18,
    "start_time": "2023-10-02T11:29:15.993Z"
   },
   {
    "duration": 60,
    "start_time": "2023-10-02T11:29:16.013Z"
   },
   {
    "duration": 25,
    "start_time": "2023-10-02T11:29:16.075Z"
   },
   {
    "duration": 319,
    "start_time": "2023-10-02T11:29:16.102Z"
   },
   {
    "duration": 378,
    "start_time": "2023-10-02T11:29:16.423Z"
   },
   {
    "duration": 22,
    "start_time": "2023-10-02T11:29:16.802Z"
   },
   {
    "duration": 89,
    "start_time": "2023-10-02T11:29:16.825Z"
   },
   {
    "duration": 45,
    "start_time": "2023-10-02T11:29:16.916Z"
   },
   {
    "duration": 31,
    "start_time": "2023-10-02T11:29:16.963Z"
   },
   {
    "duration": 40,
    "start_time": "2023-10-02T11:29:16.995Z"
   },
   {
    "duration": 42,
    "start_time": "2023-10-02T11:29:17.036Z"
   },
   {
    "duration": 34,
    "start_time": "2023-10-02T11:29:17.080Z"
   },
   {
    "duration": 90,
    "start_time": "2023-10-02T11:29:17.116Z"
   },
   {
    "duration": 3,
    "start_time": "2023-10-02T11:29:17.207Z"
   },
   {
    "duration": 17263,
    "start_time": "2023-10-02T11:29:17.211Z"
   },
   {
    "duration": 45,
    "start_time": "2023-10-02T11:29:34.477Z"
   },
   {
    "duration": 13,
    "start_time": "2023-10-02T11:29:34.524Z"
   },
   {
    "duration": 5,
    "start_time": "2023-10-02T11:29:34.538Z"
   },
   {
    "duration": 7,
    "start_time": "2023-10-02T11:29:34.549Z"
   },
   {
    "duration": 133,
    "start_time": "2023-10-02T11:29:34.557Z"
   },
   {
    "duration": 0,
    "start_time": "2023-10-02T11:29:34.692Z"
   },
   {
    "duration": 0,
    "start_time": "2023-10-02T11:29:34.693Z"
   },
   {
    "duration": 0,
    "start_time": "2023-10-02T11:29:34.694Z"
   },
   {
    "duration": 0,
    "start_time": "2023-10-02T11:29:34.695Z"
   },
   {
    "duration": 0,
    "start_time": "2023-10-02T11:29:34.696Z"
   },
   {
    "duration": 0,
    "start_time": "2023-10-02T11:29:34.697Z"
   },
   {
    "duration": 0,
    "start_time": "2023-10-02T11:29:34.698Z"
   },
   {
    "duration": 0,
    "start_time": "2023-10-02T11:29:34.699Z"
   },
   {
    "duration": 0,
    "start_time": "2023-10-02T11:29:35.116Z"
   },
   {
    "duration": 0,
    "start_time": "2023-10-02T11:29:35.118Z"
   },
   {
    "duration": 0,
    "start_time": "2023-10-02T11:29:35.119Z"
   },
   {
    "duration": 0,
    "start_time": "2023-10-02T11:29:35.120Z"
   },
   {
    "duration": 0,
    "start_time": "2023-10-02T11:29:35.121Z"
   },
   {
    "duration": 0,
    "start_time": "2023-10-02T11:29:35.123Z"
   },
   {
    "duration": 0,
    "start_time": "2023-10-02T11:29:35.124Z"
   },
   {
    "duration": 0,
    "start_time": "2023-10-02T11:29:35.124Z"
   },
   {
    "duration": 0,
    "start_time": "2023-10-02T11:29:35.126Z"
   },
   {
    "duration": 0,
    "start_time": "2023-10-02T11:29:35.127Z"
   },
   {
    "duration": 0,
    "start_time": "2023-10-02T11:29:35.128Z"
   },
   {
    "duration": 0,
    "start_time": "2023-10-02T11:29:35.157Z"
   },
   {
    "duration": 0,
    "start_time": "2023-10-02T11:29:35.158Z"
   },
   {
    "duration": 0,
    "start_time": "2023-10-02T11:29:35.158Z"
   },
   {
    "duration": 0,
    "start_time": "2023-10-02T11:29:35.162Z"
   },
   {
    "duration": 0,
    "start_time": "2023-10-02T11:29:35.164Z"
   },
   {
    "duration": 0,
    "start_time": "2023-10-02T11:29:35.165Z"
   },
   {
    "duration": 0,
    "start_time": "2023-10-02T11:29:35.166Z"
   },
   {
    "duration": 0,
    "start_time": "2023-10-02T11:29:35.167Z"
   },
   {
    "duration": 0,
    "start_time": "2023-10-02T11:29:35.168Z"
   },
   {
    "duration": 0,
    "start_time": "2023-10-02T11:29:35.169Z"
   },
   {
    "duration": 0,
    "start_time": "2023-10-02T11:29:35.170Z"
   },
   {
    "duration": 0,
    "start_time": "2023-10-02T11:29:35.171Z"
   },
   {
    "duration": 0,
    "start_time": "2023-10-02T11:29:35.172Z"
   },
   {
    "duration": 0,
    "start_time": "2023-10-02T11:29:35.173Z"
   },
   {
    "duration": 2,
    "start_time": "2023-10-02T11:30:32.563Z"
   },
   {
    "duration": 59,
    "start_time": "2023-10-02T11:30:35.704Z"
   },
   {
    "duration": 534,
    "start_time": "2023-10-02T11:30:36.392Z"
   },
   {
    "duration": 16,
    "start_time": "2023-10-02T11:31:08.454Z"
   },
   {
    "duration": 17,
    "start_time": "2023-10-02T11:31:12.003Z"
   },
   {
    "duration": 15,
    "start_time": "2023-10-02T11:31:26.779Z"
   },
   {
    "duration": 3,
    "start_time": "2023-10-02T11:31:39.122Z"
   },
   {
    "duration": 53,
    "start_time": "2023-10-02T11:31:43.758Z"
   },
   {
    "duration": 2291,
    "start_time": "2023-10-02T11:31:44.157Z"
   },
   {
    "duration": 2115,
    "start_time": "2023-10-02T11:31:53.688Z"
   },
   {
    "duration": 47,
    "start_time": "2023-10-02T11:34:51.986Z"
   },
   {
    "duration": 1892,
    "start_time": "2023-10-02T11:34:57.834Z"
   },
   {
    "duration": 1214,
    "start_time": "2023-10-02T11:34:59.728Z"
   },
   {
    "duration": 18,
    "start_time": "2023-10-02T11:35:00.944Z"
   },
   {
    "duration": 189,
    "start_time": "2023-10-02T11:35:00.964Z"
   },
   {
    "duration": 33,
    "start_time": "2023-10-02T11:35:01.156Z"
   },
   {
    "duration": 203,
    "start_time": "2023-10-02T11:35:01.191Z"
   },
   {
    "duration": 431,
    "start_time": "2023-10-02T11:35:01.396Z"
   },
   {
    "duration": 470,
    "start_time": "2023-10-02T11:35:01.829Z"
   },
   {
    "duration": 576,
    "start_time": "2023-10-02T11:35:02.301Z"
   },
   {
    "duration": 17,
    "start_time": "2023-10-02T11:35:02.880Z"
   },
   {
    "duration": 53,
    "start_time": "2023-10-02T11:35:02.899Z"
   },
   {
    "duration": 37,
    "start_time": "2023-10-02T11:35:02.954Z"
   },
   {
    "duration": 251,
    "start_time": "2023-10-02T11:35:02.993Z"
   },
   {
    "duration": 374,
    "start_time": "2023-10-02T11:35:03.246Z"
   },
   {
    "duration": 31,
    "start_time": "2023-10-02T11:35:03.621Z"
   },
   {
    "duration": 77,
    "start_time": "2023-10-02T11:35:03.654Z"
   },
   {
    "duration": 45,
    "start_time": "2023-10-02T11:35:03.732Z"
   },
   {
    "duration": 31,
    "start_time": "2023-10-02T11:35:03.778Z"
   },
   {
    "duration": 50,
    "start_time": "2023-10-02T11:35:03.811Z"
   },
   {
    "duration": 32,
    "start_time": "2023-10-02T11:35:03.863Z"
   },
   {
    "duration": 39,
    "start_time": "2023-10-02T11:35:03.897Z"
   },
   {
    "duration": 78,
    "start_time": "2023-10-02T11:35:03.949Z"
   },
   {
    "duration": 3,
    "start_time": "2023-10-02T11:35:04.028Z"
   },
   {
    "duration": 18139,
    "start_time": "2023-10-02T11:35:04.033Z"
   },
   {
    "duration": 48,
    "start_time": "2023-10-02T11:35:22.174Z"
   },
   {
    "duration": 13,
    "start_time": "2023-10-02T11:35:22.224Z"
   },
   {
    "duration": 11,
    "start_time": "2023-10-02T11:35:22.239Z"
   },
   {
    "duration": 7,
    "start_time": "2023-10-02T11:35:22.254Z"
   },
   {
    "duration": 82,
    "start_time": "2023-10-02T11:35:22.262Z"
   },
   {
    "duration": 2869,
    "start_time": "2023-10-02T11:35:22.346Z"
   },
   {
    "duration": 0,
    "start_time": "2023-10-02T11:35:25.216Z"
   },
   {
    "duration": 0,
    "start_time": "2023-10-02T11:35:25.218Z"
   },
   {
    "duration": 0,
    "start_time": "2023-10-02T11:35:25.219Z"
   },
   {
    "duration": 0,
    "start_time": "2023-10-02T11:35:25.220Z"
   },
   {
    "duration": 0,
    "start_time": "2023-10-02T11:35:25.221Z"
   },
   {
    "duration": 0,
    "start_time": "2023-10-02T11:35:25.222Z"
   },
   {
    "duration": 0,
    "start_time": "2023-10-02T11:35:25.223Z"
   },
   {
    "duration": 0,
    "start_time": "2023-10-02T11:35:25.224Z"
   },
   {
    "duration": 0,
    "start_time": "2023-10-02T11:35:25.225Z"
   },
   {
    "duration": 0,
    "start_time": "2023-10-02T11:35:25.226Z"
   },
   {
    "duration": 0,
    "start_time": "2023-10-02T11:35:25.227Z"
   },
   {
    "duration": 0,
    "start_time": "2023-10-02T11:35:25.252Z"
   },
   {
    "duration": 0,
    "start_time": "2023-10-02T11:35:25.253Z"
   },
   {
    "duration": 0,
    "start_time": "2023-10-02T11:35:25.254Z"
   },
   {
    "duration": 0,
    "start_time": "2023-10-02T11:35:25.256Z"
   },
   {
    "duration": 0,
    "start_time": "2023-10-02T11:35:25.257Z"
   },
   {
    "duration": 0,
    "start_time": "2023-10-02T11:35:25.258Z"
   },
   {
    "duration": 0,
    "start_time": "2023-10-02T11:35:25.259Z"
   },
   {
    "duration": 0,
    "start_time": "2023-10-02T11:35:25.260Z"
   },
   {
    "duration": 0,
    "start_time": "2023-10-02T11:35:25.261Z"
   },
   {
    "duration": 0,
    "start_time": "2023-10-02T11:35:25.262Z"
   },
   {
    "duration": 0,
    "start_time": "2023-10-02T11:35:25.263Z"
   },
   {
    "duration": 0,
    "start_time": "2023-10-02T11:35:25.264Z"
   },
   {
    "duration": 0,
    "start_time": "2023-10-02T11:35:25.265Z"
   },
   {
    "duration": 0,
    "start_time": "2023-10-02T11:35:25.266Z"
   },
   {
    "duration": 0,
    "start_time": "2023-10-02T11:35:25.267Z"
   },
   {
    "duration": 0,
    "start_time": "2023-10-02T11:35:25.268Z"
   },
   {
    "duration": 0,
    "start_time": "2023-10-02T11:35:25.269Z"
   },
   {
    "duration": 0,
    "start_time": "2023-10-02T11:35:25.269Z"
   },
   {
    "duration": 0,
    "start_time": "2023-10-02T11:35:25.270Z"
   },
   {
    "duration": 0,
    "start_time": "2023-10-02T11:35:25.272Z"
   },
   {
    "duration": 8,
    "start_time": "2023-10-02T11:36:12.058Z"
   },
   {
    "duration": 1472,
    "start_time": "2023-10-02T11:37:44.940Z"
   },
   {
    "duration": 1233,
    "start_time": "2023-10-02T11:37:46.414Z"
   },
   {
    "duration": 20,
    "start_time": "2023-10-02T11:37:47.648Z"
   },
   {
    "duration": 151,
    "start_time": "2023-10-02T11:37:47.671Z"
   },
   {
    "duration": 3,
    "start_time": "2023-10-02T11:37:47.824Z"
   },
   {
    "duration": 85,
    "start_time": "2023-10-02T11:37:47.828Z"
   },
   {
    "duration": 263,
    "start_time": "2023-10-02T11:37:47.915Z"
   },
   {
    "duration": 422,
    "start_time": "2023-10-02T11:37:48.180Z"
   },
   {
    "duration": 497,
    "start_time": "2023-10-02T11:37:48.604Z"
   },
   {
    "duration": 18,
    "start_time": "2023-10-02T11:37:49.103Z"
   },
   {
    "duration": 53,
    "start_time": "2023-10-02T11:37:49.123Z"
   },
   {
    "duration": 29,
    "start_time": "2023-10-02T11:37:49.178Z"
   },
   {
    "duration": 254,
    "start_time": "2023-10-02T11:37:49.208Z"
   },
   {
    "duration": 353,
    "start_time": "2023-10-02T11:37:49.464Z"
   },
   {
    "duration": 32,
    "start_time": "2023-10-02T11:37:49.819Z"
   },
   {
    "duration": 74,
    "start_time": "2023-10-02T11:37:49.853Z"
   },
   {
    "duration": 40,
    "start_time": "2023-10-02T11:37:49.929Z"
   },
   {
    "duration": 91,
    "start_time": "2023-10-02T11:37:49.970Z"
   },
   {
    "duration": 34,
    "start_time": "2023-10-02T11:37:50.062Z"
   },
   {
    "duration": 40,
    "start_time": "2023-10-02T11:37:50.097Z"
   },
   {
    "duration": 49,
    "start_time": "2023-10-02T11:37:50.138Z"
   },
   {
    "duration": 76,
    "start_time": "2023-10-02T11:37:50.189Z"
   },
   {
    "duration": 3,
    "start_time": "2023-10-02T11:37:50.267Z"
   },
   {
    "duration": 16468,
    "start_time": "2023-10-02T11:37:50.272Z"
   },
   {
    "duration": 44,
    "start_time": "2023-10-02T11:38:06.742Z"
   },
   {
    "duration": 13,
    "start_time": "2023-10-02T11:38:06.787Z"
   },
   {
    "duration": 32,
    "start_time": "2023-10-02T11:38:06.801Z"
   },
   {
    "duration": 17,
    "start_time": "2023-10-02T11:38:06.837Z"
   },
   {
    "duration": 79,
    "start_time": "2023-10-02T11:38:06.856Z"
   },
   {
    "duration": 2828,
    "start_time": "2023-10-02T11:38:06.937Z"
   },
   {
    "duration": 0,
    "start_time": "2023-10-02T11:38:09.766Z"
   },
   {
    "duration": 0,
    "start_time": "2023-10-02T11:38:09.768Z"
   },
   {
    "duration": 0,
    "start_time": "2023-10-02T11:38:09.769Z"
   },
   {
    "duration": 0,
    "start_time": "2023-10-02T11:38:09.770Z"
   },
   {
    "duration": 0,
    "start_time": "2023-10-02T11:38:09.771Z"
   },
   {
    "duration": 0,
    "start_time": "2023-10-02T11:38:09.772Z"
   },
   {
    "duration": 0,
    "start_time": "2023-10-02T11:38:09.773Z"
   },
   {
    "duration": 0,
    "start_time": "2023-10-02T11:38:09.773Z"
   },
   {
    "duration": 0,
    "start_time": "2023-10-02T11:38:09.775Z"
   },
   {
    "duration": 0,
    "start_time": "2023-10-02T11:38:09.776Z"
   },
   {
    "duration": 0,
    "start_time": "2023-10-02T11:38:09.777Z"
   },
   {
    "duration": 0,
    "start_time": "2023-10-02T11:38:09.777Z"
   },
   {
    "duration": 0,
    "start_time": "2023-10-02T11:38:09.778Z"
   },
   {
    "duration": 0,
    "start_time": "2023-10-02T11:38:09.779Z"
   },
   {
    "duration": 0,
    "start_time": "2023-10-02T11:38:09.780Z"
   },
   {
    "duration": 0,
    "start_time": "2023-10-02T11:38:09.781Z"
   },
   {
    "duration": 0,
    "start_time": "2023-10-02T11:38:09.782Z"
   },
   {
    "duration": 0,
    "start_time": "2023-10-02T11:38:09.783Z"
   },
   {
    "duration": 0,
    "start_time": "2023-10-02T11:38:09.784Z"
   },
   {
    "duration": 0,
    "start_time": "2023-10-02T11:38:09.785Z"
   },
   {
    "duration": 0,
    "start_time": "2023-10-02T11:38:09.786Z"
   },
   {
    "duration": 0,
    "start_time": "2023-10-02T11:38:09.788Z"
   },
   {
    "duration": 0,
    "start_time": "2023-10-02T11:38:09.789Z"
   },
   {
    "duration": 0,
    "start_time": "2023-10-02T11:38:09.790Z"
   },
   {
    "duration": 0,
    "start_time": "2023-10-02T11:38:09.791Z"
   },
   {
    "duration": 0,
    "start_time": "2023-10-02T11:38:09.792Z"
   },
   {
    "duration": 0,
    "start_time": "2023-10-02T11:38:09.793Z"
   },
   {
    "duration": 0,
    "start_time": "2023-10-02T11:38:09.794Z"
   },
   {
    "duration": 0,
    "start_time": "2023-10-02T11:38:09.795Z"
   },
   {
    "duration": 0,
    "start_time": "2023-10-02T11:38:09.796Z"
   },
   {
    "duration": 0,
    "start_time": "2023-10-02T11:38:09.797Z"
   },
   {
    "duration": 9,
    "start_time": "2023-10-02T11:39:10.245Z"
   },
   {
    "duration": 304,
    "start_time": "2023-10-02T11:39:13.701Z"
   },
   {
    "duration": 1415,
    "start_time": "2023-10-02T11:40:40.907Z"
   },
   {
    "duration": 1146,
    "start_time": "2023-10-02T11:40:42.324Z"
   },
   {
    "duration": 18,
    "start_time": "2023-10-02T11:40:43.472Z"
   },
   {
    "duration": 185,
    "start_time": "2023-10-02T11:40:43.492Z"
   },
   {
    "duration": 4,
    "start_time": "2023-10-02T11:40:43.679Z"
   },
   {
    "duration": 97,
    "start_time": "2023-10-02T11:40:43.684Z"
   },
   {
    "duration": 324,
    "start_time": "2023-10-02T11:40:43.782Z"
   },
   {
    "duration": 556,
    "start_time": "2023-10-02T11:40:44.108Z"
   },
   {
    "duration": 572,
    "start_time": "2023-10-02T11:40:44.666Z"
   },
   {
    "duration": 20,
    "start_time": "2023-10-02T11:40:45.241Z"
   },
   {
    "duration": 43,
    "start_time": "2023-10-02T11:40:45.262Z"
   },
   {
    "duration": 50,
    "start_time": "2023-10-02T11:40:45.307Z"
   },
   {
    "duration": 262,
    "start_time": "2023-10-02T11:40:45.359Z"
   },
   {
    "duration": 416,
    "start_time": "2023-10-02T11:40:45.623Z"
   },
   {
    "duration": 29,
    "start_time": "2023-10-02T11:40:46.042Z"
   },
   {
    "duration": 114,
    "start_time": "2023-10-02T11:40:46.073Z"
   },
   {
    "duration": 29,
    "start_time": "2023-10-02T11:40:46.189Z"
   },
   {
    "duration": 50,
    "start_time": "2023-10-02T11:40:46.220Z"
   },
   {
    "duration": 36,
    "start_time": "2023-10-02T11:40:46.272Z"
   },
   {
    "duration": 57,
    "start_time": "2023-10-02T11:40:46.310Z"
   },
   {
    "duration": 34,
    "start_time": "2023-10-02T11:40:46.369Z"
   },
   {
    "duration": 96,
    "start_time": "2023-10-02T11:40:46.405Z"
   },
   {
    "duration": 2,
    "start_time": "2023-10-02T11:40:46.503Z"
   },
   {
    "duration": 17183,
    "start_time": "2023-10-02T11:40:46.507Z"
   },
   {
    "duration": 46,
    "start_time": "2023-10-02T11:41:03.733Z"
   },
   {
    "duration": 13,
    "start_time": "2023-10-02T11:41:03.780Z"
   },
   {
    "duration": 3,
    "start_time": "2023-10-02T11:41:03.794Z"
   },
   {
    "duration": 35,
    "start_time": "2023-10-02T11:41:03.800Z"
   },
   {
    "duration": 85,
    "start_time": "2023-10-02T11:41:03.836Z"
   },
   {
    "duration": 2805,
    "start_time": "2023-10-02T11:41:03.923Z"
   },
   {
    "duration": 0,
    "start_time": "2023-10-02T11:41:06.729Z"
   },
   {
    "duration": 0,
    "start_time": "2023-10-02T11:41:06.731Z"
   },
   {
    "duration": 0,
    "start_time": "2023-10-02T11:41:06.732Z"
   },
   {
    "duration": 0,
    "start_time": "2023-10-02T11:41:06.733Z"
   },
   {
    "duration": 0,
    "start_time": "2023-10-02T11:41:06.734Z"
   },
   {
    "duration": 0,
    "start_time": "2023-10-02T11:41:06.735Z"
   },
   {
    "duration": 0,
    "start_time": "2023-10-02T11:41:06.736Z"
   },
   {
    "duration": 0,
    "start_time": "2023-10-02T11:41:06.737Z"
   },
   {
    "duration": 0,
    "start_time": "2023-10-02T11:41:06.749Z"
   },
   {
    "duration": 0,
    "start_time": "2023-10-02T11:41:06.750Z"
   },
   {
    "duration": 0,
    "start_time": "2023-10-02T11:41:06.751Z"
   },
   {
    "duration": 0,
    "start_time": "2023-10-02T11:41:06.752Z"
   },
   {
    "duration": 0,
    "start_time": "2023-10-02T11:41:06.753Z"
   },
   {
    "duration": 0,
    "start_time": "2023-10-02T11:41:06.754Z"
   },
   {
    "duration": 0,
    "start_time": "2023-10-02T11:41:06.755Z"
   },
   {
    "duration": 0,
    "start_time": "2023-10-02T11:41:06.756Z"
   },
   {
    "duration": 0,
    "start_time": "2023-10-02T11:41:06.757Z"
   },
   {
    "duration": 0,
    "start_time": "2023-10-02T11:41:06.758Z"
   },
   {
    "duration": 0,
    "start_time": "2023-10-02T11:41:06.759Z"
   },
   {
    "duration": 0,
    "start_time": "2023-10-02T11:41:06.760Z"
   },
   {
    "duration": 0,
    "start_time": "2023-10-02T11:41:06.761Z"
   },
   {
    "duration": 0,
    "start_time": "2023-10-02T11:41:06.762Z"
   },
   {
    "duration": 0,
    "start_time": "2023-10-02T11:41:06.763Z"
   },
   {
    "duration": 0,
    "start_time": "2023-10-02T11:41:06.764Z"
   },
   {
    "duration": 0,
    "start_time": "2023-10-02T11:41:06.765Z"
   },
   {
    "duration": 0,
    "start_time": "2023-10-02T11:41:06.766Z"
   },
   {
    "duration": 0,
    "start_time": "2023-10-02T11:41:06.767Z"
   },
   {
    "duration": 0,
    "start_time": "2023-10-02T11:41:06.768Z"
   },
   {
    "duration": 0,
    "start_time": "2023-10-02T11:41:06.769Z"
   },
   {
    "duration": 0,
    "start_time": "2023-10-02T11:41:06.770Z"
   },
   {
    "duration": 0,
    "start_time": "2023-10-02T11:41:06.771Z"
   },
   {
    "duration": 109,
    "start_time": "2023-10-02T11:50:48.061Z"
   },
   {
    "duration": 19,
    "start_time": "2023-10-02T11:51:16.153Z"
   },
   {
    "duration": 3,
    "start_time": "2023-10-02T11:51:39.410Z"
   },
   {
    "duration": 146,
    "start_time": "2023-10-02T11:51:44.346Z"
   },
   {
    "duration": 13,
    "start_time": "2023-10-02T11:51:44.892Z"
   },
   {
    "duration": 3,
    "start_time": "2023-10-02T11:52:19.936Z"
   },
   {
    "duration": 86,
    "start_time": "2023-10-02T11:52:24.378Z"
   },
   {
    "duration": 2344,
    "start_time": "2023-10-02T11:52:24.696Z"
   },
   {
    "duration": 3,
    "start_time": "2023-10-02T11:54:50.332Z"
   },
   {
    "duration": 119,
    "start_time": "2023-10-02T11:54:53.810Z"
   },
   {
    "duration": 2369,
    "start_time": "2023-10-02T11:54:54.378Z"
   },
   {
    "duration": 119,
    "start_time": "2023-10-02T12:17:41.368Z"
   },
   {
    "duration": 2989,
    "start_time": "2023-10-02T12:17:41.972Z"
   },
   {
    "duration": 3,
    "start_time": "2023-10-02T12:18:06.980Z"
   },
   {
    "duration": 578,
    "start_time": "2023-10-02T12:18:08.121Z"
   },
   {
    "duration": 3,
    "start_time": "2023-10-02T12:18:09.479Z"
   },
   {
    "duration": 392,
    "start_time": "2023-10-02T12:18:11.220Z"
   },
   {
    "duration": 3,
    "start_time": "2023-10-02T12:18:12.832Z"
   },
   {
    "duration": 2,
    "start_time": "2023-10-02T12:18:13.806Z"
   },
   {
    "duration": 4,
    "start_time": "2023-10-02T12:18:14.172Z"
   },
   {
    "duration": 1497,
    "start_time": "2023-10-02T12:18:28.332Z"
   },
   {
    "duration": 1220,
    "start_time": "2023-10-02T12:18:29.831Z"
   },
   {
    "duration": 19,
    "start_time": "2023-10-02T12:18:31.064Z"
   },
   {
    "duration": 184,
    "start_time": "2023-10-02T12:18:31.085Z"
   },
   {
    "duration": 3,
    "start_time": "2023-10-02T12:18:31.271Z"
   },
   {
    "duration": 104,
    "start_time": "2023-10-02T12:18:31.276Z"
   },
   {
    "duration": 326,
    "start_time": "2023-10-02T12:18:31.382Z"
   },
   {
    "duration": 474,
    "start_time": "2023-10-02T12:18:31.710Z"
   },
   {
    "duration": 602,
    "start_time": "2023-10-02T12:18:32.186Z"
   },
   {
    "duration": 19,
    "start_time": "2023-10-02T12:18:32.791Z"
   },
   {
    "duration": 68,
    "start_time": "2023-10-02T12:18:32.812Z"
   },
   {
    "duration": 31,
    "start_time": "2023-10-02T12:18:32.881Z"
   },
   {
    "duration": 258,
    "start_time": "2023-10-02T12:18:32.913Z"
   },
   {
    "duration": 370,
    "start_time": "2023-10-02T12:18:33.172Z"
   },
   {
    "duration": 28,
    "start_time": "2023-10-02T12:18:33.544Z"
   },
   {
    "duration": 88,
    "start_time": "2023-10-02T12:18:33.574Z"
   },
   {
    "duration": 28,
    "start_time": "2023-10-02T12:18:33.664Z"
   },
   {
    "duration": 28,
    "start_time": "2023-10-02T12:18:33.694Z"
   },
   {
    "duration": 51,
    "start_time": "2023-10-02T12:18:33.723Z"
   },
   {
    "duration": 48,
    "start_time": "2023-10-02T12:18:33.776Z"
   },
   {
    "duration": 50,
    "start_time": "2023-10-02T12:18:33.825Z"
   },
   {
    "duration": 94,
    "start_time": "2023-10-02T12:18:33.876Z"
   },
   {
    "duration": 3,
    "start_time": "2023-10-02T12:18:33.971Z"
   },
   {
    "duration": 17716,
    "start_time": "2023-10-02T12:18:33.976Z"
   },
   {
    "duration": 43,
    "start_time": "2023-10-02T12:18:51.694Z"
   },
   {
    "duration": 22,
    "start_time": "2023-10-02T12:18:51.739Z"
   },
   {
    "duration": 3,
    "start_time": "2023-10-02T12:18:51.763Z"
   },
   {
    "duration": 7,
    "start_time": "2023-10-02T12:18:51.770Z"
   },
   {
    "duration": 84,
    "start_time": "2023-10-02T12:18:51.779Z"
   },
   {
    "duration": 2795,
    "start_time": "2023-10-02T12:18:51.865Z"
   },
   {
    "duration": 6,
    "start_time": "2023-10-02T12:18:54.662Z"
   },
   {
    "duration": 991,
    "start_time": "2023-10-02T12:18:54.672Z"
   },
   {
    "duration": 4,
    "start_time": "2023-10-02T12:18:55.668Z"
   },
   {
    "duration": 548,
    "start_time": "2023-10-02T12:18:55.673Z"
   },
   {
    "duration": 3,
    "start_time": "2023-10-02T12:18:56.222Z"
   },
   {
    "duration": 27,
    "start_time": "2023-10-02T12:18:56.226Z"
   },
   {
    "duration": 16,
    "start_time": "2023-10-02T12:18:56.254Z"
   },
   {
    "duration": 1461,
    "start_time": "2023-10-02T12:24:34.726Z"
   },
   {
    "duration": 1120,
    "start_time": "2023-10-02T12:24:36.189Z"
   },
   {
    "duration": 17,
    "start_time": "2023-10-02T12:24:37.310Z"
   },
   {
    "duration": 157,
    "start_time": "2023-10-02T12:24:37.329Z"
   },
   {
    "duration": 3,
    "start_time": "2023-10-02T12:24:37.488Z"
   },
   {
    "duration": 62,
    "start_time": "2023-10-02T12:24:37.492Z"
   },
   {
    "duration": 269,
    "start_time": "2023-10-02T12:24:37.555Z"
   },
   {
    "duration": 428,
    "start_time": "2023-10-02T12:24:37.826Z"
   },
   {
    "duration": 519,
    "start_time": "2023-10-02T12:24:38.256Z"
   },
   {
    "duration": 16,
    "start_time": "2023-10-02T12:24:38.778Z"
   },
   {
    "duration": 41,
    "start_time": "2023-10-02T12:24:38.795Z"
   },
   {
    "duration": 37,
    "start_time": "2023-10-02T12:24:38.838Z"
   },
   {
    "duration": 258,
    "start_time": "2023-10-02T12:24:38.877Z"
   },
   {
    "duration": 343,
    "start_time": "2023-10-02T12:24:39.136Z"
   },
   {
    "duration": 22,
    "start_time": "2023-10-02T12:24:39.481Z"
   },
   {
    "duration": 86,
    "start_time": "2023-10-02T12:24:39.505Z"
   },
   {
    "duration": 30,
    "start_time": "2023-10-02T12:24:39.593Z"
   },
   {
    "duration": 44,
    "start_time": "2023-10-02T12:24:39.625Z"
   },
   {
    "duration": 41,
    "start_time": "2023-10-02T12:24:39.671Z"
   },
   {
    "duration": 46,
    "start_time": "2023-10-02T12:24:39.713Z"
   },
   {
    "duration": 35,
    "start_time": "2023-10-02T12:24:39.761Z"
   },
   {
    "duration": 95,
    "start_time": "2023-10-02T12:24:39.798Z"
   },
   {
    "duration": 3,
    "start_time": "2023-10-02T12:24:39.895Z"
   },
   {
    "duration": 17173,
    "start_time": "2023-10-02T12:24:39.899Z"
   },
   {
    "duration": 52,
    "start_time": "2023-10-02T12:24:57.074Z"
   },
   {
    "duration": 15,
    "start_time": "2023-10-02T12:24:57.128Z"
   },
   {
    "duration": 28,
    "start_time": "2023-10-02T12:24:57.145Z"
   },
   {
    "duration": 38,
    "start_time": "2023-10-02T12:24:57.176Z"
   },
   {
    "duration": 94,
    "start_time": "2023-10-02T12:24:57.216Z"
   },
   {
    "duration": 2167,
    "start_time": "2023-10-02T12:24:57.311Z"
   },
   {
    "duration": 400,
    "start_time": "2023-10-02T12:24:59.480Z"
   },
   {
    "duration": 559,
    "start_time": "2023-10-02T12:24:59.881Z"
   },
   {
    "duration": 8,
    "start_time": "2023-10-02T12:25:00.442Z"
   },
   {
    "duration": 414,
    "start_time": "2023-10-02T12:25:00.452Z"
   },
   {
    "duration": 2,
    "start_time": "2023-10-02T12:25:00.868Z"
   },
   {
    "duration": 51,
    "start_time": "2023-10-02T12:25:00.872Z"
   },
   {
    "duration": 69,
    "start_time": "2023-10-02T12:25:00.924Z"
   },
   {
    "duration": 1336,
    "start_time": "2023-10-02T12:28:33.272Z"
   },
   {
    "duration": 1058,
    "start_time": "2023-10-02T12:28:34.610Z"
   },
   {
    "duration": 17,
    "start_time": "2023-10-02T12:28:35.669Z"
   },
   {
    "duration": 147,
    "start_time": "2023-10-02T12:28:35.688Z"
   },
   {
    "duration": 10,
    "start_time": "2023-10-02T12:28:35.836Z"
   },
   {
    "duration": 79,
    "start_time": "2023-10-02T12:28:35.847Z"
   },
   {
    "duration": 292,
    "start_time": "2023-10-02T12:28:35.928Z"
   },
   {
    "duration": 460,
    "start_time": "2023-10-02T12:28:36.222Z"
   },
   {
    "duration": 478,
    "start_time": "2023-10-02T12:28:36.684Z"
   },
   {
    "duration": 20,
    "start_time": "2023-10-02T12:28:37.165Z"
   },
   {
    "duration": 40,
    "start_time": "2023-10-02T12:28:37.186Z"
   },
   {
    "duration": 53,
    "start_time": "2023-10-02T12:28:37.227Z"
   },
   {
    "duration": 247,
    "start_time": "2023-10-02T12:28:37.282Z"
   },
   {
    "duration": 342,
    "start_time": "2023-10-02T12:28:37.530Z"
   },
   {
    "duration": 22,
    "start_time": "2023-10-02T12:28:37.874Z"
   },
   {
    "duration": 97,
    "start_time": "2023-10-02T12:28:37.897Z"
   },
   {
    "duration": 30,
    "start_time": "2023-10-02T12:28:37.995Z"
   },
   {
    "duration": 69,
    "start_time": "2023-10-02T12:28:38.026Z"
   },
   {
    "duration": 31,
    "start_time": "2023-10-02T12:28:38.096Z"
   },
   {
    "duration": 30,
    "start_time": "2023-10-02T12:28:38.128Z"
   },
   {
    "duration": 29,
    "start_time": "2023-10-02T12:28:38.159Z"
   },
   {
    "duration": 82,
    "start_time": "2023-10-02T12:28:38.190Z"
   },
   {
    "duration": 3,
    "start_time": "2023-10-02T12:28:38.274Z"
   },
   {
    "duration": 16309,
    "start_time": "2023-10-02T12:28:38.279Z"
   },
   {
    "duration": 39,
    "start_time": "2023-10-02T12:28:54.590Z"
   },
   {
    "duration": 12,
    "start_time": "2023-10-02T12:28:54.631Z"
   },
   {
    "duration": 41,
    "start_time": "2023-10-02T12:28:54.645Z"
   },
   {
    "duration": 20,
    "start_time": "2023-10-02T12:28:54.688Z"
   },
   {
    "duration": 93,
    "start_time": "2023-10-02T12:28:54.709Z"
   },
   {
    "duration": 2124,
    "start_time": "2023-10-02T12:28:54.804Z"
   },
   {
    "duration": 18,
    "start_time": "2023-10-02T12:29:37.714Z"
   },
   {
    "duration": 4,
    "start_time": "2023-10-02T12:29:43.051Z"
   },
   {
    "duration": 62,
    "start_time": "2023-10-02T12:33:46.365Z"
   },
   {
    "duration": 211,
    "start_time": "2023-10-02T12:33:47.000Z"
   },
   {
    "duration": 70,
    "start_time": "2023-10-02T12:34:01.639Z"
   },
   {
    "duration": 1080,
    "start_time": "2023-10-02T12:34:02.007Z"
   },
   {
    "duration": 10,
    "start_time": "2023-10-02T12:34:31.219Z"
   },
   {
    "duration": 60,
    "start_time": "2023-10-02T12:34:33.442Z"
   },
   {
    "duration": 1425,
    "start_time": "2023-10-02T12:34:34.061Z"
   },
   {
    "duration": 3,
    "start_time": "2023-10-02T12:34:40.836Z"
   },
   {
    "duration": 1055,
    "start_time": "2023-10-02T12:34:41.305Z"
   },
   {
    "duration": 7,
    "start_time": "2023-10-02T12:34:42.364Z"
   },
   {
    "duration": 395,
    "start_time": "2023-10-02T12:34:45.174Z"
   },
   {
    "duration": 2,
    "start_time": "2023-10-02T12:34:48.365Z"
   },
   {
    "duration": 3,
    "start_time": "2023-10-02T12:34:48.689Z"
   },
   {
    "duration": 11,
    "start_time": "2023-10-02T12:34:48.849Z"
   },
   {
    "duration": 46,
    "start_time": "2023-10-02T12:35:18.381Z"
   },
   {
    "duration": 1571,
    "start_time": "2023-10-02T12:35:30.171Z"
   },
   {
    "duration": 1241,
    "start_time": "2023-10-02T12:35:31.744Z"
   },
   {
    "duration": 17,
    "start_time": "2023-10-02T12:35:32.987Z"
   },
   {
    "duration": 220,
    "start_time": "2023-10-02T12:35:33.006Z"
   },
   {
    "duration": 3,
    "start_time": "2023-10-02T12:35:33.228Z"
   },
   {
    "duration": 107,
    "start_time": "2023-10-02T12:35:33.232Z"
   },
   {
    "duration": 291,
    "start_time": "2023-10-02T12:35:33.341Z"
   },
   {
    "duration": 462,
    "start_time": "2023-10-02T12:35:33.634Z"
   },
   {
    "duration": 573,
    "start_time": "2023-10-02T12:35:34.098Z"
   },
   {
    "duration": 19,
    "start_time": "2023-10-02T12:35:34.676Z"
   },
   {
    "duration": 90,
    "start_time": "2023-10-02T12:35:34.696Z"
   },
   {
    "duration": 39,
    "start_time": "2023-10-02T12:35:34.788Z"
   },
   {
    "duration": 263,
    "start_time": "2023-10-02T12:35:34.829Z"
   },
   {
    "duration": 374,
    "start_time": "2023-10-02T12:35:35.093Z"
   },
   {
    "duration": 23,
    "start_time": "2023-10-02T12:35:35.468Z"
   },
   {
    "duration": 119,
    "start_time": "2023-10-02T12:35:35.492Z"
   },
   {
    "duration": 30,
    "start_time": "2023-10-02T12:35:35.612Z"
   },
   {
    "duration": 60,
    "start_time": "2023-10-02T12:35:35.643Z"
   },
   {
    "duration": 70,
    "start_time": "2023-10-02T12:35:35.705Z"
   },
   {
    "duration": 53,
    "start_time": "2023-10-02T12:35:35.776Z"
   },
   {
    "duration": 45,
    "start_time": "2023-10-02T12:35:35.831Z"
   },
   {
    "duration": 161,
    "start_time": "2023-10-02T12:35:35.877Z"
   },
   {
    "duration": 4,
    "start_time": "2023-10-02T12:35:36.040Z"
   },
   {
    "duration": 17995,
    "start_time": "2023-10-02T12:35:36.045Z"
   },
   {
    "duration": 50,
    "start_time": "2023-10-02T12:35:54.042Z"
   },
   {
    "duration": 21,
    "start_time": "2023-10-02T12:35:54.094Z"
   },
   {
    "duration": 61,
    "start_time": "2023-10-02T12:35:54.117Z"
   },
   {
    "duration": 55,
    "start_time": "2023-10-02T12:35:54.180Z"
   },
   {
    "duration": 119,
    "start_time": "2023-10-02T12:35:54.237Z"
   },
   {
    "duration": 1432,
    "start_time": "2023-10-02T12:35:54.358Z"
   },
   {
    "duration": 5,
    "start_time": "2023-10-02T12:35:55.792Z"
   },
   {
    "duration": 5,
    "start_time": "2023-10-02T12:36:06.682Z"
   },
   {
    "duration": 6,
    "start_time": "2023-10-02T12:36:16.554Z"
   },
   {
    "duration": 4,
    "start_time": "2023-10-02T12:36:31.233Z"
   },
   {
    "duration": 646,
    "start_time": "2023-10-02T12:36:31.435Z"
   },
   {
    "duration": 7,
    "start_time": "2023-10-02T12:36:32.083Z"
   },
   {
    "duration": 421,
    "start_time": "2023-10-02T12:36:33.781Z"
   },
   {
    "duration": 3,
    "start_time": "2023-10-02T12:36:37.487Z"
   },
   {
    "duration": 3,
    "start_time": "2023-10-02T12:36:39.094Z"
   },
   {
    "duration": 5,
    "start_time": "2023-10-02T12:36:39.289Z"
   },
   {
    "duration": 66275,
    "start_time": "2023-10-02T12:36:42.683Z"
   },
   {
    "duration": 131061,
    "start_time": "2023-10-02T12:38:11.004Z"
   },
   {
    "duration": 568469,
    "start_time": "2023-10-02T12:40:22.073Z"
   },
   {
    "duration": 42294,
    "start_time": "2023-10-02T12:49:50.544Z"
   },
   {
    "duration": 28377,
    "start_time": "2023-10-02T12:50:32.840Z"
   },
   {
    "duration": 2141,
    "start_time": "2023-10-02T12:51:01.219Z"
   },
   {
    "duration": 72443,
    "start_time": "2023-10-02T12:51:03.365Z"
   },
   {
    "duration": 70400,
    "start_time": "2023-10-02T12:52:15.810Z"
   },
   {
    "duration": 416773,
    "start_time": "2023-10-02T12:53:26.212Z"
   },
   {
    "duration": 2944,
    "start_time": "2023-10-02T13:00:22.987Z"
   },
   {
    "duration": 21152,
    "start_time": "2023-10-02T13:00:25.934Z"
   },
   {
    "duration": 13072,
    "start_time": "2023-10-02T13:00:47.088Z"
   },
   {
    "duration": 349696,
    "start_time": "2023-10-02T13:01:00.161Z"
   },
   {
    "duration": 21283,
    "start_time": "2023-10-02T13:06:49.868Z"
   },
   {
    "duration": 253544,
    "start_time": "2023-10-02T13:07:11.152Z"
   },
   {
    "duration": 33071,
    "start_time": "2023-10-02T13:11:24.700Z"
   },
   {
    "duration": 67390,
    "start_time": "2023-10-02T13:11:57.773Z"
   },
   {
    "duration": 18,
    "start_time": "2023-10-02T13:13:05.165Z"
   },
   {
    "duration": 13,
    "start_time": "2023-10-02T13:13:05.185Z"
   },
   {
    "duration": 32070,
    "start_time": "2023-10-02T13:13:05.200Z"
   },
   {
    "duration": 98,
    "start_time": "2023-10-02T13:13:37.272Z"
   },
   {
    "duration": 22,
    "start_time": "2023-10-02T13:13:37.377Z"
   },
   {
    "duration": 77783,
    "start_time": "2023-10-02T13:13:37.400Z"
   },
   {
    "duration": 9,
    "start_time": "2023-10-02T13:14:55.185Z"
   },
   {
    "duration": 123,
    "start_time": "2023-10-02T13:17:55.285Z"
   },
   {
    "duration": 5395,
    "start_time": "2023-10-03T12:04:43.792Z"
   },
   {
    "duration": 1684,
    "start_time": "2023-10-03T12:04:49.189Z"
   },
   {
    "duration": 22,
    "start_time": "2023-10-03T12:04:50.875Z"
   },
   {
    "duration": 237,
    "start_time": "2023-10-03T12:04:50.899Z"
   },
   {
    "duration": 9,
    "start_time": "2023-10-03T12:04:51.143Z"
   },
   {
    "duration": 73,
    "start_time": "2023-10-03T12:04:51.154Z"
   },
   {
    "duration": 379,
    "start_time": "2023-10-03T12:04:51.229Z"
   },
   {
    "duration": 601,
    "start_time": "2023-10-03T12:04:51.616Z"
   },
   {
    "duration": 878,
    "start_time": "2023-10-03T12:04:52.219Z"
   },
   {
    "duration": 61,
    "start_time": "2023-10-03T12:04:53.100Z"
   },
   {
    "duration": 60,
    "start_time": "2023-10-03T12:04:53.165Z"
   },
   {
    "duration": 42,
    "start_time": "2023-10-03T12:04:53.227Z"
   },
   {
    "duration": 330,
    "start_time": "2023-10-03T12:04:53.271Z"
   },
   {
    "duration": 567,
    "start_time": "2023-10-03T12:04:53.612Z"
   },
   {
    "duration": 36,
    "start_time": "2023-10-03T12:04:54.181Z"
   },
   {
    "duration": 129,
    "start_time": "2023-10-03T12:04:54.220Z"
   },
   {
    "duration": 87,
    "start_time": "2023-10-03T12:04:54.351Z"
   },
   {
    "duration": 43,
    "start_time": "2023-10-03T12:04:54.440Z"
   },
   {
    "duration": 73,
    "start_time": "2023-10-03T12:04:54.486Z"
   },
   {
    "duration": 39,
    "start_time": "2023-10-03T12:04:54.561Z"
   },
   {
    "duration": 68,
    "start_time": "2023-10-03T12:04:54.602Z"
   },
   {
    "duration": 115,
    "start_time": "2023-10-03T12:04:54.672Z"
   },
   {
    "duration": 2,
    "start_time": "2023-10-03T12:04:54.789Z"
   },
   {
    "duration": 25219,
    "start_time": "2023-10-03T12:04:54.793Z"
   },
   {
    "duration": 48,
    "start_time": "2023-10-03T12:05:20.014Z"
   },
   {
    "duration": 26,
    "start_time": "2023-10-03T12:05:20.073Z"
   },
   {
    "duration": 5,
    "start_time": "2023-10-03T12:05:20.113Z"
   },
   {
    "duration": 16,
    "start_time": "2023-10-03T12:05:20.120Z"
   },
   {
    "duration": 130,
    "start_time": "2023-10-03T12:05:20.148Z"
   },
   {
    "duration": 1917,
    "start_time": "2023-10-03T12:05:20.281Z"
   },
   {
    "duration": 4,
    "start_time": "2023-10-03T12:05:22.200Z"
   },
   {
    "duration": 13,
    "start_time": "2023-10-03T12:05:27.440Z"
   },
   {
    "duration": 951,
    "start_time": "2023-10-03T12:05:34.963Z"
   },
   {
    "duration": 5,
    "start_time": "2023-10-03T12:05:36.196Z"
   },
   {
    "duration": 42,
    "start_time": "2023-10-03T12:05:39.934Z"
   },
   {
    "duration": 5,
    "start_time": "2023-10-03T12:05:56.994Z"
   },
   {
    "duration": 6,
    "start_time": "2023-10-03T12:06:05.594Z"
   },
   {
    "duration": 30,
    "start_time": "2023-10-03T12:07:04.195Z"
   },
   {
    "duration": 9,
    "start_time": "2023-10-04T21:13:28.813Z"
   },
   {
    "duration": 75,
    "start_time": "2023-10-04T21:13:28.825Z"
   },
   {
    "duration": 20,
    "start_time": "2023-10-04T21:13:28.903Z"
   },
   {
    "duration": 110,
    "start_time": "2023-10-04T21:13:28.926Z"
   },
   {
    "duration": 3,
    "start_time": "2023-10-04T21:13:29.039Z"
   },
   {
    "duration": 28,
    "start_time": "2023-10-04T21:13:29.043Z"
   },
   {
    "duration": 37,
    "start_time": "2023-10-04T21:13:29.073Z"
   },
   {
    "duration": 489,
    "start_time": "2023-10-04T21:13:29.112Z"
   },
   {
    "duration": 471,
    "start_time": "2023-10-04T21:13:29.602Z"
   },
   {
    "duration": 6,
    "start_time": "2023-10-04T21:13:30.075Z"
   },
   {
    "duration": 106,
    "start_time": "2023-10-04T21:13:30.082Z"
   },
   {
    "duration": 58,
    "start_time": "2023-10-04T21:13:30.190Z"
   },
   {
    "duration": 296,
    "start_time": "2023-10-04T21:13:30.250Z"
   },
   {
    "duration": 967,
    "start_time": "2023-10-04T21:13:30.548Z"
   },
   {
    "duration": 50,
    "start_time": "2023-10-04T21:13:31.517Z"
   },
   {
    "duration": 173,
    "start_time": "2023-10-04T21:13:31.569Z"
   },
   {
    "duration": 44,
    "start_time": "2023-10-04T21:13:31.744Z"
   },
   {
    "duration": 57,
    "start_time": "2023-10-04T21:13:31.789Z"
   },
   {
    "duration": 91,
    "start_time": "2023-10-04T21:13:31.848Z"
   },
   {
    "duration": 58,
    "start_time": "2023-10-04T21:13:31.941Z"
   },
   {
    "duration": 60,
    "start_time": "2023-10-04T21:13:32.000Z"
   },
   {
    "duration": 87,
    "start_time": "2023-10-04T21:13:32.062Z"
   },
   {
    "duration": 10,
    "start_time": "2023-10-04T21:13:32.156Z"
   },
   {
    "duration": 18582,
    "start_time": "2023-10-04T21:13:32.168Z"
   },
   {
    "duration": 52,
    "start_time": "2023-10-04T21:13:50.755Z"
   },
   {
    "duration": 18,
    "start_time": "2023-10-04T21:13:50.810Z"
   },
   {
    "duration": 37,
    "start_time": "2023-10-04T21:13:50.830Z"
   },
   {
    "duration": 24,
    "start_time": "2023-10-04T21:13:50.871Z"
   },
   {
    "duration": 10,
    "start_time": "2023-10-04T21:13:50.897Z"
   },
   {
    "duration": 108,
    "start_time": "2023-10-04T21:13:50.909Z"
   },
   {
    "duration": 19,
    "start_time": "2023-10-04T21:13:51.018Z"
   },
   {
    "duration": 0,
    "start_time": "2023-10-04T21:13:51.039Z"
   },
   {
    "duration": 0,
    "start_time": "2023-10-04T21:13:51.040Z"
   },
   {
    "duration": 0,
    "start_time": "2023-10-04T21:13:51.042Z"
   },
   {
    "duration": 0,
    "start_time": "2023-10-04T21:13:51.042Z"
   },
   {
    "duration": 0,
    "start_time": "2023-10-04T21:13:51.056Z"
   },
   {
    "duration": 0,
    "start_time": "2023-10-04T21:13:51.057Z"
   },
   {
    "duration": 0,
    "start_time": "2023-10-04T21:13:51.057Z"
   },
   {
    "duration": 0,
    "start_time": "2023-10-04T21:13:51.058Z"
   },
   {
    "duration": 0,
    "start_time": "2023-10-04T21:13:51.058Z"
   },
   {
    "duration": 0,
    "start_time": "2023-10-04T21:13:51.059Z"
   },
   {
    "duration": 0,
    "start_time": "2023-10-04T21:13:51.060Z"
   },
   {
    "duration": 0,
    "start_time": "2023-10-04T21:13:51.060Z"
   },
   {
    "duration": 0,
    "start_time": "2023-10-04T21:13:51.061Z"
   },
   {
    "duration": 0,
    "start_time": "2023-10-04T21:13:51.061Z"
   },
   {
    "duration": 0,
    "start_time": "2023-10-04T21:13:51.062Z"
   },
   {
    "duration": 0,
    "start_time": "2023-10-04T21:13:51.062Z"
   },
   {
    "duration": 0,
    "start_time": "2023-10-04T21:13:51.063Z"
   },
   {
    "duration": 0,
    "start_time": "2023-10-04T21:13:51.064Z"
   },
   {
    "duration": 0,
    "start_time": "2023-10-04T21:13:51.064Z"
   },
   {
    "duration": 0,
    "start_time": "2023-10-04T21:13:51.065Z"
   },
   {
    "duration": 0,
    "start_time": "2023-10-04T21:13:51.065Z"
   },
   {
    "duration": 0,
    "start_time": "2023-10-04T21:13:51.066Z"
   },
   {
    "duration": 0,
    "start_time": "2023-10-04T21:13:51.067Z"
   },
   {
    "duration": 0,
    "start_time": "2023-10-04T21:13:51.067Z"
   },
   {
    "duration": 0,
    "start_time": "2023-10-04T21:13:51.070Z"
   },
   {
    "duration": 0,
    "start_time": "2023-10-04T21:13:51.071Z"
   },
   {
    "duration": 0,
    "start_time": "2023-10-04T21:13:51.072Z"
   },
   {
    "duration": 0,
    "start_time": "2023-10-04T21:13:51.073Z"
   },
   {
    "duration": 0,
    "start_time": "2023-10-04T21:13:51.074Z"
   },
   {
    "duration": 0,
    "start_time": "2023-10-04T21:13:51.075Z"
   },
   {
    "duration": 0,
    "start_time": "2023-10-04T21:13:51.076Z"
   },
   {
    "duration": 0,
    "start_time": "2023-10-04T21:13:51.077Z"
   },
   {
    "duration": 0,
    "start_time": "2023-10-04T21:13:51.078Z"
   },
   {
    "duration": 0,
    "start_time": "2023-10-04T21:13:51.079Z"
   },
   {
    "duration": 0,
    "start_time": "2023-10-04T21:13:51.080Z"
   },
   {
    "duration": 0,
    "start_time": "2023-10-04T21:13:51.081Z"
   },
   {
    "duration": 0,
    "start_time": "2023-10-04T21:13:51.082Z"
   },
   {
    "duration": 0,
    "start_time": "2023-10-04T21:13:51.083Z"
   },
   {
    "duration": 0,
    "start_time": "2023-10-04T21:13:51.084Z"
   },
   {
    "duration": 3,
    "start_time": "2023-10-04T21:14:15.303Z"
   },
   {
    "duration": 78,
    "start_time": "2023-10-04T21:14:19.018Z"
   },
   {
    "duration": 1543,
    "start_time": "2023-10-04T21:14:19.429Z"
   },
   {
    "duration": 4,
    "start_time": "2023-10-04T21:14:22.029Z"
   },
   {
    "duration": 13,
    "start_time": "2023-10-04T21:14:22.368Z"
   },
   {
    "duration": 4440,
    "start_time": "2023-10-04T21:14:31.427Z"
   },
   {
    "duration": 96,
    "start_time": "2023-10-04T21:14:37.614Z"
   },
   {
    "duration": 45,
    "start_time": "2023-10-04T21:14:39.331Z"
   },
   {
    "duration": 606,
    "start_time": "2023-10-04T21:14:44.735Z"
   },
   {
    "duration": 5,
    "start_time": "2023-10-04T21:14:45.990Z"
   },
   {
    "duration": 3,
    "start_time": "2023-10-04T21:14:47.213Z"
   },
   {
    "duration": 113,
    "start_time": "2023-10-04T21:14:47.327Z"
   },
   {
    "duration": 3,
    "start_time": "2023-10-04T21:14:48.774Z"
   },
   {
    "duration": 3,
    "start_time": "2023-10-04T21:14:49.000Z"
   },
   {
    "duration": 5,
    "start_time": "2023-10-04T21:14:49.120Z"
   },
   {
    "duration": 52,
    "start_time": "2023-10-04T21:14:54.554Z"
   },
   {
    "duration": 0,
    "start_time": "2023-10-04T21:14:54.608Z"
   },
   {
    "duration": 0,
    "start_time": "2023-10-04T21:14:54.609Z"
   },
   {
    "duration": 0,
    "start_time": "2023-10-04T21:14:54.610Z"
   },
   {
    "duration": 0,
    "start_time": "2023-10-04T21:14:54.611Z"
   },
   {
    "duration": 0,
    "start_time": "2023-10-04T21:14:54.612Z"
   },
   {
    "duration": 0,
    "start_time": "2023-10-04T21:14:54.613Z"
   },
   {
    "duration": 1576,
    "start_time": "2023-10-04T21:14:59.407Z"
   },
   {
    "duration": 85,
    "start_time": "2023-10-04T21:15:00.985Z"
   },
   {
    "duration": 134,
    "start_time": "2023-10-04T21:15:01.072Z"
   },
   {
    "duration": 0,
    "start_time": "2023-10-04T21:15:01.210Z"
   },
   {
    "duration": 0,
    "start_time": "2023-10-04T21:15:01.212Z"
   },
   {
    "duration": 0,
    "start_time": "2023-10-04T21:15:01.213Z"
   },
   {
    "duration": 0,
    "start_time": "2023-10-04T21:15:01.215Z"
   },
   {
    "duration": 0,
    "start_time": "2023-10-04T21:15:01.216Z"
   },
   {
    "duration": 0,
    "start_time": "2023-10-04T21:15:01.218Z"
   },
   {
    "duration": 0,
    "start_time": "2023-10-04T21:15:01.219Z"
   },
   {
    "duration": 0,
    "start_time": "2023-10-04T21:15:01.221Z"
   },
   {
    "duration": 0,
    "start_time": "2023-10-04T21:15:01.222Z"
   },
   {
    "duration": 0,
    "start_time": "2023-10-04T21:15:01.224Z"
   },
   {
    "duration": 0,
    "start_time": "2023-10-04T21:15:01.225Z"
   },
   {
    "duration": 0,
    "start_time": "2023-10-04T21:15:01.226Z"
   },
   {
    "duration": 0,
    "start_time": "2023-10-04T21:15:01.256Z"
   },
   {
    "duration": 0,
    "start_time": "2023-10-04T21:15:01.258Z"
   },
   {
    "duration": 0,
    "start_time": "2023-10-04T21:15:01.260Z"
   },
   {
    "duration": 0,
    "start_time": "2023-10-04T21:15:01.261Z"
   },
   {
    "duration": 0,
    "start_time": "2023-10-04T21:15:01.261Z"
   },
   {
    "duration": 0,
    "start_time": "2023-10-04T21:15:01.262Z"
   },
   {
    "duration": 0,
    "start_time": "2023-10-04T21:15:01.263Z"
   },
   {
    "duration": 0,
    "start_time": "2023-10-04T21:15:01.264Z"
   },
   {
    "duration": 0,
    "start_time": "2023-10-04T21:15:01.265Z"
   },
   {
    "duration": 0,
    "start_time": "2023-10-04T21:15:01.266Z"
   },
   {
    "duration": 0,
    "start_time": "2023-10-04T21:15:01.267Z"
   },
   {
    "duration": 0,
    "start_time": "2023-10-04T21:15:01.268Z"
   },
   {
    "duration": 0,
    "start_time": "2023-10-04T21:15:01.269Z"
   },
   {
    "duration": 0,
    "start_time": "2023-10-04T21:15:01.270Z"
   },
   {
    "duration": 0,
    "start_time": "2023-10-04T21:15:01.271Z"
   },
   {
    "duration": 0,
    "start_time": "2023-10-04T21:15:01.272Z"
   },
   {
    "duration": 0,
    "start_time": "2023-10-04T21:15:01.273Z"
   },
   {
    "duration": 0,
    "start_time": "2023-10-04T21:15:01.274Z"
   },
   {
    "duration": 0,
    "start_time": "2023-10-04T21:15:01.275Z"
   },
   {
    "duration": 0,
    "start_time": "2023-10-04T21:15:01.276Z"
   },
   {
    "duration": 0,
    "start_time": "2023-10-04T21:15:01.278Z"
   },
   {
    "duration": 0,
    "start_time": "2023-10-04T21:15:01.279Z"
   },
   {
    "duration": 0,
    "start_time": "2023-10-04T21:15:01.280Z"
   },
   {
    "duration": 0,
    "start_time": "2023-10-04T21:15:01.282Z"
   },
   {
    "duration": 0,
    "start_time": "2023-10-04T21:15:01.283Z"
   },
   {
    "duration": 0,
    "start_time": "2023-10-04T21:15:01.283Z"
   },
   {
    "duration": 0,
    "start_time": "2023-10-04T21:15:01.285Z"
   },
   {
    "duration": 0,
    "start_time": "2023-10-04T21:15:01.286Z"
   },
   {
    "duration": 0,
    "start_time": "2023-10-04T21:15:01.287Z"
   },
   {
    "duration": 0,
    "start_time": "2023-10-04T21:15:01.288Z"
   },
   {
    "duration": 0,
    "start_time": "2023-10-04T21:15:01.289Z"
   },
   {
    "duration": 0,
    "start_time": "2023-10-04T21:15:01.290Z"
   },
   {
    "duration": 0,
    "start_time": "2023-10-04T21:15:01.291Z"
   },
   {
    "duration": 0,
    "start_time": "2023-10-04T21:15:01.292Z"
   },
   {
    "duration": 0,
    "start_time": "2023-10-04T21:15:01.293Z"
   },
   {
    "duration": 0,
    "start_time": "2023-10-04T21:15:01.294Z"
   },
   {
    "duration": 0,
    "start_time": "2023-10-04T21:15:01.295Z"
   },
   {
    "duration": 0,
    "start_time": "2023-10-04T21:15:01.297Z"
   },
   {
    "duration": 0,
    "start_time": "2023-10-04T21:15:01.298Z"
   },
   {
    "duration": 0,
    "start_time": "2023-10-04T21:15:01.357Z"
   },
   {
    "duration": 0,
    "start_time": "2023-10-04T21:15:01.358Z"
   },
   {
    "duration": 0,
    "start_time": "2023-10-04T21:15:01.358Z"
   },
   {
    "duration": 0,
    "start_time": "2023-10-04T21:15:01.359Z"
   },
   {
    "duration": 0,
    "start_time": "2023-10-04T21:15:01.361Z"
   },
   {
    "duration": 0,
    "start_time": "2023-10-04T21:15:01.362Z"
   },
   {
    "duration": 0,
    "start_time": "2023-10-04T21:15:01.363Z"
   },
   {
    "duration": 0,
    "start_time": "2023-10-04T21:15:01.363Z"
   },
   {
    "duration": 0,
    "start_time": "2023-10-04T21:15:01.365Z"
   },
   {
    "duration": 0,
    "start_time": "2023-10-04T21:15:01.366Z"
   },
   {
    "duration": 0,
    "start_time": "2023-10-04T21:15:01.367Z"
   },
   {
    "duration": 0,
    "start_time": "2023-10-04T21:15:01.368Z"
   },
   {
    "duration": 0,
    "start_time": "2023-10-04T21:15:01.368Z"
   },
   {
    "duration": 0,
    "start_time": "2023-10-04T21:15:01.369Z"
   },
   {
    "duration": 0,
    "start_time": "2023-10-04T21:15:01.370Z"
   },
   {
    "duration": 0,
    "start_time": "2023-10-04T21:15:01.373Z"
   },
   {
    "duration": 1519,
    "start_time": "2023-10-04T21:15:23.570Z"
   },
   {
    "duration": 61,
    "start_time": "2023-10-04T21:15:25.091Z"
   },
   {
    "duration": 130,
    "start_time": "2023-10-04T21:15:25.154Z"
   },
   {
    "duration": 0,
    "start_time": "2023-10-04T21:15:25.288Z"
   },
   {
    "duration": 0,
    "start_time": "2023-10-04T21:15:25.289Z"
   },
   {
    "duration": 0,
    "start_time": "2023-10-04T21:15:25.290Z"
   },
   {
    "duration": 0,
    "start_time": "2023-10-04T21:15:25.292Z"
   },
   {
    "duration": 0,
    "start_time": "2023-10-04T21:15:25.292Z"
   },
   {
    "duration": 0,
    "start_time": "2023-10-04T21:15:25.293Z"
   },
   {
    "duration": 0,
    "start_time": "2023-10-04T21:15:25.294Z"
   },
   {
    "duration": 0,
    "start_time": "2023-10-04T21:15:25.295Z"
   },
   {
    "duration": 0,
    "start_time": "2023-10-04T21:15:25.296Z"
   },
   {
    "duration": 0,
    "start_time": "2023-10-04T21:15:25.297Z"
   },
   {
    "duration": 0,
    "start_time": "2023-10-04T21:15:25.299Z"
   },
   {
    "duration": 0,
    "start_time": "2023-10-04T21:15:25.300Z"
   },
   {
    "duration": 0,
    "start_time": "2023-10-04T21:15:25.301Z"
   },
   {
    "duration": 0,
    "start_time": "2023-10-04T21:15:25.302Z"
   },
   {
    "duration": 0,
    "start_time": "2023-10-04T21:15:25.302Z"
   },
   {
    "duration": 0,
    "start_time": "2023-10-04T21:15:25.303Z"
   },
   {
    "duration": 0,
    "start_time": "2023-10-04T21:15:25.304Z"
   },
   {
    "duration": 0,
    "start_time": "2023-10-04T21:15:25.305Z"
   },
   {
    "duration": 0,
    "start_time": "2023-10-04T21:15:25.306Z"
   },
   {
    "duration": 0,
    "start_time": "2023-10-04T21:15:25.307Z"
   },
   {
    "duration": 0,
    "start_time": "2023-10-04T21:15:25.308Z"
   },
   {
    "duration": 0,
    "start_time": "2023-10-04T21:15:25.309Z"
   },
   {
    "duration": 0,
    "start_time": "2023-10-04T21:15:25.310Z"
   },
   {
    "duration": 0,
    "start_time": "2023-10-04T21:15:25.311Z"
   },
   {
    "duration": 0,
    "start_time": "2023-10-04T21:15:25.312Z"
   },
   {
    "duration": 0,
    "start_time": "2023-10-04T21:15:25.313Z"
   },
   {
    "duration": 0,
    "start_time": "2023-10-04T21:15:25.314Z"
   },
   {
    "duration": 0,
    "start_time": "2023-10-04T21:15:25.315Z"
   },
   {
    "duration": 0,
    "start_time": "2023-10-04T21:15:25.316Z"
   },
   {
    "duration": 0,
    "start_time": "2023-10-04T21:15:25.317Z"
   },
   {
    "duration": 0,
    "start_time": "2023-10-04T21:15:25.364Z"
   },
   {
    "duration": 0,
    "start_time": "2023-10-04T21:15:25.365Z"
   },
   {
    "duration": 0,
    "start_time": "2023-10-04T21:15:25.365Z"
   },
   {
    "duration": 0,
    "start_time": "2023-10-04T21:15:25.366Z"
   },
   {
    "duration": 0,
    "start_time": "2023-10-04T21:15:25.367Z"
   },
   {
    "duration": 0,
    "start_time": "2023-10-04T21:15:25.367Z"
   },
   {
    "duration": 0,
    "start_time": "2023-10-04T21:15:25.371Z"
   },
   {
    "duration": 0,
    "start_time": "2023-10-04T21:15:25.373Z"
   },
   {
    "duration": 0,
    "start_time": "2023-10-04T21:15:25.373Z"
   },
   {
    "duration": 0,
    "start_time": "2023-10-04T21:15:25.374Z"
   },
   {
    "duration": 0,
    "start_time": "2023-10-04T21:15:25.375Z"
   },
   {
    "duration": 0,
    "start_time": "2023-10-04T21:15:25.376Z"
   },
   {
    "duration": 0,
    "start_time": "2023-10-04T21:15:25.377Z"
   },
   {
    "duration": 0,
    "start_time": "2023-10-04T21:15:25.378Z"
   },
   {
    "duration": 0,
    "start_time": "2023-10-04T21:15:25.379Z"
   },
   {
    "duration": 0,
    "start_time": "2023-10-04T21:15:25.380Z"
   },
   {
    "duration": 0,
    "start_time": "2023-10-04T21:15:25.381Z"
   },
   {
    "duration": 0,
    "start_time": "2023-10-04T21:15:25.383Z"
   },
   {
    "duration": 0,
    "start_time": "2023-10-04T21:15:25.383Z"
   },
   {
    "duration": 0,
    "start_time": "2023-10-04T21:15:25.385Z"
   },
   {
    "duration": 0,
    "start_time": "2023-10-04T21:15:25.385Z"
   },
   {
    "duration": 0,
    "start_time": "2023-10-04T21:15:25.386Z"
   },
   {
    "duration": 0,
    "start_time": "2023-10-04T21:15:25.387Z"
   },
   {
    "duration": 0,
    "start_time": "2023-10-04T21:15:25.388Z"
   },
   {
    "duration": 0,
    "start_time": "2023-10-04T21:15:25.389Z"
   },
   {
    "duration": 0,
    "start_time": "2023-10-04T21:15:25.390Z"
   },
   {
    "duration": 0,
    "start_time": "2023-10-04T21:15:25.393Z"
   },
   {
    "duration": 0,
    "start_time": "2023-10-04T21:15:25.394Z"
   },
   {
    "duration": 0,
    "start_time": "2023-10-04T21:15:25.395Z"
   },
   {
    "duration": 0,
    "start_time": "2023-10-04T21:15:25.396Z"
   },
   {
    "duration": 0,
    "start_time": "2023-10-04T21:15:25.397Z"
   },
   {
    "duration": 0,
    "start_time": "2023-10-04T21:15:25.460Z"
   },
   {
    "duration": 0,
    "start_time": "2023-10-04T21:15:25.461Z"
   },
   {
    "duration": 0,
    "start_time": "2023-10-04T21:15:25.461Z"
   },
   {
    "duration": 0,
    "start_time": "2023-10-04T21:15:25.462Z"
   },
   {
    "duration": 0,
    "start_time": "2023-10-04T21:15:25.462Z"
   },
   {
    "duration": 0,
    "start_time": "2023-10-04T21:15:25.463Z"
   },
   {
    "duration": 5,
    "start_time": "2023-10-04T21:15:54.678Z"
   },
   {
    "duration": 60,
    "start_time": "2023-10-04T21:15:55.181Z"
   },
   {
    "duration": 65,
    "start_time": "2023-10-04T21:16:47.468Z"
   },
   {
    "duration": 3227,
    "start_time": "2023-10-04T21:17:05.153Z"
   },
   {
    "duration": 18,
    "start_time": "2023-10-04T21:17:14.419Z"
   },
   {
    "duration": 187,
    "start_time": "2023-10-04T21:17:14.438Z"
   },
   {
    "duration": 3,
    "start_time": "2023-10-04T21:17:14.627Z"
   },
   {
    "duration": 73,
    "start_time": "2023-10-04T21:17:14.631Z"
   },
   {
    "duration": 322,
    "start_time": "2023-10-04T21:17:14.706Z"
   },
   {
    "duration": 466,
    "start_time": "2023-10-04T21:17:15.030Z"
   },
   {
    "duration": 621,
    "start_time": "2023-10-04T21:17:15.497Z"
   },
   {
    "duration": 21,
    "start_time": "2023-10-04T21:17:16.119Z"
   },
   {
    "duration": 56,
    "start_time": "2023-10-04T21:17:16.141Z"
   },
   {
    "duration": 36,
    "start_time": "2023-10-04T21:17:16.199Z"
   },
   {
    "duration": 282,
    "start_time": "2023-10-04T21:17:16.237Z"
   },
   {
    "duration": 407,
    "start_time": "2023-10-04T21:17:16.521Z"
   },
   {
    "duration": 45,
    "start_time": "2023-10-04T21:17:16.930Z"
   },
   {
    "duration": 102,
    "start_time": "2023-10-04T21:17:16.979Z"
   },
   {
    "duration": 35,
    "start_time": "2023-10-04T21:17:17.083Z"
   },
   {
    "duration": 55,
    "start_time": "2023-10-04T21:17:17.120Z"
   },
   {
    "duration": 31,
    "start_time": "2023-10-04T21:17:17.177Z"
   },
   {
    "duration": 48,
    "start_time": "2023-10-04T21:17:17.210Z"
   },
   {
    "duration": 35,
    "start_time": "2023-10-04T21:17:17.259Z"
   },
   {
    "duration": 91,
    "start_time": "2023-10-04T21:17:17.296Z"
   },
   {
    "duration": 3,
    "start_time": "2023-10-04T21:17:17.389Z"
   },
   {
    "duration": 18940,
    "start_time": "2023-10-04T21:17:17.393Z"
   },
   {
    "duration": 59,
    "start_time": "2023-10-04T21:17:36.335Z"
   },
   {
    "duration": 15,
    "start_time": "2023-10-04T21:17:36.395Z"
   },
   {
    "duration": 6,
    "start_time": "2023-10-04T21:17:36.412Z"
   },
   {
    "duration": 9,
    "start_time": "2023-10-04T21:17:36.420Z"
   },
   {
    "duration": 5,
    "start_time": "2023-10-04T21:17:36.431Z"
   },
   {
    "duration": 95,
    "start_time": "2023-10-04T21:17:36.438Z"
   },
   {
    "duration": 1592,
    "start_time": "2023-10-04T21:17:36.535Z"
   },
   {
    "duration": 602,
    "start_time": "2023-10-04T21:17:38.129Z"
   },
   {
    "duration": 4037,
    "start_time": "2023-10-04T21:17:38.732Z"
   },
   {
    "duration": 119,
    "start_time": "2023-10-04T21:17:42.773Z"
   },
   {
    "duration": 74,
    "start_time": "2023-10-04T21:17:42.894Z"
   },
   {
    "duration": 627,
    "start_time": "2023-10-04T21:17:42.970Z"
   },
   {
    "duration": 4,
    "start_time": "2023-10-04T21:17:43.599Z"
   },
   {
    "duration": 4,
    "start_time": "2023-10-04T21:17:43.605Z"
   },
   {
    "duration": 126,
    "start_time": "2023-10-04T21:17:43.610Z"
   },
   {
    "duration": 2,
    "start_time": "2023-10-04T21:17:43.738Z"
   },
   {
    "duration": 17,
    "start_time": "2023-10-04T21:17:43.742Z"
   },
   {
    "duration": 10,
    "start_time": "2023-10-04T21:17:43.761Z"
   },
   {
    "duration": 40587,
    "start_time": "2023-10-04T21:17:43.775Z"
   },
   {
    "duration": 85004,
    "start_time": "2023-10-04T21:18:24.364Z"
   },
   {
    "duration": 147382,
    "start_time": "2023-10-04T21:19:49.371Z"
   },
   {
    "duration": 13,
    "start_time": "2023-10-04T21:22:16.759Z"
   },
   {
    "duration": 24619,
    "start_time": "2023-10-04T21:22:16.774Z"
   },
   {
    "duration": 30781,
    "start_time": "2023-10-04T21:22:41.394Z"
   },
   {
    "duration": 2394,
    "start_time": "2023-10-04T21:23:12.177Z"
   },
   {
    "duration": 5,
    "start_time": "2023-10-04T21:23:14.572Z"
   },
   {
    "duration": 42208,
    "start_time": "2023-10-04T21:23:14.578Z"
   },
   {
    "duration": 7,
    "start_time": "2023-10-04T21:23:56.788Z"
   },
   {
    "duration": 4249,
    "start_time": "2023-10-04T21:23:56.797Z"
   },
   {
    "duration": 3166,
    "start_time": "2023-10-04T21:24:01.048Z"
   },
   {
    "duration": 353,
    "start_time": "2023-10-04T21:24:04.215Z"
   },
   {
    "duration": 5,
    "start_time": "2023-10-04T21:24:04.570Z"
   },
   {
    "duration": 136686,
    "start_time": "2023-10-04T21:24:04.576Z"
   },
   {
    "duration": 6,
    "start_time": "2023-10-04T21:26:21.265Z"
   },
   {
    "duration": 10796,
    "start_time": "2023-10-04T21:26:21.273Z"
   },
   {
    "duration": 80093,
    "start_time": "2023-10-04T21:26:32.071Z"
   },
   {
    "duration": 4001,
    "start_time": "2023-10-04T21:27:52.166Z"
   },
   {
    "duration": 5,
    "start_time": "2023-10-04T21:27:56.176Z"
   },
   {
    "duration": 13,
    "start_time": "2023-10-04T21:27:56.183Z"
   },
   {
    "duration": 13,
    "start_time": "2023-10-04T21:27:56.198Z"
   },
   {
    "duration": 28,
    "start_time": "2023-10-04T21:27:56.258Z"
   },
   {
    "duration": 8983,
    "start_time": "2023-10-04T21:27:56.288Z"
   },
   {
    "duration": 505,
    "start_time": "2023-10-04T21:28:05.273Z"
   },
   {
    "duration": 7,
    "start_time": "2023-10-04T21:28:05.780Z"
   },
   {
    "duration": 12170,
    "start_time": "2023-10-04T21:28:05.789Z"
   },
   {
    "duration": 9,
    "start_time": "2023-10-04T21:28:17.969Z"
   },
   {
    "duration": 107,
    "start_time": "2023-10-05T20:18:32.873Z"
   },
   {
    "duration": 1724,
    "start_time": "2023-10-05T20:19:53.647Z"
   },
   {
    "duration": 3059,
    "start_time": "2023-10-05T20:19:55.373Z"
   },
   {
    "duration": 20,
    "start_time": "2023-10-05T20:19:58.434Z"
   },
   {
    "duration": 150,
    "start_time": "2023-10-05T20:19:58.457Z"
   },
   {
    "duration": 3,
    "start_time": "2023-10-05T20:19:58.609Z"
   },
   {
    "duration": 75,
    "start_time": "2023-10-05T20:19:58.614Z"
   },
   {
    "duration": 380,
    "start_time": "2023-10-05T20:19:58.691Z"
   },
   {
    "duration": 496,
    "start_time": "2023-10-05T20:19:59.073Z"
   },
   {
    "duration": 622,
    "start_time": "2023-10-05T20:19:59.571Z"
   },
   {
    "duration": 22,
    "start_time": "2023-10-05T20:20:00.196Z"
   },
   {
    "duration": 59,
    "start_time": "2023-10-05T20:20:00.219Z"
   },
   {
    "duration": 36,
    "start_time": "2023-10-05T20:20:00.280Z"
   },
   {
    "duration": 297,
    "start_time": "2023-10-05T20:20:00.318Z"
   },
   {
    "duration": 386,
    "start_time": "2023-10-05T20:20:00.618Z"
   },
   {
    "duration": 28,
    "start_time": "2023-10-05T20:20:01.006Z"
   },
   {
    "duration": 109,
    "start_time": "2023-10-05T20:20:01.036Z"
   },
   {
    "duration": 33,
    "start_time": "2023-10-05T20:20:01.147Z"
   },
   {
    "duration": 60,
    "start_time": "2023-10-05T20:20:01.182Z"
   },
   {
    "duration": 47,
    "start_time": "2023-10-05T20:20:01.244Z"
   },
   {
    "duration": 44,
    "start_time": "2023-10-05T20:20:01.293Z"
   },
   {
    "duration": 59,
    "start_time": "2023-10-05T20:20:01.338Z"
   },
   {
    "duration": 105,
    "start_time": "2023-10-05T20:20:01.399Z"
   },
   {
    "duration": 3,
    "start_time": "2023-10-05T20:20:01.506Z"
   },
   {
    "duration": 18410,
    "start_time": "2023-10-05T20:20:01.510Z"
   },
   {
    "duration": 58,
    "start_time": "2023-10-05T20:20:19.963Z"
   },
   {
    "duration": 35,
    "start_time": "2023-10-05T20:20:20.023Z"
   },
   {
    "duration": 3,
    "start_time": "2023-10-05T20:20:20.061Z"
   },
   {
    "duration": 23,
    "start_time": "2023-10-05T20:20:20.068Z"
   },
   {
    "duration": 25,
    "start_time": "2023-10-05T20:20:20.093Z"
   },
   {
    "duration": 103,
    "start_time": "2023-10-05T20:20:20.120Z"
   },
   {
    "duration": 1950,
    "start_time": "2023-10-05T20:20:20.225Z"
   },
   {
    "duration": 4,
    "start_time": "2023-10-05T20:20:22.177Z"
   },
   {
    "duration": 3503,
    "start_time": "2023-10-05T20:20:22.183Z"
   },
   {
    "duration": 109,
    "start_time": "2023-10-05T20:20:25.688Z"
   },
   {
    "duration": 58,
    "start_time": "2023-10-05T20:20:25.799Z"
   },
   {
    "duration": 616,
    "start_time": "2023-10-05T20:20:25.860Z"
   },
   {
    "duration": 5,
    "start_time": "2023-10-05T20:20:26.478Z"
   },
   {
    "duration": 45,
    "start_time": "2023-10-05T20:20:26.485Z"
   },
   {
    "duration": 162,
    "start_time": "2023-10-05T20:20:26.532Z"
   },
   {
    "duration": 2,
    "start_time": "2023-10-05T20:20:26.696Z"
   },
   {
    "duration": 12,
    "start_time": "2023-10-05T20:20:26.700Z"
   },
   {
    "duration": 53,
    "start_time": "2023-10-05T20:20:26.714Z"
   },
   {
    "duration": 39488,
    "start_time": "2023-10-05T20:20:26.769Z"
   },
   {
    "duration": 60800,
    "start_time": "2023-10-05T20:21:06.260Z"
   },
   {
    "duration": 150130,
    "start_time": "2023-10-05T20:22:07.063Z"
   },
   {
    "duration": 4,
    "start_time": "2023-10-05T20:24:37.195Z"
   },
   {
    "duration": 25185,
    "start_time": "2023-10-05T20:24:37.201Z"
   },
   {
    "duration": 32971,
    "start_time": "2023-10-05T20:25:02.388Z"
   },
   {
    "duration": 2448,
    "start_time": "2023-10-05T20:25:35.361Z"
   },
   {
    "duration": 5,
    "start_time": "2023-10-05T20:25:37.811Z"
   },
   {
    "duration": 44003,
    "start_time": "2023-10-05T20:25:37.818Z"
   },
   {
    "duration": 5,
    "start_time": "2023-10-05T20:26:21.822Z"
   },
   {
    "duration": 4323,
    "start_time": "2023-10-05T20:26:21.828Z"
   },
   {
    "duration": 3582,
    "start_time": "2023-10-05T20:26:26.153Z"
   },
   {
    "duration": 415,
    "start_time": "2023-10-05T20:26:29.737Z"
   },
   {
    "duration": 9,
    "start_time": "2023-10-05T20:26:30.154Z"
   },
   {
    "duration": 89097,
    "start_time": "2023-10-05T20:26:30.165Z"
   },
   {
    "duration": 5,
    "start_time": "2023-10-05T20:27:59.264Z"
   },
   {
    "duration": 5095,
    "start_time": "2023-10-05T20:27:59.270Z"
   },
   {
    "duration": 17794,
    "start_time": "2023-10-05T20:28:04.367Z"
   },
   {
    "duration": 1299,
    "start_time": "2023-10-05T20:28:22.162Z"
   },
   {
    "duration": 5,
    "start_time": "2023-10-05T20:28:23.462Z"
   },
   {
    "duration": 9,
    "start_time": "2023-10-05T20:28:23.468Z"
   },
   {
    "duration": 29,
    "start_time": "2023-10-05T20:28:23.479Z"
   },
   {
    "duration": 40,
    "start_time": "2023-10-05T20:28:23.509Z"
   },
   {
    "duration": 3413,
    "start_time": "2023-10-05T20:28:23.550Z"
   },
   {
    "duration": 500,
    "start_time": "2023-10-05T20:28:26.964Z"
   },
   {
    "duration": 5,
    "start_time": "2023-10-05T20:28:27.466Z"
   },
   {
    "duration": 7,
    "start_time": "2023-10-05T20:28:27.472Z"
   },
   {
    "duration": 1689,
    "start_time": "2023-10-05T20:30:28.529Z"
   },
   {
    "duration": 982,
    "start_time": "2023-10-05T20:30:30.220Z"
   },
   {
    "duration": 19,
    "start_time": "2023-10-05T20:30:31.204Z"
   },
   {
    "duration": 160,
    "start_time": "2023-10-05T20:30:31.226Z"
   },
   {
    "duration": 28,
    "start_time": "2023-10-05T20:30:31.387Z"
   },
   {
    "duration": 111,
    "start_time": "2023-10-05T20:30:31.417Z"
   },
   {
    "duration": 302,
    "start_time": "2023-10-05T20:30:31.530Z"
   },
   {
    "duration": 499,
    "start_time": "2023-10-05T20:30:31.834Z"
   },
   {
    "duration": 675,
    "start_time": "2023-10-05T20:30:32.335Z"
   },
   {
    "duration": 20,
    "start_time": "2023-10-05T20:30:33.012Z"
   },
   {
    "duration": 62,
    "start_time": "2023-10-05T20:30:33.033Z"
   },
   {
    "duration": 33,
    "start_time": "2023-10-05T20:30:33.097Z"
   },
   {
    "duration": 282,
    "start_time": "2023-10-05T20:30:33.132Z"
   },
   {
    "duration": 414,
    "start_time": "2023-10-05T20:30:33.416Z"
   },
   {
    "duration": 40,
    "start_time": "2023-10-05T20:30:33.832Z"
   },
   {
    "duration": 93,
    "start_time": "2023-10-05T20:30:33.874Z"
   },
   {
    "duration": 33,
    "start_time": "2023-10-05T20:30:33.969Z"
   },
   {
    "duration": 32,
    "start_time": "2023-10-05T20:30:34.004Z"
   },
   {
    "duration": 48,
    "start_time": "2023-10-05T20:30:34.038Z"
   },
   {
    "duration": 137,
    "start_time": "2023-10-05T20:30:34.088Z"
   },
   {
    "duration": 37,
    "start_time": "2023-10-05T20:30:34.227Z"
   },
   {
    "duration": 109,
    "start_time": "2023-10-05T20:30:34.266Z"
   },
   {
    "duration": 3,
    "start_time": "2023-10-05T20:30:34.376Z"
   },
   {
    "duration": 18361,
    "start_time": "2023-10-05T20:30:34.380Z"
   },
   {
    "duration": 46,
    "start_time": "2023-10-05T20:30:52.743Z"
   },
   {
    "duration": 14,
    "start_time": "2023-10-05T20:30:52.791Z"
   },
   {
    "duration": 3,
    "start_time": "2023-10-05T20:30:52.807Z"
   },
   {
    "duration": 3,
    "start_time": "2023-10-05T20:30:52.815Z"
   },
   {
    "duration": 13,
    "start_time": "2023-10-05T20:30:52.820Z"
   },
   {
    "duration": 92,
    "start_time": "2023-10-05T20:30:52.835Z"
   },
   {
    "duration": 2088,
    "start_time": "2023-10-05T20:30:52.928Z"
   },
   {
    "duration": 4,
    "start_time": "2023-10-05T20:30:55.018Z"
   },
   {
    "duration": 3746,
    "start_time": "2023-10-05T20:30:55.023Z"
   },
   {
    "duration": 134,
    "start_time": "2023-10-05T20:30:58.771Z"
   },
   {
    "duration": 74,
    "start_time": "2023-10-05T20:30:58.908Z"
   },
   {
    "duration": 680,
    "start_time": "2023-10-05T20:30:58.984Z"
   },
   {
    "duration": 3,
    "start_time": "2023-10-05T20:30:59.666Z"
   },
   {
    "duration": 44,
    "start_time": "2023-10-05T20:30:59.671Z"
   },
   {
    "duration": 116,
    "start_time": "2023-10-05T20:30:59.717Z"
   },
   {
    "duration": 3,
    "start_time": "2023-10-05T20:30:59.835Z"
   },
   {
    "duration": 32,
    "start_time": "2023-10-05T20:30:59.839Z"
   },
   {
    "duration": 8,
    "start_time": "2023-10-05T20:30:59.873Z"
   },
   {
    "duration": 25274,
    "start_time": "2023-10-05T20:30:59.883Z"
   },
   {
    "duration": 49904,
    "start_time": "2023-10-05T20:31:25.160Z"
   },
   {
    "duration": 142449,
    "start_time": "2023-10-05T20:32:15.066Z"
   },
   {
    "duration": 4,
    "start_time": "2023-10-05T20:34:37.517Z"
   },
   {
    "duration": 24159,
    "start_time": "2023-10-05T20:34:37.524Z"
   },
   {
    "duration": 33027,
    "start_time": "2023-10-05T20:35:01.686Z"
   },
   {
    "duration": 2360,
    "start_time": "2023-10-05T20:35:34.714Z"
   },
   {
    "duration": 5,
    "start_time": "2023-10-05T20:35:37.076Z"
   },
   {
    "duration": 43205,
    "start_time": "2023-10-05T20:35:37.083Z"
   },
   {
    "duration": 4,
    "start_time": "2023-10-05T20:36:20.290Z"
   },
   {
    "duration": 4213,
    "start_time": "2023-10-05T20:36:20.295Z"
   },
   {
    "duration": 3200,
    "start_time": "2023-10-05T20:36:24.509Z"
   },
   {
    "duration": 390,
    "start_time": "2023-10-05T20:36:27.711Z"
   },
   {
    "duration": 4,
    "start_time": "2023-10-05T20:36:28.104Z"
   },
   {
    "duration": 356254,
    "start_time": "2023-10-05T20:36:28.109Z"
   },
   {
    "duration": 5,
    "start_time": "2023-10-05T20:42:24.365Z"
   },
   {
    "duration": 22823,
    "start_time": "2023-10-05T20:42:24.371Z"
   },
   {
    "duration": 202962,
    "start_time": "2023-10-05T20:42:47.196Z"
   },
   {
    "duration": 14611,
    "start_time": "2023-10-05T20:46:10.161Z"
   },
   {
    "duration": 6,
    "start_time": "2023-10-05T20:46:24.774Z"
   },
   {
    "duration": 79,
    "start_time": "2023-10-05T20:46:24.782Z"
   },
   {
    "duration": 29,
    "start_time": "2023-10-05T20:46:24.863Z"
   },
   {
    "duration": 43,
    "start_time": "2023-10-05T20:46:24.894Z"
   },
   {
    "duration": 17433,
    "start_time": "2023-10-05T20:46:24.939Z"
   },
   {
    "duration": 496,
    "start_time": "2023-10-05T20:46:42.375Z"
   },
   {
    "duration": 82,
    "start_time": "2023-10-05T20:46:42.876Z"
   },
   {
    "duration": 9,
    "start_time": "2023-10-05T20:46:42.961Z"
   }
  ],
  "kernelspec": {
   "display_name": "Python 3 (ipykernel)",
   "language": "python",
   "name": "python3"
  },
  "language_info": {
   "codemirror_mode": {
    "name": "ipython",
    "version": 3
   },
   "file_extension": ".py",
   "mimetype": "text/x-python",
   "name": "python",
   "nbconvert_exporter": "python",
   "pygments_lexer": "ipython3",
   "version": "3.9.5"
  },
  "toc": {
   "base_numbering": 1,
   "nav_menu": {},
   "number_sections": true,
   "sideBar": true,
   "skip_h1_title": true,
   "title_cell": "Table of Contents",
   "title_sidebar": "Contents",
   "toc_cell": false,
   "toc_position": {},
   "toc_section_display": true,
   "toc_window_display": false
  }
 },
 "nbformat": 4,
 "nbformat_minor": 2
}
